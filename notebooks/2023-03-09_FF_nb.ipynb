{
 "cells": [
  {
   "cell_type": "markdown",
   "metadata": {},
   "source": [
    "This is a retrospective data analysis of our ESPN Fantasy Football league data at the end of Week 17 for the 2022 season. The code can be re-used for any past season using the same ESPN API.\n",
    "\n",
    "I used the [Pro Football Reference](https://www.pro-football-reference.com/years/2022/games.htm) for NFL schedules and [Christian Wendt's ESPN Fantasy Football API](https://github.com/cwendt94/espn-api) to extract ESPN league-specific data.\n",
    "\n",
    "For data visualization, I used the [Altair Data Visualization Library](https://altair-viz.github.io/). Altair was chosen for its interactivity, especially for its ability to display hover data and the compatibility of interactive plots with GitHub Pages.\n",
    "\n",
    "One question this analysis can answer is: what was the return on investment of a given players with fantasy draft or waiver budget dollars (FAAB).\n",
    "\n",
    "See src directory for source code."
   ]
  },
  {
   "cell_type": "code",
   "execution_count": 1,
   "metadata": {},
   "outputs": [
    {
     "name": "stdout",
     "output_type": "stream",
     "text": [
      "/Users/jonathancheng/PycharmProjects/espnff/src\n"
     ]
    }
   ],
   "source": [
    "%cd /Users/jonathancheng/PycharmProjects/espnff/src/\n",
    "\n",
    "import nfl_schedule as nf\n",
    "import ff_league_data as ff\n",
    "from plotting import scatterplot_acquisitions\n"
   ]
  },
  {
   "cell_type": "markdown",
   "metadata": {},
   "source": [
    "## Get NFL Schedule"
   ]
  },
  {
   "cell_type": "code",
   "execution_count": 2,
   "metadata": {},
   "outputs": [],
   "source": [
    "year_of_interest=2022\n",
    "\n",
    "path = r'/Users/jonathancheng/PycharmProjects/espnff/data'\n",
    "\n",
    "league_id = 1094090\n",
    "year = year_of_interest\n",
    "\n",
    "swid = \"{F191FB8C-DB2D-4D24-91FB-8CDB2DED249D}\"\n",
    "s2='AECJMQHsUHB0FTXdZkw93uY7GRbX8BPnm93Ye6AwvwrMsrZFGg1Lbmi07SWVov2ioN8zGMFDzZiiDSeQCa7WQHaGivGnMfGWLjmfGwkOeLXb5baD1sltp%2B%2BIfHAtl98TpmHgB16ZpGn6g3Bm5vLEA7yDC6HkbD3LSp0E2rGB7hKziLMvZ7mT6ONJFRe8Xp3ApYWSvxPr9cz0pJiI%2FF0blsZ8hyATDJMEyaQ2O%2FypcsViORr6hqYTmXHPuPKnMBfvYC8LQqi1exGw3vnyg6ptsB2Y'\n",
    "\n",
    "espn_s2 = s2\n"
   ]
  },
  {
   "cell_type": "code",
   "execution_count": 3,
   "metadata": {},
   "outputs": [],
   "source": [
    "df_proteam_schedule = nf.get_nfl_schedule(year_of_interest)\n",
    "season_start_date = nf.get_season_start_date(df_proteam_schedule)"
   ]
  },
  {
   "cell_type": "markdown",
   "metadata": {},
   "source": [
    "## Generate League object"
   ]
  },
  {
   "cell_type": "code",
   "execution_count": 4,
   "metadata": {},
   "outputs": [],
   "source": [
    "league = ff.fetch_espn_api(league_id, year, espn_s2, swid)\n",
    "activity_ls = league.recent_activity(1000000)\n",
    "wk_ls = ff.get_weeks(league)"
   ]
  },
  {
   "cell_type": "markdown",
   "metadata": {},
   "source": [
    "## Get Acquisitions Data"
   ]
  },
  {
   "cell_type": "code",
   "execution_count": 5,
   "metadata": {},
   "outputs": [],
   "source": [
    "# fetch league data, wrangle into acquisitions DataFrame\n",
    "\n",
    "acq_data_flat_ls = ff.get_acq_ls(activity_ls)\n",
    "\n",
    "df_acq = ff.build_df_acq(acq_data_flat_ls)"
   ]
  },
  {
   "cell_type": "markdown",
   "metadata": {},
   "source": [
    "## Get Draft Data"
   ]
  },
  {
   "cell_type": "code",
   "execution_count": 6,
   "metadata": {},
   "outputs": [],
   "source": [
    "df_draft,drafted_players = ff.build_df_draft(league)"
   ]
  },
  {
   "cell_type": "markdown",
   "metadata": {},
   "source": [
    "## Get total points of rostered players Dataframe"
   ]
  },
  {
   "cell_type": "code",
   "execution_count": 7,
   "metadata": {},
   "outputs": [],
   "source": [
    "df_rostered = ff.build_df_rostered(league)"
   ]
  },
  {
   "cell_type": "markdown",
   "metadata": {},
   "source": [
    "## Get total points of free agent players Dataframe"
   ]
  },
  {
   "cell_type": "code",
   "execution_count": 8,
   "metadata": {},
   "outputs": [],
   "source": [
    "df_FA = ff.build_df_FA(league)"
   ]
  },
  {
   "cell_type": "code",
   "execution_count": 9,
   "metadata": {},
   "outputs": [],
   "source": [
    "# Generate all player stats dataframe, including all Free Agents\n",
    "df_player_stats = ff.build_df_player_stats(df_rostered,df_FA)"
   ]
  },
  {
   "cell_type": "code",
   "execution_count": 10,
   "metadata": {},
   "outputs": [],
   "source": [
    "df_draft_stats = ff.build_df_draft_stats(df_draft,df_player_stats)\n",
    "df_acq_stats = ff.build_df_acq_stats(df_acq,df_player_stats)\n",
    "df_acq_final = ff.build_df_acq_final(season_start_date, df_draft_stats, df_acq_stats, drafted_players)"
   ]
  },
  {
   "cell_type": "markdown",
   "metadata": {},
   "source": [
    "## Get player_box_scores from fantasy season"
   ]
  },
  {
   "cell_type": "code",
   "execution_count": 11,
   "metadata": {},
   "outputs": [],
   "source": [
    "df_player_box_scores = ff.build_df_player_box_scores(league, wk_ls)"
   ]
  },
  {
   "cell_type": "markdown",
   "metadata": {},
   "source": [
    "## Construct df_stints"
   ]
  },
  {
   "cell_type": "code",
   "execution_count": 12,
   "metadata": {},
   "outputs": [],
   "source": [
    "df_stints=ff.build_df_stints(df_acq_final, df_proteam_schedule, df_player_stats, drafted_players)"
   ]
  },
  {
   "cell_type": "code",
   "execution_count": 13,
   "metadata": {},
   "outputs": [],
   "source": [
    "\n",
    "df_stints['Total points per stint'] = df_stints.apply(lambda x: ff.get_total_pts_per_player(x['Player'], x['Stint (wks)'], df_player_box_scores),axis=1).fillna(0)"
   ]
  },
  {
   "cell_type": "code",
   "execution_count": 14,
   "metadata": {},
   "outputs": [
    {
     "data": {
      "text/html": [
       "<div>\n",
       "<style scoped>\n",
       "    .dataframe tbody tr th:only-of-type {\n",
       "        vertical-align: middle;\n",
       "    }\n",
       "\n",
       "    .dataframe tbody tr th {\n",
       "        vertical-align: top;\n",
       "    }\n",
       "\n",
       "    .dataframe thead th {\n",
       "        text-align: right;\n",
       "    }\n",
       "</style>\n",
       "<table border=\"1\" class=\"dataframe\">\n",
       "  <thead>\n",
       "    <tr style=\"text-align: right;\">\n",
       "      <th></th>\n",
       "      <th>Stint_id</th>\n",
       "      <th>Player</th>\n",
       "      <th>Team</th>\n",
       "      <th>ProTeam</th>\n",
       "      <th>Added</th>\n",
       "      <th>Bid Amount ($)</th>\n",
       "      <th>Dropped</th>\n",
       "      <th>Stint (wks)</th>\n",
       "      <th>Position</th>\n",
       "      <th>Drafted</th>\n",
       "      <th>Total points per stint</th>\n",
       "    </tr>\n",
       "  </thead>\n",
       "  <tbody>\n",
       "    <tr>\n",
       "      <th>0</th>\n",
       "      <td>0</td>\n",
       "      <td>49ers D/ST</td>\n",
       "      <td>Big Joshy Style</td>\n",
       "      <td>SF</td>\n",
       "      <td>2022-09-07</td>\n",
       "      <td>1</td>\n",
       "      <td>NaT</td>\n",
       "      <td>[1, 2, 3, 4, 5, 6, 7, 8, 10, 11, 12, 13, 14, 1...</td>\n",
       "      <td>D/ST</td>\n",
       "      <td>True</td>\n",
       "      <td>140.0</td>\n",
       "    </tr>\n",
       "    <tr>\n",
       "      <th>1</th>\n",
       "      <td>1</td>\n",
       "      <td>A.J. Brown</td>\n",
       "      <td>Ice City USA</td>\n",
       "      <td>PHI</td>\n",
       "      <td>2022-09-07</td>\n",
       "      <td>34</td>\n",
       "      <td>NaT</td>\n",
       "      <td>[1, 2, 3, 4, 5, 6, 8, 9, 10, 11, 12, 13, 14, 1...</td>\n",
       "      <td>WR</td>\n",
       "      <td>True</td>\n",
       "      <td>244.1</td>\n",
       "    </tr>\n",
       "    <tr>\n",
       "      <th>2</th>\n",
       "      <td>2</td>\n",
       "      <td>AJ Dillon</td>\n",
       "      <td>The Genaissance</td>\n",
       "      <td>GB</td>\n",
       "      <td>2022-09-07</td>\n",
       "      <td>4</td>\n",
       "      <td>NaT</td>\n",
       "      <td>[1, 2, 3, 4, 5, 6, 7, 8, 9, 10, 11, 12, 13, 15...</td>\n",
       "      <td>RB</td>\n",
       "      <td>True</td>\n",
       "      <td>150.3</td>\n",
       "    </tr>\n",
       "    <tr>\n",
       "      <th>3</th>\n",
       "      <td>3</td>\n",
       "      <td>Aaron Jones</td>\n",
       "      <td>Kirk-life Balance</td>\n",
       "      <td>GB</td>\n",
       "      <td>2022-09-07</td>\n",
       "      <td>42</td>\n",
       "      <td>NaT</td>\n",
       "      <td>[1, 2, 3, 4, 5, 6, 7, 8, 9, 10, 11, 12, 13, 15...</td>\n",
       "      <td>RB</td>\n",
       "      <td>True</td>\n",
       "      <td>212.8</td>\n",
       "    </tr>\n",
       "    <tr>\n",
       "      <th>4</th>\n",
       "      <td>4</td>\n",
       "      <td>Aaron Rodgers</td>\n",
       "      <td>Frankel's Cankles</td>\n",
       "      <td>GB</td>\n",
       "      <td>2022-09-07</td>\n",
       "      <td>3</td>\n",
       "      <td>NaT</td>\n",
       "      <td>[1, 2, 3, 4, 5, 6, 7, 8, 9, 10, 11, 12, 13, 15...</td>\n",
       "      <td>QB</td>\n",
       "      <td>True</td>\n",
       "      <td>226.6</td>\n",
       "    </tr>\n",
       "  </tbody>\n",
       "</table>\n",
       "</div>"
      ],
      "text/plain": [
       "   Stint_id         Player               Team ProTeam      Added  \\\n",
       "0         0     49ers D/ST    Big Joshy Style      SF 2022-09-07   \n",
       "1         1     A.J. Brown       Ice City USA     PHI 2022-09-07   \n",
       "2         2      AJ Dillon    The Genaissance      GB 2022-09-07   \n",
       "3         3    Aaron Jones  Kirk-life Balance      GB 2022-09-07   \n",
       "4         4  Aaron Rodgers  Frankel's Cankles      GB 2022-09-07   \n",
       "\n",
       "   Bid Amount ($) Dropped                                        Stint (wks)  \\\n",
       "0               1     NaT  [1, 2, 3, 4, 5, 6, 7, 8, 10, 11, 12, 13, 14, 1...   \n",
       "1              34     NaT  [1, 2, 3, 4, 5, 6, 8, 9, 10, 11, 12, 13, 14, 1...   \n",
       "2               4     NaT  [1, 2, 3, 4, 5, 6, 7, 8, 9, 10, 11, 12, 13, 15...   \n",
       "3              42     NaT  [1, 2, 3, 4, 5, 6, 7, 8, 9, 10, 11, 12, 13, 15...   \n",
       "4               3     NaT  [1, 2, 3, 4, 5, 6, 7, 8, 9, 10, 11, 12, 13, 15...   \n",
       "\n",
       "  Position  Drafted  Total points per stint  \n",
       "0     D/ST     True                   140.0  \n",
       "1       WR     True                   244.1  \n",
       "2       RB     True                   150.3  \n",
       "3       RB     True                   212.8  \n",
       "4       QB     True                   226.6  "
      ]
     },
     "execution_count": 14,
     "metadata": {},
     "output_type": "execute_result"
    }
   ],
   "source": [
    "df_stints.head()"
   ]
  },
  {
   "cell_type": "markdown",
   "metadata": {},
   "source": [
    "Running Backs in the Draft"
   ]
  },
  {
   "cell_type": "code",
   "execution_count": 15,
   "metadata": {},
   "outputs": [
    {
     "data": {
      "text/html": [
       "\n",
       "<div id=\"altair-viz-0a588b5b4dc34889bd79c1f62daf4c54\"></div>\n",
       "<script type=\"text/javascript\">\n",
       "  var VEGA_DEBUG = (typeof VEGA_DEBUG == \"undefined\") ? {} : VEGA_DEBUG;\n",
       "  (function(spec, embedOpt){\n",
       "    let outputDiv = document.currentScript.previousElementSibling;\n",
       "    if (outputDiv.id !== \"altair-viz-0a588b5b4dc34889bd79c1f62daf4c54\") {\n",
       "      outputDiv = document.getElementById(\"altair-viz-0a588b5b4dc34889bd79c1f62daf4c54\");\n",
       "    }\n",
       "    const paths = {\n",
       "      \"vega\": \"https://cdn.jsdelivr.net/npm//vega@5?noext\",\n",
       "      \"vega-lib\": \"https://cdn.jsdelivr.net/npm//vega-lib?noext\",\n",
       "      \"vega-lite\": \"https://cdn.jsdelivr.net/npm//vega-lite@4.17.0?noext\",\n",
       "      \"vega-embed\": \"https://cdn.jsdelivr.net/npm//vega-embed@6?noext\",\n",
       "    };\n",
       "\n",
       "    function maybeLoadScript(lib, version) {\n",
       "      var key = `${lib.replace(\"-\", \"\")}_version`;\n",
       "      return (VEGA_DEBUG[key] == version) ?\n",
       "        Promise.resolve(paths[lib]) :\n",
       "        new Promise(function(resolve, reject) {\n",
       "          var s = document.createElement('script');\n",
       "          document.getElementsByTagName(\"head\")[0].appendChild(s);\n",
       "          s.async = true;\n",
       "          s.onload = () => {\n",
       "            VEGA_DEBUG[key] = version;\n",
       "            return resolve(paths[lib]);\n",
       "          };\n",
       "          s.onerror = () => reject(`Error loading script: ${paths[lib]}`);\n",
       "          s.src = paths[lib];\n",
       "        });\n",
       "    }\n",
       "\n",
       "    function showError(err) {\n",
       "      outputDiv.innerHTML = `<div class=\"error\" style=\"color:red;\">${err}</div>`;\n",
       "      throw err;\n",
       "    }\n",
       "\n",
       "    function displayChart(vegaEmbed) {\n",
       "      vegaEmbed(outputDiv, spec, embedOpt)\n",
       "        .catch(err => showError(`Javascript Error: ${err.message}<br>This usually means there's a typo in your chart specification. See the javascript console for the full traceback.`));\n",
       "    }\n",
       "\n",
       "    if(typeof define === \"function\" && define.amd) {\n",
       "      requirejs.config({paths});\n",
       "      require([\"vega-embed\"], displayChart, err => showError(`Error loading script: ${err.message}`));\n",
       "    } else {\n",
       "      maybeLoadScript(\"vega\", \"5\")\n",
       "        .then(() => maybeLoadScript(\"vega-lite\", \"4.17.0\"))\n",
       "        .then(() => maybeLoadScript(\"vega-embed\", \"6\"))\n",
       "        .catch(showError)\n",
       "        .then(() => displayChart(vegaEmbed));\n",
       "    }\n",
       "  })({\"config\": {\"view\": {\"continuousWidth\": 400, \"continuousHeight\": 300}, \"axis\": {\"labelFontSize\": 18, \"titleFontSize\": 18}, \"legend\": {\"labelFontSize\": 14, \"titleFontSize\": 14}, \"title\": {\"fontSize\": 20}}, \"data\": {\"name\": \"data-34e757ebd2e3ecb8248d264e5ff772d1\"}, \"mark\": {\"type\": \"circle\", \"size\": 40}, \"encoding\": {\"color\": {\"condition\": {\"field\": \"Team\", \"scale\": {\"scheme\": \"tableau20\"}, \"type\": \"nominal\", \"selection\": \"selector001\"}, \"value\": \"lightgray\"}, \"opacity\": {\"condition\": {\"value\": 1, \"selection\": \"selector001\"}, \"value\": 0.1}, \"tooltip\": [{\"field\": \"Player\", \"type\": \"nominal\"}, {\"field\": \"Team\", \"type\": \"nominal\"}, {\"field\": \"Bid Amount ($)\", \"type\": \"quantitative\"}, {\"field\": \"Total points per stint\", \"type\": \"quantitative\"}], \"x\": {\"axis\": {\"grid\": false}, \"field\": \"Bid Amount ($)\", \"type\": \"quantitative\"}, \"y\": {\"axis\": {\"grid\": false}, \"field\": \"Total points per stint\", \"type\": \"quantitative\"}}, \"height\": 450, \"selection\": {\"selector001\": {\"type\": \"multi\", \"fields\": [\"Team\"], \"bind\": \"legend\"}}, \"title\": \"Position: RB , Acquired by: Draft\", \"width\": 450, \"$schema\": \"https://vega.github.io/schema/vega-lite/v4.17.0.json\", \"datasets\": {\"data-34e757ebd2e3ecb8248d264e5ff772d1\": [{\"Stint_id\": 2, \"Player\": \"AJ Dillon\", \"Team\": \"The Genaissance\", \"ProTeam\": \"GB\", \"Added\": \"2022-09-07T00:00:00\", \"Bid Amount ($)\": 4, \"Dropped\": \"\", \"Stint (wks)\": [1, 2, 3, 4, 5, 6, 7, 8, 9, 10, 11, 12, 13, 15, 16, 17, 18], \"Position\": \"RB\", \"Drafted\": true, \"Total points per stint\": 150.3}, {\"Stint_id\": 3, \"Player\": \"Aaron Jones\", \"Team\": \"Kirk-life Balance\", \"ProTeam\": \"GB\", \"Added\": \"2022-09-07T00:00:00\", \"Bid Amount ($)\": 42, \"Dropped\": \"\", \"Stint (wks)\": [1, 2, 3, 4, 5, 6, 7, 8, 9, 10, 11, 12, 13, 15, 16, 17, 18], \"Position\": \"RB\", \"Drafted\": true, \"Total points per stint\": 212.8}, {\"Stint_id\": 8, \"Player\": \"Alexander Mattison\", \"Team\": \"Big Joshy Style\", \"ProTeam\": \"MIN\", \"Added\": \"2022-09-07T00:00:00\", \"Bid Amount ($)\": 1, \"Dropped\": \"\", \"Stint (wks)\": [1, 2, 3, 4, 5, 6, 8, 9, 10, 11, 12, 13, 14, 15, 16, 17, 18], \"Position\": \"RB\", \"Drafted\": true, \"Total points per stint\": 62.39999999999999}, {\"Stint_id\": 14, \"Player\": \"Alvin Kamara\", \"Team\": \"Kirk-life Balance\", \"ProTeam\": \"NO\", \"Added\": \"2022-09-07T00:00:00\", \"Bid Amount ($)\": 63, \"Dropped\": \"\", \"Stint (wks)\": [1, 2, 3, 4, 5, 6, 7, 8, 9, 10, 11, 12, 13, 15, 16, 17, 18], \"Position\": \"RB\", \"Drafted\": true, \"Total points per stint\": 171.7}, {\"Stint_id\": 17, \"Player\": \"Antonio Gibson\", \"Team\": \"Fumble .\", \"ProTeam\": \"WSH\", \"Added\": \"2022-09-07T00:00:00\", \"Bid Amount ($)\": 9, \"Dropped\": \"\", \"Stint (wks)\": [1, 2, 3, 4, 5, 6, 7, 8, 9, 10, 11, 12, 13, 15, 16, 17, 18], \"Position\": \"RB\", \"Drafted\": true, \"Total points per stint\": 142.89999999999998}, {\"Stint_id\": 18, \"Player\": \"Austin Ekeler\", \"Team\": \"More than a  Thielen\", \"ProTeam\": \"LAC\", \"Added\": \"2022-09-07T00:00:00\", \"Bid Amount ($)\": 71, \"Dropped\": \"\", \"Stint (wks)\": [1, 2, 3, 4, 5, 6, 7, 9, 10, 11, 12, 13, 14, 15, 16, 17, 18], \"Position\": \"RB\", \"Drafted\": true, \"Total points per stint\": 312.19999999999993}, {\"Stint_id\": 33, \"Player\": \"Breece Hall\", \"Team\": \"Kittle Me Elmo\", \"ProTeam\": \"NYJ\", \"Added\": \"2022-09-07T00:00:00\", \"Bid Amount ($)\": 24, \"Dropped\": \"2022-10-25T00:00:00\", \"Stint (wks)\": [1, 2, 3, 4, 5, 6, 7], \"Position\": \"RB\", \"Drafted\": true, \"Total points per stint\": 105.60000000000001}, {\"Stint_id\": 36, \"Player\": \"Brian Robinson Jr.\", \"Team\": \"Big Joshy Style\", \"ProTeam\": \"WSH\", \"Added\": \"2022-09-07T00:00:00\", \"Bid Amount ($)\": 1, \"Dropped\": \"\", \"Stint (wks)\": [1, 2, 3, 4, 5, 6, 7, 8, 9, 10, 11, 12, 13, 15, 16, 17, 18], \"Position\": \"RB\", \"Drafted\": true, \"Total points per stint\": 108.19999999999999}, {\"Stint_id\": 51, \"Player\": \"Cam Akers\", \"Team\": \"Flex Player All Stars\", \"ProTeam\": \"LAR\", \"Added\": \"2022-09-07T00:00:00\", \"Bid Amount ($)\": 39, \"Dropped\": \"\", \"Stint (wks)\": [1, 2, 3, 4, 5, 6, 8, 9, 10, 11, 12, 13, 14, 15, 16, 17, 18], \"Position\": \"RB\", \"Drafted\": true, \"Total points per stint\": 120.5}, {\"Stint_id\": 61, \"Player\": \"Chase Edmonds\", \"Team\": \"Kittle Me Elmo\", \"ProTeam\": \"DEN\", \"Added\": \"2022-09-07T00:00:00\", \"Bid Amount ($)\": 5, \"Dropped\": \"2022-09-23T00:00:00\", \"Stint (wks)\": [1, 2], \"Position\": \"RB\", \"Drafted\": true, \"Total points per stint\": 13.1}, {\"Stint_id\": 62, \"Player\": \"Chase Edmonds\", \"Team\": \"is the fantasy season everett?\", \"ProTeam\": \"DEN\", \"Added\": \"2022-09-28T00:00:00\", \"Bid Amount ($)\": 22, \"Dropped\": \"2022-10-19T00:00:00\", \"Stint (wks)\": [4, 5, 6], \"Position\": \"RB\", \"Drafted\": true, \"Total points per stint\": 13.2}, {\"Stint_id\": 72, \"Player\": \"Christian McCaffrey\", \"Team\": \"Frankel's Cankles\", \"ProTeam\": \"SF\", \"Added\": \"2022-09-07T00:00:00\", \"Bid Amount ($)\": 69, \"Dropped\": \"\", \"Stint (wks)\": [1, 2, 3, 4, 5, 6, 7, 8, 10, 11, 12, 13, 14, 15, 16, 17, 18], \"Position\": \"RB\", \"Drafted\": true, \"Total points per stint\": 298.3}, {\"Stint_id\": 76, \"Player\": \"Clyde Edwards-Helaire\", \"Team\": \"Flex Player All Stars\", \"ProTeam\": \"KC\", \"Added\": \"2022-09-07T00:00:00\", \"Bid Amount ($)\": 11, \"Dropped\": \"2022-11-16T00:00:00\", \"Stint (wks)\": [1, 2, 3, 4, 5, 6, 7, 9, 10], \"Position\": \"RB\", \"Drafted\": true, \"Total points per stint\": 88.9}, {\"Stint_id\": 86, \"Player\": \"Cordarrelle Patterson\", \"Team\": \"Door City\", \"ProTeam\": \"ATL\", \"Added\": \"2022-09-07T00:00:00\", \"Bid Amount ($)\": 1, \"Dropped\": \"\", \"Stint (wks)\": [1, 2, 3, 4, 5, 6, 7, 8, 9, 10, 11, 12, 13, 15, 16, 17, 18], \"Position\": \"RB\", \"Drafted\": true, \"Total points per stint\": 135.3}, {\"Stint_id\": 90, \"Player\": \"D'Andre Swift\", \"Team\": \"Door City\", \"ProTeam\": \"DET\", \"Added\": \"2022-09-07T00:00:00\", \"Bid Amount ($)\": 50, \"Dropped\": \"\", \"Stint (wks)\": [1, 2, 3, 4, 5, 7, 8, 9, 10, 11, 12, 13, 14, 15, 16, 17, 18], \"Position\": \"RB\", \"Drafted\": true, \"Total points per stint\": 155.0}, {\"Stint_id\": 102, \"Player\": \"Dalvin Cook\", \"Team\": \"Big Joshy Style\", \"ProTeam\": \"MIN\", \"Added\": \"2022-09-07T00:00:00\", \"Bid Amount ($)\": 59, \"Dropped\": \"\", \"Stint (wks)\": [1, 2, 3, 4, 5, 6, 8, 9, 10, 11, 12, 13, 14, 15, 16, 17, 18], \"Position\": \"RB\", \"Drafted\": true, \"Total points per stint\": 216.1}, {\"Stint_id\": 103, \"Player\": \"Dameon Pierce\", \"Team\": \"The Genaissance\", \"ProTeam\": \"HOU\", \"Added\": \"2022-09-07T00:00:00\", \"Bid Amount ($)\": 10, \"Dropped\": \"\", \"Stint (wks)\": [1, 2, 3, 4, 5, 7, 8, 9, 10, 11, 12, 13, 14, 15, 16, 17, 18], \"Position\": \"RB\", \"Drafted\": true, \"Total points per stint\": 151.39999999999998}, {\"Stint_id\": 104, \"Player\": \"Damien Harris\", \"Team\": \"Fumble .\", \"ProTeam\": \"NE\", \"Added\": \"2022-09-07T00:00:00\", \"Bid Amount ($)\": 1, \"Dropped\": \"2022-11-02T00:00:00\", \"Stint (wks)\": [1, 2, 3, 4, 5, 6, 7, 8], \"Position\": \"RB\", \"Drafted\": true, \"Total points per stint\": 58.4}, {\"Stint_id\": 105, \"Player\": \"Damien Harris\", \"Team\": \"Ice City USA\", \"ProTeam\": \"NE\", \"Added\": \"2022-12-15T00:00:00\", \"Bid Amount ($)\": 1, \"Dropped\": \"2022-12-18T00:00:00\", \"Stint (wks)\": [], \"Position\": \"RB\", \"Drafted\": true, \"Total points per stint\": 0.0}, {\"Stint_id\": 118, \"Player\": \"David Montgomery\", \"Team\": \"Ice City USA\", \"ProTeam\": \"CHI\", \"Added\": \"2022-09-07T00:00:00\", \"Bid Amount ($)\": 22, \"Dropped\": \"\", \"Stint (wks)\": [1, 2, 3, 4, 5, 6, 7, 8, 9, 10, 11, 12, 13, 15, 16, 17, 18], \"Position\": \"RB\", \"Drafted\": true, \"Total points per stint\": 158.60000000000002}, {\"Stint_id\": 136, \"Player\": \"Derrick Henry\", \"Team\": \"Frankel's Cankles\", \"ProTeam\": \"TEN\", \"Added\": \"2022-09-07T00:00:00\", \"Bid Amount ($)\": 69, \"Dropped\": \"\", \"Stint (wks)\": [1, 2, 3, 4, 5, 7, 8, 9, 10, 11, 12, 13, 14, 15, 16, 17, 18], \"Position\": \"RB\", \"Drafted\": true, \"Total points per stint\": 276.8}, {\"Stint_id\": 141, \"Player\": \"Devin Singletary\", \"Team\": \"Flex Player All Stars\", \"ProTeam\": \"BUF\", \"Added\": \"2022-09-07T00:00:00\", \"Bid Amount ($)\": 5, \"Dropped\": \"\", \"Stint (wks)\": [1, 2, 3, 4, 5, 6, 8, 9, 10, 11, 12, 13, 14, 15, 16, 18], \"Position\": \"RB\", \"Drafted\": true, \"Total points per stint\": 157.20000000000002}, {\"Stint_id\": 153, \"Player\": \"Elijah Mitchell\", \"Team\": \"is the fantasy season everett?\", \"ProTeam\": \"SF\", \"Added\": \"2022-09-07T00:00:00\", \"Bid Amount ($)\": 10, \"Dropped\": \"\", \"Stint (wks)\": [1, 2, 3, 4, 5, 6, 7, 8, 10, 11, 12, 13, 14, 15, 16, 17, 18], \"Position\": \"RB\", \"Drafted\": true, \"Total points per stint\": 24.6}, {\"Stint_id\": 163, \"Player\": \"Ezekiel Elliott\", \"Team\": \"Fumble .\", \"ProTeam\": \"DAL\", \"Added\": \"2022-09-07T00:00:00\", \"Bid Amount ($)\": 26, \"Dropped\": \"\", \"Stint (wks)\": [1, 2, 3, 4, 5, 6, 7, 8, 10, 11, 12, 13, 14, 15, 16, 17, 18], \"Position\": \"RB\", \"Drafted\": true, \"Total points per stint\": 176.3}, {\"Stint_id\": 202, \"Player\": \"J.K. Dobbins\", \"Team\": \"Sweetless in Seattle\", \"ProTeam\": \"BAL\", \"Added\": \"2022-09-07T00:00:00\", \"Bid Amount ($)\": 23, \"Dropped\": \"2022-12-20T00:00:00\", \"Stint (wks)\": [1, 2, 3, 4, 5, 6, 7, 8, 9, 11, 12, 13, 14, 15], \"Position\": \"RB\", \"Drafted\": true, \"Total points per stint\": 62.5}, {\"Stint_id\": 203, \"Player\": \"J.K. Dobbins\", \"Team\": \"is the fantasy season everett?\", \"ProTeam\": \"BAL\", \"Added\": \"2022-12-20T00:00:00\", \"Bid Amount ($)\": 0, \"Dropped\": \"\", \"Stint (wks)\": [16, 17, 18], \"Position\": \"RB\", \"Drafted\": true, \"Total points per stint\": 15.200000000000001}, {\"Stint_id\": 213, \"Player\": \"James Conner\", \"Team\": \"Sweetless in Seattle\", \"ProTeam\": \"ARI\", \"Added\": \"2022-09-07T00:00:00\", \"Bid Amount ($)\": 41, \"Dropped\": \"\", \"Stint (wks)\": [1, 2, 3, 4, 5, 6, 7, 8, 9, 10, 11, 12, 14, 15, 16, 17, 18], \"Position\": \"RB\", \"Drafted\": true, \"Total points per stint\": 177.2}, {\"Stint_id\": 214, \"Player\": \"James Cook\", \"Team\": \"Ice City USA\", \"ProTeam\": \"BUF\", \"Added\": \"2022-09-07T00:00:00\", \"Bid Amount ($)\": 1, \"Dropped\": \"2022-09-14T00:00:00\", \"Stint (wks)\": [1], \"Position\": \"RB\", \"Drafted\": true, \"Total points per stint\": -1.8}, {\"Stint_id\": 215, \"Player\": \"James Cook\", \"Team\": \"Ice City USA\", \"ProTeam\": \"BUF\", \"Added\": \"2022-12-07T00:00:00\", \"Bid Amount ($)\": 2, \"Dropped\": \"\", \"Stint (wks)\": [14, 15, 16, 18], \"Position\": \"RB\", \"Drafted\": true, \"Total points per stint\": 30.200000000000003}, {\"Stint_id\": 216, \"Player\": \"James Robinson\", \"Team\": \"Kirk-life Balance\", \"ProTeam\": \"NYJ\", \"Added\": \"2022-09-07T00:00:00\", \"Bid Amount ($)\": 1, \"Dropped\": \"\", \"Stint (wks)\": [1, 2, 3, 4, 5, 6, 7, 8, 9, 11, 12, 13, 14, 15, 16, 17, 18], \"Position\": \"RB\", \"Drafted\": true, \"Total points per stint\": 83.1}, {\"Stint_id\": 223, \"Player\": \"Javonte Williams\", \"Team\": \"Big Joshy Style\", \"ProTeam\": \"DEN\", \"Added\": \"2022-09-07T00:00:00\", \"Bid Amount ($)\": 40, \"Dropped\": \"\", \"Stint (wks)\": [1, 2, 3, 4, 5, 6, 7, 8, 10, 11, 12, 13, 14, 15, 16, 17, 18], \"Position\": \"RB\", \"Drafted\": true, \"Total points per stint\": 34.0}, {\"Stint_id\": 236, \"Player\": \"Joe Mixon\", \"Team\": \"Kittle Me Elmo\", \"ProTeam\": \"CIN\", \"Added\": \"2022-09-07T00:00:00\", \"Bid Amount ($)\": 55, \"Dropped\": \"\", \"Stint (wks)\": [1, 2, 3, 4, 5, 6, 7, 8, 9, 11, 12, 13, 14, 15, 16, 18], \"Position\": \"RB\", \"Drafted\": true, \"Total points per stint\": 194.2}, {\"Stint_id\": 237, \"Player\": \"Jonathan Taylor\", \"Team\": \"is the fantasy season everett?\", \"ProTeam\": \"IND\", \"Added\": \"2022-09-07T00:00:00\", \"Bid Amount ($)\": 73, \"Dropped\": \"\", \"Stint (wks)\": [1, 2, 3, 4, 5, 6, 7, 8, 9, 10, 11, 12, 13, 15, 16, 17, 18], \"Position\": \"RB\", \"Drafted\": true, \"Total points per stint\": 132.4}, {\"Stint_id\": 241, \"Player\": \"Josh Jacobs\", \"Team\": \"Sweetless in Seattle\", \"ProTeam\": \"OAK\", \"Added\": \"2022-09-07T00:00:00\", \"Bid Amount ($)\": 13, \"Dropped\": \"\", \"Stint (wks)\": [1, 2, 3, 4, 5, 7, 8, 9, 10, 11, 12, 13, 14, 15, 16, 17, 18], \"Position\": \"RB\", \"Drafted\": true, \"Total points per stint\": 299.8}, {\"Stint_id\": 257, \"Player\": \"Kareem Hunt\", \"Team\": \"Big Joshy Style\", \"ProTeam\": \"CLE\", \"Added\": \"2022-09-07T00:00:00\", \"Bid Amount ($)\": 6, \"Dropped\": \"\", \"Stint (wks)\": [1, 2, 3, 4, 5, 6, 7, 8, 10, 11, 12, 13, 14, 15, 16, 17, 18], \"Position\": \"RB\", \"Drafted\": true, \"Total points per stint\": 105.0}, {\"Stint_id\": 259, \"Player\": \"Kenneth Walker III\", \"Team\": \"The Genaissance\", \"ProTeam\": \"SEA\", \"Added\": \"2022-09-07T00:00:00\", \"Bid Amount ($)\": 6, \"Dropped\": \"\", \"Stint (wks)\": [1, 2, 3, 4, 5, 6, 7, 8, 9, 10, 12, 13, 14, 15, 16, 17, 18], \"Position\": \"RB\", \"Drafted\": true, \"Total points per stint\": 176.1}, {\"Stint_id\": 270, \"Player\": \"Leonard Fournette\", \"Team\": \"More than a  Thielen\", \"ProTeam\": \"TB\", \"Added\": \"2022-09-07T00:00:00\", \"Bid Amount ($)\": 34, \"Dropped\": \"\", \"Stint (wks)\": [1, 2, 3, 4, 5, 6, 7, 8, 9, 10, 12, 13, 14, 15, 16, 17, 18], \"Position\": \"RB\", \"Drafted\": true, \"Total points per stint\": 188.7}, {\"Stint_id\": 274, \"Player\": \"Mark Ingram II\", \"Team\": \"Frankel's Cankles\", \"ProTeam\": \"NO\", \"Added\": \"2022-09-07T00:00:00\", \"Bid Amount ($)\": 2, \"Dropped\": \"2022-09-06T00:00:00\", \"Stint (wks)\": [], \"Position\": \"RB\", \"Drafted\": true, \"Total points per stint\": 0.0}, {\"Stint_id\": 275, \"Player\": \"Mark Ingram II\", \"Team\": \"Flex Player All Stars\", \"ProTeam\": \"NO\", \"Added\": \"2022-10-08T00:00:00\", \"Bid Amount ($)\": 1, \"Dropped\": \"2022-10-12T00:00:00\", \"Stint (wks)\": [5], \"Position\": \"RB\", \"Drafted\": true, \"Total points per stint\": 3.6}, {\"Stint_id\": 287, \"Player\": \"Michael Carter\", \"Team\": \"Kirk-life Balance\", \"ProTeam\": \"NYJ\", \"Added\": \"2022-09-07T00:00:00\", \"Bid Amount ($)\": 1, \"Dropped\": \"\", \"Stint (wks)\": [1, 2, 3, 4, 5, 6, 7, 8, 9, 11, 12, 13, 14, 15, 16, 17, 18], \"Position\": \"RB\", \"Drafted\": true, \"Total points per stint\": 104.0}, {\"Stint_id\": 299, \"Player\": \"Miles Sanders\", \"Team\": \"Kittle Me Elmo\", \"ProTeam\": \"PHI\", \"Added\": \"2022-09-07T00:00:00\", \"Bid Amount ($)\": 5, \"Dropped\": \"\", \"Stint (wks)\": [1, 2, 3, 4, 5, 6, 8, 9, 10, 11, 12, 13, 14, 15, 16, 17, 18], \"Position\": \"RB\", \"Drafted\": true, \"Total points per stint\": 203.4}, {\"Stint_id\": 300, \"Player\": \"Najee Harris\", \"Team\": \"Door City\", \"ProTeam\": \"PIT\", \"Added\": \"2022-09-07T00:00:00\", \"Bid Amount ($)\": 70, \"Dropped\": \"\", \"Stint (wks)\": [1, 2, 3, 4, 5, 6, 7, 8, 10, 11, 12, 13, 14, 15, 16, 17, 18], \"Position\": \"RB\", \"Drafted\": true, \"Total points per stint\": 189.3}, {\"Stint_id\": 301, \"Player\": \"Nick Chubb\", \"Team\": \"Fumble .\", \"ProTeam\": \"CLE\", \"Added\": \"2022-09-07T00:00:00\", \"Bid Amount ($)\": 38, \"Dropped\": \"\", \"Stint (wks)\": [1, 2, 3, 4, 5, 6, 7, 8, 10, 11, 12, 13, 14, 15, 16, 17, 18], \"Position\": \"RB\", \"Drafted\": true, \"Total points per stint\": 247.20000000000002}, {\"Stint_id\": 308, \"Player\": \"Nyheim Hines\", \"Team\": \"Sweetless in Seattle\", \"ProTeam\": \"BUF\", \"Added\": \"2022-09-07T00:00:00\", \"Bid Amount ($)\": 1, \"Dropped\": \"2022-10-12T00:00:00\", \"Stint (wks)\": [1, 2, 3, 4, 5], \"Position\": \"RB\", \"Drafted\": true, \"Total points per stint\": 22.200000000000003}, {\"Stint_id\": 309, \"Player\": \"Nyheim Hines\", \"Team\": \"Frankel's Cankles\", \"ProTeam\": \"BUF\", \"Added\": \"2022-10-14T00:00:00\", \"Bid Amount ($)\": 1, \"Dropped\": \"2022-11-16T00:00:00\", \"Stint (wks)\": [6, 8, 9, 10], \"Position\": \"RB\", \"Drafted\": true, \"Total points per stint\": 13.3}, {\"Stint_id\": 326, \"Player\": \"Raheem Mostert\", \"Team\": \"Flex Player All Stars\", \"ProTeam\": \"MIA\", \"Added\": \"2022-09-07T00:00:00\", \"Bid Amount ($)\": 1, \"Dropped\": \"\", \"Stint (wks)\": [1, 2, 3, 4, 5, 6, 7, 8, 9, 10, 12, 13, 14, 15, 16, 17, 18], \"Position\": \"RB\", \"Drafted\": true, \"Total points per stint\": 145.7}, {\"Stint_id\": 331, \"Player\": \"Rashaad Penny\", \"Team\": \"The Genaissance\", \"ProTeam\": \"SEA\", \"Added\": \"2022-09-07T00:00:00\", \"Bid Amount ($)\": 4, \"Dropped\": \"2022-10-11T00:00:00\", \"Stint (wks)\": [1, 2, 3, 4, 5], \"Position\": \"RB\", \"Drafted\": true, \"Total points per stint\": 50.199999999999996}, {\"Stint_id\": 338, \"Player\": \"Rhamondre Stevenson\", \"Team\": \"Ice City USA\", \"ProTeam\": \"NE\", \"Added\": \"2022-09-07T00:00:00\", \"Bid Amount ($)\": 2, \"Dropped\": \"\", \"Stint (wks)\": [1, 2, 3, 4, 5, 6, 7, 8, 9, 11, 12, 13, 14, 15, 16, 17, 18], \"Position\": \"RB\", \"Drafted\": true, \"Total points per stint\": 203.9}, {\"Stint_id\": 354, \"Player\": \"Saquon Barkley\", \"Team\": \"Kirk-life Balance\", \"ProTeam\": \"NYG\", \"Added\": \"2022-09-07T00:00:00\", \"Bid Amount ($)\": 37, \"Dropped\": \"\", \"Stint (wks)\": [1, 2, 3, 4, 5, 6, 7, 8, 10, 11, 12, 13, 14, 15, 16, 17, 18], \"Position\": \"RB\", \"Drafted\": true, \"Total points per stint\": 255.5}, {\"Stint_id\": 369, \"Player\": \"Tony Pollard\", \"Team\": \"More than a  Thielen\", \"ProTeam\": \"DAL\", \"Added\": \"2022-09-07T00:00:00\", \"Bid Amount ($)\": 3, \"Dropped\": \"\", \"Stint (wks)\": [1, 2, 3, 4, 5, 6, 7, 8, 10, 11, 12, 13, 14, 15, 16, 17, 18], \"Position\": \"RB\", \"Drafted\": true, \"Total points per stint\": 227.39999999999998}, {\"Stint_id\": 370, \"Player\": \"Travis Etienne Jr.\", \"Team\": \"is the fantasy season everett?\", \"ProTeam\": \"JAX\", \"Added\": \"2022-09-07T00:00:00\", \"Bid Amount ($)\": 23, \"Dropped\": \"\", \"Stint (wks)\": [1, 2, 3, 4, 5, 6, 7, 8, 9, 10, 12, 13, 14, 15, 16, 17, 18], \"Position\": \"RB\", \"Drafted\": true, \"Total points per stint\": 183.20000000000002}]}}, {\"mode\": \"vega-lite\"});\n",
       "</script>"
      ],
      "text/plain": [
       "alt.Chart(...)"
      ]
     },
     "execution_count": 15,
     "metadata": {},
     "output_type": "execute_result"
    }
   ],
   "source": [
    "plot_title,chart = scatterplot_acquisitions(df_stints, position='RB', acq_by_draft=True)\n",
    "chart"
   ]
  },
  {
   "cell_type": "markdown",
   "metadata": {},
   "source": [
    "Wide Receivers in the Draft"
   ]
  },
  {
   "cell_type": "code",
   "execution_count": 16,
   "metadata": {},
   "outputs": [
    {
     "data": {
      "text/html": [
       "\n",
       "<div id=\"altair-viz-4cbb370ab53241da9df7eaf4737096b7\"></div>\n",
       "<script type=\"text/javascript\">\n",
       "  var VEGA_DEBUG = (typeof VEGA_DEBUG == \"undefined\") ? {} : VEGA_DEBUG;\n",
       "  (function(spec, embedOpt){\n",
       "    let outputDiv = document.currentScript.previousElementSibling;\n",
       "    if (outputDiv.id !== \"altair-viz-4cbb370ab53241da9df7eaf4737096b7\") {\n",
       "      outputDiv = document.getElementById(\"altair-viz-4cbb370ab53241da9df7eaf4737096b7\");\n",
       "    }\n",
       "    const paths = {\n",
       "      \"vega\": \"https://cdn.jsdelivr.net/npm//vega@5?noext\",\n",
       "      \"vega-lib\": \"https://cdn.jsdelivr.net/npm//vega-lib?noext\",\n",
       "      \"vega-lite\": \"https://cdn.jsdelivr.net/npm//vega-lite@4.17.0?noext\",\n",
       "      \"vega-embed\": \"https://cdn.jsdelivr.net/npm//vega-embed@6?noext\",\n",
       "    };\n",
       "\n",
       "    function maybeLoadScript(lib, version) {\n",
       "      var key = `${lib.replace(\"-\", \"\")}_version`;\n",
       "      return (VEGA_DEBUG[key] == version) ?\n",
       "        Promise.resolve(paths[lib]) :\n",
       "        new Promise(function(resolve, reject) {\n",
       "          var s = document.createElement('script');\n",
       "          document.getElementsByTagName(\"head\")[0].appendChild(s);\n",
       "          s.async = true;\n",
       "          s.onload = () => {\n",
       "            VEGA_DEBUG[key] = version;\n",
       "            return resolve(paths[lib]);\n",
       "          };\n",
       "          s.onerror = () => reject(`Error loading script: ${paths[lib]}`);\n",
       "          s.src = paths[lib];\n",
       "        });\n",
       "    }\n",
       "\n",
       "    function showError(err) {\n",
       "      outputDiv.innerHTML = `<div class=\"error\" style=\"color:red;\">${err}</div>`;\n",
       "      throw err;\n",
       "    }\n",
       "\n",
       "    function displayChart(vegaEmbed) {\n",
       "      vegaEmbed(outputDiv, spec, embedOpt)\n",
       "        .catch(err => showError(`Javascript Error: ${err.message}<br>This usually means there's a typo in your chart specification. See the javascript console for the full traceback.`));\n",
       "    }\n",
       "\n",
       "    if(typeof define === \"function\" && define.amd) {\n",
       "      requirejs.config({paths});\n",
       "      require([\"vega-embed\"], displayChart, err => showError(`Error loading script: ${err.message}`));\n",
       "    } else {\n",
       "      maybeLoadScript(\"vega\", \"5\")\n",
       "        .then(() => maybeLoadScript(\"vega-lite\", \"4.17.0\"))\n",
       "        .then(() => maybeLoadScript(\"vega-embed\", \"6\"))\n",
       "        .catch(showError)\n",
       "        .then(() => displayChart(vegaEmbed));\n",
       "    }\n",
       "  })({\"config\": {\"view\": {\"continuousWidth\": 400, \"continuousHeight\": 300}, \"axis\": {\"labelFontSize\": 18, \"titleFontSize\": 18}, \"legend\": {\"labelFontSize\": 14, \"titleFontSize\": 14}, \"title\": {\"fontSize\": 20}}, \"data\": {\"name\": \"data-deb0d797e0b4a838e0428f6468cc2853\"}, \"mark\": {\"type\": \"circle\", \"size\": 40}, \"encoding\": {\"color\": {\"condition\": {\"field\": \"Team\", \"scale\": {\"scheme\": \"tableau20\"}, \"type\": \"nominal\", \"selection\": \"selector002\"}, \"value\": \"lightgray\"}, \"opacity\": {\"condition\": {\"value\": 1, \"selection\": \"selector002\"}, \"value\": 0.1}, \"tooltip\": [{\"field\": \"Player\", \"type\": \"nominal\"}, {\"field\": \"Team\", \"type\": \"nominal\"}, {\"field\": \"Bid Amount ($)\", \"type\": \"quantitative\"}, {\"field\": \"Total points per stint\", \"type\": \"quantitative\"}], \"x\": {\"axis\": {\"grid\": false}, \"field\": \"Bid Amount ($)\", \"type\": \"quantitative\"}, \"y\": {\"axis\": {\"grid\": false}, \"field\": \"Total points per stint\", \"type\": \"quantitative\"}}, \"height\": 450, \"selection\": {\"selector002\": {\"type\": \"multi\", \"fields\": [\"Team\"], \"bind\": \"legend\"}}, \"title\": \"Position: WR , Acquired by: Draft\", \"width\": 450, \"$schema\": \"https://vega.github.io/schema/vega-lite/v4.17.0.json\", \"datasets\": {\"data-deb0d797e0b4a838e0428f6468cc2853\": [{\"Stint_id\": 1, \"Player\": \"A.J. Brown\", \"Team\": \"Ice City USA\", \"ProTeam\": \"PHI\", \"Added\": \"2022-09-07T00:00:00\", \"Bid Amount ($)\": 34, \"Dropped\": \"\", \"Stint (wks)\": [1, 2, 3, 4, 5, 6, 8, 9, 10, 11, 12, 13, 14, 15, 16, 17, 18], \"Position\": \"WR\", \"Drafted\": true, \"Total points per stint\": 244.1}, {\"Stint_id\": 5, \"Player\": \"Adam Thielen\", \"Team\": \"Frankel's Cankles\", \"ProTeam\": \"MIN\", \"Added\": \"2022-09-07T00:00:00\", \"Bid Amount ($)\": 11, \"Dropped\": \"\", \"Stint (wks)\": [1, 2, 3, 4, 5, 6, 8, 9, 10, 11, 12, 13, 14, 15, 16, 17, 18], \"Position\": \"WR\", \"Drafted\": true, \"Total points per stint\": 136.8}, {\"Stint_id\": 9, \"Player\": \"Allen Lazard\", \"Team\": \"Kirk-life Balance\", \"ProTeam\": \"GB\", \"Added\": \"2022-09-07T00:00:00\", \"Bid Amount ($)\": 8, \"Dropped\": \"\", \"Stint (wks)\": [1, 2, 3, 4, 5, 6, 7, 8, 9, 10, 11, 12, 13, 15, 16, 17, 18], \"Position\": \"WR\", \"Drafted\": true, \"Total points per stint\": 132.7}, {\"Stint_id\": 10, \"Player\": \"Allen Robinson II\", \"Team\": \"Kittle Me Elmo\", \"ProTeam\": \"LAR\", \"Added\": \"2022-09-07T00:00:00\", \"Bid Amount ($)\": 15, \"Dropped\": \"2022-10-05T00:00:00\", \"Stint (wks)\": [1, 2, 3, 4], \"Position\": \"WR\", \"Drafted\": true, \"Total points per stint\": 20.0}, {\"Stint_id\": 11, \"Player\": \"Allen Robinson II\", \"Team\": \"Flex Player All Stars\", \"ProTeam\": \"LAR\", \"Added\": \"2022-11-02T00:00:00\", \"Bid Amount ($)\": 10, \"Dropped\": \"2022-11-04T00:00:00\", \"Stint (wks)\": [], \"Position\": \"WR\", \"Drafted\": true, \"Total points per stint\": 0.0}, {\"Stint_id\": 12, \"Player\": \"Allen Robinson II\", \"Team\": \"Flex Player All Stars\", \"ProTeam\": \"LAR\", \"Added\": \"2022-11-05T00:00:00\", \"Bid Amount ($)\": 1, \"Dropped\": \"2022-11-11T00:00:00\", \"Stint (wks)\": [9], \"Position\": \"WR\", \"Drafted\": true, \"Total points per stint\": 3.9}, {\"Stint_id\": 13, \"Player\": \"Allen Robinson II\", \"Team\": \"The Genaissance\", \"ProTeam\": \"LAR\", \"Added\": \"2022-11-16T00:00:00\", \"Bid Amount ($)\": 12, \"Dropped\": \"2022-11-23T00:00:00\", \"Stint (wks)\": [11], \"Position\": \"WR\", \"Drafted\": true, \"Total points per stint\": 12.7}, {\"Stint_id\": 15, \"Player\": \"Amari Cooper\", \"Team\": \"More than a  Thielen\", \"ProTeam\": \"CLE\", \"Added\": \"2022-09-07T00:00:00\", \"Bid Amount ($)\": 7, \"Dropped\": \"\", \"Stint (wks)\": [1, 2, 3, 4, 5, 6, 7, 8, 10, 11, 12, 13, 14, 15, 16, 17, 18], \"Position\": \"WR\", \"Drafted\": true, \"Total points per stint\": 200.9}, {\"Stint_id\": 16, \"Player\": \"Amon-Ra St. Brown\", \"Team\": \"is the fantasy season everett?\", \"ProTeam\": \"DET\", \"Added\": \"2022-09-07T00:00:00\", \"Bid Amount ($)\": 13, \"Dropped\": \"\", \"Stint (wks)\": [1, 2, 3, 4, 5, 7, 8, 9, 10, 11, 12, 13, 14, 15, 16, 17, 18], \"Position\": \"WR\", \"Drafted\": true, \"Total points per stint\": 206.70000000000002}, {\"Stint_id\": 28, \"Player\": \"Brandin Cooks\", \"Team\": \"Frankel's Cankles\", \"ProTeam\": \"HOU\", \"Added\": \"2022-09-07T00:00:00\", \"Bid Amount ($)\": 16, \"Dropped\": \"2022-10-14T00:00:00\", \"Stint (wks)\": [1, 2, 3, 4, 5], \"Position\": \"WR\", \"Drafted\": true, \"Total points per stint\": 41.5}, {\"Stint_id\": 29, \"Player\": \"Brandon Aiyuk\", \"Team\": \"Sweetless in Seattle\", \"ProTeam\": \"SF\", \"Added\": \"2022-09-07T00:00:00\", \"Bid Amount ($)\": 3, \"Dropped\": \"2022-10-06T00:00:00\", \"Stint (wks)\": [1, 2, 3, 4], \"Position\": \"WR\", \"Drafted\": true, \"Total points per stint\": 31.599999999999998}, {\"Stint_id\": 30, \"Player\": \"Brandon Aiyuk\", \"Team\": \"is the fantasy season everett?\", \"ProTeam\": \"SF\", \"Added\": \"2022-10-19T00:00:00\", \"Bid Amount ($)\": 2, \"Dropped\": \"\", \"Stint (wks)\": [7, 8, 10, 11, 12, 13, 14, 15, 16, 17, 18], \"Position\": \"WR\", \"Drafted\": true, \"Total points per stint\": 117.7}, {\"Stint_id\": 54, \"Player\": \"CeeDee Lamb\", \"Team\": \"Fumble .\", \"ProTeam\": \"DAL\", \"Added\": \"2022-09-07T00:00:00\", \"Bid Amount ($)\": 47, \"Dropped\": \"\", \"Stint (wks)\": [1, 2, 3, 4, 5, 6, 7, 8, 10, 11, 12, 13, 14, 15, 16, 17, 18], \"Position\": \"WR\", \"Drafted\": true, \"Total points per stint\": 234.4}, {\"Stint_id\": 58, \"Player\": \"Chase Claypool\", \"Team\": \"The Genaissance\", \"ProTeam\": \"CHI\", \"Added\": \"2022-09-07T00:00:00\", \"Bid Amount ($)\": 1, \"Dropped\": \"2022-10-06T00:00:00\", \"Stint (wks)\": [1, 2, 3, 4], \"Position\": \"WR\", \"Drafted\": true, \"Total points per stint\": 18.1}, {\"Stint_id\": 59, \"Player\": \"Chase Claypool\", \"Team\": \"Flex Player All Stars\", \"ProTeam\": \"CHI\", \"Added\": \"2022-10-21T00:00:00\", \"Bid Amount ($)\": 1, \"Dropped\": \"2022-10-26T00:00:00\", \"Stint (wks)\": [7], \"Position\": \"WR\", \"Drafted\": true, \"Total points per stint\": 6.6}, {\"Stint_id\": 60, \"Player\": \"Chase Claypool\", \"Team\": \"is the fantasy season everett?\", \"ProTeam\": \"CHI\", \"Added\": \"2022-11-05T00:00:00\", \"Bid Amount ($)\": 1, \"Dropped\": \"\", \"Stint (wks)\": [9, 10, 11, 12, 13, 15, 16, 17, 18], \"Position\": \"WR\", \"Drafted\": true, \"Total points per stint\": 15.5}, {\"Stint_id\": 68, \"Player\": \"Chris Godwin\", \"Team\": \"The Genaissance\", \"ProTeam\": \"TB\", \"Added\": \"2022-09-07T00:00:00\", \"Bid Amount ($)\": 11, \"Dropped\": \"\", \"Stint (wks)\": [1, 2, 3, 4, 5, 6, 7, 8, 9, 10, 12, 13, 14, 15, 16, 17, 18], \"Position\": \"WR\", \"Drafted\": true, \"Total points per stint\": 164.3}, {\"Stint_id\": 69, \"Player\": \"Chris Olave\", \"Team\": \"Ice City USA\", \"ProTeam\": \"NO\", \"Added\": \"2022-09-07T00:00:00\", \"Bid Amount ($)\": 1, \"Dropped\": \"2022-09-16T00:00:00\", \"Stint (wks)\": [1], \"Position\": \"WR\", \"Drafted\": true, \"Total points per stint\": 7.6}, {\"Stint_id\": 70, \"Player\": \"Chris Olave\", \"Team\": \"Ice City USA\", \"ProTeam\": \"NO\", \"Added\": \"2022-09-21T00:00:00\", \"Bid Amount ($)\": 2, \"Dropped\": \"\", \"Stint (wks)\": [3, 4, 5, 6, 7, 8, 9, 10, 11, 12, 13, 15, 16, 17, 18], \"Position\": \"WR\", \"Drafted\": true, \"Total points per stint\": 133.6}, {\"Stint_id\": 71, \"Player\": \"Christian Kirk\", \"Team\": \"Door City\", \"ProTeam\": \"JAX\", \"Added\": \"2022-09-07T00:00:00\", \"Bid Amount ($)\": 3, \"Dropped\": \"\", \"Stint (wks)\": [1, 2, 3, 4, 5, 6, 7, 8, 9, 10, 12, 13, 14, 15, 16, 17, 18], \"Position\": \"WR\", \"Drafted\": true, \"Total points per stint\": 181.0}, {\"Stint_id\": 85, \"Player\": \"Cooper Kupp\", \"Team\": \"Ice City USA\", \"ProTeam\": \"LAR\", \"Added\": \"2022-09-07T00:00:00\", \"Bid Amount ($)\": 71, \"Dropped\": \"2022-12-13T00:00:00\", \"Stint (wks)\": [1, 2, 3, 4, 5, 6, 8, 9, 10, 11, 12, 13, 14], \"Position\": \"WR\", \"Drafted\": true, \"Total points per stint\": 163.9}, {\"Stint_id\": 87, \"Player\": \"Courtland Sutton\", \"Team\": \"Flex Player All Stars\", \"ProTeam\": \"DEN\", \"Added\": \"2022-09-07T00:00:00\", \"Bid Amount ($)\": 18, \"Dropped\": \"\", \"Stint (wks)\": [1, 2, 3, 4, 5, 6, 7, 8, 10, 11, 12, 13, 14, 15, 16, 17, 18], \"Position\": \"WR\", \"Drafted\": true, \"Total points per stint\": 116.60000000000001}, {\"Stint_id\": 95, \"Player\": \"DJ Moore\", \"Team\": \"is the fantasy season everett?\", \"ProTeam\": \"CAR\", \"Added\": \"2022-09-07T00:00:00\", \"Bid Amount ($)\": 29, \"Dropped\": \"2022-10-05T00:00:00\", \"Stint (wks)\": [1, 2, 3, 4], \"Position\": \"WR\", \"Drafted\": true, \"Total points per stint\": 29.4}, {\"Stint_id\": 96, \"Player\": \"DJ Moore\", \"Team\": \"Sweetless in Seattle\", \"ProTeam\": \"CAR\", \"Added\": \"2022-10-06T00:00:00\", \"Bid Amount ($)\": 2, \"Dropped\": \"2022-11-27T00:00:00\", \"Stint (wks)\": [5, 6, 7, 8, 9, 10, 11], \"Position\": \"WR\", \"Drafted\": true, \"Total points per stint\": 63.699999999999996}, {\"Stint_id\": 97, \"Player\": \"DJ Moore\", \"Team\": \"Kirk-life Balance\", \"ProTeam\": \"CAR\", \"Added\": \"2022-11-30T00:00:00\", \"Bid Amount ($)\": 8, \"Dropped\": \"\", \"Stint (wks)\": [14, 15, 16, 17, 18], \"Position\": \"WR\", \"Drafted\": true, \"Total points per stint\": 54.7}, {\"Stint_id\": 98, \"Player\": \"DK Metcalf\", \"Team\": \"The Genaissance\", \"ProTeam\": \"SEA\", \"Added\": \"2022-09-07T00:00:00\", \"Bid Amount ($)\": 23, \"Dropped\": \"\", \"Stint (wks)\": [1, 2, 3, 4, 5, 6, 7, 8, 9, 10, 12, 13, 14, 15, 16, 17, 18], \"Position\": \"WR\", \"Drafted\": true, \"Total points per stint\": 176.3}, {\"Stint_id\": 114, \"Player\": \"Darnell Mooney\", \"Team\": \"Frankel's Cankles\", \"ProTeam\": \"CHI\", \"Added\": \"2022-09-07T00:00:00\", \"Bid Amount ($)\": 6, \"Dropped\": \"2022-10-13T00:00:00\", \"Stint (wks)\": [1, 2, 3, 4, 5], \"Position\": \"WR\", \"Drafted\": true, \"Total points per stint\": 22.3}, {\"Stint_id\": 115, \"Player\": \"Darnell Mooney\", \"Team\": \"Frankel's Cankles\", \"ProTeam\": \"CHI\", \"Added\": \"2022-11-16T00:00:00\", \"Bid Amount ($)\": 1, \"Dropped\": \"2022-11-29T00:00:00\", \"Stint (wks)\": [11, 12], \"Position\": \"WR\", \"Drafted\": true, \"Total points per stint\": 10.9}, {\"Stint_id\": 117, \"Player\": \"Davante Adams\", \"Team\": \"Fumble .\", \"ProTeam\": \"OAK\", \"Added\": \"2022-09-07T00:00:00\", \"Bid Amount ($)\": 48, \"Dropped\": \"\", \"Stint (wks)\": [1, 2, 3, 4, 5, 7, 8, 9, 10, 11, 12, 13, 14, 15, 16, 17, 18], \"Position\": \"WR\", \"Drafted\": true, \"Total points per stint\": 275.70000000000005}, {\"Stint_id\": 127, \"Player\": \"DeAndre Hopkins\", \"Team\": \"Door City\", \"ProTeam\": \"ARI\", \"Added\": \"2022-09-07T00:00:00\", \"Bid Amount ($)\": 2, \"Dropped\": \"2023-01-01T00:00:00\", \"Stint (wks)\": [1, 2, 3, 4, 5, 6, 7, 8, 9, 10, 11, 12, 14, 15, 16], \"Position\": \"WR\", \"Drafted\": true, \"Total points per stint\": 119.70000000000002}, {\"Stint_id\": 128, \"Player\": \"DeVonta Smith\", \"Team\": \"Fumble .\", \"ProTeam\": \"PHI\", \"Added\": \"2022-09-07T00:00:00\", \"Bid Amount ($)\": 6, \"Dropped\": \"\", \"Stint (wks)\": [1, 2, 3, 4, 5, 6, 8, 9, 10, 11, 12, 13, 14, 15, 16, 17, 18], \"Position\": \"WR\", \"Drafted\": true, \"Total points per stint\": 196.9}, {\"Stint_id\": 129, \"Player\": \"Deebo Samuel\", \"Team\": \"Ice City USA\", \"ProTeam\": \"SF\", \"Added\": \"2022-09-07T00:00:00\", \"Bid Amount ($)\": 51, \"Dropped\": \"\", \"Stint (wks)\": [1, 2, 3, 4, 5, 6, 7, 8, 10, 11, 12, 13, 14, 15, 16, 17, 18], \"Position\": \"WR\", \"Drafted\": true, \"Total points per stint\": 137.0}, {\"Stint_id\": 142, \"Player\": \"Diontae Johnson\", \"Team\": \"More than a  Thielen\", \"ProTeam\": \"PIT\", \"Added\": \"2022-09-07T00:00:00\", \"Bid Amount ($)\": 17, \"Dropped\": \"2022-11-07T00:00:00\", \"Stint (wks)\": [1, 2, 3, 4, 5, 6, 7, 8], \"Position\": \"WR\", \"Drafted\": true, \"Total points per stint\": 62.9}, {\"Stint_id\": 143, \"Player\": \"Diontae Johnson\", \"Team\": \"More than a  Thielen\", \"ProTeam\": \"PIT\", \"Added\": \"2022-11-12T00:00:00\", \"Bid Amount ($)\": 2, \"Dropped\": \"\", \"Stint (wks)\": [10, 11, 12, 13, 14, 15, 16, 17, 18], \"Position\": \"WR\", \"Drafted\": true, \"Total points per stint\": 68.0}, {\"Stint_id\": 150, \"Player\": \"Drake London\", \"Team\": \"Kirk-life Balance\", \"ProTeam\": \"ATL\", \"Added\": \"2022-09-07T00:00:00\", \"Bid Amount ($)\": 1, \"Dropped\": \"2022-11-30T00:00:00\", \"Stint (wks)\": [1, 2, 3, 4, 5, 6, 7, 8, 9, 10, 11, 12], \"Position\": \"WR\", \"Drafted\": true, \"Total points per stint\": 88.30000000000001}, {\"Stint_id\": 154, \"Player\": \"Elijah Moore\", \"Team\": \"Sweetless in Seattle\", \"ProTeam\": \"NYJ\", \"Added\": \"2022-09-07T00:00:00\", \"Bid Amount ($)\": 4, \"Dropped\": \"2022-09-28T00:00:00\", \"Stint (wks)\": [1, 2, 3], \"Position\": \"WR\", \"Drafted\": true, \"Total points per stint\": 19.3}, {\"Stint_id\": 155, \"Player\": \"Elijah Moore\", \"Team\": \"Kittle Me Elmo\", \"ProTeam\": \"NYJ\", \"Added\": \"2022-12-14T00:00:00\", \"Bid Amount ($)\": 4, \"Dropped\": \"\", \"Stint (wks)\": [15, 16, 17, 18], \"Position\": \"WR\", \"Drafted\": true, \"Total points per stint\": 12.7}, {\"Stint_id\": 167, \"Player\": \"Gabe Davis\", \"Team\": \"Big Joshy Style\", \"ProTeam\": \"BUF\", \"Added\": \"2022-09-07T00:00:00\", \"Bid Amount ($)\": 20, \"Dropped\": \"\", \"Stint (wks)\": [1, 2, 3, 4, 5, 6, 8, 9, 10, 11, 12, 13, 14, 15, 16, 18], \"Position\": \"WR\", \"Drafted\": true, \"Total points per stint\": 142.2}, {\"Stint_id\": 169, \"Player\": \"Garrett Wilson\", \"Team\": \"Sweetless in Seattle\", \"ProTeam\": \"NYJ\", \"Added\": \"2022-09-07T00:00:00\", \"Bid Amount ($)\": 1, \"Dropped\": \"\", \"Stint (wks)\": [1, 2, 3, 4, 5, 6, 7, 8, 9, 11, 12, 13, 14, 15, 16, 17, 18], \"Position\": \"WR\", \"Drafted\": true, \"Total points per stint\": 160.8}, {\"Stint_id\": 194, \"Player\": \"Hunter Renfrow\", \"Team\": \"Flex Player All Stars\", \"ProTeam\": \"OAK\", \"Added\": \"2022-09-07T00:00:00\", \"Bid Amount ($)\": 5, \"Dropped\": \"2022-11-02T00:00:00\", \"Stint (wks)\": [1, 2, 3, 4, 5, 7, 8], \"Position\": \"WR\", \"Drafted\": true, \"Total points per stint\": 23.6}, {\"Stint_id\": 197, \"Player\": \"Isaiah McKenzie\", \"Team\": \"Door City\", \"ProTeam\": \"BUF\", \"Added\": \"2022-09-07T00:00:00\", \"Bid Amount ($)\": 1, \"Dropped\": \"2022-09-14T00:00:00\", \"Stint (wks)\": [1], \"Position\": \"WR\", \"Drafted\": true, \"Total points per stint\": 8.9}, {\"Stint_id\": 204, \"Player\": \"Ja'Marr Chase\", \"Team\": \"The Genaissance\", \"ProTeam\": \"CIN\", \"Added\": \"2022-09-07T00:00:00\", \"Bid Amount ($)\": 62, \"Dropped\": \"\", \"Stint (wks)\": [1, 2, 3, 4, 5, 6, 7, 8, 9, 11, 12, 13, 14, 15, 16, 18], \"Position\": \"WR\", \"Drafted\": true, \"Total points per stint\": 180.3}, {\"Stint_id\": 210, \"Player\": \"Jakobi Meyers\", \"Team\": \"Kirk-life Balance\", \"ProTeam\": \"NE\", \"Added\": \"2022-09-07T00:00:00\", \"Bid Amount ($)\": 1, \"Dropped\": \"2022-12-11T00:00:00\", \"Stint (wks)\": [1, 2, 3, 4, 5, 6, 7, 8, 9, 11, 12, 13], \"Position\": \"WR\", \"Drafted\": true, \"Total points per stint\": 101.20000000000002}, {\"Stint_id\": 224, \"Player\": \"Jaylen Waddle\", \"Team\": \"Frankel's Cankles\", \"ProTeam\": \"MIA\", \"Added\": \"2022-09-07T00:00:00\", \"Bid Amount ($)\": 16, \"Dropped\": \"\", \"Stint (wks)\": [1, 2, 3, 4, 5, 6, 7, 8, 9, 10, 12, 13, 14, 15, 16, 17, 18], \"Position\": \"WR\", \"Drafted\": true, \"Total points per stint\": 213.9}, {\"Stint_id\": 229, \"Player\": \"Jerry Jeudy\", \"Team\": \"is the fantasy season everett?\", \"ProTeam\": \"DEN\", \"Added\": \"2022-09-07T00:00:00\", \"Bid Amount ($)\": 23, \"Dropped\": \"\", \"Stint (wks)\": [1, 2, 3, 4, 5, 6, 7, 8, 10, 11, 12, 13, 14, 15, 16, 17, 18], \"Position\": \"WR\", \"Drafted\": true, \"Total points per stint\": 148.9}, {\"Stint_id\": 244, \"Player\": \"JuJu Smith-Schuster\", \"Team\": \"Fumble .\", \"ProTeam\": \"KC\", \"Added\": \"2022-09-07T00:00:00\", \"Bid Amount ($)\": 6, \"Dropped\": \"2022-12-09T00:00:00\", \"Stint (wks)\": [1, 2, 3, 4, 5, 6, 7, 9, 10, 11, 12, 13], \"Position\": \"WR\", \"Drafted\": true, \"Total points per stint\": 104.8}, {\"Stint_id\": 245, \"Player\": \"JuJu Smith-Schuster\", \"Team\": \"Kirk-life Balance\", \"ProTeam\": \"KC\", \"Added\": \"2022-12-11T00:00:00\", \"Bid Amount ($)\": 15, \"Dropped\": \"\", \"Stint (wks)\": [14, 15, 16, 17, 18], \"Position\": \"WR\", \"Drafted\": true, \"Total points per stint\": 37.0}, {\"Stint_id\": 250, \"Player\": \"Justin Jefferson\", \"Team\": \"Sweetless in Seattle\", \"ProTeam\": \"MIN\", \"Added\": \"2022-09-07T00:00:00\", \"Bid Amount ($)\": 68, \"Dropped\": \"\", \"Stint (wks)\": [1, 2, 3, 4, 5, 6, 8, 9, 10, 11, 12, 13, 14, 15, 16, 17, 18], \"Position\": \"WR\", \"Drafted\": true, \"Total points per stint\": 302.7}, {\"Stint_id\": 254, \"Player\": \"Kadarius Toney\", \"Team\": \"Frankel's Cankles\", \"ProTeam\": \"KC\", \"Added\": \"2022-09-07T00:00:00\", \"Bid Amount ($)\": 1, \"Dropped\": \"2022-09-21T00:00:00\", \"Stint (wks)\": [1, 2], \"Position\": \"WR\", \"Drafted\": true, \"Total points per stint\": 3.3}, {\"Stint_id\": 255, \"Player\": \"Kadarius Toney\", \"Team\": \"Flex Player All Stars\", \"ProTeam\": \"KC\", \"Added\": \"2022-11-02T00:00:00\", \"Bid Amount ($)\": 2, \"Dropped\": \"2022-11-04T00:00:00\", \"Stint (wks)\": [], \"Position\": \"WR\", \"Drafted\": true, \"Total points per stint\": 0.0}, {\"Stint_id\": 256, \"Player\": \"Kadarius Toney\", \"Team\": \"Flex Player All Stars\", \"ProTeam\": \"KC\", \"Added\": \"2022-11-11T00:00:00\", \"Bid Amount ($)\": 1, \"Dropped\": \"2022-11-30T00:00:00\", \"Stint (wks)\": [10, 11, 12], \"Position\": \"WR\", \"Drafted\": true, \"Total points per stint\": 17.0}, {\"Stint_id\": 258, \"Player\": \"Keenan Allen\", \"Team\": \"Flex Player All Stars\", \"ProTeam\": \"LAC\", \"Added\": \"2022-09-07T00:00:00\", \"Bid Amount ($)\": 44, \"Dropped\": \"\", \"Stint (wks)\": [1, 2, 3, 4, 5, 6, 7, 9, 10, 11, 12, 13, 14, 15, 16, 17, 18], \"Position\": \"WR\", \"Drafted\": true, \"Total points per stint\": 104.8}, {\"Stint_id\": 276, \"Player\": \"Marquez Valdes-Scantling\", \"Team\": \"More than a  Thielen\", \"ProTeam\": \"KC\", \"Added\": \"2022-09-07T00:00:00\", \"Bid Amount ($)\": 2, \"Dropped\": \"2022-10-30T00:00:00\", \"Stint (wks)\": [1, 2, 3, 4, 5, 6, 7], \"Position\": \"WR\", \"Drafted\": true, \"Total points per stint\": 47.6}, {\"Stint_id\": 277, \"Player\": \"Marquise Brown\", \"Team\": \"Door City\", \"ProTeam\": \"ARI\", \"Added\": \"2022-09-07T00:00:00\", \"Bid Amount ($)\": 20, \"Dropped\": \"\", \"Stint (wks)\": [1, 2, 3, 4, 5, 6, 7, 8, 9, 10, 11, 12, 14, 15, 16, 17, 18], \"Position\": \"WR\", \"Drafted\": true, \"Total points per stint\": 121.30000000000001}, {\"Stint_id\": 288, \"Player\": \"Michael Gallup\", \"Team\": \"Flex Player All Stars\", \"ProTeam\": \"DAL\", \"Added\": \"2022-09-07T00:00:00\", \"Bid Amount ($)\": 1, \"Dropped\": \"2022-09-13T00:00:00\", \"Stint (wks)\": [1], \"Position\": \"WR\", \"Drafted\": true, \"Total points per stint\": 0.0}, {\"Stint_id\": 289, \"Player\": \"Michael Gallup\", \"Team\": \"Kittle Me Elmo\", \"ProTeam\": \"DAL\", \"Added\": \"2022-10-05T00:00:00\", \"Bid Amount ($)\": 17, \"Dropped\": \"2022-11-02T00:00:00\", \"Stint (wks)\": [5, 6, 7, 8], \"Position\": \"WR\", \"Drafted\": true, \"Total points per stint\": 16.1}, {\"Stint_id\": 290, \"Player\": \"Michael Gallup\", \"Team\": \"Ice City USA\", \"ProTeam\": \"DAL\", \"Added\": \"2022-12-08T00:00:00\", \"Bid Amount ($)\": 1, \"Dropped\": \"\", \"Stint (wks)\": [14, 15, 16, 17, 18], \"Position\": \"WR\", \"Drafted\": true, \"Total points per stint\": 22.700000000000003}, {\"Stint_id\": 291, \"Player\": \"Michael Pittman Jr.\", \"Team\": \"Kittle Me Elmo\", \"ProTeam\": \"IND\", \"Added\": \"2022-09-07T00:00:00\", \"Bid Amount ($)\": 41, \"Dropped\": \"\", \"Stint (wks)\": [1, 2, 3, 4, 5, 6, 7, 8, 9, 10, 11, 12, 13, 15, 16, 17, 18], \"Position\": \"WR\", \"Drafted\": true, \"Total points per stint\": 156.5}, {\"Stint_id\": 292, \"Player\": \"Michael Thomas\", \"Team\": \"Kittle Me Elmo\", \"ProTeam\": \"NO\", \"Added\": \"2022-09-07T00:00:00\", \"Bid Amount ($)\": 11, \"Dropped\": \"2022-11-06T00:00:00\", \"Stint (wks)\": [1, 2, 3, 4, 5, 6, 7, 8], \"Position\": \"WR\", \"Drafted\": true, \"Total points per stint\": 43.1}, {\"Stint_id\": 294, \"Player\": \"Mike Evans\", \"Team\": \"Door City\", \"ProTeam\": \"TB\", \"Added\": \"2022-09-07T00:00:00\", \"Bid Amount ($)\": 41, \"Dropped\": \"\", \"Stint (wks)\": [1, 2, 3, 4, 5, 6, 7, 8, 9, 10, 12, 13, 14, 15, 16, 17, 18], \"Position\": \"WR\", \"Drafted\": true, \"Total points per stint\": 190.9}, {\"Stint_id\": 298, \"Player\": \"Mike Williams\", \"Team\": \"is the fantasy season everett?\", \"ProTeam\": \"LAC\", \"Added\": \"2022-09-07T00:00:00\", \"Bid Amount ($)\": 21, \"Dropped\": \"\", \"Stint (wks)\": [1, 2, 3, 4, 5, 6, 7, 9, 10, 11, 12, 13, 14, 15, 16, 17, 18], \"Position\": \"WR\", \"Drafted\": true, \"Total points per stint\": 139.8}, {\"Stint_id\": 305, \"Player\": \"Nico Collins\", \"Team\": \"Big Joshy Style\", \"ProTeam\": \"HOU\", \"Added\": \"2022-09-07T00:00:00\", \"Bid Amount ($)\": 1, \"Dropped\": \"\", \"Stint (wks)\": [1, 2, 3, 4, 5, 7, 8, 9, 10, 11, 12, 13, 14, 15, 16, 17, 18], \"Position\": \"WR\", \"Drafted\": true, \"Total points per stint\": 78.60000000000001}, {\"Stint_id\": 332, \"Player\": \"Rashod Bateman\", \"Team\": \"Fumble .\", \"ProTeam\": \"BAL\", \"Added\": \"2022-09-07T00:00:00\", \"Bid Amount ($)\": 7, \"Dropped\": \"2022-11-02T00:00:00\", \"Stint (wks)\": [1, 2, 3, 4, 5, 6, 7, 8], \"Position\": \"WR\", \"Drafted\": true, \"Total points per stint\": 46.00000000000001}, {\"Stint_id\": 359, \"Player\": \"Stefon Diggs\", \"Team\": \"Flex Player All Stars\", \"ProTeam\": \"BUF\", \"Added\": \"2022-09-07T00:00:00\", \"Bid Amount ($)\": 59, \"Dropped\": \"\", \"Stint (wks)\": [1, 2, 3, 4, 5, 6, 8, 9, 10, 11, 12, 13, 14, 15, 16, 18], \"Position\": \"WR\", \"Drafted\": true, \"Total points per stint\": 242.69999999999996}, {\"Stint_id\": 362, \"Player\": \"Tee Higgins\", \"Team\": \"Sweetless in Seattle\", \"ProTeam\": \"CIN\", \"Added\": \"2022-09-07T00:00:00\", \"Bid Amount ($)\": 27, \"Dropped\": \"\", \"Stint (wks)\": [1, 2, 3, 4, 5, 6, 7, 8, 9, 11, 12, 13, 14, 15, 16, 18], \"Position\": \"WR\", \"Drafted\": true, \"Total points per stint\": 182.70000000000002}, {\"Stint_id\": 363, \"Player\": \"Terry McLaurin\", \"Team\": \"The Genaissance\", \"ProTeam\": \"WSH\", \"Added\": \"2022-09-07T00:00:00\", \"Bid Amount ($)\": 27, \"Dropped\": \"\", \"Stint (wks)\": [1, 2, 3, 4, 5, 6, 7, 8, 9, 10, 11, 12, 13, 15, 16, 17, 18], \"Position\": \"WR\", \"Drafted\": true, \"Total points per stint\": 175.6}, {\"Stint_id\": 376, \"Player\": \"Treylon Burks\", \"Team\": \"Ice City USA\", \"ProTeam\": \"TEN\", \"Added\": \"2022-09-07T00:00:00\", \"Bid Amount ($)\": 2, \"Dropped\": \"2022-09-22T00:00:00\", \"Stint (wks)\": [1, 2], \"Position\": \"WR\", \"Drafted\": true, \"Total points per stint\": 13.7}, {\"Stint_id\": 377, \"Player\": \"Treylon Burks\", \"Team\": \"Ice City USA\", \"ProTeam\": \"TEN\", \"Added\": \"2022-09-23T00:00:00\", \"Bid Amount ($)\": 1, \"Dropped\": \"2022-10-05T00:00:00\", \"Stint (wks)\": [3, 4], \"Position\": \"WR\", \"Drafted\": true, \"Total points per stint\": 5.4}, {\"Stint_id\": 378, \"Player\": \"Treylon Burks\", \"Team\": \"Ice City USA\", \"ProTeam\": \"TEN\", \"Added\": \"2022-11-24T00:00:00\", \"Bid Amount ($)\": 2, \"Dropped\": \"\", \"Stint (wks)\": [12, 13, 14, 15, 16, 17, 18], \"Position\": \"WR\", \"Drafted\": true, \"Total points per stint\": 36.1}, {\"Stint_id\": 387, \"Player\": \"Tyler Boyd\", \"Team\": \"More than a  Thielen\", \"ProTeam\": \"CIN\", \"Added\": \"2022-09-07T00:00:00\", \"Bid Amount ($)\": 1, \"Dropped\": \"\", \"Stint (wks)\": [1, 2, 3, 4, 5, 6, 7, 8, 9, 11, 12, 13, 14, 15, 16, 18], \"Position\": \"WR\", \"Drafted\": true, \"Total points per stint\": 130.4}, {\"Stint_id\": 394, \"Player\": \"Tyler Lockett\", \"Team\": \"Ice City USA\", \"ProTeam\": \"SEA\", \"Added\": \"2022-09-07T00:00:00\", \"Bid Amount ($)\": 2, \"Dropped\": \"2022-09-14T00:00:00\", \"Stint (wks)\": [1], \"Position\": \"WR\", \"Drafted\": true, \"Total points per stint\": 4.3}, {\"Stint_id\": 395, \"Player\": \"Tyler Lockett\", \"Team\": \"Frankel's Cankles\", \"ProTeam\": \"SEA\", \"Added\": \"2022-09-21T00:00:00\", \"Bid Amount ($)\": 1, \"Dropped\": \"\", \"Stint (wks)\": [3, 4, 5, 6, 7, 8, 9, 10, 12, 13, 14, 15, 16, 17, 18], \"Position\": \"WR\", \"Drafted\": true, \"Total points per stint\": 162.4}, {\"Stint_id\": 396, \"Player\": \"Tyreek Hill\", \"Team\": \"Big Joshy Style\", \"ProTeam\": \"MIA\", \"Added\": \"2022-09-07T00:00:00\", \"Bid Amount ($)\": 41, \"Dropped\": \"\", \"Stint (wks)\": [1, 2, 3, 4, 5, 6, 7, 8, 9, 10, 12, 13, 14, 15, 16, 17, 18], \"Position\": \"WR\", \"Drafted\": true, \"Total points per stint\": 284.4}, {\"Stint_id\": 397, \"Player\": \"Van Jefferson\", \"Team\": \"More than a  Thielen\", \"ProTeam\": \"LAR\", \"Added\": \"2022-09-07T00:00:00\", \"Bid Amount ($)\": 1, \"Dropped\": \"\", \"Stint (wks)\": [1, 2, 3, 4, 5, 6, 8, 9, 10, 11, 12, 13, 14, 15, 16, 17, 18], \"Position\": \"WR\", \"Drafted\": true, \"Total points per stint\": 59.300000000000004}]}}, {\"mode\": \"vega-lite\"});\n",
       "</script>"
      ],
      "text/plain": [
       "alt.Chart(...)"
      ]
     },
     "execution_count": 16,
     "metadata": {},
     "output_type": "execute_result"
    }
   ],
   "source": [
    "plot_title,chart = scatterplot_acquisitions(df_stints, position='WR', acq_by_draft=True)\n",
    "chart"
   ]
  },
  {
   "cell_type": "markdown",
   "metadata": {},
   "source": [
    "## Waiver Wire Acquisitions"
   ]
  },
  {
   "cell_type": "code",
   "execution_count": 17,
   "metadata": {},
   "outputs": [
    {
     "data": {
      "text/html": [
       "\n",
       "<div id=\"altair-viz-9b985b2346ae413783d784f5369580f7\"></div>\n",
       "<script type=\"text/javascript\">\n",
       "  var VEGA_DEBUG = (typeof VEGA_DEBUG == \"undefined\") ? {} : VEGA_DEBUG;\n",
       "  (function(spec, embedOpt){\n",
       "    let outputDiv = document.currentScript.previousElementSibling;\n",
       "    if (outputDiv.id !== \"altair-viz-9b985b2346ae413783d784f5369580f7\") {\n",
       "      outputDiv = document.getElementById(\"altair-viz-9b985b2346ae413783d784f5369580f7\");\n",
       "    }\n",
       "    const paths = {\n",
       "      \"vega\": \"https://cdn.jsdelivr.net/npm//vega@5?noext\",\n",
       "      \"vega-lib\": \"https://cdn.jsdelivr.net/npm//vega-lib?noext\",\n",
       "      \"vega-lite\": \"https://cdn.jsdelivr.net/npm//vega-lite@4.17.0?noext\",\n",
       "      \"vega-embed\": \"https://cdn.jsdelivr.net/npm//vega-embed@6?noext\",\n",
       "    };\n",
       "\n",
       "    function maybeLoadScript(lib, version) {\n",
       "      var key = `${lib.replace(\"-\", \"\")}_version`;\n",
       "      return (VEGA_DEBUG[key] == version) ?\n",
       "        Promise.resolve(paths[lib]) :\n",
       "        new Promise(function(resolve, reject) {\n",
       "          var s = document.createElement('script');\n",
       "          document.getElementsByTagName(\"head\")[0].appendChild(s);\n",
       "          s.async = true;\n",
       "          s.onload = () => {\n",
       "            VEGA_DEBUG[key] = version;\n",
       "            return resolve(paths[lib]);\n",
       "          };\n",
       "          s.onerror = () => reject(`Error loading script: ${paths[lib]}`);\n",
       "          s.src = paths[lib];\n",
       "        });\n",
       "    }\n",
       "\n",
       "    function showError(err) {\n",
       "      outputDiv.innerHTML = `<div class=\"error\" style=\"color:red;\">${err}</div>`;\n",
       "      throw err;\n",
       "    }\n",
       "\n",
       "    function displayChart(vegaEmbed) {\n",
       "      vegaEmbed(outputDiv, spec, embedOpt)\n",
       "        .catch(err => showError(`Javascript Error: ${err.message}<br>This usually means there's a typo in your chart specification. See the javascript console for the full traceback.`));\n",
       "    }\n",
       "\n",
       "    if(typeof define === \"function\" && define.amd) {\n",
       "      requirejs.config({paths});\n",
       "      require([\"vega-embed\"], displayChart, err => showError(`Error loading script: ${err.message}`));\n",
       "    } else {\n",
       "      maybeLoadScript(\"vega\", \"5\")\n",
       "        .then(() => maybeLoadScript(\"vega-lite\", \"4.17.0\"))\n",
       "        .then(() => maybeLoadScript(\"vega-embed\", \"6\"))\n",
       "        .catch(showError)\n",
       "        .then(() => displayChart(vegaEmbed));\n",
       "    }\n",
       "  })({\"config\": {\"view\": {\"continuousWidth\": 400, \"continuousHeight\": 300}, \"axis\": {\"labelFontSize\": 18, \"titleFontSize\": 18}, \"legend\": {\"labelFontSize\": 14, \"titleFontSize\": 14}, \"title\": {\"fontSize\": 20}}, \"data\": {\"name\": \"data-bf523456b7d42366556ce5a3de95efcc\"}, \"mark\": {\"type\": \"circle\", \"size\": 40}, \"encoding\": {\"color\": {\"condition\": {\"field\": \"Team\", \"scale\": {\"scheme\": \"tableau20\"}, \"type\": \"nominal\", \"selection\": \"selector003\"}, \"value\": \"lightgray\"}, \"opacity\": {\"condition\": {\"value\": 1, \"selection\": \"selector003\"}, \"value\": 0.1}, \"tooltip\": [{\"field\": \"Player\", \"type\": \"nominal\"}, {\"field\": \"Team\", \"type\": \"nominal\"}, {\"field\": \"Bid Amount ($)\", \"type\": \"quantitative\"}, {\"field\": \"Total points per stint\", \"type\": \"quantitative\"}], \"x\": {\"axis\": {\"grid\": false}, \"field\": \"Bid Amount ($)\", \"type\": \"quantitative\"}, \"y\": {\"axis\": {\"grid\": false}, \"field\": \"Total points per stint\", \"type\": \"quantitative\"}}, \"height\": 450, \"selection\": {\"selector003\": {\"type\": \"multi\", \"fields\": [\"Team\"], \"bind\": \"legend\"}}, \"title\": \"Position: WR , Acquired by: Waiver\", \"width\": 450, \"$schema\": \"https://vega.github.io/schema/vega-lite/v4.17.0.json\", \"datasets\": {\"data-bf523456b7d42366556ce5a3de95efcc\": [{\"Stint_id\": 7, \"Player\": \"Alec Pierce\", \"Team\": \"The Genaissance\", \"ProTeam\": \"IND\", \"Added\": \"2022-10-23T00:00:00\", \"Bid Amount ($)\": 1, \"Dropped\": \"2022-11-02T00:00:00\", \"Stint (wks)\": [7, 8], \"Position\": \"WR\", \"Drafted\": false, \"Total points per stint\": 13.2}, {\"Stint_id\": 73, \"Player\": \"Christian Watson\", \"Team\": \"Door City\", \"ProTeam\": \"GB\", \"Added\": \"2022-11-16T00:00:00\", \"Bid Amount ($)\": 12, \"Dropped\": \"\", \"Stint (wks)\": [11, 12, 13, 15, 16, 17, 18], \"Position\": \"WR\", \"Drafted\": false, \"Total points per stint\": 77.1}, {\"Stint_id\": 89, \"Player\": \"Curtis Samuel\", \"Team\": \"Kittle Me Elmo\", \"ProTeam\": \"WSH\", \"Added\": \"2022-09-14T00:00:00\", \"Bid Amount ($)\": 3, \"Dropped\": \"2022-11-30T00:00:00\", \"Stint (wks)\": [2, 3, 4, 5, 6, 7, 8, 9, 10, 11, 12], \"Position\": \"WR\", \"Drafted\": false, \"Total points per stint\": 96.6}, {\"Stint_id\": 93, \"Player\": \"DJ Chark\", \"Team\": \"Door City\", \"ProTeam\": \"DET\", \"Added\": \"2022-10-01T00:00:00\", \"Bid Amount ($)\": 3, \"Dropped\": \"2022-10-01T00:00:00\", \"Stint (wks)\": [], \"Position\": \"WR\", \"Drafted\": false, \"Total points per stint\": 0.0}, {\"Stint_id\": 94, \"Player\": \"DJ Chark\", \"Team\": \"Door City\", \"ProTeam\": \"DET\", \"Added\": \"2022-10-01T00:00:00\", \"Bid Amount ($)\": 0, \"Dropped\": \"2022-10-01T00:00:00\", \"Stint (wks)\": [], \"Position\": \"WR\", \"Drafted\": false, \"Total points per stint\": 0.0}, {\"Stint_id\": 113, \"Player\": \"Darius Slayton\", \"Team\": \"Fumble .\", \"ProTeam\": \"NYG\", \"Added\": \"2022-11-24T00:00:00\", \"Bid Amount ($)\": 1, \"Dropped\": \"\", \"Stint (wks)\": [12, 13, 14, 15, 16, 17, 18], \"Position\": \"WR\", \"Drafted\": false, \"Total points per stint\": 40.1}, {\"Stint_id\": 139, \"Player\": \"Devin Duvernay\", \"Team\": \"More than a  Thielen\", \"ProTeam\": \"BAL\", \"Added\": \"2022-11-07T00:00:00\", \"Bid Amount ($)\": 5, \"Dropped\": \"2022-11-12T00:00:00\", \"Stint (wks)\": [9], \"Position\": \"WR\", \"Drafted\": false, \"Total points per stint\": 1.0}, {\"Stint_id\": 140, \"Player\": \"Devin Duvernay\", \"Team\": \"Kittle Me Elmo\", \"ProTeam\": \"BAL\", \"Added\": \"2022-11-17T00:00:00\", \"Bid Amount ($)\": 2, \"Dropped\": \"2022-11-23T00:00:00\", \"Stint (wks)\": [11], \"Position\": \"WR\", \"Drafted\": false, \"Total points per stint\": 1.2}, {\"Stint_id\": 147, \"Player\": \"Donovan Peoples-Jones\", \"Team\": \"Ice City USA\", \"ProTeam\": \"CLE\", \"Added\": \"2022-12-07T00:00:00\", \"Bid Amount ($)\": 3, \"Dropped\": \"2022-12-08T00:00:00\", \"Stint (wks)\": [], \"Position\": \"WR\", \"Drafted\": false, \"Total points per stint\": 0.0}, {\"Stint_id\": 148, \"Player\": \"Donovan Peoples-Jones\", \"Team\": \"Kittle Me Elmo\", \"ProTeam\": \"CLE\", \"Added\": \"2022-12-14T00:00:00\", \"Bid Amount ($)\": 5, \"Dropped\": \"\", \"Stint (wks)\": [15, 16, 17, 18], \"Position\": \"WR\", \"Drafted\": false, \"Total points per stint\": 19.599999999999998}, {\"Stint_id\": 172, \"Player\": \"George Pickens\", \"Team\": \"Kittle Me Elmo\", \"ProTeam\": \"PIT\", \"Added\": \"2022-09-11T00:00:00\", \"Bid Amount ($)\": 1, \"Dropped\": \"2022-09-14T00:00:00\", \"Stint (wks)\": [1], \"Position\": \"WR\", \"Drafted\": false, \"Total points per stint\": 0.8}, {\"Stint_id\": 173, \"Player\": \"George Pickens\", \"Team\": \"Kittle Me Elmo\", \"ProTeam\": \"PIT\", \"Added\": \"2022-10-05T00:00:00\", \"Bid Amount ($)\": 4, \"Dropped\": \"2022-10-19T00:00:00\", \"Stint (wks)\": [5, 6], \"Position\": \"WR\", \"Drafted\": false, \"Total points per stint\": 15.600000000000001}, {\"Stint_id\": 174, \"Player\": \"George Pickens\", \"Team\": \"Kittle Me Elmo\", \"ProTeam\": \"PIT\", \"Added\": \"2022-10-28T00:00:00\", \"Bid Amount ($)\": 1, \"Dropped\": \"\", \"Stint (wks)\": [8, 10, 11, 12, 13, 14, 15, 16, 17, 18], \"Position\": \"WR\", \"Drafted\": false, \"Total points per stint\": 72.9}, {\"Stint_id\": 180, \"Player\": \"Greg Dortch\", \"Team\": \"Door City\", \"ProTeam\": \"ARI\", \"Added\": \"2022-10-02T00:00:00\", \"Bid Amount ($)\": 1, \"Dropped\": \"2022-10-05T00:00:00\", \"Stint (wks)\": [4], \"Position\": \"WR\", \"Drafted\": false, \"Total points per stint\": 1.1}, {\"Stint_id\": 208, \"Player\": \"Jahan Dotson\", \"Team\": \"Ice City USA\", \"ProTeam\": \"WSH\", \"Added\": \"2022-09-14T00:00:00\", \"Bid Amount ($)\": 1, \"Dropped\": \"2022-10-12T00:00:00\", \"Stint (wks)\": [2, 3, 4, 5], \"Position\": \"WR\", \"Drafted\": false, \"Total points per stint\": 29.7}, {\"Stint_id\": 209, \"Player\": \"Jahan Dotson\", \"Team\": \"Door City\", \"ProTeam\": \"WSH\", \"Added\": \"2022-12-31T00:00:00\", \"Bid Amount ($)\": 1, \"Dropped\": \"\", \"Stint (wks)\": [17, 18], \"Position\": \"WR\", \"Drafted\": false, \"Total points per stint\": 5.2}, {\"Stint_id\": 217, \"Player\": \"Jameson Williams\", \"Team\": \"Ice City USA\", \"ProTeam\": \"DET\", \"Added\": \"2022-10-12T00:00:00\", \"Bid Amount ($)\": 1, \"Dropped\": \"2022-10-26T00:00:00\", \"Stint (wks)\": [7], \"Position\": \"WR\", \"Drafted\": false, \"Total points per stint\": 0.0}, {\"Stint_id\": 242, \"Player\": \"Joshua Palmer\", \"Team\": \"Kittle Me Elmo\", \"ProTeam\": \"LAC\", \"Added\": \"2022-10-27T00:00:00\", \"Bid Amount ($)\": 1, \"Dropped\": \"2022-10-28T00:00:00\", \"Stint (wks)\": [], \"Position\": \"WR\", \"Drafted\": false, \"Total points per stint\": 0.0}, {\"Stint_id\": 243, \"Player\": \"Joshua Palmer\", \"Team\": \"Flex Player All Stars\", \"ProTeam\": \"LAC\", \"Added\": \"2022-11-04T00:00:00\", \"Bid Amount ($)\": 2, \"Dropped\": \"2022-12-27T00:00:00\", \"Stint (wks)\": [9, 10, 11, 12, 13, 14, 15, 16], \"Position\": \"WR\", \"Drafted\": false, \"Total points per stint\": 82.0}, {\"Stint_id\": 246, \"Player\": \"Julio Jones\", \"Team\": \"Door City\", \"ProTeam\": \"TB\", \"Added\": \"2022-09-14T00:00:00\", \"Bid Amount ($)\": 4, \"Dropped\": \"2022-09-28T00:00:00\", \"Stint (wks)\": [2, 3], \"Position\": \"WR\", \"Drafted\": false, \"Total points per stint\": 0.0}, {\"Stint_id\": 278, \"Player\": \"Marquise Goodwin\", \"Team\": \"is the fantasy season everett?\", \"ProTeam\": \"SEA\", \"Added\": \"2022-10-26T00:00:00\", \"Bid Amount ($)\": 1, \"Dropped\": \"2022-11-05T00:00:00\", \"Stint (wks)\": [8], \"Position\": \"WR\", \"Drafted\": false, \"Total points per stint\": 5.3}, {\"Stint_id\": 284, \"Player\": \"Mecole Hardman\", \"Team\": \"Door City\", \"ProTeam\": \"KC\", \"Added\": \"2022-11-10T00:00:00\", \"Bid Amount ($)\": 1, \"Dropped\": \"2022-11-19T00:00:00\", \"Stint (wks)\": [10], \"Position\": \"WR\", \"Drafted\": false, \"Total points per stint\": 0.0}, {\"Stint_id\": 306, \"Player\": \"Noah Brown\", \"Team\": \"is the fantasy season everett?\", \"ProTeam\": \"DAL\", \"Added\": \"2022-09-22T00:00:00\", \"Bid Amount ($)\": 2, \"Dropped\": \"2022-10-16T00:00:00\", \"Stint (wks)\": [3, 4, 5], \"Position\": \"WR\", \"Drafted\": false, \"Total points per stint\": 16.5}, {\"Stint_id\": 317, \"Player\": \"Parris Campbell\", \"Team\": \"The Genaissance\", \"ProTeam\": \"IND\", \"Added\": \"2022-10-30T00:00:00\", \"Bid Amount ($)\": 1, \"Dropped\": \"2022-12-02T00:00:00\", \"Stint (wks)\": [8, 9, 10, 11, 12], \"Position\": \"WR\", \"Drafted\": false, \"Total points per stint\": 39.4}, {\"Stint_id\": 342, \"Player\": \"Romeo Doubs\", \"Team\": \"Sweetless in Seattle\", \"ProTeam\": \"GB\", \"Added\": \"2022-09-28T00:00:00\", \"Bid Amount ($)\": 22, \"Dropped\": \"2022-10-27T00:00:00\", \"Stint (wks)\": [4, 5, 6, 7], \"Position\": \"WR\", \"Drafted\": false, \"Total points per stint\": 19.7}, {\"Stint_id\": 343, \"Player\": \"Romeo Doubs\", \"Team\": \"Fumble .\", \"ProTeam\": \"GB\", \"Added\": \"2022-11-02T00:00:00\", \"Bid Amount ($)\": 13, \"Dropped\": \"2022-11-16T00:00:00\", \"Stint (wks)\": [9, 10], \"Position\": \"WR\", \"Drafted\": false, \"Total points per stint\": 2.3}, {\"Stint_id\": 344, \"Player\": \"Romeo Doubs\", \"Team\": \"Door City\", \"ProTeam\": \"GB\", \"Added\": \"2023-01-01T00:00:00\", \"Bid Amount ($)\": 1, \"Dropped\": \"\", \"Stint (wks)\": [17, 18], \"Position\": \"WR\", \"Drafted\": false, \"Total points per stint\": 3.5}, {\"Stint_id\": 345, \"Player\": \"Rondale Moore\", \"Team\": \"Kittle Me Elmo\", \"ProTeam\": \"ARI\", \"Added\": \"2022-11-09T00:00:00\", \"Bid Amount ($)\": 3, \"Dropped\": \"2022-12-01T00:00:00\", \"Stint (wks)\": [10, 11, 12], \"Position\": \"WR\", \"Drafted\": false, \"Total points per stint\": 13.3}, {\"Stint_id\": 401, \"Player\": \"Wan'Dale Robinson\", \"Team\": \"Door City\", \"ProTeam\": \"NYG\", \"Added\": \"2022-10-19T00:00:00\", \"Bid Amount ($)\": 2, \"Dropped\": \"2022-11-02T00:00:00\", \"Stint (wks)\": [7, 8], \"Position\": \"WR\", \"Drafted\": false, \"Total points per stint\": 10.5}, {\"Stint_id\": 406, \"Player\": \"Zay Jones\", \"Team\": \"Kittle Me Elmo\", \"ProTeam\": \"JAX\", \"Added\": \"2022-11-30T00:00:00\", \"Bid Amount ($)\": 5, \"Dropped\": \"\", \"Stint (wks)\": [13, 14, 15, 16, 17, 18], \"Position\": \"WR\", \"Drafted\": false, \"Total points per stint\": 57.7}]}}, {\"mode\": \"vega-lite\"});\n",
       "</script>"
      ],
      "text/plain": [
       "alt.Chart(...)"
      ]
     },
     "execution_count": 17,
     "metadata": {},
     "output_type": "execute_result"
    }
   ],
   "source": [
    "plot_title,chart = scatterplot_acquisitions(df_stints, position='WR', acq_by_draft=False)\n",
    "chart"
   ]
  },
  {
   "cell_type": "markdown",
   "metadata": {},
   "source": [
    "Curtis Samuel was the most valuable waiver wire receiver."
   ]
  }
 ],
 "metadata": {
  "kernelspec": {
   "display_name": "Python 3 (ipykernel)",
   "language": "python",
   "name": "python3"
  },
  "language_info": {
   "codemirror_mode": {
    "name": "ipython",
    "version": 3
   },
   "file_extension": ".py",
   "mimetype": "text/x-python",
   "name": "python",
   "nbconvert_exporter": "python",
   "pygments_lexer": "ipython3",
   "version": "3.9.13"
  },
  "vscode": {
   "interpreter": {
    "hash": "ff9fae090fc4d4cb7e8012a224cccb27ac950fda670b97af54b7710c35615604"
   }
  }
 },
 "nbformat": 4,
 "nbformat_minor": 2
}
