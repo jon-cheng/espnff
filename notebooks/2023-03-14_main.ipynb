{
 "cells": [
  {
   "cell_type": "markdown",
   "metadata": {},
   "source": [
    "This is a retrospective data analysis of our ESPN Fantasy Football league data at the end of Week 17 for the 2022 season. The code can be re-used for any past season using the same ESPN API.\n",
    "\n",
    "I used the [Pro Football Reference](https://www.pro-football-reference.com/years/2022/games.htm) for NFL schedules and [Christian Wendt's ESPN Fantasy Football API](https://github.com/cwendt94/espn-api) to extract ESPN league-specific data.\n",
    "\n",
    "For data visualization, I used the [Altair Data Visualization Library](https://altair-viz.github.io/). Altair was chosen for its interactivity, especially for its ability to display hover data and the compatibility of interactive plots with GitHub Pages.\n",
    "\n",
    "One question this analysis can answer is: what was the return on investment of a given players with fantasy draft or waiver budget dollars (FAAB).\n",
    "\n",
    "See src directory for source code."
   ]
  },
  {
   "cell_type": "code",
   "execution_count": 1,
   "metadata": {},
   "outputs": [],
   "source": [
    "# %cd /Users/jonathancheng/PycharmProjects/espnff/src/\n",
    "# %cd ../src/espnff_analysis/\n"
   ]
  },
  {
   "cell_type": "code",
   "execution_count": 2,
   "metadata": {},
   "outputs": [],
   "source": [
    "# pwd"
   ]
  },
  {
   "cell_type": "code",
   "execution_count": 3,
   "metadata": {},
   "outputs": [],
   "source": [
    "import streamlit as st\n",
    "\n",
    "import espnff_analysis.nfl_schedule as nf\n",
    "import espnff_analysis.ff_league_data as ff\n",
    "import espnff_analysis.calc_best_waiver as cbw\n",
    "from espnff_analysis.plotting import scatterplot_acquisitions\n",
    "\n",
    "\n"
   ]
  },
  {
   "cell_type": "markdown",
   "metadata": {},
   "source": [
    "## Get NFL Schedule"
   ]
  },
  {
   "cell_type": "code",
   "execution_count": 4,
   "metadata": {},
   "outputs": [],
   "source": [
    "year_of_interest=2020\n",
    "\n",
    "path = r'/Users/jonathancheng/PycharmProjects/espnff/espnff_analysis/data'\n",
    "\n",
    "league_id = 1094090\n",
    "year = year_of_interest\n",
    "\n",
    "swid = \"{F191FB8C-DB2D-4D24-91FB-8CDB2DED249D}\"\n",
    "s2='AECJMQHsUHB0FTXdZkw93uY7GRbX8BPnm93Ye6AwvwrMsrZFGg1Lbmi07SWVov2ioN8zGMFDzZiiDSeQCa7WQHaGivGnMfGWLjmfGwkOeLXb5baD1sltp%2B%2BIfHAtl98TpmHgB16ZpGn6g3Bm5vLEA7yDC6HkbD3LSp0E2rGB7hKziLMvZ7mT6ONJFRe8Xp3ApYWSvxPr9cz0pJiI%2FF0blsZ8hyATDJMEyaQ2O%2FypcsViORr6hqYTmXHPuPKnMBfvYC8LQqi1exGw3vnyg6ptsB2Y'\n",
    "\n",
    "espn_s2 = s2\n"
   ]
  },
  {
   "cell_type": "code",
   "execution_count": 5,
   "metadata": {},
   "outputs": [],
   "source": [
    "df_proteam_schedule = nf.get_nfl_schedule(year_of_interest)\n",
    "season_start_date = nf.get_season_start_date(df_proteam_schedule)"
   ]
  },
  {
   "cell_type": "markdown",
   "metadata": {},
   "source": [
    "## Generate League object"
   ]
  },
  {
   "cell_type": "code",
   "execution_count": 6,
   "metadata": {},
   "outputs": [],
   "source": [
    "league = ff.fetch_espn_api(league_id, year, espn_s2, swid)\n"
   ]
  },
  {
   "cell_type": "code",
   "execution_count": 7,
   "metadata": {},
   "outputs": [],
   "source": [
    "# import retry\n",
    "# import requests\n",
    "\n",
    "# @retry.retry(tries=5,delay=3)\n",
    "# def get_league_activity(league , n_iter=1000000):\n",
    "#     return league.recent_activity(n_iter)\n",
    "\n",
    "# def get_league_activity_wrapper(league):\n",
    "#     try:\n",
    "#         return get_league_activity(league)\n",
    "#     except requests.exceptions.ConnectionError:\n",
    "#         raise ConnectionError (\"Could not fetch league data, try re-running the program.\")\n",
    "     \n",
    "\n",
    "# activity_ls = get_league_activity_wrapper(league)"
   ]
  },
  {
   "cell_type": "code",
   "execution_count": 8,
   "metadata": {},
   "outputs": [
    {
     "name": "stdout",
     "output_type": "stream",
     "text": [
      "Fetching league data from espn_api ...\n"
     ]
    },
    {
     "name": "stderr",
     "output_type": "stream",
     "text": [
      "2023-03-19 17:43:43.721 WARNING retry.api: ('Connection aborted.', TimeoutError(60, 'Operation timed out')), retrying in 3 seconds...\n"
     ]
    }
   ],
   "source": [
    "# activity_ls = league.recent_activity(1000000)\n",
    "activity_ls = ff.try_get_league_activity(league)\n",
    "wk_ls = ff.get_weeks(league)"
   ]
  },
  {
   "cell_type": "code",
   "execution_count": null,
   "metadata": {},
   "outputs": [],
   "source": [
    "# import time\n",
    "\n",
    "# max_attempts = 3  # set the maximum number of attempts\n",
    "# attempt = 1  # initialize the attempt counter\n",
    "\n",
    "# while attempt <= max_attempts:\n",
    "#     try:\n",
    "#         # code that might time out goes here\n",
    "#         # ...\n",
    "#         # if the code runs successfully, break out of the loop\n",
    "#         activity_ls = league.recent_activity(1000000)\n",
    "\n",
    "#         break\n",
    "#     except Exception as e:\n",
    "#         # if there's an exception (e.g. a timeout), print an error message\n",
    "#         print(f\"Error: {e}\")\n",
    "#         # wait for a bit before retrying\n",
    "#         time.sleep(5)\n",
    "#         # increment the attempt counter\n",
    "#         attempt += 1\n",
    "# else:\n",
    "#     # if the maximum number of attempts is reached without success, print an error message\n",
    "#     print(\"Maximum number of attempts reached. Program timed out.\")\n"
   ]
  },
  {
   "cell_type": "markdown",
   "metadata": {},
   "source": [
    "## Get Acquisitions Data"
   ]
  },
  {
   "cell_type": "code",
   "execution_count": null,
   "metadata": {},
   "outputs": [],
   "source": [
    "# fetch league data, wrangle into acquisitions DataFrame\n",
    "\n",
    "acq_data_flat_ls = ff.get_acq_ls(activity_ls)\n",
    "\n",
    "df_acq = ff.build_df_acq(acq_data_flat_ls)"
   ]
  },
  {
   "cell_type": "markdown",
   "metadata": {},
   "source": [
    "## Get Draft Data"
   ]
  },
  {
   "cell_type": "code",
   "execution_count": null,
   "metadata": {},
   "outputs": [],
   "source": [
    "df_draft,drafted_players = ff.build_df_draft(league)"
   ]
  },
  {
   "cell_type": "markdown",
   "metadata": {},
   "source": [
    "## Get total points of rostered players Dataframe"
   ]
  },
  {
   "cell_type": "code",
   "execution_count": null,
   "metadata": {},
   "outputs": [],
   "source": [
    "df_rostered = ff.build_df_rostered(league)"
   ]
  },
  {
   "cell_type": "markdown",
   "metadata": {},
   "source": [
    "## Get total points of free agent players Dataframe"
   ]
  },
  {
   "cell_type": "code",
   "execution_count": null,
   "metadata": {},
   "outputs": [],
   "source": [
    "df_FA = ff.build_df_FA(league)"
   ]
  },
  {
   "cell_type": "code",
   "execution_count": null,
   "metadata": {},
   "outputs": [],
   "source": [
    "# Generate all player stats dataframe, including all Free Agents\n",
    "df_player_stats = ff.build_df_player_stats(df_rostered,df_FA)"
   ]
  },
  {
   "cell_type": "code",
   "execution_count": null,
   "metadata": {},
   "outputs": [],
   "source": [
    "df_draft_stats = ff.build_df_draft_stats(df_draft,df_player_stats)\n",
    "df_acq_stats = ff.build_df_acq_stats(df_acq,df_player_stats)\n",
    "df_acq_final = ff.build_df_acq_final(season_start_date, df_draft_stats, df_acq_stats, drafted_players)"
   ]
  },
  {
   "cell_type": "markdown",
   "metadata": {},
   "source": [
    "## Get player_box_scores from fantasy season"
   ]
  },
  {
   "cell_type": "code",
   "execution_count": null,
   "metadata": {},
   "outputs": [],
   "source": [
    "df_player_box_scores = ff.build_df_player_box_scores(league, wk_ls)"
   ]
  },
  {
   "cell_type": "markdown",
   "metadata": {},
   "source": [
    "## Construct df_stints"
   ]
  },
  {
   "cell_type": "code",
   "execution_count": null,
   "metadata": {},
   "outputs": [],
   "source": [
    "df_stints=ff.build_df_stints(df_acq_final, df_proteam_schedule, df_player_stats, drafted_players, df_player_box_scores)"
   ]
  },
  {
   "cell_type": "code",
   "execution_count": null,
   "metadata": {},
   "outputs": [],
   "source": [
    "\n",
    "df_stints['Total points per stint'] = df_stints.apply(lambda x: ff.get_total_pts_per_player(x['Player'], x['Stint (wks)'], df_player_box_scores),axis=1).fillna(0)"
   ]
  },
  {
   "cell_type": "code",
   "execution_count": null,
   "metadata": {},
   "outputs": [],
   "source": [
    "def merge_lists(series):\n",
    "    return list(set([item for sublist in series for item in sublist]))\n",
    "    # return list(itertools.chain(*ls))"
   ]
  },
  {
   "cell_type": "code",
   "execution_count": null,
   "metadata": {},
   "outputs": [],
   "source": [
    "df_temp=df_stints.groupby(by=['Player', 'Team']).agg({'Total points per stint':'sum', 'Stint (wks)':list}).reset_index()"
   ]
  },
  {
   "cell_type": "code",
   "execution_count": null,
   "metadata": {},
   "outputs": [],
   "source": [
    "df_temp['Stint (wks)'] = df_temp['Stint (wks)'].apply(lambda x: list(itertools.chain(*x)))"
   ]
  },
  {
   "cell_type": "code",
   "execution_count": null,
   "metadata": {},
   "outputs": [],
   "source": [
    "df_temp"
   ]
  },
  {
   "cell_type": "code",
   "execution_count": null,
   "metadata": {},
   "outputs": [],
   "source": [
    "df_stints[['Player','Team','ProTeam','Position','Drafted']].drop_duplicates()"
   ]
  },
  {
   "cell_type": "code",
   "execution_count": null,
   "metadata": {},
   "outputs": [],
   "source": [
    "df_player_ffteam = df_temp.merge(df_stints[['Player','Team','ProTeam','Position','Drafted']].drop_duplicates(), how='left')"
   ]
  },
  {
   "cell_type": "code",
   "execution_count": null,
   "metadata": {},
   "outputs": [],
   "source": [
    "for idx, x in df_player_ffteam.iterrows():\n",
    "    if x['Stint (wks)']:\n",
    "        df_player_ffteam.loc[idx,'quantile'] = cbw.calculate_scoring_quantile_per_stint(x['Stint (wks)'], x['Position'], x['Total points per stint'],df_player_box_scores)\n",
    "    else:\n",
    "        df_player_ffteam.loc[idx,'quantile'] = 0\n",
    "        "
   ]
  },
  {
   "cell_type": "code",
   "execution_count": null,
   "metadata": {},
   "outputs": [],
   "source": [
    "df_player_ffteam['Num weeks'] = df_player_ffteam['Stint (wks)'].apply(lambda x: len(x))"
   ]
  },
  {
   "cell_type": "code",
   "execution_count": null,
   "metadata": {},
   "outputs": [],
   "source": [
    "df_player_ffteam"
   ]
  },
  {
   "cell_type": "code",
   "execution_count": null,
   "metadata": {},
   "outputs": [],
   "source": [
    "df_waiver = df_player_ffteam[(~df_player_ffteam['Drafted']) & (df_player_ffteam['Num weeks']>=8)]"
   ]
  },
  {
   "cell_type": "code",
   "execution_count": null,
   "metadata": {},
   "outputs": [],
   "source": [
    "df_waiver.sort_values('quantile',ascending=False)"
   ]
  },
  {
   "cell_type": "code",
   "execution_count": null,
   "metadata": {},
   "outputs": [],
   "source": [
    "df_stints.head()"
   ]
  },
  {
   "cell_type": "code",
   "execution_count": null,
   "metadata": {},
   "outputs": [],
   "source": [
    "for idx, x in df_stints.iterrows():\n",
    "    if x['Stint (wks)']:\n",
    "        df_stints.loc[idx,'quantile'] = cbw.calculate_scoring_quantile_per_stint(x['Stint (wks)'], x['Position'], x['Total points per stint'],df_player_box_scores)\n",
    "    else:\n",
    "        df_stints.loc[idx,'quantile'] = 0\n",
    "        "
   ]
  },
  {
   "cell_type": "code",
   "execution_count": null,
   "metadata": {},
   "outputs": [],
   "source": [
    "df_stints"
   ]
  },
  {
   "cell_type": "code",
   "execution_count": null,
   "metadata": {},
   "outputs": [],
   "source": [
    "plot_title, chart=scatterplot_acquisitions(df_stints, select_acq_method=[True], select_positions=['QB','RB', 'WR', 'TE'])\n",
    "chart.display()"
   ]
  },
  {
   "cell_type": "code",
   "execution_count": null,
   "metadata": {},
   "outputs": [],
   "source": [
    "import altair as alt\n",
    "import pandas as pd\n",
    "\n",
    "select_acq_method=[True] \n",
    "select_positions=['QB','RB', 'WR', 'TE']\n",
    "\n",
    "if select_acq_method is None:\n",
    "    select_acq_method = [True]\n",
    "\n",
    "if select_positions is None:\n",
    "    select_positions = ['RB', 'WR', 'TE']\n",
    "\n",
    "g = df_stints.groupby(by=[\"Drafted\", \"Position\"])\n",
    "\n",
    "df = pd.concat([g.get_group((acq_by_draft, position))\n",
    "                for acq_by_draft in select_acq_method\n",
    "                for position in select_positions], axis=0)\n",
    "\n",
    "if select_acq_method[0]:\n",
    "    status = \"Draft\"\n",
    "else:\n",
    "    status = \"Waiver\"\n",
    "\n",
    "positions = ', '.join(select_positions)\n",
    "\n",
    "plot_title = f\"Position: {positions} , Acquired by: {status}\"\n",
    "selection = alt.selection_multi(fields=[\"Team\"], bind=\"legend\")\n",
    "\n",
    "color = alt.condition(\n",
    "    selection,\n",
    "    alt.Color(\n",
    "        \"Team:N\",\n",
    "        scale=alt.Scale(scheme=\"tableau20\"),\n",
    "    ),\n",
    "    alt.value(\"lightgray\"),\n",
    ")\n",
    "\n",
    "chart = (\n",
    "    alt.Chart(df)\n",
    "    .mark_circle(size=40)\n",
    "    .encode(\n",
    "        alt.X(\"Bid Amount ($)\", axis=alt.Axis(grid=False)),\n",
    "        alt.Y(\"quantile\", axis=alt.Axis(grid=False)),\n",
    "        color=color,\n",
    "        opacity=alt.condition(selection, alt.value(1), alt.value(0.1)),\n",
    "        tooltip=[\"Player\", \"Team\", \"Bid Amount ($)\", \"Total points per stint\"],\n",
    "    )\n",
    "    .add_selection(selection)\n",
    "    .properties(width=450, height=450, title=plot_title)\n",
    "    .configure_axis(labelFontSize=18, titleFontSize=18)\n",
    "    .configure_title(fontSize=20)\n",
    "    .configure_legend(labelFontSize=14, titleFontSize=14)\n",
    ")"
   ]
  },
  {
   "cell_type": "code",
   "execution_count": null,
   "metadata": {},
   "outputs": [],
   "source": [
    "chart.display()"
   ]
  },
  {
   "cell_type": "code",
   "execution_count": null,
   "metadata": {},
   "outputs": [],
   "source": [
    "import itertools\n",
    "list(itertools.chain(*ls))"
   ]
  },
  {
   "cell_type": "code",
   "execution_count": null,
   "metadata": {},
   "outputs": [],
   "source": [
    "# Build a scoring algorithm \n",
    "# Input: Position, Stint (wks), aTotal points, num weeks played\n",
    "# Calculate that player's percentile against the rest of his position for the total points scored in the given weeks\n",
    "# Get 1D array of the particular position within the timespan"
   ]
  },
  {
   "cell_type": "code",
   "execution_count": null,
   "metadata": {},
   "outputs": [],
   "source": [
    "def get_total_pts_per_player(player, stint, df_player_box_scores):\n",
    "    if stint:\n",
    "        g = df_player_box_scores.groupby(by=\"Player\")\n",
    "        df = g.get_group(player)\n",
    "        return df[df[\"Week\"].isin(stint)][\"Total points\"].sum()"
   ]
  },
  {
   "cell_type": "code",
   "execution_count": null,
   "metadata": {},
   "outputs": [],
   "source": [
    "# get quantile per stint\n",
    "\n"
   ]
  },
  {
   "cell_type": "code",
   "execution_count": null,
   "metadata": {},
   "outputs": [],
   "source": [
    "df_stints[df_stints['Player'].str.contains('Daniel Jones')]"
   ]
  },
  {
   "cell_type": "code",
   "execution_count": null,
   "metadata": {},
   "outputs": [],
   "source": [
    "df_stints.head()"
   ]
  },
  {
   "cell_type": "code",
   "execution_count": null,
   "metadata": {},
   "outputs": [],
   "source": [
    "stint = [13, 14, 15, 16, 17, 18]\n",
    "position = 'QB'\n",
    "total_points_oneplayer = 102.9\n",
    "\n",
    "df_temp=df_player_box_scores[(df_player_box_scores['Position'] == position) & (df_player_box_scores['Week'].isin(stint))]\n",
    "total_position_stint = df_temp.groupby(by=['Player']).agg({'Total points':'sum'}).reset_index()['Total points']\n",
    "quantile = total_position_stint.quantile((total_points_oneplayer-total_position_stint.min())/(total_position_stint.max()-total_position_stint.min()))\n"
   ]
  },
  {
   "cell_type": "code",
   "execution_count": null,
   "metadata": {},
   "outputs": [],
   "source": [
    "from scipy import stats\n",
    "\n",
    "def calculate_scoring_quantile_per_stint(stint,position,total_points_oneplayer):\n",
    "    \n",
    "    df_allplayers_stint = df_player_box_scores[(df_player_box_scores['Position'] == position) & (df_player_box_scores['Week'].isin(stint))]\n",
    "    total_position_stint = df_allplayers_stint.groupby(by=['Player']).agg({'Total points':'sum'}).reset_index()['Total points']\n",
    "    quantile = stats.percentileofscore(total_position_stint.values, total_points_oneplayer)\n",
    "    return quantile\n"
   ]
  },
  {
   "cell_type": "code",
   "execution_count": null,
   "metadata": {},
   "outputs": [],
   "source": [
    "df_stints=df_stints.drop(['quantile'],axis=1)"
   ]
  },
  {
   "cell_type": "code",
   "execution_count": null,
   "metadata": {},
   "outputs": [],
   "source": [
    "for idx, x in df_stints.iterrows():\n",
    "    if x['Stint (wks)']:\n",
    "        df_stints.loc[idx,'quantile'] = calculate_scoring_quantile_per_stint(x['Stint (wks)'], x['Position'], x['Total points per stint'])\n",
    "    else:\n",
    "        df_stints.loc[idx,'quantile'] = 0\n",
    "    "
   ]
  },
  {
   "cell_type": "code",
   "execution_count": null,
   "metadata": {},
   "outputs": [],
   "source": [
    "df_stints['Num wks'] = df_stints['Stint (wks)'].apply(lambda x: len(x))"
   ]
  },
  {
   "cell_type": "code",
   "execution_count": null,
   "metadata": {},
   "outputs": [],
   "source": [
    "df_stints1 = df_stints[df_stints['Num wks']>=7]"
   ]
  },
  {
   "cell_type": "code",
   "execution_count": null,
   "metadata": {},
   "outputs": [],
   "source": [
    "df_stints1[~df_stints1['Drafted']].sort_values(by=['quantile'],ascending=False)"
   ]
  },
  {
   "cell_type": "code",
   "execution_count": null,
   "metadata": {},
   "outputs": [],
   "source": [
    "for idx,x in df_stints.iterrows():\n",
    "    if idx == 1:\n",
    "        break"
   ]
  },
  {
   "cell_type": "code",
   "execution_count": null,
   "metadata": {},
   "outputs": [],
   "source": [
    "x"
   ]
  },
  {
   "cell_type": "code",
   "execution_count": null,
   "metadata": {},
   "outputs": [],
   "source": [
    "stint = x['Stint (wks)']\n",
    "position = x['Position']\n",
    "total_points_oneplayer = x['Total points per stint']\n",
    "print(total_points_oneplayer)\n",
    "\n",
    "df_allplayers_stint = df_player_box_scores[(df_player_box_scores['Position'] == position) & (df_player_box_scores['Week'].isin(stint))]\n"
   ]
  },
  {
   "cell_type": "code",
   "execution_count": null,
   "metadata": {},
   "outputs": [],
   "source": [
    "total_position_stint = df_allplayers_stint.groupby(by=['Player']).agg({'Total points':'sum'}).reset_index()['Total points']\n"
   ]
  },
  {
   "cell_type": "code",
   "execution_count": null,
   "metadata": {},
   "outputs": [],
   "source": [
    "total_position_stint.max()"
   ]
  },
  {
   "cell_type": "code",
   "execution_count": null,
   "metadata": {},
   "outputs": [],
   "source": [
    "total_position_stint.min()"
   ]
  },
  {
   "cell_type": "code",
   "execution_count": null,
   "metadata": {},
   "outputs": [],
   "source": [
    "quantile = stats.percentileofscore(total_position_stint.values, total_points_oneplayer)\n"
   ]
  },
  {
   "cell_type": "code",
   "execution_count": null,
   "metadata": {},
   "outputs": [],
   "source": [
    "quantile"
   ]
  },
  {
   "cell_type": "code",
   "execution_count": null,
   "metadata": {},
   "outputs": [],
   "source": [
    "# quantile = total_position_stint.quantile((total_points_oneplayer-total_position_stint.min())/(total_position_stint.max()-total_position_stint.min()))"
   ]
  },
  {
   "cell_type": "code",
   "execution_count": null,
   "metadata": {},
   "outputs": [],
   "source": [
    "quantile"
   ]
  },
  {
   "cell_type": "code",
   "execution_count": null,
   "metadata": {},
   "outputs": [],
   "source": []
  },
  {
   "cell_type": "code",
   "execution_count": null,
   "metadata": {},
   "outputs": [],
   "source": [
    "x"
   ]
  },
  {
   "cell_type": "code",
   "execution_count": null,
   "metadata": {},
   "outputs": [],
   "source": []
  },
  {
   "cell_type": "code",
   "execution_count": null,
   "metadata": {},
   "outputs": [],
   "source": [
    "df_stints[df_stints['Drafted']==False].sort_values(by=['quantile'],ascending=False)"
   ]
  },
  {
   "cell_type": "code",
   "execution_count": null,
   "metadata": {},
   "outputs": [],
   "source": [
    "# df_stints1 = df_stints[df_stints['Player'].str.contains('Daniel Jones')].iloc[-1,:]\n",
    "# df_stints1.apply(lambda x: calculate_scoring_quantile_per_stint(x['Stint (wks)'],x['Position'],x['Total points per stint']),axis=1)\n",
    "df_stints1.apply(lambda x: calculate_scoring_quantile_per_stint(x['Stint (wks)'], x['Position'], x['Total points per stint']), axis=1)\n"
   ]
  },
  {
   "cell_type": "code",
   "execution_count": null,
   "metadata": {},
   "outputs": [],
   "source": [
    "a = df_stints[(df_stints['Player'].str.contains('Daniel Jones'))].iloc[-1,:]['Total points per stint']"
   ]
  },
  {
   "cell_type": "code",
   "execution_count": null,
   "metadata": {},
   "outputs": [],
   "source": [
    "a"
   ]
  },
  {
   "cell_type": "code",
   "execution_count": null,
   "metadata": {},
   "outputs": [],
   "source": []
  },
  {
   "cell_type": "code",
   "execution_count": null,
   "metadata": {},
   "outputs": [],
   "source": [
    "stint"
   ]
  },
  {
   "cell_type": "code",
   "execution_count": null,
   "metadata": {},
   "outputs": [],
   "source": [
    "18 in stint"
   ]
  },
  {
   "cell_type": "code",
   "execution_count": null,
   "metadata": {},
   "outputs": [],
   "source": [
    "import pandas as pd\n",
    "\n",
    "df_temp = pd.concat([df_temp.groupby(by='Week').get_group(i) for i in stint if i!=18])\n",
    "df_temp['Total points'].sum()/df_temp.shape[0]"
   ]
  },
  {
   "cell_type": "code",
   "execution_count": null,
   "metadata": {},
   "outputs": [],
   "source": [
    "s=df_temp['Total points']"
   ]
  },
  {
   "cell_type": "code",
   "execution_count": null,
   "metadata": {},
   "outputs": [],
   "source": [
    "df_temp.groupby(by=['Player']).get_group('Daniel Jones')"
   ]
  },
  {
   "cell_type": "code",
   "execution_count": null,
   "metadata": {},
   "outputs": [],
   "source": [
    "df_temp.groupby(by=['Player']).get_group('Tom Brady')['Total points'].sum()"
   ]
  },
  {
   "cell_type": "code",
   "execution_count": null,
   "metadata": {},
   "outputs": [],
   "source": [
    "df_temp['Total points']"
   ]
  },
  {
   "cell_type": "code",
   "execution_count": null,
   "metadata": {},
   "outputs": [],
   "source": [
    "df_temp=df_temp.groupby(by=['Player']).agg(sum).reset_index().sort_values(by='Total points', ascending=False)"
   ]
  },
  {
   "cell_type": "code",
   "execution_count": null,
   "metadata": {},
   "outputs": [],
   "source": [
    "s = df_temp['Total points']\n"
   ]
  },
  {
   "cell_type": "code",
   "execution_count": null,
   "metadata": {},
   "outputs": [],
   "source": [
    "quantile = s.quantile((a-s.min())/(s.max()-s.min()))\n"
   ]
  },
  {
   "cell_type": "code",
   "execution_count": null,
   "metadata": {},
   "outputs": [],
   "source": [
    "df_temp"
   ]
  },
  {
   "cell_type": "code",
   "execution_count": null,
   "metadata": {},
   "outputs": [],
   "source": [
    "quantile"
   ]
  },
  {
   "cell_type": "code",
   "execution_count": null,
   "metadata": {},
   "outputs": [],
   "source": [
    "player = 'Daniel Jones'\n",
    "g = df_player_box_scores.groupby(by=\"Player\")\n",
    "df = g.get_group(player)\n"
   ]
  },
  {
   "cell_type": "code",
   "execution_count": null,
   "metadata": {},
   "outputs": [],
   "source": [
    "df"
   ]
  },
  {
   "cell_type": "code",
   "execution_count": null,
   "metadata": {},
   "outputs": [],
   "source": [
    "\n",
    "\n",
    "def scatterplot_acquisitions(df_stints, select_acq_method=None, select_positions=None):\n",
    "    \n",
    "    if select_acq_method is None:\n",
    "        select_acq_method = [True]\n",
    "\n",
    "    if select_positions is None:\n",
    "        select_positions=['RB','WR','TE']\n",
    "\n",
    "    g = df_stints.groupby(by=[\"Drafted\", \"Position\"])\n",
    "\n",
    "    df = pd.concat([g.get_group((acq_by_draft,position)) \n",
    "           for acq_by_draft in select_acq_method\n",
    "           for position in select_positions],axis=0)\n",
    "\n",
    "    if select_acq_method[0]:\n",
    "        status = \"Draft\"\n",
    "    else:\n",
    "        status = \"Waiver\"\n",
    "\n",
    "    positions = ', '.join(select_positions)\n",
    "\n",
    "    plot_title = f\"Position: {positions} , Acquired by: {status}\"\n",
    "    selection = alt.selection_multi(fields=[\"Team\"], bind=\"legend\")\n",
    "\n",
    "    color = alt.condition(\n",
    "        selection,\n",
    "        alt.Color(\n",
    "            \"Team:N\",\n",
    "            scale=alt.Scale(scheme=\"tableau20\"),\n",
    "        ),\n",
    "        alt.value(\"lightgray\"),\n",
    "    )\n",
    "\n",
    "    chart = (\n",
    "        alt.Chart(df)\n",
    "        .mark_circle(size=40)\n",
    "        .encode(\n",
    "            alt.X(\"Bid Amount ($)\", axis=alt.Axis(grid=False)),\n",
    "            alt.Y(\"Total points per stint\", axis=alt.Axis(grid=False)),\n",
    "            color=color,\n",
    "            opacity=alt.condition(selection, alt.value(1), alt.value(0.1)),\n",
    "            tooltip=[\"Player\", \"Team\", \"Bid Amount ($)\", \"Total points per stint\"],\n",
    "        )\n",
    "        .add_selection(selection)\n",
    "        .properties(width=450, height=450, title=plot_title)\n",
    "        .configure_axis(labelFontSize=18, titleFontSize=18)\n",
    "        .configure_title(fontSize=20)\n",
    "        .configure_legend(labelFontSize=14, titleFontSize=14)\n",
    "    )\n",
    "    return plot_title, chart\n"
   ]
  },
  {
   "cell_type": "markdown",
   "metadata": {},
   "source": [
    "## Draft Scatterplot"
   ]
  },
  {
   "cell_type": "code",
   "execution_count": null,
   "metadata": {},
   "outputs": [],
   "source": [
    "plot_title, chart = scatterplot_acquisitions(df_stints, select_acq_method=[True], select_positions=['RB','WR','TE'])\n",
    "chart.display()"
   ]
  },
  {
   "cell_type": "markdown",
   "metadata": {},
   "source": [
    "## Waiver Scatterplot"
   ]
  },
  {
   "attachments": {},
   "cell_type": "markdown",
   "metadata": {},
   "source": [
    "- In waiver spending, Flex Player All Stars really spent a fortune and didn't get great return on Khalil Herbert. \n",
    "- Jamaal Williams, Jerick McKinnon, Curtis Samuel and D'Onta Foreman, were big value adds"
   ]
  },
  {
   "cell_type": "code",
   "execution_count": null,
   "metadata": {},
   "outputs": [],
   "source": [
    "plot_title, chart = scatterplot_acquisitions(df_stints, select_acq_method=[False], select_positions=['RB','WR','TE'])\n",
    "chart.display()"
   ]
  },
  {
   "cell_type": "markdown",
   "metadata": {},
   "source": [
    "Curtis Samuel was the most valuable waiver wire receiver."
   ]
  },
  {
   "cell_type": "code",
   "execution_count": null,
   "metadata": {},
   "outputs": [],
   "source": [
    "for acq_by_draft in [True,False]:\n",
    "    for position in df_stints['Position'].unique():\n",
    "        plot_title,chart = scatterplot_acquisitions(df_stints, select_acq_method=[acq_by_draft], select_positions=[position])\n",
    "        chart.display()\n"
   ]
  },
  {
   "cell_type": "code",
   "execution_count": null,
   "metadata": {},
   "outputs": [],
   "source": [
    "df_player_ffteam['Position'].unique()"
   ]
  },
  {
   "cell_type": "code",
   "execution_count": null,
   "metadata": {},
   "outputs": [],
   "source": [
    "df_player_ffteam[(df_player_ffteam['Num weeks']>7) & (df_player_ffteam['Position'].isin(['QB','RB','WR','TE'])) & (~df_player_ffteam['Drafted'])].sort_values(by='quantile',ascending=False)"
   ]
  },
  {
   "cell_type": "code",
   "execution_count": null,
   "metadata": {},
   "outputs": [],
   "source": [
    "df_player_ffteam[(df_player_ffteam['Num weeks']>7) & (df_player_ffteam['Position'].isin(['QB','RB','WR','TE'])) &(df_player_ffteam['quantile']>=90) ].sort_values(by='quantile',ascending=False)"
   ]
  },
  {
   "cell_type": "code",
   "execution_count": null,
   "metadata": {},
   "outputs": [],
   "source": []
  }
 ],
 "metadata": {
  "kernelspec": {
   "display_name": "Python 3 (ipykernel)",
   "language": "python",
   "name": "python3"
  },
  "language_info": {
   "codemirror_mode": {
    "name": "ipython",
    "version": 3
   },
   "file_extension": ".py",
   "mimetype": "text/x-python",
   "name": "python",
   "nbconvert_exporter": "python",
   "pygments_lexer": "ipython3",
   "version": "3.9.13"
  },
  "vscode": {
   "interpreter": {
    "hash": "ff9fae090fc4d4cb7e8012a224cccb27ac950fda670b97af54b7710c35615604"
   }
  }
 },
 "nbformat": 4,
 "nbformat_minor": 2
}
