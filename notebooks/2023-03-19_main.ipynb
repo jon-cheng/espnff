{
 "cells": [
  {
   "cell_type": "markdown",
   "metadata": {},
   "source": [
    "This is a retrospective data analysis of our ESPN Fantasy Football league data at the end of Week 17 for the 2022 season. The code can be re-used for any past season using the same ESPN API.\n",
    "\n",
    "I used the [Pro Football Reference](https://www.pro-football-reference.com/years/2022/games.htm) for NFL schedules and [Christian Wendt's ESPN Fantasy Football API](https://github.com/cwendt94/espn-api) to extract ESPN league-specific data.\n",
    "\n",
    "For data visualization, I used the [Altair Data Visualization Library](https://altair-viz.github.io/). Altair was chosen for its interactivity, especially for its ability to display hover data and the compatibility of interactive plots with GitHub Pages.\n",
    "\n",
    "One question this analysis can answer is: what was the return on investment of a given players with fantasy draft or waiver budget dollars (FAAB).\n",
    "\n",
    "See src directory for source code."
   ]
  },
  {
   "cell_type": "code",
   "execution_count": 1,
   "metadata": {},
   "outputs": [],
   "source": [
    "import streamlit as st\n",
    "import espnff_analysis.nfl_schedule as nf\n",
    "import espnff_analysis.ff_league_data as ff\n",
    "import espnff_analysis.calc_best_waiver as cbw\n",
    "from espnff_analysis.plotting import scatterplot_acquisitions\n",
    "import espnff_analysis.pipeline as pp\n",
    "\n"
   ]
  },
  {
   "cell_type": "markdown",
   "metadata": {},
   "source": [
    "## Get NFL Schedule"
   ]
  },
  {
   "cell_type": "code",
   "execution_count": 4,
   "metadata": {},
   "outputs": [],
   "source": [
    "year=2019\n",
    "\n",
    "path = r'/Users/jonathancheng/PycharmProjects/espnff/results'\n",
    "\n",
    "league_id = 1094090\n",
    "\n",
    "swid = \"{F191FB8C-DB2D-4D24-91FB-8CDB2DED249D}\"\n",
    "espn_s2 ='AECJMQHsUHB0FTXdZkw93uY7GRbX8BPnm93Ye6AwvwrMsrZFGg1Lbmi07SWVov2ioN8zGMFDzZiiDSeQCa7WQHaGivGnMfGWLjmfGwkOeLXb5baD1sltp%2B%2BIfHAtl98TpmHgB16ZpGn6g3Bm5vLEA7yDC6HkbD3LSp0E2rGB7hKziLMvZ7mT6ONJFRe8Xp3ApYWSvxPr9cz0pJiI%2FF0blsZ8hyATDJMEyaQ2O%2FypcsViORr6hqYTmXHPuPKnMBfvYC8LQqi1exGw3vnyg6ptsB2Y'\n",
    "\n",
    "\n"
   ]
  },
  {
   "cell_type": "code",
   "execution_count": 5,
   "metadata": {},
   "outputs": [
    {
     "name": "stdout",
     "output_type": "stream",
     "text": [
      "Fetching league data from espn_api ...\n"
     ]
    }
   ],
   "source": [
    "pp.main_pipeline(league_id, year, espn_s2, swid, path)"
   ]
  },
  {
   "cell_type": "code",
   "execution_count": 7,
   "metadata": {},
   "outputs": [],
   "source": [
    "df_proteam_schedule, season_start_date = pp.get_nfl_schedule_info(year)\n"
   ]
  },
  {
   "cell_type": "code",
   "execution_count": null,
   "metadata": {},
   "outputs": [],
   "source": []
  },
  {
   "cell_type": "code",
   "execution_count": 8,
   "metadata": {},
   "outputs": [],
   "source": [
    "df_proteam_names = nf.get_team_abbrev()\n",
    "\n",
    "for col in df_proteam_names.columns:\n",
    "    df_proteam_names[col] = df_proteam_names[col].str.strip()"
   ]
  },
  {
   "cell_type": "code",
   "execution_count": null,
   "metadata": {},
   "outputs": [],
   "source": [
    "import pandas as pd \n",
    "\n",
    "df = nf.mine_nfl_schedule(year_of_interest=year)\n",
    "df = df[[\"Week\", \"Date\", \"Winner/tie\", \"Loser/tie\"]]\n",
    "df = pd.melt(\n",
    "    df,\n",
    "    id_vars=[\"Week\", \"Date\"],\n",
    "    value_vars=[\"Winner/tie\", \"Loser/tie\"],\n",
    "    var_name=\"Winner_Loser\",\n",
    "    value_name=\"Pro_team\",\n",
    ")\n",
    "df = df.dropna(subset=\"Pro_team\", axis=0)\n",
    "\n",
    "\n",
    "# handle special case of Washington, because the team name has changed over years\n",
    "df[\"Pro_team\"] = df[\"Pro_team\"].str.replace(\n",
    "    pat=r\"^Washington.*\", repl=\"Washington\", regex=True\n",
    ")\n",
    "\n",
    "df[\"Pro_team\"] = df[\"Pro_team\"].str.replace(\n",
    "    pat=r\"^.*Raiders\", repl = \"Raiders\", regex=True\n",
    "    )\n",
    "\n",
    "df[\"Pro_team_abbrev\"] = df[\"Pro_team\"].map(\n",
    "    dict(zip(df_proteam_names[\"Pro Team Name\"], df_proteam_names[\"Abbrev\"]))\n",
    ")\n",
    "df = df[df[\"Pro_team\"].isin(df_proteam_names[\"Pro Team Name\"].tolist())]"
   ]
  },
  {
   "cell_type": "code",
   "execution_count": null,
   "metadata": {},
   "outputs": [],
   "source": [
    "df['Pro_team'].unique().tolist()"
   ]
  },
  {
   "cell_type": "code",
   "execution_count": null,
   "metadata": {},
   "outputs": [],
   "source": [
    "[i for i in df['Pro_team'].unique().tolist() if 'Oakland' in i]"
   ]
  },
  {
   "cell_type": "code",
   "execution_count": 9,
   "metadata": {},
   "outputs": [
    {
     "name": "stdout",
     "output_type": "stream",
     "text": [
      "Fetching league data from espn_api ...\n"
     ]
    }
   ],
   "source": [
    "league, activity_ls, wk_ls = pp.fetch_league_data(league_id, year, espn_s2, swid)\n",
    "df_acq = pp.get_acquisitions_data(activity_ls)\n",
    "df_draft, drafted_players = ff.build_df_draft(league)\n",
    "df_rostered = ff.build_df_rostered(league)\n",
    "df_FA = ff.build_df_FA(league)\n",
    "# Generate all player stats dataframe, including all Free Agents\n",
    "df_player_stats = ff.build_df_player_stats(df_rostered, df_FA)\n",
    "df_draft_stats = ff.build_df_draft_stats(df_draft, df_player_stats)\n",
    "df_acq_stats = ff.build_df_acq_stats(df_acq, df_player_stats)\n",
    "df_acq_final = ff.build_df_acq_final(\n",
    "    season_start_date, df_draft_stats, df_acq_stats, drafted_players\n",
    ")\n",
    "# Get player_box_scores from fantasy season\n",
    "df_player_box_scores = ff.build_df_player_box_scores(league, wk_ls)\n"
   ]
  },
  {
   "cell_type": "code",
   "execution_count": null,
   "metadata": {},
   "outputs": [],
   "source": [
    "df_stints = ff.build_df_stints(\n",
    "        df_acq_final,\n",
    "        df_proteam_schedule,\n",
    "        df_player_stats,\n",
    "        drafted_players,\n",
    "        df_player_box_scores,\n",
    "    )\n",
    "df_stints[\"Total points per stint\"] = df_stints.apply(\n",
    "    lambda x: ff.get_total_pts_per_player(\n",
    "        x[\"Player\"], x[\"Stint (wks)\"], df_player_box_scores\n",
    "    ),\n",
    "    axis=1,\n",
    ").fillna(0)\n",
    "\n",
    "df_stints, df_player_ffteam = cbw.get_quantile_and_weeks(\n",
    "    df_stints, df_player_box_scores\n",
    ")\n",
    "df_waiver = cbw.get_waiver_data(df_player_ffteam)"
   ]
  },
  {
   "cell_type": "code",
   "execution_count": null,
   "metadata": {},
   "outputs": [],
   "source": [
    "df_proteam_schedule = nf.get_nfl_schedule(year)\n",
    "season_start_date = nf.get_season_start_date(df_proteam_schedule)"
   ]
  },
  {
   "cell_type": "code",
   "execution_count": null,
   "metadata": {},
   "outputs": [],
   "source": [
    "df_proteam_names = nf.get_team_abbrev()\n"
   ]
  },
  {
   "cell_type": "code",
   "execution_count": null,
   "metadata": {},
   "outputs": [],
   "source": [
    "for col in df_proteam_names.columns:\n",
    "    df_proteam_names[col] = df_proteam_names[col].str.strip()"
   ]
  },
  {
   "cell_type": "code",
   "execution_count": null,
   "metadata": {},
   "outputs": [],
   "source": [
    "url = f\"https://www.pro-football-reference.com/years/{year_of_interest}/games.htm\"\n",
    "try:\n",
    "    return pd.read_html(url)[0]\n",
    "except Exception as e:\n",
    "    print(f\"Error: {e}\")\n",
    "    return None\n"
   ]
  },
  {
   "cell_type": "code",
   "execution_count": null,
   "metadata": {},
   "outputs": [],
   "source": [
    "\n",
    "for col in df_proteam_names.columns:\n",
    "    df_proteam_names[col] = df_proteam_names[col].str.strip()"
   ]
  },
  {
   "cell_type": "code",
   "execution_count": null,
   "metadata": {},
   "outputs": [],
   "source": [
    "\n",
    "\n",
    "weeks = [int(i) for i in df[\"Week\"].unique().tolist() if i.isdigit()]\n",
    "games_all_season = max(weeks)\n",
    "\n",
    "df = df[df[\"Week\"].isin([str(i) for i in weeks])]\n",
    "df = df.astype({\"Week\": int})\n",
    "# pivot NFL schedule to wideform\n",
    "df = df[[\"Week\", \"Date\", \"Pro_team_abbrev\"]]\n",
    "df = df.rename(columns={\"Pro_team_abbrev\": \"ProTeam\"})\n",
    "df = df.pivot(index=\"Week\", columns=\"ProTeam\", values=\"Date\")\n",
    "\n",
    "df = df.applymap(\n",
    "    lambda x: pd.to_datetime(x, format=\"%Y-%m-%d\") if not pd.isna(x) else x\n",
    ").applymap(lambda x: pd.Timestamp(x) if not pd.isna(x) else x)"
   ]
  },
  {
   "cell_type": "code",
   "execution_count": null,
   "metadata": {},
   "outputs": [],
   "source": [
    "nf.mine_nfl_schedule(year)['Winner/tie'].unique()"
   ]
  },
  {
   "cell_type": "code",
   "execution_count": null,
   "metadata": {},
   "outputs": [],
   "source": [
    "nf.mine_nfl_schedule(2021)['Winner/tie'].unique()"
   ]
  },
  {
   "cell_type": "code",
   "execution_count": null,
   "metadata": {},
   "outputs": [],
   "source": [
    "g = df_acq_final.groupby(by=[\"Player\"])\n",
    "df_ls = []\n",
    "for key in list(g.groups.keys()):\n",
    "    df_test_acq = g.get_group(key)\n",
    "    df_test_acq_bid = ff.get_df_test_acq_bid(df_test_acq)\n",
    "    \n",
    "    # df_test_acq = (\n",
    "    #         ff.pivot_df_acq_oneplayer(df_test_acq)\n",
    "    #         .merge(df_test_acq_bid, how=\"left\")\n",
    "    #         .drop([\"Action_GroupId\"], axis=1)\n",
    "    #     )\n",
    "\n",
    "    df_test_acq = df_test_acq.reset_index(drop=True)\n",
    "    df_test_acq = df_test_acq[\n",
    "        [\"Player\", \"Team\", \"Position\", \"ProTeam\", \"Total points\", \"Action Timestamp\", \"Added_Dropped\"]\n",
    "    ]\n",
    "\n",
    "    # in corner cases where a player is eligible for multiple positions,\n",
    "    # then take the max (first) highest Total points,\n",
    "    # usually the alternative position is 0 as an artifact from espn_api\n",
    "    df_test_acq_dedup = df_test_acq.groupby(by=['Player', 'Team', 'Action Timestamp']).agg(\n",
    "        {'Total points': 'first'}).reset_index()\n",
    "    df_test_acq = df_test_acq_dedup.merge(df_test_acq)\n",
    "    df_test_acq = df_test_acq.sort_values(by=\"Action Timestamp\", ascending=True)"
   ]
  },
  {
   "cell_type": "code",
   "execution_count": null,
   "metadata": {},
   "outputs": [],
   "source": [
    "df_proteam_schedule.columns"
   ]
  },
  {
   "cell_type": "code",
   "execution_count": null,
   "metadata": {},
   "outputs": [],
   "source": [
    "df_test_acq_dedup"
   ]
  },
  {
   "cell_type": "code",
   "execution_count": null,
   "metadata": {},
   "outputs": [],
   "source": [
    "df_test_acq"
   ]
  },
  {
   "cell_type": "code",
   "execution_count": null,
   "metadata": {},
   "outputs": [],
   "source": [
    "import itertools\n",
    "\n",
    "df_test_acq = df_test_acq.sort_values(by=\"Timestamp\", ascending=True)\n",
    "df_test_acq = df_test_acq.reset_index(drop=True)\n",
    "df_test_acq = df_test_acq[\n",
    "    [\"Player\", \"Team\", \"Position\", \"ProTeam\", \"Total points\", \"Action Timestamp\", \"Added_Dropped\"]\n",
    "]\n",
    "\n",
    "# in corner cases where a player is eligible for multiple positions, then take the max (first) highest Total points, usually the alternative position is 0 as an artifact from espn_api\n",
    "df_test_acq_dedup = df_test_acq.groupby(by=['Player','Team','Action Timestamp']).agg({'Total points':'first'}).reset_index()\n",
    "df_test_acq = df_test_acq_dedup.merge(df_test_acq)\n",
    "\n",
    "df_test_acq = df_test_acq.sort_values(by='Action Timestamp')\n",
    "index_ls = list(range(df_test_acq.shape[0]))\n",
    "\n",
    "df_test_acq[\"Action_GroupId\"] = list(\n",
    "    itertools.chain(*[2 * [i] for i in list(range(df_test_acq.shape[0]))])\n",
    ")[: len(index_ls)]\n",
    "\n",
    "df_test_acq = df_test_acq.drop(['Total points','Position'],axis=1)\n"
   ]
  },
  {
   "cell_type": "code",
   "execution_count": null,
   "metadata": {},
   "outputs": [],
   "source": [
    "df_test_acq"
   ]
  },
  {
   "cell_type": "code",
   "execution_count": null,
   "metadata": {},
   "outputs": [],
   "source": [
    "df_test_acq=(\n",
    "    df_test_acq.pivot(\n",
    "        index=[\"Player\", \"Team\", \"ProTeam\", \"Action_GroupId\"],\n",
    "        columns=\"Added_Dropped\",\n",
    "    )\n",
    "    .reset_index()\n",
    "    .sort_values(by=\"Action_GroupId\")\n",
    ")"
   ]
  },
  {
   "cell_type": "code",
   "execution_count": null,
   "metadata": {},
   "outputs": [],
   "source": [
    "df_test_acq.columns = [\n",
    "    f\"{i}|{j}\" if j != \"\" else f\"{i}\" for i, j in df_test_acq.columns\n",
    "]\n",
    "\n",
    "df_test_acq = df_test_acq.rename(\n",
    "    columns={\n",
    "        \"Action Timestamp|ADDED\": \"Added\",\n",
    "        \"Action Timestamp|DROPPED\": \"Dropped\",\n",
    "    })\n",
    "\n",
    "df_test_acq"
   ]
  },
  {
   "cell_type": "code",
   "execution_count": null,
   "metadata": {},
   "outputs": [],
   "source": [
    "df_test_acq_dedup = df_test_acq.groupby(by=['Player','Team','Action Timestamp']).agg({'Total points':'first'}).reset_index()\n",
    "df_test_acq = df_test_acq_dedup.merge(df_test_acq)"
   ]
  },
  {
   "cell_type": "code",
   "execution_count": null,
   "metadata": {},
   "outputs": [],
   "source": [
    "df_test_acq.sort_values(by='Total points',ascending=False).drop_duplicates(keep='first')"
   ]
  },
  {
   "cell_type": "code",
   "execution_count": null,
   "metadata": {},
   "outputs": [],
   "source": []
  },
  {
   "cell_type": "code",
   "execution_count": null,
   "metadata": {},
   "outputs": [],
   "source": [
    "df_test_acq_bid"
   ]
  },
  {
   "cell_type": "code",
   "execution_count": null,
   "metadata": {},
   "outputs": [],
   "source": [
    "df_test_acq.pivot_table(\n",
    "        index=[\"Player\", \"Team\", \"ProTeam\", \"Action_GroupId\"],\n",
    "        values=\"Total points\",\n",
    "        columns=\"Added_Dropped\",\n",
    "        aggfunc=max\n",
    "    ).reset_index()"
   ]
  },
  {
   "cell_type": "code",
   "execution_count": null,
   "metadata": {},
   "outputs": [],
   "source": []
  },
  {
   "cell_type": "code",
   "execution_count": null,
   "metadata": {},
   "outputs": [],
   "source": [
    "df_test_acq = (\n",
    "    df_test_acq.pivot(\n",
    "        index=[\"Player\", \"Team\", \"ProTeam\", \"Action_GroupId\"],\n",
    "        columns=\"Added_Dropped\",\n",
    "    ))"
   ]
  },
  {
   "cell_type": "code",
   "execution_count": null,
   "metadata": {},
   "outputs": [],
   "source": []
  },
  {
   "cell_type": "code",
   "execution_count": null,
   "metadata": {},
   "outputs": [],
   "source": [
    "import itertools\n",
    "\n",
    "df_test_acq = df_test_acq.sort_values(by=\"Timestamp\", ascending=True)\n",
    "df_test_acq = df_test_acq.reset_index(drop=True)\n",
    "df_test_acq = df_test_acq[\n",
    "    [\"Player\", \"Team\", \"ProTeam\", \"Action Timestamp\", \"Added_Dropped\"]\n",
    "]\n",
    "index_ls = list(range(df_test_acq.shape[0]))\n",
    "df_test_acq[\"Action_GroupId\"] = list(\n",
    "    itertools.chain(*[2 * [i] for i in list(range(df_test_acq.shape[0]))])\n",
    ")[: len(index_ls)]"
   ]
  },
  {
   "cell_type": "code",
   "execution_count": null,
   "metadata": {},
   "outputs": [],
   "source": [
    "df_test_acq"
   ]
  },
  {
   "cell_type": "code",
   "execution_count": null,
   "metadata": {},
   "outputs": [],
   "source": [
    "g = df_acq_final.groupby(by=[\"Player\"])\n",
    "df_ls = []\n",
    "for key in list(g.groups.keys()):\n",
    "    df_test_acq = g.get_group(key)\n",
    "    df_test_acq_bid = ff.get_df_test_acq_bid(df_test_acq)\n",
    "    df_test_acq = (\n",
    "        ff.pivot_df_acq_oneplayer(df_test_acq)\n",
    "        .merge(df_test_acq_bid, how=\"left\")\n",
    "        .drop([\"Action_GroupId\"], axis=1)\n",
    "    )\n",
    "    df_ls.append(df_test_acq)\n",
    "\n",
    "df_stints = pd.concat(df_ls, axis=0)\n",
    "\n",
    "df_stints[\"Added\"] = df_stints[\"Added\"].apply(\n",
    "    lambda x: pd.Timestamp(x) if not pd.isna(x) else x\n",
    ")\n",
    "df_stints[\"Dropped\"] = df_stints[\"Dropped\"].apply(\n",
    "    lambda x: pd.Timestamp(x) if not pd.isna(x) else x\n",
    ")\n",
    "\n",
    "df_stints[\"Stint (wks)\"] = df_stints.apply(\n",
    "    lambda x: get_stints(\n",
    "        x[\"ProTeam\"], x[\"Added\"], x[\"Dropped\"], df_proteam_schedule\n",
    "    ),\n",
    "    axis=1,\n",
    ")\n",
    "\n",
    "df_stints[\"Position\"] = df_stints[\"Player\"].map(\n",
    "    dict(zip(df_player_stats[\"Player\"], df_player_stats[\"Position\"]))\n",
    ")\n",
    "\n",
    "# set index on each stint event\n",
    "df_stints = (\n",
    "    df_stints.reset_index()\n",
    "    .reset_index()\n",
    "    .rename(columns={\"level_0\": \"Stint_id\"})\n",
    "    .drop(\"index\", axis=1)\n",
    ")\n",
    "\n",
    "df_stints.loc[df_stints[\"Player\"].isin(drafted_players), \"Drafted\"] = True\n",
    "df_stints[\"Drafted\"] = df_stints[\"Drafted\"].fillna(False)"
   ]
  },
  {
   "cell_type": "code",
   "execution_count": null,
   "metadata": {},
   "outputs": [],
   "source": [
    "df_stints = ff.build_df_stints(\n",
    "    df_acq_final,\n",
    "    df_proteam_schedule,\n",
    "    df_player_stats,\n",
    "    drafted_players,\n",
    "    df_player_box_scores,\n",
    ")\n"
   ]
  },
  {
   "cell_type": "code",
   "execution_count": null,
   "metadata": {},
   "outputs": [],
   "source": [
    "df_stints[\"Total points per stint\"] = df_stints.apply(\n",
    "    lambda x: ff.get_total_pts_per_player(\n",
    "        x[\"Player\"], x[\"Stint (wks)\"], df_player_box_scores\n",
    "    ),\n",
    "    axis=1,\n",
    ").fillna(0)\n",
    "\n",
    "df_stints, df_player_ffteam = cbw.get_quantile_and_weeks(\n",
    "    df_stints, df_player_box_scores\n",
    ")\n",
    "df_waiver = cbw.get_waiver_data(df_player_ffteam)"
   ]
  },
  {
   "cell_type": "code",
   "execution_count": null,
   "metadata": {},
   "outputs": [],
   "source": [
    "pp.main_pipeline(league_id, year, espn_s2, swid, path)"
   ]
  },
  {
   "cell_type": "code",
   "execution_count": null,
   "metadata": {},
   "outputs": [],
   "source": [
    "df_stints,df_player_box_scores,league = pp.main_pipeline(league_id, year, espn_s2, swid)"
   ]
  },
  {
   "cell_type": "code",
   "execution_count": null,
   "metadata": {},
   "outputs": [],
   "source": [
    "df_player_ffteam = cbw.build_df_player_ffteam(df_stints)\n",
    "\n",
    "ls=[]\n",
    "for df in [df_stints, df_player_ffteam]:\n",
    "    df = cbw.get_num_weeks_of_stint(df)\n",
    "    df = cbw.get_quantile(df, df_player_box_scores)\n",
    "    ls.append(df)\n",
    "\n",
    "[df_stints, df_player_ffteam] = ls"
   ]
  },
  {
   "cell_type": "code",
   "execution_count": null,
   "metadata": {},
   "outputs": [],
   "source": [
    "df_player_ffteam"
   ]
  },
  {
   "cell_type": "code",
   "execution_count": null,
   "metadata": {},
   "outputs": [],
   "source": [
    "import itertools\n",
    "\n",
    "def merge_lists(series):\n",
    "    return list(set([item for sublist in series for item in sublist]))\n"
   ]
  },
  {
   "cell_type": "code",
   "execution_count": null,
   "metadata": {},
   "outputs": [],
   "source": [
    "def build_df_player_ffteam(df_stints):\n",
    "    df_agg_stints = df_stints.groupby(by=['Player', 'Team']).agg({'Total points per stint':'sum', 'Stint (wks)':list}).reset_index()\n",
    "    df_agg_stints['Stint (wks)'] = df_agg_stints['Stint (wks)'].apply(lambda x: list(itertools.chain(*x)))\n",
    "    df_player_ffteam = df_agg_stints.merge(df_stints[['Player','Team','ProTeam','Position','Drafted']].drop_duplicates(), how='left')\n",
    "    return df_player_ffteam"
   ]
  },
  {
   "cell_type": "code",
   "execution_count": null,
   "metadata": {},
   "outputs": [],
   "source": [
    "for idx, x in df_player_ffteam.iterrows():\n",
    "    if x['Stint (wks)']:\n",
    "        df_player_ffteam.loc[idx,'quantile'] = cbw.calculate_scoring_quantile_per_stint(x['Stint (wks)'], x['Position'], x['Total points per stint'],df_player_box_scores)\n",
    "    else:\n",
    "        df_player_ffteam.loc[idx,'quantile'] = 0\n",
    "        "
   ]
  },
  {
   "cell_type": "code",
   "execution_count": null,
   "metadata": {},
   "outputs": [],
   "source": [
    "df_player_ffteam['Num weeks'] = df_player_ffteam['Stint (wks)'].apply(lambda x: len(x))"
   ]
  },
  {
   "cell_type": "code",
   "execution_count": null,
   "metadata": {},
   "outputs": [],
   "source": [
    "num_top_waiver = 10"
   ]
  },
  {
   "cell_type": "code",
   "execution_count": null,
   "metadata": {},
   "outputs": [],
   "source": [
    "df_waiver = df_player_ffteam[(~df_player_ffteam['Drafted']) & \n",
    "                             (df_player_ffteam['Num weeks']>=8) & \n",
    "                             (df_player_ffteam['Position'].isin(['QB','RB','WR','TE']))].\\\n",
    "                            sort_values(by='quantile',ascending=False).reset_index(drop=True)"
   ]
  },
  {
   "cell_type": "code",
   "execution_count": null,
   "metadata": {},
   "outputs": [],
   "source": [
    "df_waiver"
   ]
  },
  {
   "cell_type": "code",
   "execution_count": null,
   "metadata": {},
   "outputs": [],
   "source": [
    "from scipy import stats\n",
    "\n",
    "def calculate_scoring_quantile_per_stint(stint, position, total_points_oneplayer, df_player_box_scores):\n",
    "    df_allplayers_stint = df_player_box_scores[\n",
    "        (df_player_box_scores['Position'] == position) & (df_player_box_scores['Week'].isin(stint))]\n",
    "    total_position_stint = df_allplayers_stint.groupby(by=['Player']).agg({'Total points': 'sum'}).reset_index()[\n",
    "        'Total points']\n",
    "    quantile = stats.percentileofscore(total_position_stint.values, total_points_oneplayer)\n",
    "    return quantile"
   ]
  },
  {
   "cell_type": "code",
   "execution_count": null,
   "metadata": {},
   "outputs": [],
   "source": [
    "for idx,row in df_player_ffteam[df_player_ffteam['Player'].str.contains('Pickens')].iterrows():\n",
    "    pass"
   ]
  },
  {
   "cell_type": "code",
   "execution_count": null,
   "metadata": {},
   "outputs": [],
   "source": [
    "row"
   ]
  },
  {
   "cell_type": "code",
   "execution_count": null,
   "metadata": {},
   "outputs": [],
   "source": [
    "stint = row['Stint (wks)']\n",
    "position = row['Position']\n",
    "total_points_oneplayer = row['Total points per stint']"
   ]
  },
  {
   "cell_type": "code",
   "execution_count": null,
   "metadata": {},
   "outputs": [],
   "source": [
    "stint"
   ]
  },
  {
   "cell_type": "code",
   "execution_count": null,
   "metadata": {},
   "outputs": [],
   "source": [
    "df_allplayers_stint = df_player_box_scores[\n",
    "    (df_player_box_scores['Position'] == position) & (df_player_box_scores['Week'].isin(stint))]\n",
    "total_position_stint = df_allplayers_stint.groupby(by=['Player']).agg({'Total points': 'sum'}).reset_index()[\n",
    "    'Total points']"
   ]
  },
  {
   "cell_type": "code",
   "execution_count": null,
   "metadata": {},
   "outputs": [],
   "source": [
    "g=df_allplayers_stint.groupby(by=['Player'])"
   ]
  },
  {
   "cell_type": "code",
   "execution_count": null,
   "metadata": {},
   "outputs": [],
   "source": [
    "for key in list(g.groups.keys()):\n",
    "    df=g.get_group(key)"
   ]
  },
  {
   "cell_type": "code",
   "execution_count": null,
   "metadata": {},
   "outputs": [],
   "source": [
    "df_allplayers_stint.groupby(by=['Player']).agg({'Total points': 'sum'}).reset_index().sort_values(by='Total points',ascending=False).iloc[0:32]"
   ]
  },
  {
   "cell_type": "code",
   "execution_count": null,
   "metadata": {},
   "outputs": [],
   "source": [
    "# import pandas as pd\n",
    "# pd.concat([g.get_group(key) for key in list(g.groups.keys())])"
   ]
  },
  {
   "cell_type": "code",
   "execution_count": null,
   "metadata": {},
   "outputs": [],
   "source": [
    "total_position_stint"
   ]
  },
  {
   "cell_type": "code",
   "execution_count": null,
   "metadata": {},
   "outputs": [],
   "source": [
    "s=stats.boxcox(total_position_stint,0)"
   ]
  },
  {
   "cell_type": "code",
   "execution_count": null,
   "metadata": {},
   "outputs": [],
   "source": [
    "import numpy as np\n",
    "s[~np.isinf(s)].hist(bins=5)"
   ]
  },
  {
   "cell_type": "code",
   "execution_count": null,
   "metadata": {},
   "outputs": [],
   "source": [
    "stats.zscore(total_position_stint.sort_values(ascending=False).values)"
   ]
  },
  {
   "cell_type": "code",
   "execution_count": null,
   "metadata": {},
   "outputs": [],
   "source": [
    "total_position_stint.sort_values(ascending=False)"
   ]
  },
  {
   "cell_type": "code",
   "execution_count": null,
   "metadata": {},
   "outputs": [],
   "source": [
    "df_stints.head()"
   ]
  },
  {
   "cell_type": "code",
   "execution_count": null,
   "metadata": {},
   "outputs": [],
   "source": [
    "for idx, x in df_stints.iterrows():\n",
    "    if x['Stint (wks)']:\n",
    "        df_stints.loc[idx,'quantile'] = cbw.calculate_scoring_quantile_per_stint(x['Stint (wks)'], x['Position'], x['Total points per stint'],df_player_box_scores)\n",
    "    else:\n",
    "        df_stints.loc[idx,'quantile'] = 0\n",
    "        "
   ]
  },
  {
   "cell_type": "code",
   "execution_count": null,
   "metadata": {},
   "outputs": [],
   "source": [
    "def get_quantile(df, df_player_box_scores):\n",
    "    for idx, x in df.iterrows():\n",
    "        if x['Stint (wks)']:\n",
    "            df.loc[idx,'quantile'] = cbw.calculate_scoring_quantile_per_stint(x['Stint (wks)'], x['Position'], x['Total points per stint'],df_player_box_scores)\n",
    "        else:\n",
    "            df.loc[idx,'quantile'] = 0\n",
    "    return df\n",
    "\n"
   ]
  },
  {
   "cell_type": "code",
   "execution_count": null,
   "metadata": {},
   "outputs": [],
   "source": [
    "df_stints"
   ]
  },
  {
   "cell_type": "code",
   "execution_count": null,
   "metadata": {},
   "outputs": [],
   "source": [
    "plot_title, chart=scatterplot_acquisitions(df_stints, select_acq_method=[True], select_positions=['QB','RB', 'WR', 'TE'])\n",
    "chart.display()"
   ]
  },
  {
   "cell_type": "code",
   "execution_count": null,
   "metadata": {},
   "outputs": [],
   "source": [
    "import altair as alt\n",
    "import pandas as pd\n",
    "\n",
    "select_acq_method=[True] \n",
    "select_positions=['QB','RB', 'WR', 'TE']\n",
    "\n",
    "if select_acq_method is None:\n",
    "    select_acq_method = [True]\n",
    "\n",
    "if select_positions is None:\n",
    "    select_positions = ['RB', 'WR', 'TE']\n",
    "\n",
    "g = df_stints.groupby(by=[\"Drafted\", \"Position\"])\n",
    "\n",
    "df = pd.concat([g.get_group((acq_by_draft, position))\n",
    "                for acq_by_draft in select_acq_method\n",
    "                for position in select_positions], axis=0)\n",
    "\n",
    "if select_acq_method[0]:\n",
    "    status = \"Draft\"\n",
    "else:\n",
    "    status = \"Waiver\"\n",
    "\n",
    "positions = ', '.join(select_positions)\n",
    "\n",
    "plot_title = f\"Position: {positions} , Acquired by: {status}\"\n",
    "selection = alt.selection_multi(fields=[\"Team\"], bind=\"legend\")\n",
    "\n",
    "color = alt.condition(\n",
    "    selection,\n",
    "    alt.Color(\n",
    "        \"Team:N\",\n",
    "        scale=alt.Scale(scheme=\"tableau20\"),\n",
    "    ),\n",
    "    alt.value(\"lightgray\"),\n",
    ")\n",
    "\n",
    "chart = (\n",
    "    alt.Chart(df)\n",
    "    .mark_circle(size=40)\n",
    "    .encode(\n",
    "        alt.X(\"Bid Amount ($)\", axis=alt.Axis(grid=False)),\n",
    "        alt.Y(\"quantile\", axis=alt.Axis(grid=False)),\n",
    "        color=color,\n",
    "        opacity=alt.condition(selection, alt.value(1), alt.value(0.1)),\n",
    "        tooltip=[\"Player\", \"Team\", \"Bid Amount ($)\", \"Total points per stint\"],\n",
    "    )\n",
    "    .add_selection(selection)\n",
    "    .properties(width=450, height=450, title=plot_title)\n",
    "    .configure_axis(labelFontSize=18, titleFontSize=18)\n",
    "    .configure_title(fontSize=20)\n",
    "    .configure_legend(labelFontSize=14, titleFontSize=14)\n",
    ")"
   ]
  },
  {
   "cell_type": "code",
   "execution_count": null,
   "metadata": {},
   "outputs": [],
   "source": [
    "chart.display()"
   ]
  },
  {
   "cell_type": "code",
   "execution_count": null,
   "metadata": {},
   "outputs": [],
   "source": [
    "import itertools\n",
    "list(itertools.chain(*ls))"
   ]
  },
  {
   "cell_type": "code",
   "execution_count": null,
   "metadata": {},
   "outputs": [],
   "source": [
    "# Build a scoring algorithm \n",
    "# Input: Position, Stint (wks), aTotal points, num weeks played\n",
    "# Calculate that player's percentile against the rest of his position for the total points scored in the given weeks\n",
    "# Get 1D array of the particular position within the timespan"
   ]
  },
  {
   "cell_type": "code",
   "execution_count": null,
   "metadata": {},
   "outputs": [],
   "source": [
    "def get_total_pts_per_player(player, stint, df_player_box_scores):\n",
    "    if stint:\n",
    "        g = df_player_box_scores.groupby(by=\"Player\")\n",
    "        df = g.get_group(player)\n",
    "        return df[df[\"Week\"].isin(stint)][\"Total points\"].sum()"
   ]
  },
  {
   "cell_type": "code",
   "execution_count": null,
   "metadata": {},
   "outputs": [],
   "source": [
    "# get quantile per stint\n",
    "\n"
   ]
  },
  {
   "cell_type": "code",
   "execution_count": null,
   "metadata": {},
   "outputs": [],
   "source": [
    "df_stints[df_stints['Player'].str.contains('Daniel Jones')]"
   ]
  },
  {
   "cell_type": "code",
   "execution_count": null,
   "metadata": {},
   "outputs": [],
   "source": [
    "df_stints.head()"
   ]
  },
  {
   "cell_type": "code",
   "execution_count": null,
   "metadata": {},
   "outputs": [],
   "source": [
    "stint = [13, 14, 15, 16, 17, 18]\n",
    "position = 'QB'\n",
    "total_points_oneplayer = 102.9\n",
    "\n",
    "df_temp=df_player_box_scores[(df_player_box_scores['Position'] == position) & (df_player_box_scores['Week'].isin(stint))]\n",
    "total_position_stint = df_temp.groupby(by=['Player']).agg({'Total points':'sum'}).reset_index()['Total points']\n",
    "quantile = total_position_stint.quantile((total_points_oneplayer-total_position_stint.min())/(total_position_stint.max()-total_position_stint.min()))\n"
   ]
  },
  {
   "cell_type": "code",
   "execution_count": null,
   "metadata": {},
   "outputs": [],
   "source": [
    "from scipy import stats\n",
    "\n",
    "def calculate_scoring_quantile_per_stint(stint,position,total_points_oneplayer):\n",
    "    \n",
    "    df_allplayers_stint = df_player_box_scores[(df_player_box_scores['Position'] == position) & (df_player_box_scores['Week'].isin(stint))]\n",
    "    total_position_stint = df_allplayers_stint.groupby(by=['Player']).agg({'Total points':'sum'}).reset_index()['Total points']\n",
    "    quantile = stats.percentileofscore(total_position_stint.values, total_points_oneplayer)\n",
    "    return quantile\n"
   ]
  },
  {
   "cell_type": "code",
   "execution_count": null,
   "metadata": {},
   "outputs": [],
   "source": [
    "df_stints=df_stints.drop(['quantile'],axis=1)"
   ]
  },
  {
   "cell_type": "code",
   "execution_count": null,
   "metadata": {},
   "outputs": [],
   "source": [
    "for idx, x in df_stints.iterrows():\n",
    "    if x['Stint (wks)']:\n",
    "        df_stints.loc[idx,'quantile'] = calculate_scoring_quantile_per_stint(x['Stint (wks)'], x['Position'], x['Total points per stint'])\n",
    "    else:\n",
    "        df_stints.loc[idx,'quantile'] = 0\n",
    "    "
   ]
  },
  {
   "cell_type": "code",
   "execution_count": null,
   "metadata": {},
   "outputs": [],
   "source": [
    "df_stints['Num wks'] = df_stints['Stint (wks)'].apply(lambda x: len(x))"
   ]
  },
  {
   "cell_type": "code",
   "execution_count": null,
   "metadata": {},
   "outputs": [],
   "source": [
    "df_stints1 = df_stints[df_stints['Num wks']>=7]"
   ]
  },
  {
   "cell_type": "code",
   "execution_count": null,
   "metadata": {},
   "outputs": [],
   "source": [
    "df_stints1[~df_stints1['Drafted']].sort_values(by=['quantile'],ascending=False)"
   ]
  },
  {
   "cell_type": "code",
   "execution_count": null,
   "metadata": {},
   "outputs": [],
   "source": [
    "for idx,x in df_stints.iterrows():\n",
    "    if idx == 1:\n",
    "        break"
   ]
  },
  {
   "cell_type": "code",
   "execution_count": null,
   "metadata": {},
   "outputs": [],
   "source": [
    "x"
   ]
  },
  {
   "cell_type": "code",
   "execution_count": null,
   "metadata": {},
   "outputs": [],
   "source": [
    "stint = x['Stint (wks)']\n",
    "position = x['Position']\n",
    "total_points_oneplayer = x['Total points per stint']\n",
    "print(total_points_oneplayer)\n",
    "\n",
    "df_allplayers_stint = df_player_box_scores[(df_player_box_scores['Position'] == position) & (df_player_box_scores['Week'].isin(stint))]\n"
   ]
  },
  {
   "cell_type": "code",
   "execution_count": null,
   "metadata": {},
   "outputs": [],
   "source": [
    "total_position_stint = df_allplayers_stint.groupby(by=['Player']).agg({'Total points':'sum'}).reset_index()['Total points']\n"
   ]
  },
  {
   "cell_type": "code",
   "execution_count": null,
   "metadata": {},
   "outputs": [],
   "source": [
    "total_position_stint.max()"
   ]
  },
  {
   "cell_type": "code",
   "execution_count": null,
   "metadata": {},
   "outputs": [],
   "source": [
    "total_position_stint.min()"
   ]
  },
  {
   "cell_type": "code",
   "execution_count": null,
   "metadata": {},
   "outputs": [],
   "source": [
    "quantile = stats.percentileofscore(total_position_stint.values, total_points_oneplayer)\n"
   ]
  },
  {
   "cell_type": "code",
   "execution_count": null,
   "metadata": {},
   "outputs": [],
   "source": [
    "quantile"
   ]
  },
  {
   "cell_type": "code",
   "execution_count": null,
   "metadata": {},
   "outputs": [],
   "source": [
    "# quantile = total_position_stint.quantile((total_points_oneplayer-total_position_stint.min())/(total_position_stint.max()-total_position_stint.min()))"
   ]
  },
  {
   "cell_type": "code",
   "execution_count": null,
   "metadata": {},
   "outputs": [],
   "source": [
    "quantile"
   ]
  },
  {
   "cell_type": "code",
   "execution_count": null,
   "metadata": {},
   "outputs": [],
   "source": []
  },
  {
   "cell_type": "code",
   "execution_count": null,
   "metadata": {},
   "outputs": [],
   "source": [
    "x"
   ]
  },
  {
   "cell_type": "code",
   "execution_count": null,
   "metadata": {},
   "outputs": [],
   "source": []
  },
  {
   "cell_type": "code",
   "execution_count": null,
   "metadata": {},
   "outputs": [],
   "source": [
    "df_stints[df_stints['Drafted']==False].sort_values(by=['quantile'],ascending=False)"
   ]
  },
  {
   "cell_type": "code",
   "execution_count": null,
   "metadata": {},
   "outputs": [],
   "source": [
    "# df_stints1 = df_stints[df_stints['Player'].str.contains('Daniel Jones')].iloc[-1,:]\n",
    "# df_stints1.apply(lambda x: calculate_scoring_quantile_per_stint(x['Stint (wks)'],x['Position'],x['Total points per stint']),axis=1)\n",
    "df_stints1.apply(lambda x: calculate_scoring_quantile_per_stint(x['Stint (wks)'], x['Position'], x['Total points per stint']), axis=1)\n"
   ]
  },
  {
   "cell_type": "code",
   "execution_count": null,
   "metadata": {},
   "outputs": [],
   "source": [
    "a = df_stints[(df_stints['Player'].str.contains('Daniel Jones'))].iloc[-1,:]['Total points per stint']"
   ]
  },
  {
   "cell_type": "code",
   "execution_count": null,
   "metadata": {},
   "outputs": [],
   "source": [
    "a"
   ]
  },
  {
   "cell_type": "code",
   "execution_count": null,
   "metadata": {},
   "outputs": [],
   "source": []
  },
  {
   "cell_type": "code",
   "execution_count": null,
   "metadata": {},
   "outputs": [],
   "source": [
    "stint"
   ]
  },
  {
   "cell_type": "code",
   "execution_count": null,
   "metadata": {},
   "outputs": [],
   "source": [
    "18 in stint"
   ]
  },
  {
   "cell_type": "code",
   "execution_count": null,
   "metadata": {},
   "outputs": [],
   "source": [
    "import pandas as pd\n",
    "\n",
    "df_temp = pd.concat([df_temp.groupby(by='Week').get_group(i) for i in stint if i!=18])\n",
    "df_temp['Total points'].sum()/df_temp.shape[0]"
   ]
  },
  {
   "cell_type": "code",
   "execution_count": null,
   "metadata": {},
   "outputs": [],
   "source": [
    "s=df_temp['Total points']"
   ]
  },
  {
   "cell_type": "code",
   "execution_count": null,
   "metadata": {},
   "outputs": [],
   "source": [
    "df_temp.groupby(by=['Player']).get_group('Daniel Jones')"
   ]
  },
  {
   "cell_type": "code",
   "execution_count": null,
   "metadata": {},
   "outputs": [],
   "source": [
    "df_temp.groupby(by=['Player']).get_group('Tom Brady')['Total points'].sum()"
   ]
  },
  {
   "cell_type": "code",
   "execution_count": null,
   "metadata": {},
   "outputs": [],
   "source": [
    "df_temp['Total points']"
   ]
  },
  {
   "cell_type": "code",
   "execution_count": null,
   "metadata": {},
   "outputs": [],
   "source": [
    "df_temp=df_temp.groupby(by=['Player']).agg(sum).reset_index().sort_values(by='Total points', ascending=False)"
   ]
  },
  {
   "cell_type": "code",
   "execution_count": null,
   "metadata": {},
   "outputs": [],
   "source": [
    "s = df_temp['Total points']\n"
   ]
  },
  {
   "cell_type": "code",
   "execution_count": null,
   "metadata": {},
   "outputs": [],
   "source": [
    "quantile = s.quantile((a-s.min())/(s.max()-s.min()))\n"
   ]
  },
  {
   "cell_type": "code",
   "execution_count": null,
   "metadata": {},
   "outputs": [],
   "source": [
    "df_temp"
   ]
  },
  {
   "cell_type": "code",
   "execution_count": null,
   "metadata": {},
   "outputs": [],
   "source": [
    "quantile"
   ]
  },
  {
   "cell_type": "code",
   "execution_count": null,
   "metadata": {},
   "outputs": [],
   "source": [
    "player = 'Daniel Jones'\n",
    "g = df_player_box_scores.groupby(by=\"Player\")\n",
    "df = g.get_group(player)\n"
   ]
  },
  {
   "cell_type": "code",
   "execution_count": null,
   "metadata": {},
   "outputs": [],
   "source": [
    "df"
   ]
  },
  {
   "cell_type": "code",
   "execution_count": null,
   "metadata": {},
   "outputs": [],
   "source": [
    "\n",
    "\n",
    "def scatterplot_acquisitions(df_stints, select_acq_method=None, select_positions=None):\n",
    "    \n",
    "    if select_acq_method is None:\n",
    "        select_acq_method = [True]\n",
    "\n",
    "    if select_positions is None:\n",
    "        select_positions=['RB','WR','TE']\n",
    "\n",
    "    g = df_stints.groupby(by=[\"Drafted\", \"Position\"])\n",
    "\n",
    "    df = pd.concat([g.get_group((acq_by_draft,position)) \n",
    "           for acq_by_draft in select_acq_method\n",
    "           for position in select_positions],axis=0)\n",
    "\n",
    "    if select_acq_method[0]:\n",
    "        status = \"Draft\"\n",
    "    else:\n",
    "        status = \"Waiver\"\n",
    "\n",
    "    positions = ', '.join(select_positions)\n",
    "\n",
    "    plot_title = f\"Position: {positions} , Acquired by: {status}\"\n",
    "    selection = alt.selection_multi(fields=[\"Team\"], bind=\"legend\")\n",
    "\n",
    "    color = alt.condition(\n",
    "        selection,\n",
    "        alt.Color(\n",
    "            \"Team:N\",\n",
    "            scale=alt.Scale(scheme=\"tableau20\"),\n",
    "        ),\n",
    "        alt.value(\"lightgray\"),\n",
    "    )\n",
    "\n",
    "    chart = (\n",
    "        alt.Chart(df)\n",
    "        .mark_circle(size=40)\n",
    "        .encode(\n",
    "            alt.X(\"Bid Amount ($)\", axis=alt.Axis(grid=False)),\n",
    "            alt.Y(\"Total points per stint\", axis=alt.Axis(grid=False)),\n",
    "            color=color,\n",
    "            opacity=alt.condition(selection, alt.value(1), alt.value(0.1)),\n",
    "            tooltip=[\"Player\", \"Team\", \"Bid Amount ($)\", \"Total points per stint\"],\n",
    "        )\n",
    "        .add_selection(selection)\n",
    "        .properties(width=450, height=450, title=plot_title)\n",
    "        .configure_axis(labelFontSize=18, titleFontSize=18)\n",
    "        .configure_title(fontSize=20)\n",
    "        .configure_legend(labelFontSize=14, titleFontSize=14)\n",
    "    )\n",
    "    return plot_title, chart\n"
   ]
  },
  {
   "cell_type": "markdown",
   "metadata": {},
   "source": [
    "## Draft Scatterplot"
   ]
  },
  {
   "cell_type": "code",
   "execution_count": null,
   "metadata": {},
   "outputs": [],
   "source": [
    "plot_title, chart = scatterplot_acquisitions(df_stints, select_acq_method=[True], select_positions=['RB','WR','TE'])\n",
    "chart.display()"
   ]
  },
  {
   "cell_type": "markdown",
   "metadata": {},
   "source": [
    "## Waiver Scatterplot"
   ]
  },
  {
   "attachments": {},
   "cell_type": "markdown",
   "metadata": {},
   "source": [
    "- In waiver spending, Flex Player All Stars really spent a fortune and didn't get great return on Khalil Herbert. \n",
    "- Jamaal Williams, Jerick McKinnon, Curtis Samuel and D'Onta Foreman, were big value adds"
   ]
  },
  {
   "cell_type": "code",
   "execution_count": null,
   "metadata": {},
   "outputs": [],
   "source": [
    "plot_title, chart = scatterplot_acquisitions(df_stints, select_acq_method=[False], select_positions=['RB','WR','TE'])\n",
    "chart.display()"
   ]
  },
  {
   "cell_type": "markdown",
   "metadata": {},
   "source": [
    "Curtis Samuel was the most valuable waiver wire receiver."
   ]
  },
  {
   "cell_type": "code",
   "execution_count": null,
   "metadata": {},
   "outputs": [],
   "source": [
    "for acq_by_draft in [True,False]:\n",
    "    for position in df_stints['Position'].unique():\n",
    "        plot_title,chart = scatterplot_acquisitions(df_stints, select_acq_method=[acq_by_draft], select_positions=[position])\n",
    "        chart.display()\n"
   ]
  },
  {
   "cell_type": "code",
   "execution_count": null,
   "metadata": {},
   "outputs": [],
   "source": [
    "df_player_ffteam['Position'].unique()"
   ]
  },
  {
   "cell_type": "code",
   "execution_count": null,
   "metadata": {},
   "outputs": [],
   "source": [
    "df_player_ffteam[(df_player_ffteam['Num weeks']>7) & (df_player_ffteam['Position'].isin(['QB','RB','WR','TE'])) & (~df_player_ffteam['Drafted'])].sort_values(by='quantile',ascending=False)"
   ]
  },
  {
   "cell_type": "code",
   "execution_count": null,
   "metadata": {},
   "outputs": [],
   "source": [
    "df_player_ffteam[(df_player_ffteam['Num weeks']>7) & (df_player_ffteam['Position'].isin(['QB','RB','WR','TE'])) &(df_player_ffteam['quantile']>=90) ].sort_values(by='quantile',ascending=False)"
   ]
  },
  {
   "cell_type": "code",
   "execution_count": null,
   "metadata": {},
   "outputs": [],
   "source": []
  }
 ],
 "metadata": {
  "kernelspec": {
   "display_name": "Python 3 (ipykernel)",
   "language": "python",
   "name": "python3"
  },
  "language_info": {
   "codemirror_mode": {
    "name": "ipython",
    "version": 3
   },
   "file_extension": ".py",
   "mimetype": "text/x-python",
   "name": "python",
   "nbconvert_exporter": "python",
   "pygments_lexer": "ipython3",
   "version": "3.9.13"
  },
  "vscode": {
   "interpreter": {
    "hash": "ff9fae090fc4d4cb7e8012a224cccb27ac950fda670b97af54b7710c35615604"
   }
  }
 },
 "nbformat": 4,
 "nbformat_minor": 2
}
