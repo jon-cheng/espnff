{
 "cells": [
  {
   "cell_type": "code",
   "execution_count": null,
   "metadata": {},
   "outputs": [],
   "source": [
    "import pandas as pd\n",
    "import random"
   ]
  },
  {
   "cell_type": "code",
   "execution_count": null,
   "metadata": {},
   "outputs": [],
   "source": [
    "import pandas as pd\n",
    "import seaborn as sns\n",
    "\n",
    "iris = sns.load_dataset('iris')\n",
    "df = iris.sample(n=10, random_state=1)\n",
    "df"
   ]
  },
  {
   "cell_type": "code",
   "execution_count": null,
   "metadata": {},
   "outputs": [],
   "source": [
    "def highlight_cells(val):\n",
    "    color = 'yellow' if val == 5.1 else ''\n",
    "    return 'background-color: {}'.format(color)\n",
    "\n",
    "df.style.applymap(highlight_cells)"
   ]
  },
  {
   "cell_type": "code",
   "execution_count": null,
   "metadata": {},
   "outputs": [],
   "source": []
  },
  {
   "cell_type": "code",
   "execution_count": 15,
   "metadata": {},
   "outputs": [],
   "source": [
    "ls = ['B','G','Y','R']"
   ]
  },
  {
   "cell_type": "code",
   "execution_count": 16,
   "metadata": {},
   "outputs": [],
   "source": [
    "ls_all=[]\n",
    "for i,x in enumerate(ls):\n",
    "    for j,y in enumerate(ls):\n",
    "        if i>=j:\n",
    "            ls_all.append(''.join([x,y]))"
   ]
  },
  {
   "cell_type": "code",
   "execution_count": null,
   "metadata": {},
   "outputs": [],
   "source": [
    "def get_random_color(ls_all):\n",
    "    return random.choice(ls_all)\n"
   ]
  },
  {
   "cell_type": "code",
   "execution_count": null,
   "metadata": {},
   "outputs": [],
   "source": [
    "def highlight_cells(val):\n",
    "    color = 'yellow' if val == 5.1 else ''\n",
    "    return 'background-color: {}'.format(color)\n",
    "\n",
    "# df.style.applymap(highlight_cells)"
   ]
  },
  {
   "cell_type": "code",
   "execution_count": null,
   "metadata": {},
   "outputs": [],
   "source": []
  },
  {
   "cell_type": "code",
   "execution_count": null,
   "metadata": {},
   "outputs": [],
   "source": [
    "def highlight_cells(val):\n",
    "    color = 'yellow' if val == 5.1 else ''\n",
    "    return 'background-color: {}'.format(color)"
   ]
  },
  {
   "cell_type": "code",
   "execution_count": null,
   "metadata": {},
   "outputs": [],
   "source": [
    "def highlight_cols(s):\n",
    "    color = 'yellow'\n",
    "    return 'background-color: %s; opacity: 0.8' % color\n",
    "\n",
    "df.style.applymap(highlight_cols, subset=pd.IndexSlice[:, [0,1,2]])\n",
    "\n",
    "df.style.applymap(highlight_cols, subset=pd.IndexSlice[:, [3,4,5]])\n",
    "\n"
   ]
  },
  {
   "cell_type": "code",
   "execution_count": null,
   "metadata": {},
   "outputs": [],
   "source": [
    "def highlight_cols(s):\n",
    "    # color = 'yellow'\n",
    "    return f'background-color: {s}; opacity: 0.8' \n",
    "\n",
    "# df.style.applymap(highlight_cols('red'), subset=pd.IndexSlice[:, [0,1,2]])\n",
    "\n",
    "# df.style.applymap(highlight_cols('yellow'), subset=pd.IndexSlice[:, [3,4,5]])"
   ]
  },
  {
   "cell_type": "code",
   "execution_count": null,
   "metadata": {},
   "outputs": [],
   "source": [
    "num_rows = 50\n",
    "num_cols = 60"
   ]
  },
  {
   "cell_type": "code",
   "execution_count": null,
   "metadata": {},
   "outputs": [],
   "source": []
  },
  {
   "cell_type": "code",
   "execution_count": null,
   "metadata": {},
   "outputs": [],
   "source": [
    "coords_x = random.choices(list(range(1024)),k=num_rows)\n",
    "coords_y = random.choices(list(range(1024)),k=num_rows)"
   ]
  },
  {
   "cell_type": "code",
   "execution_count": null,
   "metadata": {},
   "outputs": [],
   "source": []
  },
  {
   "cell_type": "code",
   "execution_count": null,
   "metadata": {},
   "outputs": [],
   "source": [
    "df = pd.DataFrame(columns=range(60),index=[coords_x,coords_y])\n",
    "df = df.applymap(lambda _: get_random_color(ls_all))\n",
    "df.index.names = ['x','y']\n",
    "\n",
    "def highlight_cols(val):\n",
    "    # color = 'yellow'\n",
    "    return f'background-color: {val}; opacity: 0.8'\n",
    "\n",
    "df.style.applymap(lambda x: highlight_cols('yellow') , subset=pd.IndexSlice[:, [0, 1, 2]])\\\n",
    "        .applymap(lambda x: highlight_cols('red') , subset=pd.IndexSlice[:, [3,4,5]])\\\n",
    "        .applymap(lambda x: highlight_cols('blue') , subset=pd.IndexSlice[:, [6,7,8]])\\\n",
    "        .applymap(lambda x: highlight_cols('green') , subset=pd.IndexSlice[:, [9,10,11]])\\\n",
    "        .applymap(lambda x: highlight_cols('orange') , subset=pd.IndexSlice[:, [12,13,14]])\\\n",
    "        .applymap(lambda x: highlight_cols('cyan') , subset=pd.IndexSlice[:, [15,16,17]])\\\n",
    "        \n",
    "\n"
   ]
  },
  {
   "cell_type": "code",
   "execution_count": null,
   "metadata": {},
   "outputs": [],
   "source": []
  },
  {
   "cell_type": "code",
   "execution_count": 3,
   "metadata": {},
   "outputs": [],
   "source": [
    "# generate a set of hexamers (4096)\n",
    "\n",
    "import itertools\n",
    "import random\n",
    "import pandas as pd\n",
    "ls=[]\n",
    "nucleotides = ['A','T','C','G']\n",
    "# stuff = [1, 2, 3]\n",
    "# # for L in range(len(nucleotides) + 1):\n",
    "# for subset in itertools.combinations(nucleotides, L):\n",
    "#     ls.append(subset)"
   ]
  },
  {
   "cell_type": "code",
   "execution_count": 4,
   "metadata": {},
   "outputs": [],
   "source": [
    "combs = itertools.combinations_with_replacement(nucleotides, 6)"
   ]
  },
  {
   "cell_type": "code",
   "execution_count": 6,
   "metadata": {},
   "outputs": [],
   "source": [
    "ls_seqs = []\n",
    "for c in combs:\n",
    "    ls_seqs.append(\"\".join(list(c)))"
   ]
  },
  {
   "cell_type": "code",
   "execution_count": 42,
   "metadata": {},
   "outputs": [],
   "source": [
    "ls_seqs_rand = random.choices(ls_seqs,k=10)"
   ]
  },
  {
   "cell_type": "code",
   "execution_count": 43,
   "metadata": {},
   "outputs": [
    {
     "data": {
      "text/plain": [
       "['AAATGG',\n",
       " 'TTTCGG',\n",
       " 'TTTTTG',\n",
       " 'AATCCC',\n",
       " 'TGGGGG',\n",
       " 'AAAACG',\n",
       " 'AATTTG',\n",
       " 'AATTGG',\n",
       " 'AATTCG',\n",
       " 'ATCCCG']"
      ]
     },
     "execution_count": 43,
     "metadata": {},
     "output_type": "execute_result"
    }
   ],
   "source": [
    "ls_seqs_rand"
   ]
  },
  {
   "cell_type": "code",
   "execution_count": 18,
   "metadata": {},
   "outputs": [
    {
     "data": {
      "text/plain": [
       "['BB', 'GB', 'GG', 'YB', 'YG', 'YY', 'RB', 'RG', 'RY', 'RR']"
      ]
     },
     "execution_count": 18,
     "metadata": {},
     "output_type": "execute_result"
    }
   ],
   "source": [
    "ls_all"
   ]
  },
  {
   "cell_type": "code",
   "execution_count": 31,
   "metadata": {},
   "outputs": [],
   "source": [
    "ls = []\n",
    "# for j in list(range(10)):\n",
    "for i in list(range(3)):\n",
    "    ls.append(random.choice(ls_all))\n",
    "\n"
   ]
  },
  {
   "cell_type": "code",
   "execution_count": 39,
   "metadata": {},
   "outputs": [],
   "source": [
    "ls_colors=[]\n",
    "for j in list(range(10)):\n",
    "    ls_colors.append(\"-\".join([random.choice(ls_all) for i in list(range(3))]))"
   ]
  },
  {
   "cell_type": "code",
   "execution_count": 32,
   "metadata": {},
   "outputs": [
    {
     "data": {
      "text/plain": [
       "['RR', 'YB', 'GB']"
      ]
     },
     "execution_count": 32,
     "metadata": {},
     "output_type": "execute_result"
    }
   ],
   "source": [
    "ls"
   ]
  },
  {
   "cell_type": "code",
   "execution_count": 27,
   "metadata": {},
   "outputs": [],
   "source": [
    "color_seq"
   ]
  },
  {
   "cell_type": "code",
   "execution_count": 44,
   "metadata": {},
   "outputs": [],
   "source": [
    "df=pd.DataFrame(data=zip(ls_colors,ls_seqs_rand))"
   ]
  },
  {
   "cell_type": "code",
   "execution_count": 45,
   "metadata": {},
   "outputs": [
    {
     "data": {
      "text/html": [
       "<div>\n",
       "<style scoped>\n",
       "    .dataframe tbody tr th:only-of-type {\n",
       "        vertical-align: middle;\n",
       "    }\n",
       "\n",
       "    .dataframe tbody tr th {\n",
       "        vertical-align: top;\n",
       "    }\n",
       "\n",
       "    .dataframe thead th {\n",
       "        text-align: right;\n",
       "    }\n",
       "</style>\n",
       "<table border=\"1\" class=\"dataframe\">\n",
       "  <thead>\n",
       "    <tr style=\"text-align: right;\">\n",
       "      <th></th>\n",
       "      <th>0</th>\n",
       "      <th>1</th>\n",
       "    </tr>\n",
       "  </thead>\n",
       "  <tbody>\n",
       "    <tr>\n",
       "      <th>0</th>\n",
       "      <td>RB-YG-RG</td>\n",
       "      <td>AAATGG</td>\n",
       "    </tr>\n",
       "    <tr>\n",
       "      <th>1</th>\n",
       "      <td>YB-YB-RY</td>\n",
       "      <td>TTTCGG</td>\n",
       "    </tr>\n",
       "    <tr>\n",
       "      <th>2</th>\n",
       "      <td>BB-RY-RY</td>\n",
       "      <td>TTTTTG</td>\n",
       "    </tr>\n",
       "    <tr>\n",
       "      <th>3</th>\n",
       "      <td>RB-RB-RB</td>\n",
       "      <td>AATCCC</td>\n",
       "    </tr>\n",
       "    <tr>\n",
       "      <th>4</th>\n",
       "      <td>GG-YB-BB</td>\n",
       "      <td>TGGGGG</td>\n",
       "    </tr>\n",
       "    <tr>\n",
       "      <th>5</th>\n",
       "      <td>BB-YY-GG</td>\n",
       "      <td>AAAACG</td>\n",
       "    </tr>\n",
       "    <tr>\n",
       "      <th>6</th>\n",
       "      <td>RR-RR-RR</td>\n",
       "      <td>AATTTG</td>\n",
       "    </tr>\n",
       "    <tr>\n",
       "      <th>7</th>\n",
       "      <td>YY-YB-YY</td>\n",
       "      <td>AATTGG</td>\n",
       "    </tr>\n",
       "    <tr>\n",
       "      <th>8</th>\n",
       "      <td>BB-YG-YG</td>\n",
       "      <td>AATTCG</td>\n",
       "    </tr>\n",
       "    <tr>\n",
       "      <th>9</th>\n",
       "      <td>YB-YG-YB</td>\n",
       "      <td>ATCCCG</td>\n",
       "    </tr>\n",
       "  </tbody>\n",
       "</table>\n",
       "</div>"
      ],
      "text/plain": [
       "          0       1\n",
       "0  RB-YG-RG  AAATGG\n",
       "1  YB-YB-RY  TTTCGG\n",
       "2  BB-RY-RY  TTTTTG\n",
       "3  RB-RB-RB  AATCCC\n",
       "4  GG-YB-BB  TGGGGG\n",
       "5  BB-YY-GG  AAAACG\n",
       "6  RR-RR-RR  AATTTG\n",
       "7  YY-YB-YY  AATTGG\n",
       "8  BB-YG-YG  AATTCG\n",
       "9  YB-YG-YB  ATCCCG"
      ]
     },
     "execution_count": 45,
     "metadata": {},
     "output_type": "execute_result"
    }
   ],
   "source": [
    "df"
   ]
  },
  {
   "cell_type": "code",
   "execution_count": null,
   "metadata": {},
   "outputs": [],
   "source": [
    "df.head()"
   ]
  },
  {
   "cell_type": "code",
   "execution_count": null,
   "metadata": {},
   "outputs": [],
   "source": [
    "ls = [1,2,3]\n",
    "random.shuffle(ls)"
   ]
  },
  {
   "cell_type": "code",
   "execution_count": null,
   "metadata": {},
   "outputs": [],
   "source": []
  }
 ],
 "metadata": {
  "kernelspec": {
   "display_name": "base",
   "language": "python",
   "name": "python3"
  },
  "language_info": {
   "codemirror_mode": {
    "name": "ipython",
    "version": 3
   },
   "file_extension": ".py",
   "mimetype": "text/x-python",
   "name": "python",
   "nbconvert_exporter": "python",
   "pygments_lexer": "ipython3",
   "version": "3.9.13"
  },
  "orig_nbformat": 4,
  "vscode": {
   "interpreter": {
    "hash": "ff9fae090fc4d4cb7e8012a224cccb27ac950fda670b97af54b7710c35615604"
   }
  }
 },
 "nbformat": 4,
 "nbformat_minor": 2
}
