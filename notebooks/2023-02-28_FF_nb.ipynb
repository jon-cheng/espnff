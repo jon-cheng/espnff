{
 "cells": [
  {
   "cell_type": "code",
   "execution_count": 1,
   "metadata": {},
   "outputs": [
    {
     "name": "stdout",
     "output_type": "stream",
     "text": [
      "/Users/jonathancheng/PycharmProjects/espnff/src\n"
     ]
    }
   ],
   "source": [
    "%cd /Users/jonathancheng/PycharmProjects/espnff/src/\n"
   ]
  },
  {
   "cell_type": "code",
   "execution_count": 2,
   "metadata": {},
   "outputs": [],
   "source": [
    "import nfl_schedule as nf\n",
    "import ff_league_data as ff"
   ]
  },
  {
   "attachments": {},
   "cell_type": "markdown",
   "metadata": {},
   "source": [
    "## Get NFL Schedule"
   ]
  },
  {
   "cell_type": "code",
   "execution_count": 3,
   "metadata": {},
   "outputs": [],
   "source": [
    "year_of_interest=2022\n",
    "\n",
    "df=nf.get_nfl_schedule(year_of_interest)"
   ]
  },
  {
   "cell_type": "code",
   "execution_count": 14,
   "metadata": {},
   "outputs": [],
   "source": [
    "import os\n",
    "import requests\n",
    "from bs4 import BeautifulSoup\n",
    "\n",
    "import json\n",
    "import numpy as npa\n",
    "import pandas as pd\n",
    "import matplotlib.pyplot as plt\n",
    "import seaborn as sns\n",
    "import plotly.express as px\n",
    "import plotly.io as pio\n",
    "\n",
    "# import datetime\n",
    "from datetime import date\n",
    "from datetime import datetime\n",
    "\n",
    "import requests\n",
    "import espn_api\n",
    "from espn_api.football import League\n",
    "from espn_api.football import activity\n",
    "\n",
    "import altair as alt\n",
    "\n",
    "# import sportsipy.nfl\n",
    "# from sportsipy.nfl.boxscore import Boxscore\n",
    "# from sportsipy.nfl.schedule import Schedule\n",
    "# from sportsipy.nfl.teams import Teams\n",
    "import nfl_data_py as nfl\n",
    "\n",
    "# from sportsipy.nfl.teams import Teams\n",
    "\n",
    "# teams = Teams()\n",
    "# lions = teams('DET')\n"
   ]
  },
  {
   "cell_type": "code",
   "execution_count": 4,
   "metadata": {},
   "outputs": [],
   "source": [
    "path = r'/Users/jonathancheng/PycharmProjects/espnff/data'\n",
    "\n",
    "league_id = 1094090\n",
    "year = year_of_interest\n",
    "\n",
    "SWID=\"{F191FB8C-DB2D-4D24-91FB-8CDB2DED249D}\"\n",
    "\n",
    "swid = SWID\n",
    "s2='AECJMQHsUHB0FTXdZkw93uY7GRbX8BPnm93Ye6AwvwrMsrZFGg1Lbmi07SWVov2ioN8zGMFDzZiiDSeQCa7WQHaGivGnMfGWLjmfGwkOeLXb5baD1sltp%2B%2BIfHAtl98TpmHgB16ZpGn6g3Bm5vLEA7yDC6HkbD3LSp0E2rGB7hKziLMvZ7mT6ONJFRe8Xp3ApYWSvxPr9cz0pJiI%2FF0blsZ8hyATDJMEyaQ2O%2FypcsViORr6hqYTmXHPuPKnMBfvYC8LQqi1exGw3vnyg6ptsB2Y'\n",
    "\n",
    "espn_s2 = s2\n"
   ]
  },
  {
   "cell_type": "markdown",
   "metadata": {},
   "source": [
    "## Generate League object"
   ]
  },
  {
   "cell_type": "code",
   "execution_count": 6,
   "metadata": {},
   "outputs": [],
   "source": [
    "league = ff.fetch_espn_api(league_id, year, espn_s2, swid)"
   ]
  },
  {
   "attachments": {},
   "cell_type": "markdown",
   "metadata": {},
   "source": [
    "## Get Acquisitions Data"
   ]
  },
  {
   "cell_type": "code",
   "execution_count": 9,
   "metadata": {},
   "outputs": [],
   "source": [
    "activity_ls = ff.get_recent_activity(league)"
   ]
  },
  {
   "cell_type": "code",
   "execution_count": null,
   "metadata": {},
   "outputs": [],
   "source": [
    "# fetch league data, wrangle into acquisitions DataFrame\n",
    "year = 2020\n",
    "activity_ls = ff.fetch_espn_api(league_id, year, espn_s2, swid)\n",
    "acq_data_flat_ls = ff.get_acq_ls(activity_ls)\n",
    "df_acq = ff.build_df_acq(acq_data_flat_ls)"
   ]
  },
  {
   "cell_type": "code",
   "execution_count": null,
   "metadata": {},
   "outputs": [],
   "source": [
    "df_acq[(df_acq['Action']=='WAIVER ADDED') & (df_acq['Bid Amount ($)']==0)]"
   ]
  },
  {
   "cell_type": "markdown",
   "metadata": {},
   "source": [
    "## Get Draft Data"
   ]
  },
  {
   "cell_type": "code",
   "execution_count": 10,
   "metadata": {},
   "outputs": [
    {
     "data": {
      "text/plain": [
       "Pick(Aaron Rodgers, Team(Frankel's Cankles))"
      ]
     },
     "execution_count": 10,
     "metadata": {},
     "output_type": "execute_result"
    }
   ],
   "source": [
    "league.draft[0]"
   ]
  },
  {
   "cell_type": "code",
   "execution_count": 15,
   "metadata": {},
   "outputs": [],
   "source": [
    "draft_ls = [(pick.playerName, pick.team.team_name, 'DRAFT ADDED', pick.bid_amount) for pick in league.draft]\n",
    "df_draft = pd.DataFrame(draft_ls, columns = ['Player', 'Acquired by' , 'Action' , 'Bid Amount ($)'])\n",
    "\n"
   ]
  },
  {
   "cell_type": "code",
   "execution_count": 16,
   "metadata": {},
   "outputs": [
    {
     "data": {
      "text/html": [
       "<div>\n",
       "<style scoped>\n",
       "    .dataframe tbody tr th:only-of-type {\n",
       "        vertical-align: middle;\n",
       "    }\n",
       "\n",
       "    .dataframe tbody tr th {\n",
       "        vertical-align: top;\n",
       "    }\n",
       "\n",
       "    .dataframe thead th {\n",
       "        text-align: right;\n",
       "    }\n",
       "</style>\n",
       "<table border=\"1\" class=\"dataframe\">\n",
       "  <thead>\n",
       "    <tr style=\"text-align: right;\">\n",
       "      <th></th>\n",
       "      <th>Player</th>\n",
       "      <th>Acquired by</th>\n",
       "      <th>Action</th>\n",
       "      <th>Bid Amount ($)</th>\n",
       "    </tr>\n",
       "  </thead>\n",
       "  <tbody>\n",
       "    <tr>\n",
       "      <th>0</th>\n",
       "      <td>Aaron Rodgers</td>\n",
       "      <td>Frankel's Cankles</td>\n",
       "      <td>DRAFT ADDED</td>\n",
       "      <td>3</td>\n",
       "    </tr>\n",
       "    <tr>\n",
       "      <th>1</th>\n",
       "      <td>Christian McCaffrey</td>\n",
       "      <td>Frankel's Cankles</td>\n",
       "      <td>DRAFT ADDED</td>\n",
       "      <td>69</td>\n",
       "    </tr>\n",
       "    <tr>\n",
       "      <th>2</th>\n",
       "      <td>Justin Jefferson</td>\n",
       "      <td>Sweetless in Seattle</td>\n",
       "      <td>DRAFT ADDED</td>\n",
       "      <td>68</td>\n",
       "    </tr>\n",
       "    <tr>\n",
       "      <th>3</th>\n",
       "      <td>Jonathan Taylor</td>\n",
       "      <td>is the fantasy season everett?</td>\n",
       "      <td>DRAFT ADDED</td>\n",
       "      <td>73</td>\n",
       "    </tr>\n",
       "    <tr>\n",
       "      <th>4</th>\n",
       "      <td>Josh Allen</td>\n",
       "      <td>Big Joshy Style</td>\n",
       "      <td>DRAFT ADDED</td>\n",
       "      <td>26</td>\n",
       "    </tr>\n",
       "    <tr>\n",
       "      <th>...</th>\n",
       "      <td>...</td>\n",
       "      <td>...</td>\n",
       "      <td>...</td>\n",
       "      <td>...</td>\n",
       "    </tr>\n",
       "    <tr>\n",
       "      <th>151</th>\n",
       "      <td>Jakobi Meyers</td>\n",
       "      <td>Kirk-life Balance</td>\n",
       "      <td>DRAFT ADDED</td>\n",
       "      <td>1</td>\n",
       "    </tr>\n",
       "    <tr>\n",
       "      <th>152</th>\n",
       "      <td>Nico Collins</td>\n",
       "      <td>Big Joshy Style</td>\n",
       "      <td>DRAFT ADDED</td>\n",
       "      <td>1</td>\n",
       "    </tr>\n",
       "    <tr>\n",
       "      <th>153</th>\n",
       "      <td>Steelers D/ST</td>\n",
       "      <td>Kirk-life Balance</td>\n",
       "      <td>DRAFT ADDED</td>\n",
       "      <td>1</td>\n",
       "    </tr>\n",
       "    <tr>\n",
       "      <th>154</th>\n",
       "      <td>Tyler Higbee</td>\n",
       "      <td>Big Joshy Style</td>\n",
       "      <td>DRAFT ADDED</td>\n",
       "      <td>1</td>\n",
       "    </tr>\n",
       "    <tr>\n",
       "      <th>155</th>\n",
       "      <td>Graham Gano</td>\n",
       "      <td>Kirk-life Balance</td>\n",
       "      <td>DRAFT ADDED</td>\n",
       "      <td>1</td>\n",
       "    </tr>\n",
       "  </tbody>\n",
       "</table>\n",
       "<p>156 rows × 4 columns</p>\n",
       "</div>"
      ],
      "text/plain": [
       "                  Player                     Acquired by       Action  \\\n",
       "0          Aaron Rodgers               Frankel's Cankles  DRAFT ADDED   \n",
       "1    Christian McCaffrey               Frankel's Cankles  DRAFT ADDED   \n",
       "2       Justin Jefferson            Sweetless in Seattle  DRAFT ADDED   \n",
       "3        Jonathan Taylor  is the fantasy season everett?  DRAFT ADDED   \n",
       "4             Josh Allen                 Big Joshy Style  DRAFT ADDED   \n",
       "..                   ...                             ...          ...   \n",
       "151        Jakobi Meyers               Kirk-life Balance  DRAFT ADDED   \n",
       "152         Nico Collins                 Big Joshy Style  DRAFT ADDED   \n",
       "153        Steelers D/ST               Kirk-life Balance  DRAFT ADDED   \n",
       "154         Tyler Higbee                 Big Joshy Style  DRAFT ADDED   \n",
       "155          Graham Gano               Kirk-life Balance  DRAFT ADDED   \n",
       "\n",
       "     Bid Amount ($)  \n",
       "0                 3  \n",
       "1                69  \n",
       "2                68  \n",
       "3                73  \n",
       "4                26  \n",
       "..              ...  \n",
       "151               1  \n",
       "152               1  \n",
       "153               1  \n",
       "154               1  \n",
       "155               1  \n",
       "\n",
       "[156 rows x 4 columns]"
      ]
     },
     "execution_count": 16,
     "metadata": {},
     "output_type": "execute_result"
    }
   ],
   "source": [
    "df_draft"
   ]
  },
  {
   "cell_type": "code",
   "execution_count": null,
   "metadata": {},
   "outputs": [],
   "source": []
  },
  {
   "cell_type": "code",
   "execution_count": null,
   "metadata": {},
   "outputs": [],
   "source": [
    "draft_ls = []\n",
    "\n",
    "for i in league.draft:    \n",
    "    team_id = i.team.team_name\n",
    "    player_id = i.playerName\n",
    "    bid_amount = i.bid_amount\n",
    "    action = 'DRAFT ADDED'\n",
    "    draft_ls.append((player_id, team_id,action,bid_amount))\n",
    "\n",
    "df_draft = pd.DataFrame(draft_ls)\n",
    "  \n",
    "df_draft.columns = ['Player', 'Acquired by' , 'Action' , 'Bid Amount ($)']\n",
    "\n",
    "df_draft.set_index('Player',inplace=True)"
   ]
  },
  {
   "cell_type": "code",
   "execution_count": null,
   "metadata": {},
   "outputs": [],
   "source": [
    "# Football Import\n",
    "\n",
    "league_id = 1094090\n",
    "# year = 2022\n",
    "\n",
    "SWID=\"{F191FB8C-DB2D-4D24-91FB-8CDB2DED249D}\"\n",
    "\n",
    "s2='AECJMQHsUHB0FTXdZkw93uY7GRbX8BPnm93Ye6AwvwrMsrZFGg1Lbmi07SWVov2ioN8zGMFDzZiiDSeQCa7WQHaGivGnMfGWLjmfGwkOeLXb5baD1sltp%2B%2BIfHAtl98TpmHgB16ZpGn6g3Bm5vLEA7yDC6HkbD3LSp0E2rGB7hKziLMvZ7mT6ONJFRe8Xp3ApYWSvxPr9cz0pJiI%2FF0blsZ8hyATDJMEyaQ2O%2FypcsViORr6hqYTmXHPuPKnMBfvYC8LQqi1exGw3vnyg6ptsB2Y'"
   ]
  },
  {
   "cell_type": "code",
   "execution_count": null,
   "metadata": {},
   "outputs": [],
   "source": [
    "league = League(league_id=league_id, year=year_of_interest, espn_s2=s2, swid=SWID)\n",
    "\n",
    "activity_ls = league.recent_activity(1000)"
   ]
  },
  {
   "cell_type": "code",
   "execution_count": null,
   "metadata": {},
   "outputs": [],
   "source": [
    "def fetch_espn_api(league_id, year, espn_s2, swid):\n",
    "    \"\"\"Uses espn_api to fetch league data\n",
    "\n",
    "    Args:\n",
    "        league_id (_type_): ESPN League ID\n",
    "        year (_type_): Year of season of interest\n",
    "        espn_s2 (_type_): _description_\n",
    "        swid (_type_): _description_\n",
    "\n",
    "    Returns:\n",
    "        list: recent activity list generated by espn_api\n",
    "    \"\"\"\n",
    "    return League(league_id=league_id, year=year_of_interest, espn_s2=s2, swid=SWID).recent_activity(100000000)\n"
   ]
  },
  {
   "cell_type": "code",
   "execution_count": null,
   "metadata": {},
   "outputs": [],
   "source": [
    "activity_ls = fetch_espn_api(league_id=league_id, year=year_of_interest, espn_s2=s2, swid=SWID)"
   ]
  },
  {
   "cell_type": "code",
   "execution_count": null,
   "metadata": {},
   "outputs": [],
   "source": [
    "activity_ls[0]"
   ]
  },
  {
   "cell_type": "code",
   "execution_count": null,
   "metadata": {},
   "outputs": [],
   "source": [
    "for k in activity.actions:\n",
    "    (team1, action1, _, _) = k\n",
    "    team_id = team1.team_name\n",
    "    team_transaction_ls.append(team_id)\n",
    "\n",
    "[(team1.team_name, action1, _, _) for ]"
   ]
  },
  {
   "cell_type": "code",
   "execution_count": null,
   "metadata": {},
   "outputs": [],
   "source": [
    "acq_data_ls = []\n",
    "\n",
    "# loop through each activity item\n",
    "for idx, j in enumerate(activity_ls):\n",
    "    date1 = j.date\n",
    "    team_transaction_ls = []\n",
    "    for k in j.actions:\n",
    "        (team1, action1, _ , _ ) = k\n",
    "        team_id = team1.team_name\n",
    "        team_transaction_ls.append(team_id)"
   ]
  },
  {
   "cell_type": "code",
   "execution_count": null,
   "metadata": {},
   "outputs": [],
   "source": []
  },
  {
   "cell_type": "code",
   "execution_count": null,
   "metadata": {},
   "outputs": [],
   "source": [
    "k"
   ]
  },
  {
   "cell_type": "code",
   "execution_count": null,
   "metadata": {},
   "outputs": [],
   "source": [
    "[(team1, action1, player_name, bid_amount) for k in j.actions]"
   ]
  },
  {
   "cell_type": "code",
   "execution_count": null,
   "metadata": {},
   "outputs": [],
   "source": [
    "k"
   ]
  },
  {
   "cell_type": "code",
   "execution_count": null,
   "metadata": {},
   "outputs": [],
   "source": []
  },
  {
   "cell_type": "code",
   "execution_count": null,
   "metadata": {},
   "outputs": [],
   "source": [
    "import datetime\n",
    "\n",
    "# Function handling trade data\n",
    "\n",
    "def get_trade_data(j):\n",
    "    \"Function for parsing Recent Activities trade data into ADD and DROP events\"\n",
    "    \n",
    "    acq_data_ls = []\n",
    "\n",
    "    # date1 = j.date\n",
    "\n",
    "    team_transaction_ls = []\n",
    "    \n",
    "    for k in j.actions:\n",
    "        (team1, action1, _ , _ ) = k\n",
    "        team_id = team1.team_name\n",
    "        team_transaction_ls.append(team_id)\n",
    "\n",
    "        # determine if trade or waiver acquisition type\n",
    "\n",
    "    # establish other team involved in trade\n",
    "    teams_in_trade = list(set(team_transaction_ls))\n",
    "\n",
    "    for k in j.actions:\n",
    "        (team1, action1, player_name, bid_amount) = k\n",
    "        team_id = team1.team_name\n",
    "\n",
    "        if teams_in_trade.index(team_id) == 1:\n",
    "            team_id_received = teams_in_trade[0]\n",
    "        else:\n",
    "            team_id_received = teams_in_trade[1]\n",
    "\n",
    "        # Build new tuple for TRADE ADDED\n",
    "        player_id = player_name.name\n",
    "        ProTeam = player_name.proTeam\n",
    "        action1 = 'TRADE ADDED'\n",
    "\n",
    "        # Build a second tuple for TRADE DROPPED\n",
    "        action2 = 'TRADE DROPPED'\n",
    "\n",
    "        acq_data1 = (date1 , player_id , ProTeam , team_id_received , action1, bid_amount)\n",
    "        drop_data1 = (date1 , player_id , ProTeam , team_id , action2, bid_amount)\n",
    "\n",
    "        acq_data_ls.append(acq_data1)\n",
    "        acq_data_ls.append(drop_data1)\n",
    "        \n",
    "    return acq_data_ls\n",
    "    \n",
    "# Function handling waiver data\n",
    "def get_waiver_data(j):\n",
    "    \n",
    "    waiver_data_ls = []\n",
    "\n",
    "    for k in j.actions:\n",
    "        (team1, action1, player_name, bid_amount) = k\n",
    "        team_id = team1.team_name\n",
    "        player_id = player_name.name\n",
    "        ProTeam = player_name.proTeam\n",
    "        \n",
    "        waiver_data1 = (date1 , player_id , ProTeam , team_id , action1 , bid_amount)\n",
    "        waiver_data_ls.append(waiver_data1)\n",
    "        \n",
    "    return waiver_data_ls"
   ]
  },
  {
   "cell_type": "code",
   "execution_count": null,
   "metadata": {},
   "outputs": [],
   "source": [
    "def flatten_list(_2d_list):\n",
    "    flat_list = []\n",
    "    # Iterate through the outer list\n",
    "    for element in _2d_list:\n",
    "        if type(element) is list:\n",
    "            # If the element is of type list, iterate through the sublist\n",
    "            for item in element:\n",
    "                flat_list.append(item)\n",
    "        else:\n",
    "            flat_list.append(element)\n",
    "    return flat_list"
   ]
  },
  {
   "cell_type": "code",
   "execution_count": null,
   "metadata": {},
   "outputs": [],
   "source": [
    "# Loop thru Recent Activities data, creating a DataFrame for all acquisitions\n",
    "# Conditional for trade or waiver acquisitions\n",
    "\n",
    "acq_data_ls = []\n",
    "\n",
    "# loop through each activity item\n",
    "for idx, j in enumerate(activity_ls):\n",
    "    date1 = j.date\n",
    "    team_transaction_ls = []\n",
    "    for k in j.actions:\n",
    "        (team1, action1, _ , _ ) = k\n",
    "        team_id = team1.team_name\n",
    "        team_transaction_ls.append(team_id)\n",
    "        \n",
    "        # determine if trade or waiver acquisition type        \n",
    "        ls = []\n",
    "        \n",
    "        if action1 == 'TRADED':\n",
    "            ls = get_trade_data(j)\n",
    "\n",
    "        else:\n",
    "            ls = get_waiver_data(j)\n",
    "\n",
    "    acq_data_ls.append(ls)\n",
    "      \n",
    "\n",
    "acq_data_flat_ls = flatten_list(acq_data_ls)\n",
    "\n",
    "df_acq = pd.DataFrame(acq_data_flat_ls)\n",
    "\n",
    "df_acq.columns = ['Timestamp','Player','ProTeam','Team','Action','Bid Amount ($)']\n",
    "\n",
    "# converts from milliseconds to date\n",
    "def convert_to_date(date1):\n",
    "    d2=datetime.date.fromtimestamp(date1 / 1000.0)\n",
    "    return d2\n",
    "\n",
    "df_acq['Action Timestamp'] = df_acq['Timestamp'].apply(lambda x : convert_to_date(x))\n",
    "\n",
    "df_acq = df_acq.sort_values(by=['Timestamp'],ascending=True)"
   ]
  },
  {
   "cell_type": "code",
   "execution_count": null,
   "metadata": {},
   "outputs": [],
   "source": []
  },
  {
   "cell_type": "code",
   "execution_count": null,
   "metadata": {},
   "outputs": [],
   "source": [
    "import datetime\n",
    "\n",
    "# Function handling trade data\n",
    "\n",
    "def get_trade_data(j,date1):\n",
    "    \"Function for parsing Recent Activities trade data into ADD and DROP events\"\n",
    "    \n",
    "    acq_data_ls = []\n",
    "\n",
    "    # date1 = j.date\n",
    "\n",
    "    team_transaction_ls = []\n",
    "    \n",
    "    for k in j.actions:\n",
    "        (team1, action1, _ , _ ) = k\n",
    "        team_id = team1.team_name\n",
    "        team_transaction_ls.append(team_id)\n",
    "\n",
    "        # determine if trade or waiver acquisition type\n",
    "\n",
    "    # establish other team involved in trade\n",
    "    teams_in_trade = list(set(team_transaction_ls))\n",
    "\n",
    "    for k in j.actions:\n",
    "        (team1, action1, player_name, bid_amount) = k\n",
    "        team_id = team1.team_name\n",
    "\n",
    "        if teams_in_trade.index(team_id) == 1:\n",
    "            team_id_received = teams_in_trade[0]\n",
    "        else:\n",
    "            team_id_received = teams_in_trade[1]\n",
    "\n",
    "        # Build new tuple for TRADE ADDED\n",
    "        player_id = player_name.name\n",
    "        ProTeam = player_name.proTeam\n",
    "        action1 = 'TRADE ADDED'\n",
    "\n",
    "        # Build a second tuple for TRADE DROPPED\n",
    "        action2 = 'TRADE DROPPED'\n",
    "\n",
    "        acq_data1 = (date1 , player_id , ProTeam , team_id_received , action1, bid_amount)\n",
    "        drop_data1 = (date1 , player_id , ProTeam , team_id , action2, bid_amount)\n",
    "\n",
    "        acq_data_ls.append(acq_data1)\n",
    "        acq_data_ls.append(drop_data1)\n",
    "        \n",
    "    return acq_data_ls\n",
    "    \n",
    "# Function handling waiver data\n",
    "def get_waiver_data(j,date1):\n",
    "    \n",
    "    waiver_data_ls = []\n",
    "\n",
    "    for k in j.actions:\n",
    "        (team1, action1, player_name, bid_amount) = k\n",
    "        team_id = team1.team_name\n",
    "        player_id = player_name.name\n",
    "        ProTeam = player_name.proTeam\n",
    "        \n",
    "        waiver_data1 = (date1 , player_id , ProTeam , team_id , action1 , bid_amount)\n",
    "        waiver_data_ls.append(waiver_data1)\n",
    "        \n",
    "    return waiver_data_ls\n",
    "def get_acq_ls(activity_ls):\n",
    "\n",
    "    acq_data_ls = []\n",
    "\n",
    "    # loop through each activity item\n",
    "    for idx, j in enumerate(activity_ls):\n",
    "        date1 = j.date\n",
    "        team_transaction_ls = []\n",
    "        for k in j.actions:\n",
    "            (team1, action1, _ , _ ) = k\n",
    "            team_id = team1.team_name\n",
    "            team_transaction_ls.append(team_id)\n",
    "            \n",
    "            # determine if trade or waiver acquisition type        \n",
    "            ls = []\n",
    "            \n",
    "            if action1 == 'TRADED':\n",
    "                ls = get_trade_data(j,date1)\n",
    "\n",
    "            else:\n",
    "                ls = get_waiver_data(j,date1)\n",
    "\n",
    "        acq_data_ls.append(ls)\n",
    "\n",
    "    return flatten_list(acq_data_ls)\n"
   ]
  },
  {
   "cell_type": "code",
   "execution_count": null,
   "metadata": {},
   "outputs": [],
   "source": [
    "ls2 = get_acq_ls(activity_ls)"
   ]
  },
  {
   "cell_type": "code",
   "execution_count": null,
   "metadata": {},
   "outputs": [],
   "source": [
    "acq_data_flat_ls==ls2"
   ]
  },
  {
   "cell_type": "code",
   "execution_count": null,
   "metadata": {},
   "outputs": [],
   "source": [
    "df_acq"
   ]
  },
  {
   "cell_type": "code",
   "execution_count": null,
   "metadata": {},
   "outputs": [],
   "source": [
    "def get_waiver_data(activity):\n",
    "\n",
    "    date1 = activity.date\n",
    "    \n",
    "    waiver_data_ls = []\n",
    "\n",
    "    for k in activity.actions:\n",
    "        (team1, action1, player_name, bid_amount) = k\n",
    "        team_id = team1.team_name\n",
    "        player_id = player_name.name\n",
    "        ProTeam = player_name.proTeam\n",
    "        \n",
    "        waiver_data1 = (date1 , player_id , ProTeam , team_id , action1 , bid_amount)\n",
    "        waiver_data_ls.append(waiver_data1)\n",
    "        \n",
    "    return waiver_data_ls"
   ]
  },
  {
   "cell_type": "code",
   "execution_count": null,
   "metadata": {},
   "outputs": [],
   "source": [
    "# Loop thru Recent Activities data, creating a DataFrame for all acquisitions\n",
    "# Conditional for trade or waiver acquisitions\n",
    "\n",
    "acq_data_ls = []\n",
    "\n",
    "# loop through each activity item\n",
    "for idx, j in enumerate(activity_ls):\n",
    "    date1 = j.date\n",
    "    team_transaction_ls = []\n",
    "    for k in j.actions:\n",
    "        (team1, action1, _ , _ ) = k\n",
    "        team_id = team1.team_name\n",
    "        team_transaction_ls.append(team_id)\n",
    "        \n",
    "        # determine if trade or waiver acquisition type        \n",
    "        ls = []\n",
    "        \n",
    "        if action1 == 'TRADED':\n",
    "            ls = get_trade_data(j)\n",
    "\n",
    "        else:\n",
    "            ls = get_waiver_data(j)\n",
    "\n",
    "    acq_data_ls.append(ls)\n",
    "      \n",
    "\n",
    "acq_data_flat_ls = flatten_list(acq_data_ls)\n",
    "\n",
    "df_acq = pd.DataFrame(acq_data_flat_ls)\n",
    "\n",
    "df_acq.columns = ['Timestamp','Player','ProTeam','Team','Action','Bid Amount ($)']\n",
    "\n",
    "# converts from milliseconds to date\n",
    "def convert_to_date(date1):\n",
    "    d2=datetime.date.fromtimestamp(date1 / 1000.0)\n",
    "    return d2\n",
    "\n",
    "df_acq['Action Timestamp'] = df_acq['Timestamp'].apply(lambda x : convert_to_date(x))\n",
    "\n",
    "df_acq = df_acq.sort_values(by=['Timestamp'],ascending=True)"
   ]
  },
  {
   "cell_type": "code",
   "execution_count": null,
   "metadata": {},
   "outputs": [],
   "source": [
    "df_acq.sort_values(by=['Bid Amount ($)'],ascending=False).iloc[0:20]"
   ]
  },
  {
   "cell_type": "code",
   "execution_count": null,
   "metadata": {},
   "outputs": [],
   "source": []
  },
  {
   "cell_type": "code",
   "execution_count": null,
   "metadata": {},
   "outputs": [],
   "source": [
    "df_draft.reset_index()"
   ]
  },
  {
   "cell_type": "code",
   "execution_count": null,
   "metadata": {},
   "outputs": [],
   "source": []
  },
  {
   "cell_type": "markdown",
   "metadata": {},
   "source": [
    "## Get total points of rostered players Dataframe"
   ]
  },
  {
   "cell_type": "code",
   "execution_count": 17,
   "metadata": {},
   "outputs": [
    {
     "data": {
      "text/plain": [
       "[Team(is the fantasy season everett?),\n",
       " Team(Frankel's Cankles),\n",
       " Team(Flex Player All Stars),\n",
       " Team(Kittle Me Elmo),\n",
       " Team(Ice City USA),\n",
       " Team(Door City),\n",
       " Team(The Genaissance),\n",
       " Team(Big Joshy Style),\n",
       " Team(Sweetless in Seattle),\n",
       " Team(Kirk-life Balance),\n",
       " Team(More than a  Thielen),\n",
       " Team(Fumble .)]"
      ]
     },
     "execution_count": 17,
     "metadata": {},
     "output_type": "execute_result"
    }
   ],
   "source": [
    "league.teams"
   ]
  },
  {
   "cell_type": "code",
   "execution_count": 18,
   "metadata": {},
   "outputs": [],
   "source": [
    "# Get data of all currently fantasy league rostered players\n",
    "\n",
    "rostered_players_ls = []\n",
    "for i in league.teams:\n",
    "    team_name = i.team_name\n",
    "    for player in i.roster:\n",
    "        player_name = player.name\n",
    "        player_pos = player.position\n",
    "        player_pro_team = player.proTeam\n",
    "        player_total_pts = player.total_points\n",
    "        player_tup = (player_name , player_pos, player_pro_team, player_total_pts , team_name)\n",
    "        rostered_players_ls.append(player_tup)\n",
    "\n",
    "df_rostered = pd.DataFrame(rostered_players_ls)\n",
    "col_ls = ['Player' , 'Position' , 'Pro Team', 'Total points', 'Current Team']\n",
    "df_rostered.columns = col_ls\n",
    "\n",
    "df_rostered.set_index('Player',inplace=True)"
   ]
  },
  {
   "cell_type": "code",
   "execution_count": 21,
   "metadata": {},
   "outputs": [],
   "source": [
    "rostered_players_ls = [(player.name, player.position, player.proTeam, player.total_points, team.team_name) \n",
    "                        for team in league.teams \n",
    "                            for player in team.roster]\n",
    "\n",
    "df_rostered = pd.DataFrame(rostered_players_ls, \n",
    "                            columns=['Player' , 'Position' , 'Pro Team', 'Total points', 'Current Team'])"
   ]
  },
  {
   "cell_type": "code",
   "execution_count": 20,
   "metadata": {},
   "outputs": [
    {
     "data": {
      "text/plain": [
       "True"
      ]
     },
     "execution_count": 20,
     "metadata": {},
     "output_type": "execute_result"
    }
   ],
   "source": [
    "rostered_players_ls== rostered_players_ls1"
   ]
  },
  {
   "cell_type": "code",
   "execution_count": null,
   "metadata": {},
   "outputs": [],
   "source": [
    "df_rostered.reset_index().sort_values(by='Total points',ascending=False)"
   ]
  },
  {
   "cell_type": "code",
   "execution_count": null,
   "metadata": {},
   "outputs": [],
   "source": [
    "from datetime import datetime\n",
    "\n",
    "free_agent_ls = league.free_agents(size=1000)\n",
    "\n",
    "FA_players_ls = []\n",
    "name_ls = []\n",
    "for i in free_agent_ls:\n",
    "    team_name = 'Free agent'\n",
    "    player_name = i.name\n",
    "    player_pos = i.position\n",
    "    player_pro_team = i.proTeam\n",
    "    player_total_pts = i.total_points\n",
    "\n",
    "    player_tup = (player_name , player_pos, player_pro_team, player_total_pts , team_name)\n",
    "    FA_players_ls.append(player_tup)\n",
    "    \n",
    "    name_ls.append(player_name)\n",
    "\n",
    "\n",
    "df_FA = pd.DataFrame(FA_players_ls)\n",
    "col_ls = ['Player' , 'Position' , 'Pro Team', 'Total points', 'Current Team']\n",
    "df_FA.columns=col_ls\n",
    "df_FA.set_index('Player',inplace=True)\n",
    "\n",
    "# Generate all player stats dataframe, including all Free Agents\n",
    "df_player_stats = pd.concat([df_rostered,df_FA],axis=0)\n",
    "\n",
    "df_draft_acq = df_draft.join(df_player_stats)\n",
    "\n",
    "df_draft_acq['Player'] = df_draft_acq.index\n",
    "\n",
    "col_new = ['Player' , 'Pro Team' , 'Acquired by' , 'Action' , 'Bid Amount ($)']\n",
    "\n",
    "df_draft_acq = df_draft_acq[col_new]\n",
    "\n",
    "df_draft_acq.rename(columns = {'Pro Team' : 'ProTeam' , 'Acquired by' : 'Team'} , inplace = True)\n",
    "\n",
    "\n",
    "# Establish Draft Date\n",
    "# Draft Date just needs to be before the first game of the season, \n",
    "# By default, we set this arbitrarily as one day before the first game of the NFL season\n",
    "\n",
    "draft_date1 = season_start_date - timedelta(days=1)\n",
    "\n",
    "draft_date_str = draft_date1.strftime('%d %b %Y')\n",
    "\n",
    "draft_date = datetime.strptime(draft_date_str, '%d %b %Y').date()\n",
    "\n",
    "draft_date_ms = int(datetime.strptime(draft_date_str, '%d %b %Y').timestamp() * 1000)\n",
    "\n",
    "df_draft_acq['Action Timestamp'] = draft_date\n",
    "\n",
    "df_draft_acq['Timestamp'] = draft_date_ms\n",
    "\n",
    "df_acq_final = pd.concat([df_draft_acq , df_acq] , axis=0)\n",
    "\n",
    "df_acq_final.reset_index(inplace=True)\n",
    "\n",
    "df_acq_final.drop('index' , inplace=True ,axis=1)"
   ]
  },
  {
   "cell_type": "code",
   "execution_count": null,
   "metadata": {},
   "outputs": [],
   "source": []
  }
 ],
 "metadata": {
  "kernelspec": {
   "display_name": "base",
   "language": "python",
   "name": "python3"
  },
  "language_info": {
   "codemirror_mode": {
    "name": "ipython",
    "version": 3
   },
   "file_extension": ".py",
   "mimetype": "text/x-python",
   "name": "python",
   "nbconvert_exporter": "python",
   "pygments_lexer": "ipython3",
   "version": "3.9.13"
  },
  "orig_nbformat": 4,
  "vscode": {
   "interpreter": {
    "hash": "ff9fae090fc4d4cb7e8012a224cccb27ac950fda670b97af54b7710c35615604"
   }
  }
 },
 "nbformat": 4,
 "nbformat_minor": 2
}
