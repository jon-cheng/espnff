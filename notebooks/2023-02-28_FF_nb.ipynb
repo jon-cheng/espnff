{
 "cells": [
  {
   "cell_type": "code",
   "execution_count": 1,
   "metadata": {},
   "outputs": [
    {
     "name": "stdout",
     "output_type": "stream",
     "text": [
      "/Users/jonathancheng/PycharmProjects/espnff/src\n"
     ]
    }
   ],
   "source": [
    "%cd /Users/jonathancheng/PycharmProjects/espnff/src/\n"
   ]
  },
  {
   "cell_type": "code",
   "execution_count": 2,
   "metadata": {},
   "outputs": [],
   "source": [
    "import nfl_schedule as nf\n",
    "import ff_league_data as ff"
   ]
  },
  {
   "cell_type": "code",
   "execution_count": 3,
   "metadata": {},
   "outputs": [],
   "source": [
    "year_of_interest=2022\n",
    "\n",
    "df=nf.get_nfl_schedule(year_of_interest)"
   ]
  },
  {
   "cell_type": "code",
   "execution_count": 4,
   "metadata": {},
   "outputs": [],
   "source": [
    "import os\n",
    "import requests\n",
    "from bs4 import BeautifulSoup\n",
    "\n",
    "import json\n",
    "import numpy as npa\n",
    "import pandas as pd\n",
    "import matplotlib.pyplot as plt\n",
    "import seaborn as sns\n",
    "import plotly.express as px\n",
    "import plotly.io as pio\n",
    "\n",
    "# import datetime\n",
    "from datetime import date\n",
    "from datetime import datetime\n",
    "\n",
    "import requests\n",
    "import espn_api\n",
    "from espn_api.football import League\n",
    "from espn_api.football import activity\n",
    "\n",
    "import altair as alt\n",
    "\n",
    "# import sportsipy.nfl\n",
    "# from sportsipy.nfl.boxscore import Boxscore\n",
    "# from sportsipy.nfl.schedule import Schedule\n",
    "# from sportsipy.nfl.teams import Teams\n",
    "import nfl_data_py as nfl\n",
    "\n",
    "# from sportsipy.nfl.teams import Teams\n",
    "\n",
    "# teams = Teams()\n",
    "# lions = teams('DET')\n"
   ]
  },
  {
   "cell_type": "code",
   "execution_count": 5,
   "metadata": {},
   "outputs": [],
   "source": [
    "path = r'/Users/jonathancheng/PycharmProjects/espnff/data'"
   ]
  },
  {
   "cell_type": "code",
   "execution_count": null,
   "metadata": {},
   "outputs": [],
   "source": []
  },
  {
   "cell_type": "code",
   "execution_count": 6,
   "metadata": {},
   "outputs": [],
   "source": [
    "def mine_nfl_schedule(year_of_interest: int): \n",
    "    \"\"\"_summary_\n",
    "\n",
    "    Args:\n",
    "        year_of_interest (_type_): _description_\n",
    "\n",
    "    Returns:\n",
    "        _type_: _description_\n",
    "    \"\"\"\n",
    "    url = f'https://www.pro-football-reference.com/years/{year_of_interest}/games.htm'\n",
    "    return pd.read_html(url)[0]\n"
   ]
  },
  {
   "cell_type": "code",
   "execution_count": null,
   "metadata": {},
   "outputs": [],
   "source": [
    "df_proteam_names = pd.read_csv(os.path.join(path,'team_abbrev_conversion.csv'))\n"
   ]
  },
  {
   "cell_type": "code",
   "execution_count": null,
   "metadata": {},
   "outputs": [],
   "source": [
    "df = mine_nfl_schedule(year_of_interest=2022)\n",
    "\n",
    "df = df[['Week','Date','Winner/tie','Loser/tie']]\n",
    "df = pd.melt(df, id_vars=['Week','Date'],value_vars=['Winner/tie','Loser/tie'],var_name='Winner_Loser',value_name='Pro_team')\n",
    "\n",
    "df = df.dropna(subset='Pro_team',axis=0)\n",
    "# df['Pro_team'] = df['Pro_team'].str.replace(pat=r'^Washington.*', repl='Washington')\n",
    "df['Pro_team'] = df['Pro_team'].str.replace(pat=r'^Washington.*', repl='Washington', regex=True)"
   ]
  },
  {
   "cell_type": "code",
   "execution_count": null,
   "metadata": {},
   "outputs": [],
   "source": [
    "df['Pro_team'].unique()"
   ]
  },
  {
   "cell_type": "code",
   "execution_count": null,
   "metadata": {},
   "outputs": [],
   "source": [
    "import difflib as dfl"
   ]
  },
  {
   "cell_type": "code",
   "execution_count": null,
   "metadata": {},
   "outputs": [],
   "source": [
    "dfl.get_close_matches()"
   ]
  },
  {
   "cell_type": "code",
   "execution_count": null,
   "metadata": {},
   "outputs": [],
   "source": [
    "df2['team'].apply(lambda x: difflib.get_close_matches(x, df1['team'])[0])"
   ]
  },
  {
   "cell_type": "code",
   "execution_count": null,
   "metadata": {},
   "outputs": [],
   "source": [
    "df[df['Pro_team'].str.contains('Washington')]"
   ]
  },
  {
   "cell_type": "code",
   "execution_count": null,
   "metadata": {},
   "outputs": [],
   "source": [
    "\n",
    "df['Pro_team_abbrev'] = df['Pro_team'].map(dict(zip(df_proteam_names['Pro Team Name'],df_proteam_names['Abbrev'])))\n",
    "df = df[df['Pro_team'].isin(df_proteam_names['Pro Team Name'].tolist())]\n"
   ]
  },
  {
   "cell_type": "code",
   "execution_count": null,
   "metadata": {},
   "outputs": [],
   "source": [
    "def format_nfl_schedule(df, df_proteam_names):\n",
    "    \"\"\"_summary_\n",
    "\n",
    "    Args:\n",
    "        df (_type_): _description_\n",
    "\n",
    "    Returns:\n",
    "        _type_: _description_\n",
    "    \"\"\"\n",
    "\n",
    "    df = df[['Week','Date','Winner/tie','Loser/tie']]\n",
    "    df = pd.melt(df, id_vars=['Week','Date'],value_vars=['Winner/tie','Loser/tie'],var_name='Winner_Loser',value_name='Pro_team')\n",
    "    df['Pro_team_abbrev'] = df['Pro_team'].map(dict(zip(df_proteam_names['Pro Team Name'],df_proteam_names['Abbrev'])))\n",
    "    df = df[df['Pro_team'].isin(df_proteam_names['Pro Team Name'].tolist())]\n",
    "\n",
    "    # weeks = [int(i) for i in df['Week'].unique().tolist() if i.isdigit()]\n",
    "    # games_all_season = max(weeks)\n",
    "\n",
    "    return df\n",
    "\n",
    "def get_wideform_nfl_schedule(df):\n",
    "\n",
    "    \"\"\"_summary_\n",
    "\n",
    "    Returns:\n",
    "        _type_: _description_\n",
    "    \"\"\"\n",
    "\n",
    "    weeks = [int(i) for i in df['Week'].unique().tolist() if i.isdigit()]\n",
    "    games_all_season = max(weeks)\n",
    "\n",
    "    df = df[df['Week'].isin([str(i) for i in weeks])]\n",
    "    df = df.astype({'Week':int})\n",
    "    # pivot NFL schedule to wideform\n",
    "    df = df[['Week','Date','Pro_team_abbrev']]\n",
    "    df = df.pivot(index='Week',columns='Pro_team_abbrev',values='Date').fillna('BYE')\n",
    "    df = df.applymap(lambda x: pd.to_datetime(x,format='%Y-%m-%d') if x!='BYE' else x)\n",
    "    return df\n",
    "    \n",
    "def get_nfl_schedule(year_of_interest, \n",
    "                    data_path=r'/Users/jonathancheng/PycharmProjects/espnff/data'):\n",
    "    \"\"\"_summary_\n",
    "\n",
    "    Args:\n",
    "        year_of_interest (_type_): _description_\n",
    "        data_path (regexp, optional): _description_. Defaults to r'/Users/jonathancheng/PycharmProjects/espnff/data'.\n",
    "\n",
    "    Returns:\n",
    "        _type_: _description_\n",
    "    \"\"\"\n",
    "\n",
    "    df_proteam_names = pd.read_csv(os.path.join(data_path,'team_abbrev_conversion.csv'))\n",
    "\n",
    "    return (mine_nfl_schedule(year_of_interest=year_of_interest)\n",
    "            .pipe(format_nfl_schedule, df_proteam_names)\n",
    "            .pipe(get_wideform_nfl_schedule))\n"
   ]
  },
  {
   "cell_type": "code",
   "execution_count": null,
   "metadata": {},
   "outputs": [],
   "source": [
    "df_proteam_names = pd.read_csv(os.path.join(path,'team_abbrev_conversion.csv'))\n",
    "\n",
    "(mine_nfl_schedule(year_of_interest=year_of_interest)\n",
    "    .pipe(format_nfl_schedule, df_proteam_names)\n",
    "    .pipe(get_wideform_nfl_schedule))"
   ]
  },
  {
   "cell_type": "code",
   "execution_count": null,
   "metadata": {},
   "outputs": [],
   "source": []
  },
  {
   "cell_type": "code",
   "execution_count": null,
   "metadata": {},
   "outputs": [],
   "source": [
    "# Football Import\n",
    "\n",
    "league_id = 1094090\n",
    "# year = 2022\n",
    "\n",
    "SWID=\"{F191FB8C-DB2D-4D24-91FB-8CDB2DED249D}\"\n",
    "\n",
    "s2='AECJMQHsUHB0FTXdZkw93uY7GRbX8BPnm93Ye6AwvwrMsrZFGg1Lbmi07SWVov2ioN8zGMFDzZiiDSeQCa7WQHaGivGnMfGWLjmfGwkOeLXb5baD1sltp%2B%2BIfHAtl98TpmHgB16ZpGn6g3Bm5vLEA7yDC6HkbD3LSp0E2rGB7hKziLMvZ7mT6ONJFRe8Xp3ApYWSvxPr9cz0pJiI%2FF0blsZ8hyATDJMEyaQ2O%2FypcsViORr6hqYTmXHPuPKnMBfvYC8LQqi1exGw3vnyg6ptsB2Y'"
   ]
  },
  {
   "cell_type": "code",
   "execution_count": null,
   "metadata": {},
   "outputs": [],
   "source": [
    "league = League(league_id=league_id, year=year_of_interest, espn_s2=s2, swid=SWID)\n",
    "\n",
    "activity_ls = league.recent_activity(1000)"
   ]
  },
  {
   "cell_type": "code",
   "execution_count": null,
   "metadata": {},
   "outputs": [],
   "source": [
    "def fetch_espn_api(league_id, year, espn_s2, swid):\n",
    "    \"\"\"Uses espn_api to fetch league data\n",
    "\n",
    "    Args:\n",
    "        league_id (_type_): ESPN League ID\n",
    "        year (_type_): Year of season of interest\n",
    "        espn_s2 (_type_): _description_\n",
    "        swid (_type_): _description_\n",
    "\n",
    "    Returns:\n",
    "        list: recent activity list generated by espn_api\n",
    "    \"\"\"\n",
    "    return League(league_id=league_id, year=year_of_interest, espn_s2=s2, swid=SWID).recent_activity(100000000)\n"
   ]
  },
  {
   "cell_type": "code",
   "execution_count": null,
   "metadata": {},
   "outputs": [],
   "source": [
    "activity_ls = fetch_espn_api(league_id=league_id, year=year_of_interest, espn_s2=s2, swid=SWID)"
   ]
  },
  {
   "cell_type": "code",
   "execution_count": null,
   "metadata": {},
   "outputs": [],
   "source": [
    "activity_ls[0]"
   ]
  },
  {
   "cell_type": "code",
   "execution_count": null,
   "metadata": {},
   "outputs": [],
   "source": [
    "for k in activity.actions:\n",
    "    (team1, action1, _, _) = k\n",
    "    team_id = team1.team_name\n",
    "    team_transaction_ls.append(team_id)\n",
    "\n",
    "[(team1.team_name, action1, _, _) for ]"
   ]
  },
  {
   "cell_type": "code",
   "execution_count": null,
   "metadata": {},
   "outputs": [],
   "source": [
    "acq_data_ls = []\n",
    "\n",
    "# loop through each activity item\n",
    "for idx, j in enumerate(activity_ls):\n",
    "    date1 = j.date\n",
    "    team_transaction_ls = []\n",
    "    for k in j.actions:\n",
    "        (team1, action1, _ , _ ) = k\n",
    "        team_id = team1.team_name\n",
    "        team_transaction_ls.append(team_id)"
   ]
  },
  {
   "cell_type": "code",
   "execution_count": null,
   "metadata": {},
   "outputs": [],
   "source": []
  },
  {
   "cell_type": "code",
   "execution_count": null,
   "metadata": {},
   "outputs": [],
   "source": [
    "k"
   ]
  },
  {
   "cell_type": "code",
   "execution_count": null,
   "metadata": {},
   "outputs": [],
   "source": [
    "[(team1, action1, player_name, bid_amount) for k in j.actions]"
   ]
  },
  {
   "cell_type": "code",
   "execution_count": null,
   "metadata": {},
   "outputs": [],
   "source": [
    "k"
   ]
  },
  {
   "cell_type": "code",
   "execution_count": null,
   "metadata": {},
   "outputs": [],
   "source": []
  },
  {
   "cell_type": "code",
   "execution_count": null,
   "metadata": {},
   "outputs": [],
   "source": [
    "import datetime\n",
    "\n",
    "# Function handling trade data\n",
    "\n",
    "def get_trade_data(j):\n",
    "    \"Function for parsing Recent Activities trade data into ADD and DROP events\"\n",
    "    \n",
    "    acq_data_ls = []\n",
    "\n",
    "    # date1 = j.date\n",
    "\n",
    "    team_transaction_ls = []\n",
    "    \n",
    "    for k in j.actions:\n",
    "        (team1, action1, _ , _ ) = k\n",
    "        team_id = team1.team_name\n",
    "        team_transaction_ls.append(team_id)\n",
    "\n",
    "        # determine if trade or waiver acquisition type\n",
    "\n",
    "    # establish other team involved in trade\n",
    "    teams_in_trade = list(set(team_transaction_ls))\n",
    "\n",
    "    for k in j.actions:\n",
    "        (team1, action1, player_name, bid_amount) = k\n",
    "        team_id = team1.team_name\n",
    "\n",
    "        if teams_in_trade.index(team_id) == 1:\n",
    "            team_id_received = teams_in_trade[0]\n",
    "        else:\n",
    "            team_id_received = teams_in_trade[1]\n",
    "\n",
    "        # Build new tuple for TRADE ADDED\n",
    "        player_id = player_name.name\n",
    "        ProTeam = player_name.proTeam\n",
    "        action1 = 'TRADE ADDED'\n",
    "\n",
    "        # Build a second tuple for TRADE DROPPED\n",
    "        action2 = 'TRADE DROPPED'\n",
    "\n",
    "        acq_data1 = (date1 , player_id , ProTeam , team_id_received , action1, bid_amount)\n",
    "        drop_data1 = (date1 , player_id , ProTeam , team_id , action2, bid_amount)\n",
    "\n",
    "        acq_data_ls.append(acq_data1)\n",
    "        acq_data_ls.append(drop_data1)\n",
    "        \n",
    "    return acq_data_ls\n",
    "    \n",
    "# Function handling waiver data\n",
    "def get_waiver_data(j):\n",
    "    \n",
    "    waiver_data_ls = []\n",
    "\n",
    "    for k in j.actions:\n",
    "        (team1, action1, player_name, bid_amount) = k\n",
    "        team_id = team1.team_name\n",
    "        player_id = player_name.name\n",
    "        ProTeam = player_name.proTeam\n",
    "        \n",
    "        waiver_data1 = (date1 , player_id , ProTeam , team_id , action1 , bid_amount)\n",
    "        waiver_data_ls.append(waiver_data1)\n",
    "        \n",
    "    return waiver_data_ls"
   ]
  },
  {
   "cell_type": "code",
   "execution_count": null,
   "metadata": {},
   "outputs": [],
   "source": [
    "def flatten_list(_2d_list):\n",
    "    flat_list = []\n",
    "    # Iterate through the outer list\n",
    "    for element in _2d_list:\n",
    "        if type(element) is list:\n",
    "            # If the element is of type list, iterate through the sublist\n",
    "            for item in element:\n",
    "                flat_list.append(item)\n",
    "        else:\n",
    "            flat_list.append(element)\n",
    "    return flat_list"
   ]
  },
  {
   "cell_type": "code",
   "execution_count": null,
   "metadata": {},
   "outputs": [],
   "source": [
    "# Loop thru Recent Activities data, creating a DataFrame for all acquisitions\n",
    "# Conditional for trade or waiver acquisitions\n",
    "\n",
    "acq_data_ls = []\n",
    "\n",
    "# loop through each activity item\n",
    "for idx, j in enumerate(activity_ls):\n",
    "    date1 = j.date\n",
    "    team_transaction_ls = []\n",
    "    for k in j.actions:\n",
    "        (team1, action1, _ , _ ) = k\n",
    "        team_id = team1.team_name\n",
    "        team_transaction_ls.append(team_id)\n",
    "        \n",
    "        # determine if trade or waiver acquisition type        \n",
    "        ls = []\n",
    "        \n",
    "        if action1 == 'TRADED':\n",
    "            ls = get_trade_data(j)\n",
    "\n",
    "        else:\n",
    "            ls = get_waiver_data(j)\n",
    "\n",
    "    acq_data_ls.append(ls)\n",
    "      \n",
    "\n",
    "acq_data_flat_ls = flatten_list(acq_data_ls)\n",
    "\n",
    "df_acq = pd.DataFrame(acq_data_flat_ls)\n",
    "\n",
    "df_acq.columns = ['Timestamp','Player','ProTeam','Team','Action','Bid Amount ($)']\n",
    "\n",
    "# converts from milliseconds to date\n",
    "def convert_to_date(date1):\n",
    "    d2=datetime.date.fromtimestamp(date1 / 1000.0)\n",
    "    return d2\n",
    "\n",
    "df_acq['Action Timestamp'] = df_acq['Timestamp'].apply(lambda x : convert_to_date(x))\n",
    "\n",
    "df_acq = df_acq.sort_values(by=['Timestamp'],ascending=True)"
   ]
  },
  {
   "cell_type": "code",
   "execution_count": null,
   "metadata": {},
   "outputs": [],
   "source": []
  },
  {
   "cell_type": "code",
   "execution_count": null,
   "metadata": {},
   "outputs": [],
   "source": [
    "import datetime\n",
    "\n",
    "# Function handling trade data\n",
    "\n",
    "def get_trade_data(j,date1):\n",
    "    \"Function for parsing Recent Activities trade data into ADD and DROP events\"\n",
    "    \n",
    "    acq_data_ls = []\n",
    "\n",
    "    # date1 = j.date\n",
    "\n",
    "    team_transaction_ls = []\n",
    "    \n",
    "    for k in j.actions:\n",
    "        (team1, action1, _ , _ ) = k\n",
    "        team_id = team1.team_name\n",
    "        team_transaction_ls.append(team_id)\n",
    "\n",
    "        # determine if trade or waiver acquisition type\n",
    "\n",
    "    # establish other team involved in trade\n",
    "    teams_in_trade = list(set(team_transaction_ls))\n",
    "\n",
    "    for k in j.actions:\n",
    "        (team1, action1, player_name, bid_amount) = k\n",
    "        team_id = team1.team_name\n",
    "\n",
    "        if teams_in_trade.index(team_id) == 1:\n",
    "            team_id_received = teams_in_trade[0]\n",
    "        else:\n",
    "            team_id_received = teams_in_trade[1]\n",
    "\n",
    "        # Build new tuple for TRADE ADDED\n",
    "        player_id = player_name.name\n",
    "        ProTeam = player_name.proTeam\n",
    "        action1 = 'TRADE ADDED'\n",
    "\n",
    "        # Build a second tuple for TRADE DROPPED\n",
    "        action2 = 'TRADE DROPPED'\n",
    "\n",
    "        acq_data1 = (date1 , player_id , ProTeam , team_id_received , action1, bid_amount)\n",
    "        drop_data1 = (date1 , player_id , ProTeam , team_id , action2, bid_amount)\n",
    "\n",
    "        acq_data_ls.append(acq_data1)\n",
    "        acq_data_ls.append(drop_data1)\n",
    "        \n",
    "    return acq_data_ls\n",
    "    \n",
    "# Function handling waiver data\n",
    "def get_waiver_data(j,date1):\n",
    "    \n",
    "    waiver_data_ls = []\n",
    "\n",
    "    for k in j.actions:\n",
    "        (team1, action1, player_name, bid_amount) = k\n",
    "        team_id = team1.team_name\n",
    "        player_id = player_name.name\n",
    "        ProTeam = player_name.proTeam\n",
    "        \n",
    "        waiver_data1 = (date1 , player_id , ProTeam , team_id , action1 , bid_amount)\n",
    "        waiver_data_ls.append(waiver_data1)\n",
    "        \n",
    "    return waiver_data_ls\n",
    "def get_acq_ls(activity_ls):\n",
    "\n",
    "    acq_data_ls = []\n",
    "\n",
    "    # loop through each activity item\n",
    "    for idx, j in enumerate(activity_ls):\n",
    "        date1 = j.date\n",
    "        team_transaction_ls = []\n",
    "        for k in j.actions:\n",
    "            (team1, action1, _ , _ ) = k\n",
    "            team_id = team1.team_name\n",
    "            team_transaction_ls.append(team_id)\n",
    "            \n",
    "            # determine if trade or waiver acquisition type        \n",
    "            ls = []\n",
    "            \n",
    "            if action1 == 'TRADED':\n",
    "                ls = get_trade_data(j,date1)\n",
    "\n",
    "            else:\n",
    "                ls = get_waiver_data(j,date1)\n",
    "\n",
    "        acq_data_ls.append(ls)\n",
    "\n",
    "    return flatten_list(acq_data_ls)\n"
   ]
  },
  {
   "cell_type": "code",
   "execution_count": null,
   "metadata": {},
   "outputs": [],
   "source": [
    "ls2 = get_acq_ls(activity_ls)"
   ]
  },
  {
   "cell_type": "code",
   "execution_count": null,
   "metadata": {},
   "outputs": [],
   "source": [
    "acq_data_flat_ls==ls2"
   ]
  },
  {
   "cell_type": "code",
   "execution_count": null,
   "metadata": {},
   "outputs": [],
   "source": [
    "df_acq"
   ]
  },
  {
   "cell_type": "code",
   "execution_count": null,
   "metadata": {},
   "outputs": [],
   "source": [
    "def get_waiver_data(activity):\n",
    "\n",
    "    date1 = activity.date\n",
    "    \n",
    "    waiver_data_ls = []\n",
    "\n",
    "    for k in activity.actions:\n",
    "        (team1, action1, player_name, bid_amount) = k\n",
    "        team_id = team1.team_name\n",
    "        player_id = player_name.name\n",
    "        ProTeam = player_name.proTeam\n",
    "        \n",
    "        waiver_data1 = (date1 , player_id , ProTeam , team_id , action1 , bid_amount)\n",
    "        waiver_data_ls.append(waiver_data1)\n",
    "        \n",
    "    return waiver_data_ls"
   ]
  },
  {
   "cell_type": "code",
   "execution_count": null,
   "metadata": {},
   "outputs": [],
   "source": [
    "# Loop thru Recent Activities data, creating a DataFrame for all acquisitions\n",
    "# Conditional for trade or waiver acquisitions\n",
    "\n",
    "acq_data_ls = []\n",
    "\n",
    "# loop through each activity item\n",
    "for idx, j in enumerate(activity_ls):\n",
    "    date1 = j.date\n",
    "    team_transaction_ls = []\n",
    "    for k in j.actions:\n",
    "        (team1, action1, _ , _ ) = k\n",
    "        team_id = team1.team_name\n",
    "        team_transaction_ls.append(team_id)\n",
    "        \n",
    "        # determine if trade or waiver acquisition type        \n",
    "        ls = []\n",
    "        \n",
    "        if action1 == 'TRADED':\n",
    "            ls = get_trade_data(j)\n",
    "\n",
    "        else:\n",
    "            ls = get_waiver_data(j)\n",
    "\n",
    "    acq_data_ls.append(ls)\n",
    "      \n",
    "\n",
    "acq_data_flat_ls = flatten_list(acq_data_ls)\n",
    "\n",
    "df_acq = pd.DataFrame(acq_data_flat_ls)\n",
    "\n",
    "df_acq.columns = ['Timestamp','Player','ProTeam','Team','Action','Bid Amount ($)']\n",
    "\n",
    "# converts from milliseconds to date\n",
    "def convert_to_date(date1):\n",
    "    d2=datetime.date.fromtimestamp(date1 / 1000.0)\n",
    "    return d2\n",
    "\n",
    "df_acq['Action Timestamp'] = df_acq['Timestamp'].apply(lambda x : convert_to_date(x))\n",
    "\n",
    "df_acq = df_acq.sort_values(by=['Timestamp'],ascending=True)"
   ]
  },
  {
   "cell_type": "code",
   "execution_count": null,
   "metadata": {},
   "outputs": [],
   "source": [
    "df_acq.sort_values(by=['Bid Amount ($)'],ascending=False).iloc[0:20]"
   ]
  },
  {
   "cell_type": "code",
   "execution_count": null,
   "metadata": {},
   "outputs": [],
   "source": []
  },
  {
   "cell_type": "markdown",
   "metadata": {},
   "source": [
    "## Get Draft Data"
   ]
  },
  {
   "cell_type": "code",
   "execution_count": null,
   "metadata": {},
   "outputs": [],
   "source": [
    "draft_ls = []\n",
    "\n",
    "for i in league.draft:    \n",
    "    team_id = i.team.team_name\n",
    "    player_id = i.playerName\n",
    "    bid_amount = i.bid_amount\n",
    "    action = 'DRAFT ADDED'\n",
    "    draft_ls.append((player_id, team_id,action,bid_amount))\n",
    "\n",
    "df_draft = pd.DataFrame(draft_ls)\n",
    "  \n",
    "df_draft.columns = ['Player', 'Acquired by' , 'Action' , 'Bid Amount ($)']\n",
    "\n",
    "df_draft.set_index('Player',inplace=True)"
   ]
  },
  {
   "cell_type": "code",
   "execution_count": null,
   "metadata": {},
   "outputs": [],
   "source": [
    "df_draft.reset_index()"
   ]
  },
  {
   "cell_type": "code",
   "execution_count": null,
   "metadata": {},
   "outputs": [],
   "source": []
  },
  {
   "cell_type": "markdown",
   "metadata": {},
   "source": [
    "## Get total points of rostered players Dataframe"
   ]
  },
  {
   "cell_type": "code",
   "execution_count": null,
   "metadata": {},
   "outputs": [],
   "source": [
    "# Get data of all currently fantasy league rostered players\n",
    "\n",
    "rostered_players_ls = []\n",
    "for i in league.teams:\n",
    "    team_name = i.team_name\n",
    "    for player in i.roster:\n",
    "        player_name = player.name\n",
    "        player_pos = player.position\n",
    "        player_pro_team = player.proTeam\n",
    "        player_total_pts = player.total_points\n",
    "        player_tup = (player_name , player_pos, player_pro_team, player_total_pts , team_name)\n",
    "        rostered_players_ls.append(player_tup)\n",
    "\n",
    "df_rostered = pd.DataFrame(rostered_players_ls)\n",
    "col_ls = ['Player' , 'Position' , 'Pro Team', 'Total points', 'Current Team']\n",
    "df_rostered.columns = col_ls\n",
    "\n",
    "df_rostered.set_index('Player',inplace=True)"
   ]
  },
  {
   "cell_type": "code",
   "execution_count": null,
   "metadata": {},
   "outputs": [],
   "source": [
    "df_rostered.reset_index().sort_values(by='Total points',ascending=False)"
   ]
  },
  {
   "cell_type": "code",
   "execution_count": null,
   "metadata": {},
   "outputs": [],
   "source": [
    "from datetime import datetime\n",
    "\n",
    "free_agent_ls = league.free_agents(size=1000)\n",
    "\n",
    "FA_players_ls = []\n",
    "name_ls = []\n",
    "for i in free_agent_ls:\n",
    "    team_name = 'Free agent'\n",
    "    player_name = i.name\n",
    "    player_pos = i.position\n",
    "    player_pro_team = i.proTeam\n",
    "    player_total_pts = i.total_points\n",
    "\n",
    "    player_tup = (player_name , player_pos, player_pro_team, player_total_pts , team_name)\n",
    "    FA_players_ls.append(player_tup)\n",
    "    \n",
    "    name_ls.append(player_name)\n",
    "\n",
    "\n",
    "df_FA = pd.DataFrame(FA_players_ls)\n",
    "col_ls = ['Player' , 'Position' , 'Pro Team', 'Total points', 'Current Team']\n",
    "df_FA.columns=col_ls\n",
    "df_FA.set_index('Player',inplace=True)\n",
    "\n",
    "# Generate all player stats dataframe, including all Free Agents\n",
    "df_player_stats = pd.concat([df_rostered,df_FA],axis=0)\n",
    "\n",
    "df_draft_acq = df_draft.join(df_player_stats)\n",
    "\n",
    "df_draft_acq['Player'] = df_draft_acq.index\n",
    "\n",
    "col_new = ['Player' , 'Pro Team' , 'Acquired by' , 'Action' , 'Bid Amount ($)']\n",
    "\n",
    "df_draft_acq = df_draft_acq[col_new]\n",
    "\n",
    "df_draft_acq.rename(columns = {'Pro Team' : 'ProTeam' , 'Acquired by' : 'Team'} , inplace = True)\n",
    "\n",
    "\n",
    "# Establish Draft Date\n",
    "# Draft Date just needs to be before the first game of the season, \n",
    "# By default, we set this arbitrarily as one day before the first game of the NFL season\n",
    "\n",
    "draft_date1 = season_start_date - timedelta(days=1)\n",
    "\n",
    "draft_date_str = draft_date1.strftime('%d %b %Y')\n",
    "\n",
    "draft_date = datetime.strptime(draft_date_str, '%d %b %Y').date()\n",
    "\n",
    "draft_date_ms = int(datetime.strptime(draft_date_str, '%d %b %Y').timestamp() * 1000)\n",
    "\n",
    "df_draft_acq['Action Timestamp'] = draft_date\n",
    "\n",
    "df_draft_acq['Timestamp'] = draft_date_ms\n",
    "\n",
    "df_acq_final = pd.concat([df_draft_acq , df_acq] , axis=0)\n",
    "\n",
    "df_acq_final.reset_index(inplace=True)\n",
    "\n",
    "df_acq_final.drop('index' , inplace=True ,axis=1)"
   ]
  },
  {
   "cell_type": "code",
   "execution_count": null,
   "metadata": {},
   "outputs": [],
   "source": []
  }
 ],
 "metadata": {
  "kernelspec": {
   "display_name": "base",
   "language": "python",
   "name": "python3"
  },
  "language_info": {
   "codemirror_mode": {
    "name": "ipython",
    "version": 3
   },
   "file_extension": ".py",
   "mimetype": "text/x-python",
   "name": "python",
   "nbconvert_exporter": "python",
   "pygments_lexer": "ipython3",
   "version": "3.9.13"
  },
  "orig_nbformat": 4,
  "vscode": {
   "interpreter": {
    "hash": "ff9fae090fc4d4cb7e8012a224cccb27ac950fda670b97af54b7710c35615604"
   }
  }
 },
 "nbformat": 4,
 "nbformat_minor": 2
}
