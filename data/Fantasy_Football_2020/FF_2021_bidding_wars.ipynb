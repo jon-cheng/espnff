{
 "cells": [
  {
   "cell_type": "code",
   "execution_count": 141,
   "metadata": {},
   "outputs": [],
   "source": [
    "import json\n",
    "import numpy as np\n",
    "import pandas as pd\n",
    "import requests\n",
    "import espn_api\n",
    "from espn_api.football import League\n",
    "from espn_api.football import activity\n",
    "from \n",
    "# from espn_api.football import FreeAgentAuctionBid\n"
   ]
  },
  {
   "cell_type": "code",
   "execution_count": 142,
   "metadata": {},
   "outputs": [],
   "source": [
    "# Football Import\n",
    "\n",
    "league_id = 1094090\n",
    "year = 2021\n",
    "SWID=\"{F191FB8C-DB2D-4D24-91FB-8CDB2DED249D}\"\n",
    "\n",
    "s2='AECJMQHsUHB0FTXdZkw93uY7GRbX8BPnm93Ye6AwvwrMsrZFGg1Lbmi07SWVov2ioN8zGMFDzZiiDSeQCa7WQHaGivGnMfGWLjmfGwkOeLXb5baD1sltp%2B%2BIfHAtl98TpmHgB16ZpGn6g3Bm5vLEA7yDC6HkbD3LSp0E2rGB7hKziLMvZ7mT6ONJFRe8Xp3ApYWSvxPr9cz0pJiI%2FF0blsZ8hyATDJMEyaQ2O%2FypcsViORr6hqYTmXHPuPKnMBfvYC8LQqi1exGw3vnyg6ptsB2Y'"
   ]
  },
  {
   "cell_type": "code",
   "execution_count": 143,
   "metadata": {},
   "outputs": [],
   "source": [
    "league = League(league_id=league_id, year=year, espn_s2=s2, swid=SWID)\n",
    "\n",
    "# league = League(league_id=league_id, year=2020, espn_s2=s2, swid=SWID)\n",
    "\n",
    "# league = League(league_id=league_id, year=2020, espn_s2=s2, swid=SWID)"
   ]
  },
  {
   "cell_type": "code",
   "execution_count": 144,
   "metadata": {},
   "outputs": [],
   "source": [
    "activity = league.recent_activity(100)"
   ]
  },
  {
   "cell_type": "code",
   "execution_count": 149,
   "metadata": {},
   "outputs": [],
   "source": [
    "a,b,c,d = activity[1].actions[0]"
   ]
  },
  {
   "cell_type": "code",
   "execution_count": 223,
   "metadata": {},
   "outputs": [
    {
     "data": {
      "text/plain": [
       "'Chargers D/ST'"
      ]
     },
     "execution_count": 223,
     "metadata": {},
     "output_type": "execute_result"
    }
   ],
   "source": [
    "c.name"
   ]
  },
  {
   "cell_type": "code",
   "execution_count": 150,
   "metadata": {},
   "outputs": [
    {
     "data": {
      "text/plain": [
       "1"
      ]
     },
     "execution_count": 150,
     "metadata": {},
     "output_type": "execute_result"
    }
   ],
   "source": [
    "d"
   ]
  },
  {
   "cell_type": "code",
   "execution_count": 157,
   "metadata": {},
   "outputs": [],
   "source": [
    "activity_ls = league.recent_activity(300)"
   ]
  },
  {
   "cell_type": "code",
   "execution_count": 165,
   "metadata": {},
   "outputs": [
    {
     "data": {
      "text/plain": [
       "[(Team(Dick Cheese), 'DROPPED', Player(Hunter Henry), 0),\n",
       " (Team(Dick Cheese), 'WAIVER ADDED', Player(Jamaal Williams), 4)]"
      ]
     },
     "execution_count": 165,
     "metadata": {},
     "output_type": "execute_result"
    }
   ],
   "source": [
    "activity_ls[20].actions"
   ]
  },
  {
   "cell_type": "code",
   "execution_count": 166,
   "metadata": {},
   "outputs": [
    {
     "data": {
      "text/plain": [
       "1638982195247"
      ]
     },
     "execution_count": 166,
     "metadata": {},
     "output_type": "execute_result"
    }
   ],
   "source": [
    "activity_ls[0].date"
   ]
  },
  {
   "cell_type": "code",
   "execution_count": 167,
   "metadata": {},
   "outputs": [
    {
     "data": {
      "text/plain": [
       "1637856014824"
      ]
     },
     "execution_count": 167,
     "metadata": {},
     "output_type": "execute_result"
    }
   ],
   "source": [
    "activity_ls[29].date"
   ]
  },
  {
   "cell_type": "code",
   "execution_count": 153,
   "metadata": {},
   "outputs": [
    {
     "data": {
      "text/plain": [
       "1638979322427"
      ]
     },
     "execution_count": 153,
     "metadata": {},
     "output_type": "execute_result"
    }
   ],
   "source": [
    "activity[1].date"
   ]
  },
  {
   "cell_type": "code",
   "execution_count": 175,
   "metadata": {},
   "outputs": [
    {
     "data": {
      "text/plain": [
       "(Team(Dick Cheese), 'DROPPED', Player(Hunter Henry), 0)"
      ]
     },
     "execution_count": 175,
     "metadata": {},
     "output_type": "execute_result"
    }
   ],
   "source": [
    "activity_ls[20].actions[0]"
   ]
  },
  {
   "cell_type": "code",
   "execution_count": 140,
   "metadata": {},
   "outputs": [
    {
     "data": {
      "text/plain": [
       "[(Team(Let me be frankel), 'TRADED', Player(Matt Ryan), 0),\n",
       " (Team(We Going Tyreeking!!), 'TRADED', Player(Austin Hooper), 0)]"
      ]
     },
     "execution_count": 140,
     "metadata": {},
     "output_type": "execute_result"
    }
   ],
   "source": [
    "activity[0].actions"
   ]
  },
  {
   "cell_type": "code",
   "execution_count": 181,
   "metadata": {},
   "outputs": [
    {
     "data": {
      "text/plain": [
       "espn_api.football.box_score.BoxScore"
      ]
     },
     "execution_count": 181,
     "metadata": {},
     "output_type": "execute_result"
    }
   ],
   "source": [
    "type(league.box_scores()[0])"
   ]
  },
  {
   "cell_type": "code",
   "execution_count": 130,
   "metadata": {},
   "outputs": [],
   "source": [
    "activity = league.recent_activity(100)"
   ]
  },
  {
   "cell_type": "code",
   "execution_count": null,
   "metadata": {},
   "outputs": [],
   "source": [
    "c=league.load_roster_week('1')"
   ]
  },
  {
   "cell_type": "code",
   "execution_count": 186,
   "metadata": {},
   "outputs": [
    {
     "data": {
      "text/plain": [
       "Matchup(Team(Sweetless in Seattle), Team(More than a  Thielen))"
      ]
     },
     "execution_count": 186,
     "metadata": {},
     "output_type": "execute_result"
    }
   ],
   "source": [
    "league.scoreboard()[0]"
   ]
  },
  {
   "cell_type": "code",
   "execution_count": 192,
   "metadata": {},
   "outputs": [
    {
     "data": {
      "text/plain": [
       "{'defaultPositionId': 3,\n",
       " 'droppable': True,\n",
       " 'eligibleSlots': [3, 4, 5, 23, 7, 20, 21],\n",
       " 'firstName': 'Antonio',\n",
       " 'fullName': 'Antonio Gandy-Golden',\n",
       " 'id': 4029893,\n",
       " 'lastName': 'Gandy-Golden',\n",
       " 'ownership': {'percentOwned': 0.02666654466286756},\n",
       " 'proTeamId': 28,\n",
       " 'universeId': 2}"
      ]
     },
     "execution_count": 192,
     "metadata": {},
     "output_type": "execute_result"
    }
   ],
   "source": [
    "league.espn_request.get_pro_players()[0]"
   ]
  },
  {
   "cell_type": "code",
   "execution_count": null,
   "metadata": {},
   "outputs": [],
   "source": [
    "a = league.recent_activity()"
   ]
  },
  {
   "cell_type": "code",
   "execution_count": 222,
   "metadata": {},
   "outputs": [
    {
     "data": {
      "text/plain": [
       "[Team(Mostert's Monsters),\n",
       " Team(Ridley me This),\n",
       " Team(Repeat Donger),\n",
       " Team(Fumble .),\n",
       " Team(Don't Ekele Me),\n",
       " Team(Ice City USA),\n",
       " Team(More than a  Thielen),\n",
       " Team(Tier 2 never felt so good),\n",
       " Team(Dick Cheese),\n",
       " Team(Sweetless in Seattle),\n",
       " Team(Frankel's Cankles),\n",
       " Team(Favre's Wranglers)]"
      ]
     },
     "execution_count": 222,
     "metadata": {},
     "output_type": "execute_result"
    }
   ],
   "source": [
    "league.standings()"
   ]
  },
  {
   "cell_type": "code",
   "execution_count": 209,
   "metadata": {},
   "outputs": [],
   "source": [
    "team = league.teams[0]\n",
    "player = team.roster[3]"
   ]
  },
  {
   "cell_type": "code",
   "execution_count": 210,
   "metadata": {},
   "outputs": [
    {
     "data": {
      "text/plain": [
       "'Josh Allen'"
      ]
     },
     "execution_count": 210,
     "metadata": {},
     "output_type": "execute_result"
    }
   ],
   "source": [
    "player.name"
   ]
  },
  {
   "cell_type": "code",
   "execution_count": 214,
   "metadata": {},
   "outputs": [
    {
     "data": {
      "text/plain": [
       "{'points': 269.8,\n",
       " 'breakdown': {'0': 440.0,\n",
       "  '1': 289.0,\n",
       "  '2': 151.0,\n",
       "  'passingYards': 3216.0,\n",
       "  'passingTouchdowns': 26.0,\n",
       "  '5': 638.0,\n",
       "  '6': 315.0,\n",
       "  '7': 155.0,\n",
       "  '8': 122.0,\n",
       "  '9': 59.0,\n",
       "  '10': 26.0,\n",
       "  '11': 55.0,\n",
       "  '12': 25.0,\n",
       "  '13': 27.0,\n",
       "  '14': 11.0,\n",
       "  '15': 1.0,\n",
       "  '16': 1.0,\n",
       "  '17': 4.0,\n",
       "  'passingInterceptions': 10.0,\n",
       "  '21': 0.65681818,\n",
       "  '22': 268.0,\n",
       "  'rushingAttempts': 75.0,\n",
       "  'rushingYards': 422.0,\n",
       "  'rushingTouchdowns': 3.0,\n",
       "  'rushing2PtConversions': 1.0,\n",
       "  '27': 79.0,\n",
       "  'TeamWin': 7.0,\n",
       "  '28': 36.0,\n",
       "  '156': 5.0,\n",
       "  '29': 15.0,\n",
       "  '30': 12.0,\n",
       "  '158': 178.0,\n",
       "  '31': 3.0,\n",
       "  '33': 10.0,\n",
       "  '34': 1.0,\n",
       "  '39': 5.62666667,\n",
       "  '40': 35.16666667,\n",
       "  'receiving2PtConversions': 1.0,\n",
       "  '175': 13.0,\n",
       "  '176': 6.0,\n",
       "  '177': 5.0,\n",
       "  '178': 1.0,\n",
       "  '179': 3.0,\n",
       "  '64': 19.0,\n",
       "  '65': 2.0,\n",
       "  '66': 5.0,\n",
       "  '68': 7.0,\n",
       "  '69': 1.0,\n",
       "  '70': 2.0,\n",
       "  'lostFumbles': 3.0,\n",
       "  '73': 13.0,\n",
       "  '210': 12.0,\n",
       "  '108': 2.0,\n",
       "  '109': 2.0},\n",
       " 'projected_points': 378.83,\n",
       " 'projected_breakdown': {'0': 610.5532864,\n",
       "  '1': 396.9067624,\n",
       "  '2': 213.646524,\n",
       "  'passingYards': 4547.583678,\n",
       "  'passingTouchdowns': 32.16268667,\n",
       "  '5': 909.0,\n",
       "  '6': 454.0,\n",
       "  '7': 227.0,\n",
       "  '8': 181.0,\n",
       "  '9': 90.0,\n",
       "  '10': 45.0,\n",
       "  '11': 79.0,\n",
       "  '12': 39.0,\n",
       "  '15': 4.060784497,\n",
       "  '16': 2.653722669,\n",
       "  '17': 4.960843723,\n",
       "  '18': 0.670079913,\n",
       "  'passing2PtConversions': 1.345656351,\n",
       "  'passingInterceptions': 11.81215932,\n",
       "  '21': 0.650077186,\n",
       "  '22': 283.1828664,\n",
       "  'rushingAttempts': 102.9657754,\n",
       "  'rushingYards': 527.7716854,\n",
       "  'rushingTouchdowns': 7.461669437,\n",
       "  'rushing2PtConversions': 0.275973143,\n",
       "  '27': 105.0,\n",
       "  '28': 52.0,\n",
       "  '29': 26.0,\n",
       "  '30': 21.0,\n",
       "  '31': 10.0,\n",
       "  '33': 20.0,\n",
       "  '34': 10.0,\n",
       "  '35': 0.199423824,\n",
       "  '36': 0.139596677,\n",
       "  '37': 0.718102693,\n",
       "  '38': 0.02450609,\n",
       "  '39': 5.125700099,\n",
       "  '40': 32.86490348,\n",
       "  '62': 1.621629495,\n",
       "  '63': 0.048462401,\n",
       "  '64': 38.48705772,\n",
       "  '65': 9.506104193,\n",
       "  '66': 1.508077885,\n",
       "  '68': 11.01418208,\n",
       "  '69': 4.562930012,\n",
       "  '70': 0.693715827,\n",
       "  'lostFumbles': 5.25664584,\n",
       "  '73': 17.06880516,\n",
       "  '210': 16.05882353}}"
      ]
     },
     "execution_count": 214,
     "metadata": {},
     "output_type": "execute_result"
    }
   ],
   "source": [
    "player.stats[0]"
   ]
  },
  {
   "cell_type": "code",
   "execution_count": 215,
   "metadata": {},
   "outputs": [
    {
     "data": {
      "text/plain": [
       "'DRAFT'"
      ]
     },
     "execution_count": 215,
     "metadata": {},
     "output_type": "execute_result"
    }
   ],
   "source": [
    "player.acquisitionType"
   ]
  },
  {
   "cell_type": "code",
   "execution_count": null,
   "metadata": {},
   "outputs": [],
   "source": [
    "a.actions[0][3]"
   ]
  },
  {
   "cell_type": "code",
   "execution_count": null,
   "metadata": {},
   "outputs": [],
   "source": [
    "league.box_scores()[1].home_lineup[1]"
   ]
  },
  {
   "cell_type": "code",
   "execution_count": null,
   "metadata": {},
   "outputs": [],
   "source": [
    "league.teams[0]\n",
    "# league.teams[4].roster[1].acquisitionType\n",
    "\n",
    "# league.free_agents(size=5,position='QB')[0]\n",
    "\n",
    "# league.power_rankings(week=14)"
   ]
  },
  {
   "cell_type": "code",
   "execution_count": null,
   "metadata": {},
   "outputs": [],
   "source": [
    "league.get_team_data"
   ]
  },
  {
   "cell_type": "code",
   "execution_count": null,
   "metadata": {},
   "outputs": [],
   "source": [
    "activity = league.recent_activity() # returns List[Activity]\n"
   ]
  },
  {
   "cell_type": "code",
   "execution_count": null,
   "metadata": {},
   "outputs": [],
   "source": [
    "activity[0].actions[1][2]"
   ]
  },
  {
   "cell_type": "code",
   "execution_count": null,
   "metadata": {},
   "outputs": [],
   "source": [
    "league.teams[4].roster[6].stats"
   ]
  },
  {
   "cell_type": "code",
   "execution_count": null,
   "metadata": {},
   "outputs": [],
   "source": [
    "league2 = League(league_id=league_id, year=2019, espn_s2=s2, swid=SWID)\n",
    "league2.power_rankings(week=13)"
   ]
  },
  {
   "cell_type": "code",
   "execution_count": null,
   "metadata": {},
   "outputs": [],
   "source": [
    "league2.power_rankings(week=12)"
   ]
  },
  {
   "cell_type": "code",
   "execution_count": null,
   "metadata": {},
   "outputs": [],
   "source": [
    "league.box_scores(13)[-1].home_lineup[0].projected_points\n",
    "\n",
    "activity = league.recent_activity() # returns List[Activity]\n",
    "\n",
    "activity[21].actions[0]\n",
    "\n",
    "league.teams[4].wins\n",
    "\n",
    "league2 = League(league_id=league_id, year=2015, espn_s2=s2, swid=SWID)\n",
    "\n",
    "league2.teams[4].roster\n",
    "\n",
    "league.draft[0].bid_amount\n",
    "\n",
    "league2.draft[0]\n",
    "\n",
    "# activity"
   ]
  },
  {
   "cell_type": "code",
   "execution_count": null,
   "metadata": {},
   "outputs": [],
   "source": [
    "a=league2.draft[0].playerName\n",
    "print(a)"
   ]
  },
  {
   "cell_type": "code",
   "execution_count": null,
   "metadata": {},
   "outputs": [],
   "source": [
    "league2.draft[0].team."
   ]
  },
  {
   "cell_type": "code",
   "execution_count": null,
   "metadata": {},
   "outputs": [],
   "source": []
  },
  {
   "cell_type": "code",
   "execution_count": null,
   "metadata": {},
   "outputs": [],
   "source": [
    "dir draft"
   ]
  },
  {
   "cell_type": "code",
   "execution_count": null,
   "metadata": {},
   "outputs": [],
   "source": [
    "b"
   ]
  },
  {
   "cell_type": "code",
   "execution_count": null,
   "metadata": {},
   "outputs": [],
   "source": [
    "a"
   ]
  },
  {
   "cell_type": "code",
   "execution_count": null,
   "metadata": {},
   "outputs": [],
   "source": [
    "type(a)"
   ]
  },
  {
   "cell_type": "code",
   "execution_count": null,
   "metadata": {},
   "outputs": [],
   "source": [
    "league2.teams[4].standing"
   ]
  },
  {
   "cell_type": "code",
   "execution_count": null,
   "metadata": {},
   "outputs": [],
   "source": [
    "league2.teams"
   ]
  },
  {
   "cell_type": "code",
   "execution_count": null,
   "metadata": {},
   "outputs": [],
   "source": []
  },
  {
   "cell_type": "code",
   "execution_count": null,
   "metadata": {},
   "outputs": [],
   "source": [
    "range(2013,2020)"
   ]
  },
  {
   "cell_type": "code",
   "execution_count": null,
   "metadata": {},
   "outputs": [],
   "source": [
    "league2 = League(league_id=league_id, year=2020, espn_s2=s2, swid=SWID)"
   ]
  },
  {
   "cell_type": "code",
   "execution_count": null,
   "metadata": {},
   "outputs": [],
   "source": [
    "league2.teams\n"
   ]
  },
  {
   "cell_type": "code",
   "execution_count": null,
   "metadata": {},
   "outputs": [],
   "source": [
    "for i in league2.teams:\n",
    "    print(i)\n",
    "    print(i.standing)"
   ]
  },
  {
   "cell_type": "code",
   "execution_count": null,
   "metadata": {},
   "outputs": [],
   "source": [
    "league2.teams[4].standing"
   ]
  },
  {
   "cell_type": "code",
   "execution_count": null,
   "metadata": {},
   "outputs": [],
   "source": [
    "league2.teams[0].standing"
   ]
  },
  {
   "cell_type": "code",
   "execution_count": null,
   "metadata": {},
   "outputs": [],
   "source": [
    "years_ls = [int(i) for i in list(np.linspace(2014,2020,num=7))]\n",
    "\n",
    "for i in years_ls:\n",
    "    league2 = League(league_id=league_id, year=i, espn_s2=s2, swid=SWID)\n",
    "    wins = league2.teams[4].standing\n",
    "    print(league2.teams[4])\n",
    "    print(wins)\n",
    "    \n",
    "    "
   ]
  },
  {
   "cell_type": "code",
   "execution_count": null,
   "metadata": {},
   "outputs": [],
   "source": [
    "years_ls = [int(i) for i in list(np.linspace(2014,2020,num=7))]\n",
    "\n",
    "for i in years_ls:\n",
    "    league2 = League(league_id=league_id, year=i, espn_s2=s2, swid=SWID)\n",
    "    pts_against = league2.most_points_against()\n",
    "    print(pts_against)\n",
    "\n",
    "    \n",
    "    "
   ]
  },
  {
   "cell_type": "code",
   "execution_count": 226,
   "metadata": {},
   "outputs": [
    {
     "name": "stdout",
     "output_type": "stream",
     "text": [
      "Team(So Bad)\n",
      "Team(Olsen Twins  Love Dez Nuts)\n",
      "Team(I never learned to Reed!)\n",
      "Team(Born again Mcaffery)\n",
      "Team(Fumble .)\n",
      "Team(Favre's Wranglers)\n",
      "Team(Let me be frankel)\n"
     ]
    }
   ],
   "source": [
    "years_ls = [int(i) for i in list(np.linspace(2014,2020,num=7))]\n",
    "\n",
    "for i in years_ls:\n",
    "    league2 = League(league_id=league_id, year=i, espn_s2=s2, swid=SWID)\n",
    "    pts_against = league2.least_scorer()\n",
    "    print(pts_against)\n",
    "\n",
    "    \n",
    "    "
   ]
  },
  {
   "cell_type": "code",
   "execution_count": 225,
   "metadata": {},
   "outputs": [
    {
     "name": "stdout",
     "output_type": "stream",
     "text": [
      "Team(So Bad)\n",
      "Team(Olsen Twins  Love Dez Nuts)\n",
      "Team(I never learned to Reed!)\n",
      "Team(Born again Mcaffery)\n",
      "Team(Fumble .)\n",
      "Team(Favre's Wranglers)\n",
      "Team(Let me be frankel)\n"
     ]
    }
   ],
   "source": [
    "# Lowest scoring teams\n",
    "years_ls = [int(i) for i in list(np.linspace(2014,2020,num=7))]\n",
    "\n",
    "for i in years_ls:\n",
    "    league2 = League(league_id=league_id, year=i, espn_s2=s2, swid=SWID)\n",
    "    pts_against = league2.least_scorer()\n",
    "    print(pts_against)"
   ]
  },
  {
   "cell_type": "code",
   "execution_count": 224,
   "metadata": {},
   "outputs": [
    {
     "name": "stdout",
     "output_type": "stream",
     "text": [
      "Team(Team Swenson)\n",
      "Team(Rawls to the Wall)\n",
      "Team(A-Aron is all you Snead)\n",
      "Team(Hangin with Mr. Hernandez)\n",
      "Team(Let me be frankel)\n",
      "Team(Favre's Wranglers)\n",
      "Team(Fumble .)\n"
     ]
    }
   ],
   "source": [
    "# Last place finisher\n",
    "\n",
    "years_ls = [int(i) for i in list(np.linspace(2014,2020,num=7))]\n",
    "\n",
    "for i in years_ls:\n",
    "    league2 = League(league_id=league_id, year=i, espn_s2=s2, swid=SWID)\n",
    "    pts_against = league2.standings()[-1]\n",
    "    print(pts_against)"
   ]
  },
  {
   "cell_type": "code",
   "execution_count": null,
   "metadata": {},
   "outputs": [],
   "source": [
    "league2."
   ]
  },
  {
   "cell_type": "code",
   "execution_count": null,
   "metadata": {},
   "outputs": [],
   "source": []
  }
 ],
 "metadata": {
  "kernelspec": {
   "display_name": "Python 3",
   "language": "python",
   "name": "python3"
  },
  "language_info": {
   "codemirror_mode": {
    "name": "ipython",
    "version": 3
   },
   "file_extension": ".py",
   "mimetype": "text/x-python",
   "name": "python",
   "nbconvert_exporter": "python",
   "pygments_lexer": "ipython3",
   "version": "3.7.4"
  }
 },
 "nbformat": 4,
 "nbformat_minor": 2
}
