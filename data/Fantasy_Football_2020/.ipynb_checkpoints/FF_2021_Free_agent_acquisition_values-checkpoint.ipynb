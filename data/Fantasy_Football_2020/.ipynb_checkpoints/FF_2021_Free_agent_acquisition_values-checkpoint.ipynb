{
 "cells": [
  {
   "cell_type": "code",
   "execution_count": 470,
   "metadata": {},
   "outputs": [],
   "source": [
    "import json\n",
    "import numpy as np\n",
    "import pandas as pd\n",
    "import matplotlib.pyplot as plt\n",
    "import seaborn as sns\n",
    "import plotly.express as px\n",
    "import plotly.io as pio\n",
    "\n",
    "# import datetime\n",
    "from datetime import date\n",
    "from datetime import datetime\n",
    "\n",
    "import requests\n",
    "import espn_api\n",
    "from espn_api.football import League\n",
    "from espn_api.football import activity\n",
    "\n",
    "import altair as alt\n",
    "\n",
    "import sportsipy.nfl\n",
    "from sportsipy.nfl.boxscore import Boxscore\n",
    "from sportsipy.nfl.schedule import Schedule\n",
    "from sportsipy.nfl.teams import Teams\n",
    "import nfl_data_py as nfl\n",
    "\n",
    "from sportsipy.nfl.teams import Teams\n",
    "\n",
    "# teams = Teams()\n",
    "# lions = teams('DET')"
   ]
  },
  {
   "cell_type": "code",
   "execution_count": 161,
   "metadata": {},
   "outputs": [],
   "source": [
    "df_games = nfl.import_schedules([2021])\n",
    "\n",
    "teams = Teams()\n",
    "\n",
    "df_team_names = pd.DataFrame(columns = ['Pro Team Name' , 'Abbrev'])\n",
    "abbrev_ls = []\n",
    "team_name_ls = []\n",
    "for team in teams:\n",
    "    abbrev_ls.append(team.abbreviation)\n",
    "    team_name_ls.append(team.name)\n",
    "    \n",
    "df_team_names['Pro Team Name'] = team_name_ls\n",
    "df_team_names['Abbrev'] = abbrev_ls\n",
    "\n",
    "df_team_names.sort_values('Pro Team Name',ascending=True,inplace=True)\n",
    "\n",
    "df_team_names.to_csv('abbrev_names.csv')\n",
    "\n",
    "df_team_name_convert = pd.read_csv('team_abbrev_conversion.csv').set_index('Abbrev_sportsipy')\n",
    "\n",
    "conv_dict = df_team_name_convert['Abbrev'].to_dict()\n",
    "\n",
    "# df_team_names.replace({'Abbrev': conv_dict} , inplace=True)\n",
    "\n",
    "df_proteam_schedule = pd.read_csv('team_abbrev.csv' , index_col=False).drop(['Unnamed: 0'],axis=1).set_index('Abbrev_sportsipy')\n",
    "\n",
    "pro_team_ls = df_proteam_schedule.index.tolist()\n"
   ]
  },
  {
   "cell_type": "markdown",
   "metadata": {},
   "source": [
    "## Build NFL team schedules with dates"
   ]
  },
  {
   "cell_type": "code",
   "execution_count": 162,
   "metadata": {},
   "outputs": [],
   "source": [
    "# rows = NFL teams\n",
    "# columns = team abbrev, weeks\n",
    "# data = game date\n",
    "# use the game dates to map to player week-by-week stats\n",
    "\n"
   ]
  },
  {
   "cell_type": "code",
   "execution_count": 163,
   "metadata": {},
   "outputs": [],
   "source": [
    "# series for each NFL team:\n",
    "games_all_season = 18\n",
    "\n",
    "game_time_ls = []\n",
    "proteam_schedule = Schedule('CRD')\n",
    "for game in proteam_schedule:\n",
    "    game_time = game.datetime.date()\n",
    "    game_time_ls.append(game_time)\n",
    "\n",
    "wk_ls = [i+1 for i in list(range(games_all_season))]\n",
    "\n",
    "df_proteam_schedules = pd.DataFrame(data=[], index=wk_ls , columns = pro_team_ls)"
   ]
  },
  {
   "cell_type": "code",
   "execution_count": 164,
   "metadata": {},
   "outputs": [],
   "source": [
    "for i in pro_team_ls:\n",
    "    proteam_schedule = Schedule(i)\n",
    "    \n",
    "    for game in proteam_schedule:\n",
    "        game_time = game.datetime.date()\n",
    "        wk = game.week\n",
    "        \n",
    "        df_proteam_schedules.loc[wk,i] = game_time\n",
    "        \n",
    "df_proteam_schedules.fillna('BYE',inplace=True)\n",
    "\n",
    "df_proteam_schedules.rename(columns = conv_dict , inplace=True)"
   ]
  },
  {
   "cell_type": "markdown",
   "metadata": {},
   "source": [
    "## Import data from ESPN Fantasy Football"
   ]
  },
  {
   "cell_type": "code",
   "execution_count": 19,
   "metadata": {},
   "outputs": [],
   "source": [
    "# Football Import\n",
    "\n",
    "league_id = 1094090\n",
    "year = 2021\n",
    "SWID=\"{F191FB8C-DB2D-4D24-91FB-8CDB2DED249D}\"\n",
    "\n",
    "s2='AECJMQHsUHB0FTXdZkw93uY7GRbX8BPnm93Ye6AwvwrMsrZFGg1Lbmi07SWVov2ioN8zGMFDzZiiDSeQCa7WQHaGivGnMfGWLjmfGwkOeLXb5baD1sltp%2B%2BIfHAtl98TpmHgB16ZpGn6g3Bm5vLEA7yDC6HkbD3LSp0E2rGB7hKziLMvZ7mT6ONJFRe8Xp3ApYWSvxPr9cz0pJiI%2FF0blsZ8hyATDJMEyaQ2O%2FypcsViORr6hqYTmXHPuPKnMBfvYC8LQqi1exGw3vnyg6ptsB2Y'"
   ]
  },
  {
   "cell_type": "code",
   "execution_count": 20,
   "metadata": {},
   "outputs": [],
   "source": [
    "league = League(league_id=league_id, year=year, espn_s2=s2, swid=SWID)\n",
    "\n",
    "activity_ls = league.recent_activity(400)"
   ]
  },
  {
   "cell_type": "code",
   "execution_count": 21,
   "metadata": {},
   "outputs": [
    {
     "data": {
      "text/plain": [
       "1640448135747"
      ]
     },
     "execution_count": 21,
     "metadata": {},
     "output_type": "execute_result"
    }
   ],
   "source": [
    "activity_ls[0].date"
   ]
  },
  {
   "cell_type": "code",
   "execution_count": 22,
   "metadata": {},
   "outputs": [
    {
     "data": {
      "text/plain": [
       "[Box Score(Team(Tasteful Dak Piks, by CMC) at Team(Your Antivax Cousins)),\n",
       " Box Score(Team(More than a  Thielen) at Team(Tier 2 never felt so good)),\n",
       " Box Score(Team(Dick Cheese) at Team(Godwin's Memorial)),\n",
       " Box Score(Team(Don't Ekele Me) at Team(Fumble .)),\n",
       " Box Score(Team(Favre's Wranglers) at Team(Repeat Donger)),\n",
       " Box Score(Team(Ice City USA) at Team(Frankel's Cankles))]"
      ]
     },
     "execution_count": 22,
     "metadata": {},
     "output_type": "execute_result"
    }
   ],
   "source": [
    "league.box_scores(13)"
   ]
  },
  {
   "cell_type": "markdown",
   "metadata": {},
   "source": [
    "## Map every NFL team's schedule to date / weeks designation"
   ]
  },
  {
   "cell_type": "code",
   "execution_count": null,
   "metadata": {},
   "outputs": [],
   "source": []
  },
  {
   "cell_type": "markdown",
   "metadata": {},
   "source": [
    "## Build Acquisitions Dataframe"
   ]
  },
  {
   "cell_type": "code",
   "execution_count": 23,
   "metadata": {},
   "outputs": [],
   "source": [
    "# waiver_data_ls = []\n",
    "\n",
    "# # loop through each activity item\n",
    "# for j in activity_ls:\n",
    "#     date1 = j.date\n",
    "    \n",
    "#     # store Activity object in pandas dataframe\n",
    "# #     activity = j\n",
    "    \n",
    "#     # could be multiple activities within each activity item\n",
    "#     for k in j.actions:\n",
    "#         (team1, action1, player_name, bid_amount) = k\n",
    "#         team_id = team1.team_name\n",
    "#         player_id = player_name.name\n",
    "#         ProTeam = player_name.proTeam\n",
    "        \n",
    "# #         total_points = player_name.stats[0]['points']\n",
    "#         waiver_data1 = (date1 , player_id , ProTeam , team_id , action1, bid_amount)\n",
    "#         waiver_data_ls.append(waiver_data1)\n",
    "        \n",
    "# df = pd.DataFrame(waiver_data_ls)\n",
    "# df.columns = ['Timestamp','Player','ProTeam','Acquired by','Action','Bid Amount ($)']"
   ]
  },
  {
   "cell_type": "code",
   "execution_count": 25,
   "metadata": {},
   "outputs": [],
   "source": [
    "# Need special case to handle trades:\n",
    "\n"
   ]
  },
  {
   "cell_type": "code",
   "execution_count": 53,
   "metadata": {},
   "outputs": [],
   "source": [
    "# targ_team = 'Dick Cheese'\n",
    "# targ_player = 'Deebo Samuel'\n",
    "# waiver_data_ls = []\n",
    "\n",
    "# # loop through each activity item\n",
    "# for idx, j in enumerate(activity_ls):\n",
    "#     date1 = j.date\n",
    "    \n",
    "#     # store Activity object in pandas dataframe\n",
    "# #     activity = j\n",
    "    \n",
    "#     # could be multiple activities within each activity item\n",
    "#     for k in j.actions:\n",
    "#         (team1, action1, player_name, bid_amount) = k\n",
    "        \n",
    "#         if 'TRADED':\n",
    "# #             print('t')\n",
    "            \n",
    "            \n",
    "            \n",
    "#             team_id = team1.team_name\n",
    "#             player_id = player_name.name\n",
    "\n",
    "#             if (team_id == targ_team) & (player_id == targ_player):\n",
    "#                 activity = j\n",
    "#                 traded_idx = idx\n",
    "# #       \n",
    "# print(traded_idx)"
   ]
  },
  {
   "cell_type": "code",
   "execution_count": 54,
   "metadata": {},
   "outputs": [],
   "source": [
    "acq_data_ls = []\n",
    "\n",
    "date1 = activity_ls[traded_idx].date\n",
    "\n",
    "team_transaction_ls = []\n",
    "for k in activity_ls[traded_idx].actions:\n",
    "    (team1, action1, _ , _ ) = k\n",
    "    team_id = team1.team_name\n",
    "    team_transaction_ls.append(team_id)\n",
    "\n",
    "    # determine if trade or waiver acquisition type\n",
    "\n",
    "# establish other team involved in trade\n",
    "teams_in_trade = list(set(team_transaction_ls))\n",
    "\n",
    "for k in activity_ls[traded_idx].actions:\n",
    "    (team1, action1, player_name, bid_amount) = k\n",
    "    team_id = team1.team_name\n",
    "#     print(team_id)\n",
    "    \n",
    "    if teams_in_trade.index(team_id) == 1:\n",
    "        team_id_received = teams_in_trade[0]\n",
    "    else:\n",
    "        team_id_received = teams_in_trade[1]\n",
    "        \n",
    "    # Build new tuple for TRADE ADDED\n",
    "#     team_id = team_id_received\n",
    "    player_id = player_name.name\n",
    "    ProTeam = player_name.proTeam\n",
    "    action1 = 'TRADE ADDED'\n",
    "    \n",
    "    # Build a second tuple for TRADE DROPPED\n",
    "    action2 = 'TRADE DROPPED'\n",
    "    \n",
    "    acq_data1 = (date1 , player_id , ProTeam , team_id_received , action1, bid_amount)\n",
    "    drop_data1 = (date1 , player_id , ProTeam , team_id , action2, bid_amount)\n",
    "    \n",
    "    acq_data_ls.append(acq_data1)\n",
    "    acq_data_ls.append(drop_data1)\n",
    "    \n"
   ]
  },
  {
   "cell_type": "code",
   "execution_count": 205,
   "metadata": {},
   "outputs": [],
   "source": [
    "# Function handling trade data\n",
    "\n",
    "def get_trade_data(j):\n",
    "    \n",
    "    acq_data_ls = []\n",
    "\n",
    "    date1 = j.date\n",
    "\n",
    "    team_transaction_ls = []\n",
    "    \n",
    "    for k in j.actions:\n",
    "        (team1, action1, _ , _ ) = k\n",
    "        team_id = team1.team_name\n",
    "        team_transaction_ls.append(team_id)\n",
    "\n",
    "        # determine if trade or waiver acquisition type\n",
    "\n",
    "    # establish other team involved in trade\n",
    "    teams_in_trade = list(set(team_transaction_ls))\n",
    "\n",
    "    for k in j.actions:\n",
    "        (team1, action1, player_name, bid_amount) = k\n",
    "        team_id = team1.team_name\n",
    "    #     print(team_id)\n",
    "\n",
    "        if teams_in_trade.index(team_id) == 1:\n",
    "            team_id_received = teams_in_trade[0]\n",
    "        else:\n",
    "            team_id_received = teams_in_trade[1]\n",
    "\n",
    "        # Build new tuple for TRADE ADDED\n",
    "    #     team_id = team_id_received\n",
    "        player_id = player_name.name\n",
    "        ProTeam = player_name.proTeam\n",
    "        action1 = 'TRADE ADDED'\n",
    "\n",
    "        # Build a second tuple for TRADE DROPPED\n",
    "        action2 = 'TRADE DROPPED'\n",
    "\n",
    "        acq_data1 = (date1 , player_id , ProTeam , team_id_received , action1, bid_amount)\n",
    "        drop_data1 = (date1 , player_id , ProTeam , team_id , action2, bid_amount)\n",
    "\n",
    "        acq_data_ls.append(acq_data1)\n",
    "        acq_data_ls.append(drop_data1)\n",
    "        \n",
    "    return acq_data_ls"
   ]
  },
  {
   "cell_type": "code",
   "execution_count": 206,
   "metadata": {},
   "outputs": [],
   "source": [
    "def get_waiver_data(j):\n",
    "    \n",
    "    waiver_data_ls = []\n",
    "\n",
    "    for k in j.actions:\n",
    "        (team1, action1, player_name, bid_amount) = k\n",
    "        team_id = team1.team_name\n",
    "        player_id = player_name.name\n",
    "        ProTeam = player_name.proTeam\n",
    "        \n",
    "#         total_points = player_name.stats[0]['points']\n",
    "        waiver_data1 = (date1 , player_id , ProTeam , team_id , action1 , bid_amount)\n",
    "        waiver_data_ls.append(waiver_data1)\n",
    "        \n",
    "    return waiver_data_ls"
   ]
  },
  {
   "cell_type": "code",
   "execution_count": 207,
   "metadata": {},
   "outputs": [],
   "source": [
    "def flatten_list(_2d_list):\n",
    "    flat_list = []\n",
    "    # Iterate through the outer list\n",
    "    for element in _2d_list:\n",
    "        if type(element) is list:\n",
    "            # If the element is of type list, iterate through the sublist\n",
    "            for item in element:\n",
    "                flat_list.append(item)\n",
    "        else:\n",
    "            flat_list.append(element)\n",
    "    return flat_list"
   ]
  },
  {
   "cell_type": "code",
   "execution_count": 208,
   "metadata": {},
   "outputs": [],
   "source": [
    "# Conditional for trade or waiver acquisitions\n",
    "\n",
    "acq_data_ls = []\n",
    "\n",
    "date1 = activity_ls[traded_idx].date\n",
    "\n",
    "# loop through each activity item\n",
    "for idx, j in enumerate(activity_ls):\n",
    "    date1 = j.date\n",
    "#     team_transaction_ls = []\n",
    "    for k in j.actions:\n",
    "        (team1, action1, _ , _ ) = k\n",
    "        team_id = team1.team_name\n",
    "        team_transaction_ls.append(team_id)\n",
    "        \n",
    "        # determine if trade or waiver acquisition type\n",
    "        \n",
    "        ls = []\n",
    "        \n",
    "        if action1 == 'TRADED':\n",
    "            ls = get_trade_data(j)\n",
    "\n",
    "        else:\n",
    "            ls = get_waiver_data(j)\n",
    "\n",
    "    acq_data_ls.append(ls)\n",
    "      \n",
    "\n",
    "acq_data_flat_ls = flatten_list(acq_data_ls)\n",
    "\n",
    "df_acq = pd.DataFrame(acq_data_flat_ls)\n",
    "\n",
    "df_acq.columns = ['Timestamp','Player','ProTeam','Team','Action','Bid Amount ($)']\n",
    "\n",
    "# converts from milliseconds to date\n",
    "def convert_to_date(date1):\n",
    "    d2=datetime.date.fromtimestamp(date1 / 1000.0)\n",
    "    return d2\n",
    "\n",
    "df_acq['Action Timestamp'] = df_acq['Timestamp'].apply(lambda x : convert_to_date(x))\n",
    "\n",
    "df_acq = df_acq.sort_values(by=['Timestamp'],ascending=True)"
   ]
  },
  {
   "cell_type": "code",
   "execution_count": 345,
   "metadata": {},
   "outputs": [
    {
     "data": {
      "text/html": [
       "<div>\n",
       "<style scoped>\n",
       "    .dataframe tbody tr th:only-of-type {\n",
       "        vertical-align: middle;\n",
       "    }\n",
       "\n",
       "    .dataframe tbody tr th {\n",
       "        vertical-align: top;\n",
       "    }\n",
       "\n",
       "    .dataframe thead th {\n",
       "        text-align: right;\n",
       "    }\n",
       "</style>\n",
       "<table border=\"1\" class=\"dataframe\">\n",
       "  <thead>\n",
       "    <tr style=\"text-align: right;\">\n",
       "      <th></th>\n",
       "      <th>Timestamp</th>\n",
       "      <th>Player</th>\n",
       "      <th>ProTeam</th>\n",
       "      <th>Team</th>\n",
       "      <th>Action</th>\n",
       "      <th>Bid Amount ($)</th>\n",
       "      <th>Action Timestamp</th>\n",
       "    </tr>\n",
       "  </thead>\n",
       "  <tbody>\n",
       "    <tr>\n",
       "      <th>574</th>\n",
       "      <td>1631199616099</td>\n",
       "      <td>Dolphins D/ST</td>\n",
       "      <td>MIA</td>\n",
       "      <td>Ice City USA</td>\n",
       "      <td>DROPPED</td>\n",
       "      <td>0</td>\n",
       "      <td>2021-09-09</td>\n",
       "    </tr>\n",
       "    <tr>\n",
       "      <th>566</th>\n",
       "      <td>1631199616099</td>\n",
       "      <td>Rodrigo Blankenship</td>\n",
       "      <td>IND</td>\n",
       "      <td>Fumble .</td>\n",
       "      <td>DROPPED</td>\n",
       "      <td>0</td>\n",
       "      <td>2021-09-09</td>\n",
       "    </tr>\n",
       "    <tr>\n",
       "      <th>567</th>\n",
       "      <td>1631199616099</td>\n",
       "      <td>T.Y. Hilton</td>\n",
       "      <td>IND</td>\n",
       "      <td>Fumble .</td>\n",
       "      <td>WAIVER ADDED</td>\n",
       "      <td>1</td>\n",
       "      <td>2021-09-09</td>\n",
       "    </tr>\n",
       "    <tr>\n",
       "      <th>568</th>\n",
       "      <td>1631199616099</td>\n",
       "      <td>Deshaun Watson</td>\n",
       "      <td>HOU</td>\n",
       "      <td>Frankel's Cankles</td>\n",
       "      <td>DROPPED</td>\n",
       "      <td>0</td>\n",
       "      <td>2021-09-09</td>\n",
       "    </tr>\n",
       "    <tr>\n",
       "      <th>573</th>\n",
       "      <td>1631199616099</td>\n",
       "      <td>Vikings D/ST</td>\n",
       "      <td>MIN</td>\n",
       "      <td>Ice City USA</td>\n",
       "      <td>WAIVER ADDED</td>\n",
       "      <td>0</td>\n",
       "      <td>2021-09-09</td>\n",
       "    </tr>\n",
       "  </tbody>\n",
       "</table>\n",
       "</div>"
      ],
      "text/plain": [
       "         Timestamp               Player ProTeam               Team  \\\n",
       "574  1631199616099        Dolphins D/ST     MIA       Ice City USA   \n",
       "566  1631199616099  Rodrigo Blankenship     IND           Fumble .   \n",
       "567  1631199616099          T.Y. Hilton     IND           Fumble .   \n",
       "568  1631199616099       Deshaun Watson     HOU  Frankel's Cankles   \n",
       "573  1631199616099         Vikings D/ST     MIN       Ice City USA   \n",
       "\n",
       "           Action  Bid Amount ($) Action Timestamp  \n",
       "574       DROPPED               0       2021-09-09  \n",
       "566       DROPPED               0       2021-09-09  \n",
       "567  WAIVER ADDED               1       2021-09-09  \n",
       "568       DROPPED               0       2021-09-09  \n",
       "573  WAIVER ADDED               0       2021-09-09  "
      ]
     },
     "execution_count": 345,
     "metadata": {},
     "output_type": "execute_result"
    }
   ],
   "source": [
    "df_acq.head()"
   ]
  },
  {
   "cell_type": "code",
   "execution_count": 346,
   "metadata": {},
   "outputs": [
    {
     "data": {
      "text/html": [
       "<div>\n",
       "<style scoped>\n",
       "    .dataframe tbody tr th:only-of-type {\n",
       "        vertical-align: middle;\n",
       "    }\n",
       "\n",
       "    .dataframe tbody tr th {\n",
       "        vertical-align: top;\n",
       "    }\n",
       "\n",
       "    .dataframe thead th {\n",
       "        text-align: right;\n",
       "    }\n",
       "</style>\n",
       "<table border=\"1\" class=\"dataframe\">\n",
       "  <thead>\n",
       "    <tr style=\"text-align: right;\">\n",
       "      <th></th>\n",
       "      <th>Acquired by</th>\n",
       "      <th>Action</th>\n",
       "      <th>Bid Amount ($)</th>\n",
       "    </tr>\n",
       "    <tr>\n",
       "      <th>Player</th>\n",
       "      <th></th>\n",
       "      <th></th>\n",
       "      <th></th>\n",
       "    </tr>\n",
       "  </thead>\n",
       "  <tbody>\n",
       "    <tr>\n",
       "      <th>Mike Evans</th>\n",
       "      <td>Favre's Wranglers</td>\n",
       "      <td>Draft</td>\n",
       "      <td>30</td>\n",
       "    </tr>\n",
       "    <tr>\n",
       "      <th>Christian McCaffrey</th>\n",
       "      <td>Tasteful Dak Piks, by CMC</td>\n",
       "      <td>Draft</td>\n",
       "      <td>83</td>\n",
       "    </tr>\n",
       "    <tr>\n",
       "      <th>Derrick Henry</th>\n",
       "      <td>Ice City USA</td>\n",
       "      <td>Draft</td>\n",
       "      <td>84</td>\n",
       "    </tr>\n",
       "    <tr>\n",
       "      <th>Aaron Jones</th>\n",
       "      <td>Frankel's Cankles</td>\n",
       "      <td>Draft</td>\n",
       "      <td>56</td>\n",
       "    </tr>\n",
       "    <tr>\n",
       "      <th>Dalvin Cook</th>\n",
       "      <td>Dick Cheese</td>\n",
       "      <td>Draft</td>\n",
       "      <td>70</td>\n",
       "    </tr>\n",
       "  </tbody>\n",
       "</table>\n",
       "</div>"
      ],
      "text/plain": [
       "                                   Acquired by Action  Bid Amount ($)\n",
       "Player                                                               \n",
       "Mike Evans                   Favre's Wranglers  Draft              30\n",
       "Christian McCaffrey  Tasteful Dak Piks, by CMC  Draft              83\n",
       "Derrick Henry                     Ice City USA  Draft              84\n",
       "Aaron Jones                  Frankel's Cankles  Draft              56\n",
       "Dalvin Cook                        Dick Cheese  Draft              70"
      ]
     },
     "execution_count": 346,
     "metadata": {},
     "output_type": "execute_result"
    }
   ],
   "source": [
    "df_draft.head()"
   ]
  },
  {
   "cell_type": "code",
   "execution_count": 210,
   "metadata": {},
   "outputs": [
    {
     "data": {
      "text/html": [
       "<div>\n",
       "<style scoped>\n",
       "    .dataframe tbody tr th:only-of-type {\n",
       "        vertical-align: middle;\n",
       "    }\n",
       "\n",
       "    .dataframe tbody tr th {\n",
       "        vertical-align: top;\n",
       "    }\n",
       "\n",
       "    .dataframe thead th {\n",
       "        text-align: right;\n",
       "    }\n",
       "</style>\n",
       "<table border=\"1\" class=\"dataframe\">\n",
       "  <thead>\n",
       "    <tr style=\"text-align: right;\">\n",
       "      <th></th>\n",
       "      <th>Timestamp</th>\n",
       "      <th>Player</th>\n",
       "      <th>ProTeam</th>\n",
       "      <th>Team</th>\n",
       "      <th>Action</th>\n",
       "      <th>Bid Amount ($)</th>\n",
       "      <th>Action Timestamp</th>\n",
       "    </tr>\n",
       "  </thead>\n",
       "  <tbody>\n",
       "    <tr>\n",
       "      <th>484</th>\n",
       "      <td>1632322823742</td>\n",
       "      <td>James Conner</td>\n",
       "      <td>ARI</td>\n",
       "      <td>Repeat Donger</td>\n",
       "      <td>DROPPED</td>\n",
       "      <td>0</td>\n",
       "      <td>2021-09-22</td>\n",
       "    </tr>\n",
       "    <tr>\n",
       "      <th>428</th>\n",
       "      <td>1633532560463</td>\n",
       "      <td>James Conner</td>\n",
       "      <td>ARI</td>\n",
       "      <td>Don't Ekele Me</td>\n",
       "      <td>WAIVER ADDED</td>\n",
       "      <td>21</td>\n",
       "      <td>2021-10-06</td>\n",
       "    </tr>\n",
       "  </tbody>\n",
       "</table>\n",
       "</div>"
      ],
      "text/plain": [
       "         Timestamp        Player ProTeam            Team        Action  \\\n",
       "484  1632322823742  James Conner     ARI   Repeat Donger       DROPPED   \n",
       "428  1633532560463  James Conner     ARI  Don't Ekele Me  WAIVER ADDED   \n",
       "\n",
       "     Bid Amount ($) Action Timestamp  \n",
       "484               0       2021-09-22  \n",
       "428              21       2021-10-06  "
      ]
     },
     "execution_count": 210,
     "metadata": {},
     "output_type": "execute_result"
    }
   ],
   "source": [
    "df_acq[df_acq['Player']=='James Conner']"
   ]
  },
  {
   "cell_type": "code",
   "execution_count": 211,
   "metadata": {},
   "outputs": [
    {
     "data": {
      "text/html": [
       "<div>\n",
       "<style scoped>\n",
       "    .dataframe tbody tr th:only-of-type {\n",
       "        vertical-align: middle;\n",
       "    }\n",
       "\n",
       "    .dataframe tbody tr th {\n",
       "        vertical-align: top;\n",
       "    }\n",
       "\n",
       "    .dataframe thead th {\n",
       "        text-align: right;\n",
       "    }\n",
       "</style>\n",
       "<table border=\"1\" class=\"dataframe\">\n",
       "  <thead>\n",
       "    <tr style=\"text-align: right;\">\n",
       "      <th></th>\n",
       "      <th>Timestamp</th>\n",
       "      <th>Player</th>\n",
       "      <th>ProTeam</th>\n",
       "      <th>Team</th>\n",
       "      <th>Action</th>\n",
       "      <th>Bid Amount ($)</th>\n",
       "      <th>Action Timestamp</th>\n",
       "    </tr>\n",
       "  </thead>\n",
       "  <tbody>\n",
       "    <tr>\n",
       "      <th>574</th>\n",
       "      <td>1631199616099</td>\n",
       "      <td>Dolphins D/ST</td>\n",
       "      <td>MIA</td>\n",
       "      <td>Ice City USA</td>\n",
       "      <td>DROPPED</td>\n",
       "      <td>0</td>\n",
       "      <td>2021-09-09</td>\n",
       "    </tr>\n",
       "    <tr>\n",
       "      <th>566</th>\n",
       "      <td>1631199616099</td>\n",
       "      <td>Rodrigo Blankenship</td>\n",
       "      <td>IND</td>\n",
       "      <td>Fumble .</td>\n",
       "      <td>DROPPED</td>\n",
       "      <td>0</td>\n",
       "      <td>2021-09-09</td>\n",
       "    </tr>\n",
       "    <tr>\n",
       "      <th>567</th>\n",
       "      <td>1631199616099</td>\n",
       "      <td>T.Y. Hilton</td>\n",
       "      <td>IND</td>\n",
       "      <td>Fumble .</td>\n",
       "      <td>WAIVER ADDED</td>\n",
       "      <td>1</td>\n",
       "      <td>2021-09-09</td>\n",
       "    </tr>\n",
       "    <tr>\n",
       "      <th>568</th>\n",
       "      <td>1631199616099</td>\n",
       "      <td>Deshaun Watson</td>\n",
       "      <td>HOU</td>\n",
       "      <td>Frankel's Cankles</td>\n",
       "      <td>DROPPED</td>\n",
       "      <td>0</td>\n",
       "      <td>2021-09-09</td>\n",
       "    </tr>\n",
       "    <tr>\n",
       "      <th>573</th>\n",
       "      <td>1631199616099</td>\n",
       "      <td>Vikings D/ST</td>\n",
       "      <td>MIN</td>\n",
       "      <td>Ice City USA</td>\n",
       "      <td>WAIVER ADDED</td>\n",
       "      <td>0</td>\n",
       "      <td>2021-09-09</td>\n",
       "    </tr>\n",
       "    <tr>\n",
       "      <th>570</th>\n",
       "      <td>1631199616099</td>\n",
       "      <td>Marvin Jones Jr.</td>\n",
       "      <td>JAX</td>\n",
       "      <td>Dick Cheese</td>\n",
       "      <td>DROPPED</td>\n",
       "      <td>0</td>\n",
       "      <td>2021-09-09</td>\n",
       "    </tr>\n",
       "    <tr>\n",
       "      <th>572</th>\n",
       "      <td>1631199616099</td>\n",
       "      <td>Tony Pollard</td>\n",
       "      <td>DAL</td>\n",
       "      <td>Tasteful Dak Piks, by CMC</td>\n",
       "      <td>WAIVER ADDED</td>\n",
       "      <td>0</td>\n",
       "      <td>2021-09-09</td>\n",
       "    </tr>\n",
       "    <tr>\n",
       "      <th>569</th>\n",
       "      <td>1631199616099</td>\n",
       "      <td>Trevor Lawrence</td>\n",
       "      <td>JAX</td>\n",
       "      <td>Frankel's Cankles</td>\n",
       "      <td>WAIVER ADDED</td>\n",
       "      <td>5</td>\n",
       "      <td>2021-09-09</td>\n",
       "    </tr>\n",
       "    <tr>\n",
       "      <th>571</th>\n",
       "      <td>1631199616099</td>\n",
       "      <td>Tevin Coleman</td>\n",
       "      <td>NYJ</td>\n",
       "      <td>Dick Cheese</td>\n",
       "      <td>WAIVER ADDED</td>\n",
       "      <td>0</td>\n",
       "      <td>2021-09-09</td>\n",
       "    </tr>\n",
       "    <tr>\n",
       "      <th>565</th>\n",
       "      <td>1631286050932</td>\n",
       "      <td>Le'Veon Bell</td>\n",
       "      <td>TB</td>\n",
       "      <td>Godwin's Memorial</td>\n",
       "      <td>WAIVER ADDED</td>\n",
       "      <td>10</td>\n",
       "      <td>2021-09-10</td>\n",
       "    </tr>\n",
       "  </tbody>\n",
       "</table>\n",
       "</div>"
      ],
      "text/plain": [
       "         Timestamp               Player ProTeam                       Team  \\\n",
       "574  1631199616099        Dolphins D/ST     MIA               Ice City USA   \n",
       "566  1631199616099  Rodrigo Blankenship     IND                   Fumble .   \n",
       "567  1631199616099          T.Y. Hilton     IND                   Fumble .   \n",
       "568  1631199616099       Deshaun Watson     HOU          Frankel's Cankles   \n",
       "573  1631199616099         Vikings D/ST     MIN               Ice City USA   \n",
       "570  1631199616099     Marvin Jones Jr.     JAX                Dick Cheese   \n",
       "572  1631199616099         Tony Pollard     DAL  Tasteful Dak Piks, by CMC   \n",
       "569  1631199616099      Trevor Lawrence     JAX          Frankel's Cankles   \n",
       "571  1631199616099        Tevin Coleman     NYJ                Dick Cheese   \n",
       "565  1631286050932         Le'Veon Bell      TB          Godwin's Memorial   \n",
       "\n",
       "           Action  Bid Amount ($) Action Timestamp  \n",
       "574       DROPPED               0       2021-09-09  \n",
       "566       DROPPED               0       2021-09-09  \n",
       "567  WAIVER ADDED               1       2021-09-09  \n",
       "568       DROPPED               0       2021-09-09  \n",
       "573  WAIVER ADDED               0       2021-09-09  \n",
       "570       DROPPED               0       2021-09-09  \n",
       "572  WAIVER ADDED               0       2021-09-09  \n",
       "569  WAIVER ADDED               5       2021-09-09  \n",
       "571  WAIVER ADDED               0       2021-09-09  \n",
       "565  WAIVER ADDED              10       2021-09-10  "
      ]
     },
     "execution_count": 211,
     "metadata": {},
     "output_type": "execute_result"
    }
   ],
   "source": [
    "df_acq.head(10)"
   ]
  },
  {
   "cell_type": "code",
   "execution_count": 212,
   "metadata": {},
   "outputs": [],
   "source": [
    "# DROPPED Action: that player was present on team prior to being dropped\n",
    "# Get weeks prior to being dropped\n",
    "\n",
    "# ADDED Action: that player was present on team after being added\n",
    "# Get weeks after being added\n",
    "\n",
    "# Get Tenure intervals:\n",
    "\n",
    "# map acquisition dates to real life NFL schedule: express as a list of weeks of interval owned by Fantasy owner\n",
    "# from that list, use league.box_scores to obtain points scored for that Fantasy owner\n",
    "\n",
    "# If DROP is first action, that player is implied to have been drafted\n",
    "\n",
    "# Example: Jaylen Waddle"
   ]
  },
  {
   "cell_type": "code",
   "execution_count": 197,
   "metadata": {},
   "outputs": [
    {
     "name": "stdout",
     "output_type": "stream",
     "text": [
      "a\n"
     ]
    }
   ],
   "source": [
    "if 'DROPPED' in df_test_acq.iloc[0,df.columns.get_loc('Action')]:  \n",
    "    # If DROP is first action, that player is implied to have been drafted\n",
    "    # Implies n + 1 stints, where n is the number of ADDED actions\n",
    "    print('a')\n",
    "else:\n",
    "    # Implies n stints, where n is the number of ADDED actions\n",
    "    print('b')"
   ]
  },
  {
   "cell_type": "code",
   "execution_count": 343,
   "metadata": {},
   "outputs": [
    {
     "data": {
      "text/html": [
       "<div>\n",
       "<style scoped>\n",
       "    .dataframe tbody tr th:only-of-type {\n",
       "        vertical-align: middle;\n",
       "    }\n",
       "\n",
       "    .dataframe tbody tr th {\n",
       "        vertical-align: top;\n",
       "    }\n",
       "\n",
       "    .dataframe thead th {\n",
       "        text-align: right;\n",
       "    }\n",
       "</style>\n",
       "<table border=\"1\" class=\"dataframe\">\n",
       "  <thead>\n",
       "    <tr style=\"text-align: right;\">\n",
       "      <th></th>\n",
       "      <th>Player</th>\n",
       "      <th>ProTeam</th>\n",
       "      <th>Team</th>\n",
       "      <th>Bid Amount ($)</th>\n",
       "      <th>Stint (wks)</th>\n",
       "    </tr>\n",
       "  </thead>\n",
       "  <tbody>\n",
       "    <tr>\n",
       "      <th>1</th>\n",
       "      <td>Zach Ertz</td>\n",
       "      <td>ARI</td>\n",
       "      <td>Tasteful Dak Piks, by CMC</td>\n",
       "      <td>3</td>\n",
       "      <td>[7, 8, 9, 10, 11, 13, 14, 15]</td>\n",
       "    </tr>\n",
       "  </tbody>\n",
       "</table>\n",
       "</div>"
      ],
      "text/plain": [
       "      Player ProTeam                       Team Bid Amount ($)  \\\n",
       "1  Zach Ertz     ARI  Tasteful Dak Piks, by CMC              3   \n",
       "\n",
       "                     Stint (wks)  \n",
       "1  [7, 8, 9, 10, 11, 13, 14, 15]  "
      ]
     },
     "execution_count": 343,
     "metadata": {},
     "output_type": "execute_result"
    }
   ],
   "source": [
    "df_stints"
   ]
  },
  {
   "cell_type": "code",
   "execution_count": 306,
   "metadata": {},
   "outputs": [],
   "source": [
    "today = date.today()"
   ]
  },
  {
   "cell_type": "code",
   "execution_count": 309,
   "metadata": {},
   "outputs": [
    {
     "data": {
      "text/plain": [
       "1     False\n",
       "2     False\n",
       "3     False\n",
       "4     False\n",
       "5     False\n",
       "6     False\n",
       "7     False\n",
       "9     False\n",
       "10    False\n",
       "11    False\n",
       "12    False\n",
       "13     True\n",
       "14     True\n",
       "15     True\n",
       "16    False\n",
       "17    False\n",
       "18    False\n",
       "Name: Game Date, dtype: bool"
      ]
     },
     "execution_count": 309,
     "metadata": {},
     "output_type": "execute_result"
    }
   ],
   "source": [
    "(df_proteam_schedules_one_team['Game Date'] >= d1) & (df_proteam_schedules_one_team['Game Date'] < today)"
   ]
  },
  {
   "cell_type": "code",
   "execution_count": 302,
   "metadata": {},
   "outputs": [
    {
     "data": {
      "text/html": [
       "<div>\n",
       "<style scoped>\n",
       "    .dataframe tbody tr th:only-of-type {\n",
       "        vertical-align: middle;\n",
       "    }\n",
       "\n",
       "    .dataframe tbody tr th {\n",
       "        vertical-align: top;\n",
       "    }\n",
       "\n",
       "    .dataframe thead th {\n",
       "        text-align: right;\n",
       "    }\n",
       "</style>\n",
       "<table border=\"1\" class=\"dataframe\">\n",
       "  <thead>\n",
       "    <tr style=\"text-align: right;\">\n",
       "      <th></th>\n",
       "      <th>index</th>\n",
       "      <th>Timestamp</th>\n",
       "      <th>Player</th>\n",
       "      <th>ProTeam</th>\n",
       "      <th>Team</th>\n",
       "      <th>Action</th>\n",
       "      <th>Bid Amount ($)</th>\n",
       "      <th>Action Timestamp</th>\n",
       "    </tr>\n",
       "    <tr>\n",
       "      <th>ordered_index</th>\n",
       "      <th></th>\n",
       "      <th></th>\n",
       "      <th></th>\n",
       "      <th></th>\n",
       "      <th></th>\n",
       "      <th></th>\n",
       "      <th></th>\n",
       "      <th></th>\n",
       "    </tr>\n",
       "  </thead>\n",
       "  <tbody>\n",
       "    <tr>\n",
       "      <th>0</th>\n",
       "      <td>475</td>\n",
       "      <td>1632668404835</td>\n",
       "      <td>Derek Carr</td>\n",
       "      <td>OAK</td>\n",
       "      <td>Ice City USA</td>\n",
       "      <td>WAIVER ADDED</td>\n",
       "      <td>0</td>\n",
       "      <td>2021-09-26</td>\n",
       "    </tr>\n",
       "    <tr>\n",
       "      <th>1</th>\n",
       "      <td>442</td>\n",
       "      <td>1633273350814</td>\n",
       "      <td>Derek Carr</td>\n",
       "      <td>OAK</td>\n",
       "      <td>Ice City USA</td>\n",
       "      <td>DROPPED</td>\n",
       "      <td>0</td>\n",
       "      <td>2021-10-03</td>\n",
       "    </tr>\n",
       "    <tr>\n",
       "      <th>2</th>\n",
       "      <td>339</td>\n",
       "      <td>1634742162221</td>\n",
       "      <td>Derek Carr</td>\n",
       "      <td>OAK</td>\n",
       "      <td>Frankel's Cankles</td>\n",
       "      <td>WAIVER ADDED</td>\n",
       "      <td>20</td>\n",
       "      <td>2021-10-20</td>\n",
       "    </tr>\n",
       "    <tr>\n",
       "      <th>3</th>\n",
       "      <td>171</td>\n",
       "      <td>1637164901850</td>\n",
       "      <td>Derek Carr</td>\n",
       "      <td>OAK</td>\n",
       "      <td>Frankel's Cankles</td>\n",
       "      <td>DROPPED</td>\n",
       "      <td>0</td>\n",
       "      <td>2021-11-17</td>\n",
       "    </tr>\n",
       "    <tr>\n",
       "      <th>4</th>\n",
       "      <td>146</td>\n",
       "      <td>1637510518412</td>\n",
       "      <td>Derek Carr</td>\n",
       "      <td>OAK</td>\n",
       "      <td>Ice City USA</td>\n",
       "      <td>WAIVER ADDED</td>\n",
       "      <td>1</td>\n",
       "      <td>2021-11-21</td>\n",
       "    </tr>\n",
       "    <tr>\n",
       "      <th>5</th>\n",
       "      <td>142</td>\n",
       "      <td>1637769694518</td>\n",
       "      <td>Derek Carr</td>\n",
       "      <td>OAK</td>\n",
       "      <td>Ice City USA</td>\n",
       "      <td>DROPPED</td>\n",
       "      <td>0</td>\n",
       "      <td>2021-11-24</td>\n",
       "    </tr>\n",
       "    <tr>\n",
       "      <th>6</th>\n",
       "      <td>105</td>\n",
       "      <td>1638374410742</td>\n",
       "      <td>Derek Carr</td>\n",
       "      <td>OAK</td>\n",
       "      <td>Godwin's Memorial</td>\n",
       "      <td>WAIVER ADDED</td>\n",
       "      <td>1</td>\n",
       "      <td>2021-12-01</td>\n",
       "    </tr>\n",
       "  </tbody>\n",
       "</table>\n",
       "</div>"
      ],
      "text/plain": [
       "               index      Timestamp      Player ProTeam               Team  \\\n",
       "ordered_index                                                                \n",
       "0                475  1632668404835  Derek Carr     OAK       Ice City USA   \n",
       "1                442  1633273350814  Derek Carr     OAK       Ice City USA   \n",
       "2                339  1634742162221  Derek Carr     OAK  Frankel's Cankles   \n",
       "3                171  1637164901850  Derek Carr     OAK  Frankel's Cankles   \n",
       "4                146  1637510518412  Derek Carr     OAK       Ice City USA   \n",
       "5                142  1637769694518  Derek Carr     OAK       Ice City USA   \n",
       "6                105  1638374410742  Derek Carr     OAK  Godwin's Memorial   \n",
       "\n",
       "                     Action  Bid Amount ($) Action Timestamp  \n",
       "ordered_index                                                 \n",
       "0              WAIVER ADDED               0       2021-09-26  \n",
       "1                   DROPPED               0       2021-10-03  \n",
       "2              WAIVER ADDED              20       2021-10-20  \n",
       "3                   DROPPED               0       2021-11-17  \n",
       "4              WAIVER ADDED               1       2021-11-21  \n",
       "5                   DROPPED               0       2021-11-24  \n",
       "6              WAIVER ADDED               1       2021-12-01  "
      ]
     },
     "execution_count": 302,
     "metadata": {},
     "output_type": "execute_result"
    }
   ],
   "source": [
    "df_test_acq"
   ]
  },
  {
   "cell_type": "code",
   "execution_count": 47,
   "metadata": {},
   "outputs": [
    {
     "data": {
      "text/html": [
       "<div>\n",
       "<style scoped>\n",
       "    .dataframe tbody tr th:only-of-type {\n",
       "        vertical-align: middle;\n",
       "    }\n",
       "\n",
       "    .dataframe tbody tr th {\n",
       "        vertical-align: top;\n",
       "    }\n",
       "\n",
       "    .dataframe thead th {\n",
       "        text-align: right;\n",
       "    }\n",
       "</style>\n",
       "<table border=\"1\" class=\"dataframe\">\n",
       "  <thead>\n",
       "    <tr style=\"text-align: right;\">\n",
       "      <th></th>\n",
       "      <th>Timestamp</th>\n",
       "      <th>Player</th>\n",
       "      <th>ProTeam</th>\n",
       "      <th>Team</th>\n",
       "      <th>Action</th>\n",
       "      <th>Bid Amount ($)</th>\n",
       "    </tr>\n",
       "  </thead>\n",
       "  <tbody>\n",
       "    <tr>\n",
       "      <th>382</th>\n",
       "      <td>1634137253753</td>\n",
       "      <td>Jaylen Waddle</td>\n",
       "      <td>MIA</td>\n",
       "      <td>Ice City USA</td>\n",
       "      <td>DROPPED</td>\n",
       "      <td>0</td>\n",
       "    </tr>\n",
       "    <tr>\n",
       "      <th>359</th>\n",
       "      <td>1634742162221</td>\n",
       "      <td>Jaylen Waddle</td>\n",
       "      <td>MIA</td>\n",
       "      <td>Ice City USA</td>\n",
       "      <td>WAIVER ADDED</td>\n",
       "      <td>11</td>\n",
       "    </tr>\n",
       "  </tbody>\n",
       "</table>\n",
       "</div>"
      ],
      "text/plain": [
       "         Timestamp         Player ProTeam          Team        Action  \\\n",
       "382  1634137253753  Jaylen Waddle     MIA  Ice City USA       DROPPED   \n",
       "359  1634742162221  Jaylen Waddle     MIA  Ice City USA  WAIVER ADDED   \n",
       "\n",
       "     Bid Amount ($)  \n",
       "382               0  \n",
       "359              11  "
      ]
     },
     "execution_count": 47,
     "metadata": {},
     "output_type": "execute_result"
    }
   ],
   "source": [
    "df_test_acq.sort_values('Timestamp',ascending=True)"
   ]
  },
  {
   "cell_type": "code",
   "execution_count": 48,
   "metadata": {},
   "outputs": [],
   "source": [
    "date1=1631718152527\n",
    "d2=datetime.date.fromtimestamp(date1 / 1000.0)"
   ]
  },
  {
   "cell_type": "code",
   "execution_count": null,
   "metadata": {},
   "outputs": [],
   "source": []
  },
  {
   "cell_type": "code",
   "execution_count": null,
   "metadata": {},
   "outputs": [],
   "source": [
    "from datetime import datetime\n",
    "\n",
    "def days_between(d1, d2):\n",
    "    d1 = datetime.strptime(d1, \"%Y-%m-%d\")\n",
    "    d2 = datetime.strptime(d2, \"%Y-%m-%d\")\n",
    "    return abs((d2 - d1).days)"
   ]
  },
  {
   "cell_type": "code",
   "execution_count": 483,
   "metadata": {},
   "outputs": [
    {
     "data": {
      "text/html": [
       "<div>\n",
       "<style scoped>\n",
       "    .dataframe tbody tr th:only-of-type {\n",
       "        vertical-align: middle;\n",
       "    }\n",
       "\n",
       "    .dataframe tbody tr th {\n",
       "        vertical-align: top;\n",
       "    }\n",
       "\n",
       "    .dataframe thead th {\n",
       "        text-align: right;\n",
       "    }\n",
       "</style>\n",
       "<table border=\"1\" class=\"dataframe\">\n",
       "  <thead>\n",
       "    <tr style=\"text-align: right;\">\n",
       "      <th></th>\n",
       "      <th>Timestamp</th>\n",
       "      <th>Player</th>\n",
       "      <th>Acquired by</th>\n",
       "      <th>Action</th>\n",
       "      <th>Bid Amount ($)</th>\n",
       "    </tr>\n",
       "  </thead>\n",
       "  <tbody>\n",
       "    <tr>\n",
       "      <td>471</td>\n",
       "      <td>1631718152527</td>\n",
       "      <td>Elijah Mitchell</td>\n",
       "      <td>Fumble .</td>\n",
       "      <td>WAIVER ADDED</td>\n",
       "      <td>30</td>\n",
       "    </tr>\n",
       "  </tbody>\n",
       "</table>\n",
       "</div>"
      ],
      "text/plain": [
       "         Timestamp           Player Acquired by        Action  Bid Amount ($)\n",
       "471  1631718152527  Elijah Mitchell    Fumble .  WAIVER ADDED              30"
      ]
     },
     "execution_count": 483,
     "metadata": {},
     "output_type": "execute_result"
    }
   ],
   "source": [
    "df[df['Player'] == 'Elijah Mitchell']"
   ]
  },
  {
   "cell_type": "code",
   "execution_count": 484,
   "metadata": {},
   "outputs": [
    {
     "data": {
      "text/html": [
       "<div>\n",
       "<style scoped>\n",
       "    .dataframe tbody tr th:only-of-type {\n",
       "        vertical-align: middle;\n",
       "    }\n",
       "\n",
       "    .dataframe tbody tr th {\n",
       "        vertical-align: top;\n",
       "    }\n",
       "\n",
       "    .dataframe thead th {\n",
       "        text-align: right;\n",
       "    }\n",
       "</style>\n",
       "<table border=\"1\" class=\"dataframe\">\n",
       "  <thead>\n",
       "    <tr style=\"text-align: right;\">\n",
       "      <th></th>\n",
       "      <th>Timestamp</th>\n",
       "      <th>Player</th>\n",
       "      <th>Acquired by</th>\n",
       "      <th>Action</th>\n",
       "      <th>Bid Amount ($)</th>\n",
       "    </tr>\n",
       "  </thead>\n",
       "  <tbody>\n",
       "    <tr>\n",
       "      <td>247</td>\n",
       "      <td>1635087617904</td>\n",
       "      <td>Rondale Moore</td>\n",
       "      <td>More than a  Thielen</td>\n",
       "      <td>DROPPED</td>\n",
       "      <td>0</td>\n",
       "    </tr>\n",
       "    <tr>\n",
       "      <td>437</td>\n",
       "      <td>1632322823742</td>\n",
       "      <td>Rondale Moore</td>\n",
       "      <td>More than a  Thielen</td>\n",
       "      <td>WAIVER ADDED</td>\n",
       "      <td>28</td>\n",
       "    </tr>\n",
       "  </tbody>\n",
       "</table>\n",
       "</div>"
      ],
      "text/plain": [
       "         Timestamp         Player           Acquired by        Action  \\\n",
       "247  1635087617904  Rondale Moore  More than a  Thielen       DROPPED   \n",
       "437  1632322823742  Rondale Moore  More than a  Thielen  WAIVER ADDED   \n",
       "\n",
       "     Bid Amount ($)  \n",
       "247               0  \n",
       "437              28  "
      ]
     },
     "execution_count": 484,
     "metadata": {},
     "output_type": "execute_result"
    }
   ],
   "source": [
    "df[df['Player'] == 'Rondale Moore']"
   ]
  },
  {
   "cell_type": "code",
   "execution_count": 485,
   "metadata": {},
   "outputs": [
    {
     "data": {
      "text/plain": [
       "604671215"
      ]
     },
     "execution_count": 485,
     "metadata": {},
     "output_type": "execute_result"
    }
   ],
   "source": [
    "1632322823742-1631718152527"
   ]
  },
  {
   "cell_type": "code",
   "execution_count": 486,
   "metadata": {},
   "outputs": [
    {
     "data": {
      "text/html": [
       "<div>\n",
       "<style scoped>\n",
       "    .dataframe tbody tr th:only-of-type {\n",
       "        vertical-align: middle;\n",
       "    }\n",
       "\n",
       "    .dataframe tbody tr th {\n",
       "        vertical-align: top;\n",
       "    }\n",
       "\n",
       "    .dataframe thead th {\n",
       "        text-align: right;\n",
       "    }\n",
       "</style>\n",
       "<table border=\"1\" class=\"dataframe\">\n",
       "  <thead>\n",
       "    <tr style=\"text-align: right;\">\n",
       "      <th></th>\n",
       "      <th>Timestamp</th>\n",
       "      <th>Player</th>\n",
       "      <th>Acquired by</th>\n",
       "      <th>Action</th>\n",
       "      <th>Bid Amount ($)</th>\n",
       "    </tr>\n",
       "  </thead>\n",
       "  <tbody>\n",
       "    <tr>\n",
       "      <td>407</td>\n",
       "      <td>1632927624137</td>\n",
       "      <td>Chuba Hubbard</td>\n",
       "      <td>Sweetless in Seattle</td>\n",
       "      <td>WAIVER ADDED</td>\n",
       "      <td>33</td>\n",
       "    </tr>\n",
       "    <tr>\n",
       "      <td>478</td>\n",
       "      <td>1631718152527</td>\n",
       "      <td>Chuba Hubbard</td>\n",
       "      <td>Sweetless in Seattle</td>\n",
       "      <td>DROPPED</td>\n",
       "      <td>0</td>\n",
       "    </tr>\n",
       "  </tbody>\n",
       "</table>\n",
       "</div>"
      ],
      "text/plain": [
       "         Timestamp         Player           Acquired by        Action  \\\n",
       "407  1632927624137  Chuba Hubbard  Sweetless in Seattle  WAIVER ADDED   \n",
       "478  1631718152527  Chuba Hubbard  Sweetless in Seattle       DROPPED   \n",
       "\n",
       "     Bid Amount ($)  \n",
       "407              33  \n",
       "478               0  "
      ]
     },
     "execution_count": 486,
     "metadata": {},
     "output_type": "execute_result"
    }
   ],
   "source": [
    "df[df['Player'] == 'Chuba Hubbard']"
   ]
  },
  {
   "cell_type": "code",
   "execution_count": null,
   "metadata": {},
   "outputs": [],
   "source": []
  },
  {
   "cell_type": "code",
   "execution_count": 488,
   "metadata": {},
   "outputs": [
    {
     "data": {
      "text/plain": [
       "604800395"
      ]
     },
     "execution_count": 488,
     "metadata": {},
     "output_type": "execute_result"
    }
   ],
   "source": [
    "1632927624137-1632322823742"
   ]
  },
  {
   "cell_type": "code",
   "execution_count": 490,
   "metadata": {},
   "outputs": [
    {
     "data": {
      "text/html": [
       "<div>\n",
       "<style scoped>\n",
       "    .dataframe tbody tr th:only-of-type {\n",
       "        vertical-align: middle;\n",
       "    }\n",
       "\n",
       "    .dataframe tbody tr th {\n",
       "        vertical-align: top;\n",
       "    }\n",
       "\n",
       "    .dataframe thead th {\n",
       "        text-align: right;\n",
       "    }\n",
       "</style>\n",
       "<table border=\"1\" class=\"dataframe\">\n",
       "  <thead>\n",
       "    <tr style=\"text-align: right;\">\n",
       "      <th></th>\n",
       "      <th>Timestamp</th>\n",
       "      <th>Player</th>\n",
       "      <th>Acquired by</th>\n",
       "      <th>Action</th>\n",
       "      <th>Bid Amount ($)</th>\n",
       "    </tr>\n",
       "  </thead>\n",
       "  <tbody>\n",
       "    <tr>\n",
       "      <td>369</td>\n",
       "      <td>1633532560463</td>\n",
       "      <td>James Conner</td>\n",
       "      <td>Don't Ekele Me</td>\n",
       "      <td>WAIVER ADDED</td>\n",
       "      <td>21</td>\n",
       "    </tr>\n",
       "    <tr>\n",
       "      <td>425</td>\n",
       "      <td>1632322823742</td>\n",
       "      <td>James Conner</td>\n",
       "      <td>Repeat Donger</td>\n",
       "      <td>DROPPED</td>\n",
       "      <td>0</td>\n",
       "    </tr>\n",
       "  </tbody>\n",
       "</table>\n",
       "</div>"
      ],
      "text/plain": [
       "         Timestamp        Player     Acquired by        Action  Bid Amount ($)\n",
       "369  1633532560463  James Conner  Don't Ekele Me  WAIVER ADDED              21\n",
       "425  1632322823742  James Conner   Repeat Donger       DROPPED               0"
      ]
     },
     "execution_count": 490,
     "metadata": {},
     "output_type": "execute_result"
    }
   ],
   "source": [
    "df[df['Player'] == 'James Conner']"
   ]
  },
  {
   "cell_type": "code",
   "execution_count": 491,
   "metadata": {},
   "outputs": [
    {
     "data": {
      "text/plain": [
       "604936326"
      ]
     },
     "execution_count": 491,
     "metadata": {},
     "output_type": "execute_result"
    }
   ],
   "source": [
    "1633532560463-1632927624137"
   ]
  },
  {
   "cell_type": "code",
   "execution_count": null,
   "metadata": {},
   "outputs": [],
   "source": []
  },
  {
   "cell_type": "code",
   "execution_count": 481,
   "metadata": {},
   "outputs": [
    {
     "data": {
      "text/html": [
       "<div>\n",
       "<style scoped>\n",
       "    .dataframe tbody tr th:only-of-type {\n",
       "        vertical-align: middle;\n",
       "    }\n",
       "\n",
       "    .dataframe tbody tr th {\n",
       "        vertical-align: top;\n",
       "    }\n",
       "\n",
       "    .dataframe thead th {\n",
       "        text-align: right;\n",
       "    }\n",
       "</style>\n",
       "<table border=\"1\" class=\"dataframe\">\n",
       "  <thead>\n",
       "    <tr style=\"text-align: right;\">\n",
       "      <th></th>\n",
       "      <th>Timestamp</th>\n",
       "      <th>Player</th>\n",
       "      <th>Acquired by</th>\n",
       "      <th>Action</th>\n",
       "      <th>Bid Amount ($)</th>\n",
       "    </tr>\n",
       "  </thead>\n",
       "  <tbody>\n",
       "    <tr>\n",
       "      <td>498</td>\n",
       "      <td>1631286050932</td>\n",
       "      <td>Nyheim Hines</td>\n",
       "      <td>Ice City USA</td>\n",
       "      <td>DROPPED</td>\n",
       "      <td>0</td>\n",
       "    </tr>\n",
       "    <tr>\n",
       "      <td>499</td>\n",
       "      <td>1631286050932</td>\n",
       "      <td>Marvin Jones Jr.</td>\n",
       "      <td>Don't Ekele Me</td>\n",
       "      <td>WAIVER ADDED</td>\n",
       "      <td>0</td>\n",
       "    </tr>\n",
       "    <tr>\n",
       "      <td>500</td>\n",
       "      <td>1631286050932</td>\n",
       "      <td>Marquise Brown</td>\n",
       "      <td>Don't Ekele Me</td>\n",
       "      <td>DROPPED</td>\n",
       "      <td>0</td>\n",
       "    </tr>\n",
       "    <tr>\n",
       "      <td>501</td>\n",
       "      <td>1631286050932</td>\n",
       "      <td>Le'Veon Bell</td>\n",
       "      <td>Mostert's Monsters</td>\n",
       "      <td>WAIVER ADDED</td>\n",
       "      <td>10</td>\n",
       "    </tr>\n",
       "    <tr>\n",
       "      <td>502</td>\n",
       "      <td>1631199616099</td>\n",
       "      <td>Rodrigo Blankenship</td>\n",
       "      <td>Fumble .</td>\n",
       "      <td>DROPPED</td>\n",
       "      <td>0</td>\n",
       "    </tr>\n",
       "    <tr>\n",
       "      <td>503</td>\n",
       "      <td>1631199616099</td>\n",
       "      <td>T.Y. Hilton</td>\n",
       "      <td>Fumble .</td>\n",
       "      <td>WAIVER ADDED</td>\n",
       "      <td>1</td>\n",
       "    </tr>\n",
       "    <tr>\n",
       "      <td>504</td>\n",
       "      <td>1631199616099</td>\n",
       "      <td>Deshaun Watson</td>\n",
       "      <td>Frankel's Cankles</td>\n",
       "      <td>DROPPED</td>\n",
       "      <td>0</td>\n",
       "    </tr>\n",
       "    <tr>\n",
       "      <td>505</td>\n",
       "      <td>1631199616099</td>\n",
       "      <td>Trevor Lawrence</td>\n",
       "      <td>Frankel's Cankles</td>\n",
       "      <td>WAIVER ADDED</td>\n",
       "      <td>5</td>\n",
       "    </tr>\n",
       "    <tr>\n",
       "      <td>506</td>\n",
       "      <td>1631199616099</td>\n",
       "      <td>Marvin Jones Jr.</td>\n",
       "      <td>Dick Cheese</td>\n",
       "      <td>DROPPED</td>\n",
       "      <td>0</td>\n",
       "    </tr>\n",
       "    <tr>\n",
       "      <td>507</td>\n",
       "      <td>1631199616099</td>\n",
       "      <td>Tevin Coleman</td>\n",
       "      <td>Dick Cheese</td>\n",
       "      <td>WAIVER ADDED</td>\n",
       "      <td>0</td>\n",
       "    </tr>\n",
       "    <tr>\n",
       "      <td>508</td>\n",
       "      <td>1631199616099</td>\n",
       "      <td>Tony Pollard</td>\n",
       "      <td>Sweetless in Seattle</td>\n",
       "      <td>WAIVER ADDED</td>\n",
       "      <td>0</td>\n",
       "    </tr>\n",
       "    <tr>\n",
       "      <td>509</td>\n",
       "      <td>1631199616099</td>\n",
       "      <td>Vikings D/ST</td>\n",
       "      <td>Ice City USA</td>\n",
       "      <td>WAIVER ADDED</td>\n",
       "      <td>0</td>\n",
       "    </tr>\n",
       "  </tbody>\n",
       "</table>\n",
       "</div>"
      ],
      "text/plain": [
       "         Timestamp               Player           Acquired by        Action  \\\n",
       "498  1631286050932         Nyheim Hines          Ice City USA       DROPPED   \n",
       "499  1631286050932     Marvin Jones Jr.        Don't Ekele Me  WAIVER ADDED   \n",
       "500  1631286050932       Marquise Brown        Don't Ekele Me       DROPPED   \n",
       "501  1631286050932         Le'Veon Bell    Mostert's Monsters  WAIVER ADDED   \n",
       "502  1631199616099  Rodrigo Blankenship              Fumble .       DROPPED   \n",
       "503  1631199616099          T.Y. Hilton              Fumble .  WAIVER ADDED   \n",
       "504  1631199616099       Deshaun Watson     Frankel's Cankles       DROPPED   \n",
       "505  1631199616099      Trevor Lawrence     Frankel's Cankles  WAIVER ADDED   \n",
       "506  1631199616099     Marvin Jones Jr.           Dick Cheese       DROPPED   \n",
       "507  1631199616099        Tevin Coleman           Dick Cheese  WAIVER ADDED   \n",
       "508  1631199616099         Tony Pollard  Sweetless in Seattle  WAIVER ADDED   \n",
       "509  1631199616099         Vikings D/ST          Ice City USA  WAIVER ADDED   \n",
       "\n",
       "     Bid Amount ($)  \n",
       "498               0  \n",
       "499               0  \n",
       "500               0  \n",
       "501              10  \n",
       "502               0  \n",
       "503               1  \n",
       "504               0  \n",
       "505               5  \n",
       "506               0  \n",
       "507               0  \n",
       "508               0  \n",
       "509               0  "
      ]
     },
     "execution_count": 481,
     "metadata": {},
     "output_type": "execute_result"
    }
   ],
   "source": [
    "df.iloc[-13:-1]"
   ]
  },
  {
   "cell_type": "code",
   "execution_count": 475,
   "metadata": {},
   "outputs": [
    {
     "data": {
      "text/plain": [
       "Timestamp         1631199616099\n",
       "Player             Vikings D/ST\n",
       "Acquired by        Ice City USA\n",
       "Action             WAIVER ADDED\n",
       "Bid Amount ($)                0\n",
       "Name: 509, dtype: object"
      ]
     },
     "execution_count": 475,
     "metadata": {},
     "output_type": "execute_result"
    }
   ],
   "source": [
    "df.iloc[-2,:]"
   ]
  },
  {
   "cell_type": "code",
   "execution_count": null,
   "metadata": {},
   "outputs": [],
   "source": []
  },
  {
   "cell_type": "code",
   "execution_count": null,
   "metadata": {},
   "outputs": [],
   "source": [
    "# Bin by week using timestamp "
   ]
  },
  {
   "cell_type": "code",
   "execution_count": null,
   "metadata": {},
   "outputs": [],
   "source": []
  },
  {
   "cell_type": "code",
   "execution_count": 307,
   "metadata": {},
   "outputs": [],
   "source": [
    "df = df[df['Action'] == 'WAIVER ADDED']"
   ]
  },
  {
   "cell_type": "code",
   "execution_count": 308,
   "metadata": {},
   "outputs": [],
   "source": [
    "# df['Waiv']\n",
    "# df.sort_values(by=['Bid Amount ($)'],ascending=False).head(25)"
   ]
  },
  {
   "cell_type": "code",
   "execution_count": 309,
   "metadata": {},
   "outputs": [],
   "source": [
    "df.set_index('Player',inplace=True)"
   ]
  },
  {
   "cell_type": "code",
   "execution_count": 468,
   "metadata": {},
   "outputs": [
    {
     "data": {
      "text/plain": [
       "(161, 5)"
      ]
     },
     "execution_count": 468,
     "metadata": {},
     "output_type": "execute_result"
    }
   ],
   "source": [
    "df.shape"
   ]
  },
  {
   "cell_type": "code",
   "execution_count": 662,
   "metadata": {},
   "outputs": [
    {
     "data": {
      "text/html": [
       "<div>\n",
       "<style scoped>\n",
       "    .dataframe tbody tr th:only-of-type {\n",
       "        vertical-align: middle;\n",
       "    }\n",
       "\n",
       "    .dataframe tbody tr th {\n",
       "        vertical-align: top;\n",
       "    }\n",
       "\n",
       "    .dataframe thead th {\n",
       "        text-align: right;\n",
       "    }\n",
       "</style>\n",
       "<table border=\"1\" class=\"dataframe\">\n",
       "  <thead>\n",
       "    <tr style=\"text-align: right;\">\n",
       "      <th></th>\n",
       "      <th>Timestamp</th>\n",
       "      <th>Player</th>\n",
       "      <th>ProTeam</th>\n",
       "      <th>Acquired by</th>\n",
       "      <th>Action</th>\n",
       "      <th>Bid Amount ($)</th>\n",
       "    </tr>\n",
       "  </thead>\n",
       "  <tbody>\n",
       "    <tr>\n",
       "      <td>391</td>\n",
       "      <td>1633014025396</td>\n",
       "      <td>Hunter Renfrow</td>\n",
       "      <td>OAK</td>\n",
       "      <td>Mostert's Monsters</td>\n",
       "      <td>WAIVER ADDED</td>\n",
       "      <td>2</td>\n",
       "    </tr>\n",
       "  </tbody>\n",
       "</table>\n",
       "</div>"
      ],
      "text/plain": [
       "         Timestamp          Player ProTeam         Acquired by        Action  \\\n",
       "391  1633014025396  Hunter Renfrow     OAK  Mostert's Monsters  WAIVER ADDED   \n",
       "\n",
       "     Bid Amount ($)  \n",
       "391               2  "
      ]
     },
     "execution_count": 662,
     "metadata": {},
     "output_type": "execute_result"
    }
   ],
   "source": [
    "df[df['Player']=='Hunter Renfrow']"
   ]
  },
  {
   "cell_type": "code",
   "execution_count": 312,
   "metadata": {},
   "outputs": [],
   "source": [
    "df['Player1']=df.index"
   ]
  },
  {
   "cell_type": "code",
   "execution_count": 313,
   "metadata": {},
   "outputs": [
    {
     "data": {
      "text/plain": [
       "(252, 5)"
      ]
     },
     "execution_count": 313,
     "metadata": {},
     "output_type": "execute_result"
    }
   ],
   "source": [
    "df.shape"
   ]
  },
  {
   "cell_type": "code",
   "execution_count": 314,
   "metadata": {},
   "outputs": [],
   "source": [
    "# drop duplicates\n",
    "\n",
    "# df.sort_values(['Player', 'Timestamp']).drop_duplicates('Player', keep='last')\n",
    "\n",
    "df = df.sort_values('Timestamp').drop_duplicates(subset='Player1', keep='last')"
   ]
  },
  {
   "cell_type": "code",
   "execution_count": 317,
   "metadata": {},
   "outputs": [],
   "source": [
    "df.sort_values('Player1',inplace=True)"
   ]
  },
  {
   "cell_type": "code",
   "execution_count": 319,
   "metadata": {},
   "outputs": [
    {
     "data": {
      "text/plain": [
       "Timestamp                1632927624137\n",
       "Acquired by       Sweetless in Seattle\n",
       "Action                    WAIVER ADDED\n",
       "Bid Amount ($)                       8\n",
       "Player1                   Nyheim Hines\n",
       "Name: Nyheim Hines, dtype: object"
      ]
     },
     "execution_count": 319,
     "metadata": {},
     "output_type": "execute_result"
    }
   ],
   "source": [
    "df.loc['Nyheim Hines']"
   ]
  },
  {
   "cell_type": "code",
   "execution_count": 320,
   "metadata": {},
   "outputs": [
    {
     "data": {
      "text/plain": [
       "(161, 5)"
      ]
     },
     "execution_count": 320,
     "metadata": {},
     "output_type": "execute_result"
    }
   ],
   "source": [
    "df.shape"
   ]
  },
  {
   "cell_type": "markdown",
   "metadata": {},
   "source": [
    "## Get Draft Data"
   ]
  },
  {
   "cell_type": "code",
   "execution_count": 351,
   "metadata": {},
   "outputs": [
    {
     "data": {
      "text/html": [
       "<div>\n",
       "<style scoped>\n",
       "    .dataframe tbody tr th:only-of-type {\n",
       "        vertical-align: middle;\n",
       "    }\n",
       "\n",
       "    .dataframe tbody tr th {\n",
       "        vertical-align: top;\n",
       "    }\n",
       "\n",
       "    .dataframe thead th {\n",
       "        text-align: right;\n",
       "    }\n",
       "</style>\n",
       "<table border=\"1\" class=\"dataframe\">\n",
       "  <thead>\n",
       "    <tr style=\"text-align: right;\">\n",
       "      <th></th>\n",
       "      <th>Timestamp</th>\n",
       "      <th>Player</th>\n",
       "      <th>ProTeam</th>\n",
       "      <th>Team</th>\n",
       "      <th>Action</th>\n",
       "      <th>Bid Amount ($)</th>\n",
       "      <th>Action Timestamp</th>\n",
       "    </tr>\n",
       "  </thead>\n",
       "  <tbody>\n",
       "    <tr>\n",
       "      <th>574</th>\n",
       "      <td>1631199616099</td>\n",
       "      <td>Dolphins D/ST</td>\n",
       "      <td>MIA</td>\n",
       "      <td>Ice City USA</td>\n",
       "      <td>DROPPED</td>\n",
       "      <td>0</td>\n",
       "      <td>2021-09-09</td>\n",
       "    </tr>\n",
       "    <tr>\n",
       "      <th>566</th>\n",
       "      <td>1631199616099</td>\n",
       "      <td>Rodrigo Blankenship</td>\n",
       "      <td>IND</td>\n",
       "      <td>Fumble .</td>\n",
       "      <td>DROPPED</td>\n",
       "      <td>0</td>\n",
       "      <td>2021-09-09</td>\n",
       "    </tr>\n",
       "    <tr>\n",
       "      <th>567</th>\n",
       "      <td>1631199616099</td>\n",
       "      <td>T.Y. Hilton</td>\n",
       "      <td>IND</td>\n",
       "      <td>Fumble .</td>\n",
       "      <td>WAIVER ADDED</td>\n",
       "      <td>1</td>\n",
       "      <td>2021-09-09</td>\n",
       "    </tr>\n",
       "    <tr>\n",
       "      <th>568</th>\n",
       "      <td>1631199616099</td>\n",
       "      <td>Deshaun Watson</td>\n",
       "      <td>HOU</td>\n",
       "      <td>Frankel's Cankles</td>\n",
       "      <td>DROPPED</td>\n",
       "      <td>0</td>\n",
       "      <td>2021-09-09</td>\n",
       "    </tr>\n",
       "    <tr>\n",
       "      <th>573</th>\n",
       "      <td>1631199616099</td>\n",
       "      <td>Vikings D/ST</td>\n",
       "      <td>MIN</td>\n",
       "      <td>Ice City USA</td>\n",
       "      <td>WAIVER ADDED</td>\n",
       "      <td>0</td>\n",
       "      <td>2021-09-09</td>\n",
       "    </tr>\n",
       "  </tbody>\n",
       "</table>\n",
       "</div>"
      ],
      "text/plain": [
       "         Timestamp               Player ProTeam               Team  \\\n",
       "574  1631199616099        Dolphins D/ST     MIA       Ice City USA   \n",
       "566  1631199616099  Rodrigo Blankenship     IND           Fumble .   \n",
       "567  1631199616099          T.Y. Hilton     IND           Fumble .   \n",
       "568  1631199616099       Deshaun Watson     HOU  Frankel's Cankles   \n",
       "573  1631199616099         Vikings D/ST     MIN       Ice City USA   \n",
       "\n",
       "           Action  Bid Amount ($) Action Timestamp  \n",
       "574       DROPPED               0       2021-09-09  \n",
       "566       DROPPED               0       2021-09-09  \n",
       "567  WAIVER ADDED               1       2021-09-09  \n",
       "568       DROPPED               0       2021-09-09  \n",
       "573  WAIVER ADDED               0       2021-09-09  "
      ]
     },
     "execution_count": 351,
     "metadata": {},
     "output_type": "execute_result"
    }
   ],
   "source": [
    "df_acq.head()"
   ]
  },
  {
   "cell_type": "code",
   "execution_count": 438,
   "metadata": {},
   "outputs": [],
   "source": [
    "draft_ls = []\n",
    "for i in league.draft:\n",
    "    \n",
    "    team_id = i.team.team_name\n",
    "    player_id = i.playerName\n",
    "    bid_amount = i.bid_amount\n",
    "    action = 'DRAFT ADDED'\n",
    "    \n",
    "    draft_ls.append((player_id, team_id,action,bid_amount))\n",
    "\n",
    "df_draft = pd.DataFrame(draft_ls)\n",
    "  \n",
    "\n",
    "df_draft.columns = ['Player', 'Acquired by' , 'Action' , 'Bid Amount ($)']\n",
    "\n",
    "df_draft.set_index('Player',inplace=True)\n",
    "\n"
   ]
  },
  {
   "cell_type": "code",
   "execution_count": 439,
   "metadata": {},
   "outputs": [],
   "source": [
    "# allrosteredplayers = []\n",
    "# for team in league.teams:\n",
    "#     for player in team.roster:\n",
    "#         allrosteredplayers.append(player)"
   ]
  },
  {
   "cell_type": "markdown",
   "metadata": {},
   "source": [
    "## Get total points of rostered players Dataframe"
   ]
  },
  {
   "cell_type": "code",
   "execution_count": 440,
   "metadata": {},
   "outputs": [],
   "source": [
    "team = league.teams[0]\n",
    "player = team.roster[3]\n"
   ]
  },
  {
   "cell_type": "code",
   "execution_count": 441,
   "metadata": {},
   "outputs": [],
   "source": [
    "# First loop through all rosters, all players currently on teams, get stats\n",
    "\n",
    "\n",
    "# Second, loop through all free agents, get stats\n",
    "\n",
    "\n",
    "# concatenate to acquisitions dataframe"
   ]
  },
  {
   "cell_type": "code",
   "execution_count": 442,
   "metadata": {},
   "outputs": [],
   "source": [
    "rostered_players_ls = []\n",
    "for i in league.teams:\n",
    "    team_name = i.team_name\n",
    "    for player in i.roster:\n",
    "        player_name = player.name\n",
    "        player_pos = player.position\n",
    "        player_pro_team = player.proTeam\n",
    "        player_total_pts = player.total_points\n",
    "        player_tup = (player_name , player_pos, player_pro_team, player_total_pts , team_name)\n",
    "        rostered_players_ls.append(player_tup)"
   ]
  },
  {
   "cell_type": "code",
   "execution_count": 443,
   "metadata": {},
   "outputs": [],
   "source": [
    "df_rostered = pd.DataFrame(rostered_players_ls)\n",
    "col_ls = ['Player' , 'Position' , 'Pro Team', 'Total points', 'Current Team']\n",
    "df_rostered.columns = col_ls"
   ]
  },
  {
   "cell_type": "code",
   "execution_count": 444,
   "metadata": {},
   "outputs": [],
   "source": [
    "df_rostered.set_index('Player',inplace=True)"
   ]
  },
  {
   "cell_type": "code",
   "execution_count": 445,
   "metadata": {},
   "outputs": [],
   "source": [
    "team_a_ls = list(set(df_rostered['Pro Team'].tolist()))"
   ]
  },
  {
   "cell_type": "code",
   "execution_count": 446,
   "metadata": {},
   "outputs": [],
   "source": [
    "team_a_ls.sort()"
   ]
  },
  {
   "cell_type": "code",
   "execution_count": null,
   "metadata": {},
   "outputs": [],
   "source": []
  },
  {
   "cell_type": "code",
   "execution_count": 447,
   "metadata": {},
   "outputs": [
    {
     "data": {
      "text/plain": [
       "32"
      ]
     },
     "execution_count": 447,
     "metadata": {},
     "output_type": "execute_result"
    }
   ],
   "source": [
    "len(team_a_ls)"
   ]
  },
  {
   "cell_type": "code",
   "execution_count": 448,
   "metadata": {},
   "outputs": [
    {
     "data": {
      "text/html": [
       "<div>\n",
       "<style scoped>\n",
       "    .dataframe tbody tr th:only-of-type {\n",
       "        vertical-align: middle;\n",
       "    }\n",
       "\n",
       "    .dataframe tbody tr th {\n",
       "        vertical-align: top;\n",
       "    }\n",
       "\n",
       "    .dataframe thead th {\n",
       "        text-align: right;\n",
       "    }\n",
       "</style>\n",
       "<table border=\"1\" class=\"dataframe\">\n",
       "  <thead>\n",
       "    <tr style=\"text-align: right;\">\n",
       "      <th></th>\n",
       "      <th>Position</th>\n",
       "      <th>Pro Team</th>\n",
       "      <th>Total points</th>\n",
       "      <th>Current Team</th>\n",
       "    </tr>\n",
       "    <tr>\n",
       "      <th>Player</th>\n",
       "      <th></th>\n",
       "      <th></th>\n",
       "      <th></th>\n",
       "      <th></th>\n",
       "    </tr>\n",
       "  </thead>\n",
       "  <tbody>\n",
       "    <tr>\n",
       "      <th>Austin Ekeler</th>\n",
       "      <td>RB</td>\n",
       "      <td>LAC</td>\n",
       "      <td>263.7</td>\n",
       "      <td>Don't Ekele Me</td>\n",
       "    </tr>\n",
       "    <tr>\n",
       "      <th>George Kittle</th>\n",
       "      <td>TE</td>\n",
       "      <td>SF</td>\n",
       "      <td>155.0</td>\n",
       "      <td>Don't Ekele Me</td>\n",
       "    </tr>\n",
       "    <tr>\n",
       "      <th>Diontae Johnson</th>\n",
       "      <td>WR</td>\n",
       "      <td>PIT</td>\n",
       "      <td>187.1</td>\n",
       "      <td>Don't Ekele Me</td>\n",
       "    </tr>\n",
       "    <tr>\n",
       "      <th>Josh Allen</th>\n",
       "      <td>QB</td>\n",
       "      <td>BUF</td>\n",
       "      <td>325.7</td>\n",
       "      <td>Don't Ekele Me</td>\n",
       "    </tr>\n",
       "    <tr>\n",
       "      <th>Brandin Cooks</th>\n",
       "      <td>WR</td>\n",
       "      <td>HOU</td>\n",
       "      <td>166.6</td>\n",
       "      <td>Don't Ekele Me</td>\n",
       "    </tr>\n",
       "  </tbody>\n",
       "</table>\n",
       "</div>"
      ],
      "text/plain": [
       "                Position Pro Team  Total points    Current Team\n",
       "Player                                                         \n",
       "Austin Ekeler         RB      LAC         263.7  Don't Ekele Me\n",
       "George Kittle         TE       SF         155.0  Don't Ekele Me\n",
       "Diontae Johnson       WR      PIT         187.1  Don't Ekele Me\n",
       "Josh Allen            QB      BUF         325.7  Don't Ekele Me\n",
       "Brandin Cooks         WR      HOU         166.6  Don't Ekele Me"
      ]
     },
     "execution_count": 448,
     "metadata": {},
     "output_type": "execute_result"
    }
   ],
   "source": [
    "df_rostered.head()"
   ]
  },
  {
   "cell_type": "code",
   "execution_count": 449,
   "metadata": {},
   "outputs": [],
   "source": [
    "df_f1 = pd.concat([df,df_rostered],axis=0,join=\"inner\")"
   ]
  },
  {
   "cell_type": "code",
   "execution_count": 450,
   "metadata": {},
   "outputs": [
    {
     "data": {
      "text/plain": [
       "(732, 0)"
      ]
     },
     "execution_count": 450,
     "metadata": {},
     "output_type": "execute_result"
    }
   ],
   "source": [
    "df_f1.shape"
   ]
  },
  {
   "cell_type": "code",
   "execution_count": 451,
   "metadata": {},
   "outputs": [
    {
     "data": {
      "text/html": [
       "<div>\n",
       "<style scoped>\n",
       "    .dataframe tbody tr th:only-of-type {\n",
       "        vertical-align: middle;\n",
       "    }\n",
       "\n",
       "    .dataframe tbody tr th {\n",
       "        vertical-align: top;\n",
       "    }\n",
       "\n",
       "    .dataframe thead th {\n",
       "        text-align: right;\n",
       "    }\n",
       "</style>\n",
       "<table border=\"1\" class=\"dataframe\">\n",
       "  <thead>\n",
       "    <tr style=\"text-align: right;\">\n",
       "      <th></th>\n",
       "    </tr>\n",
       "  </thead>\n",
       "  <tbody>\n",
       "    <tr>\n",
       "      <th>0</th>\n",
       "    </tr>\n",
       "    <tr>\n",
       "      <th>1</th>\n",
       "    </tr>\n",
       "    <tr>\n",
       "      <th>2</th>\n",
       "    </tr>\n",
       "    <tr>\n",
       "      <th>3</th>\n",
       "    </tr>\n",
       "    <tr>\n",
       "      <th>4</th>\n",
       "    </tr>\n",
       "    <tr>\n",
       "      <th>...</th>\n",
       "    </tr>\n",
       "    <tr>\n",
       "      <th>Mike Gesicki</th>\n",
       "    </tr>\n",
       "    <tr>\n",
       "      <th>49ers D/ST</th>\n",
       "    </tr>\n",
       "    <tr>\n",
       "      <th>D'Onta Foreman</th>\n",
       "    </tr>\n",
       "    <tr>\n",
       "      <th>Packers D/ST</th>\n",
       "    </tr>\n",
       "    <tr>\n",
       "      <th>Jason Myers</th>\n",
       "    </tr>\n",
       "  </tbody>\n",
       "</table>\n",
       "<p>732 rows × 0 columns</p>\n",
       "</div>"
      ],
      "text/plain": [
       "Empty DataFrame\n",
       "Columns: []\n",
       "Index: [0, 1, 2, 3, 4, 5, 6, 7, 8, 9, 10, 11, 12, 13, 14, 15, 16, 17, 18, 19, 20, 21, 22, 23, 24, 25, 26, 27, 28, 29, 30, 31, 32, 33, 34, 35, 36, 37, 38, 39, 40, 41, 42, 43, 44, 45, 46, 47, 48, 49, 50, 51, 52, 53, 54, 55, 56, 57, 58, 59, 60, 61, 62, 63, 64, 65, 66, 67, 68, 69, 70, 71, 72, 73, 74, 75, 76, 77, 78, 79, 80, 81, 82, 83, 84, 85, 86, 87, 88, 89, 90, 91, 92, 93, 94, 95, 96, 97, 98, 99, ...]\n",
       "\n",
       "[732 rows x 0 columns]"
      ]
     },
     "execution_count": 451,
     "metadata": {},
     "output_type": "execute_result"
    }
   ],
   "source": [
    "df_f1"
   ]
  },
  {
   "cell_type": "code",
   "execution_count": null,
   "metadata": {},
   "outputs": [],
   "source": []
  },
  {
   "cell_type": "code",
   "execution_count": 452,
   "metadata": {},
   "outputs": [],
   "source": [
    "df_f2 = df_f1.dropna(how='any',axis=0)"
   ]
  },
  {
   "cell_type": "code",
   "execution_count": 453,
   "metadata": {
    "scrolled": true
   },
   "outputs": [
    {
     "data": {
      "text/html": [
       "<div>\n",
       "<style scoped>\n",
       "    .dataframe tbody tr th:only-of-type {\n",
       "        vertical-align: middle;\n",
       "    }\n",
       "\n",
       "    .dataframe tbody tr th {\n",
       "        vertical-align: top;\n",
       "    }\n",
       "\n",
       "    .dataframe thead th {\n",
       "        text-align: right;\n",
       "    }\n",
       "</style>\n",
       "<table border=\"1\" class=\"dataframe\">\n",
       "  <thead>\n",
       "    <tr style=\"text-align: right;\">\n",
       "      <th></th>\n",
       "    </tr>\n",
       "  </thead>\n",
       "  <tbody>\n",
       "    <tr>\n",
       "      <th>0</th>\n",
       "    </tr>\n",
       "    <tr>\n",
       "      <th>1</th>\n",
       "    </tr>\n",
       "    <tr>\n",
       "      <th>2</th>\n",
       "    </tr>\n",
       "    <tr>\n",
       "      <th>3</th>\n",
       "    </tr>\n",
       "    <tr>\n",
       "      <th>4</th>\n",
       "    </tr>\n",
       "    <tr>\n",
       "      <th>...</th>\n",
       "    </tr>\n",
       "    <tr>\n",
       "      <th>Mike Gesicki</th>\n",
       "    </tr>\n",
       "    <tr>\n",
       "      <th>49ers D/ST</th>\n",
       "    </tr>\n",
       "    <tr>\n",
       "      <th>D'Onta Foreman</th>\n",
       "    </tr>\n",
       "    <tr>\n",
       "      <th>Packers D/ST</th>\n",
       "    </tr>\n",
       "    <tr>\n",
       "      <th>Jason Myers</th>\n",
       "    </tr>\n",
       "  </tbody>\n",
       "</table>\n",
       "<p>732 rows × 0 columns</p>\n",
       "</div>"
      ],
      "text/plain": [
       "Empty DataFrame\n",
       "Columns: []\n",
       "Index: [0, 1, 2, 3, 4, 5, 6, 7, 8, 9, 10, 11, 12, 13, 14, 15, 16, 17, 18, 19, 20, 21, 22, 23, 24, 25, 26, 27, 28, 29, 30, 31, 32, 33, 34, 35, 36, 37, 38, 39, 40, 41, 42, 43, 44, 45, 46, 47, 48, 49, 50, 51, 52, 53, 54, 55, 56, 57, 58, 59, 60, 61, 62, 63, 64, 65, 66, 67, 68, 69, 70, 71, 72, 73, 74, 75, 76, 77, 78, 79, 80, 81, 82, 83, 84, 85, 86, 87, 88, 89, 90, 91, 92, 93, 94, 95, 96, 97, 98, 99, ...]\n",
       "\n",
       "[732 rows x 0 columns]"
      ]
     },
     "execution_count": 453,
     "metadata": {},
     "output_type": "execute_result"
    }
   ],
   "source": [
    "df_f2"
   ]
  },
  {
   "cell_type": "markdown",
   "metadata": {},
   "source": [
    "## Get total points of free agent players Dataframe"
   ]
  },
  {
   "cell_type": "code",
   "execution_count": 497,
   "metadata": {},
   "outputs": [],
   "source": [
    "free_agent_ls = league.free_agents(size=1000)\n",
    "\n",
    "FA_players_ls = []\n",
    "name_ls = []\n",
    "for i in free_agent_ls:\n",
    "    team_name = 'Free agent'\n",
    "    player_name = i.name\n",
    "    player_pos = i.position\n",
    "    player_pro_team = i.proTeam\n",
    "    player_total_pts = i.total_points\n",
    "\n",
    "    player_tup = (player_name , player_pos, player_pro_team, player_total_pts , team_name)\n",
    "    FA_players_ls.append(player_tup)\n",
    "    \n",
    "    name_ls.append(player_name)\n",
    "\n",
    "\n",
    "df_FA = pd.DataFrame(FA_players_ls)\n",
    "col_ls = ['Player' , 'Position' , 'Pro Team', 'Total points', 'Current Team']\n",
    "df_FA.columns=col_ls\n",
    "df_FA.set_index('Player',inplace=True)\n",
    "\n",
    "# all player stats dataframe, including all Free Agents\n",
    "df_player_stats = pd.concat([df_rostered,df_FA],axis=0)\n",
    "\n",
    "df_draft_acq = df_draft.join(df_player_stats)\n",
    "\n",
    "df_draft_acq['Player'] = df_draft_acq.index\n",
    "\n",
    "col_new = ['Player' , 'Pro Team' , 'Acquired by' , 'Action' , 'Bid Amount ($)']\n",
    "\n",
    "df_draft_acq = df_draft_acq[col_new]\n",
    "\n",
    "df_draft_acq.rename(columns = {'Pro Team' : 'ProTeam' , 'Acquired by' : 'Team'} , inplace = True)\n",
    "\n",
    "draft_date_str = '8 Sep 2021'\n",
    "\n",
    "draft_date = datetime.strptime(draft_date_str, '%d %b %Y').date()\n",
    "\n",
    "draft_date_ms = int(datetime.strptime(draft_date_str, '%d %b %Y').timestamp() * 1000)\n",
    "\n",
    "df_draft_acq['Action Timestamp'] = draft_date\n",
    "\n",
    "df_draft_acq['Timestamp'] = draft_date_ms\n",
    "\n",
    "df_acq_final = pd.concat([df_draft_acq , df_acq] , axis=0)\n",
    "\n",
    "df_acq_final.reset_index(inplace=True)\n",
    "\n",
    "df_acq_final.drop('index' , inplace=True ,axis=1)"
   ]
  },
  {
   "cell_type": "code",
   "execution_count": 894,
   "metadata": {},
   "outputs": [
    {
     "data": {
      "text/html": [
       "<div>\n",
       "<style scoped>\n",
       "    .dataframe tbody tr th:only-of-type {\n",
       "        vertical-align: middle;\n",
       "    }\n",
       "\n",
       "    .dataframe tbody tr th {\n",
       "        vertical-align: top;\n",
       "    }\n",
       "\n",
       "    .dataframe thead th {\n",
       "        text-align: right;\n",
       "    }\n",
       "</style>\n",
       "<table border=\"1\" class=\"dataframe\">\n",
       "  <thead>\n",
       "    <tr style=\"text-align: right;\">\n",
       "      <th></th>\n",
       "      <th>Position</th>\n",
       "      <th>Pro Team</th>\n",
       "      <th>Total points</th>\n",
       "      <th>Current Team</th>\n",
       "    </tr>\n",
       "    <tr>\n",
       "      <th>Player</th>\n",
       "      <th></th>\n",
       "      <th></th>\n",
       "      <th></th>\n",
       "      <th></th>\n",
       "    </tr>\n",
       "  </thead>\n",
       "  <tbody>\n",
       "    <tr>\n",
       "      <th>Austin Ekeler</th>\n",
       "      <td>RB</td>\n",
       "      <td>LAC</td>\n",
       "      <td>263.7</td>\n",
       "      <td>Don't Ekele Me</td>\n",
       "    </tr>\n",
       "    <tr>\n",
       "      <th>George Kittle</th>\n",
       "      <td>TE</td>\n",
       "      <td>SF</td>\n",
       "      <td>155.0</td>\n",
       "      <td>Don't Ekele Me</td>\n",
       "    </tr>\n",
       "    <tr>\n",
       "      <th>Diontae Johnson</th>\n",
       "      <td>WR</td>\n",
       "      <td>PIT</td>\n",
       "      <td>187.1</td>\n",
       "      <td>Don't Ekele Me</td>\n",
       "    </tr>\n",
       "    <tr>\n",
       "      <th>Josh Allen</th>\n",
       "      <td>QB</td>\n",
       "      <td>BUF</td>\n",
       "      <td>325.7</td>\n",
       "      <td>Don't Ekele Me</td>\n",
       "    </tr>\n",
       "    <tr>\n",
       "      <th>Brandin Cooks</th>\n",
       "      <td>WR</td>\n",
       "      <td>HOU</td>\n",
       "      <td>166.6</td>\n",
       "      <td>Don't Ekele Me</td>\n",
       "    </tr>\n",
       "    <tr>\n",
       "      <th>...</th>\n",
       "      <td>...</td>\n",
       "      <td>...</td>\n",
       "      <td>...</td>\n",
       "      <td>...</td>\n",
       "    </tr>\n",
       "    <tr>\n",
       "      <th>D.J. Montgomery</th>\n",
       "      <td>WR</td>\n",
       "      <td>NYJ</td>\n",
       "      <td>5.1</td>\n",
       "      <td>Free agent</td>\n",
       "    </tr>\n",
       "    <tr>\n",
       "      <th>Ian Bunting</th>\n",
       "      <td>TE</td>\n",
       "      <td>DAL</td>\n",
       "      <td>0.0</td>\n",
       "      <td>Free agent</td>\n",
       "    </tr>\n",
       "    <tr>\n",
       "      <th>Jordan Veasy</th>\n",
       "      <td>WR</td>\n",
       "      <td>HOU</td>\n",
       "      <td>0.0</td>\n",
       "      <td>Free agent</td>\n",
       "    </tr>\n",
       "    <tr>\n",
       "      <th>Myron Mitchell</th>\n",
       "      <td>WR</td>\n",
       "      <td>MIN</td>\n",
       "      <td>0.0</td>\n",
       "      <td>Free agent</td>\n",
       "    </tr>\n",
       "    <tr>\n",
       "      <th>Dominik Eberle</th>\n",
       "      <td>K</td>\n",
       "      <td>HOU</td>\n",
       "      <td>0.0</td>\n",
       "      <td>Free agent</td>\n",
       "    </tr>\n",
       "  </tbody>\n",
       "</table>\n",
       "<p>1107 rows × 4 columns</p>\n",
       "</div>"
      ],
      "text/plain": [
       "                Position Pro Team  Total points    Current Team\n",
       "Player                                                         \n",
       "Austin Ekeler         RB      LAC         263.7  Don't Ekele Me\n",
       "George Kittle         TE       SF         155.0  Don't Ekele Me\n",
       "Diontae Johnson       WR      PIT         187.1  Don't Ekele Me\n",
       "Josh Allen            QB      BUF         325.7  Don't Ekele Me\n",
       "Brandin Cooks         WR      HOU         166.6  Don't Ekele Me\n",
       "...                  ...      ...           ...             ...\n",
       "D.J. Montgomery       WR      NYJ           5.1      Free agent\n",
       "Ian Bunting           TE      DAL           0.0      Free agent\n",
       "Jordan Veasy          WR      HOU           0.0      Free agent\n",
       "Myron Mitchell        WR      MIN           0.0      Free agent\n",
       "Dominik Eberle         K      HOU           0.0      Free agent\n",
       "\n",
       "[1107 rows x 4 columns]"
      ]
     },
     "execution_count": 894,
     "metadata": {},
     "output_type": "execute_result"
    }
   ],
   "source": [
    "df_player_stats"
   ]
  },
  {
   "cell_type": "code",
   "execution_count": 609,
   "metadata": {},
   "outputs": [],
   "source": [
    "df_acq_final1 = df_acq_final[~(df_acq_final['ProTeam'] == 'None')]"
   ]
  },
  {
   "cell_type": "markdown",
   "metadata": {},
   "source": [
    "## Get player points from every week's matchup"
   ]
  },
  {
   "cell_type": "code",
   "execution_count": 741,
   "metadata": {},
   "outputs": [],
   "source": [
    "wk_ls = [i+1 for i in range(18)]\n",
    "\n",
    "idx_ls = [i for i in range(18)]\n",
    "\n",
    "dict_weeks_conv = dict(zip(idx_ls,wk_ls))"
   ]
  },
  {
   "cell_type": "code",
   "execution_count": 768,
   "metadata": {},
   "outputs": [],
   "source": [
    "current_week = league.current_week"
   ]
  },
  {
   "cell_type": "code",
   "execution_count": 769,
   "metadata": {},
   "outputs": [],
   "source": [
    "# construct a reverse dictionary to map to box_score index\n",
    "wk_ls = [i+1 for i in range(current_week)]"
   ]
  },
  {
   "cell_type": "code",
   "execution_count": 880,
   "metadata": {},
   "outputs": [],
   "source": [
    "wk=5\n",
    "p = league.box_scores(wk)[0].away_lineup[0]"
   ]
  },
  {
   "cell_type": "code",
   "execution_count": 881,
   "metadata": {},
   "outputs": [
    {
     "data": {
      "text/plain": [
       "'RB'"
      ]
     },
     "execution_count": 881,
     "metadata": {},
     "output_type": "execute_result"
    }
   ],
   "source": [
    "p.position"
   ]
  },
  {
   "cell_type": "code",
   "execution_count": 804,
   "metadata": {},
   "outputs": [],
   "source": [
    "# Build dataframe of index = player - week, columns = ['Player' , 'Week' , 'Total points']\n",
    "\n",
    "df_player_box_scores = pd.DataFrame(data=[], columns = ['Player' , 'Week' , 'Team' , 'Total points'])\n",
    "wk = 5\n",
    "n = 0\n",
    "for matchup in league.box_scores(wk):\n",
    "    team_name_p = matchup.away_team.team_name\n",
    "    team_name_q = matchup.home_team.team_name\n",
    "\n",
    "    for p in matchup.away_lineup:\n",
    "        n += 1\n",
    "        df_player_box_scores.loc[n,'Player'] = p.name\n",
    "        df_player_box_scores.loc[n,'Position'] = p.position\n",
    "        df_player_box_scores.loc[n,'Week'] = wk\n",
    "        df_player_box_scores.loc[n,'Team'] = team_name_p\n",
    "        df_player_box_scores.loc[n,'Total points'] = p.points\n",
    "    \n",
    "    for q in matchup.home_lineup:\n",
    "        n += 1\n",
    "        df_player_box_scores.loc[n,'Player'] = q.name\n",
    "        df_player_box_scores.loc[n,'Position'] = q.position\n",
    "        df_player_box_scores.loc[n,'Week'] = wk\n",
    "        df_player_box_scores.loc[n,'Team'] = team_name_q\n",
    "        df_player_box_scores.loc[n,'Total points'] = q.points"
   ]
  },
  {
   "cell_type": "code",
   "execution_count": 840,
   "metadata": {},
   "outputs": [
    {
     "data": {
      "text/plain": [
       "(2569, 4)"
      ]
     },
     "execution_count": 840,
     "metadata": {},
     "output_type": "execute_result"
    }
   ],
   "source": [
    "df_player_box_scores.shape"
   ]
  },
  {
   "cell_type": "code",
   "execution_count": 884,
   "metadata": {},
   "outputs": [],
   "source": [
    "df_player_box_scores = pd.DataFrame(data=[], columns = ['Player' , 'Position' , 'Week' , 'Team' , 'Total points'])\n",
    "\n",
    "n = 0\n",
    "\n",
    "for wk in wk_ls:\n",
    "    for matchup in league.box_scores(wk):\n",
    "        if matchup.away_team == 0:\n",
    "            team_name_q = matchup.home_team.team_name\n",
    "            for q in matchup.home_lineup:\n",
    "                n += 1\n",
    "                df_player_box_scores.loc[n,'Player'] = q.name\n",
    "                df_player_box_scores.loc[n,'Position'] = q.position\n",
    "                df_player_box_scores.loc[n,'Week'] = wk\n",
    "                df_player_box_scores.loc[n,'Team'] = team_name_q\n",
    "                df_player_box_scores.loc[n,'Total points'] = q.points\n",
    "                \n",
    "        else:       \n",
    "            team_name_p = matchup.away_team.team_name\n",
    "            team_name_q = matchup.home_team.team_name\n",
    "\n",
    "            for p in matchup.away_lineup:\n",
    "                n += 1\n",
    "                df_player_box_scores.loc[n,'Player'] = p.name\n",
    "                df_player_box_scores.loc[n,'Position'] = p.position\n",
    "                df_player_box_scores.loc[n,'Week'] = wk\n",
    "                df_player_box_scores.loc[n,'Team'] = team_name_p\n",
    "                df_player_box_scores.loc[n,'Total points'] = p.points\n",
    "\n",
    "            for q in matchup.home_lineup:\n",
    "                n += 1\n",
    "                df_player_box_scores.loc[n,'Player'] = q.name\n",
    "                df_player_box_scores.loc[n,'Position'] = q.position\n",
    "                df_player_box_scores.loc[n,'Week'] = wk\n",
    "                df_player_box_scores.loc[n,'Team'] = team_name_q\n",
    "                df_player_box_scores.loc[n,'Total points'] = q.points\n",
    "            "
   ]
  },
  {
   "cell_type": "code",
   "execution_count": 843,
   "metadata": {},
   "outputs": [],
   "source": [
    "# df_player_box_scores[df_player_box_scores['Player'].str.contains('Josh Allen')]"
   ]
  },
  {
   "cell_type": "code",
   "execution_count": 821,
   "metadata": {},
   "outputs": [
    {
     "data": {
      "text/html": [
       "<div>\n",
       "<style scoped>\n",
       "    .dataframe tbody tr th:only-of-type {\n",
       "        vertical-align: middle;\n",
       "    }\n",
       "\n",
       "    .dataframe tbody tr th {\n",
       "        vertical-align: top;\n",
       "    }\n",
       "\n",
       "    .dataframe thead th {\n",
       "        text-align: right;\n",
       "    }\n",
       "</style>\n",
       "<table border=\"1\" class=\"dataframe\">\n",
       "  <thead>\n",
       "    <tr style=\"text-align: right;\">\n",
       "      <th></th>\n",
       "      <th>Player</th>\n",
       "      <th>Week</th>\n",
       "      <th>Team</th>\n",
       "      <th>Total points</th>\n",
       "    </tr>\n",
       "  </thead>\n",
       "  <tbody>\n",
       "    <tr>\n",
       "      <th>439</th>\n",
       "      <td>Derek Carr</td>\n",
       "      <td>3</td>\n",
       "      <td>Ice City USA</td>\n",
       "      <td>21.2</td>\n",
       "    </tr>\n",
       "  </tbody>\n",
       "</table>\n",
       "</div>"
      ],
      "text/plain": [
       "         Player Week          Team Total points\n",
       "439  Derek Carr    3  Ice City USA         21.2"
      ]
     },
     "execution_count": 821,
     "metadata": {},
     "output_type": "execute_result"
    }
   ],
   "source": [
    "df_player_box_scores[(df_player_box_scores['Week'].isin([3])) & (df_player_box_scores['Player'] == 'Derek Carr')]"
   ]
  },
  {
   "cell_type": "code",
   "execution_count": 859,
   "metadata": {},
   "outputs": [
    {
     "data": {
      "text/plain": [
       "(2596, 4)"
      ]
     },
     "execution_count": 859,
     "metadata": {},
     "output_type": "execute_result"
    }
   ],
   "source": [
    "df_player_box_scores.shape"
   ]
  },
  {
   "cell_type": "markdown",
   "metadata": {},
   "source": [
    "## Map acquisition data to NFL schedule info, create Stints Dataframe"
   ]
  },
  {
   "cell_type": "code",
   "execution_count": 922,
   "metadata": {},
   "outputs": [],
   "source": [
    "def get_stint_info(proteam, df_test_acq , df_proteam_schedules_one_team , n , idx , is_current):\n",
    "    \n",
    "    # get start and end dates d1 and d2          \n",
    "    d1 = df_test_acq.loc[idx , 'Action Timestamp']\n",
    "    action1 = df_test_acq.loc[idx ,'Action']\n",
    "    \n",
    "    # If player is currently on a fantasy team\n",
    "    if is_current:\n",
    "        d2 = date.today().date()\n",
    "        \n",
    "    else:\n",
    "        d2 = df_test_acq.loc[idx+1 , 'Action Timestamp']\n",
    "        \n",
    "    bid_amount = df_test_acq.loc[idx , 'Bid Amount ($)']\n",
    "\n",
    "    weeks_bool = (df_proteam_schedules_one_team['Game Date'] >= d1) & (df_proteam_schedules_one_team['Game Date'] < d2)\n",
    "    stint_wks_ls = df_proteam_schedules_one_team[weeks_bool]['Week'].tolist()  \n",
    "\n",
    "\n",
    "    df_stints.loc[n ,'Stint (wks)' ] = stint_wks_ls\n",
    "\n",
    "    df_stints.loc[n , 'Player'] = player_test\n",
    "\n",
    "    df_stints.loc[n , 'ProTeam'] = proteam\n",
    "    df_stints.loc[n , 'Team'] = df_test_acq.loc[idx , 'Team']\n",
    "    df_stints.loc[n, 'Action'] = action1.split(' ')[0]\n",
    "    df_stints.loc[n , 'Bid Amount ($)'] = bid_amount\n",
    "    \n",
    "    return df_stints\n",
    "    "
   ]
  },
  {
   "cell_type": "code",
   "execution_count": 923,
   "metadata": {},
   "outputs": [],
   "source": [
    "# define get_df_stints\n",
    "\n",
    "def get_df_stints(player_test , df_acq_final):\n",
    "    df_test_acq = df_acq_final[df_acq_final['Player'] == player_test]\n",
    "\n",
    "    df_test_acq.reset_index(inplace=True)\n",
    "\n",
    "    df_test_acq.index.name = 'ordered_index'\n",
    "    \n",
    "    proteam = df_test_acq.loc[0,'ProTeam']\n",
    "\n",
    "    # import datetime\n",
    "    # Convert microseconds to date\n",
    "\n",
    "    df_proteam_schedules_one_team = pd.DataFrame(data=df_proteam_schedules.loc[:,proteam])\n",
    "\n",
    "    df_proteam_schedules_one_team['Week'] = df_proteam_schedules_one_team.index\n",
    "\n",
    "    df_proteam_schedules_one_team.rename(columns = {proteam:'Game Date'} , inplace=True)\n",
    "\n",
    "    df_proteam_schedules_one_team = df_proteam_schedules_one_team[df_proteam_schedules_one_team['Game Date'] != 'BYE']\n",
    "\n",
    "    cols = ['Player' , 'ProTeam' , 'Team' , 'Action' , 'Bid Amount ($)' , 'Stint (wks)']\n",
    "\n",
    "    df_stints = pd.DataFrame(data=[] , columns = cols)\n",
    "\n",
    "    max_idx = df_test_acq.index[-1]\n",
    "\n",
    "    n = 0\n",
    "\n",
    "    for idx , row in df_test_acq.iterrows():\n",
    "\n",
    "        if idx < max_idx:\n",
    "            cond_1 = 'ADDED' in df_test_acq.loc[idx , 'Action']\n",
    "            cond_2 = 'DROPPED' in df_test_acq.loc[idx+1 , 'Action']\n",
    "\n",
    "            if cond_1 and cond_2:\n",
    "\n",
    "                n += 1            \n",
    "                df_stints = get_stint_info(proteam, df_test_acq , df_proteam_schedules_one_team , n , idx, \n",
    "                                          is_current = False)\n",
    "\n",
    "    # in case if the player is still on a team, get current stint:\n",
    "    if 'ADDED' in df_test_acq.loc[max_idx , 'Action']:\n",
    "        n = n+1\n",
    "        df_stints = get_stint_info(proteam, df_test_acq , df_proteam_schedules_one_team , n , max_idx, \n",
    "                                          is_current = True)\n",
    "        \n",
    "    return df_stints"
   ]
  },
  {
   "cell_type": "code",
   "execution_count": 924,
   "metadata": {},
   "outputs": [
    {
     "data": {
      "text/html": [
       "<div>\n",
       "<style scoped>\n",
       "    .dataframe tbody tr th:only-of-type {\n",
       "        vertical-align: middle;\n",
       "    }\n",
       "\n",
       "    .dataframe tbody tr th {\n",
       "        vertical-align: top;\n",
       "    }\n",
       "\n",
       "    .dataframe thead th {\n",
       "        text-align: right;\n",
       "    }\n",
       "</style>\n",
       "<table border=\"1\" class=\"dataframe\">\n",
       "  <thead>\n",
       "    <tr style=\"text-align: right;\">\n",
       "      <th></th>\n",
       "      <th>Player</th>\n",
       "      <th>ProTeam</th>\n",
       "      <th>Team</th>\n",
       "      <th>Action</th>\n",
       "      <th>Bid Amount ($)</th>\n",
       "      <th>Stint (wks)</th>\n",
       "    </tr>\n",
       "  </thead>\n",
       "  <tbody>\n",
       "    <tr>\n",
       "      <th>1</th>\n",
       "      <td>Derek Carr</td>\n",
       "      <td>OAK</td>\n",
       "      <td>Ice City USA</td>\n",
       "      <td>WAIVER</td>\n",
       "      <td>0</td>\n",
       "      <td>[3]</td>\n",
       "    </tr>\n",
       "    <tr>\n",
       "      <th>2</th>\n",
       "      <td>Derek Carr</td>\n",
       "      <td>OAK</td>\n",
       "      <td>Frankel's Cankles</td>\n",
       "      <td>WAIVER</td>\n",
       "      <td>20</td>\n",
       "      <td>[7, 9, 10]</td>\n",
       "    </tr>\n",
       "    <tr>\n",
       "      <th>3</th>\n",
       "      <td>Derek Carr</td>\n",
       "      <td>OAK</td>\n",
       "      <td>Ice City USA</td>\n",
       "      <td>WAIVER</td>\n",
       "      <td>1</td>\n",
       "      <td>[11]</td>\n",
       "    </tr>\n",
       "    <tr>\n",
       "      <th>4</th>\n",
       "      <td>Derek Carr</td>\n",
       "      <td>OAK</td>\n",
       "      <td>Godwin's Memorial</td>\n",
       "      <td>WAIVER</td>\n",
       "      <td>1</td>\n",
       "      <td>[13, 14, 15]</td>\n",
       "    </tr>\n",
       "  </tbody>\n",
       "</table>\n",
       "</div>"
      ],
      "text/plain": [
       "       Player ProTeam               Team  Action Bid Amount ($)   Stint (wks)\n",
       "1  Derek Carr     OAK       Ice City USA  WAIVER              0           [3]\n",
       "2  Derek Carr     OAK  Frankel's Cankles  WAIVER             20    [7, 9, 10]\n",
       "3  Derek Carr     OAK       Ice City USA  WAIVER              1          [11]\n",
       "4  Derek Carr     OAK  Godwin's Memorial  WAIVER              1  [13, 14, 15]"
      ]
     },
     "execution_count": 924,
     "metadata": {},
     "output_type": "execute_result"
    }
   ],
   "source": [
    "player_test = 'Derek Carr'\n",
    "\n",
    "df = get_df_stints(player_test , df_acq_final)\n",
    "\n",
    "df"
   ]
  },
  {
   "cell_type": "code",
   "execution_count": 925,
   "metadata": {},
   "outputs": [],
   "source": [
    "# get all players who have been involved in the fantasy league\n",
    "import datetime\n",
    "\n",
    "df_ls = []\n",
    "all_player_ls = list(set(df_acq_final1['Player'].tolist()))\n",
    "\n",
    "for player_test in all_player_ls:\n",
    "    df_stints = pd.DataFrame(data=[] , columns = cols)\n",
    "    df_stints = get_df_stints(player_test , df_acq_final1)\n",
    "    df_ls.append(df_stints)\n",
    "    "
   ]
  },
  {
   "cell_type": "code",
   "execution_count": 926,
   "metadata": {},
   "outputs": [],
   "source": [
    "df_stints_f = pd.concat(df_ls,axis=0)"
   ]
  },
  {
   "cell_type": "code",
   "execution_count": 927,
   "metadata": {},
   "outputs": [],
   "source": [
    "df_stints_f.reset_index(inplace=True)"
   ]
  },
  {
   "cell_type": "code",
   "execution_count": 928,
   "metadata": {},
   "outputs": [
    {
     "data": {
      "text/plain": [
       "(445, 7)"
      ]
     },
     "execution_count": 928,
     "metadata": {},
     "output_type": "execute_result"
    }
   ],
   "source": [
    "df_stints_f.shape"
   ]
  },
  {
   "cell_type": "code",
   "execution_count": 929,
   "metadata": {},
   "outputs": [
    {
     "data": {
      "text/html": [
       "<div>\n",
       "<style scoped>\n",
       "    .dataframe tbody tr th:only-of-type {\n",
       "        vertical-align: middle;\n",
       "    }\n",
       "\n",
       "    .dataframe tbody tr th {\n",
       "        vertical-align: top;\n",
       "    }\n",
       "\n",
       "    .dataframe thead th {\n",
       "        text-align: right;\n",
       "    }\n",
       "</style>\n",
       "<table border=\"1\" class=\"dataframe\">\n",
       "  <thead>\n",
       "    <tr style=\"text-align: right;\">\n",
       "      <th></th>\n",
       "      <th>index</th>\n",
       "      <th>Player</th>\n",
       "      <th>ProTeam</th>\n",
       "      <th>Team</th>\n",
       "      <th>Action</th>\n",
       "      <th>Bid Amount ($)</th>\n",
       "      <th>Stint (wks)</th>\n",
       "    </tr>\n",
       "  </thead>\n",
       "  <tbody>\n",
       "    <tr>\n",
       "      <th>0</th>\n",
       "      <td>1</td>\n",
       "      <td>Chris Carson</td>\n",
       "      <td>SEA</td>\n",
       "      <td>Tier 2 never felt so good</td>\n",
       "      <td>DRAFT</td>\n",
       "      <td>28</td>\n",
       "      <td>[1, 2, 3, 4, 5, 6, 7, 8, 10, 11]</td>\n",
       "    </tr>\n",
       "    <tr>\n",
       "      <th>1</th>\n",
       "      <td>1</td>\n",
       "      <td>Tee Higgins</td>\n",
       "      <td>CIN</td>\n",
       "      <td>Frankel's Cankles</td>\n",
       "      <td>DRAFT</td>\n",
       "      <td>16</td>\n",
       "      <td>[1, 2, 3, 4, 5, 6, 7, 8, 9, 11, 12, 13, 14, 15]</td>\n",
       "    </tr>\n",
       "    <tr>\n",
       "      <th>2</th>\n",
       "      <td>1</td>\n",
       "      <td>Bears D/ST</td>\n",
       "      <td>CHI</td>\n",
       "      <td>Fumble .</td>\n",
       "      <td>WAIVER</td>\n",
       "      <td>1</td>\n",
       "      <td>[4, 5, 6]</td>\n",
       "    </tr>\n",
       "    <tr>\n",
       "      <th>3</th>\n",
       "      <td>2</td>\n",
       "      <td>Bears D/ST</td>\n",
       "      <td>CHI</td>\n",
       "      <td>Dick Cheese</td>\n",
       "      <td>WAIVER</td>\n",
       "      <td>2</td>\n",
       "      <td>[12]</td>\n",
       "    </tr>\n",
       "    <tr>\n",
       "      <th>4</th>\n",
       "      <td>1</td>\n",
       "      <td>Chargers D/ST</td>\n",
       "      <td>LAC</td>\n",
       "      <td>Dick Cheese</td>\n",
       "      <td>WAIVER</td>\n",
       "      <td>1</td>\n",
       "      <td>[14, 15]</td>\n",
       "    </tr>\n",
       "  </tbody>\n",
       "</table>\n",
       "</div>"
      ],
      "text/plain": [
       "   index         Player ProTeam                       Team  Action  \\\n",
       "0      1   Chris Carson     SEA  Tier 2 never felt so good   DRAFT   \n",
       "1      1    Tee Higgins     CIN          Frankel's Cankles   DRAFT   \n",
       "2      1     Bears D/ST     CHI                   Fumble .  WAIVER   \n",
       "3      2     Bears D/ST     CHI                Dick Cheese  WAIVER   \n",
       "4      1  Chargers D/ST     LAC                Dick Cheese  WAIVER   \n",
       "\n",
       "  Bid Amount ($)                                      Stint (wks)  \n",
       "0             28                 [1, 2, 3, 4, 5, 6, 7, 8, 10, 11]  \n",
       "1             16  [1, 2, 3, 4, 5, 6, 7, 8, 9, 11, 12, 13, 14, 15]  \n",
       "2              1                                        [4, 5, 6]  \n",
       "3              2                                             [12]  \n",
       "4              1                                         [14, 15]  "
      ]
     },
     "execution_count": 929,
     "metadata": {},
     "output_type": "execute_result"
    }
   ],
   "source": [
    "df_stints_f.head()"
   ]
  },
  {
   "cell_type": "markdown",
   "metadata": {},
   "source": [
    "## Get total fantasy points scored into Stints Dataframe "
   ]
  },
  {
   "cell_type": "code",
   "execution_count": 930,
   "metadata": {},
   "outputs": [],
   "source": [
    "# df_stints_f[df_stints_f['Player'] == 'Derrick Henry']"
   ]
  },
  {
   "cell_type": "code",
   "execution_count": 950,
   "metadata": {},
   "outputs": [
    {
     "data": {
      "text/html": [
       "<div>\n",
       "<style scoped>\n",
       "    .dataframe tbody tr th:only-of-type {\n",
       "        vertical-align: middle;\n",
       "    }\n",
       "\n",
       "    .dataframe tbody tr th {\n",
       "        vertical-align: top;\n",
       "    }\n",
       "\n",
       "    .dataframe thead th {\n",
       "        text-align: right;\n",
       "    }\n",
       "</style>\n",
       "<table border=\"1\" class=\"dataframe\">\n",
       "  <thead>\n",
       "    <tr style=\"text-align: right;\">\n",
       "      <th></th>\n",
       "      <th>Player</th>\n",
       "      <th>Position</th>\n",
       "      <th>Week</th>\n",
       "      <th>Team</th>\n",
       "      <th>Total points</th>\n",
       "    </tr>\n",
       "  </thead>\n",
       "  <tbody>\n",
       "    <tr>\n",
       "      <th>2567</th>\n",
       "      <td>Amon-Ra St. Brown</td>\n",
       "      <td>WR</td>\n",
       "      <td>16</td>\n",
       "      <td>Tier 2 never felt so good</td>\n",
       "      <td>21.5</td>\n",
       "    </tr>\n",
       "  </tbody>\n",
       "</table>\n",
       "</div>"
      ],
      "text/plain": [
       "                 Player Position Week                       Team Total points\n",
       "2567  Amon-Ra St. Brown       WR   16  Tier 2 never felt so good         21.5"
      ]
     },
     "execution_count": 950,
     "metadata": {},
     "output_type": "execute_result"
    }
   ],
   "source": [
    "df_player_box_scores[df_player_box_scores['Player'].str.contains('Amon')]"
   ]
  },
  {
   "cell_type": "code",
   "execution_count": 951,
   "metadata": {},
   "outputs": [
    {
     "data": {
      "text/html": [
       "<div>\n",
       "<style scoped>\n",
       "    .dataframe tbody tr th:only-of-type {\n",
       "        vertical-align: middle;\n",
       "    }\n",
       "\n",
       "    .dataframe tbody tr th {\n",
       "        vertical-align: top;\n",
       "    }\n",
       "\n",
       "    .dataframe thead th {\n",
       "        text-align: right;\n",
       "    }\n",
       "</style>\n",
       "<table border=\"1\" class=\"dataframe\">\n",
       "  <thead>\n",
       "    <tr style=\"text-align: right;\">\n",
       "      <th></th>\n",
       "      <th>Player</th>\n",
       "      <th>Position</th>\n",
       "      <th>Team</th>\n",
       "      <th>ProTeam</th>\n",
       "      <th>Action</th>\n",
       "      <th>Bid Amount ($)</th>\n",
       "      <th>Stint (wks)</th>\n",
       "      <th>Total points</th>\n",
       "    </tr>\n",
       "    <tr>\n",
       "      <th>Stint</th>\n",
       "      <th></th>\n",
       "      <th></th>\n",
       "      <th></th>\n",
       "      <th></th>\n",
       "      <th></th>\n",
       "      <th></th>\n",
       "      <th></th>\n",
       "      <th></th>\n",
       "    </tr>\n",
       "  </thead>\n",
       "  <tbody>\n",
       "    <tr>\n",
       "      <th>408</th>\n",
       "      <td>Amon-Ra St. Brown</td>\n",
       "      <td>WR</td>\n",
       "      <td>Tier 2 never felt so good</td>\n",
       "      <td>DET</td>\n",
       "      <td>WAIVER</td>\n",
       "      <td>22</td>\n",
       "      <td>[]</td>\n",
       "      <td>0.0</td>\n",
       "    </tr>\n",
       "  </tbody>\n",
       "</table>\n",
       "</div>"
      ],
      "text/plain": [
       "                  Player Position                       Team ProTeam  Action  \\\n",
       "Stint                                                                          \n",
       "408    Amon-Ra St. Brown       WR  Tier 2 never felt so good     DET  WAIVER   \n",
       "\n",
       "      Bid Amount ($) Stint (wks)  Total points  \n",
       "Stint                                           \n",
       "408               22          []           0.0  "
      ]
     },
     "execution_count": 951,
     "metadata": {},
     "output_type": "execute_result"
    }
   ],
   "source": [
    "df_stints_f[df_stints_f['Player'].str.contains('Amon')]"
   ]
  },
  {
   "cell_type": "code",
   "execution_count": 932,
   "metadata": {},
   "outputs": [],
   "source": [
    "# inputs: Player name, stint in weeks, get total points from df_player_box_scores\n",
    "\n",
    "# player_test = 'Derrick Henry'\n",
    "# stint_wk_ls = [1, 2, 3, 4, 5, 6, 7, 8]\n",
    "\n",
    "# cond_a = df_player_box_scores['Player'] == player_test\n",
    "# cond_b = df_player_box_scores['Week'].isin(stint_wk_ls)\n",
    "\n",
    "# df_player_box_scores[cond_a & cond_b]['Total points'].sum()"
   ]
  },
  {
   "cell_type": "code",
   "execution_count": 933,
   "metadata": {},
   "outputs": [],
   "source": [
    "# Build position dict:\n",
    "ls1 = df_player_stats.index.tolist()\n",
    "ls2 = df_player_stats['Position'].tolist()\n",
    "\n",
    "position_dict = dict(zip(ls1,ls2))"
   ]
  },
  {
   "cell_type": "code",
   "execution_count": 934,
   "metadata": {},
   "outputs": [],
   "source": [
    "df_stints_f['Position'] = df_stints_f['Player'].map(position_dict)\n",
    "\n",
    "for idx, row in df_stints_f.iterrows():\n",
    "    player_test = row['Player']\n",
    "    stint_wk_ls = row['Stint (wks)']\n",
    "    \n",
    "    cond_a = df_player_box_scores['Player'] == player_test\n",
    "#     df_stints_f.loc[idx,'Position'] = df_player_box_scores[cond_a]['Position'].tolist()[0]\n",
    "\n",
    "    # if not an empty list\n",
    "    if stint_wk_ls:\n",
    "        cond_b = df_player_box_scores['Week'].isin(stint_wk_ls)\n",
    "\n",
    "        df_player_box_scores[cond_a & cond_b]['Total points'].sum()\n",
    "        df_stints_f.loc[idx,'Total points'] = df_player_box_scores[cond_a & cond_b]['Total points'].sum()\n",
    "        \n",
    "    else:\n",
    "        df_stints_f.loc[idx,'Total points'] = 0"
   ]
  },
  {
   "cell_type": "code",
   "execution_count": 935,
   "metadata": {},
   "outputs": [],
   "source": [
    "df_stints_f = df_stints_f.sort_values(by=['Total points'],ascending=False)"
   ]
  },
  {
   "cell_type": "code",
   "execution_count": 937,
   "metadata": {},
   "outputs": [],
   "source": [
    "df_stints_f.reset_index(inplace=True)"
   ]
  },
  {
   "cell_type": "code",
   "execution_count": 938,
   "metadata": {},
   "outputs": [],
   "source": [
    "df_stints_f= df_stints_f[['Player','Position','Team','ProTeam','Action','Bid Amount ($)', 'Stint (wks)', 'Total points']]"
   ]
  },
  {
   "cell_type": "code",
   "execution_count": 939,
   "metadata": {},
   "outputs": [],
   "source": [
    "df_stints_f.index.name = 'Stint'"
   ]
  },
  {
   "cell_type": "code",
   "execution_count": 940,
   "metadata": {},
   "outputs": [
    {
     "data": {
      "text/html": [
       "<div>\n",
       "<style scoped>\n",
       "    .dataframe tbody tr th:only-of-type {\n",
       "        vertical-align: middle;\n",
       "    }\n",
       "\n",
       "    .dataframe tbody tr th {\n",
       "        vertical-align: top;\n",
       "    }\n",
       "\n",
       "    .dataframe thead th {\n",
       "        text-align: right;\n",
       "    }\n",
       "</style>\n",
       "<table border=\"1\" class=\"dataframe\">\n",
       "  <thead>\n",
       "    <tr style=\"text-align: right;\">\n",
       "      <th></th>\n",
       "      <th>Player</th>\n",
       "      <th>Position</th>\n",
       "      <th>Team</th>\n",
       "      <th>ProTeam</th>\n",
       "      <th>Action</th>\n",
       "      <th>Bid Amount ($)</th>\n",
       "      <th>Stint (wks)</th>\n",
       "      <th>Total points</th>\n",
       "    </tr>\n",
       "    <tr>\n",
       "      <th>Stint</th>\n",
       "      <th></th>\n",
       "      <th></th>\n",
       "      <th></th>\n",
       "      <th></th>\n",
       "      <th></th>\n",
       "      <th></th>\n",
       "      <th></th>\n",
       "      <th></th>\n",
       "    </tr>\n",
       "  </thead>\n",
       "  <tbody>\n",
       "    <tr>\n",
       "      <th>0</th>\n",
       "      <td>Josh Allen</td>\n",
       "      <td>QB</td>\n",
       "      <td>Don't Ekele Me</td>\n",
       "      <td>BUF</td>\n",
       "      <td>DRAFT</td>\n",
       "      <td>13</td>\n",
       "      <td>[1, 2, 3, 4, 5, 6, 8, 9, 10, 11, 12, 13, 14, 15]</td>\n",
       "      <td>325.7</td>\n",
       "    </tr>\n",
       "    <tr>\n",
       "      <th>1</th>\n",
       "      <td>Jonathan Taylor</td>\n",
       "      <td>RB</td>\n",
       "      <td>Godwin's Memorial</td>\n",
       "      <td>IND</td>\n",
       "      <td>DRAFT</td>\n",
       "      <td>58</td>\n",
       "      <td>[1, 2, 3, 4, 5, 6, 7, 8, 9, 10, 11, 12, 13, 15...</td>\n",
       "      <td>324.2</td>\n",
       "    </tr>\n",
       "    <tr>\n",
       "      <th>2</th>\n",
       "      <td>Justin Herbert</td>\n",
       "      <td>QB</td>\n",
       "      <td>Frankel's Cankles</td>\n",
       "      <td>LAC</td>\n",
       "      <td>DRAFT</td>\n",
       "      <td>3</td>\n",
       "      <td>[1, 2, 3, 4, 5, 6, 8, 9, 10, 11, 12, 13, 14, 15]</td>\n",
       "      <td>317.8</td>\n",
       "    </tr>\n",
       "    <tr>\n",
       "      <th>3</th>\n",
       "      <td>Tom Brady</td>\n",
       "      <td>QB</td>\n",
       "      <td>Fumble .</td>\n",
       "      <td>TB</td>\n",
       "      <td>DRAFT</td>\n",
       "      <td>1</td>\n",
       "      <td>[1, 2, 3, 4, 5, 6, 7, 8, 10, 11, 12, 13, 14, 15]</td>\n",
       "      <td>311.8</td>\n",
       "    </tr>\n",
       "    <tr>\n",
       "      <th>4</th>\n",
       "      <td>Cooper Kupp</td>\n",
       "      <td>WR</td>\n",
       "      <td>Fumble .</td>\n",
       "      <td>LAR</td>\n",
       "      <td>DRAFT</td>\n",
       "      <td>29</td>\n",
       "      <td>[1, 2, 3, 4, 5, 6, 7, 8, 9, 10, 12, 13, 14, 15]</td>\n",
       "      <td>309.1</td>\n",
       "    </tr>\n",
       "  </tbody>\n",
       "</table>\n",
       "</div>"
      ],
      "text/plain": [
       "                Player Position               Team ProTeam Action  \\\n",
       "Stint                                                               \n",
       "0           Josh Allen       QB     Don't Ekele Me     BUF  DRAFT   \n",
       "1      Jonathan Taylor       RB  Godwin's Memorial     IND  DRAFT   \n",
       "2       Justin Herbert       QB  Frankel's Cankles     LAC  DRAFT   \n",
       "3            Tom Brady       QB           Fumble .      TB  DRAFT   \n",
       "4          Cooper Kupp       WR           Fumble .     LAR  DRAFT   \n",
       "\n",
       "      Bid Amount ($)                                        Stint (wks)  \\\n",
       "Stint                                                                     \n",
       "0                 13   [1, 2, 3, 4, 5, 6, 8, 9, 10, 11, 12, 13, 14, 15]   \n",
       "1                 58  [1, 2, 3, 4, 5, 6, 7, 8, 9, 10, 11, 12, 13, 15...   \n",
       "2                  3   [1, 2, 3, 4, 5, 6, 8, 9, 10, 11, 12, 13, 14, 15]   \n",
       "3                  1   [1, 2, 3, 4, 5, 6, 7, 8, 10, 11, 12, 13, 14, 15]   \n",
       "4                 29    [1, 2, 3, 4, 5, 6, 7, 8, 9, 10, 12, 13, 14, 15]   \n",
       "\n",
       "       Total points  \n",
       "Stint                \n",
       "0             325.7  \n",
       "1             324.2  \n",
       "2             317.8  \n",
       "3             311.8  \n",
       "4             309.1  "
      ]
     },
     "execution_count": 940,
     "metadata": {},
     "output_type": "execute_result"
    }
   ],
   "source": [
    "df_stints_f.head()"
   ]
  },
  {
   "cell_type": "markdown",
   "metadata": {},
   "source": [
    "# Plot Values Scatterplots"
   ]
  },
  {
   "cell_type": "markdown",
   "metadata": {},
   "source": [
    "## Draft Scatterplot"
   ]
  },
  {
   "cell_type": "markdown",
   "metadata": {},
   "source": [
    "## Waiver Wire Scatterplot"
   ]
  },
  {
   "cell_type": "code",
   "execution_count": 947,
   "metadata": {},
   "outputs": [],
   "source": [
    "df_stints_f_waiver = df_stints_f[df_stints_f['Action'] == 'WAIVER']"
   ]
  },
  {
   "cell_type": "code",
   "execution_count": 948,
   "metadata": {},
   "outputs": [
    {
     "data": {
      "text/html": [
       "<div>\n",
       "<style scoped>\n",
       "    .dataframe tbody tr th:only-of-type {\n",
       "        vertical-align: middle;\n",
       "    }\n",
       "\n",
       "    .dataframe tbody tr th {\n",
       "        vertical-align: top;\n",
       "    }\n",
       "\n",
       "    .dataframe thead th {\n",
       "        text-align: right;\n",
       "    }\n",
       "</style>\n",
       "<table border=\"1\" class=\"dataframe\">\n",
       "  <thead>\n",
       "    <tr style=\"text-align: right;\">\n",
       "      <th></th>\n",
       "      <th>Player</th>\n",
       "      <th>Position</th>\n",
       "      <th>Team</th>\n",
       "      <th>ProTeam</th>\n",
       "      <th>Action</th>\n",
       "      <th>Bid Amount ($)</th>\n",
       "      <th>Stint (wks)</th>\n",
       "      <th>Total points</th>\n",
       "    </tr>\n",
       "    <tr>\n",
       "      <th>Stint</th>\n",
       "      <th></th>\n",
       "      <th></th>\n",
       "      <th></th>\n",
       "      <th></th>\n",
       "      <th></th>\n",
       "      <th></th>\n",
       "      <th></th>\n",
       "      <th></th>\n",
       "    </tr>\n",
       "  </thead>\n",
       "  <tbody>\n",
       "    <tr>\n",
       "      <th>30</th>\n",
       "      <td>Kirk Cousins</td>\n",
       "      <td>QB</td>\n",
       "      <td>Your Antivax Cousins</td>\n",
       "      <td>MIN</td>\n",
       "      <td>WAIVER</td>\n",
       "      <td>3</td>\n",
       "      <td>[4, 5, 6, 8, 9, 10, 11, 12, 13, 14, 15]</td>\n",
       "      <td>188.8</td>\n",
       "    </tr>\n",
       "    <tr>\n",
       "      <th>39</th>\n",
       "      <td>James Conner</td>\n",
       "      <td>RB</td>\n",
       "      <td>Don't Ekele Me</td>\n",
       "      <td>ARI</td>\n",
       "      <td>WAIVER</td>\n",
       "      <td>21</td>\n",
       "      <td>[5, 6, 7, 8, 9, 10, 11, 13, 14, 15, 16]</td>\n",
       "      <td>169.6</td>\n",
       "    </tr>\n",
       "    <tr>\n",
       "      <th>44</th>\n",
       "      <td>Cordarrelle Patterson</td>\n",
       "      <td>RB</td>\n",
       "      <td>More than a  Thielen</td>\n",
       "      <td>ATL</td>\n",
       "      <td>WAIVER</td>\n",
       "      <td>12</td>\n",
       "      <td>[3, 4, 5, 7, 8, 9, 10, 11, 12, 13, 14, 15]</td>\n",
       "      <td>163.8</td>\n",
       "    </tr>\n",
       "    <tr>\n",
       "      <th>51</th>\n",
       "      <td>Marquise Brown</td>\n",
       "      <td>WR</td>\n",
       "      <td>Tasteful Dak Piks, by CMC</td>\n",
       "      <td>BAL</td>\n",
       "      <td>WAIVER</td>\n",
       "      <td>5</td>\n",
       "      <td>[2, 3, 4, 5, 6, 7, 9, 10, 11, 12, 13, 14, 15]</td>\n",
       "      <td>151.0</td>\n",
       "    </tr>\n",
       "    <tr>\n",
       "      <th>60</th>\n",
       "      <td>Hunter Renfrow</td>\n",
       "      <td>WR</td>\n",
       "      <td>Godwin's Memorial</td>\n",
       "      <td>OAK</td>\n",
       "      <td>WAIVER</td>\n",
       "      <td>2</td>\n",
       "      <td>[4, 5, 6, 7, 9, 10, 11, 12, 13, 14, 15]</td>\n",
       "      <td>129.7</td>\n",
       "    </tr>\n",
       "    <tr>\n",
       "      <th>...</th>\n",
       "      <td>...</td>\n",
       "      <td>...</td>\n",
       "      <td>...</td>\n",
       "      <td>...</td>\n",
       "      <td>...</td>\n",
       "      <td>...</td>\n",
       "      <td>...</td>\n",
       "      <td>...</td>\n",
       "    </tr>\n",
       "    <tr>\n",
       "      <th>438</th>\n",
       "      <td>Logan Thomas</td>\n",
       "      <td>TE</td>\n",
       "      <td>Your Antivax Cousins</td>\n",
       "      <td>WSH</td>\n",
       "      <td>WAIVER</td>\n",
       "      <td>1</td>\n",
       "      <td>[]</td>\n",
       "      <td>0.0</td>\n",
       "    </tr>\n",
       "    <tr>\n",
       "      <th>440</th>\n",
       "      <td>Tyler Boyd</td>\n",
       "      <td>WR</td>\n",
       "      <td>Dick Cheese</td>\n",
       "      <td>CIN</td>\n",
       "      <td>WAIVER</td>\n",
       "      <td>2</td>\n",
       "      <td>[]</td>\n",
       "      <td>0.0</td>\n",
       "    </tr>\n",
       "    <tr>\n",
       "      <th>442</th>\n",
       "      <td>Giants D/ST</td>\n",
       "      <td>D/ST</td>\n",
       "      <td>Repeat Donger</td>\n",
       "      <td>NYG</td>\n",
       "      <td>WAIVER</td>\n",
       "      <td>0</td>\n",
       "      <td>[2]</td>\n",
       "      <td>-1.0</td>\n",
       "    </tr>\n",
       "    <tr>\n",
       "      <th>443</th>\n",
       "      <td>Ravens D/ST</td>\n",
       "      <td>D/ST</td>\n",
       "      <td>Repeat Donger</td>\n",
       "      <td>BAL</td>\n",
       "      <td>WAIVER</td>\n",
       "      <td>1</td>\n",
       "      <td>[7]</td>\n",
       "      <td>-6.0</td>\n",
       "    </tr>\n",
       "    <tr>\n",
       "      <th>444</th>\n",
       "      <td>Jets D/ST</td>\n",
       "      <td>D/ST</td>\n",
       "      <td>Frankel's Cankles</td>\n",
       "      <td>NYJ</td>\n",
       "      <td>WAIVER</td>\n",
       "      <td>1</td>\n",
       "      <td>[7]</td>\n",
       "      <td>-11.0</td>\n",
       "    </tr>\n",
       "  </tbody>\n",
       "</table>\n",
       "<p>286 rows × 8 columns</p>\n",
       "</div>"
      ],
      "text/plain": [
       "                      Player Position                       Team ProTeam  \\\n",
       "Stint                                                                      \n",
       "30              Kirk Cousins       QB       Your Antivax Cousins     MIN   \n",
       "39              James Conner       RB             Don't Ekele Me     ARI   \n",
       "44     Cordarrelle Patterson       RB       More than a  Thielen     ATL   \n",
       "51            Marquise Brown       WR  Tasteful Dak Piks, by CMC     BAL   \n",
       "60            Hunter Renfrow       WR          Godwin's Memorial     OAK   \n",
       "...                      ...      ...                        ...     ...   \n",
       "438             Logan Thomas       TE       Your Antivax Cousins     WSH   \n",
       "440               Tyler Boyd       WR                Dick Cheese     CIN   \n",
       "442              Giants D/ST     D/ST              Repeat Donger     NYG   \n",
       "443              Ravens D/ST     D/ST              Repeat Donger     BAL   \n",
       "444                Jets D/ST     D/ST          Frankel's Cankles     NYJ   \n",
       "\n",
       "       Action Bid Amount ($)                                    Stint (wks)  \\\n",
       "Stint                                                                         \n",
       "30     WAIVER              3        [4, 5, 6, 8, 9, 10, 11, 12, 13, 14, 15]   \n",
       "39     WAIVER             21        [5, 6, 7, 8, 9, 10, 11, 13, 14, 15, 16]   \n",
       "44     WAIVER             12     [3, 4, 5, 7, 8, 9, 10, 11, 12, 13, 14, 15]   \n",
       "51     WAIVER              5  [2, 3, 4, 5, 6, 7, 9, 10, 11, 12, 13, 14, 15]   \n",
       "60     WAIVER              2        [4, 5, 6, 7, 9, 10, 11, 12, 13, 14, 15]   \n",
       "...       ...            ...                                            ...   \n",
       "438    WAIVER              1                                             []   \n",
       "440    WAIVER              2                                             []   \n",
       "442    WAIVER              0                                            [2]   \n",
       "443    WAIVER              1                                            [7]   \n",
       "444    WAIVER              1                                            [7]   \n",
       "\n",
       "       Total points  \n",
       "Stint                \n",
       "30            188.8  \n",
       "39            169.6  \n",
       "44            163.8  \n",
       "51            151.0  \n",
       "60            129.7  \n",
       "...             ...  \n",
       "438             0.0  \n",
       "440             0.0  \n",
       "442            -1.0  \n",
       "443            -6.0  \n",
       "444           -11.0  \n",
       "\n",
       "[286 rows x 8 columns]"
      ]
     },
     "execution_count": 948,
     "metadata": {},
     "output_type": "execute_result"
    }
   ],
   "source": [
    "df_stints_f_waiver"
   ]
  },
  {
   "cell_type": "code",
   "execution_count": 949,
   "metadata": {},
   "outputs": [
    {
     "data": {
      "text/html": [
       "<div>\n",
       "<style scoped>\n",
       "    .dataframe tbody tr th:only-of-type {\n",
       "        vertical-align: middle;\n",
       "    }\n",
       "\n",
       "    .dataframe tbody tr th {\n",
       "        vertical-align: top;\n",
       "    }\n",
       "\n",
       "    .dataframe thead th {\n",
       "        text-align: right;\n",
       "    }\n",
       "</style>\n",
       "<table border=\"1\" class=\"dataframe\">\n",
       "  <thead>\n",
       "    <tr style=\"text-align: right;\">\n",
       "      <th></th>\n",
       "      <th>Player</th>\n",
       "      <th>Position</th>\n",
       "      <th>Team</th>\n",
       "      <th>ProTeam</th>\n",
       "      <th>Action</th>\n",
       "      <th>Bid Amount ($)</th>\n",
       "      <th>Stint (wks)</th>\n",
       "      <th>Total points</th>\n",
       "    </tr>\n",
       "    <tr>\n",
       "      <th>Stint</th>\n",
       "      <th></th>\n",
       "      <th></th>\n",
       "      <th></th>\n",
       "      <th></th>\n",
       "      <th></th>\n",
       "      <th></th>\n",
       "      <th></th>\n",
       "      <th></th>\n",
       "    </tr>\n",
       "  </thead>\n",
       "  <tbody>\n",
       "    <tr>\n",
       "      <th>408</th>\n",
       "      <td>Amon-Ra St. Brown</td>\n",
       "      <td>WR</td>\n",
       "      <td>Tier 2 never felt so good</td>\n",
       "      <td>DET</td>\n",
       "      <td>WAIVER</td>\n",
       "      <td>22</td>\n",
       "      <td>[]</td>\n",
       "      <td>0.0</td>\n",
       "    </tr>\n",
       "  </tbody>\n",
       "</table>\n",
       "</div>"
      ],
      "text/plain": [
       "                  Player Position                       Team ProTeam  Action  \\\n",
       "Stint                                                                          \n",
       "408    Amon-Ra St. Brown       WR  Tier 2 never felt so good     DET  WAIVER   \n",
       "\n",
       "      Bid Amount ($) Stint (wks)  Total points  \n",
       "Stint                                           \n",
       "408               22          []           0.0  "
      ]
     },
     "execution_count": 949,
     "metadata": {},
     "output_type": "execute_result"
    }
   ],
   "source": [
    "df_stints_f_waiver[df_stints_f_waiver['Player'].str.contains('Amon')]"
   ]
  },
  {
   "cell_type": "code",
   "execution_count": 945,
   "metadata": {},
   "outputs": [],
   "source": [
    "df_stints_f_waiver = df_stints_f_waiver[df_stints_f_waiver['Position'].isin(['RB','WR','TE'])]"
   ]
  },
  {
   "cell_type": "code",
   "execution_count": 967,
   "metadata": {},
   "outputs": [
    {
     "data": {
      "text/html": [
       "<div>\n",
       "<style scoped>\n",
       "    .dataframe tbody tr th:only-of-type {\n",
       "        vertical-align: middle;\n",
       "    }\n",
       "\n",
       "    .dataframe tbody tr th {\n",
       "        vertical-align: top;\n",
       "    }\n",
       "\n",
       "    .dataframe thead th {\n",
       "        text-align: right;\n",
       "    }\n",
       "</style>\n",
       "<table border=\"1\" class=\"dataframe\">\n",
       "  <thead>\n",
       "    <tr style=\"text-align: right;\">\n",
       "      <th></th>\n",
       "      <th>Player</th>\n",
       "      <th>Position</th>\n",
       "      <th>Team</th>\n",
       "      <th>ProTeam</th>\n",
       "      <th>Action</th>\n",
       "      <th>Bid Amount ($)</th>\n",
       "      <th>Stint (wks)</th>\n",
       "      <th>Total points</th>\n",
       "    </tr>\n",
       "    <tr>\n",
       "      <th>Stint</th>\n",
       "      <th></th>\n",
       "      <th></th>\n",
       "      <th></th>\n",
       "      <th></th>\n",
       "      <th></th>\n",
       "      <th></th>\n",
       "      <th></th>\n",
       "      <th></th>\n",
       "    </tr>\n",
       "  </thead>\n",
       "  <tbody>\n",
       "    <tr>\n",
       "      <th>404</th>\n",
       "      <td>Jeff Wilson Jr.</td>\n",
       "      <td>RB</td>\n",
       "      <td>Dick Cheese</td>\n",
       "      <td>SF</td>\n",
       "      <td>WAIVER</td>\n",
       "      <td>0</td>\n",
       "      <td>[2, 3, 4, 5]</td>\n",
       "      <td>0.0</td>\n",
       "    </tr>\n",
       "  </tbody>\n",
       "</table>\n",
       "</div>"
      ],
      "text/plain": [
       "                Player Position         Team ProTeam  Action Bid Amount ($)  \\\n",
       "Stint                                                                         \n",
       "404    Jeff Wilson Jr.       RB  Dick Cheese      SF  WAIVER              0   \n",
       "\n",
       "        Stint (wks)  Total points  \n",
       "Stint                              \n",
       "404    [2, 3, 4, 5]           0.0  "
      ]
     },
     "execution_count": 967,
     "metadata": {},
     "output_type": "execute_result"
    }
   ],
   "source": [
    "df_stints_f_waiver[df_stints_f_waiver['Player'].str.contains('Jeff Wilson')]\n",
    "# df_stints_f_waiver = df_stints_f_waiver[~(df_stints_f_waiver['Stint (wks)'].apply(lambda c: c==[]))]"
   ]
  },
  {
   "cell_type": "code",
   "execution_count": 969,
   "metadata": {},
   "outputs": [
    {
     "data": {
      "text/html": [
       "<div>\n",
       "<style scoped>\n",
       "    .dataframe tbody tr th:only-of-type {\n",
       "        vertical-align: middle;\n",
       "    }\n",
       "\n",
       "    .dataframe tbody tr th {\n",
       "        vertical-align: top;\n",
       "    }\n",
       "\n",
       "    .dataframe thead th {\n",
       "        text-align: right;\n",
       "    }\n",
       "</style>\n",
       "<table border=\"1\" class=\"dataframe\">\n",
       "  <thead>\n",
       "    <tr style=\"text-align: right;\">\n",
       "      <th></th>\n",
       "      <th>Player</th>\n",
       "      <th>Position</th>\n",
       "      <th>Team</th>\n",
       "      <th>ProTeam</th>\n",
       "      <th>Action</th>\n",
       "      <th>Bid Amount ($)</th>\n",
       "      <th>Stint (wks)</th>\n",
       "      <th>Total points</th>\n",
       "    </tr>\n",
       "    <tr>\n",
       "      <th>Stint</th>\n",
       "      <th></th>\n",
       "      <th></th>\n",
       "      <th></th>\n",
       "      <th></th>\n",
       "      <th></th>\n",
       "      <th></th>\n",
       "      <th></th>\n",
       "      <th></th>\n",
       "    </tr>\n",
       "  </thead>\n",
       "  <tbody>\n",
       "    <tr>\n",
       "      <th>174</th>\n",
       "      <td>Jeff Wilson Jr.</td>\n",
       "      <td>RB</td>\n",
       "      <td>Your Antivax Cousins</td>\n",
       "      <td>SF</td>\n",
       "      <td>WAIVER</td>\n",
       "      <td>1</td>\n",
       "      <td>[15, 16]</td>\n",
       "      <td>32.1</td>\n",
       "    </tr>\n",
       "    <tr>\n",
       "      <th>303</th>\n",
       "      <td>Jeff Wilson Jr.</td>\n",
       "      <td>RB</td>\n",
       "      <td>More than a  Thielen</td>\n",
       "      <td>SF</td>\n",
       "      <td>WAIVER</td>\n",
       "      <td>5</td>\n",
       "      <td>[11, 12]</td>\n",
       "      <td>7.5</td>\n",
       "    </tr>\n",
       "    <tr>\n",
       "      <th>324</th>\n",
       "      <td>Jeff Wilson Jr.</td>\n",
       "      <td>RB</td>\n",
       "      <td>Dick Cheese</td>\n",
       "      <td>SF</td>\n",
       "      <td>WAIVER</td>\n",
       "      <td>1</td>\n",
       "      <td>[14]</td>\n",
       "      <td>5.6</td>\n",
       "    </tr>\n",
       "    <tr>\n",
       "      <th>404</th>\n",
       "      <td>Jeff Wilson Jr.</td>\n",
       "      <td>RB</td>\n",
       "      <td>Dick Cheese</td>\n",
       "      <td>SF</td>\n",
       "      <td>WAIVER</td>\n",
       "      <td>0</td>\n",
       "      <td>[2, 3, 4, 5]</td>\n",
       "      <td>0.0</td>\n",
       "    </tr>\n",
       "    <tr>\n",
       "      <th>405</th>\n",
       "      <td>Jeff Wilson Jr.</td>\n",
       "      <td>RB</td>\n",
       "      <td>Dick Cheese</td>\n",
       "      <td>SF</td>\n",
       "      <td>WAIVER</td>\n",
       "      <td>4</td>\n",
       "      <td>[9]</td>\n",
       "      <td>0.0</td>\n",
       "    </tr>\n",
       "  </tbody>\n",
       "</table>\n",
       "</div>"
      ],
      "text/plain": [
       "                Player Position                  Team ProTeam  Action  \\\n",
       "Stint                                                                   \n",
       "174    Jeff Wilson Jr.       RB  Your Antivax Cousins      SF  WAIVER   \n",
       "303    Jeff Wilson Jr.       RB  More than a  Thielen      SF  WAIVER   \n",
       "324    Jeff Wilson Jr.       RB           Dick Cheese      SF  WAIVER   \n",
       "404    Jeff Wilson Jr.       RB           Dick Cheese      SF  WAIVER   \n",
       "405    Jeff Wilson Jr.       RB           Dick Cheese      SF  WAIVER   \n",
       "\n",
       "      Bid Amount ($)   Stint (wks)  Total points  \n",
       "Stint                                             \n",
       "174                1      [15, 16]          32.1  \n",
       "303                5      [11, 12]           7.5  \n",
       "324                1          [14]           5.6  \n",
       "404                0  [2, 3, 4, 5]           0.0  \n",
       "405                4           [9]           0.0  "
      ]
     },
     "execution_count": 969,
     "metadata": {},
     "output_type": "execute_result"
    }
   ],
   "source": [
    "df_stints_f[df_stints_f['Player'] == 'Jeff Wilson Jr.']"
   ]
  },
  {
   "cell_type": "code",
   "execution_count": 968,
   "metadata": {},
   "outputs": [
    {
     "data": {
      "text/html": [
       "<div>\n",
       "<style scoped>\n",
       "    .dataframe tbody tr th:only-of-type {\n",
       "        vertical-align: middle;\n",
       "    }\n",
       "\n",
       "    .dataframe tbody tr th {\n",
       "        vertical-align: top;\n",
       "    }\n",
       "\n",
       "    .dataframe thead th {\n",
       "        text-align: right;\n",
       "    }\n",
       "</style>\n",
       "<table border=\"1\" class=\"dataframe\">\n",
       "  <thead>\n",
       "    <tr style=\"text-align: right;\">\n",
       "      <th></th>\n",
       "      <th>Player</th>\n",
       "      <th>ProTeam</th>\n",
       "      <th>Team</th>\n",
       "      <th>Action</th>\n",
       "      <th>Bid Amount ($)</th>\n",
       "      <th>Action Timestamp</th>\n",
       "      <th>Timestamp</th>\n",
       "    </tr>\n",
       "  </thead>\n",
       "  <tbody>\n",
       "    <tr>\n",
       "      <th>208</th>\n",
       "      <td>Jeff Wilson Jr.</td>\n",
       "      <td>SF</td>\n",
       "      <td>Dick Cheese</td>\n",
       "      <td>WAIVER ADDED</td>\n",
       "      <td>0</td>\n",
       "      <td>2021-09-16</td>\n",
       "      <td>1631804525332</td>\n",
       "    </tr>\n",
       "    <tr>\n",
       "      <th>415</th>\n",
       "      <td>Jeff Wilson Jr.</td>\n",
       "      <td>SF</td>\n",
       "      <td>Dick Cheese</td>\n",
       "      <td>DROPPED</td>\n",
       "      <td>0</td>\n",
       "      <td>2021-10-22</td>\n",
       "      <td>1634939420492</td>\n",
       "    </tr>\n",
       "    <tr>\n",
       "      <th>504</th>\n",
       "      <td>Jeff Wilson Jr.</td>\n",
       "      <td>SF</td>\n",
       "      <td>Dick Cheese</td>\n",
       "      <td>WAIVER ADDED</td>\n",
       "      <td>4</td>\n",
       "      <td>2021-11-07</td>\n",
       "      <td>1636300965138</td>\n",
       "    </tr>\n",
       "    <tr>\n",
       "      <th>515</th>\n",
       "      <td>Jeff Wilson Jr.</td>\n",
       "      <td>SF</td>\n",
       "      <td>Dick Cheese</td>\n",
       "      <td>DROPPED</td>\n",
       "      <td>0</td>\n",
       "      <td>2021-11-10</td>\n",
       "      <td>1636560025383</td>\n",
       "    </tr>\n",
       "    <tr>\n",
       "      <th>581</th>\n",
       "      <td>Jeff Wilson Jr.</td>\n",
       "      <td>SF</td>\n",
       "      <td>More than a  Thielen</td>\n",
       "      <td>WAIVER ADDED</td>\n",
       "      <td>5</td>\n",
       "      <td>2021-11-20</td>\n",
       "      <td>1637424151049</td>\n",
       "    </tr>\n",
       "    <tr>\n",
       "      <th>639</th>\n",
       "      <td>Jeff Wilson Jr.</td>\n",
       "      <td>SF</td>\n",
       "      <td>More than a  Thielen</td>\n",
       "      <td>DROPPED</td>\n",
       "      <td>0</td>\n",
       "      <td>2021-12-02</td>\n",
       "      <td>1638460989322</td>\n",
       "    </tr>\n",
       "    <tr>\n",
       "      <th>678</th>\n",
       "      <td>Jeff Wilson Jr.</td>\n",
       "      <td>SF</td>\n",
       "      <td>Dick Cheese</td>\n",
       "      <td>WAIVER ADDED</td>\n",
       "      <td>1</td>\n",
       "      <td>2021-12-11</td>\n",
       "      <td>1639238538944</td>\n",
       "    </tr>\n",
       "    <tr>\n",
       "      <th>693</th>\n",
       "      <td>Jeff Wilson Jr.</td>\n",
       "      <td>SF</td>\n",
       "      <td>Dick Cheese</td>\n",
       "      <td>DROPPED</td>\n",
       "      <td>0</td>\n",
       "      <td>2021-12-15</td>\n",
       "      <td>1639584097369</td>\n",
       "    </tr>\n",
       "    <tr>\n",
       "      <th>707</th>\n",
       "      <td>Jeff Wilson Jr.</td>\n",
       "      <td>SF</td>\n",
       "      <td>Your Antivax Cousins</td>\n",
       "      <td>WAIVER ADDED</td>\n",
       "      <td>1</td>\n",
       "      <td>2021-12-19</td>\n",
       "      <td>1639929629398</td>\n",
       "    </tr>\n",
       "  </tbody>\n",
       "</table>\n",
       "</div>"
      ],
      "text/plain": [
       "              Player ProTeam                  Team        Action  \\\n",
       "208  Jeff Wilson Jr.      SF           Dick Cheese  WAIVER ADDED   \n",
       "415  Jeff Wilson Jr.      SF           Dick Cheese       DROPPED   \n",
       "504  Jeff Wilson Jr.      SF           Dick Cheese  WAIVER ADDED   \n",
       "515  Jeff Wilson Jr.      SF           Dick Cheese       DROPPED   \n",
       "581  Jeff Wilson Jr.      SF  More than a  Thielen  WAIVER ADDED   \n",
       "639  Jeff Wilson Jr.      SF  More than a  Thielen       DROPPED   \n",
       "678  Jeff Wilson Jr.      SF           Dick Cheese  WAIVER ADDED   \n",
       "693  Jeff Wilson Jr.      SF           Dick Cheese       DROPPED   \n",
       "707  Jeff Wilson Jr.      SF  Your Antivax Cousins  WAIVER ADDED   \n",
       "\n",
       "     Bid Amount ($) Action Timestamp      Timestamp  \n",
       "208               0       2021-09-16  1631804525332  \n",
       "415               0       2021-10-22  1634939420492  \n",
       "504               4       2021-11-07  1636300965138  \n",
       "515               0       2021-11-10  1636560025383  \n",
       "581               5       2021-11-20  1637424151049  \n",
       "639               0       2021-12-02  1638460989322  \n",
       "678               1       2021-12-11  1639238538944  \n",
       "693               0       2021-12-15  1639584097369  \n",
       "707               1       2021-12-19  1639929629398  "
      ]
     },
     "execution_count": 968,
     "metadata": {},
     "output_type": "execute_result"
    }
   ],
   "source": [
    "df_acq_final1[df_acq_final1['Player'] == 'Jeff Wilson Jr.']"
   ]
  },
  {
   "cell_type": "code",
   "execution_count": 965,
   "metadata": {},
   "outputs": [],
   "source": [
    "# Filter for stints >= 3\n",
    "def get_bool_len(x):\n",
    "    z = len(x) >= 3\n",
    "    return z\n",
    "\n",
    "df_stints_f_waiver = df_stints_f_waiver[df_stints_f_waiver['Stint (wks)'].apply(lambda x: get_bool_len(x))]"
   ]
  },
  {
   "cell_type": "code",
   "execution_count": 966,
   "metadata": {},
   "outputs": [
    {
     "data": {
      "application/vnd.plotly.v1+json": {
       "config": {
        "plotlyServerURL": "https://plot.ly"
       },
       "data": [
        {
         "hovertemplate": "<b>%{hovertext}</b><br><br>Team=Don't Ekele Me<br>Bid Amount ($)=%{x}<br>Total points=%{y}<extra></extra>",
         "hovertext": [
          "James Conner",
          "Dawson Knox",
          "Marvin Jones Jr.",
          "Michael Carter",
          "Tevin Coleman",
          "Tre'Quan Smith",
          "Latavius Murray"
         ],
         "legendgroup": "Don't Ekele Me",
         "marker": {
          "color": "#636efa",
          "symbol": "circle"
         },
         "mode": "markers",
         "name": "Don't Ekele Me",
         "showlegend": true,
         "type": "scatter",
         "x": [
          21,
          1,
          0,
          1,
          3,
          1,
          1
         ],
         "xaxis": "x",
         "y": [
          169.6,
          97,
          87.6,
          74.9,
          17.2,
          15.099999999999998,
          5.699999999999999
         ],
         "yaxis": "y"
        },
        {
         "hovertemplate": "<b>%{hovertext}</b><br><br>Team=More than a  Thielen<br>Bid Amount ($)=%{x}<br>Total points=%{y}<extra></extra>",
         "hovertext": [
          "Cordarrelle Patterson",
          "Van Jefferson",
          "Devonta Freeman",
          "Tyler Conklin",
          "Rondale Moore",
          "Mecole Hardman",
          "Foster Moreau"
         ],
         "legendgroup": "More than a  Thielen",
         "marker": {
          "color": "#EF553B",
          "symbol": "circle"
         },
         "mode": "markers",
         "name": "More than a  Thielen",
         "showlegend": true,
         "type": "scatter",
         "x": [
          12,
          11,
          4,
          2,
          28,
          3,
          1
         ],
         "xaxis": "x",
         "y": [
          163.8,
          54.900000000000006,
          54.300000000000004,
          34.8,
          22.9,
          19.1,
          16.7
         ],
         "yaxis": "y"
        },
        {
         "hovertemplate": "<b>%{hovertext}</b><br><br>Team=Tasteful Dak Piks, by CMC<br>Bid Amount ($)=%{x}<br>Total points=%{y}<extra></extra>",
         "hovertext": [
          "Marquise Brown",
          "Chuba Hubbard",
          "Zach Ertz",
          "Tony Pollard",
          "D'Ernest Johnson",
          "Sterling Shepard",
          "Rex Burkhead",
          "Tyler Conklin",
          "Alex Collins",
          "Nyheim Hines",
          "Derrick Henry",
          "J.D. McKissic"
         ],
         "legendgroup": "Tasteful Dak Piks, by CMC",
         "marker": {
          "color": "#00cc96",
          "symbol": "circle"
         },
         "mode": "markers",
         "name": "Tasteful Dak Piks, by CMC",
         "showlegend": true,
         "type": "scatter",
         "x": [
          5,
          33,
          3,
          0,
          2,
          13,
          1,
          3,
          1,
          8,
          1,
          2
         ],
         "xaxis": "x",
         "y": [
          151.00000000000003,
          85.49999999999999,
          84.30000000000001,
          61.599999999999994,
          56.6,
          38.900000000000006,
          18.8,
          15.899999999999999,
          7,
          4.6000000000000005,
          0,
          0
         ],
         "yaxis": "y"
        },
        {
         "hovertemplate": "<b>%{hovertext}</b><br><br>Team=Godwin's Memorial<br>Bid Amount ($)=%{x}<br>Total points=%{y}<extra></extra>",
         "hovertext": [
          "Hunter Renfrow",
          "Pat Freiermuth",
          "Kenyan Drake",
          "Hunter Henry",
          "Jarvis Landry",
          "Courtland Sutton"
         ],
         "legendgroup": "Godwin's Memorial",
         "marker": {
          "color": "#ab63fa",
          "symbol": "circle"
         },
         "mode": "markers",
         "name": "Godwin's Memorial",
         "showlegend": true,
         "type": "scatter",
         "x": [
          2,
          4,
          5,
          3,
          3,
          1
         ],
         "xaxis": "x",
         "y": [
          129.7,
          46.7,
          25.8,
          22.6,
          16.3,
          8.8
         ],
         "yaxis": "y"
        },
        {
         "hovertemplate": "<b>%{hovertext}</b><br><br>Team=Fumble .<br>Bid Amount ($)=%{x}<br>Total points=%{y}<extra></extra>",
         "hovertext": [
          "Elijah Mitchell",
          "Mike Gesicki",
          "Devontae Booker",
          "D'Onta Foreman",
          "T.Y. Hilton"
         ],
         "legendgroup": "Fumble .",
         "marker": {
          "color": "#FFA15A",
          "symbol": "circle"
         },
         "mode": "markers",
         "name": "Fumble .",
         "showlegend": true,
         "type": "scatter",
         "x": [
          30,
          1,
          9,
          4,
          1
         ],
         "xaxis": "x",
         "y": [
          110.6,
          95.3,
          51.2,
          49.6,
          0
         ],
         "yaxis": "y"
        },
        {
         "hovertemplate": "<b>%{hovertext}</b><br><br>Team=Frankel's Cankles<br>Bid Amount ($)=%{x}<br>Total points=%{y}<extra></extra>",
         "hovertext": [
          "Michael Pittman Jr.",
          "Myles Gaskin",
          "Miles Sanders",
          "Devin Singletary"
         ],
         "legendgroup": "Frankel's Cankles",
         "marker": {
          "color": "#19d3f3",
          "symbol": "circle"
         },
         "mode": "markers",
         "name": "Frankel's Cankles",
         "showlegend": true,
         "type": "scatter",
         "x": [
          3,
          25,
          1,
          1
         ],
         "xaxis": "x",
         "y": [
          106.89999999999999,
          89.4,
          45.6,
          42.7
         ],
         "yaxis": "y"
        },
        {
         "hovertemplate": "<b>%{hovertext}</b><br><br>Team=Ice City USA<br>Bid Amount ($)=%{x}<br>Total points=%{y}<extra></extra>",
         "hovertext": [
          "Jaylen Waddle",
          "Darnell Mooney",
          "Emmanuel Sanders",
          "Michael Pittman Jr.",
          "Darnell Mooney",
          "Kadarius Toney",
          "Damien Williams",
          "Dontrell Hilliard"
         ],
         "legendgroup": "Ice City USA",
         "marker": {
          "color": "#FF6692",
          "symbol": "circle"
         },
         "mode": "markers",
         "name": "Ice City USA",
         "showlegend": true,
         "type": "scatter",
         "x": [
          11,
          1,
          1,
          6,
          1,
          27,
          13,
          1
         ],
         "xaxis": "x",
         "y": [
          91.4,
          52.300000000000004,
          45.1,
          41.9,
          22.9,
          19,
          16.7,
          11.600000000000001
         ],
         "yaxis": "y"
        },
        {
         "hovertemplate": "<b>%{hovertext}</b><br><br>Team=Repeat Donger<br>Bid Amount ($)=%{x}<br>Total points=%{y}<extra></extra>",
         "hovertext": [
          "Darrel Williams",
          "A.J. Green",
          "Brandon Aiyuk",
          "Dalton Schultz",
          "Rob Gronkowski",
          "Christian Kirk",
          "Jared Cook",
          "Latavius Murray"
         ],
         "legendgroup": "Repeat Donger",
         "marker": {
          "color": "#B6E880",
          "symbol": "circle"
         },
         "mode": "markers",
         "name": "Repeat Donger",
         "showlegend": true,
         "type": "scatter",
         "x": [
          23,
          16,
          1,
          10,
          1,
          3,
          3,
          11
         ],
         "xaxis": "x",
         "y": [
          80.1,
          72.3,
          71.80000000000001,
          68.6,
          58.300000000000004,
          32.900000000000006,
          23.099999999999998,
          18.7
         ],
         "yaxis": "y"
        },
        {
         "hovertemplate": "<b>%{hovertext}</b><br><br>Team=Your Antivax Cousins<br>Bid Amount ($)=%{x}<br>Total points=%{y}<extra></extra>",
         "hovertext": [
          "Tony Pollard",
          "Elijah Moore",
          "Khalil Herbert",
          "Tim Patrick",
          "Alex Collins",
          "Rhamondre Stevenson",
          "Noah Fant",
          "DeVante Parker"
         ],
         "legendgroup": "Your Antivax Cousins",
         "marker": {
          "color": "#FF97FF",
          "symbol": "circle"
         },
         "mode": "markers",
         "name": "Your Antivax Cousins",
         "showlegend": true,
         "type": "scatter",
         "x": [
          3,
          2,
          22,
          2,
          13,
          6,
          1,
          6
         ],
         "xaxis": "x",
         "y": [
          68.2,
          62.4,
          43.99999999999999,
          28.9,
          25.6,
          24.9,
          23.299999999999997,
          8.7
         ],
         "yaxis": "y"
        },
        {
         "hovertemplate": "<b>%{hovertext}</b><br><br>Team=Dick Cheese<br>Bid Amount ($)=%{x}<br>Total points=%{y}<extra></extra>",
         "hovertext": [
          "Alexander Mattison",
          "Mark Ingram II",
          "Alexander Mattison",
          "J.D. McKissic",
          "Chase Claypool",
          "Jeff Wilson Jr."
         ],
         "legendgroup": "Dick Cheese",
         "marker": {
          "color": "#FECB52",
          "symbol": "circle"
         },
         "mode": "markers",
         "name": "Dick Cheese",
         "showlegend": true,
         "type": "scatter",
         "x": [
          0,
          2,
          1,
          21,
          1,
          0
         ],
         "xaxis": "x",
         "y": [
          50.2,
          34.2,
          32.9,
          32.3,
          31.5,
          0
         ],
         "yaxis": "y"
        },
        {
         "hovertemplate": "<b>%{hovertext}</b><br><br>Team=Tier 2 never felt so good<br>Bid Amount ($)=%{x}<br>Total points=%{y}<extra></extra>",
         "hovertext": [
          "Jared Cook",
          "Michael Gallup"
         ],
         "legendgroup": "Tier 2 never felt so good",
         "marker": {
          "color": "#636efa",
          "symbol": "circle"
         },
         "mode": "markers",
         "name": "Tier 2 never felt so good",
         "showlegend": true,
         "type": "scatter",
         "x": [
          3,
          8
         ],
         "xaxis": "x",
         "y": [
          41,
          38.400000000000006
         ],
         "yaxis": "y"
        },
        {
         "hovertemplate": "<b>%{hovertext}</b><br><br>Team=Favre's Wranglers<br>Bid Amount ($)=%{x}<br>Total points=%{y}<extra></extra>",
         "hovertext": [
          "Phillip Lindsay",
          "Tyler Higbee"
         ],
         "legendgroup": "Favre's Wranglers",
         "marker": {
          "color": "#EF553B",
          "symbol": "circle"
         },
         "mode": "markers",
         "name": "Favre's Wranglers",
         "showlegend": true,
         "type": "scatter",
         "x": [
          0,
          1
         ],
         "xaxis": "x",
         "y": [
          21.700000000000003,
          8.1
         ],
         "yaxis": "y"
        }
       ],
       "layout": {
        "height": 700,
        "legend": {
         "title": {
          "text": "Team"
         },
         "tracegroupgap": 0
        },
        "template": {
         "data": {
          "bar": [
           {
            "error_x": {
             "color": "#2a3f5f"
            },
            "error_y": {
             "color": "#2a3f5f"
            },
            "marker": {
             "line": {
              "color": "#E5ECF6",
              "width": 0.5
             }
            },
            "type": "bar"
           }
          ],
          "barpolar": [
           {
            "marker": {
             "line": {
              "color": "#E5ECF6",
              "width": 0.5
             }
            },
            "type": "barpolar"
           }
          ],
          "carpet": [
           {
            "aaxis": {
             "endlinecolor": "#2a3f5f",
             "gridcolor": "white",
             "linecolor": "white",
             "minorgridcolor": "white",
             "startlinecolor": "#2a3f5f"
            },
            "baxis": {
             "endlinecolor": "#2a3f5f",
             "gridcolor": "white",
             "linecolor": "white",
             "minorgridcolor": "white",
             "startlinecolor": "#2a3f5f"
            },
            "type": "carpet"
           }
          ],
          "choropleth": [
           {
            "colorbar": {
             "outlinewidth": 0,
             "ticks": ""
            },
            "type": "choropleth"
           }
          ],
          "contour": [
           {
            "colorbar": {
             "outlinewidth": 0,
             "ticks": ""
            },
            "colorscale": [
             [
              0,
              "#0d0887"
             ],
             [
              0.1111111111111111,
              "#46039f"
             ],
             [
              0.2222222222222222,
              "#7201a8"
             ],
             [
              0.3333333333333333,
              "#9c179e"
             ],
             [
              0.4444444444444444,
              "#bd3786"
             ],
             [
              0.5555555555555556,
              "#d8576b"
             ],
             [
              0.6666666666666666,
              "#ed7953"
             ],
             [
              0.7777777777777778,
              "#fb9f3a"
             ],
             [
              0.8888888888888888,
              "#fdca26"
             ],
             [
              1,
              "#f0f921"
             ]
            ],
            "type": "contour"
           }
          ],
          "contourcarpet": [
           {
            "colorbar": {
             "outlinewidth": 0,
             "ticks": ""
            },
            "type": "contourcarpet"
           }
          ],
          "heatmap": [
           {
            "colorbar": {
             "outlinewidth": 0,
             "ticks": ""
            },
            "colorscale": [
             [
              0,
              "#0d0887"
             ],
             [
              0.1111111111111111,
              "#46039f"
             ],
             [
              0.2222222222222222,
              "#7201a8"
             ],
             [
              0.3333333333333333,
              "#9c179e"
             ],
             [
              0.4444444444444444,
              "#bd3786"
             ],
             [
              0.5555555555555556,
              "#d8576b"
             ],
             [
              0.6666666666666666,
              "#ed7953"
             ],
             [
              0.7777777777777778,
              "#fb9f3a"
             ],
             [
              0.8888888888888888,
              "#fdca26"
             ],
             [
              1,
              "#f0f921"
             ]
            ],
            "type": "heatmap"
           }
          ],
          "heatmapgl": [
           {
            "colorbar": {
             "outlinewidth": 0,
             "ticks": ""
            },
            "colorscale": [
             [
              0,
              "#0d0887"
             ],
             [
              0.1111111111111111,
              "#46039f"
             ],
             [
              0.2222222222222222,
              "#7201a8"
             ],
             [
              0.3333333333333333,
              "#9c179e"
             ],
             [
              0.4444444444444444,
              "#bd3786"
             ],
             [
              0.5555555555555556,
              "#d8576b"
             ],
             [
              0.6666666666666666,
              "#ed7953"
             ],
             [
              0.7777777777777778,
              "#fb9f3a"
             ],
             [
              0.8888888888888888,
              "#fdca26"
             ],
             [
              1,
              "#f0f921"
             ]
            ],
            "type": "heatmapgl"
           }
          ],
          "histogram": [
           {
            "marker": {
             "colorbar": {
              "outlinewidth": 0,
              "ticks": ""
             }
            },
            "type": "histogram"
           }
          ],
          "histogram2d": [
           {
            "colorbar": {
             "outlinewidth": 0,
             "ticks": ""
            },
            "colorscale": [
             [
              0,
              "#0d0887"
             ],
             [
              0.1111111111111111,
              "#46039f"
             ],
             [
              0.2222222222222222,
              "#7201a8"
             ],
             [
              0.3333333333333333,
              "#9c179e"
             ],
             [
              0.4444444444444444,
              "#bd3786"
             ],
             [
              0.5555555555555556,
              "#d8576b"
             ],
             [
              0.6666666666666666,
              "#ed7953"
             ],
             [
              0.7777777777777778,
              "#fb9f3a"
             ],
             [
              0.8888888888888888,
              "#fdca26"
             ],
             [
              1,
              "#f0f921"
             ]
            ],
            "type": "histogram2d"
           }
          ],
          "histogram2dcontour": [
           {
            "colorbar": {
             "outlinewidth": 0,
             "ticks": ""
            },
            "colorscale": [
             [
              0,
              "#0d0887"
             ],
             [
              0.1111111111111111,
              "#46039f"
             ],
             [
              0.2222222222222222,
              "#7201a8"
             ],
             [
              0.3333333333333333,
              "#9c179e"
             ],
             [
              0.4444444444444444,
              "#bd3786"
             ],
             [
              0.5555555555555556,
              "#d8576b"
             ],
             [
              0.6666666666666666,
              "#ed7953"
             ],
             [
              0.7777777777777778,
              "#fb9f3a"
             ],
             [
              0.8888888888888888,
              "#fdca26"
             ],
             [
              1,
              "#f0f921"
             ]
            ],
            "type": "histogram2dcontour"
           }
          ],
          "mesh3d": [
           {
            "colorbar": {
             "outlinewidth": 0,
             "ticks": ""
            },
            "type": "mesh3d"
           }
          ],
          "parcoords": [
           {
            "line": {
             "colorbar": {
              "outlinewidth": 0,
              "ticks": ""
             }
            },
            "type": "parcoords"
           }
          ],
          "pie": [
           {
            "automargin": true,
            "type": "pie"
           }
          ],
          "scatter": [
           {
            "marker": {
             "colorbar": {
              "outlinewidth": 0,
              "ticks": ""
             }
            },
            "type": "scatter"
           }
          ],
          "scatter3d": [
           {
            "line": {
             "colorbar": {
              "outlinewidth": 0,
              "ticks": ""
             }
            },
            "marker": {
             "colorbar": {
              "outlinewidth": 0,
              "ticks": ""
             }
            },
            "type": "scatter3d"
           }
          ],
          "scattercarpet": [
           {
            "marker": {
             "colorbar": {
              "outlinewidth": 0,
              "ticks": ""
             }
            },
            "type": "scattercarpet"
           }
          ],
          "scattergeo": [
           {
            "marker": {
             "colorbar": {
              "outlinewidth": 0,
              "ticks": ""
             }
            },
            "type": "scattergeo"
           }
          ],
          "scattergl": [
           {
            "marker": {
             "colorbar": {
              "outlinewidth": 0,
              "ticks": ""
             }
            },
            "type": "scattergl"
           }
          ],
          "scattermapbox": [
           {
            "marker": {
             "colorbar": {
              "outlinewidth": 0,
              "ticks": ""
             }
            },
            "type": "scattermapbox"
           }
          ],
          "scatterpolar": [
           {
            "marker": {
             "colorbar": {
              "outlinewidth": 0,
              "ticks": ""
             }
            },
            "type": "scatterpolar"
           }
          ],
          "scatterpolargl": [
           {
            "marker": {
             "colorbar": {
              "outlinewidth": 0,
              "ticks": ""
             }
            },
            "type": "scatterpolargl"
           }
          ],
          "scatterternary": [
           {
            "marker": {
             "colorbar": {
              "outlinewidth": 0,
              "ticks": ""
             }
            },
            "type": "scatterternary"
           }
          ],
          "surface": [
           {
            "colorbar": {
             "outlinewidth": 0,
             "ticks": ""
            },
            "colorscale": [
             [
              0,
              "#0d0887"
             ],
             [
              0.1111111111111111,
              "#46039f"
             ],
             [
              0.2222222222222222,
              "#7201a8"
             ],
             [
              0.3333333333333333,
              "#9c179e"
             ],
             [
              0.4444444444444444,
              "#bd3786"
             ],
             [
              0.5555555555555556,
              "#d8576b"
             ],
             [
              0.6666666666666666,
              "#ed7953"
             ],
             [
              0.7777777777777778,
              "#fb9f3a"
             ],
             [
              0.8888888888888888,
              "#fdca26"
             ],
             [
              1,
              "#f0f921"
             ]
            ],
            "type": "surface"
           }
          ],
          "table": [
           {
            "cells": {
             "fill": {
              "color": "#EBF0F8"
             },
             "line": {
              "color": "white"
             }
            },
            "header": {
             "fill": {
              "color": "#C8D4E3"
             },
             "line": {
              "color": "white"
             }
            },
            "type": "table"
           }
          ]
         },
         "layout": {
          "annotationdefaults": {
           "arrowcolor": "#2a3f5f",
           "arrowhead": 0,
           "arrowwidth": 1
          },
          "coloraxis": {
           "colorbar": {
            "outlinewidth": 0,
            "ticks": ""
           }
          },
          "colorscale": {
           "diverging": [
            [
             0,
             "#8e0152"
            ],
            [
             0.1,
             "#c51b7d"
            ],
            [
             0.2,
             "#de77ae"
            ],
            [
             0.3,
             "#f1b6da"
            ],
            [
             0.4,
             "#fde0ef"
            ],
            [
             0.5,
             "#f7f7f7"
            ],
            [
             0.6,
             "#e6f5d0"
            ],
            [
             0.7,
             "#b8e186"
            ],
            [
             0.8,
             "#7fbc41"
            ],
            [
             0.9,
             "#4d9221"
            ],
            [
             1,
             "#276419"
            ]
           ],
           "sequential": [
            [
             0,
             "#0d0887"
            ],
            [
             0.1111111111111111,
             "#46039f"
            ],
            [
             0.2222222222222222,
             "#7201a8"
            ],
            [
             0.3333333333333333,
             "#9c179e"
            ],
            [
             0.4444444444444444,
             "#bd3786"
            ],
            [
             0.5555555555555556,
             "#d8576b"
            ],
            [
             0.6666666666666666,
             "#ed7953"
            ],
            [
             0.7777777777777778,
             "#fb9f3a"
            ],
            [
             0.8888888888888888,
             "#fdca26"
            ],
            [
             1,
             "#f0f921"
            ]
           ],
           "sequentialminus": [
            [
             0,
             "#0d0887"
            ],
            [
             0.1111111111111111,
             "#46039f"
            ],
            [
             0.2222222222222222,
             "#7201a8"
            ],
            [
             0.3333333333333333,
             "#9c179e"
            ],
            [
             0.4444444444444444,
             "#bd3786"
            ],
            [
             0.5555555555555556,
             "#d8576b"
            ],
            [
             0.6666666666666666,
             "#ed7953"
            ],
            [
             0.7777777777777778,
             "#fb9f3a"
            ],
            [
             0.8888888888888888,
             "#fdca26"
            ],
            [
             1,
             "#f0f921"
            ]
           ]
          },
          "colorway": [
           "#636efa",
           "#EF553B",
           "#00cc96",
           "#ab63fa",
           "#FFA15A",
           "#19d3f3",
           "#FF6692",
           "#B6E880",
           "#FF97FF",
           "#FECB52"
          ],
          "font": {
           "color": "#2a3f5f"
          },
          "geo": {
           "bgcolor": "white",
           "lakecolor": "white",
           "landcolor": "#E5ECF6",
           "showlakes": true,
           "showland": true,
           "subunitcolor": "white"
          },
          "hoverlabel": {
           "align": "left"
          },
          "hovermode": "closest",
          "mapbox": {
           "style": "light"
          },
          "paper_bgcolor": "white",
          "plot_bgcolor": "#E5ECF6",
          "polar": {
           "angularaxis": {
            "gridcolor": "white",
            "linecolor": "white",
            "ticks": ""
           },
           "bgcolor": "#E5ECF6",
           "radialaxis": {
            "gridcolor": "white",
            "linecolor": "white",
            "ticks": ""
           }
          },
          "scene": {
           "xaxis": {
            "backgroundcolor": "#E5ECF6",
            "gridcolor": "white",
            "gridwidth": 2,
            "linecolor": "white",
            "showbackground": true,
            "ticks": "",
            "zerolinecolor": "white"
           },
           "yaxis": {
            "backgroundcolor": "#E5ECF6",
            "gridcolor": "white",
            "gridwidth": 2,
            "linecolor": "white",
            "showbackground": true,
            "ticks": "",
            "zerolinecolor": "white"
           },
           "zaxis": {
            "backgroundcolor": "#E5ECF6",
            "gridcolor": "white",
            "gridwidth": 2,
            "linecolor": "white",
            "showbackground": true,
            "ticks": "",
            "zerolinecolor": "white"
           }
          },
          "shapedefaults": {
           "line": {
            "color": "#2a3f5f"
           }
          },
          "ternary": {
           "aaxis": {
            "gridcolor": "white",
            "linecolor": "white",
            "ticks": ""
           },
           "baxis": {
            "gridcolor": "white",
            "linecolor": "white",
            "ticks": ""
           },
           "bgcolor": "#E5ECF6",
           "caxis": {
            "gridcolor": "white",
            "linecolor": "white",
            "ticks": ""
           }
          },
          "title": {
           "x": 0.05
          },
          "xaxis": {
           "automargin": true,
           "gridcolor": "white",
           "linecolor": "white",
           "ticks": "",
           "title": {
            "standoff": 15
           },
           "zerolinecolor": "white",
           "zerolinewidth": 2
          },
          "yaxis": {
           "automargin": true,
           "gridcolor": "white",
           "linecolor": "white",
           "ticks": "",
           "title": {
            "standoff": 15
           },
           "zerolinecolor": "white",
           "zerolinewidth": 2
          }
         }
        },
        "title": {
         "text": "FLEX Draft Spending vs. Total Fantasy Points (End of 2021 Season)"
        },
        "width": 900,
        "xaxis": {
         "anchor": "y",
         "domain": [
          0,
          1
         ],
         "range": [
          -1,
          36
         ],
         "title": {
          "text": "Bid Amount ($)"
         }
        },
        "yaxis": {
         "anchor": "x",
         "domain": [
          0,
          1
         ],
         "range": [
          -5,
          186
         ],
         "title": {
          "text": "Total points"
         }
        }
       }
      },
      "text/html": [
       "<div>\n",
       "        \n",
       "        \n",
       "            <div id=\"3f7af167-6231-4b19-b6b3-479d8c36f882\" class=\"plotly-graph-div\" style=\"height:700px; width:900px;\"></div>\n",
       "            <script type=\"text/javascript\">\n",
       "                require([\"plotly\"], function(Plotly) {\n",
       "                    window.PLOTLYENV=window.PLOTLYENV || {};\n",
       "                    \n",
       "                if (document.getElementById(\"3f7af167-6231-4b19-b6b3-479d8c36f882\")) {\n",
       "                    Plotly.newPlot(\n",
       "                        '3f7af167-6231-4b19-b6b3-479d8c36f882',\n",
       "                        [{\"hovertemplate\": \"<b>%{hovertext}</b><br><br>Team=Don't Ekele Me<br>Bid Amount ($)=%{x}<br>Total points=%{y}<extra></extra>\", \"hovertext\": [\"James Conner\", \"Dawson Knox\", \"Marvin Jones Jr.\", \"Michael Carter\", \"Tevin Coleman\", \"Tre'Quan Smith\", \"Latavius Murray\"], \"legendgroup\": \"Don't Ekele Me\", \"marker\": {\"color\": \"#636efa\", \"symbol\": \"circle\"}, \"mode\": \"markers\", \"name\": \"Don't Ekele Me\", \"showlegend\": true, \"type\": \"scatter\", \"x\": [21, 1, 0, 1, 3, 1, 1], \"xaxis\": \"x\", \"y\": [169.6, 97.0, 87.6, 74.9, 17.2, 15.099999999999998, 5.699999999999999], \"yaxis\": \"y\"}, {\"hovertemplate\": \"<b>%{hovertext}</b><br><br>Team=More than a  Thielen<br>Bid Amount ($)=%{x}<br>Total points=%{y}<extra></extra>\", \"hovertext\": [\"Cordarrelle Patterson\", \"Van Jefferson\", \"Devonta Freeman\", \"Tyler Conklin\", \"Rondale Moore\", \"Mecole Hardman\", \"Foster Moreau\"], \"legendgroup\": \"More than a  Thielen\", \"marker\": {\"color\": \"#EF553B\", \"symbol\": \"circle\"}, \"mode\": \"markers\", \"name\": \"More than a  Thielen\", \"showlegend\": true, \"type\": \"scatter\", \"x\": [12, 11, 4, 2, 28, 3, 1], \"xaxis\": \"x\", \"y\": [163.8, 54.900000000000006, 54.300000000000004, 34.8, 22.9, 19.1, 16.7], \"yaxis\": \"y\"}, {\"hovertemplate\": \"<b>%{hovertext}</b><br><br>Team=Tasteful Dak Piks, by CMC<br>Bid Amount ($)=%{x}<br>Total points=%{y}<extra></extra>\", \"hovertext\": [\"Marquise Brown\", \"Chuba Hubbard\", \"Zach Ertz\", \"Tony Pollard\", \"D'Ernest Johnson\", \"Sterling Shepard\", \"Rex Burkhead\", \"Tyler Conklin\", \"Alex Collins\", \"Nyheim Hines\", \"Derrick Henry\", \"J.D. McKissic\"], \"legendgroup\": \"Tasteful Dak Piks, by CMC\", \"marker\": {\"color\": \"#00cc96\", \"symbol\": \"circle\"}, \"mode\": \"markers\", \"name\": \"Tasteful Dak Piks, by CMC\", \"showlegend\": true, \"type\": \"scatter\", \"x\": [5, 33, 3, 0, 2, 13, 1, 3, 1, 8, 1, 2], \"xaxis\": \"x\", \"y\": [151.00000000000003, 85.49999999999999, 84.30000000000001, 61.599999999999994, 56.6, 38.900000000000006, 18.8, 15.899999999999999, 7.0, 4.6000000000000005, 0.0, 0.0], \"yaxis\": \"y\"}, {\"hovertemplate\": \"<b>%{hovertext}</b><br><br>Team=Godwin's Memorial<br>Bid Amount ($)=%{x}<br>Total points=%{y}<extra></extra>\", \"hovertext\": [\"Hunter Renfrow\", \"Pat Freiermuth\", \"Kenyan Drake\", \"Hunter Henry\", \"Jarvis Landry\", \"Courtland Sutton\"], \"legendgroup\": \"Godwin's Memorial\", \"marker\": {\"color\": \"#ab63fa\", \"symbol\": \"circle\"}, \"mode\": \"markers\", \"name\": \"Godwin's Memorial\", \"showlegend\": true, \"type\": \"scatter\", \"x\": [2, 4, 5, 3, 3, 1], \"xaxis\": \"x\", \"y\": [129.7, 46.7, 25.8, 22.6, 16.3, 8.8], \"yaxis\": \"y\"}, {\"hovertemplate\": \"<b>%{hovertext}</b><br><br>Team=Fumble .<br>Bid Amount ($)=%{x}<br>Total points=%{y}<extra></extra>\", \"hovertext\": [\"Elijah Mitchell\", \"Mike Gesicki\", \"Devontae Booker\", \"D'Onta Foreman\", \"T.Y. Hilton\"], \"legendgroup\": \"Fumble .\", \"marker\": {\"color\": \"#FFA15A\", \"symbol\": \"circle\"}, \"mode\": \"markers\", \"name\": \"Fumble .\", \"showlegend\": true, \"type\": \"scatter\", \"x\": [30, 1, 9, 4, 1], \"xaxis\": \"x\", \"y\": [110.6, 95.3, 51.2, 49.6, 0.0], \"yaxis\": \"y\"}, {\"hovertemplate\": \"<b>%{hovertext}</b><br><br>Team=Frankel's Cankles<br>Bid Amount ($)=%{x}<br>Total points=%{y}<extra></extra>\", \"hovertext\": [\"Michael Pittman Jr.\", \"Myles Gaskin\", \"Miles Sanders\", \"Devin Singletary\"], \"legendgroup\": \"Frankel's Cankles\", \"marker\": {\"color\": \"#19d3f3\", \"symbol\": \"circle\"}, \"mode\": \"markers\", \"name\": \"Frankel's Cankles\", \"showlegend\": true, \"type\": \"scatter\", \"x\": [3, 25, 1, 1], \"xaxis\": \"x\", \"y\": [106.89999999999999, 89.4, 45.6, 42.7], \"yaxis\": \"y\"}, {\"hovertemplate\": \"<b>%{hovertext}</b><br><br>Team=Ice City USA<br>Bid Amount ($)=%{x}<br>Total points=%{y}<extra></extra>\", \"hovertext\": [\"Jaylen Waddle\", \"Darnell Mooney\", \"Emmanuel Sanders\", \"Michael Pittman Jr.\", \"Darnell Mooney\", \"Kadarius Toney\", \"Damien Williams\", \"Dontrell Hilliard\"], \"legendgroup\": \"Ice City USA\", \"marker\": {\"color\": \"#FF6692\", \"symbol\": \"circle\"}, \"mode\": \"markers\", \"name\": \"Ice City USA\", \"showlegend\": true, \"type\": \"scatter\", \"x\": [11, 1, 1, 6, 1, 27, 13, 1], \"xaxis\": \"x\", \"y\": [91.4, 52.300000000000004, 45.1, 41.9, 22.9, 19.0, 16.7, 11.600000000000001], \"yaxis\": \"y\"}, {\"hovertemplate\": \"<b>%{hovertext}</b><br><br>Team=Repeat Donger<br>Bid Amount ($)=%{x}<br>Total points=%{y}<extra></extra>\", \"hovertext\": [\"Darrel Williams\", \"A.J. Green\", \"Brandon Aiyuk\", \"Dalton Schultz\", \"Rob Gronkowski\", \"Christian Kirk\", \"Jared Cook\", \"Latavius Murray\"], \"legendgroup\": \"Repeat Donger\", \"marker\": {\"color\": \"#B6E880\", \"symbol\": \"circle\"}, \"mode\": \"markers\", \"name\": \"Repeat Donger\", \"showlegend\": true, \"type\": \"scatter\", \"x\": [23, 16, 1, 10, 1, 3, 3, 11], \"xaxis\": \"x\", \"y\": [80.1, 72.3, 71.80000000000001, 68.6, 58.300000000000004, 32.900000000000006, 23.099999999999998, 18.7], \"yaxis\": \"y\"}, {\"hovertemplate\": \"<b>%{hovertext}</b><br><br>Team=Your Antivax Cousins<br>Bid Amount ($)=%{x}<br>Total points=%{y}<extra></extra>\", \"hovertext\": [\"Tony Pollard\", \"Elijah Moore\", \"Khalil Herbert\", \"Tim Patrick\", \"Alex Collins\", \"Rhamondre Stevenson\", \"Noah Fant\", \"DeVante Parker\"], \"legendgroup\": \"Your Antivax Cousins\", \"marker\": {\"color\": \"#FF97FF\", \"symbol\": \"circle\"}, \"mode\": \"markers\", \"name\": \"Your Antivax Cousins\", \"showlegend\": true, \"type\": \"scatter\", \"x\": [3, 2, 22, 2, 13, 6, 1, 6], \"xaxis\": \"x\", \"y\": [68.2, 62.4, 43.99999999999999, 28.9, 25.6, 24.9, 23.299999999999997, 8.7], \"yaxis\": \"y\"}, {\"hovertemplate\": \"<b>%{hovertext}</b><br><br>Team=Dick Cheese<br>Bid Amount ($)=%{x}<br>Total points=%{y}<extra></extra>\", \"hovertext\": [\"Alexander Mattison\", \"Mark Ingram II\", \"Alexander Mattison\", \"J.D. McKissic\", \"Chase Claypool\", \"Jeff Wilson Jr.\"], \"legendgroup\": \"Dick Cheese\", \"marker\": {\"color\": \"#FECB52\", \"symbol\": \"circle\"}, \"mode\": \"markers\", \"name\": \"Dick Cheese\", \"showlegend\": true, \"type\": \"scatter\", \"x\": [0, 2, 1, 21, 1, 0], \"xaxis\": \"x\", \"y\": [50.2, 34.2, 32.9, 32.3, 31.5, 0.0], \"yaxis\": \"y\"}, {\"hovertemplate\": \"<b>%{hovertext}</b><br><br>Team=Tier 2 never felt so good<br>Bid Amount ($)=%{x}<br>Total points=%{y}<extra></extra>\", \"hovertext\": [\"Jared Cook\", \"Michael Gallup\"], \"legendgroup\": \"Tier 2 never felt so good\", \"marker\": {\"color\": \"#636efa\", \"symbol\": \"circle\"}, \"mode\": \"markers\", \"name\": \"Tier 2 never felt so good\", \"showlegend\": true, \"type\": \"scatter\", \"x\": [3, 8], \"xaxis\": \"x\", \"y\": [41.0, 38.400000000000006], \"yaxis\": \"y\"}, {\"hovertemplate\": \"<b>%{hovertext}</b><br><br>Team=Favre's Wranglers<br>Bid Amount ($)=%{x}<br>Total points=%{y}<extra></extra>\", \"hovertext\": [\"Phillip Lindsay\", \"Tyler Higbee\"], \"legendgroup\": \"Favre's Wranglers\", \"marker\": {\"color\": \"#EF553B\", \"symbol\": \"circle\"}, \"mode\": \"markers\", \"name\": \"Favre's Wranglers\", \"showlegend\": true, \"type\": \"scatter\", \"x\": [0, 1], \"xaxis\": \"x\", \"y\": [21.700000000000003, 8.1], \"yaxis\": \"y\"}],\n",
       "                        {\"height\": 700, \"legend\": {\"title\": {\"text\": \"Team\"}, \"tracegroupgap\": 0}, \"template\": {\"data\": {\"bar\": [{\"error_x\": {\"color\": \"#2a3f5f\"}, \"error_y\": {\"color\": \"#2a3f5f\"}, \"marker\": {\"line\": {\"color\": \"#E5ECF6\", \"width\": 0.5}}, \"type\": \"bar\"}], \"barpolar\": [{\"marker\": {\"line\": {\"color\": \"#E5ECF6\", \"width\": 0.5}}, \"type\": \"barpolar\"}], \"carpet\": [{\"aaxis\": {\"endlinecolor\": \"#2a3f5f\", \"gridcolor\": \"white\", \"linecolor\": \"white\", \"minorgridcolor\": \"white\", \"startlinecolor\": \"#2a3f5f\"}, \"baxis\": {\"endlinecolor\": \"#2a3f5f\", \"gridcolor\": \"white\", \"linecolor\": \"white\", \"minorgridcolor\": \"white\", \"startlinecolor\": \"#2a3f5f\"}, \"type\": \"carpet\"}], \"choropleth\": [{\"colorbar\": {\"outlinewidth\": 0, \"ticks\": \"\"}, \"type\": \"choropleth\"}], \"contour\": [{\"colorbar\": {\"outlinewidth\": 0, \"ticks\": \"\"}, \"colorscale\": [[0.0, \"#0d0887\"], [0.1111111111111111, \"#46039f\"], [0.2222222222222222, \"#7201a8\"], [0.3333333333333333, \"#9c179e\"], [0.4444444444444444, \"#bd3786\"], [0.5555555555555556, \"#d8576b\"], [0.6666666666666666, \"#ed7953\"], [0.7777777777777778, \"#fb9f3a\"], [0.8888888888888888, \"#fdca26\"], [1.0, \"#f0f921\"]], \"type\": \"contour\"}], \"contourcarpet\": [{\"colorbar\": {\"outlinewidth\": 0, \"ticks\": \"\"}, \"type\": \"contourcarpet\"}], \"heatmap\": [{\"colorbar\": {\"outlinewidth\": 0, \"ticks\": \"\"}, \"colorscale\": [[0.0, \"#0d0887\"], [0.1111111111111111, \"#46039f\"], [0.2222222222222222, \"#7201a8\"], [0.3333333333333333, \"#9c179e\"], [0.4444444444444444, \"#bd3786\"], [0.5555555555555556, \"#d8576b\"], [0.6666666666666666, \"#ed7953\"], [0.7777777777777778, \"#fb9f3a\"], [0.8888888888888888, \"#fdca26\"], [1.0, \"#f0f921\"]], \"type\": \"heatmap\"}], \"heatmapgl\": [{\"colorbar\": {\"outlinewidth\": 0, \"ticks\": \"\"}, \"colorscale\": [[0.0, \"#0d0887\"], [0.1111111111111111, \"#46039f\"], [0.2222222222222222, \"#7201a8\"], [0.3333333333333333, \"#9c179e\"], [0.4444444444444444, \"#bd3786\"], [0.5555555555555556, \"#d8576b\"], [0.6666666666666666, \"#ed7953\"], [0.7777777777777778, \"#fb9f3a\"], [0.8888888888888888, \"#fdca26\"], [1.0, \"#f0f921\"]], \"type\": \"heatmapgl\"}], \"histogram\": [{\"marker\": {\"colorbar\": {\"outlinewidth\": 0, \"ticks\": \"\"}}, \"type\": \"histogram\"}], \"histogram2d\": [{\"colorbar\": {\"outlinewidth\": 0, \"ticks\": \"\"}, \"colorscale\": [[0.0, \"#0d0887\"], [0.1111111111111111, \"#46039f\"], [0.2222222222222222, \"#7201a8\"], [0.3333333333333333, \"#9c179e\"], [0.4444444444444444, \"#bd3786\"], [0.5555555555555556, \"#d8576b\"], [0.6666666666666666, \"#ed7953\"], [0.7777777777777778, \"#fb9f3a\"], [0.8888888888888888, \"#fdca26\"], [1.0, \"#f0f921\"]], \"type\": \"histogram2d\"}], \"histogram2dcontour\": [{\"colorbar\": {\"outlinewidth\": 0, \"ticks\": \"\"}, \"colorscale\": [[0.0, \"#0d0887\"], [0.1111111111111111, \"#46039f\"], [0.2222222222222222, \"#7201a8\"], [0.3333333333333333, \"#9c179e\"], [0.4444444444444444, \"#bd3786\"], [0.5555555555555556, \"#d8576b\"], [0.6666666666666666, \"#ed7953\"], [0.7777777777777778, \"#fb9f3a\"], [0.8888888888888888, \"#fdca26\"], [1.0, \"#f0f921\"]], \"type\": \"histogram2dcontour\"}], \"mesh3d\": [{\"colorbar\": {\"outlinewidth\": 0, \"ticks\": \"\"}, \"type\": \"mesh3d\"}], \"parcoords\": [{\"line\": {\"colorbar\": {\"outlinewidth\": 0, \"ticks\": \"\"}}, \"type\": \"parcoords\"}], \"pie\": [{\"automargin\": true, \"type\": \"pie\"}], \"scatter\": [{\"marker\": {\"colorbar\": {\"outlinewidth\": 0, \"ticks\": \"\"}}, \"type\": \"scatter\"}], \"scatter3d\": [{\"line\": {\"colorbar\": {\"outlinewidth\": 0, \"ticks\": \"\"}}, \"marker\": {\"colorbar\": {\"outlinewidth\": 0, \"ticks\": \"\"}}, \"type\": \"scatter3d\"}], \"scattercarpet\": [{\"marker\": {\"colorbar\": {\"outlinewidth\": 0, \"ticks\": \"\"}}, \"type\": \"scattercarpet\"}], \"scattergeo\": [{\"marker\": {\"colorbar\": {\"outlinewidth\": 0, \"ticks\": \"\"}}, \"type\": \"scattergeo\"}], \"scattergl\": [{\"marker\": {\"colorbar\": {\"outlinewidth\": 0, \"ticks\": \"\"}}, \"type\": \"scattergl\"}], \"scattermapbox\": [{\"marker\": {\"colorbar\": {\"outlinewidth\": 0, \"ticks\": \"\"}}, \"type\": \"scattermapbox\"}], \"scatterpolar\": [{\"marker\": {\"colorbar\": {\"outlinewidth\": 0, \"ticks\": \"\"}}, \"type\": \"scatterpolar\"}], \"scatterpolargl\": [{\"marker\": {\"colorbar\": {\"outlinewidth\": 0, \"ticks\": \"\"}}, \"type\": \"scatterpolargl\"}], \"scatterternary\": [{\"marker\": {\"colorbar\": {\"outlinewidth\": 0, \"ticks\": \"\"}}, \"type\": \"scatterternary\"}], \"surface\": [{\"colorbar\": {\"outlinewidth\": 0, \"ticks\": \"\"}, \"colorscale\": [[0.0, \"#0d0887\"], [0.1111111111111111, \"#46039f\"], [0.2222222222222222, \"#7201a8\"], [0.3333333333333333, \"#9c179e\"], [0.4444444444444444, \"#bd3786\"], [0.5555555555555556, \"#d8576b\"], [0.6666666666666666, \"#ed7953\"], [0.7777777777777778, \"#fb9f3a\"], [0.8888888888888888, \"#fdca26\"], [1.0, \"#f0f921\"]], \"type\": \"surface\"}], \"table\": [{\"cells\": {\"fill\": {\"color\": \"#EBF0F8\"}, \"line\": {\"color\": \"white\"}}, \"header\": {\"fill\": {\"color\": \"#C8D4E3\"}, \"line\": {\"color\": \"white\"}}, \"type\": \"table\"}]}, \"layout\": {\"annotationdefaults\": {\"arrowcolor\": \"#2a3f5f\", \"arrowhead\": 0, \"arrowwidth\": 1}, \"coloraxis\": {\"colorbar\": {\"outlinewidth\": 0, \"ticks\": \"\"}}, \"colorscale\": {\"diverging\": [[0, \"#8e0152\"], [0.1, \"#c51b7d\"], [0.2, \"#de77ae\"], [0.3, \"#f1b6da\"], [0.4, \"#fde0ef\"], [0.5, \"#f7f7f7\"], [0.6, \"#e6f5d0\"], [0.7, \"#b8e186\"], [0.8, \"#7fbc41\"], [0.9, \"#4d9221\"], [1, \"#276419\"]], \"sequential\": [[0.0, \"#0d0887\"], [0.1111111111111111, \"#46039f\"], [0.2222222222222222, \"#7201a8\"], [0.3333333333333333, \"#9c179e\"], [0.4444444444444444, \"#bd3786\"], [0.5555555555555556, \"#d8576b\"], [0.6666666666666666, \"#ed7953\"], [0.7777777777777778, \"#fb9f3a\"], [0.8888888888888888, \"#fdca26\"], [1.0, \"#f0f921\"]], \"sequentialminus\": [[0.0, \"#0d0887\"], [0.1111111111111111, \"#46039f\"], [0.2222222222222222, \"#7201a8\"], [0.3333333333333333, \"#9c179e\"], [0.4444444444444444, \"#bd3786\"], [0.5555555555555556, \"#d8576b\"], [0.6666666666666666, \"#ed7953\"], [0.7777777777777778, \"#fb9f3a\"], [0.8888888888888888, \"#fdca26\"], [1.0, \"#f0f921\"]]}, \"colorway\": [\"#636efa\", \"#EF553B\", \"#00cc96\", \"#ab63fa\", \"#FFA15A\", \"#19d3f3\", \"#FF6692\", \"#B6E880\", \"#FF97FF\", \"#FECB52\"], \"font\": {\"color\": \"#2a3f5f\"}, \"geo\": {\"bgcolor\": \"white\", \"lakecolor\": \"white\", \"landcolor\": \"#E5ECF6\", \"showlakes\": true, \"showland\": true, \"subunitcolor\": \"white\"}, \"hoverlabel\": {\"align\": \"left\"}, \"hovermode\": \"closest\", \"mapbox\": {\"style\": \"light\"}, \"paper_bgcolor\": \"white\", \"plot_bgcolor\": \"#E5ECF6\", \"polar\": {\"angularaxis\": {\"gridcolor\": \"white\", \"linecolor\": \"white\", \"ticks\": \"\"}, \"bgcolor\": \"#E5ECF6\", \"radialaxis\": {\"gridcolor\": \"white\", \"linecolor\": \"white\", \"ticks\": \"\"}}, \"scene\": {\"xaxis\": {\"backgroundcolor\": \"#E5ECF6\", \"gridcolor\": \"white\", \"gridwidth\": 2, \"linecolor\": \"white\", \"showbackground\": true, \"ticks\": \"\", \"zerolinecolor\": \"white\"}, \"yaxis\": {\"backgroundcolor\": \"#E5ECF6\", \"gridcolor\": \"white\", \"gridwidth\": 2, \"linecolor\": \"white\", \"showbackground\": true, \"ticks\": \"\", \"zerolinecolor\": \"white\"}, \"zaxis\": {\"backgroundcolor\": \"#E5ECF6\", \"gridcolor\": \"white\", \"gridwidth\": 2, \"linecolor\": \"white\", \"showbackground\": true, \"ticks\": \"\", \"zerolinecolor\": \"white\"}}, \"shapedefaults\": {\"line\": {\"color\": \"#2a3f5f\"}}, \"ternary\": {\"aaxis\": {\"gridcolor\": \"white\", \"linecolor\": \"white\", \"ticks\": \"\"}, \"baxis\": {\"gridcolor\": \"white\", \"linecolor\": \"white\", \"ticks\": \"\"}, \"bgcolor\": \"#E5ECF6\", \"caxis\": {\"gridcolor\": \"white\", \"linecolor\": \"white\", \"ticks\": \"\"}}, \"title\": {\"x\": 0.05}, \"xaxis\": {\"automargin\": true, \"gridcolor\": \"white\", \"linecolor\": \"white\", \"ticks\": \"\", \"title\": {\"standoff\": 15}, \"zerolinecolor\": \"white\", \"zerolinewidth\": 2}, \"yaxis\": {\"automargin\": true, \"gridcolor\": \"white\", \"linecolor\": \"white\", \"ticks\": \"\", \"title\": {\"standoff\": 15}, \"zerolinecolor\": \"white\", \"zerolinewidth\": 2}}}, \"title\": {\"text\": \"FLEX Draft Spending vs. Total Fantasy Points (End of 2021 Season)\"}, \"width\": 900, \"xaxis\": {\"anchor\": \"y\", \"domain\": [0.0, 1.0], \"range\": [-1, 36], \"title\": {\"text\": \"Bid Amount ($)\"}}, \"yaxis\": {\"anchor\": \"x\", \"domain\": [0.0, 1.0], \"range\": [-5, 186], \"title\": {\"text\": \"Total points\"}}},\n",
       "                        {\"responsive\": true}\n",
       "                    ).then(function(){\n",
       "                            \n",
       "var gd = document.getElementById('3f7af167-6231-4b19-b6b3-479d8c36f882');\n",
       "var x = new MutationObserver(function (mutations, observer) {{\n",
       "        var display = window.getComputedStyle(gd).display;\n",
       "        if (!display || display === 'none') {{\n",
       "            console.log([gd, 'removed!']);\n",
       "            Plotly.purge(gd);\n",
       "            observer.disconnect();\n",
       "        }}\n",
       "}});\n",
       "\n",
       "// Listen for the removal of the full notebook cells\n",
       "var notebookContainer = gd.closest('#notebook-container');\n",
       "if (notebookContainer) {{\n",
       "    x.observe(notebookContainer, {childList: true});\n",
       "}}\n",
       "\n",
       "// Listen for the clearing of the current output cell\n",
       "var outputEl = gd.closest('.output');\n",
       "if (outputEl) {{\n",
       "    x.observe(outputEl, {childList: true});\n",
       "}}\n",
       "\n",
       "                        })\n",
       "                };\n",
       "                });\n",
       "            </script>\n",
       "        </div>"
      ]
     },
     "metadata": {},
     "output_type": "display_data"
    }
   ],
   "source": [
    "import plotly.express as px\n",
    "\n",
    "\n",
    "df_stints_f_waiver1 = df_stints_f_waiver[df_stints_f_waiver['Position'].isin(['RB','WR','TE'])]\n",
    "# output_filename = '2020_FF_Draft_Value_plot.html'\n",
    "plot_title = 'FLEX Draft Spending vs. Total Fantasy Points (End of 2021 Season)'\n",
    "f=px.scatter(df_stints_f_waiver1, x=\"Bid Amount ($)\", y=\"Total points\",hover_name=\"Player\",width=900, height=700,color='Team',title=plot_title)\n",
    "\n",
    "# x_min_pos = 10\n",
    "# y_min_pos = 10\n",
    "# x_max_pos = int(df_flex['$'].max()*0.9)\n",
    "# y_max_pos = int(df_flex['FPTS'].max()*0.9)\n",
    "\n",
    "# f.add_trace(go.Scatter(\n",
    "#     x=[x_min_pos , x_min_pos, x_max_pos, x_max_pos],\n",
    "#     y=[y_min_pos, y_max_pos, y_min_pos, y_max_pos],\n",
    "#     mode=\"text\",\n",
    "#     text=[\"Low Cost, Low Value\", \"Low Cost, High Value\", \"High Cost, Low Value\", \"High Cost, High Value\"],\n",
    "#     textposition=\"top center\"\n",
    "# ))\n",
    "f.update_layout(xaxis_range=[-1, int(df_stints_f_waiver1[\"Bid Amount ($)\"].max()*1.1)])\n",
    "f.update_layout(yaxis_range=[-5,int(df_stints_f_waiver1[\"Total points\"].max()*1.1)])\n",
    "\n",
    "f.show()\n",
    "\n",
    "import plotly.io as pio\n",
    "# pio.write_html(f, file=output_filename, auto_open=True, include_plotlyjs=\"cdn\")"
   ]
  },
  {
   "cell_type": "code",
   "execution_count": 589,
   "metadata": {},
   "outputs": [
    {
     "data": {
      "text/html": [
       "<div>\n",
       "<style scoped>\n",
       "    .dataframe tbody tr th:only-of-type {\n",
       "        vertical-align: middle;\n",
       "    }\n",
       "\n",
       "    .dataframe tbody tr th {\n",
       "        vertical-align: top;\n",
       "    }\n",
       "\n",
       "    .dataframe thead th {\n",
       "        text-align: right;\n",
       "    }\n",
       "</style>\n",
       "<table border=\"1\" class=\"dataframe\">\n",
       "  <thead>\n",
       "    <tr style=\"text-align: right;\">\n",
       "      <th></th>\n",
       "      <th>index</th>\n",
       "      <th>Player</th>\n",
       "      <th>ProTeam</th>\n",
       "      <th>Team</th>\n",
       "      <th>Action</th>\n",
       "      <th>Bid Amount ($)</th>\n",
       "      <th>Action Timestamp</th>\n",
       "      <th>Timestamp</th>\n",
       "    </tr>\n",
       "    <tr>\n",
       "      <th>ordered_index</th>\n",
       "      <th></th>\n",
       "      <th></th>\n",
       "      <th></th>\n",
       "      <th></th>\n",
       "      <th></th>\n",
       "      <th></th>\n",
       "      <th></th>\n",
       "      <th></th>\n",
       "    </tr>\n",
       "  </thead>\n",
       "  <tbody>\n",
       "    <tr>\n",
       "      <th>0</th>\n",
       "      <td>50</td>\n",
       "      <td>Derrick Henry</td>\n",
       "      <td>TEN</td>\n",
       "      <td>Ice City USA</td>\n",
       "      <td>DRAFT ADDED</td>\n",
       "      <td>84</td>\n",
       "      <td>2021-09-08</td>\n",
       "      <td>1631084400000</td>\n",
       "    </tr>\n",
       "    <tr>\n",
       "      <th>1</th>\n",
       "      <td>470</td>\n",
       "      <td>Derrick Henry</td>\n",
       "      <td>TEN</td>\n",
       "      <td>Ice City USA</td>\n",
       "      <td>DROPPED</td>\n",
       "      <td>0</td>\n",
       "      <td>2021-11-03</td>\n",
       "      <td>1635951638354</td>\n",
       "    </tr>\n",
       "    <tr>\n",
       "      <th>2</th>\n",
       "      <td>492</td>\n",
       "      <td>Derrick Henry</td>\n",
       "      <td>TEN</td>\n",
       "      <td>Tasteful Dak Piks, by CMC</td>\n",
       "      <td>WAIVER ADDED</td>\n",
       "      <td>1</td>\n",
       "      <td>2021-11-04</td>\n",
       "      <td>1636038145494</td>\n",
       "    </tr>\n",
       "  </tbody>\n",
       "</table>\n",
       "</div>"
      ],
      "text/plain": [
       "               index         Player ProTeam                       Team  \\\n",
       "ordered_index                                                            \n",
       "0                 50  Derrick Henry     TEN               Ice City USA   \n",
       "1                470  Derrick Henry     TEN               Ice City USA   \n",
       "2                492  Derrick Henry     TEN  Tasteful Dak Piks, by CMC   \n",
       "\n",
       "                     Action  Bid Amount ($) Action Timestamp      Timestamp  \n",
       "ordered_index                                                                \n",
       "0               DRAFT ADDED              84       2021-09-08  1631084400000  \n",
       "1                   DROPPED               0       2021-11-03  1635951638354  \n",
       "2              WAIVER ADDED               1       2021-11-04  1636038145494  "
      ]
     },
     "execution_count": 589,
     "metadata": {},
     "output_type": "execute_result"
    }
   ],
   "source": [
    "# date1 = df_test_acq.loc[0,'Timestamp']\n",
    "\n",
    "proteam = df_test_acq.loc[0,'ProTeam']\n",
    "\n",
    "import datetime\n",
    "# Convert microseconds to date\n",
    "\n",
    "df_proteam_schedules_one_team = pd.DataFrame(data=df_proteam_schedules.loc[:,proteam])\n",
    "\n",
    "df_proteam_schedules_one_team['Week'] = df_proteam_schedules_one_team.index\n",
    "\n",
    "df_proteam_schedules_one_team.rename(columns = {proteam:'Game Date'} , inplace=True)\n",
    "\n",
    "df_proteam_schedules_one_team = df_proteam_schedules_one_team[df_proteam_schedules_one_team['Game Date'] != 'BYE']\n",
    "\n",
    "df_test_acq"
   ]
  },
  {
   "cell_type": "code",
   "execution_count": 921,
   "metadata": {},
   "outputs": [
    {
     "ename": "TypeError",
     "evalue": "get_stint_info() missing 1 required positional argument: 'idx'",
     "output_type": "error",
     "traceback": [
      "\u001b[0;31m---------------------------------------------------------------------------\u001b[0m",
      "\u001b[0;31mTypeError\u001b[0m                                 Traceback (most recent call last)",
      "\u001b[0;32m<ipython-input-921-bfbcf229f7d3>\u001b[0m in \u001b[0;36m<module>\u001b[0;34m\u001b[0m\n\u001b[1;32m     18\u001b[0m             \u001b[0mn\u001b[0m \u001b[0;34m+=\u001b[0m \u001b[0;36m1\u001b[0m\u001b[0;34m\u001b[0m\u001b[0;34m\u001b[0m\u001b[0m\n\u001b[1;32m     19\u001b[0m             df_stints = get_stint_info(df_test_acq , df_proteam_schedules_one_team , n , idx, \n\u001b[0;32m---> 20\u001b[0;31m                                       is_current = False)\n\u001b[0m\u001b[1;32m     21\u001b[0m \u001b[0;34m\u001b[0m\u001b[0m\n\u001b[1;32m     22\u001b[0m \u001b[0;31m# in case if the player is still on a team, get current stint:\u001b[0m\u001b[0;34m\u001b[0m\u001b[0;34m\u001b[0m\u001b[0;34m\u001b[0m\u001b[0m\n",
      "\u001b[0;31mTypeError\u001b[0m: get_stint_info() missing 1 required positional argument: 'idx'"
     ]
    }
   ],
   "source": [
    "# Build dataframe for all stints\n",
    "\n",
    "cols = ['Player' , 'ProTeam' , 'Team' , 'Action' , 'Bid Amount ($)' , 'Stint (wks)']\n",
    "df_stints = pd.DataFrame(data=[] , columns = cols)\n",
    "\n",
    "max_idx = df_test_acq.index[-1]\n",
    "\n",
    "n = 0\n",
    "\n",
    "for idx , row in df_test_acq.iterrows():\n",
    "    \n",
    "    if idx < max_idx:\n",
    "        cond_1 = 'ADDED' in df_test_acq.loc[idx , 'Action']\n",
    "        cond_2 = 'DROPPED' in df_test_acq.loc[idx+1 , 'Action']\n",
    "        \n",
    "        if cond_1 and cond_2:\n",
    "            \n",
    "            n += 1            \n",
    "            df_stints = get_stint_info(df_test_acq , df_proteam_schedules_one_team , n , idx, \n",
    "                                      is_current = False)\n",
    "            \n",
    "# in case if the player is still on a team, get current stint:\n",
    "if 'ADDED' in df_test_acq.loc[max_idx , 'Action']:\n",
    "    n = n+1\n",
    "    df_stints = get_stint_info(df_test_acq , df_proteam_schedules_one_team , n , max_idx, \n",
    "                                      is_current = True)\n",
    "\n"
   ]
  },
  {
   "cell_type": "code",
   "execution_count": 585,
   "metadata": {},
   "outputs": [
    {
     "data": {
      "text/html": [
       "<div>\n",
       "<style scoped>\n",
       "    .dataframe tbody tr th:only-of-type {\n",
       "        vertical-align: middle;\n",
       "    }\n",
       "\n",
       "    .dataframe tbody tr th {\n",
       "        vertical-align: top;\n",
       "    }\n",
       "\n",
       "    .dataframe thead th {\n",
       "        text-align: right;\n",
       "    }\n",
       "</style>\n",
       "<table border=\"1\" class=\"dataframe\">\n",
       "  <thead>\n",
       "    <tr style=\"text-align: right;\">\n",
       "      <th></th>\n",
       "      <th>Player</th>\n",
       "      <th>ProTeam</th>\n",
       "      <th>Team</th>\n",
       "      <th>Action</th>\n",
       "      <th>Bid Amount ($)</th>\n",
       "      <th>Stint (wks)</th>\n",
       "    </tr>\n",
       "  </thead>\n",
       "  <tbody>\n",
       "    <tr>\n",
       "      <th>1</th>\n",
       "      <td>Derrick Henry</td>\n",
       "      <td>TEN</td>\n",
       "      <td>Ice City USA</td>\n",
       "      <td>DRAFT</td>\n",
       "      <td>84</td>\n",
       "      <td>[1, 2, 3, 4, 5, 6, 7, 8]</td>\n",
       "    </tr>\n",
       "    <tr>\n",
       "      <th>2</th>\n",
       "      <td>Derrick Henry</td>\n",
       "      <td>TEN</td>\n",
       "      <td>Tasteful Dak Piks, by CMC</td>\n",
       "      <td>WAIVER</td>\n",
       "      <td>1</td>\n",
       "      <td>[9, 10, 11, 12, 14, 15, 16]</td>\n",
       "    </tr>\n",
       "  </tbody>\n",
       "</table>\n",
       "</div>"
      ],
      "text/plain": [
       "          Player ProTeam                       Team  Action Bid Amount ($)  \\\n",
       "1  Derrick Henry     TEN               Ice City USA   DRAFT             84   \n",
       "2  Derrick Henry     TEN  Tasteful Dak Piks, by CMC  WAIVER              1   \n",
       "\n",
       "                   Stint (wks)  \n",
       "1     [1, 2, 3, 4, 5, 6, 7, 8]  \n",
       "2  [9, 10, 11, 12, 14, 15, 16]  "
      ]
     },
     "execution_count": 585,
     "metadata": {},
     "output_type": "execute_result"
    }
   ],
   "source": [
    "df_stints "
   ]
  },
  {
   "cell_type": "code",
   "execution_count": 586,
   "metadata": {},
   "outputs": [
    {
     "data": {
      "text/html": [
       "<div>\n",
       "<style scoped>\n",
       "    .dataframe tbody tr th:only-of-type {\n",
       "        vertical-align: middle;\n",
       "    }\n",
       "\n",
       "    .dataframe tbody tr th {\n",
       "        vertical-align: top;\n",
       "    }\n",
       "\n",
       "    .dataframe thead th {\n",
       "        text-align: right;\n",
       "    }\n",
       "</style>\n",
       "<table border=\"1\" class=\"dataframe\">\n",
       "  <thead>\n",
       "    <tr style=\"text-align: right;\">\n",
       "      <th></th>\n",
       "      <th>index</th>\n",
       "      <th>Player</th>\n",
       "      <th>ProTeam</th>\n",
       "      <th>Team</th>\n",
       "      <th>Action</th>\n",
       "      <th>Bid Amount ($)</th>\n",
       "      <th>Action Timestamp</th>\n",
       "      <th>Timestamp</th>\n",
       "    </tr>\n",
       "    <tr>\n",
       "      <th>ordered_index</th>\n",
       "      <th></th>\n",
       "      <th></th>\n",
       "      <th></th>\n",
       "      <th></th>\n",
       "      <th></th>\n",
       "      <th></th>\n",
       "      <th></th>\n",
       "      <th></th>\n",
       "    </tr>\n",
       "  </thead>\n",
       "  <tbody>\n",
       "    <tr>\n",
       "      <th>0</th>\n",
       "      <td>50</td>\n",
       "      <td>Derrick Henry</td>\n",
       "      <td>TEN</td>\n",
       "      <td>Ice City USA</td>\n",
       "      <td>DRAFT ADDED</td>\n",
       "      <td>84</td>\n",
       "      <td>2021-09-08</td>\n",
       "      <td>1631084400000</td>\n",
       "    </tr>\n",
       "    <tr>\n",
       "      <th>1</th>\n",
       "      <td>470</td>\n",
       "      <td>Derrick Henry</td>\n",
       "      <td>TEN</td>\n",
       "      <td>Ice City USA</td>\n",
       "      <td>DROPPED</td>\n",
       "      <td>0</td>\n",
       "      <td>2021-11-03</td>\n",
       "      <td>1635951638354</td>\n",
       "    </tr>\n",
       "    <tr>\n",
       "      <th>2</th>\n",
       "      <td>492</td>\n",
       "      <td>Derrick Henry</td>\n",
       "      <td>TEN</td>\n",
       "      <td>Tasteful Dak Piks, by CMC</td>\n",
       "      <td>WAIVER ADDED</td>\n",
       "      <td>1</td>\n",
       "      <td>2021-11-04</td>\n",
       "      <td>1636038145494</td>\n",
       "    </tr>\n",
       "  </tbody>\n",
       "</table>\n",
       "</div>"
      ],
      "text/plain": [
       "               index         Player ProTeam                       Team  \\\n",
       "ordered_index                                                            \n",
       "0                 50  Derrick Henry     TEN               Ice City USA   \n",
       "1                470  Derrick Henry     TEN               Ice City USA   \n",
       "2                492  Derrick Henry     TEN  Tasteful Dak Piks, by CMC   \n",
       "\n",
       "                     Action  Bid Amount ($) Action Timestamp      Timestamp  \n",
       "ordered_index                                                                \n",
       "0               DRAFT ADDED              84       2021-09-08  1631084400000  \n",
       "1                   DROPPED               0       2021-11-03  1635951638354  \n",
       "2              WAIVER ADDED               1       2021-11-04  1636038145494  "
      ]
     },
     "execution_count": 586,
     "metadata": {},
     "output_type": "execute_result"
    }
   ],
   "source": [
    "df_test_acq"
   ]
  },
  {
   "cell_type": "code",
   "execution_count": null,
   "metadata": {},
   "outputs": [],
   "source": []
  },
  {
   "cell_type": "code",
   "execution_count": 193,
   "metadata": {},
   "outputs": [],
   "source": [
    "df_draft_f = df_draft.join(df_player_stats)\n",
    "df_draft_f['Player1'] = df_draft_f.index"
   ]
  },
  {
   "cell_type": "code",
   "execution_count": 194,
   "metadata": {},
   "outputs": [
    {
     "data": {
      "text/html": [
       "<div>\n",
       "<style scoped>\n",
       "    .dataframe tbody tr th:only-of-type {\n",
       "        vertical-align: middle;\n",
       "    }\n",
       "\n",
       "    .dataframe tbody tr th {\n",
       "        vertical-align: top;\n",
       "    }\n",
       "\n",
       "    .dataframe thead th {\n",
       "        text-align: right;\n",
       "    }\n",
       "</style>\n",
       "<table border=\"1\" class=\"dataframe\">\n",
       "  <thead>\n",
       "    <tr style=\"text-align: right;\">\n",
       "      <th></th>\n",
       "      <th>Acquired by</th>\n",
       "      <th>Action</th>\n",
       "      <th>Bid Amount ($)</th>\n",
       "      <th>Position</th>\n",
       "      <th>Pro Team</th>\n",
       "      <th>Total points</th>\n",
       "      <th>Current Team</th>\n",
       "      <th>Player1</th>\n",
       "    </tr>\n",
       "    <tr>\n",
       "      <th>Player</th>\n",
       "      <th></th>\n",
       "      <th></th>\n",
       "      <th></th>\n",
       "      <th></th>\n",
       "      <th></th>\n",
       "      <th></th>\n",
       "      <th></th>\n",
       "      <th></th>\n",
       "    </tr>\n",
       "  </thead>\n",
       "  <tbody>\n",
       "    <tr>\n",
       "      <th>49ers D/ST</th>\n",
       "      <td>Repeat Donger</td>\n",
       "      <td>Draft</td>\n",
       "      <td>1</td>\n",
       "      <td>D/ST</td>\n",
       "      <td>SF</td>\n",
       "      <td>83.0</td>\n",
       "      <td>Fumble .</td>\n",
       "      <td>49ers D/ST</td>\n",
       "    </tr>\n",
       "    <tr>\n",
       "      <th>A.J. Brown</th>\n",
       "      <td>Mostert's Monsters</td>\n",
       "      <td>Draft</td>\n",
       "      <td>38</td>\n",
       "      <td>WR</td>\n",
       "      <td>TEN</td>\n",
       "      <td>103.5</td>\n",
       "      <td>Mostert's Monsters</td>\n",
       "      <td>A.J. Brown</td>\n",
       "    </tr>\n",
       "    <tr>\n",
       "      <th>AJ Dillon</th>\n",
       "      <td>Tier 2 never felt so good</td>\n",
       "      <td>Draft</td>\n",
       "      <td>2</td>\n",
       "      <td>RB</td>\n",
       "      <td>GB</td>\n",
       "      <td>123.0</td>\n",
       "      <td>Tier 2 never felt so good</td>\n",
       "      <td>AJ Dillon</td>\n",
       "    </tr>\n",
       "    <tr>\n",
       "      <th>Aaron Jones</th>\n",
       "      <td>Frankel's Cankles</td>\n",
       "      <td>Draft</td>\n",
       "      <td>56</td>\n",
       "      <td>RB</td>\n",
       "      <td>GB</td>\n",
       "      <td>164.7</td>\n",
       "      <td>Frankel's Cankles</td>\n",
       "      <td>Aaron Jones</td>\n",
       "    </tr>\n",
       "    <tr>\n",
       "      <th>Aaron Rodgers</th>\n",
       "      <td>Mostert's Monsters</td>\n",
       "      <td>Draft</td>\n",
       "      <td>6</td>\n",
       "      <td>QB</td>\n",
       "      <td>GB</td>\n",
       "      <td>253.5</td>\n",
       "      <td>Mostert's Monsters</td>\n",
       "      <td>Aaron Rodgers</td>\n",
       "    </tr>\n",
       "    <tr>\n",
       "      <th>...</th>\n",
       "      <td>...</td>\n",
       "      <td>...</td>\n",
       "      <td>...</td>\n",
       "      <td>...</td>\n",
       "      <td>...</td>\n",
       "      <td>...</td>\n",
       "      <td>...</td>\n",
       "      <td>...</td>\n",
       "    </tr>\n",
       "    <tr>\n",
       "      <th>Tyreek Hill</th>\n",
       "      <td>Fumble .</td>\n",
       "      <td>Draft</td>\n",
       "      <td>57</td>\n",
       "      <td>WR</td>\n",
       "      <td>KC</td>\n",
       "      <td>230.2</td>\n",
       "      <td>Fumble .</td>\n",
       "      <td>Tyreek Hill</td>\n",
       "    </tr>\n",
       "    <tr>\n",
       "      <th>Washington D/ST</th>\n",
       "      <td>More than a  Thielen</td>\n",
       "      <td>Draft</td>\n",
       "      <td>2</td>\n",
       "      <td>D/ST</td>\n",
       "      <td>WSH</td>\n",
       "      <td>56.0</td>\n",
       "      <td>Free agent</td>\n",
       "      <td>Washington D/ST</td>\n",
       "    </tr>\n",
       "    <tr>\n",
       "      <th>William Fuller V</th>\n",
       "      <td>Frankel's Cankles</td>\n",
       "      <td>Draft</td>\n",
       "      <td>5</td>\n",
       "      <td>WR</td>\n",
       "      <td>MIA</td>\n",
       "      <td>6.6</td>\n",
       "      <td>Free agent</td>\n",
       "      <td>William Fuller V</td>\n",
       "    </tr>\n",
       "    <tr>\n",
       "      <th>Younghoe Koo</th>\n",
       "      <td>Mostert's Monsters</td>\n",
       "      <td>Draft</td>\n",
       "      <td>8</td>\n",
       "      <td>K</td>\n",
       "      <td>ATL</td>\n",
       "      <td>86.0</td>\n",
       "      <td>Free agent</td>\n",
       "      <td>Younghoe Koo</td>\n",
       "    </tr>\n",
       "    <tr>\n",
       "      <th>Zack Moss</th>\n",
       "      <td>Favre's Wranglers</td>\n",
       "      <td>Draft</td>\n",
       "      <td>1</td>\n",
       "      <td>RB</td>\n",
       "      <td>BUF</td>\n",
       "      <td>84.4</td>\n",
       "      <td>Favre's Wranglers</td>\n",
       "      <td>Zack Moss</td>\n",
       "    </tr>\n",
       "  </tbody>\n",
       "</table>\n",
       "<p>156 rows × 8 columns</p>\n",
       "</div>"
      ],
      "text/plain": [
       "                                Acquired by Action  Bid Amount ($) Position  \\\n",
       "Player                                                                        \n",
       "49ers D/ST                    Repeat Donger  Draft               1     D/ST   \n",
       "A.J. Brown               Mostert's Monsters  Draft              38       WR   \n",
       "AJ Dillon         Tier 2 never felt so good  Draft               2       RB   \n",
       "Aaron Jones               Frankel's Cankles  Draft              56       RB   \n",
       "Aaron Rodgers            Mostert's Monsters  Draft               6       QB   \n",
       "...                                     ...    ...             ...      ...   \n",
       "Tyreek Hill                        Fumble .  Draft              57       WR   \n",
       "Washington D/ST        More than a  Thielen  Draft               2     D/ST   \n",
       "William Fuller V          Frankel's Cankles  Draft               5       WR   \n",
       "Younghoe Koo             Mostert's Monsters  Draft               8        K   \n",
       "Zack Moss                 Favre's Wranglers  Draft               1       RB   \n",
       "\n",
       "                 Pro Team  Total points               Current Team  \\\n",
       "Player                                                               \n",
       "49ers D/ST             SF          83.0                   Fumble .   \n",
       "A.J. Brown            TEN         103.5         Mostert's Monsters   \n",
       "AJ Dillon              GB         123.0  Tier 2 never felt so good   \n",
       "Aaron Jones            GB         164.7          Frankel's Cankles   \n",
       "Aaron Rodgers          GB         253.5         Mostert's Monsters   \n",
       "...                   ...           ...                        ...   \n",
       "Tyreek Hill            KC         230.2                   Fumble .   \n",
       "Washington D/ST       WSH          56.0                 Free agent   \n",
       "William Fuller V      MIA           6.6                 Free agent   \n",
       "Younghoe Koo          ATL          86.0                 Free agent   \n",
       "Zack Moss             BUF          84.4          Favre's Wranglers   \n",
       "\n",
       "                           Player1  \n",
       "Player                              \n",
       "49ers D/ST              49ers D/ST  \n",
       "A.J. Brown              A.J. Brown  \n",
       "AJ Dillon                AJ Dillon  \n",
       "Aaron Jones            Aaron Jones  \n",
       "Aaron Rodgers        Aaron Rodgers  \n",
       "...                            ...  \n",
       "Tyreek Hill            Tyreek Hill  \n",
       "Washington D/ST    Washington D/ST  \n",
       "William Fuller V  William Fuller V  \n",
       "Younghoe Koo          Younghoe Koo  \n",
       "Zack Moss                Zack Moss  \n",
       "\n",
       "[156 rows x 8 columns]"
      ]
     },
     "execution_count": 194,
     "metadata": {},
     "output_type": "execute_result"
    }
   ],
   "source": [
    "df_draft_f"
   ]
  },
  {
   "cell_type": "code",
   "execution_count": 195,
   "metadata": {},
   "outputs": [],
   "source": [
    "df_draft_f['Player-info'] = df_draft_f['Player1'] + ' ' + df_draft_f['Position'] + ' (' + df_draft_f['Pro Team'] + ')'"
   ]
  },
  {
   "cell_type": "code",
   "execution_count": 150,
   "metadata": {},
   "outputs": [],
   "source": [
    "# df_f1 = df.join(df_player_stats)"
   ]
  },
  {
   "cell_type": "code",
   "execution_count": null,
   "metadata": {},
   "outputs": [],
   "source": [
    "df_player_stats"
   ]
  },
  {
   "cell_type": "code",
   "execution_count": 170,
   "metadata": {},
   "outputs": [
    {
     "ename": "ValueError",
     "evalue": "Value of 'hover_name' is not the name of a column in 'data_frame'. Expected one of ['Timestamp', 'Player', 'ProTeam', 'Acquired by', 'Action', 'Bid Amount ($)', 'Position', 'Pro Team', 'Total points', 'Current Team'] but received: Player-info",
     "output_type": "error",
     "traceback": [
      "\u001b[0;31m---------------------------------------------------------------------------\u001b[0m",
      "\u001b[0;31mValueError\u001b[0m                                Traceback (most recent call last)",
      "\u001b[0;32m<ipython-input-170-02485b4a8164>\u001b[0m in \u001b[0;36m<module>\u001b[0;34m\u001b[0m\n\u001b[1;32m      4\u001b[0m \u001b[0;34m\u001b[0m\u001b[0m\n\u001b[1;32m      5\u001b[0m              \u001b[0mhover_name\u001b[0m\u001b[0;34m=\u001b[0m\u001b[0;34m'Player-info'\u001b[0m\u001b[0;34m,\u001b[0m\u001b[0;34m\u001b[0m\u001b[0;34m\u001b[0m\u001b[0m\n\u001b[0;32m----> 6\u001b[0;31m               width=900, height=700,color='Acquired by')\n\u001b[0m\u001b[1;32m      7\u001b[0m \u001b[0;34m\u001b[0m\u001b[0m\n\u001b[1;32m      8\u001b[0m \u001b[0mf\u001b[0m\u001b[0;34m.\u001b[0m\u001b[0mupdate_layout\u001b[0m\u001b[0;34m(\u001b[0m\u001b[0mxaxis_range\u001b[0m\u001b[0;34m=\u001b[0m\u001b[0;34m[\u001b[0m\u001b[0;34m-\u001b[0m\u001b[0;36m5\u001b[0m\u001b[0;34m,\u001b[0m\u001b[0;36m40\u001b[0m\u001b[0;34m]\u001b[0m\u001b[0;34m)\u001b[0m\u001b[0;34m\u001b[0m\u001b[0;34m\u001b[0m\u001b[0m\n",
      "\u001b[0;32m/opt/anaconda3/lib/python3.7/site-packages/plotly/express/_chart_types.py\u001b[0m in \u001b[0;36mscatter\u001b[0;34m(data_frame, x, y, color, symbol, size, hover_name, hover_data, custom_data, text, facet_row, facet_col, facet_col_wrap, error_x, error_x_minus, error_y, error_y_minus, animation_frame, animation_group, category_orders, labels, color_discrete_sequence, color_discrete_map, color_continuous_scale, range_color, color_continuous_midpoint, symbol_sequence, symbol_map, opacity, size_max, marginal_x, marginal_y, trendline, trendline_color_override, log_x, log_y, range_x, range_y, render_mode, title, template, width, height)\u001b[0m\n\u001b[1;32m     53\u001b[0m     \u001b[0mmark\u001b[0m \u001b[0;32min\u001b[0m \u001b[0;36m2\u001b[0m\u001b[0mD\u001b[0m \u001b[0mspace\u001b[0m\u001b[0;34m.\u001b[0m\u001b[0;34m\u001b[0m\u001b[0;34m\u001b[0m\u001b[0m\n\u001b[1;32m     54\u001b[0m     \"\"\"\n\u001b[0;32m---> 55\u001b[0;31m     \u001b[0;32mreturn\u001b[0m \u001b[0mmake_figure\u001b[0m\u001b[0;34m(\u001b[0m\u001b[0margs\u001b[0m\u001b[0;34m=\u001b[0m\u001b[0mlocals\u001b[0m\u001b[0;34m(\u001b[0m\u001b[0;34m)\u001b[0m\u001b[0;34m,\u001b[0m \u001b[0mconstructor\u001b[0m\u001b[0;34m=\u001b[0m\u001b[0mgo\u001b[0m\u001b[0;34m.\u001b[0m\u001b[0mScatter\u001b[0m\u001b[0;34m)\u001b[0m\u001b[0;34m\u001b[0m\u001b[0;34m\u001b[0m\u001b[0m\n\u001b[0m\u001b[1;32m     56\u001b[0m \u001b[0;34m\u001b[0m\u001b[0m\n\u001b[1;32m     57\u001b[0m \u001b[0;34m\u001b[0m\u001b[0m\n",
      "\u001b[0;32m/opt/anaconda3/lib/python3.7/site-packages/plotly/express/_core.py\u001b[0m in \u001b[0;36mmake_figure\u001b[0;34m(args, constructor, trace_patch, layout_patch)\u001b[0m\n\u001b[1;32m   1366\u001b[0m \u001b[0;34m\u001b[0m\u001b[0m\n\u001b[1;32m   1367\u001b[0m     args, trace_specs, grouped_mappings, sizeref, show_colorbar = infer_config(\n\u001b[0;32m-> 1368\u001b[0;31m         \u001b[0margs\u001b[0m\u001b[0;34m,\u001b[0m \u001b[0mconstructor\u001b[0m\u001b[0;34m,\u001b[0m \u001b[0mtrace_patch\u001b[0m\u001b[0;34m\u001b[0m\u001b[0;34m\u001b[0m\u001b[0m\n\u001b[0m\u001b[1;32m   1369\u001b[0m     )\n\u001b[1;32m   1370\u001b[0m     \u001b[0mgrouper\u001b[0m \u001b[0;34m=\u001b[0m \u001b[0;34m[\u001b[0m\u001b[0mx\u001b[0m\u001b[0;34m.\u001b[0m\u001b[0mgrouper\u001b[0m \u001b[0;32mor\u001b[0m \u001b[0mone_group\u001b[0m \u001b[0;32mfor\u001b[0m \u001b[0mx\u001b[0m \u001b[0;32min\u001b[0m \u001b[0mgrouped_mappings\u001b[0m\u001b[0;34m]\u001b[0m \u001b[0;32mor\u001b[0m \u001b[0;34m[\u001b[0m\u001b[0mone_group\u001b[0m\u001b[0;34m]\u001b[0m\u001b[0;34m\u001b[0m\u001b[0;34m\u001b[0m\u001b[0m\n",
      "\u001b[0;32m/opt/anaconda3/lib/python3.7/site-packages/plotly/express/_core.py\u001b[0m in \u001b[0;36minfer_config\u001b[0;34m(args, constructor, trace_patch)\u001b[0m\n\u001b[1;32m   1209\u001b[0m             \u001b[0mall_attrables\u001b[0m \u001b[0;34m+=\u001b[0m \u001b[0;34m[\u001b[0m\u001b[0mgroup_attr\u001b[0m\u001b[0;34m]\u001b[0m\u001b[0;34m\u001b[0m\u001b[0;34m\u001b[0m\u001b[0m\n\u001b[1;32m   1210\u001b[0m \u001b[0;34m\u001b[0m\u001b[0m\n\u001b[0;32m-> 1211\u001b[0;31m     \u001b[0margs\u001b[0m \u001b[0;34m=\u001b[0m \u001b[0mbuild_dataframe\u001b[0m\u001b[0;34m(\u001b[0m\u001b[0margs\u001b[0m\u001b[0;34m,\u001b[0m \u001b[0mall_attrables\u001b[0m\u001b[0;34m,\u001b[0m \u001b[0marray_attrables\u001b[0m\u001b[0;34m)\u001b[0m\u001b[0;34m\u001b[0m\u001b[0;34m\u001b[0m\u001b[0m\n\u001b[0m\u001b[1;32m   1212\u001b[0m     \u001b[0;32mif\u001b[0m \u001b[0mconstructor\u001b[0m \u001b[0;32min\u001b[0m \u001b[0;34m[\u001b[0m\u001b[0mgo\u001b[0m\u001b[0;34m.\u001b[0m\u001b[0mTreemap\u001b[0m\u001b[0;34m,\u001b[0m \u001b[0mgo\u001b[0m\u001b[0;34m.\u001b[0m\u001b[0mSunburst\u001b[0m\u001b[0;34m]\u001b[0m \u001b[0;32mand\u001b[0m \u001b[0margs\u001b[0m\u001b[0;34m[\u001b[0m\u001b[0;34m\"path\"\u001b[0m\u001b[0;34m]\u001b[0m \u001b[0;32mis\u001b[0m \u001b[0;32mnot\u001b[0m \u001b[0;32mNone\u001b[0m\u001b[0;34m:\u001b[0m\u001b[0;34m\u001b[0m\u001b[0;34m\u001b[0m\u001b[0m\n\u001b[1;32m   1213\u001b[0m         \u001b[0margs\u001b[0m \u001b[0;34m=\u001b[0m \u001b[0mprocess_dataframe_hierarchy\u001b[0m\u001b[0;34m(\u001b[0m\u001b[0margs\u001b[0m\u001b[0;34m)\u001b[0m\u001b[0;34m\u001b[0m\u001b[0;34m\u001b[0m\u001b[0m\n",
      "\u001b[0;32m/opt/anaconda3/lib/python3.7/site-packages/plotly/express/_core.py\u001b[0m in \u001b[0;36mbuild_dataframe\u001b[0;34m(args, attrables, array_attrables)\u001b[0m\n\u001b[1;32m    973\u001b[0m                             \u001b[0;34m\"\\n To use the index, pass it in directly as `df.index`.\"\u001b[0m\u001b[0;34m\u001b[0m\u001b[0;34m\u001b[0m\u001b[0m\n\u001b[1;32m    974\u001b[0m                         )\n\u001b[0;32m--> 975\u001b[0;31m                     \u001b[0;32mraise\u001b[0m \u001b[0mValueError\u001b[0m\u001b[0;34m(\u001b[0m\u001b[0merr_msg\u001b[0m\u001b[0;34m)\u001b[0m\u001b[0;34m\u001b[0m\u001b[0;34m\u001b[0m\u001b[0m\n\u001b[0m\u001b[1;32m    976\u001b[0m                 \u001b[0;32mif\u001b[0m \u001b[0mlength\u001b[0m \u001b[0;32mand\u001b[0m \u001b[0mlen\u001b[0m\u001b[0;34m(\u001b[0m\u001b[0mdf_input\u001b[0m\u001b[0;34m[\u001b[0m\u001b[0margument\u001b[0m\u001b[0;34m]\u001b[0m\u001b[0;34m)\u001b[0m \u001b[0;34m!=\u001b[0m \u001b[0mlength\u001b[0m\u001b[0;34m:\u001b[0m\u001b[0;34m\u001b[0m\u001b[0;34m\u001b[0m\u001b[0m\n\u001b[1;32m    977\u001b[0m                     raise ValueError(\n",
      "\u001b[0;31mValueError\u001b[0m: Value of 'hover_name' is not the name of a column in 'data_frame'. Expected one of ['Timestamp', 'Player', 'ProTeam', 'Acquired by', 'Action', 'Bid Amount ($)', 'Position', 'Pro Team', 'Total points', 'Current Team'] but received: Player-info"
     ]
    }
   ],
   "source": [
    "# sns.scatterplot(data=df_f2,x = 'Bid Amount ($)', y = 'Total points')\n",
    "df_f3 = df_f1[df_f1['Position'].isin(['RB','WR','TE'])]\n",
    "f=px.scatter(df_f3, x='Bid Amount ($)', y='Total points',\n",
    "\n",
    "             B = 'Player-info',\n",
    "              width=900, height=700,color='Acquired by')\n",
    "\n",
    "f.update_layout(xaxis_range=[-5,40])\n",
    "f.update_layout(yaxis_range=[-5,200])\n",
    "\n",
    "f.show()\n"
   ]
  },
  {
   "cell_type": "code",
   "execution_count": 346,
   "metadata": {},
   "outputs": [],
   "source": [
    "df_f3 = df_f2[df_f2['Position'].isin(['RB','WR','TE'])]"
   ]
  },
  {
   "cell_type": "code",
   "execution_count": 1,
   "metadata": {},
   "outputs": [
    {
     "ename": "NameError",
     "evalue": "name 'alt' is not defined",
     "output_type": "error",
     "traceback": [
      "\u001b[0;31m---------------------------------------------------------------------------\u001b[0m",
      "\u001b[0;31mNameError\u001b[0m                                 Traceback (most recent call last)",
      "\u001b[0;32m<ipython-input-1-3e1107a1dc86>\u001b[0m in \u001b[0;36m<module>\u001b[0;34m\u001b[0m\n\u001b[0;32m----> 1\u001b[0;31m alt.Chart(df_f3).mark_circle(size=60).encode(\n\u001b[0m\u001b[1;32m      2\u001b[0m     \u001b[0mx\u001b[0m\u001b[0;34m=\u001b[0m\u001b[0;34m'Bid Amount ($)'\u001b[0m\u001b[0;34m,\u001b[0m \u001b[0my\u001b[0m\u001b[0;34m=\u001b[0m\u001b[0;34m'Total points'\u001b[0m\u001b[0;34m,\u001b[0m\u001b[0;34m\u001b[0m\u001b[0;34m\u001b[0m\u001b[0m\n\u001b[1;32m      3\u001b[0m     \u001b[0mcolor\u001b[0m\u001b[0;34m=\u001b[0m\u001b[0;34m'Acquired by'\u001b[0m\u001b[0;34m,\u001b[0m\u001b[0;34m\u001b[0m\u001b[0;34m\u001b[0m\u001b[0m\n\u001b[1;32m      4\u001b[0m     tooltip=['Player1',\n\u001b[1;32m      5\u001b[0m             'Acquired by']\n",
      "\u001b[0;31mNameError\u001b[0m: name 'alt' is not defined"
     ]
    }
   ],
   "source": [
    "alt.Chart(df_f3).mark_circle(size=60).encode(\n",
    "    x='Bid Amount ($)', y='Total points',\n",
    "    color='Acquired by',\n",
    "    tooltip=['Player1',\n",
    "            'Acquired by']\n",
    ").interactive()"
   ]
  },
  {
   "cell_type": "code",
   "execution_count": 160,
   "metadata": {},
   "outputs": [
    {
     "data": {
      "text/html": [
       "<div>\n",
       "<style scoped>\n",
       "    .dataframe tbody tr th:only-of-type {\n",
       "        vertical-align: middle;\n",
       "    }\n",
       "\n",
       "    .dataframe tbody tr th {\n",
       "        vertical-align: top;\n",
       "    }\n",
       "\n",
       "    .dataframe thead th {\n",
       "        text-align: right;\n",
       "    }\n",
       "</style>\n",
       "<table border=\"1\" class=\"dataframe\">\n",
       "  <thead>\n",
       "    <tr style=\"text-align: right;\">\n",
       "      <th></th>\n",
       "      <th>Acquired by</th>\n",
       "      <th>Action</th>\n",
       "      <th>Bid Amount ($)</th>\n",
       "      <th>Position</th>\n",
       "      <th>Pro Team</th>\n",
       "      <th>Total points</th>\n",
       "      <th>Current Team</th>\n",
       "    </tr>\n",
       "    <tr>\n",
       "      <th>Player</th>\n",
       "      <th></th>\n",
       "      <th></th>\n",
       "      <th></th>\n",
       "      <th></th>\n",
       "      <th></th>\n",
       "      <th></th>\n",
       "      <th></th>\n",
       "    </tr>\n",
       "  </thead>\n",
       "  <tbody>\n",
       "    <tr>\n",
       "      <th>49ers D/ST</th>\n",
       "      <td>Repeat Donger</td>\n",
       "      <td>Draft</td>\n",
       "      <td>1</td>\n",
       "      <td>D/ST</td>\n",
       "      <td>SF</td>\n",
       "      <td>83.0</td>\n",
       "      <td>Fumble .</td>\n",
       "    </tr>\n",
       "    <tr>\n",
       "      <th>A.J. Brown</th>\n",
       "      <td>Mostert's Monsters</td>\n",
       "      <td>Draft</td>\n",
       "      <td>38</td>\n",
       "      <td>WR</td>\n",
       "      <td>TEN</td>\n",
       "      <td>103.5</td>\n",
       "      <td>Mostert's Monsters</td>\n",
       "    </tr>\n",
       "    <tr>\n",
       "      <th>AJ Dillon</th>\n",
       "      <td>Tier 2 never felt so good</td>\n",
       "      <td>Draft</td>\n",
       "      <td>2</td>\n",
       "      <td>RB</td>\n",
       "      <td>GB</td>\n",
       "      <td>123.0</td>\n",
       "      <td>Tier 2 never felt so good</td>\n",
       "    </tr>\n",
       "    <tr>\n",
       "      <th>Aaron Jones</th>\n",
       "      <td>Frankel's Cankles</td>\n",
       "      <td>Draft</td>\n",
       "      <td>56</td>\n",
       "      <td>RB</td>\n",
       "      <td>GB</td>\n",
       "      <td>164.7</td>\n",
       "      <td>Frankel's Cankles</td>\n",
       "    </tr>\n",
       "    <tr>\n",
       "      <th>Aaron Rodgers</th>\n",
       "      <td>Mostert's Monsters</td>\n",
       "      <td>Draft</td>\n",
       "      <td>6</td>\n",
       "      <td>QB</td>\n",
       "      <td>GB</td>\n",
       "      <td>253.5</td>\n",
       "      <td>Mostert's Monsters</td>\n",
       "    </tr>\n",
       "    <tr>\n",
       "      <th>...</th>\n",
       "      <td>...</td>\n",
       "      <td>...</td>\n",
       "      <td>...</td>\n",
       "      <td>...</td>\n",
       "      <td>...</td>\n",
       "      <td>...</td>\n",
       "      <td>...</td>\n",
       "    </tr>\n",
       "    <tr>\n",
       "      <th>Tyreek Hill</th>\n",
       "      <td>Fumble .</td>\n",
       "      <td>Draft</td>\n",
       "      <td>57</td>\n",
       "      <td>WR</td>\n",
       "      <td>KC</td>\n",
       "      <td>230.2</td>\n",
       "      <td>Fumble .</td>\n",
       "    </tr>\n",
       "    <tr>\n",
       "      <th>Washington D/ST</th>\n",
       "      <td>More than a  Thielen</td>\n",
       "      <td>Draft</td>\n",
       "      <td>2</td>\n",
       "      <td>D/ST</td>\n",
       "      <td>WSH</td>\n",
       "      <td>56.0</td>\n",
       "      <td>Free agent</td>\n",
       "    </tr>\n",
       "    <tr>\n",
       "      <th>William Fuller V</th>\n",
       "      <td>Frankel's Cankles</td>\n",
       "      <td>Draft</td>\n",
       "      <td>5</td>\n",
       "      <td>WR</td>\n",
       "      <td>MIA</td>\n",
       "      <td>6.6</td>\n",
       "      <td>Free agent</td>\n",
       "    </tr>\n",
       "    <tr>\n",
       "      <th>Younghoe Koo</th>\n",
       "      <td>Mostert's Monsters</td>\n",
       "      <td>Draft</td>\n",
       "      <td>8</td>\n",
       "      <td>K</td>\n",
       "      <td>ATL</td>\n",
       "      <td>86.0</td>\n",
       "      <td>Free agent</td>\n",
       "    </tr>\n",
       "    <tr>\n",
       "      <th>Zack Moss</th>\n",
       "      <td>Favre's Wranglers</td>\n",
       "      <td>Draft</td>\n",
       "      <td>1</td>\n",
       "      <td>RB</td>\n",
       "      <td>BUF</td>\n",
       "      <td>84.4</td>\n",
       "      <td>Favre's Wranglers</td>\n",
       "    </tr>\n",
       "  </tbody>\n",
       "</table>\n",
       "<p>156 rows × 7 columns</p>\n",
       "</div>"
      ],
      "text/plain": [
       "                                Acquired by Action  Bid Amount ($) Position  \\\n",
       "Player                                                                        \n",
       "49ers D/ST                    Repeat Donger  Draft               1     D/ST   \n",
       "A.J. Brown               Mostert's Monsters  Draft              38       WR   \n",
       "AJ Dillon         Tier 2 never felt so good  Draft               2       RB   \n",
       "Aaron Jones               Frankel's Cankles  Draft              56       RB   \n",
       "Aaron Rodgers            Mostert's Monsters  Draft               6       QB   \n",
       "...                                     ...    ...             ...      ...   \n",
       "Tyreek Hill                        Fumble .  Draft              57       WR   \n",
       "Washington D/ST        More than a  Thielen  Draft               2     D/ST   \n",
       "William Fuller V          Frankel's Cankles  Draft               5       WR   \n",
       "Younghoe Koo             Mostert's Monsters  Draft               8        K   \n",
       "Zack Moss                 Favre's Wranglers  Draft               1       RB   \n",
       "\n",
       "                 Pro Team  Total points               Current Team  \n",
       "Player                                                              \n",
       "49ers D/ST             SF          83.0                   Fumble .  \n",
       "A.J. Brown            TEN         103.5         Mostert's Monsters  \n",
       "AJ Dillon              GB         123.0  Tier 2 never felt so good  \n",
       "Aaron Jones            GB         164.7          Frankel's Cankles  \n",
       "Aaron Rodgers          GB         253.5         Mostert's Monsters  \n",
       "...                   ...           ...                        ...  \n",
       "Tyreek Hill            KC         230.2                   Fumble .  \n",
       "Washington D/ST       WSH          56.0                 Free agent  \n",
       "William Fuller V      MIA           6.6                 Free agent  \n",
       "Younghoe Koo          ATL          86.0                 Free agent  \n",
       "Zack Moss             BUF          84.4          Favre's Wranglers  \n",
       "\n",
       "[156 rows x 7 columns]"
      ]
     },
     "execution_count": 160,
     "metadata": {},
     "output_type": "execute_result"
    }
   ],
   "source": [
    "df_draft_f"
   ]
  },
  {
   "cell_type": "code",
   "execution_count": 482,
   "metadata": {},
   "outputs": [
    {
     "data": {
      "application/vnd.plotly.v1+json": {
       "config": {
        "plotlyServerURL": "https://plot.ly"
       },
       "data": [
        {
         "hovertemplate": "<b>%{hovertext}</b><br><br>Acquired by=Ice City USA<br>Bid Amount ($)=%{x}<br>Total points=%{y}<extra></extra>",
         "hovertext": [
          "Derrick Henry RB (TEN)",
          "DK Metcalf WR (SEA)",
          "David Montgomery RB (CHI)",
          "Mark Andrews TE (BAL)",
          "DeVonta Smith WR (PHI)",
          "DJ Chark Jr. WR (JAX)",
          "Michael Pittman Jr. WR (IND)",
          "Nyheim Hines RB (IND)",
          "Leonard Fournette RB (TB)",
          "Jaylen Waddle WR (MIA)"
         ],
         "legendgroup": "Ice City USA",
         "marker": {
          "color": "#636efa",
          "symbol": "circle"
         },
         "mode": "markers",
         "name": "Ice City USA",
         "showlegend": true,
         "type": "scatter",
         "x": [
          84,
          42,
          30,
          16,
          12,
          2,
          2,
          1,
          1,
          1
         ],
         "xaxis": "x",
         "y": [
          184.3,
          151.3,
          117.1,
          170.1,
          119.1,
          30.9,
          155.8,
          76.3,
          210.9,
          156.2
         ],
         "yaxis": "y"
        },
        {
         "hovertemplate": "<b>%{hovertext}</b><br><br>Acquired by=Sweetless in Seattle<br>Bid Amount ($)=%{x}<br>Total points=%{y}<extra></extra>",
         "hovertext": [
          "Christian McCaffrey RB (CAR)",
          "Davante Adams WR (GB)",
          "Justin Jefferson WR (MIN)",
          "Russell Gage WR (ATL)",
          "Henry Ruggs III WR (None)",
          "Chuba Hubbard RB (CAR)",
          "J.D. McKissic RB (WSH)",
          "Jonnu Smith TE (NE)",
          "Jamison Crowder WR (NYJ)",
          "James White RB (NE)"
         ],
         "legendgroup": "Sweetless in Seattle",
         "marker": {
          "color": "#EF553B",
          "symbol": "circle"
         },
         "mode": "markers",
         "name": "Sweetless in Seattle",
         "showlegend": true,
         "type": "scatter",
         "x": [
          83,
          63,
          42,
          1,
          1,
          1,
          1,
          1,
          1,
          1
         ],
         "xaxis": "x",
         "y": [
          109,
          211.4,
          219.5,
          77.4,
          72.5,
          92.7,
          106.4,
          48.9,
          75.6,
          25.2
         ],
         "yaxis": "y"
        },
        {
         "hovertemplate": "<b>%{hovertext}</b><br><br>Acquired by=Repeat Donger<br>Bid Amount ($)=%{x}<br>Total points=%{y}<extra></extra>",
         "hovertext": [
          "Ezekiel Elliott RB (DAL)",
          "Stefon Diggs WR (BUF)",
          "Odell Beckham Jr. WR (LAR)",
          "Josh Jacobs RB (OAK)",
          "Tyler Boyd WR (CIN)",
          "Kareem Hunt RB (CLE)",
          "Noah Fant TE (DEN)",
          "Michael Gallup WR (DAL)",
          "James Conner RB (ARI)",
          "Ronald Jones II RB (TB)"
         ],
         "legendgroup": "Repeat Donger",
         "marker": {
          "color": "#00cc96",
          "symbol": "circle"
         },
         "mode": "markers",
         "name": "Repeat Donger",
         "showlegend": true,
         "type": "scatter",
         "x": [
          70,
          57,
          20,
          16,
          10,
          10,
          5,
          2,
          2,
          2
         ],
         "xaxis": "x",
         "y": [
          184,
          178.2,
          79,
          139.8,
          104.6,
          99,
          92,
          51.9,
          206.9,
          47.8
         ],
         "yaxis": "y"
        },
        {
         "hovertemplate": "<b>%{hovertext}</b><br><br>Acquired by=Dick Cheese<br>Bid Amount ($)=%{x}<br>Total points=%{y}<extra></extra>",
         "hovertext": [
          "Dalvin Cook RB (MIN)",
          "Keenan Allen WR (LAC)",
          "Clyde Edwards-Helaire RB (KC)",
          "James Robinson RB (JAX)",
          "Courtland Sutton WR (DEN)",
          "Deebo Samuel WR (SF)",
          "Corey Davis WR (NYJ)",
          "Marvin Jones Jr. WR (JAX)",
          "Antonio Brown WR (TB)",
          "Dallas Goedert TE (PHI)"
         ],
         "legendgroup": "Dick Cheese",
         "marker": {
          "color": "#ab63fa",
          "symbol": "circle"
         },
         "mode": "markers",
         "name": "Dick Cheese",
         "showlegend": true,
         "type": "scatter",
         "x": [
          70,
          37,
          36,
          33,
          8,
          4,
          3,
          2,
          2,
          1
         ],
         "xaxis": "x",
         "y": [
          171.7,
          178.7,
          98.5,
          141.1,
          103.8,
          217.3,
          88.2,
          106,
          80.9,
          106.1
         ],
         "yaxis": "y"
        },
        {
         "hovertemplate": "<b>%{hovertext}</b><br><br>Acquired by=More than a  Thielen<br>Bid Amount ($)=%{x}<br>Total points=%{y}<extra></extra>",
         "hovertext": [
          "Alvin Kamara RB (NO)",
          "Darren Waller TE (OAK)",
          "Robert Woods WR (LAR)",
          "Adam Thielen WR (MIN)",
          "Javonte Williams RB (DEN)",
          "Chase Claypool WR (PIT)",
          "Kenyan Drake RB (OAK)",
          "Mike Williams WR (LAC)",
          "David Johnson RB (HOU)",
          "Jalen Reagor WR (PHI)"
         ],
         "legendgroup": "More than a  Thielen",
         "marker": {
          "color": "#FFA15A",
          "symbol": "circle"
         },
         "mode": "markers",
         "name": "More than a  Thielen",
         "showlegend": true,
         "type": "scatter",
         "x": [
          68,
          35,
          33,
          21,
          6,
          5,
          3,
          2,
          1,
          1
         ],
         "xaxis": "x",
         "y": [
          164.5,
          102.8,
          114.7,
          160.8,
          153.2,
          110.4,
          87.5,
          172.4,
          57,
          48.3
         ],
         "yaxis": "y"
        },
        {
         "hovertemplate": "<b>%{hovertext}</b><br><br>Acquired by=Favre's Wranglers<br>Bid Amount ($)=%{x}<br>Total points=%{y}<extra></extra>",
         "hovertext": [
          "Travis Kelce TE (KC)",
          "Saquon Barkley RB (NYG)",
          "Mike Evans WR (TB)",
          "DJ Moore WR (CAR)",
          "Kenny Golladay WR (NYG)",
          "Jerry Jeudy WR (DEN)",
          "Curtis Samuel WR (WSH)",
          "Cole Beasley WR (BUF)",
          "Jakobi Meyers WR (NE)",
          "Zack Moss RB (BUF)"
         ],
         "legendgroup": "Favre's Wranglers",
         "marker": {
          "color": "#19d3f3",
          "symbol": "circle"
         },
         "mode": "markers",
         "name": "Favre's Wranglers",
         "showlegend": true,
         "type": "scatter",
         "x": [
          67,
          63,
          30,
          17,
          9,
          7,
          1,
          1,
          1,
          1
         ],
         "xaxis": "x",
         "y": [
          194.5,
          100.8,
          187,
          155.3,
          56.4,
          54.5,
          6.8,
          102.5,
          103.3,
          84.4
         ],
         "yaxis": "y"
        },
        {
         "hovertemplate": "<b>%{hovertext}</b><br><br>Acquired by=Ridley me This<br>Bid Amount ($)=%{x}<br>Total points=%{y}<extra></extra>",
         "hovertext": [
          "Nick Chubb RB (CLE)",
          "Antonio Gibson RB (WSH)",
          "Calvin Ridley WR (ATL)",
          "Tyler Lockett WR (SEA)",
          "Laviska Shenault Jr. WR (JAX)",
          "Michael Carter RB (NYJ)",
          "Ja'Marr Chase WR (CIN)",
          "Trey Sermon RB (SF)",
          "Tyler Higbee TE (LAR)",
          "Mecole Hardman WR (KC)"
         ],
         "legendgroup": "Ridley me This",
         "marker": {
          "color": "#FF6692",
          "symbol": "circle"
         },
         "mode": "markers",
         "name": "Ridley me This",
         "showlegend": true,
         "type": "scatter",
         "x": [
          61,
          49,
          43,
          22,
          5,
          3,
          3,
          3,
          1,
          1
         ],
         "xaxis": "x",
         "y": [
          151.3,
          158.2,
          55.6,
          165.3,
          77.6,
          111.8,
          197.6,
          26.8,
          79.5,
          79.7
         ],
         "yaxis": "y"
        },
        {
         "hovertemplate": "<b>%{hovertext}</b><br><br>Acquired by=Mostert's Monsters<br>Bid Amount ($)=%{x}<br>Total points=%{y}<extra></extra>",
         "hovertext": [
          "Jonathan Taylor RB (IND)",
          "A.J. Brown WR (TEN)",
          "Chris Godwin WR (TB)",
          "Darrell Henderson Jr. RB (LAR)",
          "Logan Thomas TE (WSH)",
          "Sony Michel RB (LAR)",
          "Raheem Mostert RB (SF)",
          "Michael Thomas WR (NO)",
          "Kyle Pitts TE (ATL)",
          "Devin Singletary RB (BUF)"
         ],
         "legendgroup": "Mostert's Monsters",
         "marker": {
          "color": "#B6E880",
          "symbol": "circle"
         },
         "mode": "markers",
         "name": "Mostert's Monsters",
         "showlegend": true,
         "type": "scatter",
         "x": [
          58,
          38,
          19,
          17,
          9,
          7,
          6,
          5,
          5,
          1
         ],
         "xaxis": "x",
         "y": [
          290.4,
          103.5,
          185.5,
          143.5,
          44.6,
          80.5,
          2,
          0,
          110,
          98.2
         ],
         "yaxis": "y"
        },
        {
         "hovertemplate": "<b>%{hovertext}</b><br><br>Acquired by=Fumble .<br>Bid Amount ($)=%{x}<br>Total points=%{y}<extra></extra>",
         "hovertext": [
          "Tyreek Hill WR (KC)",
          "Terry McLaurin WR (WSH)",
          "Cooper Kupp WR (LAR)",
          "D'Andre Swift RB (DET)",
          "Myles Gaskin RB (MIA)",
          "Brandon Aiyuk WR (SF)",
          "Mike Davis RB (ATL)",
          "Melvin Gordon III RB (DEN)",
          "Ty'Son Williams RB (BAL)",
          "Mike Gesicki TE (MIA)"
         ],
         "legendgroup": "Fumble .",
         "marker": {
          "color": "#FF97FF",
          "symbol": "circle"
         },
         "mode": "markers",
         "name": "Fumble .",
         "showlegend": true,
         "type": "scatter",
         "x": [
          57,
          36,
          29,
          29,
          14,
          13,
          12,
          5,
          1,
          1
         ],
         "xaxis": "x",
         "y": [
          230.2,
          142.5,
          278.9,
          160.4,
          136.8,
          101.1,
          97.6,
          149.2,
          37,
          107.7
         ],
         "yaxis": "y"
        },
        {
         "hovertemplate": "<b>%{hovertext}</b><br><br>Acquired by=Frankel's Cankles<br>Bid Amount ($)=%{x}<br>Total points=%{y}<extra></extra>",
         "hovertext": [
          "Aaron Jones RB (GB)",
          "CeeDee Lamb WR (DAL)",
          "Allen Robinson II WR (CHI)",
          "Gus Edwards RB (BAL)",
          "Tee Higgins WR (CIN)",
          "Chase Edmonds RB (ARI)",
          "T.J. Hockenson TE (DET)",
          "JuJu Smith-Schuster WR (PIT)",
          "William Fuller V WR (MIA)"
         ],
         "legendgroup": "Frankel's Cankles",
         "marker": {
          "color": "#FECB52",
          "symbol": "circle"
         },
         "mode": "markers",
         "name": "Frankel's Cankles",
         "showlegend": true,
         "type": "scatter",
         "x": [
          56,
          32,
          29,
          22,
          16,
          7,
          7,
          6,
          5
         ],
         "xaxis": "x",
         "y": [
          164.7,
          164.8,
          57.3,
          0,
          133.7,
          83.1,
          114.8,
          27.3,
          6.6
         ],
         "yaxis": "y"
        },
        {
         "hovertemplate": "<b>%{hovertext}</b><br><br>Acquired by=Don't Ekele Me<br>Bid Amount ($)=%{x}<br>Total points=%{y}<extra></extra>",
         "hovertext": [
          "Austin Ekeler RB (LAC)",
          "George Kittle TE (SF)",
          "Miles Sanders RB (PHI)",
          "Amari Cooper WR (DAL)",
          "Diontae Johnson WR (PIT)",
          "Robby Anderson WR (CAR)",
          "Brandin Cooks WR (HOU)",
          "Jarvis Landry WR (CLE)",
          "Marquise Brown WR (BAL)",
          "Jamaal Williams RB (DET)"
         ],
         "legendgroup": "Don't Ekele Me",
         "marker": {
          "color": "#636efa",
          "symbol": "circle"
         },
         "mode": "markers",
         "name": "Don't Ekele Me",
         "showlegend": true,
         "type": "scatter",
         "x": [
          54,
          32,
          30,
          29,
          17,
          8,
          8,
          3,
          2,
          1
         ],
         "xaxis": "x",
         "y": [
          263.7,
          139.6,
          83.3,
          129,
          179.8,
          79.5,
          140.9,
          76.1,
          158.1,
          81.5
         ],
         "yaxis": "y"
        },
        {
         "hovertemplate": "<b>%{hovertext}</b><br><br>Acquired by=Tier 2 never felt so good<br>Bid Amount ($)=%{x}<br>Total points=%{y}<extra></extra>",
         "hovertext": [
          "Najee Harris RB (PIT)",
          "DeAndre Hopkins WR (ARI)",
          "Joe Mixon RB (CIN)",
          "Chris Carson RB (SEA)",
          "Julio Jones WR (TEN)",
          "Damien Harris RB (NE)",
          "AJ Dillon RB (GB)",
          "Robert Tonyan TE (GB)",
          "Marquez Callaway WR (NO)"
         ],
         "legendgroup": "Tier 2 never felt so good",
         "marker": {
          "color": "#EF553B",
          "symbol": "circle"
         },
         "mode": "markers",
         "name": "Tier 2 never felt so good",
         "showlegend": true,
         "type": "scatter",
         "x": [
          51,
          45,
          40,
          28,
          18,
          5,
          2,
          1,
          1
         ],
         "xaxis": "x",
         "y": [
          211,
          126.2,
          219.8,
          45.1,
          49.4,
          140.3,
          123,
          41.4,
          95.3
         ],
         "yaxis": "y"
        }
       ],
       "layout": {
        "height": 700,
        "legend": {
         "title": {
          "text": "Acquired by"
         },
         "tracegroupgap": 0
        },
        "margin": {
         "t": 60
        },
        "template": {
         "data": {
          "bar": [
           {
            "error_x": {
             "color": "#2a3f5f"
            },
            "error_y": {
             "color": "#2a3f5f"
            },
            "marker": {
             "line": {
              "color": "#E5ECF6",
              "width": 0.5
             }
            },
            "type": "bar"
           }
          ],
          "barpolar": [
           {
            "marker": {
             "line": {
              "color": "#E5ECF6",
              "width": 0.5
             }
            },
            "type": "barpolar"
           }
          ],
          "carpet": [
           {
            "aaxis": {
             "endlinecolor": "#2a3f5f",
             "gridcolor": "white",
             "linecolor": "white",
             "minorgridcolor": "white",
             "startlinecolor": "#2a3f5f"
            },
            "baxis": {
             "endlinecolor": "#2a3f5f",
             "gridcolor": "white",
             "linecolor": "white",
             "minorgridcolor": "white",
             "startlinecolor": "#2a3f5f"
            },
            "type": "carpet"
           }
          ],
          "choropleth": [
           {
            "colorbar": {
             "outlinewidth": 0,
             "ticks": ""
            },
            "type": "choropleth"
           }
          ],
          "contour": [
           {
            "colorbar": {
             "outlinewidth": 0,
             "ticks": ""
            },
            "colorscale": [
             [
              0,
              "#0d0887"
             ],
             [
              0.1111111111111111,
              "#46039f"
             ],
             [
              0.2222222222222222,
              "#7201a8"
             ],
             [
              0.3333333333333333,
              "#9c179e"
             ],
             [
              0.4444444444444444,
              "#bd3786"
             ],
             [
              0.5555555555555556,
              "#d8576b"
             ],
             [
              0.6666666666666666,
              "#ed7953"
             ],
             [
              0.7777777777777778,
              "#fb9f3a"
             ],
             [
              0.8888888888888888,
              "#fdca26"
             ],
             [
              1,
              "#f0f921"
             ]
            ],
            "type": "contour"
           }
          ],
          "contourcarpet": [
           {
            "colorbar": {
             "outlinewidth": 0,
             "ticks": ""
            },
            "type": "contourcarpet"
           }
          ],
          "heatmap": [
           {
            "colorbar": {
             "outlinewidth": 0,
             "ticks": ""
            },
            "colorscale": [
             [
              0,
              "#0d0887"
             ],
             [
              0.1111111111111111,
              "#46039f"
             ],
             [
              0.2222222222222222,
              "#7201a8"
             ],
             [
              0.3333333333333333,
              "#9c179e"
             ],
             [
              0.4444444444444444,
              "#bd3786"
             ],
             [
              0.5555555555555556,
              "#d8576b"
             ],
             [
              0.6666666666666666,
              "#ed7953"
             ],
             [
              0.7777777777777778,
              "#fb9f3a"
             ],
             [
              0.8888888888888888,
              "#fdca26"
             ],
             [
              1,
              "#f0f921"
             ]
            ],
            "type": "heatmap"
           }
          ],
          "heatmapgl": [
           {
            "colorbar": {
             "outlinewidth": 0,
             "ticks": ""
            },
            "colorscale": [
             [
              0,
              "#0d0887"
             ],
             [
              0.1111111111111111,
              "#46039f"
             ],
             [
              0.2222222222222222,
              "#7201a8"
             ],
             [
              0.3333333333333333,
              "#9c179e"
             ],
             [
              0.4444444444444444,
              "#bd3786"
             ],
             [
              0.5555555555555556,
              "#d8576b"
             ],
             [
              0.6666666666666666,
              "#ed7953"
             ],
             [
              0.7777777777777778,
              "#fb9f3a"
             ],
             [
              0.8888888888888888,
              "#fdca26"
             ],
             [
              1,
              "#f0f921"
             ]
            ],
            "type": "heatmapgl"
           }
          ],
          "histogram": [
           {
            "marker": {
             "colorbar": {
              "outlinewidth": 0,
              "ticks": ""
             }
            },
            "type": "histogram"
           }
          ],
          "histogram2d": [
           {
            "colorbar": {
             "outlinewidth": 0,
             "ticks": ""
            },
            "colorscale": [
             [
              0,
              "#0d0887"
             ],
             [
              0.1111111111111111,
              "#46039f"
             ],
             [
              0.2222222222222222,
              "#7201a8"
             ],
             [
              0.3333333333333333,
              "#9c179e"
             ],
             [
              0.4444444444444444,
              "#bd3786"
             ],
             [
              0.5555555555555556,
              "#d8576b"
             ],
             [
              0.6666666666666666,
              "#ed7953"
             ],
             [
              0.7777777777777778,
              "#fb9f3a"
             ],
             [
              0.8888888888888888,
              "#fdca26"
             ],
             [
              1,
              "#f0f921"
             ]
            ],
            "type": "histogram2d"
           }
          ],
          "histogram2dcontour": [
           {
            "colorbar": {
             "outlinewidth": 0,
             "ticks": ""
            },
            "colorscale": [
             [
              0,
              "#0d0887"
             ],
             [
              0.1111111111111111,
              "#46039f"
             ],
             [
              0.2222222222222222,
              "#7201a8"
             ],
             [
              0.3333333333333333,
              "#9c179e"
             ],
             [
              0.4444444444444444,
              "#bd3786"
             ],
             [
              0.5555555555555556,
              "#d8576b"
             ],
             [
              0.6666666666666666,
              "#ed7953"
             ],
             [
              0.7777777777777778,
              "#fb9f3a"
             ],
             [
              0.8888888888888888,
              "#fdca26"
             ],
             [
              1,
              "#f0f921"
             ]
            ],
            "type": "histogram2dcontour"
           }
          ],
          "mesh3d": [
           {
            "colorbar": {
             "outlinewidth": 0,
             "ticks": ""
            },
            "type": "mesh3d"
           }
          ],
          "parcoords": [
           {
            "line": {
             "colorbar": {
              "outlinewidth": 0,
              "ticks": ""
             }
            },
            "type": "parcoords"
           }
          ],
          "pie": [
           {
            "automargin": true,
            "type": "pie"
           }
          ],
          "scatter": [
           {
            "marker": {
             "colorbar": {
              "outlinewidth": 0,
              "ticks": ""
             }
            },
            "type": "scatter"
           }
          ],
          "scatter3d": [
           {
            "line": {
             "colorbar": {
              "outlinewidth": 0,
              "ticks": ""
             }
            },
            "marker": {
             "colorbar": {
              "outlinewidth": 0,
              "ticks": ""
             }
            },
            "type": "scatter3d"
           }
          ],
          "scattercarpet": [
           {
            "marker": {
             "colorbar": {
              "outlinewidth": 0,
              "ticks": ""
             }
            },
            "type": "scattercarpet"
           }
          ],
          "scattergeo": [
           {
            "marker": {
             "colorbar": {
              "outlinewidth": 0,
              "ticks": ""
             }
            },
            "type": "scattergeo"
           }
          ],
          "scattergl": [
           {
            "marker": {
             "colorbar": {
              "outlinewidth": 0,
              "ticks": ""
             }
            },
            "type": "scattergl"
           }
          ],
          "scattermapbox": [
           {
            "marker": {
             "colorbar": {
              "outlinewidth": 0,
              "ticks": ""
             }
            },
            "type": "scattermapbox"
           }
          ],
          "scatterpolar": [
           {
            "marker": {
             "colorbar": {
              "outlinewidth": 0,
              "ticks": ""
             }
            },
            "type": "scatterpolar"
           }
          ],
          "scatterpolargl": [
           {
            "marker": {
             "colorbar": {
              "outlinewidth": 0,
              "ticks": ""
             }
            },
            "type": "scatterpolargl"
           }
          ],
          "scatterternary": [
           {
            "marker": {
             "colorbar": {
              "outlinewidth": 0,
              "ticks": ""
             }
            },
            "type": "scatterternary"
           }
          ],
          "surface": [
           {
            "colorbar": {
             "outlinewidth": 0,
             "ticks": ""
            },
            "colorscale": [
             [
              0,
              "#0d0887"
             ],
             [
              0.1111111111111111,
              "#46039f"
             ],
             [
              0.2222222222222222,
              "#7201a8"
             ],
             [
              0.3333333333333333,
              "#9c179e"
             ],
             [
              0.4444444444444444,
              "#bd3786"
             ],
             [
              0.5555555555555556,
              "#d8576b"
             ],
             [
              0.6666666666666666,
              "#ed7953"
             ],
             [
              0.7777777777777778,
              "#fb9f3a"
             ],
             [
              0.8888888888888888,
              "#fdca26"
             ],
             [
              1,
              "#f0f921"
             ]
            ],
            "type": "surface"
           }
          ],
          "table": [
           {
            "cells": {
             "fill": {
              "color": "#EBF0F8"
             },
             "line": {
              "color": "white"
             }
            },
            "header": {
             "fill": {
              "color": "#C8D4E3"
             },
             "line": {
              "color": "white"
             }
            },
            "type": "table"
           }
          ]
         },
         "layout": {
          "annotationdefaults": {
           "arrowcolor": "#2a3f5f",
           "arrowhead": 0,
           "arrowwidth": 1
          },
          "coloraxis": {
           "colorbar": {
            "outlinewidth": 0,
            "ticks": ""
           }
          },
          "colorscale": {
           "diverging": [
            [
             0,
             "#8e0152"
            ],
            [
             0.1,
             "#c51b7d"
            ],
            [
             0.2,
             "#de77ae"
            ],
            [
             0.3,
             "#f1b6da"
            ],
            [
             0.4,
             "#fde0ef"
            ],
            [
             0.5,
             "#f7f7f7"
            ],
            [
             0.6,
             "#e6f5d0"
            ],
            [
             0.7,
             "#b8e186"
            ],
            [
             0.8,
             "#7fbc41"
            ],
            [
             0.9,
             "#4d9221"
            ],
            [
             1,
             "#276419"
            ]
           ],
           "sequential": [
            [
             0,
             "#0d0887"
            ],
            [
             0.1111111111111111,
             "#46039f"
            ],
            [
             0.2222222222222222,
             "#7201a8"
            ],
            [
             0.3333333333333333,
             "#9c179e"
            ],
            [
             0.4444444444444444,
             "#bd3786"
            ],
            [
             0.5555555555555556,
             "#d8576b"
            ],
            [
             0.6666666666666666,
             "#ed7953"
            ],
            [
             0.7777777777777778,
             "#fb9f3a"
            ],
            [
             0.8888888888888888,
             "#fdca26"
            ],
            [
             1,
             "#f0f921"
            ]
           ],
           "sequentialminus": [
            [
             0,
             "#0d0887"
            ],
            [
             0.1111111111111111,
             "#46039f"
            ],
            [
             0.2222222222222222,
             "#7201a8"
            ],
            [
             0.3333333333333333,
             "#9c179e"
            ],
            [
             0.4444444444444444,
             "#bd3786"
            ],
            [
             0.5555555555555556,
             "#d8576b"
            ],
            [
             0.6666666666666666,
             "#ed7953"
            ],
            [
             0.7777777777777778,
             "#fb9f3a"
            ],
            [
             0.8888888888888888,
             "#fdca26"
            ],
            [
             1,
             "#f0f921"
            ]
           ]
          },
          "colorway": [
           "#636efa",
           "#EF553B",
           "#00cc96",
           "#ab63fa",
           "#FFA15A",
           "#19d3f3",
           "#FF6692",
           "#B6E880",
           "#FF97FF",
           "#FECB52"
          ],
          "font": {
           "color": "#2a3f5f"
          },
          "geo": {
           "bgcolor": "white",
           "lakecolor": "white",
           "landcolor": "#E5ECF6",
           "showlakes": true,
           "showland": true,
           "subunitcolor": "white"
          },
          "hoverlabel": {
           "align": "left"
          },
          "hovermode": "closest",
          "mapbox": {
           "style": "light"
          },
          "paper_bgcolor": "white",
          "plot_bgcolor": "#E5ECF6",
          "polar": {
           "angularaxis": {
            "gridcolor": "white",
            "linecolor": "white",
            "ticks": ""
           },
           "bgcolor": "#E5ECF6",
           "radialaxis": {
            "gridcolor": "white",
            "linecolor": "white",
            "ticks": ""
           }
          },
          "scene": {
           "xaxis": {
            "backgroundcolor": "#E5ECF6",
            "gridcolor": "white",
            "gridwidth": 2,
            "linecolor": "white",
            "showbackground": true,
            "ticks": "",
            "zerolinecolor": "white"
           },
           "yaxis": {
            "backgroundcolor": "#E5ECF6",
            "gridcolor": "white",
            "gridwidth": 2,
            "linecolor": "white",
            "showbackground": true,
            "ticks": "",
            "zerolinecolor": "white"
           },
           "zaxis": {
            "backgroundcolor": "#E5ECF6",
            "gridcolor": "white",
            "gridwidth": 2,
            "linecolor": "white",
            "showbackground": true,
            "ticks": "",
            "zerolinecolor": "white"
           }
          },
          "shapedefaults": {
           "line": {
            "color": "#2a3f5f"
           }
          },
          "ternary": {
           "aaxis": {
            "gridcolor": "white",
            "linecolor": "white",
            "ticks": ""
           },
           "baxis": {
            "gridcolor": "white",
            "linecolor": "white",
            "ticks": ""
           },
           "bgcolor": "#E5ECF6",
           "caxis": {
            "gridcolor": "white",
            "linecolor": "white",
            "ticks": ""
           }
          },
          "title": {
           "x": 0.05
          },
          "xaxis": {
           "automargin": true,
           "gridcolor": "white",
           "linecolor": "white",
           "ticks": "",
           "title": {
            "standoff": 15
           },
           "zerolinecolor": "white",
           "zerolinewidth": 2
          },
          "yaxis": {
           "automargin": true,
           "gridcolor": "white",
           "linecolor": "white",
           "ticks": "",
           "title": {
            "standoff": 15
           },
           "zerolinecolor": "white",
           "zerolinewidth": 2
          }
         }
        },
        "width": 900,
        "xaxis": {
         "anchor": "y",
         "domain": [
          0,
          1
         ],
         "range": [
          -5,
          100
         ],
         "title": {
          "text": "Bid Amount ($)"
         }
        },
        "yaxis": {
         "anchor": "x",
         "domain": [
          0,
          1
         ],
         "range": [
          -5,
          350
         ],
         "title": {
          "text": "Total points"
         }
        }
       }
      },
      "text/html": [
       "<div>\n",
       "        \n",
       "        \n",
       "            <div id=\"8be2eb84-549d-471e-948f-c3b9236e1e2e\" class=\"plotly-graph-div\" style=\"height:700px; width:900px;\"></div>\n",
       "            <script type=\"text/javascript\">\n",
       "                require([\"plotly\"], function(Plotly) {\n",
       "                    window.PLOTLYENV=window.PLOTLYENV || {};\n",
       "                    \n",
       "                if (document.getElementById(\"8be2eb84-549d-471e-948f-c3b9236e1e2e\")) {\n",
       "                    Plotly.newPlot(\n",
       "                        '8be2eb84-549d-471e-948f-c3b9236e1e2e',\n",
       "                        [{\"hovertemplate\": \"<b>%{hovertext}</b><br><br>Acquired by=Ice City USA<br>Bid Amount ($)=%{x}<br>Total points=%{y}<extra></extra>\", \"hovertext\": [\"Derrick Henry RB (TEN)\", \"DK Metcalf WR (SEA)\", \"David Montgomery RB (CHI)\", \"Mark Andrews TE (BAL)\", \"DeVonta Smith WR (PHI)\", \"DJ Chark Jr. WR (JAX)\", \"Michael Pittman Jr. WR (IND)\", \"Nyheim Hines RB (IND)\", \"Leonard Fournette RB (TB)\", \"Jaylen Waddle WR (MIA)\"], \"legendgroup\": \"Ice City USA\", \"marker\": {\"color\": \"#636efa\", \"symbol\": \"circle\"}, \"mode\": \"markers\", \"name\": \"Ice City USA\", \"showlegend\": true, \"type\": \"scatter\", \"x\": [84, 42, 30, 16, 12, 2, 2, 1, 1, 1], \"xaxis\": \"x\", \"y\": [184.3, 151.3, 117.1, 170.1, 119.1, 30.9, 155.8, 76.3, 210.9, 156.2], \"yaxis\": \"y\"}, {\"hovertemplate\": \"<b>%{hovertext}</b><br><br>Acquired by=Sweetless in Seattle<br>Bid Amount ($)=%{x}<br>Total points=%{y}<extra></extra>\", \"hovertext\": [\"Christian McCaffrey RB (CAR)\", \"Davante Adams WR (GB)\", \"Justin Jefferson WR (MIN)\", \"Russell Gage WR (ATL)\", \"Henry Ruggs III WR (None)\", \"Chuba Hubbard RB (CAR)\", \"J.D. McKissic RB (WSH)\", \"Jonnu Smith TE (NE)\", \"Jamison Crowder WR (NYJ)\", \"James White RB (NE)\"], \"legendgroup\": \"Sweetless in Seattle\", \"marker\": {\"color\": \"#EF553B\", \"symbol\": \"circle\"}, \"mode\": \"markers\", \"name\": \"Sweetless in Seattle\", \"showlegend\": true, \"type\": \"scatter\", \"x\": [83, 63, 42, 1, 1, 1, 1, 1, 1, 1], \"xaxis\": \"x\", \"y\": [109.0, 211.4, 219.5, 77.4, 72.5, 92.7, 106.4, 48.9, 75.6, 25.2], \"yaxis\": \"y\"}, {\"hovertemplate\": \"<b>%{hovertext}</b><br><br>Acquired by=Repeat Donger<br>Bid Amount ($)=%{x}<br>Total points=%{y}<extra></extra>\", \"hovertext\": [\"Ezekiel Elliott RB (DAL)\", \"Stefon Diggs WR (BUF)\", \"Odell Beckham Jr. WR (LAR)\", \"Josh Jacobs RB (OAK)\", \"Tyler Boyd WR (CIN)\", \"Kareem Hunt RB (CLE)\", \"Noah Fant TE (DEN)\", \"Michael Gallup WR (DAL)\", \"James Conner RB (ARI)\", \"Ronald Jones II RB (TB)\"], \"legendgroup\": \"Repeat Donger\", \"marker\": {\"color\": \"#00cc96\", \"symbol\": \"circle\"}, \"mode\": \"markers\", \"name\": \"Repeat Donger\", \"showlegend\": true, \"type\": \"scatter\", \"x\": [70, 57, 20, 16, 10, 10, 5, 2, 2, 2], \"xaxis\": \"x\", \"y\": [184.0, 178.2, 79.0, 139.8, 104.6, 99.0, 92.0, 51.9, 206.9, 47.8], \"yaxis\": \"y\"}, {\"hovertemplate\": \"<b>%{hovertext}</b><br><br>Acquired by=Dick Cheese<br>Bid Amount ($)=%{x}<br>Total points=%{y}<extra></extra>\", \"hovertext\": [\"Dalvin Cook RB (MIN)\", \"Keenan Allen WR (LAC)\", \"Clyde Edwards-Helaire RB (KC)\", \"James Robinson RB (JAX)\", \"Courtland Sutton WR (DEN)\", \"Deebo Samuel WR (SF)\", \"Corey Davis WR (NYJ)\", \"Marvin Jones Jr. WR (JAX)\", \"Antonio Brown WR (TB)\", \"Dallas Goedert TE (PHI)\"], \"legendgroup\": \"Dick Cheese\", \"marker\": {\"color\": \"#ab63fa\", \"symbol\": \"circle\"}, \"mode\": \"markers\", \"name\": \"Dick Cheese\", \"showlegend\": true, \"type\": \"scatter\", \"x\": [70, 37, 36, 33, 8, 4, 3, 2, 2, 1], \"xaxis\": \"x\", \"y\": [171.7, 178.7, 98.5, 141.1, 103.8, 217.3, 88.2, 106.0, 80.9, 106.1], \"yaxis\": \"y\"}, {\"hovertemplate\": \"<b>%{hovertext}</b><br><br>Acquired by=More than a  Thielen<br>Bid Amount ($)=%{x}<br>Total points=%{y}<extra></extra>\", \"hovertext\": [\"Alvin Kamara RB (NO)\", \"Darren Waller TE (OAK)\", \"Robert Woods WR (LAR)\", \"Adam Thielen WR (MIN)\", \"Javonte Williams RB (DEN)\", \"Chase Claypool WR (PIT)\", \"Kenyan Drake RB (OAK)\", \"Mike Williams WR (LAC)\", \"David Johnson RB (HOU)\", \"Jalen Reagor WR (PHI)\"], \"legendgroup\": \"More than a  Thielen\", \"marker\": {\"color\": \"#FFA15A\", \"symbol\": \"circle\"}, \"mode\": \"markers\", \"name\": \"More than a  Thielen\", \"showlegend\": true, \"type\": \"scatter\", \"x\": [68, 35, 33, 21, 6, 5, 3, 2, 1, 1], \"xaxis\": \"x\", \"y\": [164.5, 102.8, 114.7, 160.8, 153.2, 110.4, 87.5, 172.4, 57.0, 48.3], \"yaxis\": \"y\"}, {\"hovertemplate\": \"<b>%{hovertext}</b><br><br>Acquired by=Favre's Wranglers<br>Bid Amount ($)=%{x}<br>Total points=%{y}<extra></extra>\", \"hovertext\": [\"Travis Kelce TE (KC)\", \"Saquon Barkley RB (NYG)\", \"Mike Evans WR (TB)\", \"DJ Moore WR (CAR)\", \"Kenny Golladay WR (NYG)\", \"Jerry Jeudy WR (DEN)\", \"Curtis Samuel WR (WSH)\", \"Cole Beasley WR (BUF)\", \"Jakobi Meyers WR (NE)\", \"Zack Moss RB (BUF)\"], \"legendgroup\": \"Favre's Wranglers\", \"marker\": {\"color\": \"#19d3f3\", \"symbol\": \"circle\"}, \"mode\": \"markers\", \"name\": \"Favre's Wranglers\", \"showlegend\": true, \"type\": \"scatter\", \"x\": [67, 63, 30, 17, 9, 7, 1, 1, 1, 1], \"xaxis\": \"x\", \"y\": [194.5, 100.8, 187.0, 155.3, 56.4, 54.5, 6.8, 102.5, 103.3, 84.4], \"yaxis\": \"y\"}, {\"hovertemplate\": \"<b>%{hovertext}</b><br><br>Acquired by=Ridley me This<br>Bid Amount ($)=%{x}<br>Total points=%{y}<extra></extra>\", \"hovertext\": [\"Nick Chubb RB (CLE)\", \"Antonio Gibson RB (WSH)\", \"Calvin Ridley WR (ATL)\", \"Tyler Lockett WR (SEA)\", \"Laviska Shenault Jr. WR (JAX)\", \"Michael Carter RB (NYJ)\", \"Ja'Marr Chase WR (CIN)\", \"Trey Sermon RB (SF)\", \"Tyler Higbee TE (LAR)\", \"Mecole Hardman WR (KC)\"], \"legendgroup\": \"Ridley me This\", \"marker\": {\"color\": \"#FF6692\", \"symbol\": \"circle\"}, \"mode\": \"markers\", \"name\": \"Ridley me This\", \"showlegend\": true, \"type\": \"scatter\", \"x\": [61, 49, 43, 22, 5, 3, 3, 3, 1, 1], \"xaxis\": \"x\", \"y\": [151.3, 158.2, 55.6, 165.3, 77.6, 111.8, 197.6, 26.8, 79.5, 79.7], \"yaxis\": \"y\"}, {\"hovertemplate\": \"<b>%{hovertext}</b><br><br>Acquired by=Mostert's Monsters<br>Bid Amount ($)=%{x}<br>Total points=%{y}<extra></extra>\", \"hovertext\": [\"Jonathan Taylor RB (IND)\", \"A.J. Brown WR (TEN)\", \"Chris Godwin WR (TB)\", \"Darrell Henderson Jr. RB (LAR)\", \"Logan Thomas TE (WSH)\", \"Sony Michel RB (LAR)\", \"Raheem Mostert RB (SF)\", \"Michael Thomas WR (NO)\", \"Kyle Pitts TE (ATL)\", \"Devin Singletary RB (BUF)\"], \"legendgroup\": \"Mostert's Monsters\", \"marker\": {\"color\": \"#B6E880\", \"symbol\": \"circle\"}, \"mode\": \"markers\", \"name\": \"Mostert's Monsters\", \"showlegend\": true, \"type\": \"scatter\", \"x\": [58, 38, 19, 17, 9, 7, 6, 5, 5, 1], \"xaxis\": \"x\", \"y\": [290.4, 103.5, 185.5, 143.5, 44.6, 80.5, 2.0, 0.0, 110.0, 98.2], \"yaxis\": \"y\"}, {\"hovertemplate\": \"<b>%{hovertext}</b><br><br>Acquired by=Fumble .<br>Bid Amount ($)=%{x}<br>Total points=%{y}<extra></extra>\", \"hovertext\": [\"Tyreek Hill WR (KC)\", \"Terry McLaurin WR (WSH)\", \"Cooper Kupp WR (LAR)\", \"D'Andre Swift RB (DET)\", \"Myles Gaskin RB (MIA)\", \"Brandon Aiyuk WR (SF)\", \"Mike Davis RB (ATL)\", \"Melvin Gordon III RB (DEN)\", \"Ty'Son Williams RB (BAL)\", \"Mike Gesicki TE (MIA)\"], \"legendgroup\": \"Fumble .\", \"marker\": {\"color\": \"#FF97FF\", \"symbol\": \"circle\"}, \"mode\": \"markers\", \"name\": \"Fumble .\", \"showlegend\": true, \"type\": \"scatter\", \"x\": [57, 36, 29, 29, 14, 13, 12, 5, 1, 1], \"xaxis\": \"x\", \"y\": [230.2, 142.5, 278.9, 160.4, 136.8, 101.1, 97.6, 149.2, 37.0, 107.7], \"yaxis\": \"y\"}, {\"hovertemplate\": \"<b>%{hovertext}</b><br><br>Acquired by=Frankel's Cankles<br>Bid Amount ($)=%{x}<br>Total points=%{y}<extra></extra>\", \"hovertext\": [\"Aaron Jones RB (GB)\", \"CeeDee Lamb WR (DAL)\", \"Allen Robinson II WR (CHI)\", \"Gus Edwards RB (BAL)\", \"Tee Higgins WR (CIN)\", \"Chase Edmonds RB (ARI)\", \"T.J. Hockenson TE (DET)\", \"JuJu Smith-Schuster WR (PIT)\", \"William Fuller V WR (MIA)\"], \"legendgroup\": \"Frankel's Cankles\", \"marker\": {\"color\": \"#FECB52\", \"symbol\": \"circle\"}, \"mode\": \"markers\", \"name\": \"Frankel's Cankles\", \"showlegend\": true, \"type\": \"scatter\", \"x\": [56, 32, 29, 22, 16, 7, 7, 6, 5], \"xaxis\": \"x\", \"y\": [164.7, 164.8, 57.3, 0.0, 133.7, 83.1, 114.8, 27.3, 6.6], \"yaxis\": \"y\"}, {\"hovertemplate\": \"<b>%{hovertext}</b><br><br>Acquired by=Don't Ekele Me<br>Bid Amount ($)=%{x}<br>Total points=%{y}<extra></extra>\", \"hovertext\": [\"Austin Ekeler RB (LAC)\", \"George Kittle TE (SF)\", \"Miles Sanders RB (PHI)\", \"Amari Cooper WR (DAL)\", \"Diontae Johnson WR (PIT)\", \"Robby Anderson WR (CAR)\", \"Brandin Cooks WR (HOU)\", \"Jarvis Landry WR (CLE)\", \"Marquise Brown WR (BAL)\", \"Jamaal Williams RB (DET)\"], \"legendgroup\": \"Don't Ekele Me\", \"marker\": {\"color\": \"#636efa\", \"symbol\": \"circle\"}, \"mode\": \"markers\", \"name\": \"Don't Ekele Me\", \"showlegend\": true, \"type\": \"scatter\", \"x\": [54, 32, 30, 29, 17, 8, 8, 3, 2, 1], \"xaxis\": \"x\", \"y\": [263.7, 139.6, 83.3, 129.0, 179.8, 79.5, 140.9, 76.1, 158.1, 81.5], \"yaxis\": \"y\"}, {\"hovertemplate\": \"<b>%{hovertext}</b><br><br>Acquired by=Tier 2 never felt so good<br>Bid Amount ($)=%{x}<br>Total points=%{y}<extra></extra>\", \"hovertext\": [\"Najee Harris RB (PIT)\", \"DeAndre Hopkins WR (ARI)\", \"Joe Mixon RB (CIN)\", \"Chris Carson RB (SEA)\", \"Julio Jones WR (TEN)\", \"Damien Harris RB (NE)\", \"AJ Dillon RB (GB)\", \"Robert Tonyan TE (GB)\", \"Marquez Callaway WR (NO)\"], \"legendgroup\": \"Tier 2 never felt so good\", \"marker\": {\"color\": \"#EF553B\", \"symbol\": \"circle\"}, \"mode\": \"markers\", \"name\": \"Tier 2 never felt so good\", \"showlegend\": true, \"type\": \"scatter\", \"x\": [51, 45, 40, 28, 18, 5, 2, 1, 1], \"xaxis\": \"x\", \"y\": [211.0, 126.2, 219.8, 45.1, 49.4, 140.3, 123.0, 41.4, 95.3], \"yaxis\": \"y\"}],\n",
       "                        {\"height\": 700, \"legend\": {\"title\": {\"text\": \"Acquired by\"}, \"tracegroupgap\": 0}, \"margin\": {\"t\": 60}, \"template\": {\"data\": {\"bar\": [{\"error_x\": {\"color\": \"#2a3f5f\"}, \"error_y\": {\"color\": \"#2a3f5f\"}, \"marker\": {\"line\": {\"color\": \"#E5ECF6\", \"width\": 0.5}}, \"type\": \"bar\"}], \"barpolar\": [{\"marker\": {\"line\": {\"color\": \"#E5ECF6\", \"width\": 0.5}}, \"type\": \"barpolar\"}], \"carpet\": [{\"aaxis\": {\"endlinecolor\": \"#2a3f5f\", \"gridcolor\": \"white\", \"linecolor\": \"white\", \"minorgridcolor\": \"white\", \"startlinecolor\": \"#2a3f5f\"}, \"baxis\": {\"endlinecolor\": \"#2a3f5f\", \"gridcolor\": \"white\", \"linecolor\": \"white\", \"minorgridcolor\": \"white\", \"startlinecolor\": \"#2a3f5f\"}, \"type\": \"carpet\"}], \"choropleth\": [{\"colorbar\": {\"outlinewidth\": 0, \"ticks\": \"\"}, \"type\": \"choropleth\"}], \"contour\": [{\"colorbar\": {\"outlinewidth\": 0, \"ticks\": \"\"}, \"colorscale\": [[0.0, \"#0d0887\"], [0.1111111111111111, \"#46039f\"], [0.2222222222222222, \"#7201a8\"], [0.3333333333333333, \"#9c179e\"], [0.4444444444444444, \"#bd3786\"], [0.5555555555555556, \"#d8576b\"], [0.6666666666666666, \"#ed7953\"], [0.7777777777777778, \"#fb9f3a\"], [0.8888888888888888, \"#fdca26\"], [1.0, \"#f0f921\"]], \"type\": \"contour\"}], \"contourcarpet\": [{\"colorbar\": {\"outlinewidth\": 0, \"ticks\": \"\"}, \"type\": \"contourcarpet\"}], \"heatmap\": [{\"colorbar\": {\"outlinewidth\": 0, \"ticks\": \"\"}, \"colorscale\": [[0.0, \"#0d0887\"], [0.1111111111111111, \"#46039f\"], [0.2222222222222222, \"#7201a8\"], [0.3333333333333333, \"#9c179e\"], [0.4444444444444444, \"#bd3786\"], [0.5555555555555556, \"#d8576b\"], [0.6666666666666666, \"#ed7953\"], [0.7777777777777778, \"#fb9f3a\"], [0.8888888888888888, \"#fdca26\"], [1.0, \"#f0f921\"]], \"type\": \"heatmap\"}], \"heatmapgl\": [{\"colorbar\": {\"outlinewidth\": 0, \"ticks\": \"\"}, \"colorscale\": [[0.0, \"#0d0887\"], [0.1111111111111111, \"#46039f\"], [0.2222222222222222, \"#7201a8\"], [0.3333333333333333, \"#9c179e\"], [0.4444444444444444, \"#bd3786\"], [0.5555555555555556, \"#d8576b\"], [0.6666666666666666, \"#ed7953\"], [0.7777777777777778, \"#fb9f3a\"], [0.8888888888888888, \"#fdca26\"], [1.0, \"#f0f921\"]], \"type\": \"heatmapgl\"}], \"histogram\": [{\"marker\": {\"colorbar\": {\"outlinewidth\": 0, \"ticks\": \"\"}}, \"type\": \"histogram\"}], \"histogram2d\": [{\"colorbar\": {\"outlinewidth\": 0, \"ticks\": \"\"}, \"colorscale\": [[0.0, \"#0d0887\"], [0.1111111111111111, \"#46039f\"], [0.2222222222222222, \"#7201a8\"], [0.3333333333333333, \"#9c179e\"], [0.4444444444444444, \"#bd3786\"], [0.5555555555555556, \"#d8576b\"], [0.6666666666666666, \"#ed7953\"], [0.7777777777777778, \"#fb9f3a\"], [0.8888888888888888, \"#fdca26\"], [1.0, \"#f0f921\"]], \"type\": \"histogram2d\"}], \"histogram2dcontour\": [{\"colorbar\": {\"outlinewidth\": 0, \"ticks\": \"\"}, \"colorscale\": [[0.0, \"#0d0887\"], [0.1111111111111111, \"#46039f\"], [0.2222222222222222, \"#7201a8\"], [0.3333333333333333, \"#9c179e\"], [0.4444444444444444, \"#bd3786\"], [0.5555555555555556, \"#d8576b\"], [0.6666666666666666, \"#ed7953\"], [0.7777777777777778, \"#fb9f3a\"], [0.8888888888888888, \"#fdca26\"], [1.0, \"#f0f921\"]], \"type\": \"histogram2dcontour\"}], \"mesh3d\": [{\"colorbar\": {\"outlinewidth\": 0, \"ticks\": \"\"}, \"type\": \"mesh3d\"}], \"parcoords\": [{\"line\": {\"colorbar\": {\"outlinewidth\": 0, \"ticks\": \"\"}}, \"type\": \"parcoords\"}], \"pie\": [{\"automargin\": true, \"type\": \"pie\"}], \"scatter\": [{\"marker\": {\"colorbar\": {\"outlinewidth\": 0, \"ticks\": \"\"}}, \"type\": \"scatter\"}], \"scatter3d\": [{\"line\": {\"colorbar\": {\"outlinewidth\": 0, \"ticks\": \"\"}}, \"marker\": {\"colorbar\": {\"outlinewidth\": 0, \"ticks\": \"\"}}, \"type\": \"scatter3d\"}], \"scattercarpet\": [{\"marker\": {\"colorbar\": {\"outlinewidth\": 0, \"ticks\": \"\"}}, \"type\": \"scattercarpet\"}], \"scattergeo\": [{\"marker\": {\"colorbar\": {\"outlinewidth\": 0, \"ticks\": \"\"}}, \"type\": \"scattergeo\"}], \"scattergl\": [{\"marker\": {\"colorbar\": {\"outlinewidth\": 0, \"ticks\": \"\"}}, \"type\": \"scattergl\"}], \"scattermapbox\": [{\"marker\": {\"colorbar\": {\"outlinewidth\": 0, \"ticks\": \"\"}}, \"type\": \"scattermapbox\"}], \"scatterpolar\": [{\"marker\": {\"colorbar\": {\"outlinewidth\": 0, \"ticks\": \"\"}}, \"type\": \"scatterpolar\"}], \"scatterpolargl\": [{\"marker\": {\"colorbar\": {\"outlinewidth\": 0, \"ticks\": \"\"}}, \"type\": \"scatterpolargl\"}], \"scatterternary\": [{\"marker\": {\"colorbar\": {\"outlinewidth\": 0, \"ticks\": \"\"}}, \"type\": \"scatterternary\"}], \"surface\": [{\"colorbar\": {\"outlinewidth\": 0, \"ticks\": \"\"}, \"colorscale\": [[0.0, \"#0d0887\"], [0.1111111111111111, \"#46039f\"], [0.2222222222222222, \"#7201a8\"], [0.3333333333333333, \"#9c179e\"], [0.4444444444444444, \"#bd3786\"], [0.5555555555555556, \"#d8576b\"], [0.6666666666666666, \"#ed7953\"], [0.7777777777777778, \"#fb9f3a\"], [0.8888888888888888, \"#fdca26\"], [1.0, \"#f0f921\"]], \"type\": \"surface\"}], \"table\": [{\"cells\": {\"fill\": {\"color\": \"#EBF0F8\"}, \"line\": {\"color\": \"white\"}}, \"header\": {\"fill\": {\"color\": \"#C8D4E3\"}, \"line\": {\"color\": \"white\"}}, \"type\": \"table\"}]}, \"layout\": {\"annotationdefaults\": {\"arrowcolor\": \"#2a3f5f\", \"arrowhead\": 0, \"arrowwidth\": 1}, \"coloraxis\": {\"colorbar\": {\"outlinewidth\": 0, \"ticks\": \"\"}}, \"colorscale\": {\"diverging\": [[0, \"#8e0152\"], [0.1, \"#c51b7d\"], [0.2, \"#de77ae\"], [0.3, \"#f1b6da\"], [0.4, \"#fde0ef\"], [0.5, \"#f7f7f7\"], [0.6, \"#e6f5d0\"], [0.7, \"#b8e186\"], [0.8, \"#7fbc41\"], [0.9, \"#4d9221\"], [1, \"#276419\"]], \"sequential\": [[0.0, \"#0d0887\"], [0.1111111111111111, \"#46039f\"], [0.2222222222222222, \"#7201a8\"], [0.3333333333333333, \"#9c179e\"], [0.4444444444444444, \"#bd3786\"], [0.5555555555555556, \"#d8576b\"], [0.6666666666666666, \"#ed7953\"], [0.7777777777777778, \"#fb9f3a\"], [0.8888888888888888, \"#fdca26\"], [1.0, \"#f0f921\"]], \"sequentialminus\": [[0.0, \"#0d0887\"], [0.1111111111111111, \"#46039f\"], [0.2222222222222222, \"#7201a8\"], [0.3333333333333333, \"#9c179e\"], [0.4444444444444444, \"#bd3786\"], [0.5555555555555556, \"#d8576b\"], [0.6666666666666666, \"#ed7953\"], [0.7777777777777778, \"#fb9f3a\"], [0.8888888888888888, \"#fdca26\"], [1.0, \"#f0f921\"]]}, \"colorway\": [\"#636efa\", \"#EF553B\", \"#00cc96\", \"#ab63fa\", \"#FFA15A\", \"#19d3f3\", \"#FF6692\", \"#B6E880\", \"#FF97FF\", \"#FECB52\"], \"font\": {\"color\": \"#2a3f5f\"}, \"geo\": {\"bgcolor\": \"white\", \"lakecolor\": \"white\", \"landcolor\": \"#E5ECF6\", \"showlakes\": true, \"showland\": true, \"subunitcolor\": \"white\"}, \"hoverlabel\": {\"align\": \"left\"}, \"hovermode\": \"closest\", \"mapbox\": {\"style\": \"light\"}, \"paper_bgcolor\": \"white\", \"plot_bgcolor\": \"#E5ECF6\", \"polar\": {\"angularaxis\": {\"gridcolor\": \"white\", \"linecolor\": \"white\", \"ticks\": \"\"}, \"bgcolor\": \"#E5ECF6\", \"radialaxis\": {\"gridcolor\": \"white\", \"linecolor\": \"white\", \"ticks\": \"\"}}, \"scene\": {\"xaxis\": {\"backgroundcolor\": \"#E5ECF6\", \"gridcolor\": \"white\", \"gridwidth\": 2, \"linecolor\": \"white\", \"showbackground\": true, \"ticks\": \"\", \"zerolinecolor\": \"white\"}, \"yaxis\": {\"backgroundcolor\": \"#E5ECF6\", \"gridcolor\": \"white\", \"gridwidth\": 2, \"linecolor\": \"white\", \"showbackground\": true, \"ticks\": \"\", \"zerolinecolor\": \"white\"}, \"zaxis\": {\"backgroundcolor\": \"#E5ECF6\", \"gridcolor\": \"white\", \"gridwidth\": 2, \"linecolor\": \"white\", \"showbackground\": true, \"ticks\": \"\", \"zerolinecolor\": \"white\"}}, \"shapedefaults\": {\"line\": {\"color\": \"#2a3f5f\"}}, \"ternary\": {\"aaxis\": {\"gridcolor\": \"white\", \"linecolor\": \"white\", \"ticks\": \"\"}, \"baxis\": {\"gridcolor\": \"white\", \"linecolor\": \"white\", \"ticks\": \"\"}, \"bgcolor\": \"#E5ECF6\", \"caxis\": {\"gridcolor\": \"white\", \"linecolor\": \"white\", \"ticks\": \"\"}}, \"title\": {\"x\": 0.05}, \"xaxis\": {\"automargin\": true, \"gridcolor\": \"white\", \"linecolor\": \"white\", \"ticks\": \"\", \"title\": {\"standoff\": 15}, \"zerolinecolor\": \"white\", \"zerolinewidth\": 2}, \"yaxis\": {\"automargin\": true, \"gridcolor\": \"white\", \"linecolor\": \"white\", \"ticks\": \"\", \"title\": {\"standoff\": 15}, \"zerolinecolor\": \"white\", \"zerolinewidth\": 2}}}, \"width\": 900, \"xaxis\": {\"anchor\": \"y\", \"domain\": [0.0, 1.0], \"range\": [-5, 100], \"title\": {\"text\": \"Bid Amount ($)\"}}, \"yaxis\": {\"anchor\": \"x\", \"domain\": [0.0, 1.0], \"range\": [-5, 350], \"title\": {\"text\": \"Total points\"}}},\n",
       "                        {\"responsive\": true}\n",
       "                    ).then(function(){\n",
       "                            \n",
       "var gd = document.getElementById('8be2eb84-549d-471e-948f-c3b9236e1e2e');\n",
       "var x = new MutationObserver(function (mutations, observer) {{\n",
       "        var display = window.getComputedStyle(gd).display;\n",
       "        if (!display || display === 'none') {{\n",
       "            console.log([gd, 'removed!']);\n",
       "            Plotly.purge(gd);\n",
       "            observer.disconnect();\n",
       "        }}\n",
       "}});\n",
       "\n",
       "// Listen for the removal of the full notebook cells\n",
       "var notebookContainer = gd.closest('#notebook-container');\n",
       "if (notebookContainer) {{\n",
       "    x.observe(notebookContainer, {childList: true});\n",
       "}}\n",
       "\n",
       "// Listen for the clearing of the current output cell\n",
       "var outputEl = gd.closest('.output');\n",
       "if (outputEl) {{\n",
       "    x.observe(outputEl, {childList: true});\n",
       "}}\n",
       "\n",
       "                        })\n",
       "                };\n",
       "                });\n",
       "            </script>\n",
       "        </div>"
      ]
     },
     "metadata": {},
     "output_type": "display_data"
    }
   ],
   "source": [
    "# sns.scatterplot(data=df_f2,x = 'Bid Amount ($)', y = 'Total points')\n",
    "df_draft_f1 = df_draft_f[df_draft_f['Position'].isin(['RB','WR','TE'])]\n",
    "f=px.scatter(df_draft_f1, x='Bid Amount ($)', y='Total points',\n",
    "\n",
    "             hover_name='Player-info',\n",
    "              width=900, height=700,color='Acquired by')\n",
    "\n",
    "f.update_layout(xaxis_range=[-5,100])\n",
    "f.update_layout(yaxis_range=[-5,350])\n",
    "\n",
    "f.show()"
   ]
  },
  {
   "cell_type": "code",
   "execution_count": 483,
   "metadata": {},
   "outputs": [
    {
     "data": {
      "text/html": [
       "<div>\n",
       "<style scoped>\n",
       "    .dataframe tbody tr th:only-of-type {\n",
       "        vertical-align: middle;\n",
       "    }\n",
       "\n",
       "    .dataframe tbody tr th {\n",
       "        vertical-align: top;\n",
       "    }\n",
       "\n",
       "    .dataframe thead th {\n",
       "        text-align: right;\n",
       "    }\n",
       "</style>\n",
       "<table border=\"1\" class=\"dataframe\">\n",
       "  <thead>\n",
       "    <tr style=\"text-align: right;\">\n",
       "      <th></th>\n",
       "      <th>Acquired by</th>\n",
       "      <th>Action</th>\n",
       "      <th>Bid Amount ($)</th>\n",
       "      <th>Position</th>\n",
       "      <th>Pro Team</th>\n",
       "      <th>Total points</th>\n",
       "      <th>Current Team</th>\n",
       "      <th>Player1</th>\n",
       "      <th>Player-info</th>\n",
       "    </tr>\n",
       "    <tr>\n",
       "      <th>Player</th>\n",
       "      <th></th>\n",
       "      <th></th>\n",
       "      <th></th>\n",
       "      <th></th>\n",
       "      <th></th>\n",
       "      <th></th>\n",
       "      <th></th>\n",
       "      <th></th>\n",
       "      <th></th>\n",
       "    </tr>\n",
       "  </thead>\n",
       "  <tbody>\n",
       "    <tr>\n",
       "      <th>Derrick Henry</th>\n",
       "      <td>Ice City USA</td>\n",
       "      <td>Draft</td>\n",
       "      <td>84</td>\n",
       "      <td>RB</td>\n",
       "      <td>TEN</td>\n",
       "      <td>184.3</td>\n",
       "      <td>Sweetless in Seattle</td>\n",
       "      <td>Derrick Henry</td>\n",
       "      <td>Derrick Henry RB (TEN)</td>\n",
       "    </tr>\n",
       "    <tr>\n",
       "      <th>Christian McCaffrey</th>\n",
       "      <td>Sweetless in Seattle</td>\n",
       "      <td>Draft</td>\n",
       "      <td>83</td>\n",
       "      <td>RB</td>\n",
       "      <td>CAR</td>\n",
       "      <td>109.0</td>\n",
       "      <td>Free agent</td>\n",
       "      <td>Christian McCaffrey</td>\n",
       "      <td>Christian McCaffrey RB (CAR)</td>\n",
       "    </tr>\n",
       "    <tr>\n",
       "      <th>Ezekiel Elliott</th>\n",
       "      <td>Repeat Donger</td>\n",
       "      <td>Draft</td>\n",
       "      <td>70</td>\n",
       "      <td>RB</td>\n",
       "      <td>DAL</td>\n",
       "      <td>184.0</td>\n",
       "      <td>Repeat Donger</td>\n",
       "      <td>Ezekiel Elliott</td>\n",
       "      <td>Ezekiel Elliott RB (DAL)</td>\n",
       "    </tr>\n",
       "    <tr>\n",
       "      <th>Dalvin Cook</th>\n",
       "      <td>Dick Cheese</td>\n",
       "      <td>Draft</td>\n",
       "      <td>70</td>\n",
       "      <td>RB</td>\n",
       "      <td>MIN</td>\n",
       "      <td>171.7</td>\n",
       "      <td>Dick Cheese</td>\n",
       "      <td>Dalvin Cook</td>\n",
       "      <td>Dalvin Cook RB (MIN)</td>\n",
       "    </tr>\n",
       "    <tr>\n",
       "      <th>Alvin Kamara</th>\n",
       "      <td>More than a  Thielen</td>\n",
       "      <td>Draft</td>\n",
       "      <td>68</td>\n",
       "      <td>RB</td>\n",
       "      <td>NO</td>\n",
       "      <td>164.5</td>\n",
       "      <td>More than a  Thielen</td>\n",
       "      <td>Alvin Kamara</td>\n",
       "      <td>Alvin Kamara RB (NO)</td>\n",
       "    </tr>\n",
       "    <tr>\n",
       "      <th>Travis Kelce</th>\n",
       "      <td>Favre's Wranglers</td>\n",
       "      <td>Draft</td>\n",
       "      <td>67</td>\n",
       "      <td>TE</td>\n",
       "      <td>KC</td>\n",
       "      <td>194.5</td>\n",
       "      <td>Favre's Wranglers</td>\n",
       "      <td>Travis Kelce</td>\n",
       "      <td>Travis Kelce TE (KC)</td>\n",
       "    </tr>\n",
       "    <tr>\n",
       "      <th>Saquon Barkley</th>\n",
       "      <td>Favre's Wranglers</td>\n",
       "      <td>Draft</td>\n",
       "      <td>63</td>\n",
       "      <td>RB</td>\n",
       "      <td>NYG</td>\n",
       "      <td>100.8</td>\n",
       "      <td>Favre's Wranglers</td>\n",
       "      <td>Saquon Barkley</td>\n",
       "      <td>Saquon Barkley RB (NYG)</td>\n",
       "    </tr>\n",
       "    <tr>\n",
       "      <th>Davante Adams</th>\n",
       "      <td>Sweetless in Seattle</td>\n",
       "      <td>Draft</td>\n",
       "      <td>63</td>\n",
       "      <td>WR</td>\n",
       "      <td>GB</td>\n",
       "      <td>211.4</td>\n",
       "      <td>Sweetless in Seattle</td>\n",
       "      <td>Davante Adams</td>\n",
       "      <td>Davante Adams WR (GB)</td>\n",
       "    </tr>\n",
       "    <tr>\n",
       "      <th>Nick Chubb</th>\n",
       "      <td>Ridley me This</td>\n",
       "      <td>Draft</td>\n",
       "      <td>61</td>\n",
       "      <td>RB</td>\n",
       "      <td>CLE</td>\n",
       "      <td>151.3</td>\n",
       "      <td>Ridley me This</td>\n",
       "      <td>Nick Chubb</td>\n",
       "      <td>Nick Chubb RB (CLE)</td>\n",
       "    </tr>\n",
       "    <tr>\n",
       "      <th>Jonathan Taylor</th>\n",
       "      <td>Mostert's Monsters</td>\n",
       "      <td>Draft</td>\n",
       "      <td>58</td>\n",
       "      <td>RB</td>\n",
       "      <td>IND</td>\n",
       "      <td>290.4</td>\n",
       "      <td>Mostert's Monsters</td>\n",
       "      <td>Jonathan Taylor</td>\n",
       "      <td>Jonathan Taylor RB (IND)</td>\n",
       "    </tr>\n",
       "  </tbody>\n",
       "</table>\n",
       "</div>"
      ],
      "text/plain": [
       "                              Acquired by Action  Bid Amount ($) Position  \\\n",
       "Player                                                                      \n",
       "Derrick Henry                Ice City USA  Draft              84       RB   \n",
       "Christian McCaffrey  Sweetless in Seattle  Draft              83       RB   \n",
       "Ezekiel Elliott             Repeat Donger  Draft              70       RB   \n",
       "Dalvin Cook                   Dick Cheese  Draft              70       RB   \n",
       "Alvin Kamara         More than a  Thielen  Draft              68       RB   \n",
       "Travis Kelce            Favre's Wranglers  Draft              67       TE   \n",
       "Saquon Barkley          Favre's Wranglers  Draft              63       RB   \n",
       "Davante Adams        Sweetless in Seattle  Draft              63       WR   \n",
       "Nick Chubb                 Ridley me This  Draft              61       RB   \n",
       "Jonathan Taylor        Mostert's Monsters  Draft              58       RB   \n",
       "\n",
       "                    Pro Team  Total points          Current Team  \\\n",
       "Player                                                             \n",
       "Derrick Henry            TEN         184.3  Sweetless in Seattle   \n",
       "Christian McCaffrey      CAR         109.0            Free agent   \n",
       "Ezekiel Elliott          DAL         184.0         Repeat Donger   \n",
       "Dalvin Cook              MIN         171.7           Dick Cheese   \n",
       "Alvin Kamara              NO         164.5  More than a  Thielen   \n",
       "Travis Kelce              KC         194.5     Favre's Wranglers   \n",
       "Saquon Barkley           NYG         100.8     Favre's Wranglers   \n",
       "Davante Adams             GB         211.4  Sweetless in Seattle   \n",
       "Nick Chubb               CLE         151.3        Ridley me This   \n",
       "Jonathan Taylor          IND         290.4    Mostert's Monsters   \n",
       "\n",
       "                                 Player1                   Player-info  \n",
       "Player                                                                  \n",
       "Derrick Henry              Derrick Henry        Derrick Henry RB (TEN)  \n",
       "Christian McCaffrey  Christian McCaffrey  Christian McCaffrey RB (CAR)  \n",
       "Ezekiel Elliott          Ezekiel Elliott      Ezekiel Elliott RB (DAL)  \n",
       "Dalvin Cook                  Dalvin Cook          Dalvin Cook RB (MIN)  \n",
       "Alvin Kamara                Alvin Kamara          Alvin Kamara RB (NO)  \n",
       "Travis Kelce                Travis Kelce          Travis Kelce TE (KC)  \n",
       "Saquon Barkley            Saquon Barkley       Saquon Barkley RB (NYG)  \n",
       "Davante Adams              Davante Adams         Davante Adams WR (GB)  \n",
       "Nick Chubb                    Nick Chubb           Nick Chubb RB (CLE)  \n",
       "Jonathan Taylor          Jonathan Taylor      Jonathan Taylor RB (IND)  "
      ]
     },
     "execution_count": 483,
     "metadata": {},
     "output_type": "execute_result"
    }
   ],
   "source": [
    "df_draft_f.head(10)"
   ]
  },
  {
   "cell_type": "code",
   "execution_count": 491,
   "metadata": {},
   "outputs": [
    {
     "data": {
      "text/plain": [
       "'Total points'"
      ]
     },
     "execution_count": 491,
     "metadata": {},
     "output_type": "execute_result"
    }
   ],
   "source": [
    "df_draft_f.columns[5]"
   ]
  },
  {
   "cell_type": "code",
   "execution_count": 494,
   "metadata": {},
   "outputs": [],
   "source": [
    "df_draft_f = df_draft_f.sort_values(by=['Total points'],ascending=False,axis=0)"
   ]
  },
  {
   "cell_type": "code",
   "execution_count": 495,
   "metadata": {},
   "outputs": [
    {
     "data": {
      "text/plain": [
       "<matplotlib.axes._subplots.AxesSubplot at 0x1a3089c410>"
      ]
     },
     "execution_count": 495,
     "metadata": {},
     "output_type": "execute_result"
    },
    {
     "data": {
      "image/png": "[encoded data removed]",
      "text/plain": [
       "<Figure size 432x288 with 1 Axes>"
      ]
     },
     "metadata": {
      "needs_background": "light"
     },
     "output_type": "display_data"
    }
   ],
   "source": [
    "sns.barplot(data=df_draft_f.iloc[0:40,:] , x='Player1', y='Total points', hue='Acquired by')"
   ]
  },
  {
   "cell_type": "code",
   "execution_count": null,
   "metadata": {},
   "outputs": [],
   "source": [
    "# import seaborn as sns\n",
    "sns.set()\n",
    "df_draft_f.set_index('App').T.plot(kind='bar', stacked=True)"
   ]
  },
  {
   "cell_type": "code",
   "execution_count": 177,
   "metadata": {},
   "outputs": [
    {
     "data": {
      "text/html": [
       "<div>\n",
       "<style scoped>\n",
       "    .dataframe tbody tr th:only-of-type {\n",
       "        vertical-align: middle;\n",
       "    }\n",
       "\n",
       "    .dataframe tbody tr th {\n",
       "        vertical-align: top;\n",
       "    }\n",
       "\n",
       "    .dataframe thead th {\n",
       "        text-align: right;\n",
       "    }\n",
       "</style>\n",
       "<table border=\"1\" class=\"dataframe\">\n",
       "  <thead>\n",
       "    <tr style=\"text-align: right;\">\n",
       "      <th></th>\n",
       "      <th>Acquired by</th>\n",
       "      <th>Action</th>\n",
       "      <th>Bid Amount ($)</th>\n",
       "      <th>Position</th>\n",
       "      <th>Pro Team</th>\n",
       "      <th>Total points</th>\n",
       "      <th>Current Team</th>\n",
       "      <th>Player</th>\n",
       "      <th>Player-info</th>\n",
       "    </tr>\n",
       "    <tr>\n",
       "      <th>Player</th>\n",
       "      <th></th>\n",
       "      <th></th>\n",
       "      <th></th>\n",
       "      <th></th>\n",
       "      <th></th>\n",
       "      <th></th>\n",
       "      <th></th>\n",
       "      <th></th>\n",
       "      <th></th>\n",
       "    </tr>\n",
       "  </thead>\n",
       "  <tbody>\n",
       "    <tr>\n",
       "      <th>49ers D/ST</th>\n",
       "      <td>Repeat Donger</td>\n",
       "      <td>Draft</td>\n",
       "      <td>1</td>\n",
       "      <td>D/ST</td>\n",
       "      <td>SF</td>\n",
       "      <td>83.0</td>\n",
       "      <td>Fumble .</td>\n",
       "      <td>49ers D/ST</td>\n",
       "      <td>49ers D/ST D/ST (SF)</td>\n",
       "    </tr>\n",
       "    <tr>\n",
       "      <th>A.J. Brown</th>\n",
       "      <td>Mostert's Monsters</td>\n",
       "      <td>Draft</td>\n",
       "      <td>38</td>\n",
       "      <td>WR</td>\n",
       "      <td>TEN</td>\n",
       "      <td>103.5</td>\n",
       "      <td>Mostert's Monsters</td>\n",
       "      <td>A.J. Brown</td>\n",
       "      <td>A.J. Brown WR (TEN)</td>\n",
       "    </tr>\n",
       "    <tr>\n",
       "      <th>AJ Dillon</th>\n",
       "      <td>Tier 2 never felt so good</td>\n",
       "      <td>Draft</td>\n",
       "      <td>2</td>\n",
       "      <td>RB</td>\n",
       "      <td>GB</td>\n",
       "      <td>123.0</td>\n",
       "      <td>Tier 2 never felt so good</td>\n",
       "      <td>AJ Dillon</td>\n",
       "      <td>AJ Dillon RB (GB)</td>\n",
       "    </tr>\n",
       "    <tr>\n",
       "      <th>Aaron Jones</th>\n",
       "      <td>Frankel's Cankles</td>\n",
       "      <td>Draft</td>\n",
       "      <td>56</td>\n",
       "      <td>RB</td>\n",
       "      <td>GB</td>\n",
       "      <td>164.7</td>\n",
       "      <td>Frankel's Cankles</td>\n",
       "      <td>Aaron Jones</td>\n",
       "      <td>Aaron Jones RB (GB)</td>\n",
       "    </tr>\n",
       "    <tr>\n",
       "      <th>Aaron Rodgers</th>\n",
       "      <td>Mostert's Monsters</td>\n",
       "      <td>Draft</td>\n",
       "      <td>6</td>\n",
       "      <td>QB</td>\n",
       "      <td>GB</td>\n",
       "      <td>253.5</td>\n",
       "      <td>Mostert's Monsters</td>\n",
       "      <td>Aaron Rodgers</td>\n",
       "      <td>Aaron Rodgers QB (GB)</td>\n",
       "    </tr>\n",
       "  </tbody>\n",
       "</table>\n",
       "</div>"
      ],
      "text/plain": [
       "                             Acquired by Action  Bid Amount ($) Position  \\\n",
       "Player                                                                     \n",
       "49ers D/ST                 Repeat Donger  Draft               1     D/ST   \n",
       "A.J. Brown            Mostert's Monsters  Draft              38       WR   \n",
       "AJ Dillon      Tier 2 never felt so good  Draft               2       RB   \n",
       "Aaron Jones            Frankel's Cankles  Draft              56       RB   \n",
       "Aaron Rodgers         Mostert's Monsters  Draft               6       QB   \n",
       "\n",
       "              Pro Team  Total points               Current Team  \\\n",
       "Player                                                            \n",
       "49ers D/ST          SF          83.0                   Fumble .   \n",
       "A.J. Brown         TEN         103.5         Mostert's Monsters   \n",
       "AJ Dillon           GB         123.0  Tier 2 never felt so good   \n",
       "Aaron Jones         GB         164.7          Frankel's Cankles   \n",
       "Aaron Rodgers       GB         253.5         Mostert's Monsters   \n",
       "\n",
       "                      Player            Player-info  \n",
       "Player                                               \n",
       "49ers D/ST        49ers D/ST   49ers D/ST D/ST (SF)  \n",
       "A.J. Brown        A.J. Brown    A.J. Brown WR (TEN)  \n",
       "AJ Dillon          AJ Dillon      AJ Dillon RB (GB)  \n",
       "Aaron Jones      Aaron Jones    Aaron Jones RB (GB)  \n",
       "Aaron Rodgers  Aaron Rodgers  Aaron Rodgers QB (GB)  "
      ]
     },
     "execution_count": 177,
     "metadata": {},
     "output_type": "execute_result"
    }
   ],
   "source": [
    "df_draft_f.head()"
   ]
  },
  {
   "cell_type": "code",
   "execution_count": 181,
   "metadata": {},
   "outputs": [
    {
     "ename": "AttributeError",
     "evalue": "module 'seaborn' has no attribute 'histplot'",
     "output_type": "error",
     "traceback": [
      "\u001b[0;31m---------------------------------------------------------------------------\u001b[0m",
      "\u001b[0;31mAttributeError\u001b[0m                            Traceback (most recent call last)",
      "\u001b[0;32m<ipython-input-181-fd4d8a6eebe8>\u001b[0m in \u001b[0;36m<module>\u001b[0;34m\u001b[0m\n\u001b[0;32m----> 1\u001b[0;31m sns.histplot(df_draft_f, x='Acquired by', hue='Position', weights='Bid Amount ($)',\n\u001b[0m\u001b[1;32m      2\u001b[0m              multiple='stack', palette='tab10', shrink=0.8)\n",
      "\u001b[0;31mAttributeError\u001b[0m: module 'seaborn' has no attribute 'histplot'"
     ]
    }
   ],
   "source": [
    "sns.histplot(df_draft_f, x='Acquired by', hue='Position', weights='Bid Amount ($)',\n",
    "             multiple='stack', palette='tab10', shrink=0.8)"
   ]
  },
  {
   "cell_type": "code",
   "execution_count": 187,
   "metadata": {},
   "outputs": [
    {
     "data": {
      "text/html": [
       "<div>\n",
       "<style scoped>\n",
       "    .dataframe tbody tr th:only-of-type {\n",
       "        vertical-align: middle;\n",
       "    }\n",
       "\n",
       "    .dataframe tbody tr th {\n",
       "        vertical-align: top;\n",
       "    }\n",
       "\n",
       "    .dataframe thead th {\n",
       "        text-align: right;\n",
       "    }\n",
       "</style>\n",
       "<table border=\"1\" class=\"dataframe\">\n",
       "  <thead>\n",
       "    <tr style=\"text-align: right;\">\n",
       "      <th></th>\n",
       "      <th>Acquired by</th>\n",
       "      <th>Action</th>\n",
       "      <th>Bid Amount ($)</th>\n",
       "      <th>Position</th>\n",
       "      <th>Pro Team</th>\n",
       "      <th>Total points</th>\n",
       "      <th>Current Team</th>\n",
       "      <th>Player</th>\n",
       "      <th>Player-info</th>\n",
       "    </tr>\n",
       "    <tr>\n",
       "      <th>Player</th>\n",
       "      <th></th>\n",
       "      <th></th>\n",
       "      <th></th>\n",
       "      <th></th>\n",
       "      <th></th>\n",
       "      <th></th>\n",
       "      <th></th>\n",
       "      <th></th>\n",
       "      <th></th>\n",
       "    </tr>\n",
       "  </thead>\n",
       "  <tbody>\n",
       "    <tr>\n",
       "      <th>49ers D/ST</th>\n",
       "      <td>Repeat Donger</td>\n",
       "      <td>Draft</td>\n",
       "      <td>1</td>\n",
       "      <td>D/ST</td>\n",
       "      <td>SF</td>\n",
       "      <td>83.0</td>\n",
       "      <td>Fumble .</td>\n",
       "      <td>49ers D/ST</td>\n",
       "      <td>49ers D/ST D/ST (SF)</td>\n",
       "    </tr>\n",
       "    <tr>\n",
       "      <th>A.J. Brown</th>\n",
       "      <td>Mostert's Monsters</td>\n",
       "      <td>Draft</td>\n",
       "      <td>38</td>\n",
       "      <td>WR</td>\n",
       "      <td>TEN</td>\n",
       "      <td>103.5</td>\n",
       "      <td>Mostert's Monsters</td>\n",
       "      <td>A.J. Brown</td>\n",
       "      <td>A.J. Brown WR (TEN)</td>\n",
       "    </tr>\n",
       "    <tr>\n",
       "      <th>AJ Dillon</th>\n",
       "      <td>Tier 2 never felt so good</td>\n",
       "      <td>Draft</td>\n",
       "      <td>2</td>\n",
       "      <td>RB</td>\n",
       "      <td>GB</td>\n",
       "      <td>123.0</td>\n",
       "      <td>Tier 2 never felt so good</td>\n",
       "      <td>AJ Dillon</td>\n",
       "      <td>AJ Dillon RB (GB)</td>\n",
       "    </tr>\n",
       "    <tr>\n",
       "      <th>Aaron Jones</th>\n",
       "      <td>Frankel's Cankles</td>\n",
       "      <td>Draft</td>\n",
       "      <td>56</td>\n",
       "      <td>RB</td>\n",
       "      <td>GB</td>\n",
       "      <td>164.7</td>\n",
       "      <td>Frankel's Cankles</td>\n",
       "      <td>Aaron Jones</td>\n",
       "      <td>Aaron Jones RB (GB)</td>\n",
       "    </tr>\n",
       "    <tr>\n",
       "      <th>Aaron Rodgers</th>\n",
       "      <td>Mostert's Monsters</td>\n",
       "      <td>Draft</td>\n",
       "      <td>6</td>\n",
       "      <td>QB</td>\n",
       "      <td>GB</td>\n",
       "      <td>253.5</td>\n",
       "      <td>Mostert's Monsters</td>\n",
       "      <td>Aaron Rodgers</td>\n",
       "      <td>Aaron Rodgers QB (GB)</td>\n",
       "    </tr>\n",
       "    <tr>\n",
       "      <th>Adam Thielen</th>\n",
       "      <td>More than a  Thielen</td>\n",
       "      <td>Draft</td>\n",
       "      <td>21</td>\n",
       "      <td>WR</td>\n",
       "      <td>MIN</td>\n",
       "      <td>160.8</td>\n",
       "      <td>More than a  Thielen</td>\n",
       "      <td>Adam Thielen</td>\n",
       "      <td>Adam Thielen WR (MIN)</td>\n",
       "    </tr>\n",
       "    <tr>\n",
       "      <th>Allen Robinson II</th>\n",
       "      <td>Frankel's Cankles</td>\n",
       "      <td>Draft</td>\n",
       "      <td>29</td>\n",
       "      <td>WR</td>\n",
       "      <td>CHI</td>\n",
       "      <td>57.3</td>\n",
       "      <td>Frankel's Cankles</td>\n",
       "      <td>Allen Robinson II</td>\n",
       "      <td>Allen Robinson II WR (CHI)</td>\n",
       "    </tr>\n",
       "    <tr>\n",
       "      <th>Alvin Kamara</th>\n",
       "      <td>More than a  Thielen</td>\n",
       "      <td>Draft</td>\n",
       "      <td>68</td>\n",
       "      <td>RB</td>\n",
       "      <td>NO</td>\n",
       "      <td>164.5</td>\n",
       "      <td>More than a  Thielen</td>\n",
       "      <td>Alvin Kamara</td>\n",
       "      <td>Alvin Kamara RB (NO)</td>\n",
       "    </tr>\n",
       "    <tr>\n",
       "      <th>Amari Cooper</th>\n",
       "      <td>Don't Ekele Me</td>\n",
       "      <td>Draft</td>\n",
       "      <td>29</td>\n",
       "      <td>WR</td>\n",
       "      <td>DAL</td>\n",
       "      <td>129.0</td>\n",
       "      <td>Don't Ekele Me</td>\n",
       "      <td>Amari Cooper</td>\n",
       "      <td>Amari Cooper WR (DAL)</td>\n",
       "    </tr>\n",
       "    <tr>\n",
       "      <th>Antonio Brown</th>\n",
       "      <td>Dick Cheese</td>\n",
       "      <td>Draft</td>\n",
       "      <td>2</td>\n",
       "      <td>WR</td>\n",
       "      <td>TB</td>\n",
       "      <td>80.9</td>\n",
       "      <td>Dick Cheese</td>\n",
       "      <td>Antonio Brown</td>\n",
       "      <td>Antonio Brown WR (TB)</td>\n",
       "    </tr>\n",
       "  </tbody>\n",
       "</table>\n",
       "</div>"
      ],
      "text/plain": [
       "                                 Acquired by Action  Bid Amount ($) Position  \\\n",
       "Player                                                                         \n",
       "49ers D/ST                     Repeat Donger  Draft               1     D/ST   \n",
       "A.J. Brown                Mostert's Monsters  Draft              38       WR   \n",
       "AJ Dillon          Tier 2 never felt so good  Draft               2       RB   \n",
       "Aaron Jones                Frankel's Cankles  Draft              56       RB   \n",
       "Aaron Rodgers             Mostert's Monsters  Draft               6       QB   \n",
       "Adam Thielen            More than a  Thielen  Draft              21       WR   \n",
       "Allen Robinson II          Frankel's Cankles  Draft              29       WR   \n",
       "Alvin Kamara            More than a  Thielen  Draft              68       RB   \n",
       "Amari Cooper                  Don't Ekele Me  Draft              29       WR   \n",
       "Antonio Brown                    Dick Cheese  Draft               2       WR   \n",
       "\n",
       "                  Pro Team  Total points               Current Team  \\\n",
       "Player                                                                \n",
       "49ers D/ST              SF          83.0                   Fumble .   \n",
       "A.J. Brown             TEN         103.5         Mostert's Monsters   \n",
       "AJ Dillon               GB         123.0  Tier 2 never felt so good   \n",
       "Aaron Jones             GB         164.7          Frankel's Cankles   \n",
       "Aaron Rodgers           GB         253.5         Mostert's Monsters   \n",
       "Adam Thielen           MIN         160.8       More than a  Thielen   \n",
       "Allen Robinson II      CHI          57.3          Frankel's Cankles   \n",
       "Alvin Kamara            NO         164.5       More than a  Thielen   \n",
       "Amari Cooper           DAL         129.0             Don't Ekele Me   \n",
       "Antonio Brown           TB          80.9                Dick Cheese   \n",
       "\n",
       "                              Player                 Player-info  \n",
       "Player                                                            \n",
       "49ers D/ST                49ers D/ST        49ers D/ST D/ST (SF)  \n",
       "A.J. Brown                A.J. Brown         A.J. Brown WR (TEN)  \n",
       "AJ Dillon                  AJ Dillon           AJ Dillon RB (GB)  \n",
       "Aaron Jones              Aaron Jones         Aaron Jones RB (GB)  \n",
       "Aaron Rodgers          Aaron Rodgers       Aaron Rodgers QB (GB)  \n",
       "Adam Thielen            Adam Thielen       Adam Thielen WR (MIN)  \n",
       "Allen Robinson II  Allen Robinson II  Allen Robinson II WR (CHI)  \n",
       "Alvin Kamara            Alvin Kamara        Alvin Kamara RB (NO)  \n",
       "Amari Cooper            Amari Cooper       Amari Cooper WR (DAL)  \n",
       "Antonio Brown          Antonio Brown       Antonio Brown WR (TB)  "
      ]
     },
     "execution_count": 187,
     "metadata": {},
     "output_type": "execute_result"
    }
   ],
   "source": [
    "df_draft_f.head(10)"
   ]
  },
  {
   "cell_type": "code",
   "execution_count": 197,
   "metadata": {},
   "outputs": [],
   "source": [
    "df_p = pd.pivot_table(df_draft_f, index='Acquired by', columns =['Player1'], values='Bid Amount ($)')"
   ]
  },
  {
   "cell_type": "code",
   "execution_count": 186,
   "metadata": {},
   "outputs": [
    {
     "data": {
      "text/html": [
       "<div>\n",
       "<style scoped>\n",
       "    .dataframe tbody tr th:only-of-type {\n",
       "        vertical-align: middle;\n",
       "    }\n",
       "\n",
       "    .dataframe tbody tr th {\n",
       "        vertical-align: top;\n",
       "    }\n",
       "\n",
       "    .dataframe thead th {\n",
       "        text-align: right;\n",
       "    }\n",
       "</style>\n",
       "<table border=\"1\" class=\"dataframe\">\n",
       "  <thead>\n",
       "    <tr style=\"text-align: right;\">\n",
       "      <th></th>\n",
       "      <th>Bid Amount ($)</th>\n",
       "      <th>Total points</th>\n",
       "    </tr>\n",
       "    <tr>\n",
       "      <th>Acquired by</th>\n",
       "      <th></th>\n",
       "      <th></th>\n",
       "    </tr>\n",
       "  </thead>\n",
       "  <tbody>\n",
       "    <tr>\n",
       "      <th>Dick Cheese</th>\n",
       "      <td>199</td>\n",
       "      <td>1722.2</td>\n",
       "    </tr>\n",
       "    <tr>\n",
       "      <th>Don't Ekele Me</th>\n",
       "      <td>200</td>\n",
       "      <td>1828.4</td>\n",
       "    </tr>\n",
       "    <tr>\n",
       "      <th>Favre's Wranglers</th>\n",
       "      <td>200</td>\n",
       "      <td>1458.1</td>\n",
       "    </tr>\n",
       "    <tr>\n",
       "      <th>Frankel's Cankles</th>\n",
       "      <td>194</td>\n",
       "      <td>1202.1</td>\n",
       "    </tr>\n",
       "    <tr>\n",
       "      <th>Fumble .</th>\n",
       "      <td>200</td>\n",
       "      <td>1840.6</td>\n",
       "    </tr>\n",
       "    <tr>\n",
       "      <th>Ice City USA</th>\n",
       "      <td>199</td>\n",
       "      <td>1827.1</td>\n",
       "    </tr>\n",
       "    <tr>\n",
       "      <th>More than a  Thielen</th>\n",
       "      <td>200</td>\n",
       "      <td>1618.0</td>\n",
       "    </tr>\n",
       "    <tr>\n",
       "      <th>Mostert's Monsters</th>\n",
       "      <td>181</td>\n",
       "      <td>1491.7</td>\n",
       "    </tr>\n",
       "    <tr>\n",
       "      <th>Repeat Donger</th>\n",
       "      <td>200</td>\n",
       "      <td>1563.5</td>\n",
       "    </tr>\n",
       "    <tr>\n",
       "      <th>Ridley me This</th>\n",
       "      <td>196</td>\n",
       "      <td>1516.5</td>\n",
       "    </tr>\n",
       "    <tr>\n",
       "      <th>Sweetless in Seattle</th>\n",
       "      <td>200</td>\n",
       "      <td>1425.6</td>\n",
       "    </tr>\n",
       "    <tr>\n",
       "      <th>Tier 2 never felt so good</th>\n",
       "      <td>199</td>\n",
       "      <td>1714.3</td>\n",
       "    </tr>\n",
       "  </tbody>\n",
       "</table>\n",
       "</div>"
      ],
      "text/plain": [
       "                           Bid Amount ($)  Total points\n",
       "Acquired by                                            \n",
       "Dick Cheese                           199        1722.2\n",
       "Don't Ekele Me                        200        1828.4\n",
       "Favre's Wranglers                     200        1458.1\n",
       "Frankel's Cankles                     194        1202.1\n",
       "Fumble .                              200        1840.6\n",
       "Ice City USA                          199        1827.1\n",
       "More than a  Thielen                  200        1618.0\n",
       "Mostert's Monsters                    181        1491.7\n",
       "Repeat Donger                         200        1563.5\n",
       "Ridley me This                        196        1516.5\n",
       "Sweetless in Seattle                  200        1425.6\n",
       "Tier 2 never felt so good             199        1714.3"
      ]
     },
     "execution_count": 186,
     "metadata": {},
     "output_type": "execute_result"
    }
   ],
   "source": [
    "df_draft_f.groupby(by=['Acquired by']).agg(sum)"
   ]
  },
  {
   "cell_type": "code",
   "execution_count": 207,
   "metadata": {},
   "outputs": [],
   "source": [
    "df_draft_f = df_draft_f.sort_values(by=['Bid Amount ($)'],ascending=False)"
   ]
  },
  {
   "cell_type": "code",
   "execution_count": 208,
   "metadata": {},
   "outputs": [
    {
     "data": {
      "text/html": [
       "<div>\n",
       "<style scoped>\n",
       "    .dataframe tbody tr th:only-of-type {\n",
       "        vertical-align: middle;\n",
       "    }\n",
       "\n",
       "    .dataframe tbody tr th {\n",
       "        vertical-align: top;\n",
       "    }\n",
       "\n",
       "    .dataframe thead th {\n",
       "        text-align: right;\n",
       "    }\n",
       "</style>\n",
       "<table border=\"1\" class=\"dataframe\">\n",
       "  <thead>\n",
       "    <tr style=\"text-align: right;\">\n",
       "      <th></th>\n",
       "      <th>Acquired by</th>\n",
       "      <th>Action</th>\n",
       "      <th>Bid Amount ($)</th>\n",
       "      <th>Position</th>\n",
       "      <th>Pro Team</th>\n",
       "      <th>Total points</th>\n",
       "      <th>Current Team</th>\n",
       "      <th>Player1</th>\n",
       "      <th>Player-info</th>\n",
       "    </tr>\n",
       "    <tr>\n",
       "      <th>Player</th>\n",
       "      <th></th>\n",
       "      <th></th>\n",
       "      <th></th>\n",
       "      <th></th>\n",
       "      <th></th>\n",
       "      <th></th>\n",
       "      <th></th>\n",
       "      <th></th>\n",
       "      <th></th>\n",
       "    </tr>\n",
       "  </thead>\n",
       "  <tbody>\n",
       "    <tr>\n",
       "      <th>Derrick Henry</th>\n",
       "      <td>Ice City USA</td>\n",
       "      <td>Draft</td>\n",
       "      <td>84</td>\n",
       "      <td>RB</td>\n",
       "      <td>TEN</td>\n",
       "      <td>184.3</td>\n",
       "      <td>Sweetless in Seattle</td>\n",
       "      <td>Derrick Henry</td>\n",
       "      <td>Derrick Henry RB (TEN)</td>\n",
       "    </tr>\n",
       "    <tr>\n",
       "      <th>Christian McCaffrey</th>\n",
       "      <td>Sweetless in Seattle</td>\n",
       "      <td>Draft</td>\n",
       "      <td>83</td>\n",
       "      <td>RB</td>\n",
       "      <td>CAR</td>\n",
       "      <td>109.0</td>\n",
       "      <td>Free agent</td>\n",
       "      <td>Christian McCaffrey</td>\n",
       "      <td>Christian McCaffrey RB (CAR)</td>\n",
       "    </tr>\n",
       "    <tr>\n",
       "      <th>Ezekiel Elliott</th>\n",
       "      <td>Repeat Donger</td>\n",
       "      <td>Draft</td>\n",
       "      <td>70</td>\n",
       "      <td>RB</td>\n",
       "      <td>DAL</td>\n",
       "      <td>184.0</td>\n",
       "      <td>Repeat Donger</td>\n",
       "      <td>Ezekiel Elliott</td>\n",
       "      <td>Ezekiel Elliott RB (DAL)</td>\n",
       "    </tr>\n",
       "    <tr>\n",
       "      <th>Dalvin Cook</th>\n",
       "      <td>Dick Cheese</td>\n",
       "      <td>Draft</td>\n",
       "      <td>70</td>\n",
       "      <td>RB</td>\n",
       "      <td>MIN</td>\n",
       "      <td>171.7</td>\n",
       "      <td>Dick Cheese</td>\n",
       "      <td>Dalvin Cook</td>\n",
       "      <td>Dalvin Cook RB (MIN)</td>\n",
       "    </tr>\n",
       "    <tr>\n",
       "      <th>Alvin Kamara</th>\n",
       "      <td>More than a  Thielen</td>\n",
       "      <td>Draft</td>\n",
       "      <td>68</td>\n",
       "      <td>RB</td>\n",
       "      <td>NO</td>\n",
       "      <td>164.5</td>\n",
       "      <td>More than a  Thielen</td>\n",
       "      <td>Alvin Kamara</td>\n",
       "      <td>Alvin Kamara RB (NO)</td>\n",
       "    </tr>\n",
       "  </tbody>\n",
       "</table>\n",
       "</div>"
      ],
      "text/plain": [
       "                              Acquired by Action  Bid Amount ($) Position  \\\n",
       "Player                                                                      \n",
       "Derrick Henry                Ice City USA  Draft              84       RB   \n",
       "Christian McCaffrey  Sweetless in Seattle  Draft              83       RB   \n",
       "Ezekiel Elliott             Repeat Donger  Draft              70       RB   \n",
       "Dalvin Cook                   Dick Cheese  Draft              70       RB   \n",
       "Alvin Kamara         More than a  Thielen  Draft              68       RB   \n",
       "\n",
       "                    Pro Team  Total points          Current Team  \\\n",
       "Player                                                             \n",
       "Derrick Henry            TEN         184.3  Sweetless in Seattle   \n",
       "Christian McCaffrey      CAR         109.0            Free agent   \n",
       "Ezekiel Elliott          DAL         184.0         Repeat Donger   \n",
       "Dalvin Cook              MIN         171.7           Dick Cheese   \n",
       "Alvin Kamara              NO         164.5  More than a  Thielen   \n",
       "\n",
       "                                 Player1                   Player-info  \n",
       "Player                                                                  \n",
       "Derrick Henry              Derrick Henry        Derrick Henry RB (TEN)  \n",
       "Christian McCaffrey  Christian McCaffrey  Christian McCaffrey RB (CAR)  \n",
       "Ezekiel Elliott          Ezekiel Elliott      Ezekiel Elliott RB (DAL)  \n",
       "Dalvin Cook                  Dalvin Cook          Dalvin Cook RB (MIN)  \n",
       "Alvin Kamara                Alvin Kamara          Alvin Kamara RB (NO)  "
      ]
     },
     "execution_count": 208,
     "metadata": {},
     "output_type": "execute_result"
    }
   ],
   "source": [
    "df_draft_f.head()"
   ]
  },
  {
   "cell_type": "code",
   "execution_count": null,
   "metadata": {},
   "outputs": [],
   "source": [
    "px.bar(df_draft_f, x='year', y='pop')"
   ]
  },
  {
   "cell_type": "code",
   "execution_count": 213,
   "metadata": {},
   "outputs": [
    {
     "data": {
      "application/vnd.plotly.v1+json": {
       "config": {
        "plotlyServerURL": "https://plot.ly"
       },
       "data": [
        {
         "alignmentgroup": "True",
         "hovertemplate": "Position=RB<br>Player1=%{x}<br>Bid Amount ($)=%{y}<extra></extra>",
         "legendgroup": "RB",
         "marker": {
          "color": "#636efa"
         },
         "name": "RB",
         "offsetgroup": "RB",
         "orientation": "v",
         "showlegend": true,
         "textposition": "auto",
         "type": "bar",
         "x": [
          "Derrick Henry",
          "Christian McCaffrey",
          "Ezekiel Elliott",
          "Dalvin Cook",
          "Alvin Kamara",
          "Saquon Barkley",
          "Nick Chubb",
          "Jonathan Taylor",
          "Aaron Jones",
          "Austin Ekeler",
          "Najee Harris",
          "Antonio Gibson",
          "Joe Mixon",
          "Clyde Edwards-Helaire",
          "James Robinson",
          "David Montgomery",
          "Miles Sanders",
          "D'Andre Swift",
          "Chris Carson",
          "Gus Edwards",
          "Darrell Henderson Jr.",
          "Josh Jacobs",
          "Myles Gaskin",
          "Mike Davis",
          "Kareem Hunt",
          "Chase Edmonds",
          "Sony Michel",
          "Raheem Mostert",
          "Javonte Williams",
          "Damien Harris",
          "Melvin Gordon III",
          "Kenyan Drake",
          "Michael Carter",
          "Trey Sermon",
          "AJ Dillon",
          "James Conner",
          "Ronald Jones II",
          "Ty'Son Williams",
          "Nyheim Hines",
          "Devin Singletary",
          "David Johnson",
          "Chuba Hubbard",
          "J.D. McKissic",
          "Leonard Fournette",
          "James White",
          "Jamaal Williams",
          "Zack Moss"
         ],
         "xaxis": "x",
         "y": [
          84,
          83,
          70,
          70,
          68,
          63,
          61,
          58,
          56,
          54,
          51,
          49,
          40,
          36,
          33,
          30,
          30,
          29,
          28,
          22,
          17,
          16,
          14,
          12,
          10,
          7,
          7,
          6,
          6,
          5,
          5,
          3,
          3,
          3,
          2,
          2,
          2,
          1,
          1,
          1,
          1,
          1,
          1,
          1,
          1,
          1,
          1
         ],
         "yaxis": "y"
        },
        {
         "alignmentgroup": "True",
         "hovertemplate": "Position=TE<br>Player1=%{x}<br>Bid Amount ($)=%{y}<extra></extra>",
         "legendgroup": "TE",
         "marker": {
          "color": "#EF553B"
         },
         "name": "TE",
         "offsetgroup": "TE",
         "orientation": "v",
         "showlegend": true,
         "textposition": "auto",
         "type": "bar",
         "x": [
          "Travis Kelce",
          "Darren Waller",
          "George Kittle",
          "Mark Andrews",
          "Logan Thomas",
          "T.J. Hockenson",
          "Noah Fant",
          "Kyle Pitts",
          "Robert Tonyan",
          "Tyler Higbee",
          "Mike Gesicki",
          "Dallas Goedert",
          "Jonnu Smith"
         ],
         "xaxis": "x",
         "y": [
          67,
          35,
          32,
          16,
          9,
          7,
          5,
          5,
          1,
          1,
          1,
          1,
          1
         ],
         "yaxis": "y"
        },
        {
         "alignmentgroup": "True",
         "hovertemplate": "Position=WR<br>Player1=%{x}<br>Bid Amount ($)=%{y}<extra></extra>",
         "legendgroup": "WR",
         "marker": {
          "color": "#00cc96"
         },
         "name": "WR",
         "offsetgroup": "WR",
         "orientation": "v",
         "showlegend": true,
         "textposition": "auto",
         "type": "bar",
         "x": [
          "Davante Adams",
          "Tyreek Hill",
          "Stefon Diggs",
          "DeAndre Hopkins",
          "Calvin Ridley",
          "DK Metcalf",
          "Justin Jefferson",
          "A.J. Brown",
          "Keenan Allen",
          "Terry McLaurin",
          "Robert Woods",
          "CeeDee Lamb",
          "Mike Evans",
          "Amari Cooper",
          "Cooper Kupp",
          "Allen Robinson II",
          "Tyler Lockett",
          "Adam Thielen",
          "Odell Beckham Jr.",
          "Chris Godwin",
          "Julio Jones",
          "DJ Moore",
          "Diontae Johnson",
          "Tee Higgins",
          "Brandon Aiyuk",
          "DeVonta Smith",
          "Tyler Boyd",
          "Kenny Golladay",
          "Courtland Sutton",
          "Robby Anderson",
          "Brandin Cooks",
          "Jerry Jeudy",
          "JuJu Smith-Schuster",
          "Michael Thomas",
          "William Fuller V",
          "Laviska Shenault Jr.",
          "Chase Claypool",
          "Deebo Samuel",
          "Corey Davis",
          "Ja'Marr Chase",
          "Jarvis Landry",
          "DJ Chark Jr.",
          "Michael Gallup",
          "Marvin Jones Jr.",
          "Michael Pittman Jr.",
          "Mike Williams",
          "Marquise Brown",
          "Antonio Brown",
          "Russell Gage",
          "Curtis Samuel",
          "Henry Ruggs III",
          "Cole Beasley",
          "Mecole Hardman",
          "Marquez Callaway",
          "Jaylen Waddle",
          "Jakobi Meyers",
          "Jamison Crowder",
          "Jalen Reagor"
         ],
         "xaxis": "x",
         "y": [
          63,
          57,
          57,
          45,
          43,
          42,
          42,
          38,
          37,
          36,
          33,
          32,
          30,
          29,
          29,
          29,
          22,
          21,
          20,
          19,
          18,
          17,
          17,
          16,
          13,
          12,
          10,
          9,
          8,
          8,
          8,
          7,
          6,
          5,
          5,
          5,
          5,
          4,
          3,
          3,
          3,
          2,
          2,
          2,
          2,
          2,
          2,
          2,
          1,
          1,
          1,
          1,
          1,
          1,
          1,
          1,
          1,
          1
         ],
         "yaxis": "y"
        },
        {
         "alignmentgroup": "True",
         "hovertemplate": "Position=QB<br>Player1=%{x}<br>Bid Amount ($)=%{y}<extra></extra>",
         "legendgroup": "QB",
         "marker": {
          "color": "#ab63fa"
         },
         "name": "QB",
         "offsetgroup": "QB",
         "orientation": "v",
         "showlegend": true,
         "textposition": "auto",
         "type": "bar",
         "x": [
          "Patrick Mahomes",
          "Josh Allen",
          "Aaron Rodgers",
          "Lamar Jackson",
          "Russell Wilson",
          "Kyler Murray",
          "Justin Herbert",
          "Dak Prescott",
          "Ryan Tannehill",
          "Tom Brady",
          "Deshaun Watson",
          "Joe Burrow",
          "Matthew Stafford",
          "Jalen Hurts"
         ],
         "xaxis": "x",
         "y": [
          22,
          13,
          6,
          6,
          4,
          3,
          3,
          3,
          2,
          1,
          1,
          1,
          1,
          1
         ],
         "yaxis": "y"
        },
        {
         "alignmentgroup": "True",
         "hovertemplate": "Position=D/ST<br>Player1=%{x}<br>Bid Amount ($)=%{y}<extra></extra>",
         "legendgroup": "D/ST",
         "marker": {
          "color": "#FFA15A"
         },
         "name": "D/ST",
         "offsetgroup": "D/ST",
         "orientation": "v",
         "showlegend": true,
         "textposition": "auto",
         "type": "bar",
         "x": [
          "Rams D/ST",
          "Buccaneers D/ST",
          "Ravens D/ST",
          "Washington D/ST",
          "Bills D/ST",
          "Steelers D/ST",
          "49ers D/ST",
          "Giants D/ST",
          "Dolphins D/ST",
          "Colts D/ST",
          "Browns D/ST",
          "Broncos D/ST"
         ],
         "xaxis": "x",
         "y": [
          8,
          2,
          2,
          2,
          2,
          1,
          1,
          1,
          1,
          1,
          1,
          1
         ],
         "yaxis": "y"
        },
        {
         "alignmentgroup": "True",
         "hovertemplate": "Position=K<br>Player1=%{x}<br>Bid Amount ($)=%{y}<extra></extra>",
         "legendgroup": "K",
         "marker": {
          "color": "#19d3f3"
         },
         "name": "K",
         "offsetgroup": "K",
         "orientation": "v",
         "showlegend": true,
         "textposition": "auto",
         "type": "bar",
         "x": [
          "Younghoe Koo",
          "Mason Crosby",
          "Jason Myers",
          "Harrison Butker",
          "Rodrigo Blankenship",
          "Tyler Bass",
          "Graham Gano",
          "Brandon McManus",
          "Greg Zuerlein",
          "Matt Gay",
          "Justin Tucker",
          "Jason Sanders"
         ],
         "xaxis": "x",
         "y": [
          8,
          2,
          2,
          2,
          1,
          1,
          1,
          1,
          1,
          1,
          1,
          1
         ],
         "yaxis": "y"
        }
       ],
       "layout": {
        "barmode": "relative",
        "height": 400,
        "legend": {
         "title": {
          "text": "Position"
         },
         "tracegroupgap": 0
        },
        "margin": {
         "t": 60
        },
        "template": {
         "data": {
          "bar": [
           {
            "error_x": {
             "color": "#2a3f5f"
            },
            "error_y": {
             "color": "#2a3f5f"
            },
            "marker": {
             "line": {
              "color": "#E5ECF6",
              "width": 0.5
             }
            },
            "type": "bar"
           }
          ],
          "barpolar": [
           {
            "marker": {
             "line": {
              "color": "#E5ECF6",
              "width": 0.5
             }
            },
            "type": "barpolar"
           }
          ],
          "carpet": [
           {
            "aaxis": {
             "endlinecolor": "#2a3f5f",
             "gridcolor": "white",
             "linecolor": "white",
             "minorgridcolor": "white",
             "startlinecolor": "#2a3f5f"
            },
            "baxis": {
             "endlinecolor": "#2a3f5f",
             "gridcolor": "white",
             "linecolor": "white",
             "minorgridcolor": "white",
             "startlinecolor": "#2a3f5f"
            },
            "type": "carpet"
           }
          ],
          "choropleth": [
           {
            "colorbar": {
             "outlinewidth": 0,
             "ticks": ""
            },
            "type": "choropleth"
           }
          ],
          "contour": [
           {
            "colorbar": {
             "outlinewidth": 0,
             "ticks": ""
            },
            "colorscale": [
             [
              0,
              "#0d0887"
             ],
             [
              0.1111111111111111,
              "#46039f"
             ],
             [
              0.2222222222222222,
              "#7201a8"
             ],
             [
              0.3333333333333333,
              "#9c179e"
             ],
             [
              0.4444444444444444,
              "#bd3786"
             ],
             [
              0.5555555555555556,
              "#d8576b"
             ],
             [
              0.6666666666666666,
              "#ed7953"
             ],
             [
              0.7777777777777778,
              "#fb9f3a"
             ],
             [
              0.8888888888888888,
              "#fdca26"
             ],
             [
              1,
              "#f0f921"
             ]
            ],
            "type": "contour"
           }
          ],
          "contourcarpet": [
           {
            "colorbar": {
             "outlinewidth": 0,
             "ticks": ""
            },
            "type": "contourcarpet"
           }
          ],
          "heatmap": [
           {
            "colorbar": {
             "outlinewidth": 0,
             "ticks": ""
            },
            "colorscale": [
             [
              0,
              "#0d0887"
             ],
             [
              0.1111111111111111,
              "#46039f"
             ],
             [
              0.2222222222222222,
              "#7201a8"
             ],
             [
              0.3333333333333333,
              "#9c179e"
             ],
             [
              0.4444444444444444,
              "#bd3786"
             ],
             [
              0.5555555555555556,
              "#d8576b"
             ],
             [
              0.6666666666666666,
              "#ed7953"
             ],
             [
              0.7777777777777778,
              "#fb9f3a"
             ],
             [
              0.8888888888888888,
              "#fdca26"
             ],
             [
              1,
              "#f0f921"
             ]
            ],
            "type": "heatmap"
           }
          ],
          "heatmapgl": [
           {
            "colorbar": {
             "outlinewidth": 0,
             "ticks": ""
            },
            "colorscale": [
             [
              0,
              "#0d0887"
             ],
             [
              0.1111111111111111,
              "#46039f"
             ],
             [
              0.2222222222222222,
              "#7201a8"
             ],
             [
              0.3333333333333333,
              "#9c179e"
             ],
             [
              0.4444444444444444,
              "#bd3786"
             ],
             [
              0.5555555555555556,
              "#d8576b"
             ],
             [
              0.6666666666666666,
              "#ed7953"
             ],
             [
              0.7777777777777778,
              "#fb9f3a"
             ],
             [
              0.8888888888888888,
              "#fdca26"
             ],
             [
              1,
              "#f0f921"
             ]
            ],
            "type": "heatmapgl"
           }
          ],
          "histogram": [
           {
            "marker": {
             "colorbar": {
              "outlinewidth": 0,
              "ticks": ""
             }
            },
            "type": "histogram"
           }
          ],
          "histogram2d": [
           {
            "colorbar": {
             "outlinewidth": 0,
             "ticks": ""
            },
            "colorscale": [
             [
              0,
              "#0d0887"
             ],
             [
              0.1111111111111111,
              "#46039f"
             ],
             [
              0.2222222222222222,
              "#7201a8"
             ],
             [
              0.3333333333333333,
              "#9c179e"
             ],
             [
              0.4444444444444444,
              "#bd3786"
             ],
             [
              0.5555555555555556,
              "#d8576b"
             ],
             [
              0.6666666666666666,
              "#ed7953"
             ],
             [
              0.7777777777777778,
              "#fb9f3a"
             ],
             [
              0.8888888888888888,
              "#fdca26"
             ],
             [
              1,
              "#f0f921"
             ]
            ],
            "type": "histogram2d"
           }
          ],
          "histogram2dcontour": [
           {
            "colorbar": {
             "outlinewidth": 0,
             "ticks": ""
            },
            "colorscale": [
             [
              0,
              "#0d0887"
             ],
             [
              0.1111111111111111,
              "#46039f"
             ],
             [
              0.2222222222222222,
              "#7201a8"
             ],
             [
              0.3333333333333333,
              "#9c179e"
             ],
             [
              0.4444444444444444,
              "#bd3786"
             ],
             [
              0.5555555555555556,
              "#d8576b"
             ],
             [
              0.6666666666666666,
              "#ed7953"
             ],
             [
              0.7777777777777778,
              "#fb9f3a"
             ],
             [
              0.8888888888888888,
              "#fdca26"
             ],
             [
              1,
              "#f0f921"
             ]
            ],
            "type": "histogram2dcontour"
           }
          ],
          "mesh3d": [
           {
            "colorbar": {
             "outlinewidth": 0,
             "ticks": ""
            },
            "type": "mesh3d"
           }
          ],
          "parcoords": [
           {
            "line": {
             "colorbar": {
              "outlinewidth": 0,
              "ticks": ""
             }
            },
            "type": "parcoords"
           }
          ],
          "pie": [
           {
            "automargin": true,
            "type": "pie"
           }
          ],
          "scatter": [
           {
            "marker": {
             "colorbar": {
              "outlinewidth": 0,
              "ticks": ""
             }
            },
            "type": "scatter"
           }
          ],
          "scatter3d": [
           {
            "line": {
             "colorbar": {
              "outlinewidth": 0,
              "ticks": ""
             }
            },
            "marker": {
             "colorbar": {
              "outlinewidth": 0,
              "ticks": ""
             }
            },
            "type": "scatter3d"
           }
          ],
          "scattercarpet": [
           {
            "marker": {
             "colorbar": {
              "outlinewidth": 0,
              "ticks": ""
             }
            },
            "type": "scattercarpet"
           }
          ],
          "scattergeo": [
           {
            "marker": {
             "colorbar": {
              "outlinewidth": 0,
              "ticks": ""
             }
            },
            "type": "scattergeo"
           }
          ],
          "scattergl": [
           {
            "marker": {
             "colorbar": {
              "outlinewidth": 0,
              "ticks": ""
             }
            },
            "type": "scattergl"
           }
          ],
          "scattermapbox": [
           {
            "marker": {
             "colorbar": {
              "outlinewidth": 0,
              "ticks": ""
             }
            },
            "type": "scattermapbox"
           }
          ],
          "scatterpolar": [
           {
            "marker": {
             "colorbar": {
              "outlinewidth": 0,
              "ticks": ""
             }
            },
            "type": "scatterpolar"
           }
          ],
          "scatterpolargl": [
           {
            "marker": {
             "colorbar": {
              "outlinewidth": 0,
              "ticks": ""
             }
            },
            "type": "scatterpolargl"
           }
          ],
          "scatterternary": [
           {
            "marker": {
             "colorbar": {
              "outlinewidth": 0,
              "ticks": ""
             }
            },
            "type": "scatterternary"
           }
          ],
          "surface": [
           {
            "colorbar": {
             "outlinewidth": 0,
             "ticks": ""
            },
            "colorscale": [
             [
              0,
              "#0d0887"
             ],
             [
              0.1111111111111111,
              "#46039f"
             ],
             [
              0.2222222222222222,
              "#7201a8"
             ],
             [
              0.3333333333333333,
              "#9c179e"
             ],
             [
              0.4444444444444444,
              "#bd3786"
             ],
             [
              0.5555555555555556,
              "#d8576b"
             ],
             [
              0.6666666666666666,
              "#ed7953"
             ],
             [
              0.7777777777777778,
              "#fb9f3a"
             ],
             [
              0.8888888888888888,
              "#fdca26"
             ],
             [
              1,
              "#f0f921"
             ]
            ],
            "type": "surface"
           }
          ],
          "table": [
           {
            "cells": {
             "fill": {
              "color": "#EBF0F8"
             },
             "line": {
              "color": "white"
             }
            },
            "header": {
             "fill": {
              "color": "#C8D4E3"
             },
             "line": {
              "color": "white"
             }
            },
            "type": "table"
           }
          ]
         },
         "layout": {
          "annotationdefaults": {
           "arrowcolor": "#2a3f5f",
           "arrowhead": 0,
           "arrowwidth": 1
          },
          "coloraxis": {
           "colorbar": {
            "outlinewidth": 0,
            "ticks": ""
           }
          },
          "colorscale": {
           "diverging": [
            [
             0,
             "#8e0152"
            ],
            [
             0.1,
             "#c51b7d"
            ],
            [
             0.2,
             "#de77ae"
            ],
            [
             0.3,
             "#f1b6da"
            ],
            [
             0.4,
             "#fde0ef"
            ],
            [
             0.5,
             "#f7f7f7"
            ],
            [
             0.6,
             "#e6f5d0"
            ],
            [
             0.7,
             "#b8e186"
            ],
            [
             0.8,
             "#7fbc41"
            ],
            [
             0.9,
             "#4d9221"
            ],
            [
             1,
             "#276419"
            ]
           ],
           "sequential": [
            [
             0,
             "#0d0887"
            ],
            [
             0.1111111111111111,
             "#46039f"
            ],
            [
             0.2222222222222222,
             "#7201a8"
            ],
            [
             0.3333333333333333,
             "#9c179e"
            ],
            [
             0.4444444444444444,
             "#bd3786"
            ],
            [
             0.5555555555555556,
             "#d8576b"
            ],
            [
             0.6666666666666666,
             "#ed7953"
            ],
            [
             0.7777777777777778,
             "#fb9f3a"
            ],
            [
             0.8888888888888888,
             "#fdca26"
            ],
            [
             1,
             "#f0f921"
            ]
           ],
           "sequentialminus": [
            [
             0,
             "#0d0887"
            ],
            [
             0.1111111111111111,
             "#46039f"
            ],
            [
             0.2222222222222222,
             "#7201a8"
            ],
            [
             0.3333333333333333,
             "#9c179e"
            ],
            [
             0.4444444444444444,
             "#bd3786"
            ],
            [
             0.5555555555555556,
             "#d8576b"
            ],
            [
             0.6666666666666666,
             "#ed7953"
            ],
            [
             0.7777777777777778,
             "#fb9f3a"
            ],
            [
             0.8888888888888888,
             "#fdca26"
            ],
            [
             1,
             "#f0f921"
            ]
           ]
          },
          "colorway": [
           "#636efa",
           "#EF553B",
           "#00cc96",
           "#ab63fa",
           "#FFA15A",
           "#19d3f3",
           "#FF6692",
           "#B6E880",
           "#FF97FF",
           "#FECB52"
          ],
          "font": {
           "color": "#2a3f5f"
          },
          "geo": {
           "bgcolor": "white",
           "lakecolor": "white",
           "landcolor": "#E5ECF6",
           "showlakes": true,
           "showland": true,
           "subunitcolor": "white"
          },
          "hoverlabel": {
           "align": "left"
          },
          "hovermode": "closest",
          "mapbox": {
           "style": "light"
          },
          "paper_bgcolor": "white",
          "plot_bgcolor": "#E5ECF6",
          "polar": {
           "angularaxis": {
            "gridcolor": "white",
            "linecolor": "white",
            "ticks": ""
           },
           "bgcolor": "#E5ECF6",
           "radialaxis": {
            "gridcolor": "white",
            "linecolor": "white",
            "ticks": ""
           }
          },
          "scene": {
           "xaxis": {
            "backgroundcolor": "#E5ECF6",
            "gridcolor": "white",
            "gridwidth": 2,
            "linecolor": "white",
            "showbackground": true,
            "ticks": "",
            "zerolinecolor": "white"
           },
           "yaxis": {
            "backgroundcolor": "#E5ECF6",
            "gridcolor": "white",
            "gridwidth": 2,
            "linecolor": "white",
            "showbackground": true,
            "ticks": "",
            "zerolinecolor": "white"
           },
           "zaxis": {
            "backgroundcolor": "#E5ECF6",
            "gridcolor": "white",
            "gridwidth": 2,
            "linecolor": "white",
            "showbackground": true,
            "ticks": "",
            "zerolinecolor": "white"
           }
          },
          "shapedefaults": {
           "line": {
            "color": "#2a3f5f"
           }
          },
          "ternary": {
           "aaxis": {
            "gridcolor": "white",
            "linecolor": "white",
            "ticks": ""
           },
           "baxis": {
            "gridcolor": "white",
            "linecolor": "white",
            "ticks": ""
           },
           "bgcolor": "#E5ECF6",
           "caxis": {
            "gridcolor": "white",
            "linecolor": "white",
            "ticks": ""
           }
          },
          "title": {
           "x": 0.05
          },
          "xaxis": {
           "automargin": true,
           "gridcolor": "white",
           "linecolor": "white",
           "ticks": "",
           "title": {
            "standoff": 15
           },
           "zerolinecolor": "white",
           "zerolinewidth": 2
          },
          "yaxis": {
           "automargin": true,
           "gridcolor": "white",
           "linecolor": "white",
           "ticks": "",
           "title": {
            "standoff": 15
           },
           "zerolinecolor": "white",
           "zerolinewidth": 2
          }
         }
        },
        "xaxis": {
         "anchor": "y",
         "domain": [
          0,
          1
         ],
         "title": {
          "text": "Player1"
         },
         "type": "category"
        },
        "yaxis": {
         "anchor": "x",
         "domain": [
          0,
          1
         ],
         "title": {
          "text": "Bid Amount ($)"
         }
        }
       }
      },
      "text/html": [
       "<div>\n",
       "        \n",
       "        \n",
       "            <div id=\"5356895b-6095-416c-b070-e34226e3a02d\" class=\"plotly-graph-div\" style=\"height:400px; width:100%;\"></div>\n",
       "            <script type=\"text/javascript\">\n",
       "                require([\"plotly\"], function(Plotly) {\n",
       "                    window.PLOTLYENV=window.PLOTLYENV || {};\n",
       "                    \n",
       "                if (document.getElementById(\"5356895b-6095-416c-b070-e34226e3a02d\")) {\n",
       "                    Plotly.newPlot(\n",
       "                        '5356895b-6095-416c-b070-e34226e3a02d',\n",
       "                        [{\"alignmentgroup\": \"True\", \"hovertemplate\": \"Position=RB<br>Player1=%{x}<br>Bid Amount ($)=%{y}<extra></extra>\", \"legendgroup\": \"RB\", \"marker\": {\"color\": \"#636efa\"}, \"name\": \"RB\", \"offsetgroup\": \"RB\", \"orientation\": \"v\", \"showlegend\": true, \"textposition\": \"auto\", \"type\": \"bar\", \"x\": [\"Derrick Henry\", \"Christian McCaffrey\", \"Ezekiel Elliott\", \"Dalvin Cook\", \"Alvin Kamara\", \"Saquon Barkley\", \"Nick Chubb\", \"Jonathan Taylor\", \"Aaron Jones\", \"Austin Ekeler\", \"Najee Harris\", \"Antonio Gibson\", \"Joe Mixon\", \"Clyde Edwards-Helaire\", \"James Robinson\", \"David Montgomery\", \"Miles Sanders\", \"D'Andre Swift\", \"Chris Carson\", \"Gus Edwards\", \"Darrell Henderson Jr.\", \"Josh Jacobs\", \"Myles Gaskin\", \"Mike Davis\", \"Kareem Hunt\", \"Chase Edmonds\", \"Sony Michel\", \"Raheem Mostert\", \"Javonte Williams\", \"Damien Harris\", \"Melvin Gordon III\", \"Kenyan Drake\", \"Michael Carter\", \"Trey Sermon\", \"AJ Dillon\", \"James Conner\", \"Ronald Jones II\", \"Ty'Son Williams\", \"Nyheim Hines\", \"Devin Singletary\", \"David Johnson\", \"Chuba Hubbard\", \"J.D. McKissic\", \"Leonard Fournette\", \"James White\", \"Jamaal Williams\", \"Zack Moss\"], \"xaxis\": \"x\", \"y\": [84, 83, 70, 70, 68, 63, 61, 58, 56, 54, 51, 49, 40, 36, 33, 30, 30, 29, 28, 22, 17, 16, 14, 12, 10, 7, 7, 6, 6, 5, 5, 3, 3, 3, 2, 2, 2, 1, 1, 1, 1, 1, 1, 1, 1, 1, 1], \"yaxis\": \"y\"}, {\"alignmentgroup\": \"True\", \"hovertemplate\": \"Position=TE<br>Player1=%{x}<br>Bid Amount ($)=%{y}<extra></extra>\", \"legendgroup\": \"TE\", \"marker\": {\"color\": \"#EF553B\"}, \"name\": \"TE\", \"offsetgroup\": \"TE\", \"orientation\": \"v\", \"showlegend\": true, \"textposition\": \"auto\", \"type\": \"bar\", \"x\": [\"Travis Kelce\", \"Darren Waller\", \"George Kittle\", \"Mark Andrews\", \"Logan Thomas\", \"T.J. Hockenson\", \"Noah Fant\", \"Kyle Pitts\", \"Robert Tonyan\", \"Tyler Higbee\", \"Mike Gesicki\", \"Dallas Goedert\", \"Jonnu Smith\"], \"xaxis\": \"x\", \"y\": [67, 35, 32, 16, 9, 7, 5, 5, 1, 1, 1, 1, 1], \"yaxis\": \"y\"}, {\"alignmentgroup\": \"True\", \"hovertemplate\": \"Position=WR<br>Player1=%{x}<br>Bid Amount ($)=%{y}<extra></extra>\", \"legendgroup\": \"WR\", \"marker\": {\"color\": \"#00cc96\"}, \"name\": \"WR\", \"offsetgroup\": \"WR\", \"orientation\": \"v\", \"showlegend\": true, \"textposition\": \"auto\", \"type\": \"bar\", \"x\": [\"Davante Adams\", \"Tyreek Hill\", \"Stefon Diggs\", \"DeAndre Hopkins\", \"Calvin Ridley\", \"DK Metcalf\", \"Justin Jefferson\", \"A.J. Brown\", \"Keenan Allen\", \"Terry McLaurin\", \"Robert Woods\", \"CeeDee Lamb\", \"Mike Evans\", \"Amari Cooper\", \"Cooper Kupp\", \"Allen Robinson II\", \"Tyler Lockett\", \"Adam Thielen\", \"Odell Beckham Jr.\", \"Chris Godwin\", \"Julio Jones\", \"DJ Moore\", \"Diontae Johnson\", \"Tee Higgins\", \"Brandon Aiyuk\", \"DeVonta Smith\", \"Tyler Boyd\", \"Kenny Golladay\", \"Courtland Sutton\", \"Robby Anderson\", \"Brandin Cooks\", \"Jerry Jeudy\", \"JuJu Smith-Schuster\", \"Michael Thomas\", \"William Fuller V\", \"Laviska Shenault Jr.\", \"Chase Claypool\", \"Deebo Samuel\", \"Corey Davis\", \"Ja'Marr Chase\", \"Jarvis Landry\", \"DJ Chark Jr.\", \"Michael Gallup\", \"Marvin Jones Jr.\", \"Michael Pittman Jr.\", \"Mike Williams\", \"Marquise Brown\", \"Antonio Brown\", \"Russell Gage\", \"Curtis Samuel\", \"Henry Ruggs III\", \"Cole Beasley\", \"Mecole Hardman\", \"Marquez Callaway\", \"Jaylen Waddle\", \"Jakobi Meyers\", \"Jamison Crowder\", \"Jalen Reagor\"], \"xaxis\": \"x\", \"y\": [63, 57, 57, 45, 43, 42, 42, 38, 37, 36, 33, 32, 30, 29, 29, 29, 22, 21, 20, 19, 18, 17, 17, 16, 13, 12, 10, 9, 8, 8, 8, 7, 6, 5, 5, 5, 5, 4, 3, 3, 3, 2, 2, 2, 2, 2, 2, 2, 1, 1, 1, 1, 1, 1, 1, 1, 1, 1], \"yaxis\": \"y\"}, {\"alignmentgroup\": \"True\", \"hovertemplate\": \"Position=QB<br>Player1=%{x}<br>Bid Amount ($)=%{y}<extra></extra>\", \"legendgroup\": \"QB\", \"marker\": {\"color\": \"#ab63fa\"}, \"name\": \"QB\", \"offsetgroup\": \"QB\", \"orientation\": \"v\", \"showlegend\": true, \"textposition\": \"auto\", \"type\": \"bar\", \"x\": [\"Patrick Mahomes\", \"Josh Allen\", \"Aaron Rodgers\", \"Lamar Jackson\", \"Russell Wilson\", \"Kyler Murray\", \"Justin Herbert\", \"Dak Prescott\", \"Ryan Tannehill\", \"Tom Brady\", \"Deshaun Watson\", \"Joe Burrow\", \"Matthew Stafford\", \"Jalen Hurts\"], \"xaxis\": \"x\", \"y\": [22, 13, 6, 6, 4, 3, 3, 3, 2, 1, 1, 1, 1, 1], \"yaxis\": \"y\"}, {\"alignmentgroup\": \"True\", \"hovertemplate\": \"Position=D/ST<br>Player1=%{x}<br>Bid Amount ($)=%{y}<extra></extra>\", \"legendgroup\": \"D/ST\", \"marker\": {\"color\": \"#FFA15A\"}, \"name\": \"D/ST\", \"offsetgroup\": \"D/ST\", \"orientation\": \"v\", \"showlegend\": true, \"textposition\": \"auto\", \"type\": \"bar\", \"x\": [\"Rams D/ST\", \"Buccaneers D/ST\", \"Ravens D/ST\", \"Washington D/ST\", \"Bills D/ST\", \"Steelers D/ST\", \"49ers D/ST\", \"Giants D/ST\", \"Dolphins D/ST\", \"Colts D/ST\", \"Browns D/ST\", \"Broncos D/ST\"], \"xaxis\": \"x\", \"y\": [8, 2, 2, 2, 2, 1, 1, 1, 1, 1, 1, 1], \"yaxis\": \"y\"}, {\"alignmentgroup\": \"True\", \"hovertemplate\": \"Position=K<br>Player1=%{x}<br>Bid Amount ($)=%{y}<extra></extra>\", \"legendgroup\": \"K\", \"marker\": {\"color\": \"#19d3f3\"}, \"name\": \"K\", \"offsetgroup\": \"K\", \"orientation\": \"v\", \"showlegend\": true, \"textposition\": \"auto\", \"type\": \"bar\", \"x\": [\"Younghoe Koo\", \"Mason Crosby\", \"Jason Myers\", \"Harrison Butker\", \"Rodrigo Blankenship\", \"Tyler Bass\", \"Graham Gano\", \"Brandon McManus\", \"Greg Zuerlein\", \"Matt Gay\", \"Justin Tucker\", \"Jason Sanders\"], \"xaxis\": \"x\", \"y\": [8, 2, 2, 2, 1, 1, 1, 1, 1, 1, 1, 1], \"yaxis\": \"y\"}],\n",
       "                        {\"barmode\": \"relative\", \"height\": 400, \"legend\": {\"title\": {\"text\": \"Position\"}, \"tracegroupgap\": 0}, \"margin\": {\"t\": 60}, \"template\": {\"data\": {\"bar\": [{\"error_x\": {\"color\": \"#2a3f5f\"}, \"error_y\": {\"color\": \"#2a3f5f\"}, \"marker\": {\"line\": {\"color\": \"#E5ECF6\", \"width\": 0.5}}, \"type\": \"bar\"}], \"barpolar\": [{\"marker\": {\"line\": {\"color\": \"#E5ECF6\", \"width\": 0.5}}, \"type\": \"barpolar\"}], \"carpet\": [{\"aaxis\": {\"endlinecolor\": \"#2a3f5f\", \"gridcolor\": \"white\", \"linecolor\": \"white\", \"minorgridcolor\": \"white\", \"startlinecolor\": \"#2a3f5f\"}, \"baxis\": {\"endlinecolor\": \"#2a3f5f\", \"gridcolor\": \"white\", \"linecolor\": \"white\", \"minorgridcolor\": \"white\", \"startlinecolor\": \"#2a3f5f\"}, \"type\": \"carpet\"}], \"choropleth\": [{\"colorbar\": {\"outlinewidth\": 0, \"ticks\": \"\"}, \"type\": \"choropleth\"}], \"contour\": [{\"colorbar\": {\"outlinewidth\": 0, \"ticks\": \"\"}, \"colorscale\": [[0.0, \"#0d0887\"], [0.1111111111111111, \"#46039f\"], [0.2222222222222222, \"#7201a8\"], [0.3333333333333333, \"#9c179e\"], [0.4444444444444444, \"#bd3786\"], [0.5555555555555556, \"#d8576b\"], [0.6666666666666666, \"#ed7953\"], [0.7777777777777778, \"#fb9f3a\"], [0.8888888888888888, \"#fdca26\"], [1.0, \"#f0f921\"]], \"type\": \"contour\"}], \"contourcarpet\": [{\"colorbar\": {\"outlinewidth\": 0, \"ticks\": \"\"}, \"type\": \"contourcarpet\"}], \"heatmap\": [{\"colorbar\": {\"outlinewidth\": 0, \"ticks\": \"\"}, \"colorscale\": [[0.0, \"#0d0887\"], [0.1111111111111111, \"#46039f\"], [0.2222222222222222, \"#7201a8\"], [0.3333333333333333, \"#9c179e\"], [0.4444444444444444, \"#bd3786\"], [0.5555555555555556, \"#d8576b\"], [0.6666666666666666, \"#ed7953\"], [0.7777777777777778, \"#fb9f3a\"], [0.8888888888888888, \"#fdca26\"], [1.0, \"#f0f921\"]], \"type\": \"heatmap\"}], \"heatmapgl\": [{\"colorbar\": {\"outlinewidth\": 0, \"ticks\": \"\"}, \"colorscale\": [[0.0, \"#0d0887\"], [0.1111111111111111, \"#46039f\"], [0.2222222222222222, \"#7201a8\"], [0.3333333333333333, \"#9c179e\"], [0.4444444444444444, \"#bd3786\"], [0.5555555555555556, \"#d8576b\"], [0.6666666666666666, \"#ed7953\"], [0.7777777777777778, \"#fb9f3a\"], [0.8888888888888888, \"#fdca26\"], [1.0, \"#f0f921\"]], \"type\": \"heatmapgl\"}], \"histogram\": [{\"marker\": {\"colorbar\": {\"outlinewidth\": 0, \"ticks\": \"\"}}, \"type\": \"histogram\"}], \"histogram2d\": [{\"colorbar\": {\"outlinewidth\": 0, \"ticks\": \"\"}, \"colorscale\": [[0.0, \"#0d0887\"], [0.1111111111111111, \"#46039f\"], [0.2222222222222222, \"#7201a8\"], [0.3333333333333333, \"#9c179e\"], [0.4444444444444444, \"#bd3786\"], [0.5555555555555556, \"#d8576b\"], [0.6666666666666666, \"#ed7953\"], [0.7777777777777778, \"#fb9f3a\"], [0.8888888888888888, \"#fdca26\"], [1.0, \"#f0f921\"]], \"type\": \"histogram2d\"}], \"histogram2dcontour\": [{\"colorbar\": {\"outlinewidth\": 0, \"ticks\": \"\"}, \"colorscale\": [[0.0, \"#0d0887\"], [0.1111111111111111, \"#46039f\"], [0.2222222222222222, \"#7201a8\"], [0.3333333333333333, \"#9c179e\"], [0.4444444444444444, \"#bd3786\"], [0.5555555555555556, \"#d8576b\"], [0.6666666666666666, \"#ed7953\"], [0.7777777777777778, \"#fb9f3a\"], [0.8888888888888888, \"#fdca26\"], [1.0, \"#f0f921\"]], \"type\": \"histogram2dcontour\"}], \"mesh3d\": [{\"colorbar\": {\"outlinewidth\": 0, \"ticks\": \"\"}, \"type\": \"mesh3d\"}], \"parcoords\": [{\"line\": {\"colorbar\": {\"outlinewidth\": 0, \"ticks\": \"\"}}, \"type\": \"parcoords\"}], \"pie\": [{\"automargin\": true, \"type\": \"pie\"}], \"scatter\": [{\"marker\": {\"colorbar\": {\"outlinewidth\": 0, \"ticks\": \"\"}}, \"type\": \"scatter\"}], \"scatter3d\": [{\"line\": {\"colorbar\": {\"outlinewidth\": 0, \"ticks\": \"\"}}, \"marker\": {\"colorbar\": {\"outlinewidth\": 0, \"ticks\": \"\"}}, \"type\": \"scatter3d\"}], \"scattercarpet\": [{\"marker\": {\"colorbar\": {\"outlinewidth\": 0, \"ticks\": \"\"}}, \"type\": \"scattercarpet\"}], \"scattergeo\": [{\"marker\": {\"colorbar\": {\"outlinewidth\": 0, \"ticks\": \"\"}}, \"type\": \"scattergeo\"}], \"scattergl\": [{\"marker\": {\"colorbar\": {\"outlinewidth\": 0, \"ticks\": \"\"}}, \"type\": \"scattergl\"}], \"scattermapbox\": [{\"marker\": {\"colorbar\": {\"outlinewidth\": 0, \"ticks\": \"\"}}, \"type\": \"scattermapbox\"}], \"scatterpolar\": [{\"marker\": {\"colorbar\": {\"outlinewidth\": 0, \"ticks\": \"\"}}, \"type\": \"scatterpolar\"}], \"scatterpolargl\": [{\"marker\": {\"colorbar\": {\"outlinewidth\": 0, \"ticks\": \"\"}}, \"type\": \"scatterpolargl\"}], \"scatterternary\": [{\"marker\": {\"colorbar\": {\"outlinewidth\": 0, \"ticks\": \"\"}}, \"type\": \"scatterternary\"}], \"surface\": [{\"colorbar\": {\"outlinewidth\": 0, \"ticks\": \"\"}, \"colorscale\": [[0.0, \"#0d0887\"], [0.1111111111111111, \"#46039f\"], [0.2222222222222222, \"#7201a8\"], [0.3333333333333333, \"#9c179e\"], [0.4444444444444444, \"#bd3786\"], [0.5555555555555556, \"#d8576b\"], [0.6666666666666666, \"#ed7953\"], [0.7777777777777778, \"#fb9f3a\"], [0.8888888888888888, \"#fdca26\"], [1.0, \"#f0f921\"]], \"type\": \"surface\"}], \"table\": [{\"cells\": {\"fill\": {\"color\": \"#EBF0F8\"}, \"line\": {\"color\": \"white\"}}, \"header\": {\"fill\": {\"color\": \"#C8D4E3\"}, \"line\": {\"color\": \"white\"}}, \"type\": \"table\"}]}, \"layout\": {\"annotationdefaults\": {\"arrowcolor\": \"#2a3f5f\", \"arrowhead\": 0, \"arrowwidth\": 1}, \"coloraxis\": {\"colorbar\": {\"outlinewidth\": 0, \"ticks\": \"\"}}, \"colorscale\": {\"diverging\": [[0, \"#8e0152\"], [0.1, \"#c51b7d\"], [0.2, \"#de77ae\"], [0.3, \"#f1b6da\"], [0.4, \"#fde0ef\"], [0.5, \"#f7f7f7\"], [0.6, \"#e6f5d0\"], [0.7, \"#b8e186\"], [0.8, \"#7fbc41\"], [0.9, \"#4d9221\"], [1, \"#276419\"]], \"sequential\": [[0.0, \"#0d0887\"], [0.1111111111111111, \"#46039f\"], [0.2222222222222222, \"#7201a8\"], [0.3333333333333333, \"#9c179e\"], [0.4444444444444444, \"#bd3786\"], [0.5555555555555556, \"#d8576b\"], [0.6666666666666666, \"#ed7953\"], [0.7777777777777778, \"#fb9f3a\"], [0.8888888888888888, \"#fdca26\"], [1.0, \"#f0f921\"]], \"sequentialminus\": [[0.0, \"#0d0887\"], [0.1111111111111111, \"#46039f\"], [0.2222222222222222, \"#7201a8\"], [0.3333333333333333, \"#9c179e\"], [0.4444444444444444, \"#bd3786\"], [0.5555555555555556, \"#d8576b\"], [0.6666666666666666, \"#ed7953\"], [0.7777777777777778, \"#fb9f3a\"], [0.8888888888888888, \"#fdca26\"], [1.0, \"#f0f921\"]]}, \"colorway\": [\"#636efa\", \"#EF553B\", \"#00cc96\", \"#ab63fa\", \"#FFA15A\", \"#19d3f3\", \"#FF6692\", \"#B6E880\", \"#FF97FF\", \"#FECB52\"], \"font\": {\"color\": \"#2a3f5f\"}, \"geo\": {\"bgcolor\": \"white\", \"lakecolor\": \"white\", \"landcolor\": \"#E5ECF6\", \"showlakes\": true, \"showland\": true, \"subunitcolor\": \"white\"}, \"hoverlabel\": {\"align\": \"left\"}, \"hovermode\": \"closest\", \"mapbox\": {\"style\": \"light\"}, \"paper_bgcolor\": \"white\", \"plot_bgcolor\": \"#E5ECF6\", \"polar\": {\"angularaxis\": {\"gridcolor\": \"white\", \"linecolor\": \"white\", \"ticks\": \"\"}, \"bgcolor\": \"#E5ECF6\", \"radialaxis\": {\"gridcolor\": \"white\", \"linecolor\": \"white\", \"ticks\": \"\"}}, \"scene\": {\"xaxis\": {\"backgroundcolor\": \"#E5ECF6\", \"gridcolor\": \"white\", \"gridwidth\": 2, \"linecolor\": \"white\", \"showbackground\": true, \"ticks\": \"\", \"zerolinecolor\": \"white\"}, \"yaxis\": {\"backgroundcolor\": \"#E5ECF6\", \"gridcolor\": \"white\", \"gridwidth\": 2, \"linecolor\": \"white\", \"showbackground\": true, \"ticks\": \"\", \"zerolinecolor\": \"white\"}, \"zaxis\": {\"backgroundcolor\": \"#E5ECF6\", \"gridcolor\": \"white\", \"gridwidth\": 2, \"linecolor\": \"white\", \"showbackground\": true, \"ticks\": \"\", \"zerolinecolor\": \"white\"}}, \"shapedefaults\": {\"line\": {\"color\": \"#2a3f5f\"}}, \"ternary\": {\"aaxis\": {\"gridcolor\": \"white\", \"linecolor\": \"white\", \"ticks\": \"\"}, \"baxis\": {\"gridcolor\": \"white\", \"linecolor\": \"white\", \"ticks\": \"\"}, \"bgcolor\": \"#E5ECF6\", \"caxis\": {\"gridcolor\": \"white\", \"linecolor\": \"white\", \"ticks\": \"\"}}, \"title\": {\"x\": 0.05}, \"xaxis\": {\"automargin\": true, \"gridcolor\": \"white\", \"linecolor\": \"white\", \"ticks\": \"\", \"title\": {\"standoff\": 15}, \"zerolinecolor\": \"white\", \"zerolinewidth\": 2}, \"yaxis\": {\"automargin\": true, \"gridcolor\": \"white\", \"linecolor\": \"white\", \"ticks\": \"\", \"title\": {\"standoff\": 15}, \"zerolinecolor\": \"white\", \"zerolinewidth\": 2}}}, \"xaxis\": {\"anchor\": \"y\", \"domain\": [0.0, 1.0], \"title\": {\"text\": \"Player1\"}, \"type\": \"category\"}, \"yaxis\": {\"anchor\": \"x\", \"domain\": [0.0, 1.0], \"title\": {\"text\": \"Bid Amount ($)\"}}},\n",
       "                        {\"responsive\": true}\n",
       "                    ).then(function(){\n",
       "                            \n",
       "var gd = document.getElementById('5356895b-6095-416c-b070-e34226e3a02d');\n",
       "var x = new MutationObserver(function (mutations, observer) {{\n",
       "        var display = window.getComputedStyle(gd).display;\n",
       "        if (!display || display === 'none') {{\n",
       "            console.log([gd, 'removed!']);\n",
       "            Plotly.purge(gd);\n",
       "            observer.disconnect();\n",
       "        }}\n",
       "}});\n",
       "\n",
       "// Listen for the removal of the full notebook cells\n",
       "var notebookContainer = gd.closest('#notebook-container');\n",
       "if (notebookContainer) {{\n",
       "    x.observe(notebookContainer, {childList: true});\n",
       "}}\n",
       "\n",
       "// Listen for the clearing of the current output cell\n",
       "var outputEl = gd.closest('.output');\n",
       "if (outputEl) {{\n",
       "    x.observe(outputEl, {childList: true});\n",
       "}}\n",
       "\n",
       "                        })\n",
       "                };\n",
       "                });\n",
       "            </script>\n",
       "        </div>"
      ]
     },
     "metadata": {},
     "output_type": "display_data"
    }
   ],
   "source": [
    "fig = px.bar(df_draft_f, x=\"Player1\", y='Bid Amount ($)', color='Position',\n",
    "             height=400)\n",
    "\n",
    "fig.update_layout(xaxis=dict(type='category'))"
   ]
  },
  {
   "cell_type": "code",
   "execution_count": 224,
   "metadata": {},
   "outputs": [
    {
     "data": {
      "text/plain": [
       "[Player(Derrick Henry, points:9.2, projected:16.58),\n",
       " Player(DK Metcalf, points:14.0, projected:13.8),\n",
       " Player(Mark Andrews, points:3.5, projected:10.18),\n",
       " Player(David Montgomery, points:18.3, projected:13.5),\n",
       " Player(Lamar Jackson, points:18.0, projected:22.14),\n",
       " Player(DeVonta Smith, points:16.1, projected:9.89),\n",
       " Player(DJ Chark Jr., points:16.1, projected:9.95),\n",
       " Player(Leonard Fournette, points:8.4, projected:8.9),\n",
       " Player(Michael Pittman Jr., points:4.4, projected:9.15),\n",
       " Player(Jaylen Waddle, points:14.1, projected:8.77),\n",
       " Player(Matt Gay, points:12.0, projected:8.51),\n",
       " Player(Vikings D/ST, points:4.0, projected:6.93),\n",
       " Player(Latavius Murray, points:8.8, projected:6.2)]"
      ]
     },
     "execution_count": 224,
     "metadata": {},
     "output_type": "execute_result"
    }
   ],
   "source": [
    "league.box_scores(1)[-1].home_lineup"
   ]
  },
  {
   "cell_type": "code",
   "execution_count": 207,
   "metadata": {},
   "outputs": [
    {
     "data": {
      "text/plain": [
       "[Player(Jarvis Landry, points:0, projected:10.58),\n",
       " Player(Daniel Carlson, points:0, projected:8.04),\n",
       " Player(Ravens D/ST, points:0, projected:5.69),\n",
       " Player(Calvin Ridley, points:0, projected:0.0),\n",
       " Player(Marvin Jones Jr., points:0, projected:7.59),\n",
       " Player(Tyler Boyd, points:0, projected:7.9)]"
      ]
     },
     "execution_count": 207,
     "metadata": {},
     "output_type": "execute_result"
    }
   ],
   "source": [
    "league.free_agents(size=6)"
   ]
  },
  {
   "cell_type": "code",
   "execution_count": null,
   "metadata": {},
   "outputs": [],
   "source": [
    "league.current_week"
   ]
  },
  {
   "cell_type": "code",
   "execution_count": 175,
   "metadata": {},
   "outputs": [
    {
     "data": {
      "text/html": [
       "<div>\n",
       "<style scoped>\n",
       "    .dataframe tbody tr th:only-of-type {\n",
       "        vertical-align: middle;\n",
       "    }\n",
       "\n",
       "    .dataframe tbody tr th {\n",
       "        vertical-align: top;\n",
       "    }\n",
       "\n",
       "    .dataframe thead th {\n",
       "        text-align: right;\n",
       "    }\n",
       "</style>\n",
       "<table border=\"1\" class=\"dataframe\">\n",
       "  <thead>\n",
       "    <tr style=\"text-align: right;\">\n",
       "      <th></th>\n",
       "      <th>Date</th>\n",
       "      <th>Player</th>\n",
       "      <th>Team name</th>\n",
       "      <th>Action</th>\n",
       "      <th>Bid Amount ($)</th>\n",
       "    </tr>\n",
       "  </thead>\n",
       "  <tbody>\n",
       "  </tbody>\n",
       "</table>\n",
       "</div>"
      ],
      "text/plain": [
       "Empty DataFrame\n",
       "Columns: [Date, Player, Team name, Action, Bid Amount ($)]\n",
       "Index: []"
      ]
     },
     "execution_count": 175,
     "metadata": {},
     "output_type": "execute_result"
    }
   ],
   "source": [
    "df[df['Action']=='WAIVER ADDED']"
   ]
  },
  {
   "cell_type": "code",
   "execution_count": 53,
   "metadata": {},
   "outputs": [
    {
     "data": {
      "text/plain": [
       "Team(Ridley me This)"
      ]
     },
     "execution_count": 53,
     "metadata": {},
     "output_type": "execute_result"
    }
   ],
   "source": [
    "team1"
   ]
  },
  {
   "cell_type": "code",
   "execution_count": 5,
   "metadata": {},
   "outputs": [
    {
     "data": {
      "text/plain": [
       "[(Team(Dick Cheese), 'DROPPED', Player(Hunter Henry), 0),\n",
       " (Team(Dick Cheese), 'WAIVER ADDED', Player(Jamaal Williams), 4)]"
      ]
     },
     "execution_count": 5,
     "metadata": {},
     "output_type": "execute_result"
    }
   ],
   "source": [
    "activity_ls[20].actions"
   ]
  },
  {
   "cell_type": "code",
   "execution_count": null,
   "metadata": {},
   "outputs": [],
   "source": [
    "activity_ls[0].date"
   ]
  },
  {
   "cell_type": "code",
   "execution_count": null,
   "metadata": {},
   "outputs": [],
   "source": [
    "activity_ls[29].date"
   ]
  },
  {
   "cell_type": "code",
   "execution_count": null,
   "metadata": {},
   "outputs": [],
   "source": [
    "activity[1].date"
   ]
  },
  {
   "cell_type": "code",
   "execution_count": null,
   "metadata": {},
   "outputs": [],
   "source": [
    "activity_ls[20].actions[0]"
   ]
  },
  {
   "cell_type": "code",
   "execution_count": null,
   "metadata": {},
   "outputs": [],
   "source": [
    "activity[0].actions"
   ]
  },
  {
   "cell_type": "code",
   "execution_count": null,
   "metadata": {},
   "outputs": [],
   "source": [
    "type(league.box_scores()[0])"
   ]
  },
  {
   "cell_type": "code",
   "execution_count": null,
   "metadata": {},
   "outputs": [],
   "source": [
    "activity = league.recent_activity(100)"
   ]
  },
  {
   "cell_type": "code",
   "execution_count": null,
   "metadata": {},
   "outputs": [],
   "source": [
    "c=league.load_roster_week('1')"
   ]
  },
  {
   "cell_type": "code",
   "execution_count": null,
   "metadata": {},
   "outputs": [],
   "source": [
    "league.scoreboard()[0]"
   ]
  },
  {
   "cell_type": "code",
   "execution_count": null,
   "metadata": {},
   "outputs": [],
   "source": [
    "league.espn_request.get_pro_players()[0]"
   ]
  },
  {
   "cell_type": "code",
   "execution_count": null,
   "metadata": {},
   "outputs": [],
   "source": [
    "a = league.recent_activity()"
   ]
  },
  {
   "cell_type": "code",
   "execution_count": null,
   "metadata": {},
   "outputs": [],
   "source": [
    "league.standings()"
   ]
  },
  {
   "cell_type": "code",
   "execution_count": 196,
   "metadata": {},
   "outputs": [],
   "source": [
    "team = league.teams[0]\n",
    "player = team.roster[3]"
   ]
  },
  {
   "cell_type": "code",
   "execution_count": null,
   "metadata": {},
   "outputs": [],
   "source": []
  },
  {
   "cell_type": "code",
   "execution_count": 197,
   "metadata": {},
   "outputs": [
    {
     "data": {
      "text/plain": [
       "'Josh Allen'"
      ]
     },
     "execution_count": 197,
     "metadata": {},
     "output_type": "execute_result"
    }
   ],
   "source": [
    "player.name"
   ]
  },
  {
   "cell_type": "code",
   "execution_count": 198,
   "metadata": {},
   "outputs": [
    {
     "data": {
      "text/plain": [
       "{'points': 269.8,\n",
       " 'breakdown': {'0': 440.0,\n",
       "  '1': 289.0,\n",
       "  '2': 151.0,\n",
       "  'passingYards': 3216.0,\n",
       "  'passingTouchdowns': 26.0,\n",
       "  '5': 638.0,\n",
       "  '6': 315.0,\n",
       "  '7': 155.0,\n",
       "  '8': 122.0,\n",
       "  '9': 59.0,\n",
       "  '10': 26.0,\n",
       "  '11': 55.0,\n",
       "  '12': 25.0,\n",
       "  '13': 27.0,\n",
       "  '14': 11.0,\n",
       "  '15': 1.0,\n",
       "  '16': 1.0,\n",
       "  '17': 4.0,\n",
       "  'passingInterceptions': 10.0,\n",
       "  '21': 0.65681818,\n",
       "  '22': 268.0,\n",
       "  'rushingAttempts': 75.0,\n",
       "  'rushingYards': 422.0,\n",
       "  'rushingTouchdowns': 3.0,\n",
       "  'rushing2PtConversions': 1.0,\n",
       "  '27': 79.0,\n",
       "  '28': 36.0,\n",
       "  '29': 15.0,\n",
       "  '30': 12.0,\n",
       "  '31': 3.0,\n",
       "  '33': 10.0,\n",
       "  '34': 1.0,\n",
       "  '39': 5.62666667,\n",
       "  '40': 35.16666667,\n",
       "  'receiving2PtConversions': 1.0,\n",
       "  '64': 19.0,\n",
       "  '65': 2.0,\n",
       "  '66': 5.0,\n",
       "  '68': 7.0,\n",
       "  '69': 1.0,\n",
       "  '70': 2.0,\n",
       "  'lostFumbles': 3.0,\n",
       "  '73': 13.0,\n",
       "  '108': 2.0,\n",
       "  '109': 2.0,\n",
       "  'TeamWin': 7.0,\n",
       "  '156': 5.0,\n",
       "  '158': 178.0,\n",
       "  '175': 13.0,\n",
       "  '176': 6.0,\n",
       "  '177': 5.0,\n",
       "  '178': 1.0,\n",
       "  '179': 3.0,\n",
       "  '210': 12.0},\n",
       " 'projected_points': 378.83,\n",
       " 'projected_breakdown': {'0': 610.5532864,\n",
       "  '1': 396.9067624,\n",
       "  '2': 213.646524,\n",
       "  'passingYards': 4547.583678,\n",
       "  'passingTouchdowns': 32.16268667,\n",
       "  '5': 909.0,\n",
       "  '6': 454.0,\n",
       "  '7': 227.0,\n",
       "  '8': 181.0,\n",
       "  '9': 90.0,\n",
       "  '10': 45.0,\n",
       "  '11': 79.0,\n",
       "  '12': 39.0,\n",
       "  '15': 4.060784497,\n",
       "  '16': 2.653722669,\n",
       "  '17': 4.960843723,\n",
       "  '18': 0.670079913,\n",
       "  'passing2PtConversions': 1.345656351,\n",
       "  'passingInterceptions': 11.81215932,\n",
       "  '21': 0.650077186,\n",
       "  '22': 283.1828664,\n",
       "  'rushingAttempts': 102.9657754,\n",
       "  'rushingYards': 527.7716854,\n",
       "  'rushingTouchdowns': 7.461669437,\n",
       "  'rushing2PtConversions': 0.275973143,\n",
       "  '27': 105.0,\n",
       "  '28': 52.0,\n",
       "  '29': 26.0,\n",
       "  '30': 21.0,\n",
       "  '31': 10.0,\n",
       "  '33': 20.0,\n",
       "  '34': 10.0,\n",
       "  '35': 0.199423824,\n",
       "  '36': 0.139596677,\n",
       "  '37': 0.718102693,\n",
       "  '38': 0.02450609,\n",
       "  '39': 5.125700099,\n",
       "  '40': 32.86490348,\n",
       "  '62': 1.621629495,\n",
       "  '63': 0.048462401,\n",
       "  '64': 38.48705772,\n",
       "  '65': 9.506104193,\n",
       "  '66': 1.508077885,\n",
       "  '68': 11.01418208,\n",
       "  '69': 4.562930012,\n",
       "  '70': 0.693715827,\n",
       "  'lostFumbles': 5.25664584,\n",
       "  '73': 17.06880516,\n",
       "  '210': 16.05882353}}"
      ]
     },
     "execution_count": 198,
     "metadata": {},
     "output_type": "execute_result"
    }
   ],
   "source": [
    "player.stats[0]"
   ]
  },
  {
   "cell_type": "code",
   "execution_count": null,
   "metadata": {},
   "outputs": [],
   "source": [
    "player.acquisitionType"
   ]
  },
  {
   "cell_type": "code",
   "execution_count": null,
   "metadata": {},
   "outputs": [],
   "source": [
    "a.actions[0][3]"
   ]
  },
  {
   "cell_type": "code",
   "execution_count": null,
   "metadata": {},
   "outputs": [],
   "source": [
    "league.box_scores()[1].home_lineup[1]"
   ]
  },
  {
   "cell_type": "code",
   "execution_count": null,
   "metadata": {},
   "outputs": [],
   "source": [
    "league.teams[0]\n",
    "# league.teams[4].roster[1].acquisitionType\n",
    "\n",
    "# league.free_agents(size=5,position='QB')[0]\n",
    "\n",
    "# league.power_rankings(week=14)"
   ]
  },
  {
   "cell_type": "code",
   "execution_count": null,
   "metadata": {},
   "outputs": [],
   "source": [
    "league.get_team_data"
   ]
  },
  {
   "cell_type": "code",
   "execution_count": null,
   "metadata": {},
   "outputs": [],
   "source": [
    "activity = league.recent_activity() # returns List[Activity]\n"
   ]
  },
  {
   "cell_type": "code",
   "execution_count": null,
   "metadata": {},
   "outputs": [],
   "source": [
    "activity[0].actions[1][2]"
   ]
  },
  {
   "cell_type": "code",
   "execution_count": null,
   "metadata": {},
   "outputs": [],
   "source": [
    "league.teams[4].roster[6].stats"
   ]
  },
  {
   "cell_type": "code",
   "execution_count": null,
   "metadata": {},
   "outputs": [],
   "source": [
    "league2 = League(league_id=league_id, year=2019, espn_s2=s2, swid=SWID)\n",
    "league2.power_rankings(week=13)"
   ]
  },
  {
   "cell_type": "code",
   "execution_count": null,
   "metadata": {},
   "outputs": [],
   "source": [
    "league2.power_rankings(week=12)"
   ]
  },
  {
   "cell_type": "code",
   "execution_count": null,
   "metadata": {},
   "outputs": [],
   "source": [
    "league.box_scores(13)[-1].home_lineup[0].projected_points\n",
    "\n",
    "activity = league.recent_activity() # returns List[Activity]\n",
    "\n",
    "activity[21].actions[0]\n",
    "\n",
    "league.teams[4].wins\n",
    "\n",
    "league2 = League(league_id=league_id, year=2015, espn_s2=s2, swid=SWID)\n",
    "\n",
    "league2.teams[4].roster\n",
    "\n",
    "league.draft[0].bid_amount\n",
    "\n",
    "league2.draft[0]\n",
    "\n",
    "# activity"
   ]
  },
  {
   "cell_type": "code",
   "execution_count": null,
   "metadata": {},
   "outputs": [],
   "source": [
    "a=league2.draft[0].playerName\n",
    "print(a)"
   ]
  },
  {
   "cell_type": "code",
   "execution_count": null,
   "metadata": {},
   "outputs": [],
   "source": [
    "league2.draft[0].team."
   ]
  },
  {
   "cell_type": "code",
   "execution_count": null,
   "metadata": {},
   "outputs": [],
   "source": []
  },
  {
   "cell_type": "code",
   "execution_count": null,
   "metadata": {},
   "outputs": [],
   "source": [
    "dir draft"
   ]
  },
  {
   "cell_type": "code",
   "execution_count": null,
   "metadata": {},
   "outputs": [],
   "source": [
    "b"
   ]
  },
  {
   "cell_type": "code",
   "execution_count": null,
   "metadata": {},
   "outputs": [],
   "source": [
    "a"
   ]
  },
  {
   "cell_type": "code",
   "execution_count": null,
   "metadata": {},
   "outputs": [],
   "source": [
    "type(a)"
   ]
  },
  {
   "cell_type": "code",
   "execution_count": null,
   "metadata": {},
   "outputs": [],
   "source": [
    "league2.teams[4].standing"
   ]
  },
  {
   "cell_type": "code",
   "execution_count": null,
   "metadata": {},
   "outputs": [],
   "source": [
    "league2.teams"
   ]
  },
  {
   "cell_type": "code",
   "execution_count": null,
   "metadata": {},
   "outputs": [],
   "source": []
  },
  {
   "cell_type": "code",
   "execution_count": null,
   "metadata": {},
   "outputs": [],
   "source": [
    "range(2013,2020)"
   ]
  },
  {
   "cell_type": "code",
   "execution_count": null,
   "metadata": {},
   "outputs": [],
   "source": [
    "league2 = League(league_id=league_id, year=2020, espn_s2=s2, swid=SWID)"
   ]
  },
  {
   "cell_type": "code",
   "execution_count": null,
   "metadata": {},
   "outputs": [],
   "source": [
    "league2.teams\n"
   ]
  },
  {
   "cell_type": "code",
   "execution_count": null,
   "metadata": {},
   "outputs": [],
   "source": [
    "for i in league2.teams:\n",
    "    print(i)\n",
    "    print(i.standing)"
   ]
  },
  {
   "cell_type": "code",
   "execution_count": null,
   "metadata": {},
   "outputs": [],
   "source": [
    "league2.teams[4].standing"
   ]
  },
  {
   "cell_type": "code",
   "execution_count": null,
   "metadata": {},
   "outputs": [],
   "source": [
    "league2.teams[0].standing"
   ]
  },
  {
   "cell_type": "code",
   "execution_count": null,
   "metadata": {},
   "outputs": [],
   "source": [
    "years_ls = [int(i) for i in list(np.linspace(2014,2020,num=7))]\n",
    "\n",
    "for i in years_ls:\n",
    "    league2 = League(league_id=league_id, year=i, espn_s2=s2, swid=SWID)\n",
    "    wins = league2.teams[4].standing\n",
    "    print(league2.teams[4])\n",
    "    print(wins)\n",
    "    \n",
    "    "
   ]
  },
  {
   "cell_type": "code",
   "execution_count": 659,
   "metadata": {},
   "outputs": [
    {
     "name": "stdout",
     "output_type": "stream",
     "text": [
      "Team(No Percy)\n",
      "Team(Dr. Gronkenstein)\n",
      "Team(A-Aron is all you Snead)\n",
      "Team(Fumble .)\n",
      "Team(Mahomes Alone 2 Lost in Ru York)\n",
      "Team(Santa Rosa Guy Fieris)\n",
      "Team(2 Many Cooks 2 Many)\n"
     ]
    }
   ],
   "source": [
    "years_ls = [int(i) for i in list(np.linspace(2014,2020,num=7))]\n",
    "\n",
    "for i in years_ls:\n",
    "    league2 = League(league_id=league_id, year=i, espn_s2=s2, swid=SWID)\n",
    "    pts_against = league2.most_points_against()\n",
    "    print(pts_against)\n",
    "\n",
    "    \n",
    "    "
   ]
  },
  {
   "cell_type": "code",
   "execution_count": 658,
   "metadata": {},
   "outputs": [
    {
     "name": "stdout",
     "output_type": "stream",
     "text": [
      "Team(So Bad)\n",
      "Team(Olsen Twins  Love Dez Nuts)\n",
      "Team(I never learned to Reed!)\n",
      "Team(Born again Mcaffery)\n",
      "Team(Fumble .)\n",
      "Team(Favre's Wranglers)\n",
      "Team(Let me be frankel)\n"
     ]
    }
   ],
   "source": [
    "years_ls = [int(i) for i in list(np.linspace(2014,2020,num=7))]\n",
    "\n",
    "for i in years_ls:\n",
    "    league2 = League(league_id=league_id, year=i, espn_s2=s2, swid=SWID)\n",
    "    pts_against = league2.least_scorer()\n",
    "    print(pts_against)\n",
    "\n",
    "    \n",
    "    "
   ]
  },
  {
   "cell_type": "code",
   "execution_count": 657,
   "metadata": {},
   "outputs": [
    {
     "name": "stdout",
     "output_type": "stream",
     "text": [
      "Team(So Bad)\n",
      "Team(Olsen Twins  Love Dez Nuts)\n",
      "Team(I never learned to Reed!)\n",
      "Team(Born again Mcaffery)\n",
      "Team(Fumble .)\n",
      "Team(Favre's Wranglers)\n",
      "Team(Let me be frankel)\n"
     ]
    }
   ],
   "source": [
    "# Lowest scoring teams\n",
    "years_ls = [int(i) for i in list(np.linspace(2014,2020,num=7))]\n",
    "\n",
    "for i in years_ls:\n",
    "    league2 = League(league_id=league_id, year=i, espn_s2=s2, swid=SWID)\n",
    "    pts_against = league2.least_scorer()\n",
    "    print(pts_against)"
   ]
  },
  {
   "cell_type": "code",
   "execution_count": 656,
   "metadata": {},
   "outputs": [
    {
     "name": "stdout",
     "output_type": "stream",
     "text": [
      "Team(Team Swenson)\n",
      "Team(Rawls to the Wall)\n",
      "Team(A-Aron is all you Snead)\n",
      "Team(Hangin with Mr. Hernandez)\n",
      "Team(Let me be frankel)\n",
      "Team(Favre's Wranglers)\n",
      "Team(Fumble .)\n"
     ]
    }
   ],
   "source": [
    "# Last place finisher\n",
    "\n",
    "years_ls = [int(i) for i in list(np.linspace(2014,2020,num=7))]\n",
    "\n",
    "for i in years_ls:\n",
    "    league2 = League(league_id=league_id, year=i, espn_s2=s2, swid=SWID)\n",
    "    pts_against = league2.standings()[-1]\n",
    "    print(pts_against)"
   ]
  },
  {
   "cell_type": "code",
   "execution_count": null,
   "metadata": {},
   "outputs": [],
   "source": [
    "league2."
   ]
  },
  {
   "cell_type": "code",
   "execution_count": null,
   "metadata": {},
   "outputs": [],
   "source": []
  }
 ],
 "metadata": {
  "kernelspec": {
   "display_name": "Python 3",
   "language": "python",
   "name": "python3"
  },
  "language_info": {
   "codemirror_mode": {
    "name": "ipython",
    "version": 3
   },
   "file_extension": ".py",
   "mimetype": "text/x-python",
   "name": "python",
   "nbconvert_exporter": "python",
   "pygments_lexer": "ipython3",
   "version": "3.7.4"
  }
 },
 "nbformat": 4,
 "nbformat_minor": 2
}
