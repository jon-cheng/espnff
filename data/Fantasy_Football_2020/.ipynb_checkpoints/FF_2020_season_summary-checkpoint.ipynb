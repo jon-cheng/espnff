{
 "cells": [
  {
   "cell_type": "code",
   "execution_count": 462,
   "metadata": {},
   "outputs": [],
   "source": [
    "import pandas as pd\n",
    "import numpy as np"
   ]
  },
  {
   "cell_type": "markdown",
   "metadata": {},
   "source": [
    "# Get real life FantasyPros Data"
   ]
  },
  {
   "cell_type": "code",
   "execution_count": 463,
   "metadata": {},
   "outputs": [],
   "source": [
    "pos_ls = ['QB','RB','WR','TE','DST','K']\n",
    "\n",
    "prefix = 'FantasyPros_Fantasy_Football_Statistics_' \n",
    "\n",
    "# filename = prefix + \n",
    "\n",
    "df_ls = []\n",
    "for i in pos_ls:\n",
    "    df = pd.read_csv(prefix + i + '.csv')\n",
    "    df.drop(df.columns.difference(['Rank','Player','FPTS']), 1, inplace=True)\n",
    "        \n",
    "    df['Positional Rank'] =  i + '-' + df['Rank'].astype(str)\n",
    "    \n",
    "    df_ls.append(df)\n",
    "\n",
    "df_agg = pd.concat(df_ls,axis=0)\n",
    "\n",
    "df_agg.sort_values(by=['FPTS'],axis=0,ascending=False,inplace=True)\n",
    "\n",
    "def get_player_name1(x):\n",
    "    y = x.split(' (')[0]\n",
    "    return y\n",
    "\n",
    "def get_team_name1(x):\n",
    "    y = x.split(' ')[-1]\n",
    "    y = y[1:-1]\n",
    "    return y\n",
    "\n",
    "df_agg['Player name'] = df_agg['Player'].apply(lambda x: get_player_name1(x) if pd.notnull(x) else x)\n",
    "\n",
    "df_agg['Team name'] = df_agg['Player'].apply(lambda x: get_team_name1(x) if pd.notnull(x) else x)\n",
    "\n",
    "df_agg.set_index('Player name',inplace=True)"
   ]
  },
  {
   "cell_type": "markdown",
   "metadata": {},
   "source": [
    "# Get Fantasy Draft Data"
   ]
  },
  {
   "cell_type": "code",
   "execution_count": 464,
   "metadata": {},
   "outputs": [],
   "source": [
    "def remove_xa(s):\n",
    "    s = s.replace(u'\\xa0', u' ')\n",
    "    return s"
   ]
  },
  {
   "cell_type": "code",
   "execution_count": 465,
   "metadata": {},
   "outputs": [],
   "source": [
    "def get_pos(x):\n",
    "    x = x.split(' ')[-1]\n",
    "    return x"
   ]
  },
  {
   "cell_type": "code",
   "execution_count": 466,
   "metadata": {},
   "outputs": [],
   "source": [
    "def get_player_name(s):\n",
    "    t = s.split(',')[0].split(' ')[:-1]\n",
    "    z = ' '.join(t)\n",
    "    return z"
   ]
  },
  {
   "cell_type": "code",
   "execution_count": 467,
   "metadata": {},
   "outputs": [],
   "source": [
    "FF_team_ls = ['Danica Gave Me A Higbee',\n",
    "             'Let Me Be Frankel',\n",
    "             'Just Joshin',\n",
    "              'Dak\\'s Butt Kickers',\n",
    "             'Ice City USA',\n",
    "             'Wolf Pussy',\n",
    "             'Cookin Russells',\n",
    "             'Tier 2 Never Felt So Good',\n",
    "             'Sweetless In Seattle',\n",
    "             'Favre\\'s Wranglers',\n",
    "             '2 Many Cooks 2 Many',\n",
    "             'Fumble .']\n",
    "\n",
    "file_draft_results = 'League_Draft_Results11.xlsx'\n",
    "\n",
    "df_draft_ls = []\n",
    "for i in FF_team_ls:\n",
    "    df = pd.read_excel(file_draft_results,sheet_name=i,header=None)\n",
    "    df.columns = ['Draft order','Name-Team-Pos','$']\n",
    "    df.insert(0,'Owner',i) # label with owner name\n",
    "    df_draft_ls.append(df)\n",
    "\n",
    "df_draft_agg = pd.concat(df_draft_ls,axis=0)\n",
    "\n",
    "# remove 'xa' from Player names\n",
    "df_draft_agg['Name-Team-Pos'] = df_draft_agg['Name-Team-Pos'].apply(lambda x: remove_xa(x))\n",
    "\n",
    "df_draft_agg.sort_values(by=['$'],inplace=True, ascending=False)\n",
    "\n",
    "df_draft_agg['Position'] = df_draft_agg['Name-Team-Pos'].apply(lambda x: get_pos(x))\n",
    "\n",
    "player = df_draft_agg['Name-Team-Pos'].apply(lambda x: get_player_name(x))\n",
    "\n",
    "df_draft_agg.insert(2,'Player name',player)\n",
    "\n",
    "df_draft_agg.set_index('Player name',inplace=True)"
   ]
  },
  {
   "cell_type": "code",
   "execution_count": 468,
   "metadata": {},
   "outputs": [
    {
     "data": {
      "text/html": [
       "<div>\n",
       "<style scoped>\n",
       "    .dataframe tbody tr th:only-of-type {\n",
       "        vertical-align: middle;\n",
       "    }\n",
       "\n",
       "    .dataframe tbody tr th {\n",
       "        vertical-align: top;\n",
       "    }\n",
       "\n",
       "    .dataframe thead th {\n",
       "        text-align: right;\n",
       "    }\n",
       "</style>\n",
       "<table border=\"1\" class=\"dataframe\">\n",
       "  <thead>\n",
       "    <tr style=\"text-align: right;\">\n",
       "      <th></th>\n",
       "      <th>Rank</th>\n",
       "      <th>Player</th>\n",
       "      <th>FPTS</th>\n",
       "      <th>Positional Rank</th>\n",
       "      <th>Team name</th>\n",
       "    </tr>\n",
       "    <tr>\n",
       "      <th>Player name</th>\n",
       "      <th></th>\n",
       "      <th></th>\n",
       "      <th></th>\n",
       "      <th></th>\n",
       "      <th></th>\n",
       "    </tr>\n",
       "  </thead>\n",
       "  <tbody>\n",
       "    <tr>\n",
       "      <td>Kyler Murray</td>\n",
       "      <td>1.0</td>\n",
       "      <td>Kyler Murray (ARI)</td>\n",
       "      <td>386.9</td>\n",
       "      <td>QB-1.0</td>\n",
       "      <td>ARI</td>\n",
       "    </tr>\n",
       "    <tr>\n",
       "      <td>Josh Allen</td>\n",
       "      <td>2.0</td>\n",
       "      <td>Josh Allen (BUF)</td>\n",
       "      <td>385.4</td>\n",
       "      <td>QB-2.0</td>\n",
       "      <td>BUF</td>\n",
       "    </tr>\n",
       "    <tr>\n",
       "      <td>Patrick Mahomes II</td>\n",
       "      <td>3.0</td>\n",
       "      <td>Patrick Mahomes II (KC)</td>\n",
       "      <td>380.3</td>\n",
       "      <td>QB-3.0</td>\n",
       "      <td>KC</td>\n",
       "    </tr>\n",
       "    <tr>\n",
       "      <td>Aaron Rodgers</td>\n",
       "      <td>4.0</td>\n",
       "      <td>Aaron Rodgers (GB)</td>\n",
       "      <td>361.6</td>\n",
       "      <td>QB-4.0</td>\n",
       "      <td>GB</td>\n",
       "    </tr>\n",
       "    <tr>\n",
       "      <td>Russell Wilson</td>\n",
       "      <td>5.0</td>\n",
       "      <td>Russell Wilson (SEA)</td>\n",
       "      <td>354.5</td>\n",
       "      <td>QB-5.0</td>\n",
       "      <td>SEA</td>\n",
       "    </tr>\n",
       "  </tbody>\n",
       "</table>\n",
       "</div>"
      ],
      "text/plain": [
       "                    Rank                   Player   FPTS Positional Rank  \\\n",
       "Player name                                                                \n",
       "Kyler Murray         1.0       Kyler Murray (ARI)  386.9          QB-1.0   \n",
       "Josh Allen           2.0         Josh Allen (BUF)  385.4          QB-2.0   \n",
       "Patrick Mahomes II   3.0  Patrick Mahomes II (KC)  380.3          QB-3.0   \n",
       "Aaron Rodgers        4.0       Aaron Rodgers (GB)  361.6          QB-4.0   \n",
       "Russell Wilson       5.0     Russell Wilson (SEA)  354.5          QB-5.0   \n",
       "\n",
       "                   Team name  \n",
       "Player name                   \n",
       "Kyler Murray             ARI  \n",
       "Josh Allen               BUF  \n",
       "Patrick Mahomes II        KC  \n",
       "Aaron Rodgers             GB  \n",
       "Russell Wilson           SEA  "
      ]
     },
     "execution_count": 468,
     "metadata": {},
     "output_type": "execute_result"
    }
   ],
   "source": [
    "df_agg.head()"
   ]
  },
  {
   "cell_type": "code",
   "execution_count": 469,
   "metadata": {},
   "outputs": [],
   "source": [
    "df_f = df_agg.join(df_draft_agg, how='inner')"
   ]
  },
  {
   "cell_type": "code",
   "execution_count": 470,
   "metadata": {},
   "outputs": [
    {
     "data": {
      "text/plain": [
       "(137, 10)"
      ]
     },
     "execution_count": 470,
     "metadata": {},
     "output_type": "execute_result"
    }
   ],
   "source": [
    "df_f.shape"
   ]
  },
  {
   "cell_type": "code",
   "execution_count": 472,
   "metadata": {},
   "outputs": [],
   "source": [
    "# df_f_outer = df_agg.join(df_draft_agg, how='outer')\n",
    "\n",
    "# df_f.index.tolist()\n",
    "\n",
    "# df_draft_agg.sort_index().index.tolist()"
   ]
  },
  {
   "cell_type": "code",
   "execution_count": 377,
   "metadata": {},
   "outputs": [],
   "source": [
    "df_f = df_f.sort_values(by='FPTS',ascending=False)\n",
    "\n",
    "# df_f.drop(['Rank','Player','Draft order'],axis=1,inplace=True)"
   ]
  },
  {
   "cell_type": "code",
   "execution_count": 389,
   "metadata": {},
   "outputs": [],
   "source": [
    "# df_f\n",
    "\n",
    "# df_draft_agg"
   ]
  },
  {
   "cell_type": "code",
   "execution_count": 478,
   "metadata": {},
   "outputs": [],
   "source": [
    "# Find difference (optional)\n",
    "a = df_f.index.tolist()\n",
    "\n",
    "b = df_draft_agg.index.tolist()\n",
    "\n",
    "len(a)\n",
    "\n",
    "len(b)\n",
    "\n",
    "diff_set = set(b) - set(a)"
   ]
  },
  {
   "cell_type": "code",
   "execution_count": 479,
   "metadata": {},
   "outputs": [
    {
     "data": {
      "text/plain": [
       "{'49ers D/ST',\n",
       " 'Bears D/ST',\n",
       " 'Bills D/ST',\n",
       " 'Broncos D/ST',\n",
       " 'Buccaneers D/ST',\n",
       " 'Chris Herndon',\n",
       " 'Colts D/ST',\n",
       " 'DJ Chark Jr.',\n",
       " 'DJ Moore',\n",
       " 'DK Metcalf',\n",
       " 'Darrell Henderson Jr.',\n",
       " 'Duke Johnson',\n",
       " 'Patrick Mahomes',\n",
       " 'Patriots D/ST',\n",
       " 'Ravens D/ST',\n",
       " 'Saints D/ST',\n",
       " 'Seahawks D/ST',\n",
       " 'Steelers D/ST',\n",
       " 'Vikings D/ST'}"
      ]
     },
     "execution_count": 479,
     "metadata": {},
     "output_type": "execute_result"
    }
   ],
   "source": [
    "diff_set"
   ]
  },
  {
   "cell_type": "code",
   "execution_count": 480,
   "metadata": {},
   "outputs": [],
   "source": [
    "ls = ['Herndon','Chark','Moore','Metcalf','Duke','Mahomes']\n",
    "\n",
    "ls_cond = '|'.join(ls)"
   ]
  },
  {
   "cell_type": "code",
   "execution_count": 481,
   "metadata": {},
   "outputs": [],
   "source": [
    "df_agg_addendum = df_agg[df_agg.index.str.contains(ls_cond, na=False)]"
   ]
  },
  {
   "cell_type": "code",
   "execution_count": 482,
   "metadata": {},
   "outputs": [
    {
     "data": {
      "text/html": [
       "<div>\n",
       "<style scoped>\n",
       "    .dataframe tbody tr th:only-of-type {\n",
       "        vertical-align: middle;\n",
       "    }\n",
       "\n",
       "    .dataframe tbody tr th {\n",
       "        vertical-align: top;\n",
       "    }\n",
       "\n",
       "    .dataframe thead th {\n",
       "        text-align: right;\n",
       "    }\n",
       "</style>\n",
       "<table border=\"1\" class=\"dataframe\">\n",
       "  <thead>\n",
       "    <tr style=\"text-align: right;\">\n",
       "      <th></th>\n",
       "      <th>Rank</th>\n",
       "      <th>Player</th>\n",
       "      <th>FPTS</th>\n",
       "      <th>Positional Rank</th>\n",
       "      <th>Team name</th>\n",
       "    </tr>\n",
       "    <tr>\n",
       "      <th>Player name</th>\n",
       "      <th></th>\n",
       "      <th></th>\n",
       "      <th></th>\n",
       "      <th></th>\n",
       "      <th></th>\n",
       "    </tr>\n",
       "  </thead>\n",
       "  <tbody>\n",
       "    <tr>\n",
       "      <td>Patrick Mahomes II</td>\n",
       "      <td>3.0</td>\n",
       "      <td>Patrick Mahomes II (KC)</td>\n",
       "      <td>380.3</td>\n",
       "      <td>QB-3.0</td>\n",
       "      <td>KC</td>\n",
       "    </tr>\n",
       "    <tr>\n",
       "      <td>D.K. Metcalf</td>\n",
       "      <td>5.0</td>\n",
       "      <td>D.K. Metcalf (SEA)</td>\n",
       "      <td>226.2</td>\n",
       "      <td>WR-5.0</td>\n",
       "      <td>SEA</td>\n",
       "    </tr>\n",
       "    <tr>\n",
       "      <td>D.J. Moore</td>\n",
       "      <td>22.0</td>\n",
       "      <td>D.J. Moore (CAR)</td>\n",
       "      <td>165.9</td>\n",
       "      <td>WR-22.0</td>\n",
       "      <td>CAR</td>\n",
       "    </tr>\n",
       "    <tr>\n",
       "      <td>D.J. Chark Jr.</td>\n",
       "      <td>40.0</td>\n",
       "      <td>D.J. Chark Jr. (JAC)</td>\n",
       "      <td>127.1</td>\n",
       "      <td>WR-40.0</td>\n",
       "      <td>JAC</td>\n",
       "    </tr>\n",
       "    <tr>\n",
       "      <td>David Moore</td>\n",
       "      <td>58.0</td>\n",
       "      <td>David Moore (SEA)</td>\n",
       "      <td>100.3</td>\n",
       "      <td>WR-58.0</td>\n",
       "      <td>SEA</td>\n",
       "    </tr>\n",
       "    <tr>\n",
       "      <td>Duke Johnson Jr.</td>\n",
       "      <td>56.0</td>\n",
       "      <td>Duke Johnson Jr. (HOU)</td>\n",
       "      <td>70.4</td>\n",
       "      <td>RB-56.0</td>\n",
       "      <td>HOU</td>\n",
       "    </tr>\n",
       "    <tr>\n",
       "      <td>Chris Herndon IV</td>\n",
       "      <td>43.0</td>\n",
       "      <td>Chris Herndon IV (NYJ)</td>\n",
       "      <td>42.4</td>\n",
       "      <td>TE-43.0</td>\n",
       "      <td>NYJ</td>\n",
       "    </tr>\n",
       "    <tr>\n",
       "      <td>Matt Moore</td>\n",
       "      <td>111.0</td>\n",
       "      <td>Matt Moore (KC)</td>\n",
       "      <td>0.0</td>\n",
       "      <td>QB-111.0</td>\n",
       "      <td>KC</td>\n",
       "    </tr>\n",
       "    <tr>\n",
       "      <td>J'Mon Moore</td>\n",
       "      <td>265.0</td>\n",
       "      <td>J'Mon Moore (HOU)</td>\n",
       "      <td>0.0</td>\n",
       "      <td>WR-265.0</td>\n",
       "      <td>HOU</td>\n",
       "    </tr>\n",
       "    <tr>\n",
       "      <td>Chris Moore</td>\n",
       "      <td>369.0</td>\n",
       "      <td>Chris Moore (BAL)</td>\n",
       "      <td>0.0</td>\n",
       "      <td>WR-369.0</td>\n",
       "      <td>BAL</td>\n",
       "    </tr>\n",
       "    <tr>\n",
       "      <td>Jaylon Moore</td>\n",
       "      <td>299.0</td>\n",
       "      <td>Jaylon Moore (BAL)</td>\n",
       "      <td>0.0</td>\n",
       "      <td>WR-299.0</td>\n",
       "      <td>BAL</td>\n",
       "    </tr>\n",
       "    <tr>\n",
       "      <td>Jason Moore</td>\n",
       "      <td>312.0</td>\n",
       "      <td>Jason Moore (LAC)</td>\n",
       "      <td>0.0</td>\n",
       "      <td>WR-312.0</td>\n",
       "      <td>LAC</td>\n",
       "    </tr>\n",
       "    <tr>\n",
       "      <td>Duke Williams</td>\n",
       "      <td>339.0</td>\n",
       "      <td>Duke Williams (BUF)</td>\n",
       "      <td>0.0</td>\n",
       "      <td>WR-339.0</td>\n",
       "      <td>BUF</td>\n",
       "    </tr>\n",
       "  </tbody>\n",
       "</table>\n",
       "</div>"
      ],
      "text/plain": [
       "                     Rank                   Player   FPTS Positional Rank  \\\n",
       "Player name                                                                 \n",
       "Patrick Mahomes II    3.0  Patrick Mahomes II (KC)  380.3          QB-3.0   \n",
       "D.K. Metcalf          5.0       D.K. Metcalf (SEA)  226.2          WR-5.0   \n",
       "D.J. Moore           22.0         D.J. Moore (CAR)  165.9         WR-22.0   \n",
       "D.J. Chark Jr.       40.0     D.J. Chark Jr. (JAC)  127.1         WR-40.0   \n",
       "David Moore          58.0        David Moore (SEA)  100.3         WR-58.0   \n",
       "Duke Johnson Jr.     56.0   Duke Johnson Jr. (HOU)   70.4         RB-56.0   \n",
       "Chris Herndon IV     43.0   Chris Herndon IV (NYJ)   42.4         TE-43.0   \n",
       "Matt Moore          111.0          Matt Moore (KC)    0.0        QB-111.0   \n",
       "J'Mon Moore         265.0        J'Mon Moore (HOU)    0.0        WR-265.0   \n",
       "Chris Moore         369.0        Chris Moore (BAL)    0.0        WR-369.0   \n",
       "Jaylon Moore        299.0       Jaylon Moore (BAL)    0.0        WR-299.0   \n",
       "Jason Moore         312.0        Jason Moore (LAC)    0.0        WR-312.0   \n",
       "Duke Williams       339.0      Duke Williams (BUF)    0.0        WR-339.0   \n",
       "\n",
       "                   Team name  \n",
       "Player name                   \n",
       "Patrick Mahomes II        KC  \n",
       "D.K. Metcalf             SEA  \n",
       "D.J. Moore               CAR  \n",
       "D.J. Chark Jr.           JAC  \n",
       "David Moore              SEA  \n",
       "Duke Johnson Jr.         HOU  \n",
       "Chris Herndon IV         NYJ  \n",
       "Matt Moore                KC  \n",
       "J'Mon Moore              HOU  \n",
       "Chris Moore              BAL  \n",
       "Jaylon Moore             BAL  \n",
       "Jason Moore              LAC  \n",
       "Duke Williams            BUF  "
      ]
     },
     "execution_count": 482,
     "metadata": {},
     "output_type": "execute_result"
    }
   ],
   "source": [
    "df_agg_addendum"
   ]
  },
  {
   "cell_type": "code",
   "execution_count": 483,
   "metadata": {},
   "outputs": [],
   "source": [
    "df_agg_addendum = df_agg_addendum.iloc[0:7,:]"
   ]
  },
  {
   "cell_type": "code",
   "execution_count": 484,
   "metadata": {},
   "outputs": [],
   "source": [
    "dict_names = {'Patrick Mahomes II': 'Patrick Mahomes', 'D.K. Metcalf':'DK Metcalf',\n",
    "             'D.J. Moore':'DJ Moore', 'D.J. Chark Jr.':'DJ Chark Jr.',\n",
    "             'Duke Johnson Jr.':'Duke Johnson', 'Chris Herndon IV':'Chris Herndon'}"
   ]
  },
  {
   "cell_type": "code",
   "execution_count": 485,
   "metadata": {},
   "outputs": [],
   "source": [
    "df_agg_addendum = df_agg_addendum.rename(dict_names)"
   ]
  },
  {
   "cell_type": "code",
   "execution_count": 486,
   "metadata": {},
   "outputs": [],
   "source": [
    "df_draft_agg_addendum = df_draft_agg[df_draft_agg.index.str.contains(ls_cond, na=False)]"
   ]
  },
  {
   "cell_type": "code",
   "execution_count": 487,
   "metadata": {},
   "outputs": [],
   "source": [
    "df_f_addendum_inner = df_agg_addendum.join(df_draft_agg_addendum, how='inner')"
   ]
  },
  {
   "cell_type": "code",
   "execution_count": 492,
   "metadata": {},
   "outputs": [],
   "source": [
    "df_f1 = pd.concat([df_f , df_f_addendum_inner],axis=0)"
   ]
  },
  {
   "cell_type": "code",
   "execution_count": 499,
   "metadata": {},
   "outputs": [],
   "source": [
    "df_f1.set_index('Player',inplace=True)"
   ]
  },
  {
   "cell_type": "code",
   "execution_count": 503,
   "metadata": {},
   "outputs": [],
   "source": [
    "df_f1.drop(['Rank','Team name','Name-Team-Pos'],axis=1,inplace=True)"
   ]
  },
  {
   "cell_type": "code",
   "execution_count": 505,
   "metadata": {},
   "outputs": [
    {
     "data": {
      "text/html": [
       "<div>\n",
       "<style scoped>\n",
       "    .dataframe tbody tr th:only-of-type {\n",
       "        vertical-align: middle;\n",
       "    }\n",
       "\n",
       "    .dataframe tbody tr th {\n",
       "        vertical-align: top;\n",
       "    }\n",
       "\n",
       "    .dataframe thead th {\n",
       "        text-align: right;\n",
       "    }\n",
       "</style>\n",
       "<table border=\"1\" class=\"dataframe\">\n",
       "  <thead>\n",
       "    <tr style=\"text-align: right;\">\n",
       "      <th></th>\n",
       "      <th>FPTS</th>\n",
       "      <th>Positional Rank</th>\n",
       "      <th>Owner</th>\n",
       "      <th>Draft order</th>\n",
       "      <th>$</th>\n",
       "      <th>Position</th>\n",
       "    </tr>\n",
       "    <tr>\n",
       "      <th>Player</th>\n",
       "      <th></th>\n",
       "      <th></th>\n",
       "      <th></th>\n",
       "      <th></th>\n",
       "      <th></th>\n",
       "      <th></th>\n",
       "    </tr>\n",
       "  </thead>\n",
       "  <tbody>\n",
       "    <tr>\n",
       "      <td>Christian McCaffrey (CAR)</td>\n",
       "      <td>81.8</td>\n",
       "      <td>RB-50.0</td>\n",
       "      <td>Fumble .</td>\n",
       "      <td>3</td>\n",
       "      <td>95</td>\n",
       "      <td>RB</td>\n",
       "    </tr>\n",
       "    <tr>\n",
       "      <td>Saquon Barkley (NYG)</td>\n",
       "      <td>12.4</td>\n",
       "      <td>RB-113.0</td>\n",
       "      <td>Let Me Be Frankel</td>\n",
       "      <td>11</td>\n",
       "      <td>80</td>\n",
       "      <td>RB</td>\n",
       "    </tr>\n",
       "    <tr>\n",
       "      <td>Dalvin Cook (MIN)</td>\n",
       "      <td>315.8</td>\n",
       "      <td>RB-2.0</td>\n",
       "      <td>2 Many Cooks 2 Many</td>\n",
       "      <td>7</td>\n",
       "      <td>79</td>\n",
       "      <td>RB</td>\n",
       "    </tr>\n",
       "    <tr>\n",
       "      <td>Ezekiel Elliott (DAL)</td>\n",
       "      <td>184.1</td>\n",
       "      <td>RB-10.0</td>\n",
       "      <td>Ice City USA</td>\n",
       "      <td>1</td>\n",
       "      <td>78</td>\n",
       "      <td>RB</td>\n",
       "    </tr>\n",
       "    <tr>\n",
       "      <td>Alvin Kamara (NO)</td>\n",
       "      <td>336.3</td>\n",
       "      <td>RB-1.0</td>\n",
       "      <td>2 Many Cooks 2 Many</td>\n",
       "      <td>9</td>\n",
       "      <td>72</td>\n",
       "      <td>RB</td>\n",
       "    </tr>\n",
       "  </tbody>\n",
       "</table>\n",
       "</div>"
      ],
      "text/plain": [
       "                            FPTS Positional Rank                Owner  \\\n",
       "Player                                                                  \n",
       "Christian McCaffrey (CAR)   81.8         RB-50.0             Fumble .   \n",
       "Saquon Barkley (NYG)        12.4        RB-113.0    Let Me Be Frankel   \n",
       "Dalvin Cook (MIN)          315.8          RB-2.0  2 Many Cooks 2 Many   \n",
       "Ezekiel Elliott (DAL)      184.1         RB-10.0         Ice City USA   \n",
       "Alvin Kamara (NO)          336.3          RB-1.0  2 Many Cooks 2 Many   \n",
       "\n",
       "                           Draft order   $ Position  \n",
       "Player                                               \n",
       "Christian McCaffrey (CAR)            3  95       RB  \n",
       "Saquon Barkley (NYG)                11  80       RB  \n",
       "Dalvin Cook (MIN)                    7  79       RB  \n",
       "Ezekiel Elliott (DAL)                1  78       RB  \n",
       "Alvin Kamara (NO)                    9  72       RB  "
      ]
     },
     "execution_count": 505,
     "metadata": {},
     "output_type": "execute_result"
    }
   ],
   "source": [
    "df_f1 = df_f1.sort_values(by='$',ascending=False)\n",
    "df_f1.head()"
   ]
  },
  {
   "cell_type": "code",
   "execution_count": 497,
   "metadata": {},
   "outputs": [
    {
     "data": {
      "image/png": "[encoded data removed]",
      "text/plain": [
       "<Figure size 432x288 with 1 Axes>"
      ]
     },
     "metadata": {
      "needs_background": "light"
     },
     "output_type": "display_data"
    }
   ],
   "source": [
    "# Alternative analysis: FLEX only\n",
    "# Filter only for RB, WR, TE\n",
    "\n",
    "df_flex = df_f1[df_f1['Position'].isin(['RB','WR','TE'])]\n",
    "\n",
    "df_flex = df_flex.sort_values(by='FPTS',ascending=False)\n",
    "\n",
    "df_flex.to_csv('flex_values_2020_draft.csv')\n",
    "\n",
    "df_flex['Value'] = df_flex['FPTS']/df_flex['$']\n",
    "\n",
    "df_flex.sort_values(by=['Value'],ascending=False).to_csv('flex_values_2020_draft_min.csv')\n",
    "\n",
    "df_flex['FPTS'].hist(bins=20)\n",
    "\n",
    "q = df_flex['FPTS'].quantile(0.25)\n",
    "\n",
    "df_flex_FPTS_min = df_flex[df_flex['FPTS']>q]\n",
    "\n",
    "# df_flex_FPTS_min.sort_values(by=['Value'],ascending=False).head(25)"
   ]
  },
  {
   "cell_type": "code",
   "execution_count": null,
   "metadata": {},
   "outputs": [],
   "source": [
    "df_f"
   ]
  }
 ],
 "metadata": {
  "kernelspec": {
   "display_name": "Python 3",
   "language": "python",
   "name": "python3"
  },
  "language_info": {
   "codemirror_mode": {
    "name": "ipython",
    "version": 3
   },
   "file_extension": ".py",
   "mimetype": "text/x-python",
   "name": "python",
   "nbconvert_exporter": "python",
   "pygments_lexer": "ipython3",
   "version": "3.7.4"
  }
 },
 "nbformat": 4,
 "nbformat_minor": 2
}
