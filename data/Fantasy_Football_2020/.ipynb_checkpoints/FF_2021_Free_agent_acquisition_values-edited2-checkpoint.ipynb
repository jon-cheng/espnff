{
 "cells": [
  {
   "cell_type": "code",
   "execution_count": 1,
   "metadata": {},
   "outputs": [],
   "source": [
    "import json\n",
    "import numpy as np\n",
    "import pandas as pd\n",
    "import matplotlib.pyplot as plt\n",
    "import seaborn as sns\n",
    "import plotly.express as px\n",
    "import plotly.io as pio\n",
    "import plotly.graph_objects as go\n",
    "import altair as alt\n",
    "\n",
    "# import datetime\n",
    "from datetime import date\n",
    "from datetime import datetime\n",
    "\n",
    "import requests\n",
    "import espn_api\n",
    "from espn_api.football import League\n",
    "from espn_api.football import activity\n",
    "\n",
    "import sportsipy.nfl\n",
    "from sportsipy.nfl.boxscore import Boxscore\n",
    "from sportsipy.nfl.schedule import Schedule\n",
    "from sportsipy.nfl.teams import Teams\n",
    "import nfl_data_py as nfl\n",
    "\n",
    "from sportsipy.nfl.teams import Teams"
   ]
  },
  {
   "cell_type": "code",
   "execution_count": 2,
   "metadata": {},
   "outputs": [],
   "source": [
    "year_of_interest = 2021\n",
    "\n",
    "df_games = nfl.import_schedules([year_of_interest])\n",
    "\n",
    "teams = Teams()\n",
    "\n",
    "df_team_names = pd.DataFrame(columns = ['Pro Team Name' , 'Abbrev'])\n",
    "abbrev_ls = []\n",
    "team_name_ls = []\n",
    "\n",
    "for team in teams:\n",
    "    abbrev_ls.append(team.abbreviation)\n",
    "    team_name_ls.append(team.name)\n",
    "    \n",
    "df_team_names['Pro Team Name'] = team_name_ls\n",
    "df_team_names['Abbrev'] = abbrev_ls\n",
    "\n",
    "df_team_names.sort_values('Pro Team Name',ascending=True,inplace=True)\n",
    "\n",
    "df_team_names.to_csv('abbrev_names.csv')\n",
    "\n",
    "df_team_name_convert = pd.read_csv('team_abbrev_conversion.csv').set_index('Abbrev_sportsipy')\n",
    "\n",
    "conv_dict = df_team_name_convert['Abbrev'].to_dict()\n",
    "\n",
    "df_proteam_schedule = pd.read_csv('team_abbrev.csv' , index_col=False).drop(['Unnamed: 0'],axis=1).set_index('Abbrev_sportsipy')\n",
    "\n",
    "pro_team_ls = df_proteam_schedule.index.tolist()\n"
   ]
  },
  {
   "cell_type": "markdown",
   "metadata": {},
   "source": [
    "## Build NFL team schedules with dates"
   ]
  },
  {
   "cell_type": "code",
   "execution_count": 3,
   "metadata": {},
   "outputs": [],
   "source": [
    "# rows = NFL teams\n",
    "# columns = team abbrev, weeks\n",
    "# data = game date\n",
    "# use the game dates to map to player week-by-week stats"
   ]
  },
  {
   "cell_type": "code",
   "execution_count": 4,
   "metadata": {},
   "outputs": [],
   "source": [
    "# series for each NFL team:\n",
    "games_all_season = 18\n",
    "\n",
    "# game_time_ls = []\n",
    "# proteam_schedule = Schedule('CRD')\n",
    "# for game in proteam_schedule:\n",
    "#     game_time = game.datetime.date()\n",
    "#     game_time_ls.append(game_time)\n",
    "\n",
    "wk_ls = [i+1 for i in list(range(games_all_season))]\n",
    "\n",
    "df_proteam_schedules = pd.DataFrame(data=[], index=wk_ls , columns = pro_team_ls)"
   ]
  },
  {
   "cell_type": "code",
   "execution_count": 5,
   "metadata": {},
   "outputs": [],
   "source": [
    "for i in pro_team_ls:\n",
    "    proteam_schedule = Schedule(i)\n",
    "    \n",
    "    for game in proteam_schedule:\n",
    "        game_time = game.datetime.date()\n",
    "        wk = game.week\n",
    "        \n",
    "        df_proteam_schedules.loc[wk,i] = game_time\n",
    "        \n",
    "df_proteam_schedules.fillna('BYE',inplace=True)\n",
    "\n",
    "df_proteam_schedules.rename(columns = conv_dict , inplace=True)"
   ]
  },
  {
   "cell_type": "code",
   "execution_count": 6,
   "metadata": {},
   "outputs": [
    {
     "data": {
      "text/html": [
       "<div>\n",
       "<style scoped>\n",
       "    .dataframe tbody tr th:only-of-type {\n",
       "        vertical-align: middle;\n",
       "    }\n",
       "\n",
       "    .dataframe tbody tr th {\n",
       "        vertical-align: top;\n",
       "    }\n",
       "\n",
       "    .dataframe thead th {\n",
       "        text-align: right;\n",
       "    }\n",
       "</style>\n",
       "<table border=\"1\" class=\"dataframe\">\n",
       "  <thead>\n",
       "    <tr style=\"text-align: right;\">\n",
       "      <th></th>\n",
       "      <th>ARI</th>\n",
       "      <th>ATL</th>\n",
       "      <th>BAL</th>\n",
       "      <th>BUF</th>\n",
       "      <th>CAR</th>\n",
       "      <th>CHI</th>\n",
       "      <th>CIN</th>\n",
       "      <th>CLE</th>\n",
       "      <th>DAL</th>\n",
       "      <th>DEN</th>\n",
       "      <th>...</th>\n",
       "      <th>NO</th>\n",
       "      <th>NYG</th>\n",
       "      <th>NYJ</th>\n",
       "      <th>PHI</th>\n",
       "      <th>PIT</th>\n",
       "      <th>SF</th>\n",
       "      <th>SEA</th>\n",
       "      <th>TB</th>\n",
       "      <th>TEN</th>\n",
       "      <th>WSH</th>\n",
       "    </tr>\n",
       "  </thead>\n",
       "  <tbody>\n",
       "    <tr>\n",
       "      <th>1</th>\n",
       "      <td>2021-09-12</td>\n",
       "      <td>2021-09-12</td>\n",
       "      <td>2021-09-13</td>\n",
       "      <td>2021-09-12</td>\n",
       "      <td>2021-09-12</td>\n",
       "      <td>2021-09-12</td>\n",
       "      <td>2021-09-12</td>\n",
       "      <td>2021-09-12</td>\n",
       "      <td>2021-09-09</td>\n",
       "      <td>2021-09-12</td>\n",
       "      <td>...</td>\n",
       "      <td>2021-09-12</td>\n",
       "      <td>2021-09-12</td>\n",
       "      <td>2021-09-12</td>\n",
       "      <td>2021-09-12</td>\n",
       "      <td>2021-09-12</td>\n",
       "      <td>2021-09-12</td>\n",
       "      <td>2021-09-12</td>\n",
       "      <td>2021-09-09</td>\n",
       "      <td>2021-09-12</td>\n",
       "      <td>2021-09-12</td>\n",
       "    </tr>\n",
       "    <tr>\n",
       "      <th>2</th>\n",
       "      <td>2021-09-19</td>\n",
       "      <td>2021-09-19</td>\n",
       "      <td>2021-09-19</td>\n",
       "      <td>2021-09-19</td>\n",
       "      <td>2021-09-19</td>\n",
       "      <td>2021-09-19</td>\n",
       "      <td>2021-09-19</td>\n",
       "      <td>2021-09-19</td>\n",
       "      <td>2021-09-19</td>\n",
       "      <td>2021-09-19</td>\n",
       "      <td>...</td>\n",
       "      <td>2021-09-19</td>\n",
       "      <td>2021-09-16</td>\n",
       "      <td>2021-09-19</td>\n",
       "      <td>2021-09-19</td>\n",
       "      <td>2021-09-19</td>\n",
       "      <td>2021-09-19</td>\n",
       "      <td>2021-09-19</td>\n",
       "      <td>2021-09-19</td>\n",
       "      <td>2021-09-19</td>\n",
       "      <td>2021-09-16</td>\n",
       "    </tr>\n",
       "    <tr>\n",
       "      <th>3</th>\n",
       "      <td>2021-09-26</td>\n",
       "      <td>2021-09-26</td>\n",
       "      <td>2021-09-26</td>\n",
       "      <td>2021-09-26</td>\n",
       "      <td>2021-09-23</td>\n",
       "      <td>2021-09-26</td>\n",
       "      <td>2021-09-26</td>\n",
       "      <td>2021-09-26</td>\n",
       "      <td>2021-09-27</td>\n",
       "      <td>2021-09-26</td>\n",
       "      <td>...</td>\n",
       "      <td>2021-09-26</td>\n",
       "      <td>2021-09-26</td>\n",
       "      <td>2021-09-26</td>\n",
       "      <td>2021-09-27</td>\n",
       "      <td>2021-09-26</td>\n",
       "      <td>2021-09-26</td>\n",
       "      <td>2021-09-26</td>\n",
       "      <td>2021-09-26</td>\n",
       "      <td>2021-09-26</td>\n",
       "      <td>2021-09-26</td>\n",
       "    </tr>\n",
       "    <tr>\n",
       "      <th>4</th>\n",
       "      <td>2021-10-03</td>\n",
       "      <td>2021-10-03</td>\n",
       "      <td>2021-10-03</td>\n",
       "      <td>2021-10-03</td>\n",
       "      <td>2021-10-03</td>\n",
       "      <td>2021-10-03</td>\n",
       "      <td>2021-09-30</td>\n",
       "      <td>2021-10-03</td>\n",
       "      <td>2021-10-03</td>\n",
       "      <td>2021-10-03</td>\n",
       "      <td>...</td>\n",
       "      <td>2021-10-03</td>\n",
       "      <td>2021-10-03</td>\n",
       "      <td>2021-10-03</td>\n",
       "      <td>2021-10-03</td>\n",
       "      <td>2021-10-03</td>\n",
       "      <td>2021-10-03</td>\n",
       "      <td>2021-10-03</td>\n",
       "      <td>2021-10-03</td>\n",
       "      <td>2021-10-03</td>\n",
       "      <td>2021-10-03</td>\n",
       "    </tr>\n",
       "    <tr>\n",
       "      <th>5</th>\n",
       "      <td>2021-10-10</td>\n",
       "      <td>2021-10-10</td>\n",
       "      <td>2021-10-11</td>\n",
       "      <td>2021-10-10</td>\n",
       "      <td>2021-10-10</td>\n",
       "      <td>2021-10-10</td>\n",
       "      <td>2021-10-10</td>\n",
       "      <td>2021-10-10</td>\n",
       "      <td>2021-10-10</td>\n",
       "      <td>2021-10-10</td>\n",
       "      <td>...</td>\n",
       "      <td>2021-10-10</td>\n",
       "      <td>2021-10-10</td>\n",
       "      <td>2021-10-10</td>\n",
       "      <td>2021-10-10</td>\n",
       "      <td>2021-10-10</td>\n",
       "      <td>2021-10-10</td>\n",
       "      <td>2021-10-07</td>\n",
       "      <td>2021-10-10</td>\n",
       "      <td>2021-10-10</td>\n",
       "      <td>2021-10-10</td>\n",
       "    </tr>\n",
       "  </tbody>\n",
       "</table>\n",
       "<p>5 rows × 32 columns</p>\n",
       "</div>"
      ],
      "text/plain": [
       "          ARI         ATL         BAL         BUF         CAR         CHI  \\\n",
       "1  2021-09-12  2021-09-12  2021-09-13  2021-09-12  2021-09-12  2021-09-12   \n",
       "2  2021-09-19  2021-09-19  2021-09-19  2021-09-19  2021-09-19  2021-09-19   \n",
       "3  2021-09-26  2021-09-26  2021-09-26  2021-09-26  2021-09-23  2021-09-26   \n",
       "4  2021-10-03  2021-10-03  2021-10-03  2021-10-03  2021-10-03  2021-10-03   \n",
       "5  2021-10-10  2021-10-10  2021-10-11  2021-10-10  2021-10-10  2021-10-10   \n",
       "\n",
       "          CIN         CLE         DAL         DEN  ...          NO  \\\n",
       "1  2021-09-12  2021-09-12  2021-09-09  2021-09-12  ...  2021-09-12   \n",
       "2  2021-09-19  2021-09-19  2021-09-19  2021-09-19  ...  2021-09-19   \n",
       "3  2021-09-26  2021-09-26  2021-09-27  2021-09-26  ...  2021-09-26   \n",
       "4  2021-09-30  2021-10-03  2021-10-03  2021-10-03  ...  2021-10-03   \n",
       "5  2021-10-10  2021-10-10  2021-10-10  2021-10-10  ...  2021-10-10   \n",
       "\n",
       "          NYG         NYJ         PHI         PIT          SF         SEA  \\\n",
       "1  2021-09-12  2021-09-12  2021-09-12  2021-09-12  2021-09-12  2021-09-12   \n",
       "2  2021-09-16  2021-09-19  2021-09-19  2021-09-19  2021-09-19  2021-09-19   \n",
       "3  2021-09-26  2021-09-26  2021-09-27  2021-09-26  2021-09-26  2021-09-26   \n",
       "4  2021-10-03  2021-10-03  2021-10-03  2021-10-03  2021-10-03  2021-10-03   \n",
       "5  2021-10-10  2021-10-10  2021-10-10  2021-10-10  2021-10-10  2021-10-07   \n",
       "\n",
       "           TB         TEN         WSH  \n",
       "1  2021-09-09  2021-09-12  2021-09-12  \n",
       "2  2021-09-19  2021-09-19  2021-09-16  \n",
       "3  2021-09-26  2021-09-26  2021-09-26  \n",
       "4  2021-10-03  2021-10-03  2021-10-03  \n",
       "5  2021-10-10  2021-10-10  2021-10-10  \n",
       "\n",
       "[5 rows x 32 columns]"
      ]
     },
     "execution_count": 6,
     "metadata": {},
     "output_type": "execute_result"
    }
   ],
   "source": [
    "df_proteam_schedules.head()"
   ]
  },
  {
   "cell_type": "markdown",
   "metadata": {},
   "source": [
    "## Import data from ESPN Fantasy Football"
   ]
  },
  {
   "cell_type": "code",
   "execution_count": 7,
   "metadata": {},
   "outputs": [],
   "source": [
    "# Football Import\n",
    "\n",
    "league_id = 1094090\n",
    "year = year_of_interest\n",
    "SWID=\"{F191FB8C-DB2D-4D24-91FB-8CDB2DED249D}\"\n",
    "\n",
    "s2='AECJMQHsUHB0FTXdZkw93uY7GRbX8BPnm93Ye6AwvwrMsrZFGg1Lbmi07SWVov2ioN8zGMFDzZiiDSeQCa7WQHaGivGnMfGWLjmfGwkOeLXb5baD1sltp%2B%2BIfHAtl98TpmHgB16ZpGn6g3Bm5vLEA7yDC6HkbD3LSp0E2rGB7hKziLMvZ7mT6ONJFRe8Xp3ApYWSvxPr9cz0pJiI%2FF0blsZ8hyATDJMEyaQ2O%2FypcsViORr6hqYTmXHPuPKnMBfvYC8LQqi1exGw3vnyg6ptsB2Y'"
   ]
  },
  {
   "cell_type": "code",
   "execution_count": 8,
   "metadata": {},
   "outputs": [],
   "source": [
    "league = League(league_id=league_id, year=year, espn_s2=s2, swid=SWID)\n",
    "\n",
    "activity_ls = league.recent_activity(400)"
   ]
  },
  {
   "cell_type": "markdown",
   "metadata": {},
   "source": [
    "## Map every NFL team's schedule to date / weeks designation"
   ]
  },
  {
   "cell_type": "code",
   "execution_count": null,
   "metadata": {},
   "outputs": [],
   "source": []
  },
  {
   "cell_type": "markdown",
   "metadata": {},
   "source": [
    "## Build Acquisitions Dataframe"
   ]
  },
  {
   "cell_type": "code",
   "execution_count": 9,
   "metadata": {},
   "outputs": [],
   "source": [
    "# waiver_data_ls = []\n",
    "\n",
    "# # loop through each activity item\n",
    "# for j in activity_ls:\n",
    "#     date1 = j.date\n",
    "    \n",
    "#     # store Activity object in pandas dataframe\n",
    "# #     activity = j\n",
    "    \n",
    "#     # could be multiple activities within each activity item\n",
    "#     for k in j.actions:\n",
    "#         (team1, action1, player_name, bid_amount) = k\n",
    "#         team_id = team1.team_name\n",
    "#         player_id = player_name.name\n",
    "#         ProTeam = player_name.proTeam\n",
    "        \n",
    "# #         total_points = player_name.stats[0]['points']\n",
    "#         waiver_data1 = (date1 , player_id , ProTeam , team_id , action1, bid_amount)\n",
    "#         waiver_data_ls.append(waiver_data1)\n",
    "        \n",
    "# df = pd.DataFrame(waiver_data_ls)\n",
    "# df.columns = ['Timestamp','Player','ProTeam','Acquired by','Action','Bid Amount ($)']"
   ]
  },
  {
   "cell_type": "code",
   "execution_count": 10,
   "metadata": {},
   "outputs": [],
   "source": [
    "# Need special case to handle trades:\n",
    "\n"
   ]
  },
  {
   "cell_type": "code",
   "execution_count": 11,
   "metadata": {},
   "outputs": [],
   "source": [
    "# targ_team = 'Dick Cheese'\n",
    "# targ_player = 'Deebo Samuel'\n",
    "# waiver_data_ls = []\n",
    "\n",
    "# # loop through each activity item\n",
    "# for idx, j in enumerate(activity_ls):\n",
    "#     date1 = j.date\n",
    "    \n",
    "#     # store Activity object in pandas dataframe\n",
    "# #     activity = j\n",
    "    \n",
    "#     # could be multiple activities within each activity item\n",
    "#     for k in j.actions:\n",
    "#         (team1, action1, player_name, bid_amount) = k\n",
    "        \n",
    "#         if 'TRADED':\n",
    "# #             print('t')\n",
    "            \n",
    "            \n",
    "            \n",
    "#             team_id = team1.team_name\n",
    "#             player_id = player_name.name\n",
    "\n",
    "#             if (team_id == targ_team) & (player_id == targ_player):\n",
    "#                 activity = j\n",
    "#                 traded_idx = idx\n",
    "# #       \n",
    "# print(traded_idx)"
   ]
  },
  {
   "cell_type": "code",
   "execution_count": 12,
   "metadata": {},
   "outputs": [],
   "source": [
    "# acq_data_ls = []\n",
    "\n",
    "# date1 = activity_ls[traded_idx].date\n",
    "\n",
    "# team_transaction_ls = []\n",
    "# for k in activity_ls[traded_idx].actions:\n",
    "#     (team1, action1, _ , _ ) = k\n",
    "#     team_id = team1.team_name\n",
    "#     team_transaction_ls.append(team_id)\n",
    "\n",
    "#     # determine if trade or waiver acquisition type\n",
    "\n",
    "# # establish other team involved in trade\n",
    "# teams_in_trade = list(set(team_transaction_ls))\n",
    "\n",
    "# for k in activity_ls[traded_idx].actions:\n",
    "#     (team1, action1, player_name, bid_amount) = k\n",
    "#     team_id = team1.team_name\n",
    "# #     print(team_id)\n",
    "    \n",
    "#     if teams_in_trade.index(team_id) == 1:\n",
    "#         team_id_received = teams_in_trade[0]\n",
    "#     else:\n",
    "#         team_id_received = teams_in_trade[1]\n",
    "        \n",
    "#     # Build new tuple for TRADE ADDED\n",
    "# #     team_id = team_id_received\n",
    "#     player_id = player_name.name\n",
    "#     ProTeam = player_name.proTeam\n",
    "#     action1 = 'TRADE ADDED'\n",
    "    \n",
    "#     # Build a second tuple for TRADE DROPPED\n",
    "#     action2 = 'TRADE DROPPED'\n",
    "    \n",
    "#     acq_data1 = (date1 , player_id , ProTeam , team_id_received , action1, bid_amount)\n",
    "#     drop_data1 = (date1 , player_id , ProTeam , team_id , action2, bid_amount)\n",
    "    \n",
    "#     acq_data_ls.append(acq_data1)\n",
    "#     acq_data_ls.append(drop_data1)\n",
    "    \n",
    "# z"
   ]
  },
  {
   "cell_type": "code",
   "execution_count": 13,
   "metadata": {},
   "outputs": [],
   "source": [
    "# DROPPED Action: that player was present on team prior to being dropped\n",
    "# Get weeks prior to being dropped\n",
    "\n",
    "# ADDED Action: that player was present on team after being added\n",
    "# Get weeks after being added\n",
    "\n",
    "# Get Tenure intervals:\n",
    "\n",
    "# map acquisition dates to real life NFL schedule: express as a list of weeks of interval owned by Fantasy owner\n",
    "# from that list, use league.box_scores to obtain points scored for that Fantasy owner"
   ]
  },
  {
   "cell_type": "code",
   "execution_count": 14,
   "metadata": {},
   "outputs": [],
   "source": [
    "import datetime\n",
    "\n",
    "\n",
    "# Function handling trade data\n",
    "\n",
    "def get_trade_data(j):\n",
    "    \n",
    "    acq_data_ls = []\n",
    "\n",
    "    date1 = j.date\n",
    "\n",
    "    team_transaction_ls = []\n",
    "    \n",
    "    for k in j.actions:\n",
    "        (team1, action1, _ , _ ) = k\n",
    "        team_id = team1.team_name\n",
    "        team_transaction_ls.append(team_id)\n",
    "\n",
    "        # determine if trade or waiver acquisition type\n",
    "\n",
    "    # establish other team involved in trade\n",
    "    teams_in_trade = list(set(team_transaction_ls))\n",
    "\n",
    "    for k in j.actions:\n",
    "        (team1, action1, player_name, bid_amount) = k\n",
    "        team_id = team1.team_name\n",
    "    #     print(team_id)\n",
    "\n",
    "        if teams_in_trade.index(team_id) == 1:\n",
    "            team_id_received = teams_in_trade[0]\n",
    "        else:\n",
    "            team_id_received = teams_in_trade[1]\n",
    "\n",
    "        # Build new tuple for TRADE ADDED\n",
    "    #     team_id = team_id_received\n",
    "        player_id = player_name.name\n",
    "        ProTeam = player_name.proTeam\n",
    "        action1 = 'TRADE ADDED'\n",
    "\n",
    "        # Build a second tuple for TRADE DROPPED\n",
    "        action2 = 'TRADE DROPPED'\n",
    "\n",
    "        acq_data1 = (date1 , player_id , ProTeam , team_id_received , action1, bid_amount)\n",
    "        drop_data1 = (date1 , player_id , ProTeam , team_id , action2, bid_amount)\n",
    "\n",
    "        acq_data_ls.append(acq_data1)\n",
    "        acq_data_ls.append(drop_data1)\n",
    "        \n",
    "    return acq_data_ls"
   ]
  },
  {
   "cell_type": "code",
   "execution_count": 15,
   "metadata": {},
   "outputs": [],
   "source": [
    "# Function handling waiver data\n",
    "def get_waiver_data(j):\n",
    "    \n",
    "    waiver_data_ls = []\n",
    "\n",
    "    for k in j.actions:\n",
    "        (team1, action1, player_name, bid_amount) = k\n",
    "        team_id = team1.team_name\n",
    "        player_id = player_name.name\n",
    "        ProTeam = player_name.proTeam\n",
    "        \n",
    "#         total_points = player_name.stats[0]['points']\n",
    "        waiver_data1 = (date1 , player_id , ProTeam , team_id , action1 , bid_amount)\n",
    "        waiver_data_ls.append(waiver_data1)\n",
    "        \n",
    "    return waiver_data_ls"
   ]
  },
  {
   "cell_type": "code",
   "execution_count": 16,
   "metadata": {},
   "outputs": [],
   "source": [
    "def flatten_list(_2d_list):\n",
    "    flat_list = []\n",
    "    # Iterate through the outer list\n",
    "    for element in _2d_list:\n",
    "        if type(element) is list:\n",
    "            # If the element is of type list, iterate through the sublist\n",
    "            for item in element:\n",
    "                flat_list.append(item)\n",
    "        else:\n",
    "            flat_list.append(element)\n",
    "    return flat_list"
   ]
  },
  {
   "cell_type": "code",
   "execution_count": 17,
   "metadata": {},
   "outputs": [],
   "source": [
    "# Conditional for trade or waiver acquisitions\n",
    "\n",
    "acq_data_ls = []\n",
    "\n",
    "# date1 = activity_ls[traded_idx].date\n",
    "\n",
    "# loop through each activity item\n",
    "for idx, j in enumerate(activity_ls):\n",
    "    date1 = j.date\n",
    "    team_transaction_ls = []\n",
    "    for k in j.actions:\n",
    "        (team1, action1, _ , _ ) = k\n",
    "        team_id = team1.team_name\n",
    "        team_transaction_ls.append(team_id)\n",
    "        \n",
    "        # determine if trade or waiver acquisition type\n",
    "        \n",
    "        ls = []\n",
    "        \n",
    "        if action1 == 'TRADED':\n",
    "            ls = get_trade_data(j)\n",
    "\n",
    "        else:\n",
    "            ls = get_waiver_data(j)\n",
    "\n",
    "    acq_data_ls.append(ls)\n",
    "      \n",
    "\n",
    "acq_data_flat_ls = flatten_list(acq_data_ls)\n",
    "\n",
    "df_acq = pd.DataFrame(acq_data_flat_ls)\n",
    "\n",
    "df_acq.columns = ['Timestamp','Player','ProTeam','Team','Action','Bid Amount ($)']\n",
    "\n",
    "# converts from milliseconds to date\n",
    "def convert_to_date(date1):\n",
    "    d2=datetime.date.fromtimestamp(date1 / 1000.0)\n",
    "    return d2\n",
    "\n",
    "df_acq['Action Timestamp'] = df_acq['Timestamp'].apply(lambda x : convert_to_date(x))\n",
    "\n",
    "df_acq = df_acq.sort_values(by=['Timestamp'],ascending=True)"
   ]
  },
  {
   "cell_type": "code",
   "execution_count": 18,
   "metadata": {},
   "outputs": [
    {
     "data": {
      "text/html": [
       "<div>\n",
       "<style scoped>\n",
       "    .dataframe tbody tr th:only-of-type {\n",
       "        vertical-align: middle;\n",
       "    }\n",
       "\n",
       "    .dataframe tbody tr th {\n",
       "        vertical-align: top;\n",
       "    }\n",
       "\n",
       "    .dataframe thead th {\n",
       "        text-align: right;\n",
       "    }\n",
       "</style>\n",
       "<table border=\"1\" class=\"dataframe\">\n",
       "  <thead>\n",
       "    <tr style=\"text-align: right;\">\n",
       "      <th></th>\n",
       "      <th>Timestamp</th>\n",
       "      <th>Player</th>\n",
       "      <th>ProTeam</th>\n",
       "      <th>Team</th>\n",
       "      <th>Action</th>\n",
       "      <th>Bid Amount ($)</th>\n",
       "      <th>Action Timestamp</th>\n",
       "    </tr>\n",
       "  </thead>\n",
       "  <tbody>\n",
       "    <tr>\n",
       "      <th>598</th>\n",
       "      <td>1631199616099</td>\n",
       "      <td>Dolphins D/ST</td>\n",
       "      <td>MIA</td>\n",
       "      <td>Ice City USA</td>\n",
       "      <td>DROPPED</td>\n",
       "      <td>0</td>\n",
       "      <td>2021-09-09</td>\n",
       "    </tr>\n",
       "    <tr>\n",
       "      <th>590</th>\n",
       "      <td>1631199616099</td>\n",
       "      <td>Rodrigo Blankenship</td>\n",
       "      <td>IND</td>\n",
       "      <td>Fumble .</td>\n",
       "      <td>DROPPED</td>\n",
       "      <td>0</td>\n",
       "      <td>2021-09-09</td>\n",
       "    </tr>\n",
       "    <tr>\n",
       "      <th>591</th>\n",
       "      <td>1631199616099</td>\n",
       "      <td>T.Y. Hilton</td>\n",
       "      <td>IND</td>\n",
       "      <td>Fumble .</td>\n",
       "      <td>WAIVER ADDED</td>\n",
       "      <td>1</td>\n",
       "      <td>2021-09-09</td>\n",
       "    </tr>\n",
       "    <tr>\n",
       "      <th>592</th>\n",
       "      <td>1631199616099</td>\n",
       "      <td>Deshaun Watson</td>\n",
       "      <td>HOU</td>\n",
       "      <td>Frankel's Cankles</td>\n",
       "      <td>DROPPED</td>\n",
       "      <td>0</td>\n",
       "      <td>2021-09-09</td>\n",
       "    </tr>\n",
       "    <tr>\n",
       "      <th>597</th>\n",
       "      <td>1631199616099</td>\n",
       "      <td>Vikings D/ST</td>\n",
       "      <td>MIN</td>\n",
       "      <td>Ice City USA</td>\n",
       "      <td>WAIVER ADDED</td>\n",
       "      <td>0</td>\n",
       "      <td>2021-09-09</td>\n",
       "    </tr>\n",
       "  </tbody>\n",
       "</table>\n",
       "</div>"
      ],
      "text/plain": [
       "         Timestamp               Player ProTeam               Team  \\\n",
       "598  1631199616099        Dolphins D/ST     MIA       Ice City USA   \n",
       "590  1631199616099  Rodrigo Blankenship     IND           Fumble .   \n",
       "591  1631199616099          T.Y. Hilton     IND           Fumble .   \n",
       "592  1631199616099       Deshaun Watson     HOU  Frankel's Cankles   \n",
       "597  1631199616099         Vikings D/ST     MIN       Ice City USA   \n",
       "\n",
       "           Action  Bid Amount ($) Action Timestamp  \n",
       "598       DROPPED               0       2021-09-09  \n",
       "590       DROPPED               0       2021-09-09  \n",
       "591  WAIVER ADDED               1       2021-09-09  \n",
       "592       DROPPED               0       2021-09-09  \n",
       "597  WAIVER ADDED               0       2021-09-09  "
      ]
     },
     "execution_count": 18,
     "metadata": {},
     "output_type": "execute_result"
    }
   ],
   "source": [
    "df_acq.head()"
   ]
  },
  {
   "cell_type": "markdown",
   "metadata": {},
   "source": [
    "## Get Draft Data"
   ]
  },
  {
   "cell_type": "code",
   "execution_count": 19,
   "metadata": {},
   "outputs": [],
   "source": [
    "draft_ls = []\n",
    "for i in league.draft:\n",
    "    \n",
    "    team_id = i.team.team_name\n",
    "    player_id = i.playerName\n",
    "    bid_amount = i.bid_amount\n",
    "    action = 'DRAFT ADDED'\n",
    "    \n",
    "    draft_ls.append((player_id, team_id,action,bid_amount))\n",
    "\n",
    "df_draft = pd.DataFrame(draft_ls)\n",
    "  \n",
    "df_draft.columns = ['Player', 'Acquired by' , 'Action' , 'Bid Amount ($)']\n",
    "\n",
    "df_draft.set_index('Player',inplace=True)"
   ]
  },
  {
   "cell_type": "markdown",
   "metadata": {},
   "source": [
    "## Get total points of rostered players Dataframe"
   ]
  },
  {
   "cell_type": "code",
   "execution_count": 20,
   "metadata": {},
   "outputs": [],
   "source": [
    "# team = league.teams[0]\n",
    "# player = team.roster[3]\n"
   ]
  },
  {
   "cell_type": "code",
   "execution_count": 21,
   "metadata": {},
   "outputs": [],
   "source": [
    "# First loop through all rosters, all players currently on teams, get stats\n",
    "\n",
    "\n",
    "# Second, loop through all free agents, get stats\n",
    "\n",
    "\n",
    "# concatenate to acquisitions dataframe"
   ]
  },
  {
   "cell_type": "code",
   "execution_count": 22,
   "metadata": {},
   "outputs": [],
   "source": [
    "rostered_players_ls = []\n",
    "for i in league.teams:\n",
    "    team_name = i.team_name\n",
    "    for player in i.roster:\n",
    "        player_name = player.name\n",
    "        player_pos = player.position\n",
    "        player_pro_team = player.proTeam\n",
    "        player_total_pts = player.total_points\n",
    "        player_tup = (player_name , player_pos, player_pro_team, player_total_pts , team_name)\n",
    "        rostered_players_ls.append(player_tup)\n",
    "\n",
    "df_rostered = pd.DataFrame(rostered_players_ls)\n",
    "col_ls = ['Player' , 'Position' , 'Pro Team', 'Total points', 'Current Team']\n",
    "df_rostered.columns = col_ls\n",
    "\n",
    "df_rostered.set_index('Player',inplace=True)"
   ]
  },
  {
   "cell_type": "code",
   "execution_count": 23,
   "metadata": {},
   "outputs": [
    {
     "data": {
      "text/html": [
       "<div>\n",
       "<style scoped>\n",
       "    .dataframe tbody tr th:only-of-type {\n",
       "        vertical-align: middle;\n",
       "    }\n",
       "\n",
       "    .dataframe tbody tr th {\n",
       "        vertical-align: top;\n",
       "    }\n",
       "\n",
       "    .dataframe thead th {\n",
       "        text-align: right;\n",
       "    }\n",
       "</style>\n",
       "<table border=\"1\" class=\"dataframe\">\n",
       "  <thead>\n",
       "    <tr style=\"text-align: right;\">\n",
       "      <th></th>\n",
       "      <th>Position</th>\n",
       "      <th>Pro Team</th>\n",
       "      <th>Total points</th>\n",
       "      <th>Current Team</th>\n",
       "    </tr>\n",
       "    <tr>\n",
       "      <th>Player</th>\n",
       "      <th></th>\n",
       "      <th></th>\n",
       "      <th></th>\n",
       "      <th></th>\n",
       "    </tr>\n",
       "  </thead>\n",
       "  <tbody>\n",
       "    <tr>\n",
       "      <th>Austin Ekeler</th>\n",
       "      <td>RB</td>\n",
       "      <td>LAC</td>\n",
       "      <td>282.4</td>\n",
       "      <td>Don't Ekele Me</td>\n",
       "    </tr>\n",
       "    <tr>\n",
       "      <th>George Kittle</th>\n",
       "      <td>TE</td>\n",
       "      <td>SF</td>\n",
       "      <td>159.0</td>\n",
       "      <td>Don't Ekele Me</td>\n",
       "    </tr>\n",
       "    <tr>\n",
       "      <th>Diontae Johnson</th>\n",
       "      <td>WR</td>\n",
       "      <td>PIT</td>\n",
       "      <td>199.2</td>\n",
       "      <td>Don't Ekele Me</td>\n",
       "    </tr>\n",
       "    <tr>\n",
       "      <th>Josh Allen</th>\n",
       "      <td>QB</td>\n",
       "      <td>BUF</td>\n",
       "      <td>377.4</td>\n",
       "      <td>Don't Ekele Me</td>\n",
       "    </tr>\n",
       "    <tr>\n",
       "      <th>Brandin Cooks</th>\n",
       "      <td>WR</td>\n",
       "      <td>HOU</td>\n",
       "      <td>182.7</td>\n",
       "      <td>Don't Ekele Me</td>\n",
       "    </tr>\n",
       "  </tbody>\n",
       "</table>\n",
       "</div>"
      ],
      "text/plain": [
       "                Position Pro Team  Total points    Current Team\n",
       "Player                                                         \n",
       "Austin Ekeler         RB      LAC         282.4  Don't Ekele Me\n",
       "George Kittle         TE       SF         159.0  Don't Ekele Me\n",
       "Diontae Johnson       WR      PIT         199.2  Don't Ekele Me\n",
       "Josh Allen            QB      BUF         377.4  Don't Ekele Me\n",
       "Brandin Cooks         WR      HOU         182.7  Don't Ekele Me"
      ]
     },
     "execution_count": 23,
     "metadata": {},
     "output_type": "execute_result"
    }
   ],
   "source": [
    "df_rostered.head()"
   ]
  },
  {
   "cell_type": "markdown",
   "metadata": {},
   "source": [
    "## Get total points of free agent players Dataframe"
   ]
  },
  {
   "cell_type": "code",
   "execution_count": 26,
   "metadata": {},
   "outputs": [],
   "source": [
    "free_agent_ls = league.free_agents(size=1000)\n",
    "\n",
    "FA_players_ls = []\n",
    "name_ls = []\n",
    "for i in free_agent_ls:\n",
    "    team_name = 'Free agent'\n",
    "    player_name = i.name\n",
    "    player_pos = i.position\n",
    "    player_pro_team = i.proTeam\n",
    "    player_total_pts = i.total_points\n",
    "\n",
    "    player_tup = (player_name , player_pos, player_pro_team, player_total_pts , team_name)\n",
    "    FA_players_ls.append(player_tup)\n",
    "    \n",
    "    name_ls.append(player_name)\n",
    "\n",
    "\n",
    "df_FA = pd.DataFrame(FA_players_ls)\n",
    "col_ls = ['Player' , 'Position' , 'Pro Team', 'Total points', 'Current Team']\n",
    "df_FA.columns=col_ls\n",
    "df_FA.set_index('Player',inplace=True)\n",
    "\n",
    "# Generate all player stats dataframe, including all Free Agents\n",
    "df_player_stats = pd.concat([df_rostered,df_FA],axis=0)\n",
    "\n",
    "df_draft_acq = df_draft.join(df_player_stats)\n",
    "\n",
    "df_draft_acq['Player'] = df_draft_acq.index\n",
    "\n",
    "col_new = ['Player' , 'Pro Team' , 'Acquired by' , 'Action' , 'Bid Amount ($)']\n",
    "\n",
    "df_draft_acq = df_draft_acq[col_new]\n",
    "\n",
    "df_draft_acq.rename(columns = {'Pro Team' : 'ProTeam' , 'Acquired by' : 'Team'} , inplace = True)\n",
    "\n",
    "from datetime import datetime\n",
    "\n",
    "# Establish Draft Date\n",
    "# Draft Date just needs to be before the first game of the season, does not need to be exact\n",
    "draft_date_str = '8 Sep 2021'\n",
    "\n",
    "draft_date = datetime.strptime(draft_date_str, '%d %b %Y').date()\n",
    "\n",
    "draft_date_ms = int(datetime.strptime(draft_date_str, '%d %b %Y').timestamp() * 1000)\n",
    "\n",
    "df_draft_acq['Action Timestamp'] = draft_date\n",
    "\n",
    "df_draft_acq['Timestamp'] = draft_date_ms\n",
    "\n",
    "df_acq_final = pd.concat([df_draft_acq , df_acq] , axis=0)\n",
    "\n",
    "df_acq_final.reset_index(inplace=True)\n",
    "\n",
    "df_acq_final.drop('index' , inplace=True ,axis=1)"
   ]
  },
  {
   "cell_type": "code",
   "execution_count": 27,
   "metadata": {},
   "outputs": [
    {
     "data": {
      "text/html": [
       "<div>\n",
       "<style scoped>\n",
       "    .dataframe tbody tr th:only-of-type {\n",
       "        vertical-align: middle;\n",
       "    }\n",
       "\n",
       "    .dataframe tbody tr th {\n",
       "        vertical-align: top;\n",
       "    }\n",
       "\n",
       "    .dataframe thead th {\n",
       "        text-align: right;\n",
       "    }\n",
       "</style>\n",
       "<table border=\"1\" class=\"dataframe\">\n",
       "  <thead>\n",
       "    <tr style=\"text-align: right;\">\n",
       "      <th></th>\n",
       "      <th>Position</th>\n",
       "      <th>Pro Team</th>\n",
       "      <th>Total points</th>\n",
       "      <th>Current Team</th>\n",
       "    </tr>\n",
       "    <tr>\n",
       "      <th>Player</th>\n",
       "      <th></th>\n",
       "      <th></th>\n",
       "      <th></th>\n",
       "      <th></th>\n",
       "    </tr>\n",
       "  </thead>\n",
       "  <tbody>\n",
       "    <tr>\n",
       "      <th>Austin Ekeler</th>\n",
       "      <td>RB</td>\n",
       "      <td>LAC</td>\n",
       "      <td>282.4</td>\n",
       "      <td>Don't Ekele Me</td>\n",
       "    </tr>\n",
       "    <tr>\n",
       "      <th>George Kittle</th>\n",
       "      <td>TE</td>\n",
       "      <td>SF</td>\n",
       "      <td>159.0</td>\n",
       "      <td>Don't Ekele Me</td>\n",
       "    </tr>\n",
       "    <tr>\n",
       "      <th>Diontae Johnson</th>\n",
       "      <td>WR</td>\n",
       "      <td>PIT</td>\n",
       "      <td>199.2</td>\n",
       "      <td>Don't Ekele Me</td>\n",
       "    </tr>\n",
       "    <tr>\n",
       "      <th>Josh Allen</th>\n",
       "      <td>QB</td>\n",
       "      <td>BUF</td>\n",
       "      <td>377.4</td>\n",
       "      <td>Don't Ekele Me</td>\n",
       "    </tr>\n",
       "    <tr>\n",
       "      <th>Brandin Cooks</th>\n",
       "      <td>WR</td>\n",
       "      <td>HOU</td>\n",
       "      <td>182.7</td>\n",
       "      <td>Don't Ekele Me</td>\n",
       "    </tr>\n",
       "  </tbody>\n",
       "</table>\n",
       "</div>"
      ],
      "text/plain": [
       "                Position Pro Team  Total points    Current Team\n",
       "Player                                                         \n",
       "Austin Ekeler         RB      LAC         282.4  Don't Ekele Me\n",
       "George Kittle         TE       SF         159.0  Don't Ekele Me\n",
       "Diontae Johnson       WR      PIT         199.2  Don't Ekele Me\n",
       "Josh Allen            QB      BUF         377.4  Don't Ekele Me\n",
       "Brandin Cooks         WR      HOU         182.7  Don't Ekele Me"
      ]
     },
     "execution_count": 27,
     "metadata": {},
     "output_type": "execute_result"
    }
   ],
   "source": [
    "df_player_stats.head()"
   ]
  },
  {
   "cell_type": "code",
   "execution_count": 28,
   "metadata": {},
   "outputs": [],
   "source": [
    "# For now, drop players who were rostered, but are not on a ProTeam currently, example: 'Henry Ruggs'\n",
    "# There can be a next feature to handle these exceptions\n",
    "\n",
    "df_acq_final1 = df_acq_final[~(df_acq_final['ProTeam'] == 'None')]"
   ]
  },
  {
   "cell_type": "markdown",
   "metadata": {},
   "source": [
    "## Get player points from every week's matchup"
   ]
  },
  {
   "cell_type": "code",
   "execution_count": 42,
   "metadata": {},
   "outputs": [],
   "source": [
    "# league object has attribue current week, this will always update from the ESPN API\n",
    "\n",
    "current_week = league.current_week\n",
    "\n",
    "# construct a reverse dictionary to map to box_score index\n",
    "wk_ls = [i+1 for i in range(current_week)]"
   ]
  },
  {
   "cell_type": "code",
   "execution_count": 43,
   "metadata": {},
   "outputs": [],
   "source": [
    "# Build dataframe of index = player - week, columns = ['Player' , 'Week' , 'Total points']\n",
    "\n",
    "# df_player_box_scores = pd.DataFrame(data=[], columns = ['Player' , 'Week' , 'Team' , 'Total points'])\n",
    "# wk = 5\n",
    "# n = 0\n",
    "# for matchup in league.box_scores(wk):\n",
    "#     team_name_p = matchup.away_team.team_name\n",
    "#     team_name_q = matchup.home_team.team_name\n",
    "\n",
    "#     for p in matchup.away_lineup:\n",
    "#         n += 1\n",
    "#         df_player_box_scores.loc[n,'Player'] = p.name\n",
    "#         df_player_box_scores.loc[n,'Position'] = p.position\n",
    "#         df_player_box_scores.loc[n,'Week'] = wk\n",
    "#         df_player_box_scores.loc[n,'Team'] = team_name_p\n",
    "#         df_player_box_scores.loc[n,'Total points'] = p.points\n",
    "    \n",
    "#     for q in matchup.home_lineup:\n",
    "#         n += 1\n",
    "#         df_player_box_scores.loc[n,'Player'] = q.name\n",
    "#         df_player_box_scores.loc[n,'Position'] = q.position\n",
    "#         df_player_box_scores.loc[n,'Week'] = wk\n",
    "#         df_player_box_scores.loc[n,'Team'] = team_name_q\n",
    "#         df_player_box_scores.loc[n,'Total points'] = q.points"
   ]
  },
  {
   "cell_type": "code",
   "execution_count": 44,
   "metadata": {},
   "outputs": [],
   "source": [
    "# df_player_box_scores.shape"
   ]
  },
  {
   "cell_type": "code",
   "execution_count": 48,
   "metadata": {},
   "outputs": [
    {
     "name": "stdout",
     "output_type": "stream",
     "text": [
      "CPU times: user 5.61 s, sys: 154 ms, total: 5.76 s\n",
      "Wall time: 14.6 s\n"
     ]
    }
   ],
   "source": [
    "%%time \n",
    "# Retrieve data on all players on all weeks played from box_scores class\n",
    "\n",
    "df_player_box_scores = pd.DataFrame(data=[], columns = ['Player' , 'Position' , 'Week' , 'Team' , 'Total points'])\n",
    "\n",
    "n = 0\n",
    "\n",
    "for wk in wk_ls:\n",
    "    for matchup in league.box_scores(wk):\n",
    "        if matchup.away_team == 0:\n",
    "            team_name_q = matchup.home_team.team_name\n",
    "            for q in matchup.home_lineup:\n",
    "                n += 1\n",
    "                df_player_box_scores.loc[n,'Player'] = q.name\n",
    "                df_player_box_scores.loc[n,'Position'] = q.position\n",
    "                df_player_box_scores.loc[n,'Week'] = wk\n",
    "                df_player_box_scores.loc[n,'Team'] = team_name_q\n",
    "                df_player_box_scores.loc[n,'Total points'] = q.points\n",
    "                \n",
    "        else:       \n",
    "            team_name_p = matchup.away_team.team_name\n",
    "            team_name_q = matchup.home_team.team_name\n",
    "\n",
    "            for p in matchup.away_lineup:\n",
    "                n += 1\n",
    "                df_player_box_scores.loc[n,'Player'] = p.name\n",
    "                df_player_box_scores.loc[n,'Position'] = p.position\n",
    "                df_player_box_scores.loc[n,'Week'] = wk\n",
    "                df_player_box_scores.loc[n,'Team'] = team_name_p\n",
    "                df_player_box_scores.loc[n,'Total points'] = p.points\n",
    "\n",
    "            for q in matchup.home_lineup:\n",
    "                n += 1\n",
    "                df_player_box_scores.loc[n,'Player'] = q.name\n",
    "                df_player_box_scores.loc[n,'Position'] = q.position\n",
    "                df_player_box_scores.loc[n,'Week'] = wk\n",
    "                df_player_box_scores.loc[n,'Team'] = team_name_q\n",
    "                df_player_box_scores.loc[n,'Total points'] = q.points\n",
    "            "
   ]
  },
  {
   "cell_type": "markdown",
   "metadata": {},
   "source": [
    "## Map acquisition data to NFL schedule info, create Stints Dataframe"
   ]
  },
  {
   "cell_type": "code",
   "execution_count": 49,
   "metadata": {},
   "outputs": [],
   "source": [
    "def get_stint_info(proteam, df_test_acq , df_proteam_schedules_one_team , n , idx , is_current):\n",
    "    \n",
    "    # get start and end dates d1 and d2          \n",
    "    d1 = df_test_acq.loc[idx , 'Action Timestamp']\n",
    "    action1 = df_test_acq.loc[idx ,'Action']\n",
    "    \n",
    "    # If player is currently on a fantasy team\n",
    "    if is_current:\n",
    "#         d2 = date.today().date()\n",
    "        d2 = date.today()\n",
    "    else:\n",
    "        d2 = df_test_acq.loc[idx+1 , 'Action Timestamp']\n",
    "        \n",
    "    bid_amount = df_test_acq.loc[idx , 'Bid Amount ($)']\n",
    "\n",
    "    weeks_bool = (df_proteam_schedules_one_team['Game Date'] >= d1) & (df_proteam_schedules_one_team['Game Date'] < d2)\n",
    "    stint_wks_ls = df_proteam_schedules_one_team[weeks_bool]['Week'].tolist()  \n",
    "\n",
    "\n",
    "    df_stints.loc[n ,'Stint (wks)' ] = stint_wks_ls\n",
    "\n",
    "    df_stints.loc[n , 'Player'] = player_test\n",
    "\n",
    "    df_stints.loc[n , 'ProTeam'] = proteam\n",
    "    df_stints.loc[n , 'Team'] = df_test_acq.loc[idx , 'Team']\n",
    "    df_stints.loc[n, 'Action'] = action1.split(' ')[0]\n",
    "    df_stints.loc[n , 'Bid Amount ($)'] = bid_amount\n",
    "    \n",
    "    return df_stints\n",
    "    "
   ]
  },
  {
   "cell_type": "code",
   "execution_count": 50,
   "metadata": {},
   "outputs": [],
   "source": [
    "# define get_df_stints\n",
    "\n",
    "def get_df_stints(player_test , df_acq_final):\n",
    "    df_test_acq = df_acq_final[df_acq_final['Player'] == player_test]\n",
    "\n",
    "    df_test_acq.reset_index(inplace=True)\n",
    "\n",
    "    df_test_acq.index.name = 'ordered_index'\n",
    "    \n",
    "    proteam = df_test_acq.loc[0,'ProTeam']\n",
    "\n",
    "    # import datetime\n",
    "    # Convert microseconds to date\n",
    "\n",
    "    df_proteam_schedules_one_team = pd.DataFrame(data=df_proteam_schedules.loc[:,proteam])\n",
    "\n",
    "    df_proteam_schedules_one_team['Week'] = df_proteam_schedules_one_team.index\n",
    "\n",
    "    df_proteam_schedules_one_team.rename(columns = {proteam:'Game Date'} , inplace=True)\n",
    "\n",
    "    df_proteam_schedules_one_team = df_proteam_schedules_one_team[df_proteam_schedules_one_team['Game Date'] != 'BYE']\n",
    "\n",
    "    cols = ['Player' , 'ProTeam' , 'Team' , 'Action' , 'Bid Amount ($)' , 'Stint (wks)']\n",
    "\n",
    "    df_stints = pd.DataFrame(data=[] , columns = cols)\n",
    "\n",
    "    max_idx = df_test_acq.index[-1]\n",
    "\n",
    "    n = 0\n",
    "\n",
    "    for idx , row in df_test_acq.iterrows():\n",
    "\n",
    "        if idx < max_idx:\n",
    "            cond_1 = 'ADDED' in df_test_acq.loc[idx , 'Action']\n",
    "            cond_2 = 'DROPPED' in df_test_acq.loc[idx+1 , 'Action']\n",
    "\n",
    "            if cond_1 and cond_2:\n",
    "\n",
    "                n += 1            \n",
    "                df_stints = get_stint_info(proteam, df_test_acq , df_proteam_schedules_one_team , n , idx, \n",
    "                                          is_current = False)\n",
    "\n",
    "    # in case if the player is still on a team, get current stint:\n",
    "    if 'ADDED' in df_test_acq.loc[max_idx , 'Action']:\n",
    "        n = n+1\n",
    "        df_stints = get_stint_info(proteam, df_test_acq , df_proteam_schedules_one_team , n , max_idx, \n",
    "                                          is_current = True)\n",
    "        \n",
    "    return df_stints"
   ]
  },
  {
   "cell_type": "code",
   "execution_count": 51,
   "metadata": {},
   "outputs": [],
   "source": [
    "# get all players who have been involved in the fantasy league\n",
    "import datetime\n",
    "# from datetime import date\n",
    "\n",
    "\n",
    "df_ls = []\n",
    "all_player_ls = list(set(df_acq_final1['Player'].tolist()))\n",
    "\n",
    "cols = ['Player' , 'ProTeam' , 'Team' , 'Action' , 'Bid Amount ($)' , 'Stint (wks)']\n",
    "\n",
    "for player_test in all_player_ls:\n",
    "    df_stints = pd.DataFrame(data=[] , columns = cols)\n",
    "    df_stints = get_df_stints(player_test , df_acq_final1)\n",
    "    df_ls.append(df_stints)\n",
    "    \n",
    "df_stints_f = pd.concat(df_ls,axis=0)\n",
    "\n",
    "df_stints_f.reset_index(inplace=True)"
   ]
  },
  {
   "cell_type": "code",
   "execution_count": 53,
   "metadata": {},
   "outputs": [
    {
     "data": {
      "text/html": [
       "<div>\n",
       "<style scoped>\n",
       "    .dataframe tbody tr th:only-of-type {\n",
       "        vertical-align: middle;\n",
       "    }\n",
       "\n",
       "    .dataframe tbody tr th {\n",
       "        vertical-align: top;\n",
       "    }\n",
       "\n",
       "    .dataframe thead th {\n",
       "        text-align: right;\n",
       "    }\n",
       "</style>\n",
       "<table border=\"1\" class=\"dataframe\">\n",
       "  <thead>\n",
       "    <tr style=\"text-align: right;\">\n",
       "      <th></th>\n",
       "      <th>index</th>\n",
       "      <th>Player</th>\n",
       "      <th>ProTeam</th>\n",
       "      <th>Team</th>\n",
       "      <th>Action</th>\n",
       "      <th>Bid Amount ($)</th>\n",
       "      <th>Stint (wks)</th>\n",
       "    </tr>\n",
       "  </thead>\n",
       "  <tbody>\n",
       "    <tr>\n",
       "      <th>0</th>\n",
       "      <td>1</td>\n",
       "      <td>Austin Ekeler</td>\n",
       "      <td>LAC</td>\n",
       "      <td>Don't Ekele Me</td>\n",
       "      <td>DRAFT</td>\n",
       "      <td>54</td>\n",
       "      <td>[1, 2, 3, 4, 5, 6, 8, 9, 10, 11, 12, 13, 14, 1...</td>\n",
       "    </tr>\n",
       "    <tr>\n",
       "      <th>1</th>\n",
       "      <td>1</td>\n",
       "      <td>Matthew Stafford</td>\n",
       "      <td>LAR</td>\n",
       "      <td>Tier 2 never felt so good</td>\n",
       "      <td>DRAFT</td>\n",
       "      <td>1</td>\n",
       "      <td>[1, 2, 3, 4, 5, 6, 7, 8, 9, 10, 12, 13, 14, 15...</td>\n",
       "    </tr>\n",
       "    <tr>\n",
       "      <th>2</th>\n",
       "      <td>1</td>\n",
       "      <td>Ronald Jones II</td>\n",
       "      <td>TB</td>\n",
       "      <td>Repeat Donger</td>\n",
       "      <td>DRAFT</td>\n",
       "      <td>2</td>\n",
       "      <td>[1, 2]</td>\n",
       "    </tr>\n",
       "    <tr>\n",
       "      <th>3</th>\n",
       "      <td>2</td>\n",
       "      <td>Ronald Jones II</td>\n",
       "      <td>TB</td>\n",
       "      <td>Ice City USA</td>\n",
       "      <td>WAIVER</td>\n",
       "      <td>1</td>\n",
       "      <td>[]</td>\n",
       "    </tr>\n",
       "    <tr>\n",
       "      <th>4</th>\n",
       "      <td>3</td>\n",
       "      <td>Ronald Jones II</td>\n",
       "      <td>TB</td>\n",
       "      <td>Tasteful Dak Piks, by CMC</td>\n",
       "      <td>WAIVER</td>\n",
       "      <td>1</td>\n",
       "      <td>[16, 17]</td>\n",
       "    </tr>\n",
       "  </tbody>\n",
       "</table>\n",
       "</div>"
      ],
      "text/plain": [
       "   index            Player ProTeam                       Team  Action  \\\n",
       "0      1     Austin Ekeler     LAC             Don't Ekele Me   DRAFT   \n",
       "1      1  Matthew Stafford     LAR  Tier 2 never felt so good   DRAFT   \n",
       "2      1   Ronald Jones II      TB              Repeat Donger   DRAFT   \n",
       "3      2   Ronald Jones II      TB               Ice City USA  WAIVER   \n",
       "4      3   Ronald Jones II      TB  Tasteful Dak Piks, by CMC  WAIVER   \n",
       "\n",
       "  Bid Amount ($)                                        Stint (wks)  \n",
       "0             54  [1, 2, 3, 4, 5, 6, 8, 9, 10, 11, 12, 13, 14, 1...  \n",
       "1              1  [1, 2, 3, 4, 5, 6, 7, 8, 9, 10, 12, 13, 14, 15...  \n",
       "2              2                                             [1, 2]  \n",
       "3              1                                                 []  \n",
       "4              1                                           [16, 17]  "
      ]
     },
     "execution_count": 53,
     "metadata": {},
     "output_type": "execute_result"
    }
   ],
   "source": [
    "df_stints_f.head()"
   ]
  },
  {
   "cell_type": "markdown",
   "metadata": {},
   "source": [
    "## Get total fantasy points scored into Stints Dataframe "
   ]
  },
  {
   "cell_type": "code",
   "execution_count": 54,
   "metadata": {},
   "outputs": [],
   "source": [
    "# df_player_box_scores[df_player_box_scores['Player'].str.contains('Amon')]"
   ]
  },
  {
   "cell_type": "code",
   "execution_count": 55,
   "metadata": {},
   "outputs": [],
   "source": [
    "# df_stints_f[df_stints_f['Player'].str.contains('Amon')]"
   ]
  },
  {
   "cell_type": "code",
   "execution_count": 56,
   "metadata": {},
   "outputs": [],
   "source": [
    "# inputs: Player name, stint in weeks, get total points from df_player_box_scores\n",
    "\n",
    "# player_test = 'Derrick Henry'\n",
    "# stint_wk_ls = [1, 2, 3, 4, 5, 6, 7, 8]\n",
    "\n",
    "# cond_a = df_player_box_scores['Player'] == player_test\n",
    "# cond_b = df_player_box_scores['Week'].isin(stint_wk_ls)\n",
    "\n",
    "# df_player_box_scores[cond_a & cond_b]['Total points'].sum()"
   ]
  },
  {
   "cell_type": "code",
   "execution_count": 57,
   "metadata": {},
   "outputs": [],
   "source": [
    "# Build position dict:\n",
    "# Dictionary of all players' positions\n",
    "ls1 = df_player_stats.index.tolist()\n",
    "ls2 = df_player_stats['Position'].tolist()\n",
    "\n",
    "position_dict = dict(zip(ls1,ls2))"
   ]
  },
  {
   "cell_type": "code",
   "execution_count": 58,
   "metadata": {},
   "outputs": [],
   "source": [
    "df_stints_f['Position'] = df_stints_f['Player'].map(position_dict)\n",
    "\n",
    "for idx, row in df_stints_f.iterrows():\n",
    "    player_test = row['Player']\n",
    "    stint_wk_ls = row['Stint (wks)']\n",
    "    \n",
    "    cond_a = df_player_box_scores['Player'] == player_test\n",
    "#     df_stints_f.loc[idx,'Position'] = df_player_box_scores[cond_a]['Position'].tolist()[0]\n",
    "\n",
    "    # if not an empty list\n",
    "    if stint_wk_ls:\n",
    "        cond_b = df_player_box_scores['Week'].isin(stint_wk_ls)\n",
    "\n",
    "        df_player_box_scores[cond_a & cond_b]['Total points'].sum()\n",
    "        df_stints_f.loc[idx,'Total points'] = df_player_box_scores[cond_a & cond_b]['Total points'].sum()\n",
    "        \n",
    "    else:\n",
    "        df_stints_f.loc[idx,'Total points'] = 0\n",
    "\n",
    "df_stints_f = df_stints_f.sort_values(by=['Total points'],ascending=False)\n",
    "\n",
    "df_stints_f.reset_index(inplace=True)\n",
    "\n",
    "df_stints_f= df_stints_f[['Player','Position','Team','ProTeam','Action','Bid Amount ($)', 'Stint (wks)', 'Total points']]\n",
    "\n",
    "df_stints_f.index.name = 'Stint'"
   ]
  },
  {
   "cell_type": "code",
   "execution_count": 99,
   "metadata": {},
   "outputs": [],
   "source": [
    "df_stints_f['Total points'] = df_stints_f['Total points'].round(1)"
   ]
  },
  {
   "cell_type": "code",
   "execution_count": 100,
   "metadata": {},
   "outputs": [],
   "source": [
    "df_stints_f['Player-info'] = df_stints_f['Player'] + ', ' + df_stints_f['Position'] + ' (' + df_stints_f['ProTeam'] + ')'"
   ]
  },
  {
   "cell_type": "code",
   "execution_count": 101,
   "metadata": {},
   "outputs": [
    {
     "data": {
      "text/html": [
       "<div>\n",
       "<style scoped>\n",
       "    .dataframe tbody tr th:only-of-type {\n",
       "        vertical-align: middle;\n",
       "    }\n",
       "\n",
       "    .dataframe tbody tr th {\n",
       "        vertical-align: top;\n",
       "    }\n",
       "\n",
       "    .dataframe thead th {\n",
       "        text-align: right;\n",
       "    }\n",
       "</style>\n",
       "<table border=\"1\" class=\"dataframe\">\n",
       "  <thead>\n",
       "    <tr style=\"text-align: right;\">\n",
       "      <th></th>\n",
       "      <th>Player</th>\n",
       "      <th>Position</th>\n",
       "      <th>Team</th>\n",
       "      <th>ProTeam</th>\n",
       "      <th>Action</th>\n",
       "      <th>Bid Amount ($)</th>\n",
       "      <th>Stint (wks)</th>\n",
       "      <th>Total points</th>\n",
       "      <th>Player-info</th>\n",
       "    </tr>\n",
       "    <tr>\n",
       "      <th>Stint</th>\n",
       "      <th></th>\n",
       "      <th></th>\n",
       "      <th></th>\n",
       "      <th></th>\n",
       "      <th></th>\n",
       "      <th></th>\n",
       "      <th></th>\n",
       "      <th></th>\n",
       "      <th></th>\n",
       "    </tr>\n",
       "  </thead>\n",
       "  <tbody>\n",
       "    <tr>\n",
       "      <th>0</th>\n",
       "      <td>Josh Allen</td>\n",
       "      <td>QB</td>\n",
       "      <td>Don't Ekele Me</td>\n",
       "      <td>BUF</td>\n",
       "      <td>DRAFT</td>\n",
       "      <td>13</td>\n",
       "      <td>[1, 2, 3, 4, 5, 6, 8, 9, 10, 11, 12, 13, 14, 1...</td>\n",
       "      <td>377.4</td>\n",
       "      <td>Josh Allen, QB (BUF)</td>\n",
       "    </tr>\n",
       "    <tr>\n",
       "      <th>1</th>\n",
       "      <td>Tom Brady</td>\n",
       "      <td>QB</td>\n",
       "      <td>Fumble .</td>\n",
       "      <td>TB</td>\n",
       "      <td>DRAFT</td>\n",
       "      <td>1</td>\n",
       "      <td>[1, 2, 3, 4, 5, 6, 7, 8, 10, 11, 12, 13, 14, 1...</td>\n",
       "      <td>354.5</td>\n",
       "      <td>Tom Brady, QB (TB)</td>\n",
       "    </tr>\n",
       "    <tr>\n",
       "      <th>2</th>\n",
       "      <td>Justin Herbert</td>\n",
       "      <td>QB</td>\n",
       "      <td>Frankel's Cankles</td>\n",
       "      <td>LAC</td>\n",
       "      <td>DRAFT</td>\n",
       "      <td>3</td>\n",
       "      <td>[1, 2, 3, 4, 5, 6, 8, 9, 10, 11, 12, 13, 14, 1...</td>\n",
       "      <td>352.3</td>\n",
       "      <td>Justin Herbert, QB (LAC)</td>\n",
       "    </tr>\n",
       "    <tr>\n",
       "      <th>3</th>\n",
       "      <td>Cooper Kupp</td>\n",
       "      <td>WR</td>\n",
       "      <td>Fumble .</td>\n",
       "      <td>LAR</td>\n",
       "      <td>DRAFT</td>\n",
       "      <td>29</td>\n",
       "      <td>[1, 2, 3, 4, 5, 6, 7, 8, 9, 10, 12, 13, 14, 15...</td>\n",
       "      <td>343.9</td>\n",
       "      <td>Cooper Kupp, WR (LAR)</td>\n",
       "    </tr>\n",
       "    <tr>\n",
       "      <th>4</th>\n",
       "      <td>Jonathan Taylor</td>\n",
       "      <td>RB</td>\n",
       "      <td>Godwin's Memorial</td>\n",
       "      <td>IND</td>\n",
       "      <td>DRAFT</td>\n",
       "      <td>58</td>\n",
       "      <td>[1, 2, 3, 4, 5, 6, 7, 8, 9, 10, 11, 12, 13, 15...</td>\n",
       "      <td>342.1</td>\n",
       "      <td>Jonathan Taylor, RB (IND)</td>\n",
       "    </tr>\n",
       "  </tbody>\n",
       "</table>\n",
       "</div>"
      ],
      "text/plain": [
       "                Player Position               Team ProTeam Action  \\\n",
       "Stint                                                               \n",
       "0           Josh Allen       QB     Don't Ekele Me     BUF  DRAFT   \n",
       "1            Tom Brady       QB           Fumble .      TB  DRAFT   \n",
       "2       Justin Herbert       QB  Frankel's Cankles     LAC  DRAFT   \n",
       "3          Cooper Kupp       WR           Fumble .     LAR  DRAFT   \n",
       "4      Jonathan Taylor       RB  Godwin's Memorial     IND  DRAFT   \n",
       "\n",
       "      Bid Amount ($)                                        Stint (wks)  \\\n",
       "Stint                                                                     \n",
       "0                 13  [1, 2, 3, 4, 5, 6, 8, 9, 10, 11, 12, 13, 14, 1...   \n",
       "1                  1  [1, 2, 3, 4, 5, 6, 7, 8, 10, 11, 12, 13, 14, 1...   \n",
       "2                  3  [1, 2, 3, 4, 5, 6, 8, 9, 10, 11, 12, 13, 14, 1...   \n",
       "3                 29  [1, 2, 3, 4, 5, 6, 7, 8, 9, 10, 12, 13, 14, 15...   \n",
       "4                 58  [1, 2, 3, 4, 5, 6, 7, 8, 9, 10, 11, 12, 13, 15...   \n",
       "\n",
       "       Total points                Player-info  \n",
       "Stint                                           \n",
       "0             377.4       Josh Allen, QB (BUF)  \n",
       "1             354.5         Tom Brady, QB (TB)  \n",
       "2             352.3   Justin Herbert, QB (LAC)  \n",
       "3             343.9      Cooper Kupp, WR (LAR)  \n",
       "4             342.1  Jonathan Taylor, RB (IND)  "
      ]
     },
     "execution_count": 101,
     "metadata": {},
     "output_type": "execute_result"
    }
   ],
   "source": [
    "df_stints_f.head()"
   ]
  },
  {
   "cell_type": "markdown",
   "metadata": {},
   "source": [
    "# Plot Values Scatterplots"
   ]
  },
  {
   "cell_type": "markdown",
   "metadata": {},
   "source": [
    "## Draft Scatterplots"
   ]
  },
  {
   "cell_type": "code",
   "execution_count": 239,
   "metadata": {},
   "outputs": [],
   "source": [
    "def get_acquisitions_scatterplot(df , position_subset , acquisition_method):\n",
    "    import plotly.express as px\n",
    "    \n",
    "    plot_title = position_subset + ' ' + acquisition_method + ' Spending vs. Total Fantasy Points'\n",
    "    f=px.scatter(df, x=\"Bid Amount ($)\", y=\"Total points\",\n",
    "                 hover_name=\"Player-info\", \n",
    "                 hover_data = ['Team','Bid Amount ($)','Total points','Stint (wks)'],\n",
    "                 width=900, height=700,color='Team',title=plot_title)\n",
    "\n",
    "    x_min_pos = 10\n",
    "    y_min_pos = 10\n",
    "    x_max_pos = int(df[\"Bid Amount ($)\"].max())\n",
    "    y_max_pos = int(df[\"Total points\"].max())\n",
    "\n",
    "    f.update_layout(xaxis_range=[-1, int(df[\"Bid Amount ($)\"].max()*1.2)])\n",
    "    f.update_layout(yaxis_range=[-5,int(df[\"Total points\"].max()*1.2)])\n",
    "\n",
    "    f.show()\n",
    "\n",
    "    import plotly.io as pio\n",
    "    # pio.write_html(f, file=output_filename, auto_open=True, include_plotlyjs=\"cdn\")\n",
    "    \n",
    "    return"
   ]
  },
  {
   "cell_type": "code",
   "execution_count": 240,
   "metadata": {},
   "outputs": [],
   "source": [
    "# Filter for stints >= 3\n",
    "def get_bool_len(x):\n",
    "    z = len(x) >= 2\n",
    "    return z"
   ]
  },
  {
   "cell_type": "code",
   "execution_count": 241,
   "metadata": {},
   "outputs": [],
   "source": [
    "df_stints_f_draft = df_stints_f[df_stints_f['Action'] == 'DRAFT']\n",
    "df_stints_f_draft = df_stints_f_draft.sort_values(by = ['Bid Amount ($)'],ascending=False)"
   ]
  },
  {
   "cell_type": "code",
   "execution_count": 242,
   "metadata": {},
   "outputs": [
    {
     "data": {
      "application/vnd.plotly.v1+json": {
       "config": {
        "plotlyServerURL": "https://plot.ly"
       },
       "data": [
        {
         "customdata": [
          [
           "Ice City USA",
           84,
           184.3,
           [
            1,
            2,
            3,
            4,
            5,
            6,
            7,
            8
           ]
          ],
          [
           "Ice City USA",
           42,
           198.5,
           [
            1,
            2,
            3,
            4,
            5,
            6,
            7,
            8,
            10,
            11,
            12,
            13,
            14,
            15,
            16,
            17
           ]
          ],
          [
           "Ice City USA",
           30,
           165.1,
           [
            1,
            2,
            3,
            4,
            5,
            6,
            7,
            8,
            9,
            11,
            12,
            13,
            14,
            15,
            16,
            17
           ]
          ],
          [
           "Ice City USA",
           16,
           235.1,
           [
            1,
            2,
            3,
            4,
            5,
            6,
            7,
            9,
            10,
            11,
            12,
            13,
            14,
            15,
            16,
            17
           ]
          ],
          [
           "Ice City USA",
           12,
           148,
           [
            1,
            2,
            3,
            4,
            5,
            6,
            7,
            8,
            9,
            10,
            11,
            12,
            13,
            15,
            16,
            17
           ]
          ],
          [
           "Ice City USA",
           2,
           4.4,
           [
            1
           ]
          ],
          [
           "Ice City USA",
           2,
           18.5,
           [
            1,
            2
           ]
          ],
          [
           "Ice City USA",
           1,
           40.8,
           [
            1,
            2,
            3,
            4,
            5
           ]
          ],
          [
           "Ice City USA",
           1,
           0,
           []
          ],
          [
           "Ice City USA",
           1,
           221.1,
           [
            1,
            2,
            3,
            4,
            5,
            6,
            7,
            8,
            10,
            11,
            12,
            13,
            14,
            15,
            16,
            17
           ]
          ]
         ],
         "hovertemplate": "<b>%{hovertext}</b><br><br>Team=%{customdata[0]}<br>Bid Amount ($)=%{customdata[1]}<br>Total points=%{customdata[2]}<br>Stint (wks)=%{customdata[3]}<extra></extra>",
         "hovertext": [
          "Derrick Henry, RB (TEN)",
          "DK Metcalf, WR (SEA)",
          "David Montgomery, RB (CHI)",
          "Mark Andrews, TE (BAL)",
          "DeVonta Smith, WR (PHI)",
          "Michael Pittman Jr., WR (IND)",
          "DJ Chark Jr., WR (JAX)",
          "Jaylen Waddle, WR (MIA)",
          "Nyheim Hines, RB (IND)",
          "Leonard Fournette, RB (TB)"
         ],
         "legendgroup": "Ice City USA",
         "marker": {
          "color": "#636efa",
          "symbol": "circle"
         },
         "mode": "markers",
         "name": "Ice City USA",
         "showlegend": true,
         "type": "scatter",
         "x": [
          84,
          42,
          30,
          16,
          12,
          2,
          2,
          1,
          1,
          1
         ],
         "xaxis": "x",
         "y": [
          184.3,
          198.5,
          165.1,
          235.1,
          148,
          4.4,
          18.5,
          40.8,
          0,
          221.1
         ],
         "yaxis": "y"
        },
        {
         "customdata": [
          [
           "Tasteful Dak Piks, by CMC",
           83,
           109,
           [
            1,
            2,
            3,
            4,
            5,
            6,
            7,
            8,
            9,
            10,
            11,
            12
           ]
          ],
          [
           "Tasteful Dak Piks, by CMC",
           63,
           278.3,
           [
            1,
            2,
            3,
            4,
            5,
            6,
            7,
            8,
            9,
            10,
            11,
            12,
            14,
            15,
            16,
            17
           ]
          ],
          [
           "Tasteful Dak Piks, by CMC",
           42,
           256.6,
           [
            1,
            2,
            3,
            4,
            5,
            6,
            8,
            9,
            10,
            11,
            12,
            13,
            14,
            15,
            16,
            17
           ]
          ],
          [
           "Tasteful Dak Piks, by CMC",
           1,
           5.3,
           [
            1,
            2
           ]
          ],
          [
           "Tasteful Dak Piks, by CMC",
           1,
           1.4,
           [
            1
           ]
          ],
          [
           "Tasteful Dak Piks, by CMC",
           1,
           0.8,
           [
            1
           ]
          ],
          [
           "Tasteful Dak Piks, by CMC",
           1,
           0,
           [
            1,
            2,
            3
           ]
          ],
          [
           "Tasteful Dak Piks, by CMC",
           1,
           25.2,
           [
            1,
            2,
            3
           ]
          ],
          [
           "Tasteful Dak Piks, by CMC",
           1,
           13,
           [
            1,
            2,
            3
           ]
          ]
         ],
         "hovertemplate": "<b>%{hovertext}</b><br><br>Team=%{customdata[0]}<br>Bid Amount ($)=%{customdata[1]}<br>Total points=%{customdata[2]}<br>Stint (wks)=%{customdata[3]}<extra></extra>",
         "hovertext": [
          "Christian McCaffrey, RB (CAR)",
          "Davante Adams, WR (GB)",
          "Justin Jefferson, WR (MIN)",
          "Russell Gage, WR (ATL)",
          "Chuba Hubbard, RB (CAR)",
          "J.D. McKissic, RB (WSH)",
          "Jamison Crowder, WR (NYJ)",
          "James White, RB (NE)",
          "Jonnu Smith, TE (NE)"
         ],
         "legendgroup": "Tasteful Dak Piks, by CMC",
         "marker": {
          "color": "#EF553B",
          "symbol": "circle"
         },
         "mode": "markers",
         "name": "Tasteful Dak Piks, by CMC",
         "showlegend": true,
         "type": "scatter",
         "x": [
          83,
          63,
          42,
          1,
          1,
          1,
          1,
          1,
          1
         ],
         "xaxis": "x",
         "y": [
          109,
          278.3,
          256.6,
          5.3,
          1.4,
          0.8,
          0,
          25.2,
          13
         ],
         "yaxis": "y"
        },
        {
         "customdata": [
          [
           "Dick Cheese",
           70,
           184.6,
           [
            1,
            2,
            3,
            4,
            5,
            6,
            8,
            9,
            10,
            11,
            12,
            13,
            14,
            15,
            16,
            17
           ]
          ],
          [
           "Dick Cheese",
           37,
           196.6,
           [
            1,
            2,
            3,
            4,
            5,
            6,
            8,
            9,
            10,
            11,
            12,
            13,
            14,
            15,
            16,
            17
           ]
          ],
          [
           "Dick Cheese",
           36,
           8.7,
           [
            1
           ]
          ],
          [
           "Dick Cheese",
           33,
           158.4,
           [
            1,
            2,
            3,
            4,
            5,
            6,
            8,
            9,
            10,
            11,
            12,
            13,
            14,
            15,
            16,
            17
           ]
          ],
          [
           "Dick Cheese",
           8,
           97.2,
           [
            1,
            2,
            3,
            4,
            5,
            6,
            7,
            8,
            9,
            10
           ]
          ],
          [
           "Dick Cheese",
           4,
           27.4,
           [
            1
           ]
          ],
          [
           "Dick Cheese",
           3,
           85.7,
           [
            1,
            2,
            3,
            4,
            5,
            7,
            8,
            9,
            10,
            11,
            12
           ]
          ],
          [
           "Dick Cheese",
           2,
           0,
           []
          ],
          [
           "Dick Cheese",
           2,
           100.1,
           [
            1,
            2,
            3,
            4,
            5,
            6,
            7,
            8,
            10,
            11,
            12,
            13,
            14,
            15,
            16,
            17
           ]
          ],
          [
           "Dick Cheese",
           1,
           137,
           [
            1,
            2,
            3,
            4,
            5,
            6,
            7,
            8,
            9,
            10,
            11,
            12,
            13,
            15,
            16,
            17
           ]
          ]
         ],
         "hovertemplate": "<b>%{hovertext}</b><br><br>Team=%{customdata[0]}<br>Bid Amount ($)=%{customdata[1]}<br>Total points=%{customdata[2]}<br>Stint (wks)=%{customdata[3]}<extra></extra>",
         "hovertext": [
          "Dalvin Cook, RB (MIN)",
          "Keenan Allen, WR (LAC)",
          "Clyde Edwards-Helaire, RB (KC)",
          "James Robinson, RB (JAX)",
          "Courtland Sutton, WR (DEN)",
          "Deebo Samuel, WR (SF)",
          "Corey Davis, WR (NYJ)",
          "Marvin Jones Jr., WR (JAX)",
          "Antonio Brown, WR (TB)",
          "Dallas Goedert, TE (PHI)"
         ],
         "legendgroup": "Dick Cheese",
         "marker": {
          "color": "#00cc96",
          "symbol": "circle"
         },
         "mode": "markers",
         "name": "Dick Cheese",
         "showlegend": true,
         "type": "scatter",
         "x": [
          70,
          37,
          36,
          33,
          8,
          4,
          3,
          2,
          2,
          1
         ],
         "xaxis": "x",
         "y": [
          184.6,
          196.6,
          8.7,
          158.4,
          97.2,
          27.4,
          85.7,
          0,
          100.1,
          137
         ],
         "yaxis": "y"
        },
        {
         "customdata": [
          [
           "Repeat Donger",
           70,
           218.9,
           [
            1,
            2,
            3,
            4,
            5,
            6,
            8,
            9,
            10,
            11,
            12,
            13,
            14,
            15,
            16,
            17
           ]
          ],
          [
           "Repeat Donger",
           57,
           215.4,
           [
            1,
            2,
            3,
            4,
            5,
            6,
            8,
            9,
            10,
            11,
            12,
            13,
            14,
            15,
            16,
            17
           ]
          ],
          [
           "Repeat Donger",
           20,
           104.3,
           [
            1,
            2,
            3,
            4,
            5,
            6,
            7,
            8,
            9,
            10,
            12,
            13,
            14,
            15,
            16,
            17
           ]
          ],
          [
           "Repeat Donger",
           16,
           177.6,
           [
            1,
            2,
            3,
            4,
            5,
            6,
            7,
            9,
            10,
            11,
            12,
            13,
            14,
            15,
            16,
            17
           ]
          ],
          [
           "Repeat Donger",
           10,
           99,
           [
            1,
            2,
            3,
            4,
            5,
            6,
            7,
            8,
            9,
            10,
            11,
            12,
            14,
            15,
            16
           ]
          ],
          [
           "Repeat Donger",
           10,
           49,
           [
            1,
            2,
            3,
            4,
            5,
            6
           ]
          ],
          [
           "Repeat Donger",
           5,
           68.5,
           [
            1,
            2,
            3,
            4,
            5,
            6,
            7,
            8
           ]
          ],
          [
           "Repeat Donger",
           2,
           3.5,
           [
            1,
            2
           ]
          ],
          [
           "Repeat Donger",
           2,
           7.9,
           [
            1,
            2
           ]
          ],
          [
           "Repeat Donger",
           2,
           5.6,
           [
            1
           ]
          ]
         ],
         "hovertemplate": "<b>%{hovertext}</b><br><br>Team=%{customdata[0]}<br>Bid Amount ($)=%{customdata[1]}<br>Total points=%{customdata[2]}<br>Stint (wks)=%{customdata[3]}<extra></extra>",
         "hovertext": [
          "Ezekiel Elliott, RB (DAL)",
          "Stefon Diggs, WR (BUF)",
          "Odell Beckham Jr., WR (LAR)",
          "Josh Jacobs, RB (OAK)",
          "Kareem Hunt, RB (CLE)",
          "Tyler Boyd, WR (CIN)",
          "Noah Fant, TE (DEN)",
          "Ronald Jones II, RB (TB)",
          "James Conner, RB (ARI)",
          "Michael Gallup, WR (DAL)"
         ],
         "legendgroup": "Repeat Donger",
         "marker": {
          "color": "#ab63fa",
          "symbol": "circle"
         },
         "mode": "markers",
         "name": "Repeat Donger",
         "showlegend": true,
         "type": "scatter",
         "x": [
          70,
          57,
          20,
          16,
          10,
          10,
          5,
          2,
          2,
          2
         ],
         "xaxis": "x",
         "y": [
          218.9,
          215.4,
          104.3,
          177.6,
          99,
          49,
          68.5,
          3.5,
          7.9,
          5.6
         ],
         "yaxis": "y"
        },
        {
         "customdata": [
          [
           "More than a  Thielen",
           68,
           194,
           [
            1,
            2,
            3,
            4,
            5,
            7,
            8,
            9,
            10,
            11,
            12,
            13,
            14,
            15,
            16,
            17
           ]
          ],
          [
           "More than a  Thielen",
           35,
           102.8,
           [
            1,
            2,
            3,
            4,
            5,
            6,
            7,
            9,
            10,
            11,
            12,
            13,
            14,
            15,
            16,
            17
           ]
          ],
          [
           "More than a  Thielen",
           33,
           114.7,
           [
            1,
            2,
            3,
            4,
            5,
            6,
            7,
            8,
            9,
            10
           ]
          ],
          [
           "More than a  Thielen",
           21,
           166.3,
           [
            1,
            2,
            3,
            4,
            5,
            6,
            8,
            9,
            10,
            11,
            12,
            13,
            14,
            15,
            16,
            17
           ]
          ],
          [
           "More than a  Thielen",
           6,
           176,
           [
            1,
            2,
            3,
            4,
            5,
            6,
            7,
            8,
            9,
            10,
            12,
            13,
            14,
            15,
            16,
            17
           ]
          ],
          [
           "More than a  Thielen",
           5,
           68.9,
           [
            1,
            2,
            3,
            4,
            5,
            6,
            8,
            9,
            10
           ]
          ],
          [
           "More than a  Thielen",
           3,
           24.9,
           [
            1,
            2,
            3,
            4
           ]
          ],
          [
           "More than a  Thielen",
           2,
           186.2,
           [
            1,
            2,
            3,
            4,
            5,
            6,
            8,
            9,
            10,
            11,
            12,
            13,
            14,
            15,
            16,
            17
           ]
          ],
          [
           "More than a  Thielen",
           1,
           16,
           [
            1,
            2
           ]
          ],
          [
           "More than a  Thielen",
           1,
           15.4,
           [
            1,
            2
           ]
          ]
         ],
         "hovertemplate": "<b>%{hovertext}</b><br><br>Team=%{customdata[0]}<br>Bid Amount ($)=%{customdata[1]}<br>Total points=%{customdata[2]}<br>Stint (wks)=%{customdata[3]}<extra></extra>",
         "hovertext": [
          "Alvin Kamara, RB (NO)",
          "Darren Waller, TE (OAK)",
          "Robert Woods, WR (LAR)",
          "Adam Thielen, WR (MIN)",
          "Javonte Williams, RB (DEN)",
          "Chase Claypool, WR (PIT)",
          "Kenyan Drake, RB (OAK)",
          "Mike Williams, WR (LAC)",
          "David Johnson, RB (HOU)",
          "Jalen Reagor, WR (PHI)"
         ],
         "legendgroup": "More than a  Thielen",
         "marker": {
          "color": "#FFA15A",
          "symbol": "circle"
         },
         "mode": "markers",
         "name": "More than a  Thielen",
         "showlegend": true,
         "type": "scatter",
         "x": [
          68,
          35,
          33,
          21,
          6,
          5,
          3,
          2,
          1,
          1
         ],
         "xaxis": "x",
         "y": [
          194,
          102.8,
          114.7,
          166.3,
          176,
          68.9,
          24.9,
          186.2,
          16,
          15.4
         ],
         "yaxis": "y"
        },
        {
         "customdata": [
          [
           "Favre's Wranglers",
           67,
           205.4,
           [
            1,
            2,
            3,
            4,
            5,
            6,
            7,
            8,
            9,
            10,
            11,
            13,
            14,
            15,
            16,
            17
           ]
          ],
          [
           "Favre's Wranglers",
           63,
           121.7,
           [
            1,
            2,
            3,
            4,
            5,
            6,
            7,
            8,
            9,
            11,
            12,
            13,
            14,
            15,
            16,
            17
           ]
          ],
          [
           "Favre's Wranglers",
           30,
           201.6,
           [
            1,
            2,
            3,
            4,
            5,
            6,
            7,
            8,
            10,
            11,
            12,
            13,
            14,
            15,
            16,
            17
           ]
          ],
          [
           "Favre's Wranglers",
           17,
           177.5,
           [
            1,
            2,
            3,
            4,
            5,
            6,
            7,
            8,
            9,
            10,
            11,
            12,
            14,
            15,
            16,
            17
           ]
          ],
          [
           "Favre's Wranglers",
           9,
           66.9,
           [
            1,
            2,
            3,
            4,
            5,
            6,
            7,
            8,
            9,
            11,
            12,
            13,
            14,
            15,
            16,
            17
           ]
          ],
          [
           "Favre's Wranglers",
           7,
           62,
           [
            1,
            2,
            3,
            4,
            5,
            6,
            7,
            8,
            9,
            10,
            12,
            13,
            14,
            15,
            16,
            17
           ]
          ],
          [
           "Favre's Wranglers",
           1,
           137.8,
           [
            1,
            2,
            3,
            4,
            5,
            6,
            7,
            8,
            9,
            10,
            11,
            12,
            13,
            15,
            16,
            17
           ]
          ],
          [
           "Favre's Wranglers",
           1,
           0,
           [
            1
           ]
          ],
          [
           "Favre's Wranglers",
           1,
           108,
           [
            1,
            2,
            3,
            4,
            5,
            6,
            8,
            9,
            10,
            11,
            12,
            13,
            14,
            15
           ]
          ],
          [
           "Favre's Wranglers",
           1,
           84.4,
           [
            1,
            2,
            3,
            4,
            5,
            6,
            8,
            9,
            10,
            11,
            12,
            13,
            14,
            15
           ]
          ]
         ],
         "hovertemplate": "<b>%{hovertext}</b><br><br>Team=%{customdata[0]}<br>Bid Amount ($)=%{customdata[1]}<br>Total points=%{customdata[2]}<br>Stint (wks)=%{customdata[3]}<extra></extra>",
         "hovertext": [
          "Travis Kelce, TE (KC)",
          "Saquon Barkley, RB (NYG)",
          "Mike Evans, WR (TB)",
          "DJ Moore, WR (CAR)",
          "Kenny Golladay, WR (NYG)",
          "Jerry Jeudy, WR (DEN)",
          "Jakobi Meyers, WR (NE)",
          "Curtis Samuel, WR (WSH)",
          "Cole Beasley, WR (BUF)",
          "Zack Moss, RB (BUF)"
         ],
         "legendgroup": "Favre's Wranglers",
         "marker": {
          "color": "#19d3f3",
          "symbol": "circle"
         },
         "mode": "markers",
         "name": "Favre's Wranglers",
         "showlegend": true,
         "type": "scatter",
         "x": [
          67,
          63,
          30,
          17,
          9,
          7,
          1,
          1,
          1,
          1
         ],
         "xaxis": "x",
         "y": [
          205.4,
          121.7,
          201.6,
          177.5,
          66.9,
          62,
          137.8,
          0,
          108,
          84.4
         ],
         "yaxis": "y"
        },
        {
         "customdata": [
          [
           "Your Antivax Cousins",
           61,
           193,
           [
            1,
            2,
            3,
            4,
            5,
            6,
            7,
            8,
            9,
            10,
            11,
            12,
            14,
            15,
            16
           ]
          ],
          [
           "Your Antivax Cousins",
           49,
           186.5,
           [
            1,
            2,
            3,
            4,
            5,
            6,
            7,
            8,
            10,
            11,
            12,
            13,
            14,
            15,
            16,
            17
           ]
          ],
          [
           "Your Antivax Cousins",
           43,
           55.6,
           [
            1,
            2,
            3,
            4,
            5,
            7,
            8,
            9,
            10,
            11,
            12,
            13
           ]
          ],
          [
           "Your Antivax Cousins",
           22,
           180.4,
           [
            1,
            2,
            3,
            4,
            5,
            6,
            7,
            8,
            10,
            11,
            12,
            13,
            14,
            15,
            16,
            17
           ]
          ],
          [
           "Your Antivax Cousins",
           5,
           45.6,
           [
            1,
            2,
            3,
            4,
            5,
            6
           ]
          ],
          [
           "Your Antivax Cousins",
           3,
           268.5,
           [
            1,
            2,
            3,
            4,
            5,
            6,
            7,
            8,
            9,
            11,
            12,
            13,
            14,
            15,
            16,
            17
           ]
          ],
          [
           "Your Antivax Cousins",
           3,
           20.8,
           [
            1,
            2,
            3,
            4,
            5
           ]
          ],
          [
           "Your Antivax Cousins",
           3,
           16.2,
           [
            1,
            2,
            3
           ]
          ],
          [
           "Your Antivax Cousins",
           1,
           3.4,
           [
            1
           ]
          ],
          [
           "Your Antivax Cousins",
           1,
           71.4,
           [
            1,
            2,
            3,
            4,
            5,
            6,
            7,
            8,
            9,
            10
           ]
          ]
         ],
         "hovertemplate": "<b>%{hovertext}</b><br><br>Team=%{customdata[0]}<br>Bid Amount ($)=%{customdata[1]}<br>Total points=%{customdata[2]}<br>Stint (wks)=%{customdata[3]}<extra></extra>",
         "hovertext": [
          "Nick Chubb, RB (CLE)",
          "Antonio Gibson, RB (WSH)",
          "Calvin Ridley, WR (ATL)",
          "Tyler Lockett, WR (SEA)",
          "Laviska Shenault Jr., WR (JAX)",
          "Ja'Marr Chase, WR (CIN)",
          "Trey Sermon, RB (SF)",
          "Michael Carter, RB (NYJ)",
          "Mecole Hardman, WR (KC)",
          "Tyler Higbee, TE (LAR)"
         ],
         "legendgroup": "Your Antivax Cousins",
         "marker": {
          "color": "#FF6692",
          "symbol": "circle"
         },
         "mode": "markers",
         "name": "Your Antivax Cousins",
         "showlegend": true,
         "type": "scatter",
         "x": [
          61,
          49,
          43,
          22,
          5,
          3,
          3,
          3,
          1,
          1
         ],
         "xaxis": "x",
         "y": [
          193,
          186.5,
          55.6,
          180.4,
          45.6,
          268.5,
          20.8,
          16.2,
          3.4,
          71.4
         ],
         "yaxis": "y"
        },
        {
         "customdata": [
          [
           "Godwin's Memorial",
           58,
           342.1,
           [
            1,
            2,
            3,
            4,
            5,
            6,
            7,
            8,
            9,
            10,
            11,
            12,
            13,
            15,
            16,
            17
           ]
          ],
          [
           "Godwin's Memorial",
           38,
           134.6,
           [
            1,
            2,
            3,
            4,
            5,
            6,
            7,
            8,
            9,
            10,
            11,
            12,
            14,
            15,
            16,
            17
           ]
          ],
          [
           "Godwin's Memorial",
           19,
           193.4,
           [
            1,
            2,
            3,
            4,
            5,
            6,
            7,
            8,
            10,
            11,
            12,
            13,
            14,
            15,
            16,
            17
           ]
          ],
          [
           "Godwin's Memorial",
           17,
           148.9,
           [
            1,
            2,
            3,
            4,
            5,
            6,
            7,
            8,
            9,
            10,
            12,
            13,
            14,
            15,
            16,
            17
           ]
          ],
          [
           "Godwin's Memorial",
           9,
           27.7,
           [
            1,
            2,
            3,
            4,
            5
           ]
          ],
          [
           "Godwin's Memorial",
           7,
           130.4,
           [
            1,
            2,
            3,
            4,
            5,
            6,
            7,
            8,
            9,
            10,
            12,
            13,
            14,
            15,
            16,
            17
           ]
          ],
          [
           "Godwin's Memorial",
           6,
           2,
           [
            1
           ]
          ],
          [
           "Godwin's Memorial",
           5,
           140.8,
           [
            1,
            2,
            3,
            4,
            5,
            7,
            8,
            9,
            10,
            11,
            12,
            13,
            14,
            15,
            16,
            17
           ]
          ],
          [
           "Godwin's Memorial",
           5,
           0,
           [
            1,
            2,
            3,
            4,
            5,
            7,
            8
           ]
          ],
          [
           "Godwin's Memorial",
           1,
           47.4,
           [
            1,
            2,
            3,
            4,
            5,
            6
           ]
          ]
         ],
         "hovertemplate": "<b>%{hovertext}</b><br><br>Team=%{customdata[0]}<br>Bid Amount ($)=%{customdata[1]}<br>Total points=%{customdata[2]}<br>Stint (wks)=%{customdata[3]}<extra></extra>",
         "hovertext": [
          "Jonathan Taylor, RB (IND)",
          "A.J. Brown, WR (TEN)",
          "Chris Godwin, WR (TB)",
          "Darrell Henderson Jr., RB (LAR)",
          "Logan Thomas, TE (WSH)",
          "Sony Michel, RB (LAR)",
          "Raheem Mostert, RB (SF)",
          "Kyle Pitts, TE (ATL)",
          "Michael Thomas, WR (NO)",
          "Devin Singletary, RB (BUF)"
         ],
         "legendgroup": "Godwin's Memorial",
         "marker": {
          "color": "#B6E880",
          "symbol": "circle"
         },
         "mode": "markers",
         "name": "Godwin's Memorial",
         "showlegend": true,
         "type": "scatter",
         "x": [
          58,
          38,
          19,
          17,
          9,
          7,
          6,
          5,
          5,
          1
         ],
         "xaxis": "x",
         "y": [
          342.1,
          134.6,
          193.4,
          148.9,
          27.7,
          130.4,
          2,
          140.8,
          0,
          47.4
         ],
         "yaxis": "y"
        },
        {
         "customdata": [
          [
           "Fumble .",
           57,
           240.3,
           [
            1,
            2,
            3,
            4,
            5,
            6,
            7,
            8,
            9,
            10,
            11,
            13,
            14,
            15,
            16,
            17
           ]
          ],
          [
           "Fumble .",
           36,
           163.7,
           [
            1,
            2,
            3,
            4,
            5,
            6,
            7,
            8,
            10,
            11,
            12,
            13,
            14,
            15,
            16,
            17
           ]
          ],
          [
           "Fumble .",
           29,
           20.4,
           [
            1
           ]
          ],
          [
           "Fumble .",
           29,
           343.9,
           [
            1,
            2,
            3,
            4,
            5,
            6,
            7,
            8,
            9,
            10,
            12,
            13,
            14,
            15,
            16,
            17
           ]
          ],
          [
           "Fumble .",
           14,
           10.1,
           [
            1
           ]
          ],
          [
           "Fumble .",
           12,
           71.6,
           [
            1,
            2,
            3,
            4,
            5,
            7,
            8,
            9,
            10,
            11,
            12
           ]
          ],
          [
           "Fumble .",
           5,
           165,
           [
            1,
            2,
            3,
            4,
            5,
            6,
            7,
            8,
            9,
            10,
            12,
            13,
            14,
            15,
            16,
            17
           ]
          ],
          [
           "Fumble .",
           1,
           0,
           [
            1
           ]
          ],
          [
           "Fumble .",
           1,
           29.4,
           [
            1,
            2,
            3
           ]
          ]
         ],
         "hovertemplate": "<b>%{hovertext}</b><br><br>Team=%{customdata[0]}<br>Bid Amount ($)=%{customdata[1]}<br>Total points=%{customdata[2]}<br>Stint (wks)=%{customdata[3]}<extra></extra>",
         "hovertext": [
          "Tyreek Hill, WR (KC)",
          "Terry McLaurin, WR (WSH)",
          "D'Andre Swift, RB (DET)",
          "Cooper Kupp, WR (LAR)",
          "Myles Gaskin, RB (MIA)",
          "Mike Davis, RB (ATL)",
          "Melvin Gordon III, RB (DEN)",
          "Mike Gesicki, TE (MIA)",
          "Ty'Son Williams, RB (BAL)"
         ],
         "legendgroup": "Fumble .",
         "marker": {
          "color": "#FF97FF",
          "symbol": "circle"
         },
         "mode": "markers",
         "name": "Fumble .",
         "showlegend": true,
         "type": "scatter",
         "x": [
          57,
          36,
          29,
          29,
          14,
          12,
          5,
          1,
          1
         ],
         "xaxis": "x",
         "y": [
          240.3,
          163.7,
          20.4,
          343.9,
          10.1,
          71.6,
          165,
          0,
          29.4
         ],
         "yaxis": "y"
        },
        {
         "customdata": [
          [
           "Frankel's Cankles",
           56,
           203,
           [
            1,
            2,
            3,
            4,
            5,
            6,
            7,
            8,
            9,
            10,
            11,
            12,
            14,
            15,
            16,
            17
           ]
          ],
          [
           "Frankel's Cankles",
           32,
           187.8,
           [
            1,
            2,
            3,
            4,
            5,
            6,
            8,
            9,
            10,
            11,
            12,
            13,
            14,
            15,
            16,
            17
           ]
          ],
          [
           "Frankel's Cankles",
           29,
           57.3,
           [
            1,
            2,
            3,
            4,
            5,
            6,
            7,
            8,
            9,
            11,
            12,
            13,
            14
           ]
          ],
          [
           "Frankel's Cankles",
           22,
           0,
           [
            1,
            2,
            3
           ]
          ],
          [
           "Frankel's Cankles",
           16,
           182.1,
           [
            1,
            2,
            3,
            4,
            5,
            6,
            7,
            8,
            9,
            11,
            12,
            13,
            14,
            15,
            16,
            17
           ]
          ],
          [
           "Frankel's Cankles",
           7,
           121.8,
           [
            1,
            2,
            3,
            4,
            5,
            6,
            7,
            8,
            9,
            10,
            11,
            13,
            14,
            15,
            16,
            17
           ]
          ],
          [
           "Frankel's Cankles",
           7,
           114.8,
           [
            1,
            2,
            3,
            4,
            5,
            6,
            7,
            8,
            10,
            11,
            12,
            13,
            14,
            15,
            16,
            17
           ]
          ],
          [
           "Frankel's Cankles",
           6,
           27.3,
           [
            1,
            2,
            3,
            4,
            5
           ]
          ],
          [
           "Frankel's Cankles",
           5,
           6.6,
           [
            1,
            2,
            3,
            4
           ]
          ]
         ],
         "hovertemplate": "<b>%{hovertext}</b><br><br>Team=%{customdata[0]}<br>Bid Amount ($)=%{customdata[1]}<br>Total points=%{customdata[2]}<br>Stint (wks)=%{customdata[3]}<extra></extra>",
         "hovertext": [
          "Aaron Jones, RB (GB)",
          "CeeDee Lamb, WR (DAL)",
          "Allen Robinson II, WR (CHI)",
          "Gus Edwards, RB (BAL)",
          "Tee Higgins, WR (CIN)",
          "Chase Edmonds, RB (ARI)",
          "T.J. Hockenson, TE (DET)",
          "JuJu Smith-Schuster, WR (PIT)",
          "William Fuller V, WR (MIA)"
         ],
         "legendgroup": "Frankel's Cankles",
         "marker": {
          "color": "#FECB52",
          "symbol": "circle"
         },
         "mode": "markers",
         "name": "Frankel's Cankles",
         "showlegend": true,
         "type": "scatter",
         "x": [
          56,
          32,
          29,
          22,
          16,
          7,
          7,
          6,
          5
         ],
         "xaxis": "x",
         "y": [
          203,
          187.8,
          57.3,
          0,
          182.1,
          121.8,
          114.8,
          27.3,
          6.6
         ],
         "yaxis": "y"
        },
        {
         "customdata": [
          [
           "Don't Ekele Me",
           54,
           282.4,
           [
            1,
            2,
            3,
            4,
            5,
            6,
            8,
            9,
            10,
            11,
            12,
            13,
            14,
            15,
            16,
            17
           ]
          ],
          [
           "Don't Ekele Me",
           32,
           159,
           [
            1,
            2,
            3,
            4,
            5,
            7,
            8,
            9,
            10,
            11,
            12,
            13,
            14,
            15,
            16,
            17
           ]
          ],
          [
           "Don't Ekele Me",
           30,
           53.3,
           [
            1,
            2,
            3,
            4,
            5,
            6,
            7
           ]
          ],
          [
           "Don't Ekele Me",
           29,
           158.1,
           [
            1,
            2,
            3,
            4,
            5,
            6,
            8,
            9,
            10,
            11,
            12,
            13,
            14,
            15,
            16,
            17
           ]
          ],
          [
           "Don't Ekele Me",
           17,
           199.2,
           [
            1,
            2,
            3,
            4,
            5,
            6,
            8,
            9,
            10,
            11,
            12,
            13,
            14,
            15,
            16
           ]
          ],
          [
           "Don't Ekele Me",
           8,
           18.8,
           [
            1,
            2,
            3
           ]
          ],
          [
           "Don't Ekele Me",
           8,
           182.7,
           [
            1,
            2,
            3,
            4,
            5,
            6,
            7,
            8,
            9,
            11,
            12,
            13,
            14,
            15,
            16,
            17
           ]
          ],
          [
           "Don't Ekele Me",
           3,
           0,
           []
          ],
          [
           "Don't Ekele Me",
           2,
           0,
           []
          ],
          [
           "Don't Ekele Me",
           1,
           55.4,
           [
            1,
            2,
            3,
            4,
            5,
            6
           ]
          ]
         ],
         "hovertemplate": "<b>%{hovertext}</b><br><br>Team=%{customdata[0]}<br>Bid Amount ($)=%{customdata[1]}<br>Total points=%{customdata[2]}<br>Stint (wks)=%{customdata[3]}<extra></extra>",
         "hovertext": [
          "Austin Ekeler, RB (LAC)",
          "George Kittle, TE (SF)",
          "Miles Sanders, RB (PHI)",
          "Amari Cooper, WR (DAL)",
          "Diontae Johnson, WR (PIT)",
          "Robby Anderson, WR (CAR)",
          "Brandin Cooks, WR (HOU)",
          "Jarvis Landry, WR (CLE)",
          "Marquise Brown, WR (BAL)",
          "Jamaal Williams, RB (DET)"
         ],
         "legendgroup": "Don't Ekele Me",
         "marker": {
          "color": "#636efa",
          "symbol": "circle"
         },
         "mode": "markers",
         "name": "Don't Ekele Me",
         "showlegend": true,
         "type": "scatter",
         "x": [
          54,
          32,
          30,
          29,
          17,
          8,
          8,
          3,
          2,
          1
         ],
         "xaxis": "x",
         "y": [
          282.4,
          159,
          53.3,
          158.1,
          199.2,
          18.8,
          182.7,
          0,
          0,
          55.4
         ],
         "yaxis": "y"
        },
        {
         "customdata": [
          [
           "Tier 2 never felt so good",
           51,
           228.1,
           [
            1,
            2,
            3,
            4,
            5,
            6,
            8,
            9,
            10,
            11,
            12,
            13,
            14,
            15,
            16
           ]
          ],
          [
           "Tier 2 never felt so good",
           45,
           126.2,
           [
            1,
            2,
            3,
            4,
            5,
            6,
            7,
            8,
            9,
            10,
            11,
            13,
            14,
            15,
            16,
            17
           ]
          ],
          [
           "Tier 2 never felt so good",
           40,
           266.9,
           [
            1,
            2,
            3,
            4,
            5,
            6,
            7,
            8,
            9,
            11,
            12,
            13,
            14,
            15,
            16,
            17
           ]
          ],
          [
           "Tier 2 never felt so good",
           28,
           45.1,
           [
            1,
            2,
            3,
            4,
            5,
            6,
            7,
            8,
            10,
            11
           ]
          ],
          [
           "Tier 2 never felt so good",
           18,
           49.4,
           [
            1,
            2,
            3,
            4,
            5,
            6,
            7,
            8,
            9,
            10,
            11,
            12,
            14,
            15
           ]
          ],
          [
           "Tier 2 never felt so good",
           5,
           185.8,
           [
            1,
            2,
            3,
            4,
            5,
            6,
            7,
            8,
            9,
            10,
            11,
            12,
            13,
            15,
            16,
            17
           ]
          ],
          [
           "Tier 2 never felt so good",
           2,
           161.4,
           [
            1,
            2,
            3,
            4,
            5,
            6,
            7,
            8,
            9,
            10,
            11,
            12,
            14,
            15,
            16,
            17
           ]
          ],
          [
           "Tier 2 never felt so good",
           1,
           116.1,
           [
            1,
            2,
            3,
            4,
            5,
            7,
            8,
            9,
            10,
            11,
            12,
            13,
            14,
            15,
            16
           ]
          ],
          [
           "Tier 2 never felt so good",
           1,
           41.4,
           [
            1,
            2,
            3,
            4,
            5,
            6,
            7,
            8,
            9,
            10,
            11
           ]
          ]
         ],
         "hovertemplate": "<b>%{hovertext}</b><br><br>Team=%{customdata[0]}<br>Bid Amount ($)=%{customdata[1]}<br>Total points=%{customdata[2]}<br>Stint (wks)=%{customdata[3]}<extra></extra>",
         "hovertext": [
          "Najee Harris, RB (PIT)",
          "DeAndre Hopkins, WR (ARI)",
          "Joe Mixon, RB (CIN)",
          "Chris Carson, RB (SEA)",
          "Julio Jones, WR (TEN)",
          "Damien Harris, RB (NE)",
          "AJ Dillon, RB (GB)",
          "Marquez Callaway, WR (NO)",
          "Robert Tonyan, TE (GB)"
         ],
         "legendgroup": "Tier 2 never felt so good",
         "marker": {
          "color": "#EF553B",
          "symbol": "circle"
         },
         "mode": "markers",
         "name": "Tier 2 never felt so good",
         "showlegend": true,
         "type": "scatter",
         "x": [
          51,
          45,
          40,
          28,
          18,
          5,
          2,
          1,
          1
         ],
         "xaxis": "x",
         "y": [
          228.1,
          126.2,
          266.9,
          45.1,
          49.4,
          185.8,
          161.4,
          116.1,
          41.4
         ],
         "yaxis": "y"
        }
       ],
       "layout": {
        "height": 700,
        "legend": {
         "title": {
          "text": "Team"
         },
         "tracegroupgap": 0
        },
        "template": {
         "data": {
          "bar": [
           {
            "error_x": {
             "color": "#2a3f5f"
            },
            "error_y": {
             "color": "#2a3f5f"
            },
            "marker": {
             "line": {
              "color": "#E5ECF6",
              "width": 0.5
             }
            },
            "type": "bar"
           }
          ],
          "barpolar": [
           {
            "marker": {
             "line": {
              "color": "#E5ECF6",
              "width": 0.5
             }
            },
            "type": "barpolar"
           }
          ],
          "carpet": [
           {
            "aaxis": {
             "endlinecolor": "#2a3f5f",
             "gridcolor": "white",
             "linecolor": "white",
             "minorgridcolor": "white",
             "startlinecolor": "#2a3f5f"
            },
            "baxis": {
             "endlinecolor": "#2a3f5f",
             "gridcolor": "white",
             "linecolor": "white",
             "minorgridcolor": "white",
             "startlinecolor": "#2a3f5f"
            },
            "type": "carpet"
           }
          ],
          "choropleth": [
           {
            "colorbar": {
             "outlinewidth": 0,
             "ticks": ""
            },
            "type": "choropleth"
           }
          ],
          "contour": [
           {
            "colorbar": {
             "outlinewidth": 0,
             "ticks": ""
            },
            "colorscale": [
             [
              0,
              "#0d0887"
             ],
             [
              0.1111111111111111,
              "#46039f"
             ],
             [
              0.2222222222222222,
              "#7201a8"
             ],
             [
              0.3333333333333333,
              "#9c179e"
             ],
             [
              0.4444444444444444,
              "#bd3786"
             ],
             [
              0.5555555555555556,
              "#d8576b"
             ],
             [
              0.6666666666666666,
              "#ed7953"
             ],
             [
              0.7777777777777778,
              "#fb9f3a"
             ],
             [
              0.8888888888888888,
              "#fdca26"
             ],
             [
              1,
              "#f0f921"
             ]
            ],
            "type": "contour"
           }
          ],
          "contourcarpet": [
           {
            "colorbar": {
             "outlinewidth": 0,
             "ticks": ""
            },
            "type": "contourcarpet"
           }
          ],
          "heatmap": [
           {
            "colorbar": {
             "outlinewidth": 0,
             "ticks": ""
            },
            "colorscale": [
             [
              0,
              "#0d0887"
             ],
             [
              0.1111111111111111,
              "#46039f"
             ],
             [
              0.2222222222222222,
              "#7201a8"
             ],
             [
              0.3333333333333333,
              "#9c179e"
             ],
             [
              0.4444444444444444,
              "#bd3786"
             ],
             [
              0.5555555555555556,
              "#d8576b"
             ],
             [
              0.6666666666666666,
              "#ed7953"
             ],
             [
              0.7777777777777778,
              "#fb9f3a"
             ],
             [
              0.8888888888888888,
              "#fdca26"
             ],
             [
              1,
              "#f0f921"
             ]
            ],
            "type": "heatmap"
           }
          ],
          "heatmapgl": [
           {
            "colorbar": {
             "outlinewidth": 0,
             "ticks": ""
            },
            "colorscale": [
             [
              0,
              "#0d0887"
             ],
             [
              0.1111111111111111,
              "#46039f"
             ],
             [
              0.2222222222222222,
              "#7201a8"
             ],
             [
              0.3333333333333333,
              "#9c179e"
             ],
             [
              0.4444444444444444,
              "#bd3786"
             ],
             [
              0.5555555555555556,
              "#d8576b"
             ],
             [
              0.6666666666666666,
              "#ed7953"
             ],
             [
              0.7777777777777778,
              "#fb9f3a"
             ],
             [
              0.8888888888888888,
              "#fdca26"
             ],
             [
              1,
              "#f0f921"
             ]
            ],
            "type": "heatmapgl"
           }
          ],
          "histogram": [
           {
            "marker": {
             "colorbar": {
              "outlinewidth": 0,
              "ticks": ""
             }
            },
            "type": "histogram"
           }
          ],
          "histogram2d": [
           {
            "colorbar": {
             "outlinewidth": 0,
             "ticks": ""
            },
            "colorscale": [
             [
              0,
              "#0d0887"
             ],
             [
              0.1111111111111111,
              "#46039f"
             ],
             [
              0.2222222222222222,
              "#7201a8"
             ],
             [
              0.3333333333333333,
              "#9c179e"
             ],
             [
              0.4444444444444444,
              "#bd3786"
             ],
             [
              0.5555555555555556,
              "#d8576b"
             ],
             [
              0.6666666666666666,
              "#ed7953"
             ],
             [
              0.7777777777777778,
              "#fb9f3a"
             ],
             [
              0.8888888888888888,
              "#fdca26"
             ],
             [
              1,
              "#f0f921"
             ]
            ],
            "type": "histogram2d"
           }
          ],
          "histogram2dcontour": [
           {
            "colorbar": {
             "outlinewidth": 0,
             "ticks": ""
            },
            "colorscale": [
             [
              0,
              "#0d0887"
             ],
             [
              0.1111111111111111,
              "#46039f"
             ],
             [
              0.2222222222222222,
              "#7201a8"
             ],
             [
              0.3333333333333333,
              "#9c179e"
             ],
             [
              0.4444444444444444,
              "#bd3786"
             ],
             [
              0.5555555555555556,
              "#d8576b"
             ],
             [
              0.6666666666666666,
              "#ed7953"
             ],
             [
              0.7777777777777778,
              "#fb9f3a"
             ],
             [
              0.8888888888888888,
              "#fdca26"
             ],
             [
              1,
              "#f0f921"
             ]
            ],
            "type": "histogram2dcontour"
           }
          ],
          "mesh3d": [
           {
            "colorbar": {
             "outlinewidth": 0,
             "ticks": ""
            },
            "type": "mesh3d"
           }
          ],
          "parcoords": [
           {
            "line": {
             "colorbar": {
              "outlinewidth": 0,
              "ticks": ""
             }
            },
            "type": "parcoords"
           }
          ],
          "pie": [
           {
            "automargin": true,
            "type": "pie"
           }
          ],
          "scatter": [
           {
            "marker": {
             "colorbar": {
              "outlinewidth": 0,
              "ticks": ""
             }
            },
            "type": "scatter"
           }
          ],
          "scatter3d": [
           {
            "line": {
             "colorbar": {
              "outlinewidth": 0,
              "ticks": ""
             }
            },
            "marker": {
             "colorbar": {
              "outlinewidth": 0,
              "ticks": ""
             }
            },
            "type": "scatter3d"
           }
          ],
          "scattercarpet": [
           {
            "marker": {
             "colorbar": {
              "outlinewidth": 0,
              "ticks": ""
             }
            },
            "type": "scattercarpet"
           }
          ],
          "scattergeo": [
           {
            "marker": {
             "colorbar": {
              "outlinewidth": 0,
              "ticks": ""
             }
            },
            "type": "scattergeo"
           }
          ],
          "scattergl": [
           {
            "marker": {
             "colorbar": {
              "outlinewidth": 0,
              "ticks": ""
             }
            },
            "type": "scattergl"
           }
          ],
          "scattermapbox": [
           {
            "marker": {
             "colorbar": {
              "outlinewidth": 0,
              "ticks": ""
             }
            },
            "type": "scattermapbox"
           }
          ],
          "scatterpolar": [
           {
            "marker": {
             "colorbar": {
              "outlinewidth": 0,
              "ticks": ""
             }
            },
            "type": "scatterpolar"
           }
          ],
          "scatterpolargl": [
           {
            "marker": {
             "colorbar": {
              "outlinewidth": 0,
              "ticks": ""
             }
            },
            "type": "scatterpolargl"
           }
          ],
          "scatterternary": [
           {
            "marker": {
             "colorbar": {
              "outlinewidth": 0,
              "ticks": ""
             }
            },
            "type": "scatterternary"
           }
          ],
          "surface": [
           {
            "colorbar": {
             "outlinewidth": 0,
             "ticks": ""
            },
            "colorscale": [
             [
              0,
              "#0d0887"
             ],
             [
              0.1111111111111111,
              "#46039f"
             ],
             [
              0.2222222222222222,
              "#7201a8"
             ],
             [
              0.3333333333333333,
              "#9c179e"
             ],
             [
              0.4444444444444444,
              "#bd3786"
             ],
             [
              0.5555555555555556,
              "#d8576b"
             ],
             [
              0.6666666666666666,
              "#ed7953"
             ],
             [
              0.7777777777777778,
              "#fb9f3a"
             ],
             [
              0.8888888888888888,
              "#fdca26"
             ],
             [
              1,
              "#f0f921"
             ]
            ],
            "type": "surface"
           }
          ],
          "table": [
           {
            "cells": {
             "fill": {
              "color": "#EBF0F8"
             },
             "line": {
              "color": "white"
             }
            },
            "header": {
             "fill": {
              "color": "#C8D4E3"
             },
             "line": {
              "color": "white"
             }
            },
            "type": "table"
           }
          ]
         },
         "layout": {
          "annotationdefaults": {
           "arrowcolor": "#2a3f5f",
           "arrowhead": 0,
           "arrowwidth": 1
          },
          "coloraxis": {
           "colorbar": {
            "outlinewidth": 0,
            "ticks": ""
           }
          },
          "colorscale": {
           "diverging": [
            [
             0,
             "#8e0152"
            ],
            [
             0.1,
             "#c51b7d"
            ],
            [
             0.2,
             "#de77ae"
            ],
            [
             0.3,
             "#f1b6da"
            ],
            [
             0.4,
             "#fde0ef"
            ],
            [
             0.5,
             "#f7f7f7"
            ],
            [
             0.6,
             "#e6f5d0"
            ],
            [
             0.7,
             "#b8e186"
            ],
            [
             0.8,
             "#7fbc41"
            ],
            [
             0.9,
             "#4d9221"
            ],
            [
             1,
             "#276419"
            ]
           ],
           "sequential": [
            [
             0,
             "#0d0887"
            ],
            [
             0.1111111111111111,
             "#46039f"
            ],
            [
             0.2222222222222222,
             "#7201a8"
            ],
            [
             0.3333333333333333,
             "#9c179e"
            ],
            [
             0.4444444444444444,
             "#bd3786"
            ],
            [
             0.5555555555555556,
             "#d8576b"
            ],
            [
             0.6666666666666666,
             "#ed7953"
            ],
            [
             0.7777777777777778,
             "#fb9f3a"
            ],
            [
             0.8888888888888888,
             "#fdca26"
            ],
            [
             1,
             "#f0f921"
            ]
           ],
           "sequentialminus": [
            [
             0,
             "#0d0887"
            ],
            [
             0.1111111111111111,
             "#46039f"
            ],
            [
             0.2222222222222222,
             "#7201a8"
            ],
            [
             0.3333333333333333,
             "#9c179e"
            ],
            [
             0.4444444444444444,
             "#bd3786"
            ],
            [
             0.5555555555555556,
             "#d8576b"
            ],
            [
             0.6666666666666666,
             "#ed7953"
            ],
            [
             0.7777777777777778,
             "#fb9f3a"
            ],
            [
             0.8888888888888888,
             "#fdca26"
            ],
            [
             1,
             "#f0f921"
            ]
           ]
          },
          "colorway": [
           "#636efa",
           "#EF553B",
           "#00cc96",
           "#ab63fa",
           "#FFA15A",
           "#19d3f3",
           "#FF6692",
           "#B6E880",
           "#FF97FF",
           "#FECB52"
          ],
          "font": {
           "color": "#2a3f5f"
          },
          "geo": {
           "bgcolor": "white",
           "lakecolor": "white",
           "landcolor": "#E5ECF6",
           "showlakes": true,
           "showland": true,
           "subunitcolor": "white"
          },
          "hoverlabel": {
           "align": "left"
          },
          "hovermode": "closest",
          "mapbox": {
           "style": "light"
          },
          "paper_bgcolor": "white",
          "plot_bgcolor": "#E5ECF6",
          "polar": {
           "angularaxis": {
            "gridcolor": "white",
            "linecolor": "white",
            "ticks": ""
           },
           "bgcolor": "#E5ECF6",
           "radialaxis": {
            "gridcolor": "white",
            "linecolor": "white",
            "ticks": ""
           }
          },
          "scene": {
           "xaxis": {
            "backgroundcolor": "#E5ECF6",
            "gridcolor": "white",
            "gridwidth": 2,
            "linecolor": "white",
            "showbackground": true,
            "ticks": "",
            "zerolinecolor": "white"
           },
           "yaxis": {
            "backgroundcolor": "#E5ECF6",
            "gridcolor": "white",
            "gridwidth": 2,
            "linecolor": "white",
            "showbackground": true,
            "ticks": "",
            "zerolinecolor": "white"
           },
           "zaxis": {
            "backgroundcolor": "#E5ECF6",
            "gridcolor": "white",
            "gridwidth": 2,
            "linecolor": "white",
            "showbackground": true,
            "ticks": "",
            "zerolinecolor": "white"
           }
          },
          "shapedefaults": {
           "line": {
            "color": "#2a3f5f"
           }
          },
          "ternary": {
           "aaxis": {
            "gridcolor": "white",
            "linecolor": "white",
            "ticks": ""
           },
           "baxis": {
            "gridcolor": "white",
            "linecolor": "white",
            "ticks": ""
           },
           "bgcolor": "#E5ECF6",
           "caxis": {
            "gridcolor": "white",
            "linecolor": "white",
            "ticks": ""
           }
          },
          "title": {
           "x": 0.05
          },
          "xaxis": {
           "automargin": true,
           "gridcolor": "white",
           "linecolor": "white",
           "ticks": "",
           "title": {
            "standoff": 15
           },
           "zerolinecolor": "white",
           "zerolinewidth": 2
          },
          "yaxis": {
           "automargin": true,
           "gridcolor": "white",
           "linecolor": "white",
           "ticks": "",
           "title": {
            "standoff": 15
           },
           "zerolinecolor": "white",
           "zerolinewidth": 2
          }
         }
        },
        "title": {
         "text": "RB WR TE Draft Spending vs. Total Fantasy Points"
        },
        "width": 900,
        "xaxis": {
         "anchor": "y",
         "domain": [
          0,
          1
         ],
         "range": [
          -1,
          100
         ],
         "title": {
          "text": "Bid Amount ($)"
         }
        },
        "yaxis": {
         "anchor": "x",
         "domain": [
          0,
          1
         ],
         "range": [
          -5,
          412
         ],
         "title": {
          "text": "Total points"
         }
        }
       }
      },
      "text/html": [
       "<div>\n",
       "        \n",
       "        \n",
       "            <div id=\"48283802-3e86-49af-91de-1725c42b7f66\" class=\"plotly-graph-div\" style=\"height:700px; width:900px;\"></div>\n",
       "            <script type=\"text/javascript\">\n",
       "                require([\"plotly\"], function(Plotly) {\n",
       "                    window.PLOTLYENV=window.PLOTLYENV || {};\n",
       "                    \n",
       "                if (document.getElementById(\"48283802-3e86-49af-91de-1725c42b7f66\")) {\n",
       "                    Plotly.newPlot(\n",
       "                        '48283802-3e86-49af-91de-1725c42b7f66',\n",
       "                        [{\"customdata\": [[\"Ice City USA\", 84, 184.3, [1, 2, 3, 4, 5, 6, 7, 8]], [\"Ice City USA\", 42, 198.5, [1, 2, 3, 4, 5, 6, 7, 8, 10, 11, 12, 13, 14, 15, 16, 17]], [\"Ice City USA\", 30, 165.1, [1, 2, 3, 4, 5, 6, 7, 8, 9, 11, 12, 13, 14, 15, 16, 17]], [\"Ice City USA\", 16, 235.1, [1, 2, 3, 4, 5, 6, 7, 9, 10, 11, 12, 13, 14, 15, 16, 17]], [\"Ice City USA\", 12, 148.0, [1, 2, 3, 4, 5, 6, 7, 8, 9, 10, 11, 12, 13, 15, 16, 17]], [\"Ice City USA\", 2, 4.4, [1]], [\"Ice City USA\", 2, 18.5, [1, 2]], [\"Ice City USA\", 1, 40.8, [1, 2, 3, 4, 5]], [\"Ice City USA\", 1, 0.0, []], [\"Ice City USA\", 1, 221.1, [1, 2, 3, 4, 5, 6, 7, 8, 10, 11, 12, 13, 14, 15, 16, 17]]], \"hovertemplate\": \"<b>%{hovertext}</b><br><br>Team=%{customdata[0]}<br>Bid Amount ($)=%{customdata[1]}<br>Total points=%{customdata[2]}<br>Stint (wks)=%{customdata[3]}<extra></extra>\", \"hovertext\": [\"Derrick Henry, RB (TEN)\", \"DK Metcalf, WR (SEA)\", \"David Montgomery, RB (CHI)\", \"Mark Andrews, TE (BAL)\", \"DeVonta Smith, WR (PHI)\", \"Michael Pittman Jr., WR (IND)\", \"DJ Chark Jr., WR (JAX)\", \"Jaylen Waddle, WR (MIA)\", \"Nyheim Hines, RB (IND)\", \"Leonard Fournette, RB (TB)\"], \"legendgroup\": \"Ice City USA\", \"marker\": {\"color\": \"#636efa\", \"symbol\": \"circle\"}, \"mode\": \"markers\", \"name\": \"Ice City USA\", \"showlegend\": true, \"type\": \"scatter\", \"x\": [84, 42, 30, 16, 12, 2, 2, 1, 1, 1], \"xaxis\": \"x\", \"y\": [184.3, 198.5, 165.1, 235.1, 148.0, 4.4, 18.5, 40.8, 0.0, 221.1], \"yaxis\": \"y\"}, {\"customdata\": [[\"Tasteful Dak Piks, by CMC\", 83, 109.0, [1, 2, 3, 4, 5, 6, 7, 8, 9, 10, 11, 12]], [\"Tasteful Dak Piks, by CMC\", 63, 278.3, [1, 2, 3, 4, 5, 6, 7, 8, 9, 10, 11, 12, 14, 15, 16, 17]], [\"Tasteful Dak Piks, by CMC\", 42, 256.6, [1, 2, 3, 4, 5, 6, 8, 9, 10, 11, 12, 13, 14, 15, 16, 17]], [\"Tasteful Dak Piks, by CMC\", 1, 5.3, [1, 2]], [\"Tasteful Dak Piks, by CMC\", 1, 1.4, [1]], [\"Tasteful Dak Piks, by CMC\", 1, 0.8, [1]], [\"Tasteful Dak Piks, by CMC\", 1, 0.0, [1, 2, 3]], [\"Tasteful Dak Piks, by CMC\", 1, 25.2, [1, 2, 3]], [\"Tasteful Dak Piks, by CMC\", 1, 13.0, [1, 2, 3]]], \"hovertemplate\": \"<b>%{hovertext}</b><br><br>Team=%{customdata[0]}<br>Bid Amount ($)=%{customdata[1]}<br>Total points=%{customdata[2]}<br>Stint (wks)=%{customdata[3]}<extra></extra>\", \"hovertext\": [\"Christian McCaffrey, RB (CAR)\", \"Davante Adams, WR (GB)\", \"Justin Jefferson, WR (MIN)\", \"Russell Gage, WR (ATL)\", \"Chuba Hubbard, RB (CAR)\", \"J.D. McKissic, RB (WSH)\", \"Jamison Crowder, WR (NYJ)\", \"James White, RB (NE)\", \"Jonnu Smith, TE (NE)\"], \"legendgroup\": \"Tasteful Dak Piks, by CMC\", \"marker\": {\"color\": \"#EF553B\", \"symbol\": \"circle\"}, \"mode\": \"markers\", \"name\": \"Tasteful Dak Piks, by CMC\", \"showlegend\": true, \"type\": \"scatter\", \"x\": [83, 63, 42, 1, 1, 1, 1, 1, 1], \"xaxis\": \"x\", \"y\": [109.0, 278.3, 256.6, 5.3, 1.4, 0.8, 0.0, 25.2, 13.0], \"yaxis\": \"y\"}, {\"customdata\": [[\"Dick Cheese\", 70, 184.6, [1, 2, 3, 4, 5, 6, 8, 9, 10, 11, 12, 13, 14, 15, 16, 17]], [\"Dick Cheese\", 37, 196.6, [1, 2, 3, 4, 5, 6, 8, 9, 10, 11, 12, 13, 14, 15, 16, 17]], [\"Dick Cheese\", 36, 8.7, [1]], [\"Dick Cheese\", 33, 158.4, [1, 2, 3, 4, 5, 6, 8, 9, 10, 11, 12, 13, 14, 15, 16, 17]], [\"Dick Cheese\", 8, 97.2, [1, 2, 3, 4, 5, 6, 7, 8, 9, 10]], [\"Dick Cheese\", 4, 27.4, [1]], [\"Dick Cheese\", 3, 85.7, [1, 2, 3, 4, 5, 7, 8, 9, 10, 11, 12]], [\"Dick Cheese\", 2, 0.0, []], [\"Dick Cheese\", 2, 100.1, [1, 2, 3, 4, 5, 6, 7, 8, 10, 11, 12, 13, 14, 15, 16, 17]], [\"Dick Cheese\", 1, 137.0, [1, 2, 3, 4, 5, 6, 7, 8, 9, 10, 11, 12, 13, 15, 16, 17]]], \"hovertemplate\": \"<b>%{hovertext}</b><br><br>Team=%{customdata[0]}<br>Bid Amount ($)=%{customdata[1]}<br>Total points=%{customdata[2]}<br>Stint (wks)=%{customdata[3]}<extra></extra>\", \"hovertext\": [\"Dalvin Cook, RB (MIN)\", \"Keenan Allen, WR (LAC)\", \"Clyde Edwards-Helaire, RB (KC)\", \"James Robinson, RB (JAX)\", \"Courtland Sutton, WR (DEN)\", \"Deebo Samuel, WR (SF)\", \"Corey Davis, WR (NYJ)\", \"Marvin Jones Jr., WR (JAX)\", \"Antonio Brown, WR (TB)\", \"Dallas Goedert, TE (PHI)\"], \"legendgroup\": \"Dick Cheese\", \"marker\": {\"color\": \"#00cc96\", \"symbol\": \"circle\"}, \"mode\": \"markers\", \"name\": \"Dick Cheese\", \"showlegend\": true, \"type\": \"scatter\", \"x\": [70, 37, 36, 33, 8, 4, 3, 2, 2, 1], \"xaxis\": \"x\", \"y\": [184.6, 196.6, 8.7, 158.4, 97.2, 27.4, 85.7, 0.0, 100.1, 137.0], \"yaxis\": \"y\"}, {\"customdata\": [[\"Repeat Donger\", 70, 218.9, [1, 2, 3, 4, 5, 6, 8, 9, 10, 11, 12, 13, 14, 15, 16, 17]], [\"Repeat Donger\", 57, 215.4, [1, 2, 3, 4, 5, 6, 8, 9, 10, 11, 12, 13, 14, 15, 16, 17]], [\"Repeat Donger\", 20, 104.3, [1, 2, 3, 4, 5, 6, 7, 8, 9, 10, 12, 13, 14, 15, 16, 17]], [\"Repeat Donger\", 16, 177.6, [1, 2, 3, 4, 5, 6, 7, 9, 10, 11, 12, 13, 14, 15, 16, 17]], [\"Repeat Donger\", 10, 99.0, [1, 2, 3, 4, 5, 6, 7, 8, 9, 10, 11, 12, 14, 15, 16]], [\"Repeat Donger\", 10, 49.0, [1, 2, 3, 4, 5, 6]], [\"Repeat Donger\", 5, 68.5, [1, 2, 3, 4, 5, 6, 7, 8]], [\"Repeat Donger\", 2, 3.5, [1, 2]], [\"Repeat Donger\", 2, 7.9, [1, 2]], [\"Repeat Donger\", 2, 5.6, [1]]], \"hovertemplate\": \"<b>%{hovertext}</b><br><br>Team=%{customdata[0]}<br>Bid Amount ($)=%{customdata[1]}<br>Total points=%{customdata[2]}<br>Stint (wks)=%{customdata[3]}<extra></extra>\", \"hovertext\": [\"Ezekiel Elliott, RB (DAL)\", \"Stefon Diggs, WR (BUF)\", \"Odell Beckham Jr., WR (LAR)\", \"Josh Jacobs, RB (OAK)\", \"Kareem Hunt, RB (CLE)\", \"Tyler Boyd, WR (CIN)\", \"Noah Fant, TE (DEN)\", \"Ronald Jones II, RB (TB)\", \"James Conner, RB (ARI)\", \"Michael Gallup, WR (DAL)\"], \"legendgroup\": \"Repeat Donger\", \"marker\": {\"color\": \"#ab63fa\", \"symbol\": \"circle\"}, \"mode\": \"markers\", \"name\": \"Repeat Donger\", \"showlegend\": true, \"type\": \"scatter\", \"x\": [70, 57, 20, 16, 10, 10, 5, 2, 2, 2], \"xaxis\": \"x\", \"y\": [218.9, 215.4, 104.3, 177.6, 99.0, 49.0, 68.5, 3.5, 7.9, 5.6], \"yaxis\": \"y\"}, {\"customdata\": [[\"More than a  Thielen\", 68, 194.0, [1, 2, 3, 4, 5, 7, 8, 9, 10, 11, 12, 13, 14, 15, 16, 17]], [\"More than a  Thielen\", 35, 102.8, [1, 2, 3, 4, 5, 6, 7, 9, 10, 11, 12, 13, 14, 15, 16, 17]], [\"More than a  Thielen\", 33, 114.7, [1, 2, 3, 4, 5, 6, 7, 8, 9, 10]], [\"More than a  Thielen\", 21, 166.3, [1, 2, 3, 4, 5, 6, 8, 9, 10, 11, 12, 13, 14, 15, 16, 17]], [\"More than a  Thielen\", 6, 176.0, [1, 2, 3, 4, 5, 6, 7, 8, 9, 10, 12, 13, 14, 15, 16, 17]], [\"More than a  Thielen\", 5, 68.9, [1, 2, 3, 4, 5, 6, 8, 9, 10]], [\"More than a  Thielen\", 3, 24.9, [1, 2, 3, 4]], [\"More than a  Thielen\", 2, 186.2, [1, 2, 3, 4, 5, 6, 8, 9, 10, 11, 12, 13, 14, 15, 16, 17]], [\"More than a  Thielen\", 1, 16.0, [1, 2]], [\"More than a  Thielen\", 1, 15.4, [1, 2]]], \"hovertemplate\": \"<b>%{hovertext}</b><br><br>Team=%{customdata[0]}<br>Bid Amount ($)=%{customdata[1]}<br>Total points=%{customdata[2]}<br>Stint (wks)=%{customdata[3]}<extra></extra>\", \"hovertext\": [\"Alvin Kamara, RB (NO)\", \"Darren Waller, TE (OAK)\", \"Robert Woods, WR (LAR)\", \"Adam Thielen, WR (MIN)\", \"Javonte Williams, RB (DEN)\", \"Chase Claypool, WR (PIT)\", \"Kenyan Drake, RB (OAK)\", \"Mike Williams, WR (LAC)\", \"David Johnson, RB (HOU)\", \"Jalen Reagor, WR (PHI)\"], \"legendgroup\": \"More than a  Thielen\", \"marker\": {\"color\": \"#FFA15A\", \"symbol\": \"circle\"}, \"mode\": \"markers\", \"name\": \"More than a  Thielen\", \"showlegend\": true, \"type\": \"scatter\", \"x\": [68, 35, 33, 21, 6, 5, 3, 2, 1, 1], \"xaxis\": \"x\", \"y\": [194.0, 102.8, 114.7, 166.3, 176.0, 68.9, 24.9, 186.2, 16.0, 15.4], \"yaxis\": \"y\"}, {\"customdata\": [[\"Favre's Wranglers\", 67, 205.4, [1, 2, 3, 4, 5, 6, 7, 8, 9, 10, 11, 13, 14, 15, 16, 17]], [\"Favre's Wranglers\", 63, 121.7, [1, 2, 3, 4, 5, 6, 7, 8, 9, 11, 12, 13, 14, 15, 16, 17]], [\"Favre's Wranglers\", 30, 201.6, [1, 2, 3, 4, 5, 6, 7, 8, 10, 11, 12, 13, 14, 15, 16, 17]], [\"Favre's Wranglers\", 17, 177.5, [1, 2, 3, 4, 5, 6, 7, 8, 9, 10, 11, 12, 14, 15, 16, 17]], [\"Favre's Wranglers\", 9, 66.9, [1, 2, 3, 4, 5, 6, 7, 8, 9, 11, 12, 13, 14, 15, 16, 17]], [\"Favre's Wranglers\", 7, 62.0, [1, 2, 3, 4, 5, 6, 7, 8, 9, 10, 12, 13, 14, 15, 16, 17]], [\"Favre's Wranglers\", 1, 137.8, [1, 2, 3, 4, 5, 6, 7, 8, 9, 10, 11, 12, 13, 15, 16, 17]], [\"Favre's Wranglers\", 1, 0.0, [1]], [\"Favre's Wranglers\", 1, 108.0, [1, 2, 3, 4, 5, 6, 8, 9, 10, 11, 12, 13, 14, 15]], [\"Favre's Wranglers\", 1, 84.4, [1, 2, 3, 4, 5, 6, 8, 9, 10, 11, 12, 13, 14, 15]]], \"hovertemplate\": \"<b>%{hovertext}</b><br><br>Team=%{customdata[0]}<br>Bid Amount ($)=%{customdata[1]}<br>Total points=%{customdata[2]}<br>Stint (wks)=%{customdata[3]}<extra></extra>\", \"hovertext\": [\"Travis Kelce, TE (KC)\", \"Saquon Barkley, RB (NYG)\", \"Mike Evans, WR (TB)\", \"DJ Moore, WR (CAR)\", \"Kenny Golladay, WR (NYG)\", \"Jerry Jeudy, WR (DEN)\", \"Jakobi Meyers, WR (NE)\", \"Curtis Samuel, WR (WSH)\", \"Cole Beasley, WR (BUF)\", \"Zack Moss, RB (BUF)\"], \"legendgroup\": \"Favre's Wranglers\", \"marker\": {\"color\": \"#19d3f3\", \"symbol\": \"circle\"}, \"mode\": \"markers\", \"name\": \"Favre's Wranglers\", \"showlegend\": true, \"type\": \"scatter\", \"x\": [67, 63, 30, 17, 9, 7, 1, 1, 1, 1], \"xaxis\": \"x\", \"y\": [205.4, 121.7, 201.6, 177.5, 66.9, 62.0, 137.8, 0.0, 108.0, 84.4], \"yaxis\": \"y\"}, {\"customdata\": [[\"Your Antivax Cousins\", 61, 193.0, [1, 2, 3, 4, 5, 6, 7, 8, 9, 10, 11, 12, 14, 15, 16]], [\"Your Antivax Cousins\", 49, 186.5, [1, 2, 3, 4, 5, 6, 7, 8, 10, 11, 12, 13, 14, 15, 16, 17]], [\"Your Antivax Cousins\", 43, 55.6, [1, 2, 3, 4, 5, 7, 8, 9, 10, 11, 12, 13]], [\"Your Antivax Cousins\", 22, 180.4, [1, 2, 3, 4, 5, 6, 7, 8, 10, 11, 12, 13, 14, 15, 16, 17]], [\"Your Antivax Cousins\", 5, 45.6, [1, 2, 3, 4, 5, 6]], [\"Your Antivax Cousins\", 3, 268.5, [1, 2, 3, 4, 5, 6, 7, 8, 9, 11, 12, 13, 14, 15, 16, 17]], [\"Your Antivax Cousins\", 3, 20.8, [1, 2, 3, 4, 5]], [\"Your Antivax Cousins\", 3, 16.2, [1, 2, 3]], [\"Your Antivax Cousins\", 1, 3.4, [1]], [\"Your Antivax Cousins\", 1, 71.4, [1, 2, 3, 4, 5, 6, 7, 8, 9, 10]]], \"hovertemplate\": \"<b>%{hovertext}</b><br><br>Team=%{customdata[0]}<br>Bid Amount ($)=%{customdata[1]}<br>Total points=%{customdata[2]}<br>Stint (wks)=%{customdata[3]}<extra></extra>\", \"hovertext\": [\"Nick Chubb, RB (CLE)\", \"Antonio Gibson, RB (WSH)\", \"Calvin Ridley, WR (ATL)\", \"Tyler Lockett, WR (SEA)\", \"Laviska Shenault Jr., WR (JAX)\", \"Ja'Marr Chase, WR (CIN)\", \"Trey Sermon, RB (SF)\", \"Michael Carter, RB (NYJ)\", \"Mecole Hardman, WR (KC)\", \"Tyler Higbee, TE (LAR)\"], \"legendgroup\": \"Your Antivax Cousins\", \"marker\": {\"color\": \"#FF6692\", \"symbol\": \"circle\"}, \"mode\": \"markers\", \"name\": \"Your Antivax Cousins\", \"showlegend\": true, \"type\": \"scatter\", \"x\": [61, 49, 43, 22, 5, 3, 3, 3, 1, 1], \"xaxis\": \"x\", \"y\": [193.0, 186.5, 55.6, 180.4, 45.6, 268.5, 20.8, 16.2, 3.4, 71.4], \"yaxis\": \"y\"}, {\"customdata\": [[\"Godwin's Memorial\", 58, 342.1, [1, 2, 3, 4, 5, 6, 7, 8, 9, 10, 11, 12, 13, 15, 16, 17]], [\"Godwin's Memorial\", 38, 134.6, [1, 2, 3, 4, 5, 6, 7, 8, 9, 10, 11, 12, 14, 15, 16, 17]], [\"Godwin's Memorial\", 19, 193.4, [1, 2, 3, 4, 5, 6, 7, 8, 10, 11, 12, 13, 14, 15, 16, 17]], [\"Godwin's Memorial\", 17, 148.9, [1, 2, 3, 4, 5, 6, 7, 8, 9, 10, 12, 13, 14, 15, 16, 17]], [\"Godwin's Memorial\", 9, 27.7, [1, 2, 3, 4, 5]], [\"Godwin's Memorial\", 7, 130.4, [1, 2, 3, 4, 5, 6, 7, 8, 9, 10, 12, 13, 14, 15, 16, 17]], [\"Godwin's Memorial\", 6, 2.0, [1]], [\"Godwin's Memorial\", 5, 140.8, [1, 2, 3, 4, 5, 7, 8, 9, 10, 11, 12, 13, 14, 15, 16, 17]], [\"Godwin's Memorial\", 5, 0.0, [1, 2, 3, 4, 5, 7, 8]], [\"Godwin's Memorial\", 1, 47.4, [1, 2, 3, 4, 5, 6]]], \"hovertemplate\": \"<b>%{hovertext}</b><br><br>Team=%{customdata[0]}<br>Bid Amount ($)=%{customdata[1]}<br>Total points=%{customdata[2]}<br>Stint (wks)=%{customdata[3]}<extra></extra>\", \"hovertext\": [\"Jonathan Taylor, RB (IND)\", \"A.J. Brown, WR (TEN)\", \"Chris Godwin, WR (TB)\", \"Darrell Henderson Jr., RB (LAR)\", \"Logan Thomas, TE (WSH)\", \"Sony Michel, RB (LAR)\", \"Raheem Mostert, RB (SF)\", \"Kyle Pitts, TE (ATL)\", \"Michael Thomas, WR (NO)\", \"Devin Singletary, RB (BUF)\"], \"legendgroup\": \"Godwin's Memorial\", \"marker\": {\"color\": \"#B6E880\", \"symbol\": \"circle\"}, \"mode\": \"markers\", \"name\": \"Godwin's Memorial\", \"showlegend\": true, \"type\": \"scatter\", \"x\": [58, 38, 19, 17, 9, 7, 6, 5, 5, 1], \"xaxis\": \"x\", \"y\": [342.1, 134.6, 193.4, 148.9, 27.7, 130.4, 2.0, 140.8, 0.0, 47.4], \"yaxis\": \"y\"}, {\"customdata\": [[\"Fumble .\", 57, 240.3, [1, 2, 3, 4, 5, 6, 7, 8, 9, 10, 11, 13, 14, 15, 16, 17]], [\"Fumble .\", 36, 163.7, [1, 2, 3, 4, 5, 6, 7, 8, 10, 11, 12, 13, 14, 15, 16, 17]], [\"Fumble .\", 29, 20.4, [1]], [\"Fumble .\", 29, 343.9, [1, 2, 3, 4, 5, 6, 7, 8, 9, 10, 12, 13, 14, 15, 16, 17]], [\"Fumble .\", 14, 10.1, [1]], [\"Fumble .\", 12, 71.6, [1, 2, 3, 4, 5, 7, 8, 9, 10, 11, 12]], [\"Fumble .\", 5, 165.0, [1, 2, 3, 4, 5, 6, 7, 8, 9, 10, 12, 13, 14, 15, 16, 17]], [\"Fumble .\", 1, 0.0, [1]], [\"Fumble .\", 1, 29.4, [1, 2, 3]]], \"hovertemplate\": \"<b>%{hovertext}</b><br><br>Team=%{customdata[0]}<br>Bid Amount ($)=%{customdata[1]}<br>Total points=%{customdata[2]}<br>Stint (wks)=%{customdata[3]}<extra></extra>\", \"hovertext\": [\"Tyreek Hill, WR (KC)\", \"Terry McLaurin, WR (WSH)\", \"D'Andre Swift, RB (DET)\", \"Cooper Kupp, WR (LAR)\", \"Myles Gaskin, RB (MIA)\", \"Mike Davis, RB (ATL)\", \"Melvin Gordon III, RB (DEN)\", \"Mike Gesicki, TE (MIA)\", \"Ty'Son Williams, RB (BAL)\"], \"legendgroup\": \"Fumble .\", \"marker\": {\"color\": \"#FF97FF\", \"symbol\": \"circle\"}, \"mode\": \"markers\", \"name\": \"Fumble .\", \"showlegend\": true, \"type\": \"scatter\", \"x\": [57, 36, 29, 29, 14, 12, 5, 1, 1], \"xaxis\": \"x\", \"y\": [240.3, 163.7, 20.4, 343.9, 10.1, 71.6, 165.0, 0.0, 29.4], \"yaxis\": \"y\"}, {\"customdata\": [[\"Frankel's Cankles\", 56, 203.0, [1, 2, 3, 4, 5, 6, 7, 8, 9, 10, 11, 12, 14, 15, 16, 17]], [\"Frankel's Cankles\", 32, 187.8, [1, 2, 3, 4, 5, 6, 8, 9, 10, 11, 12, 13, 14, 15, 16, 17]], [\"Frankel's Cankles\", 29, 57.3, [1, 2, 3, 4, 5, 6, 7, 8, 9, 11, 12, 13, 14]], [\"Frankel's Cankles\", 22, 0.0, [1, 2, 3]], [\"Frankel's Cankles\", 16, 182.1, [1, 2, 3, 4, 5, 6, 7, 8, 9, 11, 12, 13, 14, 15, 16, 17]], [\"Frankel's Cankles\", 7, 121.8, [1, 2, 3, 4, 5, 6, 7, 8, 9, 10, 11, 13, 14, 15, 16, 17]], [\"Frankel's Cankles\", 7, 114.8, [1, 2, 3, 4, 5, 6, 7, 8, 10, 11, 12, 13, 14, 15, 16, 17]], [\"Frankel's Cankles\", 6, 27.3, [1, 2, 3, 4, 5]], [\"Frankel's Cankles\", 5, 6.6, [1, 2, 3, 4]]], \"hovertemplate\": \"<b>%{hovertext}</b><br><br>Team=%{customdata[0]}<br>Bid Amount ($)=%{customdata[1]}<br>Total points=%{customdata[2]}<br>Stint (wks)=%{customdata[3]}<extra></extra>\", \"hovertext\": [\"Aaron Jones, RB (GB)\", \"CeeDee Lamb, WR (DAL)\", \"Allen Robinson II, WR (CHI)\", \"Gus Edwards, RB (BAL)\", \"Tee Higgins, WR (CIN)\", \"Chase Edmonds, RB (ARI)\", \"T.J. Hockenson, TE (DET)\", \"JuJu Smith-Schuster, WR (PIT)\", \"William Fuller V, WR (MIA)\"], \"legendgroup\": \"Frankel's Cankles\", \"marker\": {\"color\": \"#FECB52\", \"symbol\": \"circle\"}, \"mode\": \"markers\", \"name\": \"Frankel's Cankles\", \"showlegend\": true, \"type\": \"scatter\", \"x\": [56, 32, 29, 22, 16, 7, 7, 6, 5], \"xaxis\": \"x\", \"y\": [203.0, 187.8, 57.3, 0.0, 182.1, 121.8, 114.8, 27.3, 6.6], \"yaxis\": \"y\"}, {\"customdata\": [[\"Don't Ekele Me\", 54, 282.4, [1, 2, 3, 4, 5, 6, 8, 9, 10, 11, 12, 13, 14, 15, 16, 17]], [\"Don't Ekele Me\", 32, 159.0, [1, 2, 3, 4, 5, 7, 8, 9, 10, 11, 12, 13, 14, 15, 16, 17]], [\"Don't Ekele Me\", 30, 53.3, [1, 2, 3, 4, 5, 6, 7]], [\"Don't Ekele Me\", 29, 158.1, [1, 2, 3, 4, 5, 6, 8, 9, 10, 11, 12, 13, 14, 15, 16, 17]], [\"Don't Ekele Me\", 17, 199.2, [1, 2, 3, 4, 5, 6, 8, 9, 10, 11, 12, 13, 14, 15, 16]], [\"Don't Ekele Me\", 8, 18.8, [1, 2, 3]], [\"Don't Ekele Me\", 8, 182.7, [1, 2, 3, 4, 5, 6, 7, 8, 9, 11, 12, 13, 14, 15, 16, 17]], [\"Don't Ekele Me\", 3, 0.0, []], [\"Don't Ekele Me\", 2, 0.0, []], [\"Don't Ekele Me\", 1, 55.4, [1, 2, 3, 4, 5, 6]]], \"hovertemplate\": \"<b>%{hovertext}</b><br><br>Team=%{customdata[0]}<br>Bid Amount ($)=%{customdata[1]}<br>Total points=%{customdata[2]}<br>Stint (wks)=%{customdata[3]}<extra></extra>\", \"hovertext\": [\"Austin Ekeler, RB (LAC)\", \"George Kittle, TE (SF)\", \"Miles Sanders, RB (PHI)\", \"Amari Cooper, WR (DAL)\", \"Diontae Johnson, WR (PIT)\", \"Robby Anderson, WR (CAR)\", \"Brandin Cooks, WR (HOU)\", \"Jarvis Landry, WR (CLE)\", \"Marquise Brown, WR (BAL)\", \"Jamaal Williams, RB (DET)\"], \"legendgroup\": \"Don't Ekele Me\", \"marker\": {\"color\": \"#636efa\", \"symbol\": \"circle\"}, \"mode\": \"markers\", \"name\": \"Don't Ekele Me\", \"showlegend\": true, \"type\": \"scatter\", \"x\": [54, 32, 30, 29, 17, 8, 8, 3, 2, 1], \"xaxis\": \"x\", \"y\": [282.4, 159.0, 53.3, 158.1, 199.2, 18.8, 182.7, 0.0, 0.0, 55.4], \"yaxis\": \"y\"}, {\"customdata\": [[\"Tier 2 never felt so good\", 51, 228.1, [1, 2, 3, 4, 5, 6, 8, 9, 10, 11, 12, 13, 14, 15, 16]], [\"Tier 2 never felt so good\", 45, 126.2, [1, 2, 3, 4, 5, 6, 7, 8, 9, 10, 11, 13, 14, 15, 16, 17]], [\"Tier 2 never felt so good\", 40, 266.9, [1, 2, 3, 4, 5, 6, 7, 8, 9, 11, 12, 13, 14, 15, 16, 17]], [\"Tier 2 never felt so good\", 28, 45.1, [1, 2, 3, 4, 5, 6, 7, 8, 10, 11]], [\"Tier 2 never felt so good\", 18, 49.4, [1, 2, 3, 4, 5, 6, 7, 8, 9, 10, 11, 12, 14, 15]], [\"Tier 2 never felt so good\", 5, 185.8, [1, 2, 3, 4, 5, 6, 7, 8, 9, 10, 11, 12, 13, 15, 16, 17]], [\"Tier 2 never felt so good\", 2, 161.4, [1, 2, 3, 4, 5, 6, 7, 8, 9, 10, 11, 12, 14, 15, 16, 17]], [\"Tier 2 never felt so good\", 1, 116.1, [1, 2, 3, 4, 5, 7, 8, 9, 10, 11, 12, 13, 14, 15, 16]], [\"Tier 2 never felt so good\", 1, 41.4, [1, 2, 3, 4, 5, 6, 7, 8, 9, 10, 11]]], \"hovertemplate\": \"<b>%{hovertext}</b><br><br>Team=%{customdata[0]}<br>Bid Amount ($)=%{customdata[1]}<br>Total points=%{customdata[2]}<br>Stint (wks)=%{customdata[3]}<extra></extra>\", \"hovertext\": [\"Najee Harris, RB (PIT)\", \"DeAndre Hopkins, WR (ARI)\", \"Joe Mixon, RB (CIN)\", \"Chris Carson, RB (SEA)\", \"Julio Jones, WR (TEN)\", \"Damien Harris, RB (NE)\", \"AJ Dillon, RB (GB)\", \"Marquez Callaway, WR (NO)\", \"Robert Tonyan, TE (GB)\"], \"legendgroup\": \"Tier 2 never felt so good\", \"marker\": {\"color\": \"#EF553B\", \"symbol\": \"circle\"}, \"mode\": \"markers\", \"name\": \"Tier 2 never felt so good\", \"showlegend\": true, \"type\": \"scatter\", \"x\": [51, 45, 40, 28, 18, 5, 2, 1, 1], \"xaxis\": \"x\", \"y\": [228.1, 126.2, 266.9, 45.1, 49.4, 185.8, 161.4, 116.1, 41.4], \"yaxis\": \"y\"}],\n",
       "                        {\"height\": 700, \"legend\": {\"title\": {\"text\": \"Team\"}, \"tracegroupgap\": 0}, \"template\": {\"data\": {\"bar\": [{\"error_x\": {\"color\": \"#2a3f5f\"}, \"error_y\": {\"color\": \"#2a3f5f\"}, \"marker\": {\"line\": {\"color\": \"#E5ECF6\", \"width\": 0.5}}, \"type\": \"bar\"}], \"barpolar\": [{\"marker\": {\"line\": {\"color\": \"#E5ECF6\", \"width\": 0.5}}, \"type\": \"barpolar\"}], \"carpet\": [{\"aaxis\": {\"endlinecolor\": \"#2a3f5f\", \"gridcolor\": \"white\", \"linecolor\": \"white\", \"minorgridcolor\": \"white\", \"startlinecolor\": \"#2a3f5f\"}, \"baxis\": {\"endlinecolor\": \"#2a3f5f\", \"gridcolor\": \"white\", \"linecolor\": \"white\", \"minorgridcolor\": \"white\", \"startlinecolor\": \"#2a3f5f\"}, \"type\": \"carpet\"}], \"choropleth\": [{\"colorbar\": {\"outlinewidth\": 0, \"ticks\": \"\"}, \"type\": \"choropleth\"}], \"contour\": [{\"colorbar\": {\"outlinewidth\": 0, \"ticks\": \"\"}, \"colorscale\": [[0.0, \"#0d0887\"], [0.1111111111111111, \"#46039f\"], [0.2222222222222222, \"#7201a8\"], [0.3333333333333333, \"#9c179e\"], [0.4444444444444444, \"#bd3786\"], [0.5555555555555556, \"#d8576b\"], [0.6666666666666666, \"#ed7953\"], [0.7777777777777778, \"#fb9f3a\"], [0.8888888888888888, \"#fdca26\"], [1.0, \"#f0f921\"]], \"type\": \"contour\"}], \"contourcarpet\": [{\"colorbar\": {\"outlinewidth\": 0, \"ticks\": \"\"}, \"type\": \"contourcarpet\"}], \"heatmap\": [{\"colorbar\": {\"outlinewidth\": 0, \"ticks\": \"\"}, \"colorscale\": [[0.0, \"#0d0887\"], [0.1111111111111111, \"#46039f\"], [0.2222222222222222, \"#7201a8\"], [0.3333333333333333, \"#9c179e\"], [0.4444444444444444, \"#bd3786\"], [0.5555555555555556, \"#d8576b\"], [0.6666666666666666, \"#ed7953\"], [0.7777777777777778, \"#fb9f3a\"], [0.8888888888888888, \"#fdca26\"], [1.0, \"#f0f921\"]], \"type\": \"heatmap\"}], \"heatmapgl\": [{\"colorbar\": {\"outlinewidth\": 0, \"ticks\": \"\"}, \"colorscale\": [[0.0, \"#0d0887\"], [0.1111111111111111, \"#46039f\"], [0.2222222222222222, \"#7201a8\"], [0.3333333333333333, \"#9c179e\"], [0.4444444444444444, \"#bd3786\"], [0.5555555555555556, \"#d8576b\"], [0.6666666666666666, \"#ed7953\"], [0.7777777777777778, \"#fb9f3a\"], [0.8888888888888888, \"#fdca26\"], [1.0, \"#f0f921\"]], \"type\": \"heatmapgl\"}], \"histogram\": [{\"marker\": {\"colorbar\": {\"outlinewidth\": 0, \"ticks\": \"\"}}, \"type\": \"histogram\"}], \"histogram2d\": [{\"colorbar\": {\"outlinewidth\": 0, \"ticks\": \"\"}, \"colorscale\": [[0.0, \"#0d0887\"], [0.1111111111111111, \"#46039f\"], [0.2222222222222222, \"#7201a8\"], [0.3333333333333333, \"#9c179e\"], [0.4444444444444444, \"#bd3786\"], [0.5555555555555556, \"#d8576b\"], [0.6666666666666666, \"#ed7953\"], [0.7777777777777778, \"#fb9f3a\"], [0.8888888888888888, \"#fdca26\"], [1.0, \"#f0f921\"]], \"type\": \"histogram2d\"}], \"histogram2dcontour\": [{\"colorbar\": {\"outlinewidth\": 0, \"ticks\": \"\"}, \"colorscale\": [[0.0, \"#0d0887\"], [0.1111111111111111, \"#46039f\"], [0.2222222222222222, \"#7201a8\"], [0.3333333333333333, \"#9c179e\"], [0.4444444444444444, \"#bd3786\"], [0.5555555555555556, \"#d8576b\"], [0.6666666666666666, \"#ed7953\"], [0.7777777777777778, \"#fb9f3a\"], [0.8888888888888888, \"#fdca26\"], [1.0, \"#f0f921\"]], \"type\": \"histogram2dcontour\"}], \"mesh3d\": [{\"colorbar\": {\"outlinewidth\": 0, \"ticks\": \"\"}, \"type\": \"mesh3d\"}], \"parcoords\": [{\"line\": {\"colorbar\": {\"outlinewidth\": 0, \"ticks\": \"\"}}, \"type\": \"parcoords\"}], \"pie\": [{\"automargin\": true, \"type\": \"pie\"}], \"scatter\": [{\"marker\": {\"colorbar\": {\"outlinewidth\": 0, \"ticks\": \"\"}}, \"type\": \"scatter\"}], \"scatter3d\": [{\"line\": {\"colorbar\": {\"outlinewidth\": 0, \"ticks\": \"\"}}, \"marker\": {\"colorbar\": {\"outlinewidth\": 0, \"ticks\": \"\"}}, \"type\": \"scatter3d\"}], \"scattercarpet\": [{\"marker\": {\"colorbar\": {\"outlinewidth\": 0, \"ticks\": \"\"}}, \"type\": \"scattercarpet\"}], \"scattergeo\": [{\"marker\": {\"colorbar\": {\"outlinewidth\": 0, \"ticks\": \"\"}}, \"type\": \"scattergeo\"}], \"scattergl\": [{\"marker\": {\"colorbar\": {\"outlinewidth\": 0, \"ticks\": \"\"}}, \"type\": \"scattergl\"}], \"scattermapbox\": [{\"marker\": {\"colorbar\": {\"outlinewidth\": 0, \"ticks\": \"\"}}, \"type\": \"scattermapbox\"}], \"scatterpolar\": [{\"marker\": {\"colorbar\": {\"outlinewidth\": 0, \"ticks\": \"\"}}, \"type\": \"scatterpolar\"}], \"scatterpolargl\": [{\"marker\": {\"colorbar\": {\"outlinewidth\": 0, \"ticks\": \"\"}}, \"type\": \"scatterpolargl\"}], \"scatterternary\": [{\"marker\": {\"colorbar\": {\"outlinewidth\": 0, \"ticks\": \"\"}}, \"type\": \"scatterternary\"}], \"surface\": [{\"colorbar\": {\"outlinewidth\": 0, \"ticks\": \"\"}, \"colorscale\": [[0.0, \"#0d0887\"], [0.1111111111111111, \"#46039f\"], [0.2222222222222222, \"#7201a8\"], [0.3333333333333333, \"#9c179e\"], [0.4444444444444444, \"#bd3786\"], [0.5555555555555556, \"#d8576b\"], [0.6666666666666666, \"#ed7953\"], [0.7777777777777778, \"#fb9f3a\"], [0.8888888888888888, \"#fdca26\"], [1.0, \"#f0f921\"]], \"type\": \"surface\"}], \"table\": [{\"cells\": {\"fill\": {\"color\": \"#EBF0F8\"}, \"line\": {\"color\": \"white\"}}, \"header\": {\"fill\": {\"color\": \"#C8D4E3\"}, \"line\": {\"color\": \"white\"}}, \"type\": \"table\"}]}, \"layout\": {\"annotationdefaults\": {\"arrowcolor\": \"#2a3f5f\", \"arrowhead\": 0, \"arrowwidth\": 1}, \"coloraxis\": {\"colorbar\": {\"outlinewidth\": 0, \"ticks\": \"\"}}, \"colorscale\": {\"diverging\": [[0, \"#8e0152\"], [0.1, \"#c51b7d\"], [0.2, \"#de77ae\"], [0.3, \"#f1b6da\"], [0.4, \"#fde0ef\"], [0.5, \"#f7f7f7\"], [0.6, \"#e6f5d0\"], [0.7, \"#b8e186\"], [0.8, \"#7fbc41\"], [0.9, \"#4d9221\"], [1, \"#276419\"]], \"sequential\": [[0.0, \"#0d0887\"], [0.1111111111111111, \"#46039f\"], [0.2222222222222222, \"#7201a8\"], [0.3333333333333333, \"#9c179e\"], [0.4444444444444444, \"#bd3786\"], [0.5555555555555556, \"#d8576b\"], [0.6666666666666666, \"#ed7953\"], [0.7777777777777778, \"#fb9f3a\"], [0.8888888888888888, \"#fdca26\"], [1.0, \"#f0f921\"]], \"sequentialminus\": [[0.0, \"#0d0887\"], [0.1111111111111111, \"#46039f\"], [0.2222222222222222, \"#7201a8\"], [0.3333333333333333, \"#9c179e\"], [0.4444444444444444, \"#bd3786\"], [0.5555555555555556, \"#d8576b\"], [0.6666666666666666, \"#ed7953\"], [0.7777777777777778, \"#fb9f3a\"], [0.8888888888888888, \"#fdca26\"], [1.0, \"#f0f921\"]]}, \"colorway\": [\"#636efa\", \"#EF553B\", \"#00cc96\", \"#ab63fa\", \"#FFA15A\", \"#19d3f3\", \"#FF6692\", \"#B6E880\", \"#FF97FF\", \"#FECB52\"], \"font\": {\"color\": \"#2a3f5f\"}, \"geo\": {\"bgcolor\": \"white\", \"lakecolor\": \"white\", \"landcolor\": \"#E5ECF6\", \"showlakes\": true, \"showland\": true, \"subunitcolor\": \"white\"}, \"hoverlabel\": {\"align\": \"left\"}, \"hovermode\": \"closest\", \"mapbox\": {\"style\": \"light\"}, \"paper_bgcolor\": \"white\", \"plot_bgcolor\": \"#E5ECF6\", \"polar\": {\"angularaxis\": {\"gridcolor\": \"white\", \"linecolor\": \"white\", \"ticks\": \"\"}, \"bgcolor\": \"#E5ECF6\", \"radialaxis\": {\"gridcolor\": \"white\", \"linecolor\": \"white\", \"ticks\": \"\"}}, \"scene\": {\"xaxis\": {\"backgroundcolor\": \"#E5ECF6\", \"gridcolor\": \"white\", \"gridwidth\": 2, \"linecolor\": \"white\", \"showbackground\": true, \"ticks\": \"\", \"zerolinecolor\": \"white\"}, \"yaxis\": {\"backgroundcolor\": \"#E5ECF6\", \"gridcolor\": \"white\", \"gridwidth\": 2, \"linecolor\": \"white\", \"showbackground\": true, \"ticks\": \"\", \"zerolinecolor\": \"white\"}, \"zaxis\": {\"backgroundcolor\": \"#E5ECF6\", \"gridcolor\": \"white\", \"gridwidth\": 2, \"linecolor\": \"white\", \"showbackground\": true, \"ticks\": \"\", \"zerolinecolor\": \"white\"}}, \"shapedefaults\": {\"line\": {\"color\": \"#2a3f5f\"}}, \"ternary\": {\"aaxis\": {\"gridcolor\": \"white\", \"linecolor\": \"white\", \"ticks\": \"\"}, \"baxis\": {\"gridcolor\": \"white\", \"linecolor\": \"white\", \"ticks\": \"\"}, \"bgcolor\": \"#E5ECF6\", \"caxis\": {\"gridcolor\": \"white\", \"linecolor\": \"white\", \"ticks\": \"\"}}, \"title\": {\"x\": 0.05}, \"xaxis\": {\"automargin\": true, \"gridcolor\": \"white\", \"linecolor\": \"white\", \"ticks\": \"\", \"title\": {\"standoff\": 15}, \"zerolinecolor\": \"white\", \"zerolinewidth\": 2}, \"yaxis\": {\"automargin\": true, \"gridcolor\": \"white\", \"linecolor\": \"white\", \"ticks\": \"\", \"title\": {\"standoff\": 15}, \"zerolinecolor\": \"white\", \"zerolinewidth\": 2}}}, \"title\": {\"text\": \"RB WR TE Draft Spending vs. Total Fantasy Points\"}, \"width\": 900, \"xaxis\": {\"anchor\": \"y\", \"domain\": [0.0, 1.0], \"range\": [-1, 100], \"title\": {\"text\": \"Bid Amount ($)\"}}, \"yaxis\": {\"anchor\": \"x\", \"domain\": [0.0, 1.0], \"range\": [-5, 412], \"title\": {\"text\": \"Total points\"}}},\n",
       "                        {\"responsive\": true}\n",
       "                    ).then(function(){\n",
       "                            \n",
       "var gd = document.getElementById('48283802-3e86-49af-91de-1725c42b7f66');\n",
       "var x = new MutationObserver(function (mutations, observer) {{\n",
       "        var display = window.getComputedStyle(gd).display;\n",
       "        if (!display || display === 'none') {{\n",
       "            console.log([gd, 'removed!']);\n",
       "            Plotly.purge(gd);\n",
       "            observer.disconnect();\n",
       "        }}\n",
       "}});\n",
       "\n",
       "// Listen for the removal of the full notebook cells\n",
       "var notebookContainer = gd.closest('#notebook-container');\n",
       "if (notebookContainer) {{\n",
       "    x.observe(notebookContainer, {childList: true});\n",
       "}}\n",
       "\n",
       "// Listen for the clearing of the current output cell\n",
       "var outputEl = gd.closest('.output');\n",
       "if (outputEl) {{\n",
       "    x.observe(outputEl, {childList: true});\n",
       "}}\n",
       "\n",
       "                        })\n",
       "                };\n",
       "                });\n",
       "            </script>\n",
       "        </div>"
      ]
     },
     "metadata": {},
     "output_type": "display_data"
    }
   ],
   "source": [
    "acquisition_method = 'Draft'\n",
    "\n",
    "position_subset = ['RB','WR','TE']\n",
    "\n",
    "df = df_stints_f_draft[df_stints_f_draft['Position'].isin(position_subset)]\n",
    "\n",
    "get_acquisitions_scatterplot(df , ' '.join(position_subset) , acquisition_method)"
   ]
  },
  {
   "cell_type": "code",
   "execution_count": 243,
   "metadata": {},
   "outputs": [
    {
     "data": {
      "application/vnd.plotly.v1+json": {
       "config": {
        "plotlyServerURL": "https://plot.ly"
       },
       "data": [
        {
         "customdata": [
          [
           "More than a  Thielen",
           22,
           338.3,
           [
            1,
            2,
            3,
            4,
            5,
            6,
            7,
            8,
            9,
            10,
            11,
            13,
            14,
            15,
            16,
            17
           ]
          ]
         ],
         "hovertemplate": "<b>%{hovertext}</b><br><br>Team=%{customdata[0]}<br>Bid Amount ($)=%{customdata[1]}<br>Total points=%{customdata[2]}<br>Stint (wks)=%{customdata[3]}<extra></extra>",
         "hovertext": [
          "Patrick Mahomes, QB (KC)"
         ],
         "legendgroup": "More than a  Thielen",
         "marker": {
          "color": "#636efa",
          "symbol": "circle"
         },
         "mode": "markers",
         "name": "More than a  Thielen",
         "showlegend": true,
         "type": "scatter",
         "x": [
          22
         ],
         "xaxis": "x",
         "y": [
          338.3
         ],
         "yaxis": "y"
        },
        {
         "customdata": [
          [
           "Don't Ekele Me",
           13,
           377.4,
           [
            1,
            2,
            3,
            4,
            5,
            6,
            8,
            9,
            10,
            11,
            12,
            13,
            14,
            15,
            16,
            17
           ]
          ]
         ],
         "hovertemplate": "<b>%{hovertext}</b><br><br>Team=%{customdata[0]}<br>Bid Amount ($)=%{customdata[1]}<br>Total points=%{customdata[2]}<br>Stint (wks)=%{customdata[3]}<extra></extra>",
         "hovertext": [
          "Josh Allen, QB (BUF)"
         ],
         "legendgroup": "Don't Ekele Me",
         "marker": {
          "color": "#EF553B",
          "symbol": "circle"
         },
         "mode": "markers",
         "name": "Don't Ekele Me",
         "showlegend": true,
         "type": "scatter",
         "x": [
          13
         ],
         "xaxis": "x",
         "y": [
          377.4
         ],
         "yaxis": "y"
        },
        {
         "customdata": [
          [
           "Ice City USA",
           6,
           241.1,
           [
            1,
            2,
            3,
            4,
            5,
            6,
            7,
            9,
            10,
            11,
            12,
            13,
            14,
            15,
            16,
            17
           ]
          ]
         ],
         "hovertemplate": "<b>%{hovertext}</b><br><br>Team=%{customdata[0]}<br>Bid Amount ($)=%{customdata[1]}<br>Total points=%{customdata[2]}<br>Stint (wks)=%{customdata[3]}<extra></extra>",
         "hovertext": [
          "Lamar Jackson, QB (BAL)"
         ],
         "legendgroup": "Ice City USA",
         "marker": {
          "color": "#00cc96",
          "symbol": "circle"
         },
         "mode": "markers",
         "name": "Ice City USA",
         "showlegend": true,
         "type": "scatter",
         "x": [
          6
         ],
         "xaxis": "x",
         "y": [
          241.1
         ],
         "yaxis": "y"
        },
        {
         "customdata": [
          [
           "Godwin's Memorial",
           6,
           317.3,
           [
            1,
            2,
            3,
            4,
            5,
            6,
            7,
            8,
            9,
            10,
            11,
            12,
            14,
            15,
            16,
            17
           ]
          ]
         ],
         "hovertemplate": "<b>%{hovertext}</b><br><br>Team=%{customdata[0]}<br>Bid Amount ($)=%{customdata[1]}<br>Total points=%{customdata[2]}<br>Stint (wks)=%{customdata[3]}<extra></extra>",
         "hovertext": [
          "Aaron Rodgers, QB (GB)"
         ],
         "legendgroup": "Godwin's Memorial",
         "marker": {
          "color": "#ab63fa",
          "symbol": "circle"
         },
         "mode": "markers",
         "name": "Godwin's Memorial",
         "showlegend": true,
         "type": "scatter",
         "x": [
          6
         ],
         "xaxis": "x",
         "y": [
          317.3
         ],
         "yaxis": "y"
        },
        {
         "customdata": [
          [
           "Repeat Donger",
           4,
           217.8,
           [
            1,
            2,
            3,
            4,
            5,
            6,
            7,
            8,
            10,
            11,
            12,
            13,
            14,
            15,
            16,
            17
           ]
          ]
         ],
         "hovertemplate": "<b>%{hovertext}</b><br><br>Team=%{customdata[0]}<br>Bid Amount ($)=%{customdata[1]}<br>Total points=%{customdata[2]}<br>Stint (wks)=%{customdata[3]}<extra></extra>",
         "hovertext": [
          "Russell Wilson, QB (SEA)"
         ],
         "legendgroup": "Repeat Donger",
         "marker": {
          "color": "#FFA15A",
          "symbol": "circle"
         },
         "mode": "markers",
         "name": "Repeat Donger",
         "showlegend": true,
         "type": "scatter",
         "x": [
          4
         ],
         "xaxis": "x",
         "y": [
          217.8
         ],
         "yaxis": "y"
        },
        {
         "customdata": [
          [
           "Tasteful Dak Piks, by CMC",
           3,
           291.8,
           [
            1,
            2,
            3,
            4,
            5,
            6,
            8,
            9,
            10,
            11,
            12,
            13,
            14,
            15,
            16,
            17
           ]
          ]
         ],
         "hovertemplate": "<b>%{hovertext}</b><br><br>Team=%{customdata[0]}<br>Bid Amount ($)=%{customdata[1]}<br>Total points=%{customdata[2]}<br>Stint (wks)=%{customdata[3]}<extra></extra>",
         "hovertext": [
          "Dak Prescott, QB (DAL)"
         ],
         "legendgroup": "Tasteful Dak Piks, by CMC",
         "marker": {
          "color": "#19d3f3",
          "symbol": "circle"
         },
         "mode": "markers",
         "name": "Tasteful Dak Piks, by CMC",
         "showlegend": true,
         "type": "scatter",
         "x": [
          3
         ],
         "xaxis": "x",
         "y": [
          291.8
         ],
         "yaxis": "y"
        },
        {
         "customdata": [
          [
           "Frankel's Cankles",
           3,
           352.3,
           [
            1,
            2,
            3,
            4,
            5,
            6,
            8,
            9,
            10,
            11,
            12,
            13,
            14,
            15,
            16,
            17
           ]
          ],
          [
           "Frankel's Cankles",
           1,
           0,
           []
          ]
         ],
         "hovertemplate": "<b>%{hovertext}</b><br><br>Team=%{customdata[0]}<br>Bid Amount ($)=%{customdata[1]}<br>Total points=%{customdata[2]}<br>Stint (wks)=%{customdata[3]}<extra></extra>",
         "hovertext": [
          "Justin Herbert, QB (LAC)",
          "Deshaun Watson, QB (HOU)"
         ],
         "legendgroup": "Frankel's Cankles",
         "marker": {
          "color": "#FF6692",
          "symbol": "circle"
         },
         "mode": "markers",
         "name": "Frankel's Cankles",
         "showlegend": true,
         "type": "scatter",
         "x": [
          3,
          1
         ],
         "xaxis": "x",
         "y": [
          352.3,
          0
         ],
         "yaxis": "y"
        },
        {
         "customdata": [
          [
           "Tier 2 never felt so good",
           3,
           284.1,
           [
            1,
            2,
            3,
            4,
            5,
            6,
            7,
            8,
            9,
            10,
            11,
            13,
            14,
            15,
            16,
            17
           ]
          ],
          [
           "Tier 2 never felt so good",
           1,
           310.9,
           [
            1,
            2,
            3,
            4,
            5,
            6,
            7,
            8,
            9,
            10,
            12,
            13,
            14,
            15,
            16,
            17
           ]
          ]
         ],
         "hovertemplate": "<b>%{hovertext}</b><br><br>Team=%{customdata[0]}<br>Bid Amount ($)=%{customdata[1]}<br>Total points=%{customdata[2]}<br>Stint (wks)=%{customdata[3]}<extra></extra>",
         "hovertext": [
          "Kyler Murray, QB (ARI)",
          "Matthew Stafford, QB (LAR)"
         ],
         "legendgroup": "Tier 2 never felt so good",
         "marker": {
          "color": "#B6E880",
          "symbol": "circle"
         },
         "mode": "markers",
         "name": "Tier 2 never felt so good",
         "showlegend": true,
         "type": "scatter",
         "x": [
          3,
          1
         ],
         "xaxis": "x",
         "y": [
          284.1,
          310.9
         ],
         "yaxis": "y"
        },
        {
         "customdata": [
          [
           "Your Antivax Cousins",
           2,
           68.7,
           [
            1,
            2,
            3,
            4
           ]
          ]
         ],
         "hovertemplate": "<b>%{hovertext}</b><br><br>Team=%{customdata[0]}<br>Bid Amount ($)=%{customdata[1]}<br>Total points=%{customdata[2]}<br>Stint (wks)=%{customdata[3]}<extra></extra>",
         "hovertext": [
          "Ryan Tannehill, QB (TEN)"
         ],
         "legendgroup": "Your Antivax Cousins",
         "marker": {
          "color": "#FF97FF",
          "symbol": "circle"
         },
         "mode": "markers",
         "name": "Your Antivax Cousins",
         "showlegend": true,
         "type": "scatter",
         "x": [
          2
         ],
         "xaxis": "x",
         "y": [
          68.7
         ],
         "yaxis": "y"
        },
        {
         "customdata": [
          [
           "Fumble .",
           1,
           354.5,
           [
            1,
            2,
            3,
            4,
            5,
            6,
            7,
            8,
            10,
            11,
            12,
            13,
            14,
            15,
            16,
            17
           ]
          ]
         ],
         "hovertemplate": "<b>%{hovertext}</b><br><br>Team=%{customdata[0]}<br>Bid Amount ($)=%{customdata[1]}<br>Total points=%{customdata[2]}<br>Stint (wks)=%{customdata[3]}<extra></extra>",
         "hovertext": [
          "Tom Brady, QB (TB)"
         ],
         "legendgroup": "Fumble .",
         "marker": {
          "color": "#FECB52",
          "symbol": "circle"
         },
         "mode": "markers",
         "name": "Fumble .",
         "showlegend": true,
         "type": "scatter",
         "x": [
          1
         ],
         "xaxis": "x",
         "y": [
          354.5
         ],
         "yaxis": "y"
        },
        {
         "customdata": [
          [
           "Dick Cheese",
           1,
           310.8,
           [
            1,
            2,
            3,
            4,
            5,
            6,
            7,
            8,
            9,
            10,
            11,
            12,
            13,
            15,
            16,
            17
           ]
          ]
         ],
         "hovertemplate": "<b>%{hovertext}</b><br><br>Team=%{customdata[0]}<br>Bid Amount ($)=%{customdata[1]}<br>Total points=%{customdata[2]}<br>Stint (wks)=%{customdata[3]}<extra></extra>",
         "hovertext": [
          "Jalen Hurts, QB (PHI)"
         ],
         "legendgroup": "Dick Cheese",
         "marker": {
          "color": "#636efa",
          "symbol": "circle"
         },
         "mode": "markers",
         "name": "Dick Cheese",
         "showlegend": true,
         "type": "scatter",
         "x": [
          1
         ],
         "xaxis": "x",
         "y": [
          310.8
         ],
         "yaxis": "y"
        },
        {
         "customdata": [
          [
           "Favre's Wranglers",
           1,
           319.2,
           [
            1,
            2,
            3,
            4,
            5,
            6,
            7,
            8,
            9,
            11,
            12,
            13,
            14,
            15,
            16,
            17
           ]
          ]
         ],
         "hovertemplate": "<b>%{hovertext}</b><br><br>Team=%{customdata[0]}<br>Bid Amount ($)=%{customdata[1]}<br>Total points=%{customdata[2]}<br>Stint (wks)=%{customdata[3]}<extra></extra>",
         "hovertext": [
          "Joe Burrow, QB (CIN)"
         ],
         "legendgroup": "Favre's Wranglers",
         "marker": {
          "color": "#EF553B",
          "symbol": "circle"
         },
         "mode": "markers",
         "name": "Favre's Wranglers",
         "showlegend": true,
         "type": "scatter",
         "x": [
          1
         ],
         "xaxis": "x",
         "y": [
          319.2
         ],
         "yaxis": "y"
        }
       ],
       "layout": {
        "height": 700,
        "legend": {
         "title": {
          "text": "Team"
         },
         "tracegroupgap": 0
        },
        "template": {
         "data": {
          "bar": [
           {
            "error_x": {
             "color": "#2a3f5f"
            },
            "error_y": {
             "color": "#2a3f5f"
            },
            "marker": {
             "line": {
              "color": "#E5ECF6",
              "width": 0.5
             }
            },
            "type": "bar"
           }
          ],
          "barpolar": [
           {
            "marker": {
             "line": {
              "color": "#E5ECF6",
              "width": 0.5
             }
            },
            "type": "barpolar"
           }
          ],
          "carpet": [
           {
            "aaxis": {
             "endlinecolor": "#2a3f5f",
             "gridcolor": "white",
             "linecolor": "white",
             "minorgridcolor": "white",
             "startlinecolor": "#2a3f5f"
            },
            "baxis": {
             "endlinecolor": "#2a3f5f",
             "gridcolor": "white",
             "linecolor": "white",
             "minorgridcolor": "white",
             "startlinecolor": "#2a3f5f"
            },
            "type": "carpet"
           }
          ],
          "choropleth": [
           {
            "colorbar": {
             "outlinewidth": 0,
             "ticks": ""
            },
            "type": "choropleth"
           }
          ],
          "contour": [
           {
            "colorbar": {
             "outlinewidth": 0,
             "ticks": ""
            },
            "colorscale": [
             [
              0,
              "#0d0887"
             ],
             [
              0.1111111111111111,
              "#46039f"
             ],
             [
              0.2222222222222222,
              "#7201a8"
             ],
             [
              0.3333333333333333,
              "#9c179e"
             ],
             [
              0.4444444444444444,
              "#bd3786"
             ],
             [
              0.5555555555555556,
              "#d8576b"
             ],
             [
              0.6666666666666666,
              "#ed7953"
             ],
             [
              0.7777777777777778,
              "#fb9f3a"
             ],
             [
              0.8888888888888888,
              "#fdca26"
             ],
             [
              1,
              "#f0f921"
             ]
            ],
            "type": "contour"
           }
          ],
          "contourcarpet": [
           {
            "colorbar": {
             "outlinewidth": 0,
             "ticks": ""
            },
            "type": "contourcarpet"
           }
          ],
          "heatmap": [
           {
            "colorbar": {
             "outlinewidth": 0,
             "ticks": ""
            },
            "colorscale": [
             [
              0,
              "#0d0887"
             ],
             [
              0.1111111111111111,
              "#46039f"
             ],
             [
              0.2222222222222222,
              "#7201a8"
             ],
             [
              0.3333333333333333,
              "#9c179e"
             ],
             [
              0.4444444444444444,
              "#bd3786"
             ],
             [
              0.5555555555555556,
              "#d8576b"
             ],
             [
              0.6666666666666666,
              "#ed7953"
             ],
             [
              0.7777777777777778,
              "#fb9f3a"
             ],
             [
              0.8888888888888888,
              "#fdca26"
             ],
             [
              1,
              "#f0f921"
             ]
            ],
            "type": "heatmap"
           }
          ],
          "heatmapgl": [
           {
            "colorbar": {
             "outlinewidth": 0,
             "ticks": ""
            },
            "colorscale": [
             [
              0,
              "#0d0887"
             ],
             [
              0.1111111111111111,
              "#46039f"
             ],
             [
              0.2222222222222222,
              "#7201a8"
             ],
             [
              0.3333333333333333,
              "#9c179e"
             ],
             [
              0.4444444444444444,
              "#bd3786"
             ],
             [
              0.5555555555555556,
              "#d8576b"
             ],
             [
              0.6666666666666666,
              "#ed7953"
             ],
             [
              0.7777777777777778,
              "#fb9f3a"
             ],
             [
              0.8888888888888888,
              "#fdca26"
             ],
             [
              1,
              "#f0f921"
             ]
            ],
            "type": "heatmapgl"
           }
          ],
          "histogram": [
           {
            "marker": {
             "colorbar": {
              "outlinewidth": 0,
              "ticks": ""
             }
            },
            "type": "histogram"
           }
          ],
          "histogram2d": [
           {
            "colorbar": {
             "outlinewidth": 0,
             "ticks": ""
            },
            "colorscale": [
             [
              0,
              "#0d0887"
             ],
             [
              0.1111111111111111,
              "#46039f"
             ],
             [
              0.2222222222222222,
              "#7201a8"
             ],
             [
              0.3333333333333333,
              "#9c179e"
             ],
             [
              0.4444444444444444,
              "#bd3786"
             ],
             [
              0.5555555555555556,
              "#d8576b"
             ],
             [
              0.6666666666666666,
              "#ed7953"
             ],
             [
              0.7777777777777778,
              "#fb9f3a"
             ],
             [
              0.8888888888888888,
              "#fdca26"
             ],
             [
              1,
              "#f0f921"
             ]
            ],
            "type": "histogram2d"
           }
          ],
          "histogram2dcontour": [
           {
            "colorbar": {
             "outlinewidth": 0,
             "ticks": ""
            },
            "colorscale": [
             [
              0,
              "#0d0887"
             ],
             [
              0.1111111111111111,
              "#46039f"
             ],
             [
              0.2222222222222222,
              "#7201a8"
             ],
             [
              0.3333333333333333,
              "#9c179e"
             ],
             [
              0.4444444444444444,
              "#bd3786"
             ],
             [
              0.5555555555555556,
              "#d8576b"
             ],
             [
              0.6666666666666666,
              "#ed7953"
             ],
             [
              0.7777777777777778,
              "#fb9f3a"
             ],
             [
              0.8888888888888888,
              "#fdca26"
             ],
             [
              1,
              "#f0f921"
             ]
            ],
            "type": "histogram2dcontour"
           }
          ],
          "mesh3d": [
           {
            "colorbar": {
             "outlinewidth": 0,
             "ticks": ""
            },
            "type": "mesh3d"
           }
          ],
          "parcoords": [
           {
            "line": {
             "colorbar": {
              "outlinewidth": 0,
              "ticks": ""
             }
            },
            "type": "parcoords"
           }
          ],
          "pie": [
           {
            "automargin": true,
            "type": "pie"
           }
          ],
          "scatter": [
           {
            "marker": {
             "colorbar": {
              "outlinewidth": 0,
              "ticks": ""
             }
            },
            "type": "scatter"
           }
          ],
          "scatter3d": [
           {
            "line": {
             "colorbar": {
              "outlinewidth": 0,
              "ticks": ""
             }
            },
            "marker": {
             "colorbar": {
              "outlinewidth": 0,
              "ticks": ""
             }
            },
            "type": "scatter3d"
           }
          ],
          "scattercarpet": [
           {
            "marker": {
             "colorbar": {
              "outlinewidth": 0,
              "ticks": ""
             }
            },
            "type": "scattercarpet"
           }
          ],
          "scattergeo": [
           {
            "marker": {
             "colorbar": {
              "outlinewidth": 0,
              "ticks": ""
             }
            },
            "type": "scattergeo"
           }
          ],
          "scattergl": [
           {
            "marker": {
             "colorbar": {
              "outlinewidth": 0,
              "ticks": ""
             }
            },
            "type": "scattergl"
           }
          ],
          "scattermapbox": [
           {
            "marker": {
             "colorbar": {
              "outlinewidth": 0,
              "ticks": ""
             }
            },
            "type": "scattermapbox"
           }
          ],
          "scatterpolar": [
           {
            "marker": {
             "colorbar": {
              "outlinewidth": 0,
              "ticks": ""
             }
            },
            "type": "scatterpolar"
           }
          ],
          "scatterpolargl": [
           {
            "marker": {
             "colorbar": {
              "outlinewidth": 0,
              "ticks": ""
             }
            },
            "type": "scatterpolargl"
           }
          ],
          "scatterternary": [
           {
            "marker": {
             "colorbar": {
              "outlinewidth": 0,
              "ticks": ""
             }
            },
            "type": "scatterternary"
           }
          ],
          "surface": [
           {
            "colorbar": {
             "outlinewidth": 0,
             "ticks": ""
            },
            "colorscale": [
             [
              0,
              "#0d0887"
             ],
             [
              0.1111111111111111,
              "#46039f"
             ],
             [
              0.2222222222222222,
              "#7201a8"
             ],
             [
              0.3333333333333333,
              "#9c179e"
             ],
             [
              0.4444444444444444,
              "#bd3786"
             ],
             [
              0.5555555555555556,
              "#d8576b"
             ],
             [
              0.6666666666666666,
              "#ed7953"
             ],
             [
              0.7777777777777778,
              "#fb9f3a"
             ],
             [
              0.8888888888888888,
              "#fdca26"
             ],
             [
              1,
              "#f0f921"
             ]
            ],
            "type": "surface"
           }
          ],
          "table": [
           {
            "cells": {
             "fill": {
              "color": "#EBF0F8"
             },
             "line": {
              "color": "white"
             }
            },
            "header": {
             "fill": {
              "color": "#C8D4E3"
             },
             "line": {
              "color": "white"
             }
            },
            "type": "table"
           }
          ]
         },
         "layout": {
          "annotationdefaults": {
           "arrowcolor": "#2a3f5f",
           "arrowhead": 0,
           "arrowwidth": 1
          },
          "coloraxis": {
           "colorbar": {
            "outlinewidth": 0,
            "ticks": ""
           }
          },
          "colorscale": {
           "diverging": [
            [
             0,
             "#8e0152"
            ],
            [
             0.1,
             "#c51b7d"
            ],
            [
             0.2,
             "#de77ae"
            ],
            [
             0.3,
             "#f1b6da"
            ],
            [
             0.4,
             "#fde0ef"
            ],
            [
             0.5,
             "#f7f7f7"
            ],
            [
             0.6,
             "#e6f5d0"
            ],
            [
             0.7,
             "#b8e186"
            ],
            [
             0.8,
             "#7fbc41"
            ],
            [
             0.9,
             "#4d9221"
            ],
            [
             1,
             "#276419"
            ]
           ],
           "sequential": [
            [
             0,
             "#0d0887"
            ],
            [
             0.1111111111111111,
             "#46039f"
            ],
            [
             0.2222222222222222,
             "#7201a8"
            ],
            [
             0.3333333333333333,
             "#9c179e"
            ],
            [
             0.4444444444444444,
             "#bd3786"
            ],
            [
             0.5555555555555556,
             "#d8576b"
            ],
            [
             0.6666666666666666,
             "#ed7953"
            ],
            [
             0.7777777777777778,
             "#fb9f3a"
            ],
            [
             0.8888888888888888,
             "#fdca26"
            ],
            [
             1,
             "#f0f921"
            ]
           ],
           "sequentialminus": [
            [
             0,
             "#0d0887"
            ],
            [
             0.1111111111111111,
             "#46039f"
            ],
            [
             0.2222222222222222,
             "#7201a8"
            ],
            [
             0.3333333333333333,
             "#9c179e"
            ],
            [
             0.4444444444444444,
             "#bd3786"
            ],
            [
             0.5555555555555556,
             "#d8576b"
            ],
            [
             0.6666666666666666,
             "#ed7953"
            ],
            [
             0.7777777777777778,
             "#fb9f3a"
            ],
            [
             0.8888888888888888,
             "#fdca26"
            ],
            [
             1,
             "#f0f921"
            ]
           ]
          },
          "colorway": [
           "#636efa",
           "#EF553B",
           "#00cc96",
           "#ab63fa",
           "#FFA15A",
           "#19d3f3",
           "#FF6692",
           "#B6E880",
           "#FF97FF",
           "#FECB52"
          ],
          "font": {
           "color": "#2a3f5f"
          },
          "geo": {
           "bgcolor": "white",
           "lakecolor": "white",
           "landcolor": "#E5ECF6",
           "showlakes": true,
           "showland": true,
           "subunitcolor": "white"
          },
          "hoverlabel": {
           "align": "left"
          },
          "hovermode": "closest",
          "mapbox": {
           "style": "light"
          },
          "paper_bgcolor": "white",
          "plot_bgcolor": "#E5ECF6",
          "polar": {
           "angularaxis": {
            "gridcolor": "white",
            "linecolor": "white",
            "ticks": ""
           },
           "bgcolor": "#E5ECF6",
           "radialaxis": {
            "gridcolor": "white",
            "linecolor": "white",
            "ticks": ""
           }
          },
          "scene": {
           "xaxis": {
            "backgroundcolor": "#E5ECF6",
            "gridcolor": "white",
            "gridwidth": 2,
            "linecolor": "white",
            "showbackground": true,
            "ticks": "",
            "zerolinecolor": "white"
           },
           "yaxis": {
            "backgroundcolor": "#E5ECF6",
            "gridcolor": "white",
            "gridwidth": 2,
            "linecolor": "white",
            "showbackground": true,
            "ticks": "",
            "zerolinecolor": "white"
           },
           "zaxis": {
            "backgroundcolor": "#E5ECF6",
            "gridcolor": "white",
            "gridwidth": 2,
            "linecolor": "white",
            "showbackground": true,
            "ticks": "",
            "zerolinecolor": "white"
           }
          },
          "shapedefaults": {
           "line": {
            "color": "#2a3f5f"
           }
          },
          "ternary": {
           "aaxis": {
            "gridcolor": "white",
            "linecolor": "white",
            "ticks": ""
           },
           "baxis": {
            "gridcolor": "white",
            "linecolor": "white",
            "ticks": ""
           },
           "bgcolor": "#E5ECF6",
           "caxis": {
            "gridcolor": "white",
            "linecolor": "white",
            "ticks": ""
           }
          },
          "title": {
           "x": 0.05
          },
          "xaxis": {
           "automargin": true,
           "gridcolor": "white",
           "linecolor": "white",
           "ticks": "",
           "title": {
            "standoff": 15
           },
           "zerolinecolor": "white",
           "zerolinewidth": 2
          },
          "yaxis": {
           "automargin": true,
           "gridcolor": "white",
           "linecolor": "white",
           "ticks": "",
           "title": {
            "standoff": 15
           },
           "zerolinecolor": "white",
           "zerolinewidth": 2
          }
         }
        },
        "title": {
         "text": "QB Draft Spending vs. Total Fantasy Points"
        },
        "width": 900,
        "xaxis": {
         "anchor": "y",
         "domain": [
          0,
          1
         ],
         "range": [
          -1,
          26
         ],
         "title": {
          "text": "Bid Amount ($)"
         }
        },
        "yaxis": {
         "anchor": "x",
         "domain": [
          0,
          1
         ],
         "range": [
          -5,
          452
         ],
         "title": {
          "text": "Total points"
         }
        }
       }
      },
      "text/html": [
       "<div>\n",
       "        \n",
       "        \n",
       "            <div id=\"44beda99-240e-46fe-9626-a66ff2b7a8a6\" class=\"plotly-graph-div\" style=\"height:700px; width:900px;\"></div>\n",
       "            <script type=\"text/javascript\">\n",
       "                require([\"plotly\"], function(Plotly) {\n",
       "                    window.PLOTLYENV=window.PLOTLYENV || {};\n",
       "                    \n",
       "                if (document.getElementById(\"44beda99-240e-46fe-9626-a66ff2b7a8a6\")) {\n",
       "                    Plotly.newPlot(\n",
       "                        '44beda99-240e-46fe-9626-a66ff2b7a8a6',\n",
       "                        [{\"customdata\": [[\"More than a  Thielen\", 22, 338.3, [1, 2, 3, 4, 5, 6, 7, 8, 9, 10, 11, 13, 14, 15, 16, 17]]], \"hovertemplate\": \"<b>%{hovertext}</b><br><br>Team=%{customdata[0]}<br>Bid Amount ($)=%{customdata[1]}<br>Total points=%{customdata[2]}<br>Stint (wks)=%{customdata[3]}<extra></extra>\", \"hovertext\": [\"Patrick Mahomes, QB (KC)\"], \"legendgroup\": \"More than a  Thielen\", \"marker\": {\"color\": \"#636efa\", \"symbol\": \"circle\"}, \"mode\": \"markers\", \"name\": \"More than a  Thielen\", \"showlegend\": true, \"type\": \"scatter\", \"x\": [22], \"xaxis\": \"x\", \"y\": [338.3], \"yaxis\": \"y\"}, {\"customdata\": [[\"Don't Ekele Me\", 13, 377.4, [1, 2, 3, 4, 5, 6, 8, 9, 10, 11, 12, 13, 14, 15, 16, 17]]], \"hovertemplate\": \"<b>%{hovertext}</b><br><br>Team=%{customdata[0]}<br>Bid Amount ($)=%{customdata[1]}<br>Total points=%{customdata[2]}<br>Stint (wks)=%{customdata[3]}<extra></extra>\", \"hovertext\": [\"Josh Allen, QB (BUF)\"], \"legendgroup\": \"Don't Ekele Me\", \"marker\": {\"color\": \"#EF553B\", \"symbol\": \"circle\"}, \"mode\": \"markers\", \"name\": \"Don't Ekele Me\", \"showlegend\": true, \"type\": \"scatter\", \"x\": [13], \"xaxis\": \"x\", \"y\": [377.4], \"yaxis\": \"y\"}, {\"customdata\": [[\"Ice City USA\", 6, 241.1, [1, 2, 3, 4, 5, 6, 7, 9, 10, 11, 12, 13, 14, 15, 16, 17]]], \"hovertemplate\": \"<b>%{hovertext}</b><br><br>Team=%{customdata[0]}<br>Bid Amount ($)=%{customdata[1]}<br>Total points=%{customdata[2]}<br>Stint (wks)=%{customdata[3]}<extra></extra>\", \"hovertext\": [\"Lamar Jackson, QB (BAL)\"], \"legendgroup\": \"Ice City USA\", \"marker\": {\"color\": \"#00cc96\", \"symbol\": \"circle\"}, \"mode\": \"markers\", \"name\": \"Ice City USA\", \"showlegend\": true, \"type\": \"scatter\", \"x\": [6], \"xaxis\": \"x\", \"y\": [241.1], \"yaxis\": \"y\"}, {\"customdata\": [[\"Godwin's Memorial\", 6, 317.3, [1, 2, 3, 4, 5, 6, 7, 8, 9, 10, 11, 12, 14, 15, 16, 17]]], \"hovertemplate\": \"<b>%{hovertext}</b><br><br>Team=%{customdata[0]}<br>Bid Amount ($)=%{customdata[1]}<br>Total points=%{customdata[2]}<br>Stint (wks)=%{customdata[3]}<extra></extra>\", \"hovertext\": [\"Aaron Rodgers, QB (GB)\"], \"legendgroup\": \"Godwin's Memorial\", \"marker\": {\"color\": \"#ab63fa\", \"symbol\": \"circle\"}, \"mode\": \"markers\", \"name\": \"Godwin's Memorial\", \"showlegend\": true, \"type\": \"scatter\", \"x\": [6], \"xaxis\": \"x\", \"y\": [317.3], \"yaxis\": \"y\"}, {\"customdata\": [[\"Repeat Donger\", 4, 217.8, [1, 2, 3, 4, 5, 6, 7, 8, 10, 11, 12, 13, 14, 15, 16, 17]]], \"hovertemplate\": \"<b>%{hovertext}</b><br><br>Team=%{customdata[0]}<br>Bid Amount ($)=%{customdata[1]}<br>Total points=%{customdata[2]}<br>Stint (wks)=%{customdata[3]}<extra></extra>\", \"hovertext\": [\"Russell Wilson, QB (SEA)\"], \"legendgroup\": \"Repeat Donger\", \"marker\": {\"color\": \"#FFA15A\", \"symbol\": \"circle\"}, \"mode\": \"markers\", \"name\": \"Repeat Donger\", \"showlegend\": true, \"type\": \"scatter\", \"x\": [4], \"xaxis\": \"x\", \"y\": [217.8], \"yaxis\": \"y\"}, {\"customdata\": [[\"Tasteful Dak Piks, by CMC\", 3, 291.8, [1, 2, 3, 4, 5, 6, 8, 9, 10, 11, 12, 13, 14, 15, 16, 17]]], \"hovertemplate\": \"<b>%{hovertext}</b><br><br>Team=%{customdata[0]}<br>Bid Amount ($)=%{customdata[1]}<br>Total points=%{customdata[2]}<br>Stint (wks)=%{customdata[3]}<extra></extra>\", \"hovertext\": [\"Dak Prescott, QB (DAL)\"], \"legendgroup\": \"Tasteful Dak Piks, by CMC\", \"marker\": {\"color\": \"#19d3f3\", \"symbol\": \"circle\"}, \"mode\": \"markers\", \"name\": \"Tasteful Dak Piks, by CMC\", \"showlegend\": true, \"type\": \"scatter\", \"x\": [3], \"xaxis\": \"x\", \"y\": [291.8], \"yaxis\": \"y\"}, {\"customdata\": [[\"Frankel's Cankles\", 3, 352.3, [1, 2, 3, 4, 5, 6, 8, 9, 10, 11, 12, 13, 14, 15, 16, 17]], [\"Frankel's Cankles\", 1, 0.0, []]], \"hovertemplate\": \"<b>%{hovertext}</b><br><br>Team=%{customdata[0]}<br>Bid Amount ($)=%{customdata[1]}<br>Total points=%{customdata[2]}<br>Stint (wks)=%{customdata[3]}<extra></extra>\", \"hovertext\": [\"Justin Herbert, QB (LAC)\", \"Deshaun Watson, QB (HOU)\"], \"legendgroup\": \"Frankel's Cankles\", \"marker\": {\"color\": \"#FF6692\", \"symbol\": \"circle\"}, \"mode\": \"markers\", \"name\": \"Frankel's Cankles\", \"showlegend\": true, \"type\": \"scatter\", \"x\": [3, 1], \"xaxis\": \"x\", \"y\": [352.3, 0.0], \"yaxis\": \"y\"}, {\"customdata\": [[\"Tier 2 never felt so good\", 3, 284.1, [1, 2, 3, 4, 5, 6, 7, 8, 9, 10, 11, 13, 14, 15, 16, 17]], [\"Tier 2 never felt so good\", 1, 310.9, [1, 2, 3, 4, 5, 6, 7, 8, 9, 10, 12, 13, 14, 15, 16, 17]]], \"hovertemplate\": \"<b>%{hovertext}</b><br><br>Team=%{customdata[0]}<br>Bid Amount ($)=%{customdata[1]}<br>Total points=%{customdata[2]}<br>Stint (wks)=%{customdata[3]}<extra></extra>\", \"hovertext\": [\"Kyler Murray, QB (ARI)\", \"Matthew Stafford, QB (LAR)\"], \"legendgroup\": \"Tier 2 never felt so good\", \"marker\": {\"color\": \"#B6E880\", \"symbol\": \"circle\"}, \"mode\": \"markers\", \"name\": \"Tier 2 never felt so good\", \"showlegend\": true, \"type\": \"scatter\", \"x\": [3, 1], \"xaxis\": \"x\", \"y\": [284.1, 310.9], \"yaxis\": \"y\"}, {\"customdata\": [[\"Your Antivax Cousins\", 2, 68.7, [1, 2, 3, 4]]], \"hovertemplate\": \"<b>%{hovertext}</b><br><br>Team=%{customdata[0]}<br>Bid Amount ($)=%{customdata[1]}<br>Total points=%{customdata[2]}<br>Stint (wks)=%{customdata[3]}<extra></extra>\", \"hovertext\": [\"Ryan Tannehill, QB (TEN)\"], \"legendgroup\": \"Your Antivax Cousins\", \"marker\": {\"color\": \"#FF97FF\", \"symbol\": \"circle\"}, \"mode\": \"markers\", \"name\": \"Your Antivax Cousins\", \"showlegend\": true, \"type\": \"scatter\", \"x\": [2], \"xaxis\": \"x\", \"y\": [68.7], \"yaxis\": \"y\"}, {\"customdata\": [[\"Fumble .\", 1, 354.5, [1, 2, 3, 4, 5, 6, 7, 8, 10, 11, 12, 13, 14, 15, 16, 17]]], \"hovertemplate\": \"<b>%{hovertext}</b><br><br>Team=%{customdata[0]}<br>Bid Amount ($)=%{customdata[1]}<br>Total points=%{customdata[2]}<br>Stint (wks)=%{customdata[3]}<extra></extra>\", \"hovertext\": [\"Tom Brady, QB (TB)\"], \"legendgroup\": \"Fumble .\", \"marker\": {\"color\": \"#FECB52\", \"symbol\": \"circle\"}, \"mode\": \"markers\", \"name\": \"Fumble .\", \"showlegend\": true, \"type\": \"scatter\", \"x\": [1], \"xaxis\": \"x\", \"y\": [354.5], \"yaxis\": \"y\"}, {\"customdata\": [[\"Dick Cheese\", 1, 310.8, [1, 2, 3, 4, 5, 6, 7, 8, 9, 10, 11, 12, 13, 15, 16, 17]]], \"hovertemplate\": \"<b>%{hovertext}</b><br><br>Team=%{customdata[0]}<br>Bid Amount ($)=%{customdata[1]}<br>Total points=%{customdata[2]}<br>Stint (wks)=%{customdata[3]}<extra></extra>\", \"hovertext\": [\"Jalen Hurts, QB (PHI)\"], \"legendgroup\": \"Dick Cheese\", \"marker\": {\"color\": \"#636efa\", \"symbol\": \"circle\"}, \"mode\": \"markers\", \"name\": \"Dick Cheese\", \"showlegend\": true, \"type\": \"scatter\", \"x\": [1], \"xaxis\": \"x\", \"y\": [310.8], \"yaxis\": \"y\"}, {\"customdata\": [[\"Favre's Wranglers\", 1, 319.2, [1, 2, 3, 4, 5, 6, 7, 8, 9, 11, 12, 13, 14, 15, 16, 17]]], \"hovertemplate\": \"<b>%{hovertext}</b><br><br>Team=%{customdata[0]}<br>Bid Amount ($)=%{customdata[1]}<br>Total points=%{customdata[2]}<br>Stint (wks)=%{customdata[3]}<extra></extra>\", \"hovertext\": [\"Joe Burrow, QB (CIN)\"], \"legendgroup\": \"Favre's Wranglers\", \"marker\": {\"color\": \"#EF553B\", \"symbol\": \"circle\"}, \"mode\": \"markers\", \"name\": \"Favre's Wranglers\", \"showlegend\": true, \"type\": \"scatter\", \"x\": [1], \"xaxis\": \"x\", \"y\": [319.2], \"yaxis\": \"y\"}],\n",
       "                        {\"height\": 700, \"legend\": {\"title\": {\"text\": \"Team\"}, \"tracegroupgap\": 0}, \"template\": {\"data\": {\"bar\": [{\"error_x\": {\"color\": \"#2a3f5f\"}, \"error_y\": {\"color\": \"#2a3f5f\"}, \"marker\": {\"line\": {\"color\": \"#E5ECF6\", \"width\": 0.5}}, \"type\": \"bar\"}], \"barpolar\": [{\"marker\": {\"line\": {\"color\": \"#E5ECF6\", \"width\": 0.5}}, \"type\": \"barpolar\"}], \"carpet\": [{\"aaxis\": {\"endlinecolor\": \"#2a3f5f\", \"gridcolor\": \"white\", \"linecolor\": \"white\", \"minorgridcolor\": \"white\", \"startlinecolor\": \"#2a3f5f\"}, \"baxis\": {\"endlinecolor\": \"#2a3f5f\", \"gridcolor\": \"white\", \"linecolor\": \"white\", \"minorgridcolor\": \"white\", \"startlinecolor\": \"#2a3f5f\"}, \"type\": \"carpet\"}], \"choropleth\": [{\"colorbar\": {\"outlinewidth\": 0, \"ticks\": \"\"}, \"type\": \"choropleth\"}], \"contour\": [{\"colorbar\": {\"outlinewidth\": 0, \"ticks\": \"\"}, \"colorscale\": [[0.0, \"#0d0887\"], [0.1111111111111111, \"#46039f\"], [0.2222222222222222, \"#7201a8\"], [0.3333333333333333, \"#9c179e\"], [0.4444444444444444, \"#bd3786\"], [0.5555555555555556, \"#d8576b\"], [0.6666666666666666, \"#ed7953\"], [0.7777777777777778, \"#fb9f3a\"], [0.8888888888888888, \"#fdca26\"], [1.0, \"#f0f921\"]], \"type\": \"contour\"}], \"contourcarpet\": [{\"colorbar\": {\"outlinewidth\": 0, \"ticks\": \"\"}, \"type\": \"contourcarpet\"}], \"heatmap\": [{\"colorbar\": {\"outlinewidth\": 0, \"ticks\": \"\"}, \"colorscale\": [[0.0, \"#0d0887\"], [0.1111111111111111, \"#46039f\"], [0.2222222222222222, \"#7201a8\"], [0.3333333333333333, \"#9c179e\"], [0.4444444444444444, \"#bd3786\"], [0.5555555555555556, \"#d8576b\"], [0.6666666666666666, \"#ed7953\"], [0.7777777777777778, \"#fb9f3a\"], [0.8888888888888888, \"#fdca26\"], [1.0, \"#f0f921\"]], \"type\": \"heatmap\"}], \"heatmapgl\": [{\"colorbar\": {\"outlinewidth\": 0, \"ticks\": \"\"}, \"colorscale\": [[0.0, \"#0d0887\"], [0.1111111111111111, \"#46039f\"], [0.2222222222222222, \"#7201a8\"], [0.3333333333333333, \"#9c179e\"], [0.4444444444444444, \"#bd3786\"], [0.5555555555555556, \"#d8576b\"], [0.6666666666666666, \"#ed7953\"], [0.7777777777777778, \"#fb9f3a\"], [0.8888888888888888, \"#fdca26\"], [1.0, \"#f0f921\"]], \"type\": \"heatmapgl\"}], \"histogram\": [{\"marker\": {\"colorbar\": {\"outlinewidth\": 0, \"ticks\": \"\"}}, \"type\": \"histogram\"}], \"histogram2d\": [{\"colorbar\": {\"outlinewidth\": 0, \"ticks\": \"\"}, \"colorscale\": [[0.0, \"#0d0887\"], [0.1111111111111111, \"#46039f\"], [0.2222222222222222, \"#7201a8\"], [0.3333333333333333, \"#9c179e\"], [0.4444444444444444, \"#bd3786\"], [0.5555555555555556, \"#d8576b\"], [0.6666666666666666, \"#ed7953\"], [0.7777777777777778, \"#fb9f3a\"], [0.8888888888888888, \"#fdca26\"], [1.0, \"#f0f921\"]], \"type\": \"histogram2d\"}], \"histogram2dcontour\": [{\"colorbar\": {\"outlinewidth\": 0, \"ticks\": \"\"}, \"colorscale\": [[0.0, \"#0d0887\"], [0.1111111111111111, \"#46039f\"], [0.2222222222222222, \"#7201a8\"], [0.3333333333333333, \"#9c179e\"], [0.4444444444444444, \"#bd3786\"], [0.5555555555555556, \"#d8576b\"], [0.6666666666666666, \"#ed7953\"], [0.7777777777777778, \"#fb9f3a\"], [0.8888888888888888, \"#fdca26\"], [1.0, \"#f0f921\"]], \"type\": \"histogram2dcontour\"}], \"mesh3d\": [{\"colorbar\": {\"outlinewidth\": 0, \"ticks\": \"\"}, \"type\": \"mesh3d\"}], \"parcoords\": [{\"line\": {\"colorbar\": {\"outlinewidth\": 0, \"ticks\": \"\"}}, \"type\": \"parcoords\"}], \"pie\": [{\"automargin\": true, \"type\": \"pie\"}], \"scatter\": [{\"marker\": {\"colorbar\": {\"outlinewidth\": 0, \"ticks\": \"\"}}, \"type\": \"scatter\"}], \"scatter3d\": [{\"line\": {\"colorbar\": {\"outlinewidth\": 0, \"ticks\": \"\"}}, \"marker\": {\"colorbar\": {\"outlinewidth\": 0, \"ticks\": \"\"}}, \"type\": \"scatter3d\"}], \"scattercarpet\": [{\"marker\": {\"colorbar\": {\"outlinewidth\": 0, \"ticks\": \"\"}}, \"type\": \"scattercarpet\"}], \"scattergeo\": [{\"marker\": {\"colorbar\": {\"outlinewidth\": 0, \"ticks\": \"\"}}, \"type\": \"scattergeo\"}], \"scattergl\": [{\"marker\": {\"colorbar\": {\"outlinewidth\": 0, \"ticks\": \"\"}}, \"type\": \"scattergl\"}], \"scattermapbox\": [{\"marker\": {\"colorbar\": {\"outlinewidth\": 0, \"ticks\": \"\"}}, \"type\": \"scattermapbox\"}], \"scatterpolar\": [{\"marker\": {\"colorbar\": {\"outlinewidth\": 0, \"ticks\": \"\"}}, \"type\": \"scatterpolar\"}], \"scatterpolargl\": [{\"marker\": {\"colorbar\": {\"outlinewidth\": 0, \"ticks\": \"\"}}, \"type\": \"scatterpolargl\"}], \"scatterternary\": [{\"marker\": {\"colorbar\": {\"outlinewidth\": 0, \"ticks\": \"\"}}, \"type\": \"scatterternary\"}], \"surface\": [{\"colorbar\": {\"outlinewidth\": 0, \"ticks\": \"\"}, \"colorscale\": [[0.0, \"#0d0887\"], [0.1111111111111111, \"#46039f\"], [0.2222222222222222, \"#7201a8\"], [0.3333333333333333, \"#9c179e\"], [0.4444444444444444, \"#bd3786\"], [0.5555555555555556, \"#d8576b\"], [0.6666666666666666, \"#ed7953\"], [0.7777777777777778, \"#fb9f3a\"], [0.8888888888888888, \"#fdca26\"], [1.0, \"#f0f921\"]], \"type\": \"surface\"}], \"table\": [{\"cells\": {\"fill\": {\"color\": \"#EBF0F8\"}, \"line\": {\"color\": \"white\"}}, \"header\": {\"fill\": {\"color\": \"#C8D4E3\"}, \"line\": {\"color\": \"white\"}}, \"type\": \"table\"}]}, \"layout\": {\"annotationdefaults\": {\"arrowcolor\": \"#2a3f5f\", \"arrowhead\": 0, \"arrowwidth\": 1}, \"coloraxis\": {\"colorbar\": {\"outlinewidth\": 0, \"ticks\": \"\"}}, \"colorscale\": {\"diverging\": [[0, \"#8e0152\"], [0.1, \"#c51b7d\"], [0.2, \"#de77ae\"], [0.3, \"#f1b6da\"], [0.4, \"#fde0ef\"], [0.5, \"#f7f7f7\"], [0.6, \"#e6f5d0\"], [0.7, \"#b8e186\"], [0.8, \"#7fbc41\"], [0.9, \"#4d9221\"], [1, \"#276419\"]], \"sequential\": [[0.0, \"#0d0887\"], [0.1111111111111111, \"#46039f\"], [0.2222222222222222, \"#7201a8\"], [0.3333333333333333, \"#9c179e\"], [0.4444444444444444, \"#bd3786\"], [0.5555555555555556, \"#d8576b\"], [0.6666666666666666, \"#ed7953\"], [0.7777777777777778, \"#fb9f3a\"], [0.8888888888888888, \"#fdca26\"], [1.0, \"#f0f921\"]], \"sequentialminus\": [[0.0, \"#0d0887\"], [0.1111111111111111, \"#46039f\"], [0.2222222222222222, \"#7201a8\"], [0.3333333333333333, \"#9c179e\"], [0.4444444444444444, \"#bd3786\"], [0.5555555555555556, \"#d8576b\"], [0.6666666666666666, \"#ed7953\"], [0.7777777777777778, \"#fb9f3a\"], [0.8888888888888888, \"#fdca26\"], [1.0, \"#f0f921\"]]}, \"colorway\": [\"#636efa\", \"#EF553B\", \"#00cc96\", \"#ab63fa\", \"#FFA15A\", \"#19d3f3\", \"#FF6692\", \"#B6E880\", \"#FF97FF\", \"#FECB52\"], \"font\": {\"color\": \"#2a3f5f\"}, \"geo\": {\"bgcolor\": \"white\", \"lakecolor\": \"white\", \"landcolor\": \"#E5ECF6\", \"showlakes\": true, \"showland\": true, \"subunitcolor\": \"white\"}, \"hoverlabel\": {\"align\": \"left\"}, \"hovermode\": \"closest\", \"mapbox\": {\"style\": \"light\"}, \"paper_bgcolor\": \"white\", \"plot_bgcolor\": \"#E5ECF6\", \"polar\": {\"angularaxis\": {\"gridcolor\": \"white\", \"linecolor\": \"white\", \"ticks\": \"\"}, \"bgcolor\": \"#E5ECF6\", \"radialaxis\": {\"gridcolor\": \"white\", \"linecolor\": \"white\", \"ticks\": \"\"}}, \"scene\": {\"xaxis\": {\"backgroundcolor\": \"#E5ECF6\", \"gridcolor\": \"white\", \"gridwidth\": 2, \"linecolor\": \"white\", \"showbackground\": true, \"ticks\": \"\", \"zerolinecolor\": \"white\"}, \"yaxis\": {\"backgroundcolor\": \"#E5ECF6\", \"gridcolor\": \"white\", \"gridwidth\": 2, \"linecolor\": \"white\", \"showbackground\": true, \"ticks\": \"\", \"zerolinecolor\": \"white\"}, \"zaxis\": {\"backgroundcolor\": \"#E5ECF6\", \"gridcolor\": \"white\", \"gridwidth\": 2, \"linecolor\": \"white\", \"showbackground\": true, \"ticks\": \"\", \"zerolinecolor\": \"white\"}}, \"shapedefaults\": {\"line\": {\"color\": \"#2a3f5f\"}}, \"ternary\": {\"aaxis\": {\"gridcolor\": \"white\", \"linecolor\": \"white\", \"ticks\": \"\"}, \"baxis\": {\"gridcolor\": \"white\", \"linecolor\": \"white\", \"ticks\": \"\"}, \"bgcolor\": \"#E5ECF6\", \"caxis\": {\"gridcolor\": \"white\", \"linecolor\": \"white\", \"ticks\": \"\"}}, \"title\": {\"x\": 0.05}, \"xaxis\": {\"automargin\": true, \"gridcolor\": \"white\", \"linecolor\": \"white\", \"ticks\": \"\", \"title\": {\"standoff\": 15}, \"zerolinecolor\": \"white\", \"zerolinewidth\": 2}, \"yaxis\": {\"automargin\": true, \"gridcolor\": \"white\", \"linecolor\": \"white\", \"ticks\": \"\", \"title\": {\"standoff\": 15}, \"zerolinecolor\": \"white\", \"zerolinewidth\": 2}}}, \"title\": {\"text\": \"QB Draft Spending vs. Total Fantasy Points\"}, \"width\": 900, \"xaxis\": {\"anchor\": \"y\", \"domain\": [0.0, 1.0], \"range\": [-1, 26], \"title\": {\"text\": \"Bid Amount ($)\"}}, \"yaxis\": {\"anchor\": \"x\", \"domain\": [0.0, 1.0], \"range\": [-5, 452], \"title\": {\"text\": \"Total points\"}}},\n",
       "                        {\"responsive\": true}\n",
       "                    ).then(function(){\n",
       "                            \n",
       "var gd = document.getElementById('44beda99-240e-46fe-9626-a66ff2b7a8a6');\n",
       "var x = new MutationObserver(function (mutations, observer) {{\n",
       "        var display = window.getComputedStyle(gd).display;\n",
       "        if (!display || display === 'none') {{\n",
       "            console.log([gd, 'removed!']);\n",
       "            Plotly.purge(gd);\n",
       "            observer.disconnect();\n",
       "        }}\n",
       "}});\n",
       "\n",
       "// Listen for the removal of the full notebook cells\n",
       "var notebookContainer = gd.closest('#notebook-container');\n",
       "if (notebookContainer) {{\n",
       "    x.observe(notebookContainer, {childList: true});\n",
       "}}\n",
       "\n",
       "// Listen for the clearing of the current output cell\n",
       "var outputEl = gd.closest('.output');\n",
       "if (outputEl) {{\n",
       "    x.observe(outputEl, {childList: true});\n",
       "}}\n",
       "\n",
       "                        })\n",
       "                };\n",
       "                });\n",
       "            </script>\n",
       "        </div>"
      ]
     },
     "metadata": {},
     "output_type": "display_data"
    }
   ],
   "source": [
    "acquisition_method = 'Draft'\n",
    "position_subset = ['QB']\n",
    "\n",
    "df = df_stints_f_draft[df_stints_f_draft['Position'].isin(position_subset)]\n",
    "\n",
    "get_acquisitions_scatterplot(df , ' '.join(position_subset), acquisition_method)"
   ]
  },
  {
   "cell_type": "code",
   "execution_count": 244,
   "metadata": {},
   "outputs": [
    {
     "data": {
      "application/vnd.plotly.v1+json": {
       "config": {
        "plotlyServerURL": "https://plot.ly"
       },
       "data": [
        {
         "customdata": [
          [
           "Favre's Wranglers",
           67,
           205.4,
           [
            1,
            2,
            3,
            4,
            5,
            6,
            7,
            8,
            9,
            10,
            11,
            13,
            14,
            15,
            16,
            17
           ]
          ]
         ],
         "hovertemplate": "<b>%{hovertext}</b><br><br>Team=%{customdata[0]}<br>Bid Amount ($)=%{customdata[1]}<br>Total points=%{customdata[2]}<br>Stint (wks)=%{customdata[3]}<extra></extra>",
         "hovertext": [
          "Travis Kelce, TE (KC)"
         ],
         "legendgroup": "Favre's Wranglers",
         "marker": {
          "color": "#636efa",
          "symbol": "circle"
         },
         "mode": "markers",
         "name": "Favre's Wranglers",
         "showlegend": true,
         "type": "scatter",
         "x": [
          67
         ],
         "xaxis": "x",
         "y": [
          205.4
         ],
         "yaxis": "y"
        },
        {
         "customdata": [
          [
           "More than a  Thielen",
           35,
           102.8,
           [
            1,
            2,
            3,
            4,
            5,
            6,
            7,
            9,
            10,
            11,
            12,
            13,
            14,
            15,
            16,
            17
           ]
          ]
         ],
         "hovertemplate": "<b>%{hovertext}</b><br><br>Team=%{customdata[0]}<br>Bid Amount ($)=%{customdata[1]}<br>Total points=%{customdata[2]}<br>Stint (wks)=%{customdata[3]}<extra></extra>",
         "hovertext": [
          "Darren Waller, TE (OAK)"
         ],
         "legendgroup": "More than a  Thielen",
         "marker": {
          "color": "#EF553B",
          "symbol": "circle"
         },
         "mode": "markers",
         "name": "More than a  Thielen",
         "showlegend": true,
         "type": "scatter",
         "x": [
          35
         ],
         "xaxis": "x",
         "y": [
          102.8
         ],
         "yaxis": "y"
        },
        {
         "customdata": [
          [
           "Don't Ekele Me",
           32,
           159,
           [
            1,
            2,
            3,
            4,
            5,
            7,
            8,
            9,
            10,
            11,
            12,
            13,
            14,
            15,
            16,
            17
           ]
          ]
         ],
         "hovertemplate": "<b>%{hovertext}</b><br><br>Team=%{customdata[0]}<br>Bid Amount ($)=%{customdata[1]}<br>Total points=%{customdata[2]}<br>Stint (wks)=%{customdata[3]}<extra></extra>",
         "hovertext": [
          "George Kittle, TE (SF)"
         ],
         "legendgroup": "Don't Ekele Me",
         "marker": {
          "color": "#00cc96",
          "symbol": "circle"
         },
         "mode": "markers",
         "name": "Don't Ekele Me",
         "showlegend": true,
         "type": "scatter",
         "x": [
          32
         ],
         "xaxis": "x",
         "y": [
          159
         ],
         "yaxis": "y"
        },
        {
         "customdata": [
          [
           "Ice City USA",
           16,
           235.1,
           [
            1,
            2,
            3,
            4,
            5,
            6,
            7,
            9,
            10,
            11,
            12,
            13,
            14,
            15,
            16,
            17
           ]
          ]
         ],
         "hovertemplate": "<b>%{hovertext}</b><br><br>Team=%{customdata[0]}<br>Bid Amount ($)=%{customdata[1]}<br>Total points=%{customdata[2]}<br>Stint (wks)=%{customdata[3]}<extra></extra>",
         "hovertext": [
          "Mark Andrews, TE (BAL)"
         ],
         "legendgroup": "Ice City USA",
         "marker": {
          "color": "#ab63fa",
          "symbol": "circle"
         },
         "mode": "markers",
         "name": "Ice City USA",
         "showlegend": true,
         "type": "scatter",
         "x": [
          16
         ],
         "xaxis": "x",
         "y": [
          235.1
         ],
         "yaxis": "y"
        },
        {
         "customdata": [
          [
           "Godwin's Memorial",
           9,
           27.7,
           [
            1,
            2,
            3,
            4,
            5
           ]
          ],
          [
           "Godwin's Memorial",
           5,
           140.8,
           [
            1,
            2,
            3,
            4,
            5,
            7,
            8,
            9,
            10,
            11,
            12,
            13,
            14,
            15,
            16,
            17
           ]
          ]
         ],
         "hovertemplate": "<b>%{hovertext}</b><br><br>Team=%{customdata[0]}<br>Bid Amount ($)=%{customdata[1]}<br>Total points=%{customdata[2]}<br>Stint (wks)=%{customdata[3]}<extra></extra>",
         "hovertext": [
          "Logan Thomas, TE (WSH)",
          "Kyle Pitts, TE (ATL)"
         ],
         "legendgroup": "Godwin's Memorial",
         "marker": {
          "color": "#FFA15A",
          "symbol": "circle"
         },
         "mode": "markers",
         "name": "Godwin's Memorial",
         "showlegend": true,
         "type": "scatter",
         "x": [
          9,
          5
         ],
         "xaxis": "x",
         "y": [
          27.7,
          140.8
         ],
         "yaxis": "y"
        },
        {
         "customdata": [
          [
           "Frankel's Cankles",
           7,
           114.8,
           [
            1,
            2,
            3,
            4,
            5,
            6,
            7,
            8,
            10,
            11,
            12,
            13,
            14,
            15,
            16,
            17
           ]
          ]
         ],
         "hovertemplate": "<b>%{hovertext}</b><br><br>Team=%{customdata[0]}<br>Bid Amount ($)=%{customdata[1]}<br>Total points=%{customdata[2]}<br>Stint (wks)=%{customdata[3]}<extra></extra>",
         "hovertext": [
          "T.J. Hockenson, TE (DET)"
         ],
         "legendgroup": "Frankel's Cankles",
         "marker": {
          "color": "#19d3f3",
          "symbol": "circle"
         },
         "mode": "markers",
         "name": "Frankel's Cankles",
         "showlegend": true,
         "type": "scatter",
         "x": [
          7
         ],
         "xaxis": "x",
         "y": [
          114.8
         ],
         "yaxis": "y"
        },
        {
         "customdata": [
          [
           "Repeat Donger",
           5,
           68.5,
           [
            1,
            2,
            3,
            4,
            5,
            6,
            7,
            8
           ]
          ]
         ],
         "hovertemplate": "<b>%{hovertext}</b><br><br>Team=%{customdata[0]}<br>Bid Amount ($)=%{customdata[1]}<br>Total points=%{customdata[2]}<br>Stint (wks)=%{customdata[3]}<extra></extra>",
         "hovertext": [
          "Noah Fant, TE (DEN)"
         ],
         "legendgroup": "Repeat Donger",
         "marker": {
          "color": "#FF6692",
          "symbol": "circle"
         },
         "mode": "markers",
         "name": "Repeat Donger",
         "showlegend": true,
         "type": "scatter",
         "x": [
          5
         ],
         "xaxis": "x",
         "y": [
          68.5
         ],
         "yaxis": "y"
        },
        {
         "customdata": [
          [
           "Dick Cheese",
           1,
           137,
           [
            1,
            2,
            3,
            4,
            5,
            6,
            7,
            8,
            9,
            10,
            11,
            12,
            13,
            15,
            16,
            17
           ]
          ]
         ],
         "hovertemplate": "<b>%{hovertext}</b><br><br>Team=%{customdata[0]}<br>Bid Amount ($)=%{customdata[1]}<br>Total points=%{customdata[2]}<br>Stint (wks)=%{customdata[3]}<extra></extra>",
         "hovertext": [
          "Dallas Goedert, TE (PHI)"
         ],
         "legendgroup": "Dick Cheese",
         "marker": {
          "color": "#B6E880",
          "symbol": "circle"
         },
         "mode": "markers",
         "name": "Dick Cheese",
         "showlegend": true,
         "type": "scatter",
         "x": [
          1
         ],
         "xaxis": "x",
         "y": [
          137
         ],
         "yaxis": "y"
        },
        {
         "customdata": [
          [
           "Fumble .",
           1,
           0,
           [
            1
           ]
          ]
         ],
         "hovertemplate": "<b>%{hovertext}</b><br><br>Team=%{customdata[0]}<br>Bid Amount ($)=%{customdata[1]}<br>Total points=%{customdata[2]}<br>Stint (wks)=%{customdata[3]}<extra></extra>",
         "hovertext": [
          "Mike Gesicki, TE (MIA)"
         ],
         "legendgroup": "Fumble .",
         "marker": {
          "color": "#FF97FF",
          "symbol": "circle"
         },
         "mode": "markers",
         "name": "Fumble .",
         "showlegend": true,
         "type": "scatter",
         "x": [
          1
         ],
         "xaxis": "x",
         "y": [
          0
         ],
         "yaxis": "y"
        },
        {
         "customdata": [
          [
           "Tier 2 never felt so good",
           1,
           41.4,
           [
            1,
            2,
            3,
            4,
            5,
            6,
            7,
            8,
            9,
            10,
            11
           ]
          ]
         ],
         "hovertemplate": "<b>%{hovertext}</b><br><br>Team=%{customdata[0]}<br>Bid Amount ($)=%{customdata[1]}<br>Total points=%{customdata[2]}<br>Stint (wks)=%{customdata[3]}<extra></extra>",
         "hovertext": [
          "Robert Tonyan, TE (GB)"
         ],
         "legendgroup": "Tier 2 never felt so good",
         "marker": {
          "color": "#FECB52",
          "symbol": "circle"
         },
         "mode": "markers",
         "name": "Tier 2 never felt so good",
         "showlegend": true,
         "type": "scatter",
         "x": [
          1
         ],
         "xaxis": "x",
         "y": [
          41.4
         ],
         "yaxis": "y"
        },
        {
         "customdata": [
          [
           "Tasteful Dak Piks, by CMC",
           1,
           13,
           [
            1,
            2,
            3
           ]
          ]
         ],
         "hovertemplate": "<b>%{hovertext}</b><br><br>Team=%{customdata[0]}<br>Bid Amount ($)=%{customdata[1]}<br>Total points=%{customdata[2]}<br>Stint (wks)=%{customdata[3]}<extra></extra>",
         "hovertext": [
          "Jonnu Smith, TE (NE)"
         ],
         "legendgroup": "Tasteful Dak Piks, by CMC",
         "marker": {
          "color": "#636efa",
          "symbol": "circle"
         },
         "mode": "markers",
         "name": "Tasteful Dak Piks, by CMC",
         "showlegend": true,
         "type": "scatter",
         "x": [
          1
         ],
         "xaxis": "x",
         "y": [
          13
         ],
         "yaxis": "y"
        },
        {
         "customdata": [
          [
           "Your Antivax Cousins",
           1,
           71.4,
           [
            1,
            2,
            3,
            4,
            5,
            6,
            7,
            8,
            9,
            10
           ]
          ]
         ],
         "hovertemplate": "<b>%{hovertext}</b><br><br>Team=%{customdata[0]}<br>Bid Amount ($)=%{customdata[1]}<br>Total points=%{customdata[2]}<br>Stint (wks)=%{customdata[3]}<extra></extra>",
         "hovertext": [
          "Tyler Higbee, TE (LAR)"
         ],
         "legendgroup": "Your Antivax Cousins",
         "marker": {
          "color": "#EF553B",
          "symbol": "circle"
         },
         "mode": "markers",
         "name": "Your Antivax Cousins",
         "showlegend": true,
         "type": "scatter",
         "x": [
          1
         ],
         "xaxis": "x",
         "y": [
          71.4
         ],
         "yaxis": "y"
        }
       ],
       "layout": {
        "height": 700,
        "legend": {
         "title": {
          "text": "Team"
         },
         "tracegroupgap": 0
        },
        "template": {
         "data": {
          "bar": [
           {
            "error_x": {
             "color": "#2a3f5f"
            },
            "error_y": {
             "color": "#2a3f5f"
            },
            "marker": {
             "line": {
              "color": "#E5ECF6",
              "width": 0.5
             }
            },
            "type": "bar"
           }
          ],
          "barpolar": [
           {
            "marker": {
             "line": {
              "color": "#E5ECF6",
              "width": 0.5
             }
            },
            "type": "barpolar"
           }
          ],
          "carpet": [
           {
            "aaxis": {
             "endlinecolor": "#2a3f5f",
             "gridcolor": "white",
             "linecolor": "white",
             "minorgridcolor": "white",
             "startlinecolor": "#2a3f5f"
            },
            "baxis": {
             "endlinecolor": "#2a3f5f",
             "gridcolor": "white",
             "linecolor": "white",
             "minorgridcolor": "white",
             "startlinecolor": "#2a3f5f"
            },
            "type": "carpet"
           }
          ],
          "choropleth": [
           {
            "colorbar": {
             "outlinewidth": 0,
             "ticks": ""
            },
            "type": "choropleth"
           }
          ],
          "contour": [
           {
            "colorbar": {
             "outlinewidth": 0,
             "ticks": ""
            },
            "colorscale": [
             [
              0,
              "#0d0887"
             ],
             [
              0.1111111111111111,
              "#46039f"
             ],
             [
              0.2222222222222222,
              "#7201a8"
             ],
             [
              0.3333333333333333,
              "#9c179e"
             ],
             [
              0.4444444444444444,
              "#bd3786"
             ],
             [
              0.5555555555555556,
              "#d8576b"
             ],
             [
              0.6666666666666666,
              "#ed7953"
             ],
             [
              0.7777777777777778,
              "#fb9f3a"
             ],
             [
              0.8888888888888888,
              "#fdca26"
             ],
             [
              1,
              "#f0f921"
             ]
            ],
            "type": "contour"
           }
          ],
          "contourcarpet": [
           {
            "colorbar": {
             "outlinewidth": 0,
             "ticks": ""
            },
            "type": "contourcarpet"
           }
          ],
          "heatmap": [
           {
            "colorbar": {
             "outlinewidth": 0,
             "ticks": ""
            },
            "colorscale": [
             [
              0,
              "#0d0887"
             ],
             [
              0.1111111111111111,
              "#46039f"
             ],
             [
              0.2222222222222222,
              "#7201a8"
             ],
             [
              0.3333333333333333,
              "#9c179e"
             ],
             [
              0.4444444444444444,
              "#bd3786"
             ],
             [
              0.5555555555555556,
              "#d8576b"
             ],
             [
              0.6666666666666666,
              "#ed7953"
             ],
             [
              0.7777777777777778,
              "#fb9f3a"
             ],
             [
              0.8888888888888888,
              "#fdca26"
             ],
             [
              1,
              "#f0f921"
             ]
            ],
            "type": "heatmap"
           }
          ],
          "heatmapgl": [
           {
            "colorbar": {
             "outlinewidth": 0,
             "ticks": ""
            },
            "colorscale": [
             [
              0,
              "#0d0887"
             ],
             [
              0.1111111111111111,
              "#46039f"
             ],
             [
              0.2222222222222222,
              "#7201a8"
             ],
             [
              0.3333333333333333,
              "#9c179e"
             ],
             [
              0.4444444444444444,
              "#bd3786"
             ],
             [
              0.5555555555555556,
              "#d8576b"
             ],
             [
              0.6666666666666666,
              "#ed7953"
             ],
             [
              0.7777777777777778,
              "#fb9f3a"
             ],
             [
              0.8888888888888888,
              "#fdca26"
             ],
             [
              1,
              "#f0f921"
             ]
            ],
            "type": "heatmapgl"
           }
          ],
          "histogram": [
           {
            "marker": {
             "colorbar": {
              "outlinewidth": 0,
              "ticks": ""
             }
            },
            "type": "histogram"
           }
          ],
          "histogram2d": [
           {
            "colorbar": {
             "outlinewidth": 0,
             "ticks": ""
            },
            "colorscale": [
             [
              0,
              "#0d0887"
             ],
             [
              0.1111111111111111,
              "#46039f"
             ],
             [
              0.2222222222222222,
              "#7201a8"
             ],
             [
              0.3333333333333333,
              "#9c179e"
             ],
             [
              0.4444444444444444,
              "#bd3786"
             ],
             [
              0.5555555555555556,
              "#d8576b"
             ],
             [
              0.6666666666666666,
              "#ed7953"
             ],
             [
              0.7777777777777778,
              "#fb9f3a"
             ],
             [
              0.8888888888888888,
              "#fdca26"
             ],
             [
              1,
              "#f0f921"
             ]
            ],
            "type": "histogram2d"
           }
          ],
          "histogram2dcontour": [
           {
            "colorbar": {
             "outlinewidth": 0,
             "ticks": ""
            },
            "colorscale": [
             [
              0,
              "#0d0887"
             ],
             [
              0.1111111111111111,
              "#46039f"
             ],
             [
              0.2222222222222222,
              "#7201a8"
             ],
             [
              0.3333333333333333,
              "#9c179e"
             ],
             [
              0.4444444444444444,
              "#bd3786"
             ],
             [
              0.5555555555555556,
              "#d8576b"
             ],
             [
              0.6666666666666666,
              "#ed7953"
             ],
             [
              0.7777777777777778,
              "#fb9f3a"
             ],
             [
              0.8888888888888888,
              "#fdca26"
             ],
             [
              1,
              "#f0f921"
             ]
            ],
            "type": "histogram2dcontour"
           }
          ],
          "mesh3d": [
           {
            "colorbar": {
             "outlinewidth": 0,
             "ticks": ""
            },
            "type": "mesh3d"
           }
          ],
          "parcoords": [
           {
            "line": {
             "colorbar": {
              "outlinewidth": 0,
              "ticks": ""
             }
            },
            "type": "parcoords"
           }
          ],
          "pie": [
           {
            "automargin": true,
            "type": "pie"
           }
          ],
          "scatter": [
           {
            "marker": {
             "colorbar": {
              "outlinewidth": 0,
              "ticks": ""
             }
            },
            "type": "scatter"
           }
          ],
          "scatter3d": [
           {
            "line": {
             "colorbar": {
              "outlinewidth": 0,
              "ticks": ""
             }
            },
            "marker": {
             "colorbar": {
              "outlinewidth": 0,
              "ticks": ""
             }
            },
            "type": "scatter3d"
           }
          ],
          "scattercarpet": [
           {
            "marker": {
             "colorbar": {
              "outlinewidth": 0,
              "ticks": ""
             }
            },
            "type": "scattercarpet"
           }
          ],
          "scattergeo": [
           {
            "marker": {
             "colorbar": {
              "outlinewidth": 0,
              "ticks": ""
             }
            },
            "type": "scattergeo"
           }
          ],
          "scattergl": [
           {
            "marker": {
             "colorbar": {
              "outlinewidth": 0,
              "ticks": ""
             }
            },
            "type": "scattergl"
           }
          ],
          "scattermapbox": [
           {
            "marker": {
             "colorbar": {
              "outlinewidth": 0,
              "ticks": ""
             }
            },
            "type": "scattermapbox"
           }
          ],
          "scatterpolar": [
           {
            "marker": {
             "colorbar": {
              "outlinewidth": 0,
              "ticks": ""
             }
            },
            "type": "scatterpolar"
           }
          ],
          "scatterpolargl": [
           {
            "marker": {
             "colorbar": {
              "outlinewidth": 0,
              "ticks": ""
             }
            },
            "type": "scatterpolargl"
           }
          ],
          "scatterternary": [
           {
            "marker": {
             "colorbar": {
              "outlinewidth": 0,
              "ticks": ""
             }
            },
            "type": "scatterternary"
           }
          ],
          "surface": [
           {
            "colorbar": {
             "outlinewidth": 0,
             "ticks": ""
            },
            "colorscale": [
             [
              0,
              "#0d0887"
             ],
             [
              0.1111111111111111,
              "#46039f"
             ],
             [
              0.2222222222222222,
              "#7201a8"
             ],
             [
              0.3333333333333333,
              "#9c179e"
             ],
             [
              0.4444444444444444,
              "#bd3786"
             ],
             [
              0.5555555555555556,
              "#d8576b"
             ],
             [
              0.6666666666666666,
              "#ed7953"
             ],
             [
              0.7777777777777778,
              "#fb9f3a"
             ],
             [
              0.8888888888888888,
              "#fdca26"
             ],
             [
              1,
              "#f0f921"
             ]
            ],
            "type": "surface"
           }
          ],
          "table": [
           {
            "cells": {
             "fill": {
              "color": "#EBF0F8"
             },
             "line": {
              "color": "white"
             }
            },
            "header": {
             "fill": {
              "color": "#C8D4E3"
             },
             "line": {
              "color": "white"
             }
            },
            "type": "table"
           }
          ]
         },
         "layout": {
          "annotationdefaults": {
           "arrowcolor": "#2a3f5f",
           "arrowhead": 0,
           "arrowwidth": 1
          },
          "coloraxis": {
           "colorbar": {
            "outlinewidth": 0,
            "ticks": ""
           }
          },
          "colorscale": {
           "diverging": [
            [
             0,
             "#8e0152"
            ],
            [
             0.1,
             "#c51b7d"
            ],
            [
             0.2,
             "#de77ae"
            ],
            [
             0.3,
             "#f1b6da"
            ],
            [
             0.4,
             "#fde0ef"
            ],
            [
             0.5,
             "#f7f7f7"
            ],
            [
             0.6,
             "#e6f5d0"
            ],
            [
             0.7,
             "#b8e186"
            ],
            [
             0.8,
             "#7fbc41"
            ],
            [
             0.9,
             "#4d9221"
            ],
            [
             1,
             "#276419"
            ]
           ],
           "sequential": [
            [
             0,
             "#0d0887"
            ],
            [
             0.1111111111111111,
             "#46039f"
            ],
            [
             0.2222222222222222,
             "#7201a8"
            ],
            [
             0.3333333333333333,
             "#9c179e"
            ],
            [
             0.4444444444444444,
             "#bd3786"
            ],
            [
             0.5555555555555556,
             "#d8576b"
            ],
            [
             0.6666666666666666,
             "#ed7953"
            ],
            [
             0.7777777777777778,
             "#fb9f3a"
            ],
            [
             0.8888888888888888,
             "#fdca26"
            ],
            [
             1,
             "#f0f921"
            ]
           ],
           "sequentialminus": [
            [
             0,
             "#0d0887"
            ],
            [
             0.1111111111111111,
             "#46039f"
            ],
            [
             0.2222222222222222,
             "#7201a8"
            ],
            [
             0.3333333333333333,
             "#9c179e"
            ],
            [
             0.4444444444444444,
             "#bd3786"
            ],
            [
             0.5555555555555556,
             "#d8576b"
            ],
            [
             0.6666666666666666,
             "#ed7953"
            ],
            [
             0.7777777777777778,
             "#fb9f3a"
            ],
            [
             0.8888888888888888,
             "#fdca26"
            ],
            [
             1,
             "#f0f921"
            ]
           ]
          },
          "colorway": [
           "#636efa",
           "#EF553B",
           "#00cc96",
           "#ab63fa",
           "#FFA15A",
           "#19d3f3",
           "#FF6692",
           "#B6E880",
           "#FF97FF",
           "#FECB52"
          ],
          "font": {
           "color": "#2a3f5f"
          },
          "geo": {
           "bgcolor": "white",
           "lakecolor": "white",
           "landcolor": "#E5ECF6",
           "showlakes": true,
           "showland": true,
           "subunitcolor": "white"
          },
          "hoverlabel": {
           "align": "left"
          },
          "hovermode": "closest",
          "mapbox": {
           "style": "light"
          },
          "paper_bgcolor": "white",
          "plot_bgcolor": "#E5ECF6",
          "polar": {
           "angularaxis": {
            "gridcolor": "white",
            "linecolor": "white",
            "ticks": ""
           },
           "bgcolor": "#E5ECF6",
           "radialaxis": {
            "gridcolor": "white",
            "linecolor": "white",
            "ticks": ""
           }
          },
          "scene": {
           "xaxis": {
            "backgroundcolor": "#E5ECF6",
            "gridcolor": "white",
            "gridwidth": 2,
            "linecolor": "white",
            "showbackground": true,
            "ticks": "",
            "zerolinecolor": "white"
           },
           "yaxis": {
            "backgroundcolor": "#E5ECF6",
            "gridcolor": "white",
            "gridwidth": 2,
            "linecolor": "white",
            "showbackground": true,
            "ticks": "",
            "zerolinecolor": "white"
           },
           "zaxis": {
            "backgroundcolor": "#E5ECF6",
            "gridcolor": "white",
            "gridwidth": 2,
            "linecolor": "white",
            "showbackground": true,
            "ticks": "",
            "zerolinecolor": "white"
           }
          },
          "shapedefaults": {
           "line": {
            "color": "#2a3f5f"
           }
          },
          "ternary": {
           "aaxis": {
            "gridcolor": "white",
            "linecolor": "white",
            "ticks": ""
           },
           "baxis": {
            "gridcolor": "white",
            "linecolor": "white",
            "ticks": ""
           },
           "bgcolor": "#E5ECF6",
           "caxis": {
            "gridcolor": "white",
            "linecolor": "white",
            "ticks": ""
           }
          },
          "title": {
           "x": 0.05
          },
          "xaxis": {
           "automargin": true,
           "gridcolor": "white",
           "linecolor": "white",
           "ticks": "",
           "title": {
            "standoff": 15
           },
           "zerolinecolor": "white",
           "zerolinewidth": 2
          },
          "yaxis": {
           "automargin": true,
           "gridcolor": "white",
           "linecolor": "white",
           "ticks": "",
           "title": {
            "standoff": 15
           },
           "zerolinecolor": "white",
           "zerolinewidth": 2
          }
         }
        },
        "title": {
         "text": "TE Draft Spending vs. Total Fantasy Points"
        },
        "width": 900,
        "xaxis": {
         "anchor": "y",
         "domain": [
          0,
          1
         ],
         "range": [
          -1,
          80
         ],
         "title": {
          "text": "Bid Amount ($)"
         }
        },
        "yaxis": {
         "anchor": "x",
         "domain": [
          0,
          1
         ],
         "range": [
          -5,
          282
         ],
         "title": {
          "text": "Total points"
         }
        }
       }
      },
      "text/html": [
       "<div>\n",
       "        \n",
       "        \n",
       "            <div id=\"aa6d030a-6a42-4695-bbc4-2b214bd4da10\" class=\"plotly-graph-div\" style=\"height:700px; width:900px;\"></div>\n",
       "            <script type=\"text/javascript\">\n",
       "                require([\"plotly\"], function(Plotly) {\n",
       "                    window.PLOTLYENV=window.PLOTLYENV || {};\n",
       "                    \n",
       "                if (document.getElementById(\"aa6d030a-6a42-4695-bbc4-2b214bd4da10\")) {\n",
       "                    Plotly.newPlot(\n",
       "                        'aa6d030a-6a42-4695-bbc4-2b214bd4da10',\n",
       "                        [{\"customdata\": [[\"Favre's Wranglers\", 67, 205.4, [1, 2, 3, 4, 5, 6, 7, 8, 9, 10, 11, 13, 14, 15, 16, 17]]], \"hovertemplate\": \"<b>%{hovertext}</b><br><br>Team=%{customdata[0]}<br>Bid Amount ($)=%{customdata[1]}<br>Total points=%{customdata[2]}<br>Stint (wks)=%{customdata[3]}<extra></extra>\", \"hovertext\": [\"Travis Kelce, TE (KC)\"], \"legendgroup\": \"Favre's Wranglers\", \"marker\": {\"color\": \"#636efa\", \"symbol\": \"circle\"}, \"mode\": \"markers\", \"name\": \"Favre's Wranglers\", \"showlegend\": true, \"type\": \"scatter\", \"x\": [67], \"xaxis\": \"x\", \"y\": [205.4], \"yaxis\": \"y\"}, {\"customdata\": [[\"More than a  Thielen\", 35, 102.8, [1, 2, 3, 4, 5, 6, 7, 9, 10, 11, 12, 13, 14, 15, 16, 17]]], \"hovertemplate\": \"<b>%{hovertext}</b><br><br>Team=%{customdata[0]}<br>Bid Amount ($)=%{customdata[1]}<br>Total points=%{customdata[2]}<br>Stint (wks)=%{customdata[3]}<extra></extra>\", \"hovertext\": [\"Darren Waller, TE (OAK)\"], \"legendgroup\": \"More than a  Thielen\", \"marker\": {\"color\": \"#EF553B\", \"symbol\": \"circle\"}, \"mode\": \"markers\", \"name\": \"More than a  Thielen\", \"showlegend\": true, \"type\": \"scatter\", \"x\": [35], \"xaxis\": \"x\", \"y\": [102.8], \"yaxis\": \"y\"}, {\"customdata\": [[\"Don't Ekele Me\", 32, 159.0, [1, 2, 3, 4, 5, 7, 8, 9, 10, 11, 12, 13, 14, 15, 16, 17]]], \"hovertemplate\": \"<b>%{hovertext}</b><br><br>Team=%{customdata[0]}<br>Bid Amount ($)=%{customdata[1]}<br>Total points=%{customdata[2]}<br>Stint (wks)=%{customdata[3]}<extra></extra>\", \"hovertext\": [\"George Kittle, TE (SF)\"], \"legendgroup\": \"Don't Ekele Me\", \"marker\": {\"color\": \"#00cc96\", \"symbol\": \"circle\"}, \"mode\": \"markers\", \"name\": \"Don't Ekele Me\", \"showlegend\": true, \"type\": \"scatter\", \"x\": [32], \"xaxis\": \"x\", \"y\": [159.0], \"yaxis\": \"y\"}, {\"customdata\": [[\"Ice City USA\", 16, 235.1, [1, 2, 3, 4, 5, 6, 7, 9, 10, 11, 12, 13, 14, 15, 16, 17]]], \"hovertemplate\": \"<b>%{hovertext}</b><br><br>Team=%{customdata[0]}<br>Bid Amount ($)=%{customdata[1]}<br>Total points=%{customdata[2]}<br>Stint (wks)=%{customdata[3]}<extra></extra>\", \"hovertext\": [\"Mark Andrews, TE (BAL)\"], \"legendgroup\": \"Ice City USA\", \"marker\": {\"color\": \"#ab63fa\", \"symbol\": \"circle\"}, \"mode\": \"markers\", \"name\": \"Ice City USA\", \"showlegend\": true, \"type\": \"scatter\", \"x\": [16], \"xaxis\": \"x\", \"y\": [235.1], \"yaxis\": \"y\"}, {\"customdata\": [[\"Godwin's Memorial\", 9, 27.7, [1, 2, 3, 4, 5]], [\"Godwin's Memorial\", 5, 140.8, [1, 2, 3, 4, 5, 7, 8, 9, 10, 11, 12, 13, 14, 15, 16, 17]]], \"hovertemplate\": \"<b>%{hovertext}</b><br><br>Team=%{customdata[0]}<br>Bid Amount ($)=%{customdata[1]}<br>Total points=%{customdata[2]}<br>Stint (wks)=%{customdata[3]}<extra></extra>\", \"hovertext\": [\"Logan Thomas, TE (WSH)\", \"Kyle Pitts, TE (ATL)\"], \"legendgroup\": \"Godwin's Memorial\", \"marker\": {\"color\": \"#FFA15A\", \"symbol\": \"circle\"}, \"mode\": \"markers\", \"name\": \"Godwin's Memorial\", \"showlegend\": true, \"type\": \"scatter\", \"x\": [9, 5], \"xaxis\": \"x\", \"y\": [27.7, 140.8], \"yaxis\": \"y\"}, {\"customdata\": [[\"Frankel's Cankles\", 7, 114.8, [1, 2, 3, 4, 5, 6, 7, 8, 10, 11, 12, 13, 14, 15, 16, 17]]], \"hovertemplate\": \"<b>%{hovertext}</b><br><br>Team=%{customdata[0]}<br>Bid Amount ($)=%{customdata[1]}<br>Total points=%{customdata[2]}<br>Stint (wks)=%{customdata[3]}<extra></extra>\", \"hovertext\": [\"T.J. Hockenson, TE (DET)\"], \"legendgroup\": \"Frankel's Cankles\", \"marker\": {\"color\": \"#19d3f3\", \"symbol\": \"circle\"}, \"mode\": \"markers\", \"name\": \"Frankel's Cankles\", \"showlegend\": true, \"type\": \"scatter\", \"x\": [7], \"xaxis\": \"x\", \"y\": [114.8], \"yaxis\": \"y\"}, {\"customdata\": [[\"Repeat Donger\", 5, 68.5, [1, 2, 3, 4, 5, 6, 7, 8]]], \"hovertemplate\": \"<b>%{hovertext}</b><br><br>Team=%{customdata[0]}<br>Bid Amount ($)=%{customdata[1]}<br>Total points=%{customdata[2]}<br>Stint (wks)=%{customdata[3]}<extra></extra>\", \"hovertext\": [\"Noah Fant, TE (DEN)\"], \"legendgroup\": \"Repeat Donger\", \"marker\": {\"color\": \"#FF6692\", \"symbol\": \"circle\"}, \"mode\": \"markers\", \"name\": \"Repeat Donger\", \"showlegend\": true, \"type\": \"scatter\", \"x\": [5], \"xaxis\": \"x\", \"y\": [68.5], \"yaxis\": \"y\"}, {\"customdata\": [[\"Dick Cheese\", 1, 137.0, [1, 2, 3, 4, 5, 6, 7, 8, 9, 10, 11, 12, 13, 15, 16, 17]]], \"hovertemplate\": \"<b>%{hovertext}</b><br><br>Team=%{customdata[0]}<br>Bid Amount ($)=%{customdata[1]}<br>Total points=%{customdata[2]}<br>Stint (wks)=%{customdata[3]}<extra></extra>\", \"hovertext\": [\"Dallas Goedert, TE (PHI)\"], \"legendgroup\": \"Dick Cheese\", \"marker\": {\"color\": \"#B6E880\", \"symbol\": \"circle\"}, \"mode\": \"markers\", \"name\": \"Dick Cheese\", \"showlegend\": true, \"type\": \"scatter\", \"x\": [1], \"xaxis\": \"x\", \"y\": [137.0], \"yaxis\": \"y\"}, {\"customdata\": [[\"Fumble .\", 1, 0.0, [1]]], \"hovertemplate\": \"<b>%{hovertext}</b><br><br>Team=%{customdata[0]}<br>Bid Amount ($)=%{customdata[1]}<br>Total points=%{customdata[2]}<br>Stint (wks)=%{customdata[3]}<extra></extra>\", \"hovertext\": [\"Mike Gesicki, TE (MIA)\"], \"legendgroup\": \"Fumble .\", \"marker\": {\"color\": \"#FF97FF\", \"symbol\": \"circle\"}, \"mode\": \"markers\", \"name\": \"Fumble .\", \"showlegend\": true, \"type\": \"scatter\", \"x\": [1], \"xaxis\": \"x\", \"y\": [0.0], \"yaxis\": \"y\"}, {\"customdata\": [[\"Tier 2 never felt so good\", 1, 41.4, [1, 2, 3, 4, 5, 6, 7, 8, 9, 10, 11]]], \"hovertemplate\": \"<b>%{hovertext}</b><br><br>Team=%{customdata[0]}<br>Bid Amount ($)=%{customdata[1]}<br>Total points=%{customdata[2]}<br>Stint (wks)=%{customdata[3]}<extra></extra>\", \"hovertext\": [\"Robert Tonyan, TE (GB)\"], \"legendgroup\": \"Tier 2 never felt so good\", \"marker\": {\"color\": \"#FECB52\", \"symbol\": \"circle\"}, \"mode\": \"markers\", \"name\": \"Tier 2 never felt so good\", \"showlegend\": true, \"type\": \"scatter\", \"x\": [1], \"xaxis\": \"x\", \"y\": [41.4], \"yaxis\": \"y\"}, {\"customdata\": [[\"Tasteful Dak Piks, by CMC\", 1, 13.0, [1, 2, 3]]], \"hovertemplate\": \"<b>%{hovertext}</b><br><br>Team=%{customdata[0]}<br>Bid Amount ($)=%{customdata[1]}<br>Total points=%{customdata[2]}<br>Stint (wks)=%{customdata[3]}<extra></extra>\", \"hovertext\": [\"Jonnu Smith, TE (NE)\"], \"legendgroup\": \"Tasteful Dak Piks, by CMC\", \"marker\": {\"color\": \"#636efa\", \"symbol\": \"circle\"}, \"mode\": \"markers\", \"name\": \"Tasteful Dak Piks, by CMC\", \"showlegend\": true, \"type\": \"scatter\", \"x\": [1], \"xaxis\": \"x\", \"y\": [13.0], \"yaxis\": \"y\"}, {\"customdata\": [[\"Your Antivax Cousins\", 1, 71.4, [1, 2, 3, 4, 5, 6, 7, 8, 9, 10]]], \"hovertemplate\": \"<b>%{hovertext}</b><br><br>Team=%{customdata[0]}<br>Bid Amount ($)=%{customdata[1]}<br>Total points=%{customdata[2]}<br>Stint (wks)=%{customdata[3]}<extra></extra>\", \"hovertext\": [\"Tyler Higbee, TE (LAR)\"], \"legendgroup\": \"Your Antivax Cousins\", \"marker\": {\"color\": \"#EF553B\", \"symbol\": \"circle\"}, \"mode\": \"markers\", \"name\": \"Your Antivax Cousins\", \"showlegend\": true, \"type\": \"scatter\", \"x\": [1], \"xaxis\": \"x\", \"y\": [71.4], \"yaxis\": \"y\"}],\n",
       "                        {\"height\": 700, \"legend\": {\"title\": {\"text\": \"Team\"}, \"tracegroupgap\": 0}, \"template\": {\"data\": {\"bar\": [{\"error_x\": {\"color\": \"#2a3f5f\"}, \"error_y\": {\"color\": \"#2a3f5f\"}, \"marker\": {\"line\": {\"color\": \"#E5ECF6\", \"width\": 0.5}}, \"type\": \"bar\"}], \"barpolar\": [{\"marker\": {\"line\": {\"color\": \"#E5ECF6\", \"width\": 0.5}}, \"type\": \"barpolar\"}], \"carpet\": [{\"aaxis\": {\"endlinecolor\": \"#2a3f5f\", \"gridcolor\": \"white\", \"linecolor\": \"white\", \"minorgridcolor\": \"white\", \"startlinecolor\": \"#2a3f5f\"}, \"baxis\": {\"endlinecolor\": \"#2a3f5f\", \"gridcolor\": \"white\", \"linecolor\": \"white\", \"minorgridcolor\": \"white\", \"startlinecolor\": \"#2a3f5f\"}, \"type\": \"carpet\"}], \"choropleth\": [{\"colorbar\": {\"outlinewidth\": 0, \"ticks\": \"\"}, \"type\": \"choropleth\"}], \"contour\": [{\"colorbar\": {\"outlinewidth\": 0, \"ticks\": \"\"}, \"colorscale\": [[0.0, \"#0d0887\"], [0.1111111111111111, \"#46039f\"], [0.2222222222222222, \"#7201a8\"], [0.3333333333333333, \"#9c179e\"], [0.4444444444444444, \"#bd3786\"], [0.5555555555555556, \"#d8576b\"], [0.6666666666666666, \"#ed7953\"], [0.7777777777777778, \"#fb9f3a\"], [0.8888888888888888, \"#fdca26\"], [1.0, \"#f0f921\"]], \"type\": \"contour\"}], \"contourcarpet\": [{\"colorbar\": {\"outlinewidth\": 0, \"ticks\": \"\"}, \"type\": \"contourcarpet\"}], \"heatmap\": [{\"colorbar\": {\"outlinewidth\": 0, \"ticks\": \"\"}, \"colorscale\": [[0.0, \"#0d0887\"], [0.1111111111111111, \"#46039f\"], [0.2222222222222222, \"#7201a8\"], [0.3333333333333333, \"#9c179e\"], [0.4444444444444444, \"#bd3786\"], [0.5555555555555556, \"#d8576b\"], [0.6666666666666666, \"#ed7953\"], [0.7777777777777778, \"#fb9f3a\"], [0.8888888888888888, \"#fdca26\"], [1.0, \"#f0f921\"]], \"type\": \"heatmap\"}], \"heatmapgl\": [{\"colorbar\": {\"outlinewidth\": 0, \"ticks\": \"\"}, \"colorscale\": [[0.0, \"#0d0887\"], [0.1111111111111111, \"#46039f\"], [0.2222222222222222, \"#7201a8\"], [0.3333333333333333, \"#9c179e\"], [0.4444444444444444, \"#bd3786\"], [0.5555555555555556, \"#d8576b\"], [0.6666666666666666, \"#ed7953\"], [0.7777777777777778, \"#fb9f3a\"], [0.8888888888888888, \"#fdca26\"], [1.0, \"#f0f921\"]], \"type\": \"heatmapgl\"}], \"histogram\": [{\"marker\": {\"colorbar\": {\"outlinewidth\": 0, \"ticks\": \"\"}}, \"type\": \"histogram\"}], \"histogram2d\": [{\"colorbar\": {\"outlinewidth\": 0, \"ticks\": \"\"}, \"colorscale\": [[0.0, \"#0d0887\"], [0.1111111111111111, \"#46039f\"], [0.2222222222222222, \"#7201a8\"], [0.3333333333333333, \"#9c179e\"], [0.4444444444444444, \"#bd3786\"], [0.5555555555555556, \"#d8576b\"], [0.6666666666666666, \"#ed7953\"], [0.7777777777777778, \"#fb9f3a\"], [0.8888888888888888, \"#fdca26\"], [1.0, \"#f0f921\"]], \"type\": \"histogram2d\"}], \"histogram2dcontour\": [{\"colorbar\": {\"outlinewidth\": 0, \"ticks\": \"\"}, \"colorscale\": [[0.0, \"#0d0887\"], [0.1111111111111111, \"#46039f\"], [0.2222222222222222, \"#7201a8\"], [0.3333333333333333, \"#9c179e\"], [0.4444444444444444, \"#bd3786\"], [0.5555555555555556, \"#d8576b\"], [0.6666666666666666, \"#ed7953\"], [0.7777777777777778, \"#fb9f3a\"], [0.8888888888888888, \"#fdca26\"], [1.0, \"#f0f921\"]], \"type\": \"histogram2dcontour\"}], \"mesh3d\": [{\"colorbar\": {\"outlinewidth\": 0, \"ticks\": \"\"}, \"type\": \"mesh3d\"}], \"parcoords\": [{\"line\": {\"colorbar\": {\"outlinewidth\": 0, \"ticks\": \"\"}}, \"type\": \"parcoords\"}], \"pie\": [{\"automargin\": true, \"type\": \"pie\"}], \"scatter\": [{\"marker\": {\"colorbar\": {\"outlinewidth\": 0, \"ticks\": \"\"}}, \"type\": \"scatter\"}], \"scatter3d\": [{\"line\": {\"colorbar\": {\"outlinewidth\": 0, \"ticks\": \"\"}}, \"marker\": {\"colorbar\": {\"outlinewidth\": 0, \"ticks\": \"\"}}, \"type\": \"scatter3d\"}], \"scattercarpet\": [{\"marker\": {\"colorbar\": {\"outlinewidth\": 0, \"ticks\": \"\"}}, \"type\": \"scattercarpet\"}], \"scattergeo\": [{\"marker\": {\"colorbar\": {\"outlinewidth\": 0, \"ticks\": \"\"}}, \"type\": \"scattergeo\"}], \"scattergl\": [{\"marker\": {\"colorbar\": {\"outlinewidth\": 0, \"ticks\": \"\"}}, \"type\": \"scattergl\"}], \"scattermapbox\": [{\"marker\": {\"colorbar\": {\"outlinewidth\": 0, \"ticks\": \"\"}}, \"type\": \"scattermapbox\"}], \"scatterpolar\": [{\"marker\": {\"colorbar\": {\"outlinewidth\": 0, \"ticks\": \"\"}}, \"type\": \"scatterpolar\"}], \"scatterpolargl\": [{\"marker\": {\"colorbar\": {\"outlinewidth\": 0, \"ticks\": \"\"}}, \"type\": \"scatterpolargl\"}], \"scatterternary\": [{\"marker\": {\"colorbar\": {\"outlinewidth\": 0, \"ticks\": \"\"}}, \"type\": \"scatterternary\"}], \"surface\": [{\"colorbar\": {\"outlinewidth\": 0, \"ticks\": \"\"}, \"colorscale\": [[0.0, \"#0d0887\"], [0.1111111111111111, \"#46039f\"], [0.2222222222222222, \"#7201a8\"], [0.3333333333333333, \"#9c179e\"], [0.4444444444444444, \"#bd3786\"], [0.5555555555555556, \"#d8576b\"], [0.6666666666666666, \"#ed7953\"], [0.7777777777777778, \"#fb9f3a\"], [0.8888888888888888, \"#fdca26\"], [1.0, \"#f0f921\"]], \"type\": \"surface\"}], \"table\": [{\"cells\": {\"fill\": {\"color\": \"#EBF0F8\"}, \"line\": {\"color\": \"white\"}}, \"header\": {\"fill\": {\"color\": \"#C8D4E3\"}, \"line\": {\"color\": \"white\"}}, \"type\": \"table\"}]}, \"layout\": {\"annotationdefaults\": {\"arrowcolor\": \"#2a3f5f\", \"arrowhead\": 0, \"arrowwidth\": 1}, \"coloraxis\": {\"colorbar\": {\"outlinewidth\": 0, \"ticks\": \"\"}}, \"colorscale\": {\"diverging\": [[0, \"#8e0152\"], [0.1, \"#c51b7d\"], [0.2, \"#de77ae\"], [0.3, \"#f1b6da\"], [0.4, \"#fde0ef\"], [0.5, \"#f7f7f7\"], [0.6, \"#e6f5d0\"], [0.7, \"#b8e186\"], [0.8, \"#7fbc41\"], [0.9, \"#4d9221\"], [1, \"#276419\"]], \"sequential\": [[0.0, \"#0d0887\"], [0.1111111111111111, \"#46039f\"], [0.2222222222222222, \"#7201a8\"], [0.3333333333333333, \"#9c179e\"], [0.4444444444444444, \"#bd3786\"], [0.5555555555555556, \"#d8576b\"], [0.6666666666666666, \"#ed7953\"], [0.7777777777777778, \"#fb9f3a\"], [0.8888888888888888, \"#fdca26\"], [1.0, \"#f0f921\"]], \"sequentialminus\": [[0.0, \"#0d0887\"], [0.1111111111111111, \"#46039f\"], [0.2222222222222222, \"#7201a8\"], [0.3333333333333333, \"#9c179e\"], [0.4444444444444444, \"#bd3786\"], [0.5555555555555556, \"#d8576b\"], [0.6666666666666666, \"#ed7953\"], [0.7777777777777778, \"#fb9f3a\"], [0.8888888888888888, \"#fdca26\"], [1.0, \"#f0f921\"]]}, \"colorway\": [\"#636efa\", \"#EF553B\", \"#00cc96\", \"#ab63fa\", \"#FFA15A\", \"#19d3f3\", \"#FF6692\", \"#B6E880\", \"#FF97FF\", \"#FECB52\"], \"font\": {\"color\": \"#2a3f5f\"}, \"geo\": {\"bgcolor\": \"white\", \"lakecolor\": \"white\", \"landcolor\": \"#E5ECF6\", \"showlakes\": true, \"showland\": true, \"subunitcolor\": \"white\"}, \"hoverlabel\": {\"align\": \"left\"}, \"hovermode\": \"closest\", \"mapbox\": {\"style\": \"light\"}, \"paper_bgcolor\": \"white\", \"plot_bgcolor\": \"#E5ECF6\", \"polar\": {\"angularaxis\": {\"gridcolor\": \"white\", \"linecolor\": \"white\", \"ticks\": \"\"}, \"bgcolor\": \"#E5ECF6\", \"radialaxis\": {\"gridcolor\": \"white\", \"linecolor\": \"white\", \"ticks\": \"\"}}, \"scene\": {\"xaxis\": {\"backgroundcolor\": \"#E5ECF6\", \"gridcolor\": \"white\", \"gridwidth\": 2, \"linecolor\": \"white\", \"showbackground\": true, \"ticks\": \"\", \"zerolinecolor\": \"white\"}, \"yaxis\": {\"backgroundcolor\": \"#E5ECF6\", \"gridcolor\": \"white\", \"gridwidth\": 2, \"linecolor\": \"white\", \"showbackground\": true, \"ticks\": \"\", \"zerolinecolor\": \"white\"}, \"zaxis\": {\"backgroundcolor\": \"#E5ECF6\", \"gridcolor\": \"white\", \"gridwidth\": 2, \"linecolor\": \"white\", \"showbackground\": true, \"ticks\": \"\", \"zerolinecolor\": \"white\"}}, \"shapedefaults\": {\"line\": {\"color\": \"#2a3f5f\"}}, \"ternary\": {\"aaxis\": {\"gridcolor\": \"white\", \"linecolor\": \"white\", \"ticks\": \"\"}, \"baxis\": {\"gridcolor\": \"white\", \"linecolor\": \"white\", \"ticks\": \"\"}, \"bgcolor\": \"#E5ECF6\", \"caxis\": {\"gridcolor\": \"white\", \"linecolor\": \"white\", \"ticks\": \"\"}}, \"title\": {\"x\": 0.05}, \"xaxis\": {\"automargin\": true, \"gridcolor\": \"white\", \"linecolor\": \"white\", \"ticks\": \"\", \"title\": {\"standoff\": 15}, \"zerolinecolor\": \"white\", \"zerolinewidth\": 2}, \"yaxis\": {\"automargin\": true, \"gridcolor\": \"white\", \"linecolor\": \"white\", \"ticks\": \"\", \"title\": {\"standoff\": 15}, \"zerolinecolor\": \"white\", \"zerolinewidth\": 2}}}, \"title\": {\"text\": \"TE Draft Spending vs. Total Fantasy Points\"}, \"width\": 900, \"xaxis\": {\"anchor\": \"y\", \"domain\": [0.0, 1.0], \"range\": [-1, 80], \"title\": {\"text\": \"Bid Amount ($)\"}}, \"yaxis\": {\"anchor\": \"x\", \"domain\": [0.0, 1.0], \"range\": [-5, 282], \"title\": {\"text\": \"Total points\"}}},\n",
       "                        {\"responsive\": true}\n",
       "                    ).then(function(){\n",
       "                            \n",
       "var gd = document.getElementById('aa6d030a-6a42-4695-bbc4-2b214bd4da10');\n",
       "var x = new MutationObserver(function (mutations, observer) {{\n",
       "        var display = window.getComputedStyle(gd).display;\n",
       "        if (!display || display === 'none') {{\n",
       "            console.log([gd, 'removed!']);\n",
       "            Plotly.purge(gd);\n",
       "            observer.disconnect();\n",
       "        }}\n",
       "}});\n",
       "\n",
       "// Listen for the removal of the full notebook cells\n",
       "var notebookContainer = gd.closest('#notebook-container');\n",
       "if (notebookContainer) {{\n",
       "    x.observe(notebookContainer, {childList: true});\n",
       "}}\n",
       "\n",
       "// Listen for the clearing of the current output cell\n",
       "var outputEl = gd.closest('.output');\n",
       "if (outputEl) {{\n",
       "    x.observe(outputEl, {childList: true});\n",
       "}}\n",
       "\n",
       "                        })\n",
       "                };\n",
       "                });\n",
       "            </script>\n",
       "        </div>"
      ]
     },
     "metadata": {},
     "output_type": "display_data"
    }
   ],
   "source": [
    "acquisition_method = 'Draft'\n",
    "position_subset = ['TE']\n",
    "\n",
    "df = df_stints_f_draft[df_stints_f_draft['Position'].isin(position_subset)]\n",
    "\n",
    "get_acquisitions_scatterplot(df , ' '.join(position_subset), acquisition_method)"
   ]
  },
  {
   "cell_type": "code",
   "execution_count": 251,
   "metadata": {},
   "outputs": [],
   "source": [
    "team_ls = list(set(df['Team'].tolist()))"
   ]
  },
  {
   "cell_type": "code",
   "execution_count": 266,
   "metadata": {},
   "outputs": [
    {
     "data": {
      "text/html": [
       "\n",
       "<div id=\"altair-viz-472102e9636744109c74e85bdc9906b1\"></div>\n",
       "<script type=\"text/javascript\">\n",
       "  (function(spec, embedOpt){\n",
       "    let outputDiv = document.currentScript.previousElementSibling;\n",
       "    if (outputDiv.id !== \"altair-viz-472102e9636744109c74e85bdc9906b1\") {\n",
       "      outputDiv = document.getElementById(\"altair-viz-472102e9636744109c74e85bdc9906b1\");\n",
       "    }\n",
       "    const paths = {\n",
       "      \"vega\": \"https://cdn.jsdelivr.net/npm//vega@5?noext\",\n",
       "      \"vega-lib\": \"https://cdn.jsdelivr.net/npm//vega-lib?noext\",\n",
       "      \"vega-lite\": \"https://cdn.jsdelivr.net/npm//vega-lite@4.8.1?noext\",\n",
       "      \"vega-embed\": \"https://cdn.jsdelivr.net/npm//vega-embed@6?noext\",\n",
       "    };\n",
       "\n",
       "    function loadScript(lib) {\n",
       "      return new Promise(function(resolve, reject) {\n",
       "        var s = document.createElement('script');\n",
       "        s.src = paths[lib];\n",
       "        s.async = true;\n",
       "        s.onload = () => resolve(paths[lib]);\n",
       "        s.onerror = () => reject(`Error loading script: ${paths[lib]}`);\n",
       "        document.getElementsByTagName(\"head\")[0].appendChild(s);\n",
       "      });\n",
       "    }\n",
       "\n",
       "    function showError(err) {\n",
       "      outputDiv.innerHTML = `<div class=\"error\" style=\"color:red;\">${err}</div>`;\n",
       "      throw err;\n",
       "    }\n",
       "\n",
       "    function displayChart(vegaEmbed) {\n",
       "      vegaEmbed(outputDiv, spec, embedOpt)\n",
       "        .catch(err => showError(`Javascript Error: ${err.message}<br>This usually means there's a typo in your chart specification. See the javascript console for the full traceback.`));\n",
       "    }\n",
       "\n",
       "    if(typeof define === \"function\" && define.amd) {\n",
       "      requirejs.config({paths});\n",
       "      require([\"vega-embed\"], displayChart, err => showError(`Error loading script: ${err.message}`));\n",
       "    } else if (typeof vegaEmbed === \"function\") {\n",
       "      displayChart(vegaEmbed);\n",
       "    } else {\n",
       "      loadScript(\"vega\")\n",
       "        .then(() => loadScript(\"vega-lite\"))\n",
       "        .then(() => loadScript(\"vega-embed\"))\n",
       "        .catch(showError)\n",
       "        .then(() => displayChart(vegaEmbed));\n",
       "    }\n",
       "  })({\"config\": {\"view\": {\"continuousWidth\": 400, \"continuousHeight\": 300}}, \"hconcat\": [{\"mark\": {\"type\": \"circle\", \"size\": 40}, \"encoding\": {\"color\": {\"condition\": {\"type\": \"nominal\", \"field\": \"Team\", \"selection\": \"selector046\"}, \"value\": \"lightgray\"}, \"opacity\": {\"condition\": {\"value\": 1.0, \"selection\": \"selector046\"}, \"value\": 0.0}, \"tooltip\": [{\"type\": \"nominal\", \"field\": \"Player-info\"}, {\"type\": \"quantitative\", \"field\": \"Bid Amount ($)\"}, {\"type\": \"quantitative\", \"field\": \"Total points\"}, {\"type\": \"nominal\", \"field\": \"Stint (wks)\"}], \"x\": {\"type\": \"quantitative\", \"field\": \"Bid Amount ($)\"}, \"y\": {\"type\": \"quantitative\", \"field\": \"Total points\"}}, \"selection\": {\"selector046\": {\"type\": \"multi\", \"fields\": [\"Team\"]}, \"selector047\": {\"type\": \"interval\", \"bind\": \"scales\", \"encodings\": [\"x\", \"y\"]}}}, {\"mark\": {\"type\": \"point\", \"filled\": true, \"size\": 40}, \"encoding\": {\"color\": {\"condition\": {\"type\": \"nominal\", \"field\": \"Team\", \"selection\": \"selector046\"}, \"value\": \"lightgray\"}, \"y\": {\"type\": \"nominal\", \"field\": \"Team\"}}, \"selection\": {\"selector046\": {\"type\": \"multi\", \"fields\": [\"Team\"]}}}], \"data\": {\"name\": \"data-4c6e414186c16f7e45b5561cb3bcd46d\"}, \"$schema\": \"https://vega.github.io/schema/vega-lite/v4.8.1.json\", \"datasets\": {\"data-4c6e414186c16f7e45b5561cb3bcd46d\": [{\"Player\": \"Travis Kelce\", \"Position\": \"TE\", \"Team\": \"Favre's Wranglers\", \"ProTeam\": \"KC\", \"Action\": \"DRAFT\", \"Bid Amount ($)\": 67, \"Stint (wks)\": [1, 2, 3, 4, 5, 6, 7, 8, 9, 10, 11, 13, 14, 15, 16, 17], \"Total points\": 205.4, \"Player-info\": \"Travis Kelce, TE (KC)\"}, {\"Player\": \"Darren Waller\", \"Position\": \"TE\", \"Team\": \"More than a  Thielen\", \"ProTeam\": \"OAK\", \"Action\": \"DRAFT\", \"Bid Amount ($)\": 35, \"Stint (wks)\": [1, 2, 3, 4, 5, 6, 7, 9, 10, 11, 12, 13, 14, 15, 16, 17], \"Total points\": 102.8, \"Player-info\": \"Darren Waller, TE (OAK)\"}, {\"Player\": \"George Kittle\", \"Position\": \"TE\", \"Team\": \"Don't Ekele Me\", \"ProTeam\": \"SF\", \"Action\": \"DRAFT\", \"Bid Amount ($)\": 32, \"Stint (wks)\": [1, 2, 3, 4, 5, 7, 8, 9, 10, 11, 12, 13, 14, 15, 16, 17], \"Total points\": 159.0, \"Player-info\": \"George Kittle, TE (SF)\"}, {\"Player\": \"Mark Andrews\", \"Position\": \"TE\", \"Team\": \"Ice City USA\", \"ProTeam\": \"BAL\", \"Action\": \"DRAFT\", \"Bid Amount ($)\": 16, \"Stint (wks)\": [1, 2, 3, 4, 5, 6, 7, 9, 10, 11, 12, 13, 14, 15, 16, 17], \"Total points\": 235.1, \"Player-info\": \"Mark Andrews, TE (BAL)\"}, {\"Player\": \"Logan Thomas\", \"Position\": \"TE\", \"Team\": \"Godwin's Memorial\", \"ProTeam\": \"WSH\", \"Action\": \"DRAFT\", \"Bid Amount ($)\": 9, \"Stint (wks)\": [1, 2, 3, 4, 5], \"Total points\": 27.7, \"Player-info\": \"Logan Thomas, TE (WSH)\"}, {\"Player\": \"T.J. Hockenson\", \"Position\": \"TE\", \"Team\": \"Frankel's Cankles\", \"ProTeam\": \"DET\", \"Action\": \"DRAFT\", \"Bid Amount ($)\": 7, \"Stint (wks)\": [1, 2, 3, 4, 5, 6, 7, 8, 10, 11, 12, 13, 14, 15, 16, 17], \"Total points\": 114.8, \"Player-info\": \"T.J. Hockenson, TE (DET)\"}, {\"Player\": \"Kyle Pitts\", \"Position\": \"TE\", \"Team\": \"Godwin's Memorial\", \"ProTeam\": \"ATL\", \"Action\": \"DRAFT\", \"Bid Amount ($)\": 5, \"Stint (wks)\": [1, 2, 3, 4, 5, 7, 8, 9, 10, 11, 12, 13, 14, 15, 16, 17], \"Total points\": 140.8, \"Player-info\": \"Kyle Pitts, TE (ATL)\"}, {\"Player\": \"Noah Fant\", \"Position\": \"TE\", \"Team\": \"Repeat Donger\", \"ProTeam\": \"DEN\", \"Action\": \"DRAFT\", \"Bid Amount ($)\": 5, \"Stint (wks)\": [1, 2, 3, 4, 5, 6, 7, 8], \"Total points\": 68.5, \"Player-info\": \"Noah Fant, TE (DEN)\"}, {\"Player\": \"Dallas Goedert\", \"Position\": \"TE\", \"Team\": \"Dick Cheese\", \"ProTeam\": \"PHI\", \"Action\": \"DRAFT\", \"Bid Amount ($)\": 1, \"Stint (wks)\": [1, 2, 3, 4, 5, 6, 7, 8, 9, 10, 11, 12, 13, 15, 16, 17], \"Total points\": 137.0, \"Player-info\": \"Dallas Goedert, TE (PHI)\"}, {\"Player\": \"Mike Gesicki\", \"Position\": \"TE\", \"Team\": \"Fumble .\", \"ProTeam\": \"MIA\", \"Action\": \"DRAFT\", \"Bid Amount ($)\": 1, \"Stint (wks)\": [1], \"Total points\": 0.0, \"Player-info\": \"Mike Gesicki, TE (MIA)\"}, {\"Player\": \"Robert Tonyan\", \"Position\": \"TE\", \"Team\": \"Tier 2 never felt so good\", \"ProTeam\": \"GB\", \"Action\": \"DRAFT\", \"Bid Amount ($)\": 1, \"Stint (wks)\": [1, 2, 3, 4, 5, 6, 7, 8, 9, 10, 11], \"Total points\": 41.4, \"Player-info\": \"Robert Tonyan, TE (GB)\"}, {\"Player\": \"Jonnu Smith\", \"Position\": \"TE\", \"Team\": \"Tasteful Dak Piks, by CMC\", \"ProTeam\": \"NE\", \"Action\": \"DRAFT\", \"Bid Amount ($)\": 1, \"Stint (wks)\": [1, 2, 3], \"Total points\": 13.0, \"Player-info\": \"Jonnu Smith, TE (NE)\"}, {\"Player\": \"Tyler Higbee\", \"Position\": \"TE\", \"Team\": \"Your Antivax Cousins\", \"ProTeam\": \"LAR\", \"Action\": \"DRAFT\", \"Bid Amount ($)\": 1, \"Stint (wks)\": [1, 2, 3, 4, 5, 6, 7, 8, 9, 10], \"Total points\": 71.4, \"Player-info\": \"Tyler Higbee, TE (LAR)\"}]}}, {\"mode\": \"vega-lite\"});\n",
       "</script>"
      ],
      "text/plain": [
       "alt.HConcatChart(...)"
      ]
     },
     "execution_count": 266,
     "metadata": {},
     "output_type": "execute_result"
    }
   ],
   "source": [
    "# selection = alt.selection_multi(fields=['Team'], bind='legend')\n",
    "selection = alt.selection_multi(fields=['Team'])\n",
    "\n",
    "# chart = alt.Chart(df).mark_circle(size=40).encode(\n",
    "#     x='Bid Amount ($)', y='Total points',\n",
    "#     color='Team',\n",
    "#     tooltip=['Player-info','Bid Amount ($)','Total points','Stint (wks)'],\n",
    "# ).add_selection(\n",
    "#     selection\n",
    "# ).interactive()\n",
    "\n",
    "# chart.properties(\n",
    "#     title='TE Spending'\n",
    "# )\n",
    "\n",
    "# color = alt.condition(selection,\n",
    "#                       alt.Color(team_ls, legend=None, \n",
    "#                       scale=alt.Scale(scheme='category10')),\n",
    "#                       alt.value('lightgray'))\n",
    "# color='Team'\n",
    "\n",
    "color=alt.condition(selection, 'Team', alt.value('lightgray'))\n",
    "# color=alt.condition(selection, alt.Color('Team', legend=None), alt.value('lightgray'))\n",
    "\n",
    "chart = alt.Chart(df).mark_circle(size=40).encode(\n",
    "    x='Bid Amount ($)', y='Total points',\n",
    "    color=color,\n",
    "    tooltip=['Player-info','Bid Amount ($)','Total points','Stint (wks)'],\n",
    "    opacity=alt.condition(selection, alt.value(1.0), alt.value(0.0))\n",
    ").add_selection(\n",
    "    selection).interactive()\n",
    "\n",
    "\n",
    "legend = alt.Chart(df\n",
    ").mark_point(filled=True, size=40\n",
    ").encode(\n",
    "    y='Team',\n",
    "    color=color\n",
    ").add_selection(\n",
    "selection)\n",
    "\n",
    "\n",
    "#     x='Bid Amount ($)', y=,\n",
    "#     color='Team',\n",
    "#     tooltip=['Player-info','Bid Amount ($)','Total points','Stint (wks)'],\n",
    "# ).add_selection(\n",
    "#     selection\n",
    "# ).interactive()\n",
    "\n",
    "# selection = alt.selection_single(encodings=['Team'], empty='none')\n",
    "\n",
    "# # Plot the best fit polynomials\n",
    "# polynomial_fit = alt.Chart(poly_data).mark_line(strokeWidth=3).encode(\n",
    "#     x='xfit',\n",
    "#     y='yfit',\n",
    "#     color='degree',\n",
    "#     opacity=alt.condition(selection, alt.value(0.0), alt.value(1.0))\n",
    "# ).add_selection(\n",
    "#     selection\n",
    "# )\n",
    "\n",
    "chart | legend\n",
    "# chart"
   ]
  },
  {
   "cell_type": "code",
   "execution_count": 342,
   "metadata": {},
   "outputs": [],
   "source": [
    "def generate_acquisitions_scatterplot(df , position_subset , acquisition_method):\n",
    "    \n",
    "    position_subset1 = ''.join(position_subset)\n",
    "    plot_title = position_subset1 + ' ' + acquisition_method + ' Spending vs. Total Fantasy Points'\n",
    "\n",
    "    selection = alt.selection_multi(fields=['Team'], bind = 'legend')\n",
    "    color=alt.condition(selection, 'Team', alt.value('lightgray'))\n",
    "\n",
    "    chart = alt.Chart(df).mark_circle(size=40).encode(\n",
    "        alt.X('Bid Amount ($)', axis=alt.Axis(grid=False)),\n",
    "        alt.Y('Total points' , axis=alt.Axis(grid=False)),\n",
    "        color=color,\n",
    "        opacity=alt.condition(selection, alt.value(1), alt.value(0.1)),\n",
    "        tooltip=['Player-info','Team','Bid Amount ($)','Total points','Stint (wks)']\n",
    "        ).add_selection(selection).properties(\n",
    "        width=500,\n",
    "        height=500,\n",
    "        title = plot_title\n",
    "        ).configure_axis(\n",
    "        labelFontSize=18,\n",
    "        titleFontSize=18\n",
    "        ).configure_title(fontSize=20).configure_legend(labelFontSize=14, titleFontSize=14)\n",
    "    \n",
    "    return chart"
   ]
  },
  {
   "cell_type": "code",
   "execution_count": 343,
   "metadata": {},
   "outputs": [
    {
     "data": {
      "text/html": [
       "\n",
       "<div id=\"altair-viz-c5d2c6d2a0d844f7b214b1c6157c829f\"></div>\n",
       "<script type=\"text/javascript\">\n",
       "  (function(spec, embedOpt){\n",
       "    let outputDiv = document.currentScript.previousElementSibling;\n",
       "    if (outputDiv.id !== \"altair-viz-c5d2c6d2a0d844f7b214b1c6157c829f\") {\n",
       "      outputDiv = document.getElementById(\"altair-viz-c5d2c6d2a0d844f7b214b1c6157c829f\");\n",
       "    }\n",
       "    const paths = {\n",
       "      \"vega\": \"https://cdn.jsdelivr.net/npm//vega@5?noext\",\n",
       "      \"vega-lib\": \"https://cdn.jsdelivr.net/npm//vega-lib?noext\",\n",
       "      \"vega-lite\": \"https://cdn.jsdelivr.net/npm//vega-lite@4.8.1?noext\",\n",
       "      \"vega-embed\": \"https://cdn.jsdelivr.net/npm//vega-embed@6?noext\",\n",
       "    };\n",
       "\n",
       "    function loadScript(lib) {\n",
       "      return new Promise(function(resolve, reject) {\n",
       "        var s = document.createElement('script');\n",
       "        s.src = paths[lib];\n",
       "        s.async = true;\n",
       "        s.onload = () => resolve(paths[lib]);\n",
       "        s.onerror = () => reject(`Error loading script: ${paths[lib]}`);\n",
       "        document.getElementsByTagName(\"head\")[0].appendChild(s);\n",
       "      });\n",
       "    }\n",
       "\n",
       "    function showError(err) {\n",
       "      outputDiv.innerHTML = `<div class=\"error\" style=\"color:red;\">${err}</div>`;\n",
       "      throw err;\n",
       "    }\n",
       "\n",
       "    function displayChart(vegaEmbed) {\n",
       "      vegaEmbed(outputDiv, spec, embedOpt)\n",
       "        .catch(err => showError(`Javascript Error: ${err.message}<br>This usually means there's a typo in your chart specification. See the javascript console for the full traceback.`));\n",
       "    }\n",
       "\n",
       "    if(typeof define === \"function\" && define.amd) {\n",
       "      requirejs.config({paths});\n",
       "      require([\"vega-embed\"], displayChart, err => showError(`Error loading script: ${err.message}`));\n",
       "    } else if (typeof vegaEmbed === \"function\") {\n",
       "      displayChart(vegaEmbed);\n",
       "    } else {\n",
       "      loadScript(\"vega\")\n",
       "        .then(() => loadScript(\"vega-lite\"))\n",
       "        .then(() => loadScript(\"vega-embed\"))\n",
       "        .catch(showError)\n",
       "        .then(() => displayChart(vegaEmbed));\n",
       "    }\n",
       "  })({\"config\": {\"view\": {\"continuousWidth\": 400, \"continuousHeight\": 300}, \"axis\": {\"labelFontSize\": 18, \"titleFontSize\": 18}, \"legend\": {\"labelFontSize\": 14, \"titleFontSize\": 14}, \"title\": {\"fontSize\": 20}}, \"data\": {\"name\": \"data-2ff2677f56f5257d6b69632665c92772\"}, \"mark\": {\"type\": \"circle\", \"size\": 40}, \"encoding\": {\"color\": {\"condition\": {\"type\": \"nominal\", \"field\": \"Team\", \"selection\": \"selector124\"}, \"value\": \"lightgray\"}, \"opacity\": {\"condition\": {\"value\": 1, \"selection\": \"selector124\"}, \"value\": 0.1}, \"tooltip\": [{\"type\": \"nominal\", \"field\": \"Player-info\"}, {\"type\": \"nominal\", \"field\": \"Team\"}, {\"type\": \"quantitative\", \"field\": \"Bid Amount ($)\"}, {\"type\": \"quantitative\", \"field\": \"Total points\"}, {\"type\": \"nominal\", \"field\": \"Stint (wks)\"}], \"x\": {\"type\": \"quantitative\", \"axis\": {\"grid\": false}, \"field\": \"Bid Amount ($)\"}, \"y\": {\"type\": \"quantitative\", \"axis\": {\"grid\": false}, \"field\": \"Total points\"}}, \"height\": 500, \"selection\": {\"selector124\": {\"type\": \"multi\", \"fields\": [\"Team\"], \"bind\": \"legend\"}}, \"title\": \"RB WR TE Draft Spending vs. Total Fantasy Points\", \"width\": 500, \"$schema\": \"https://vega.github.io/schema/vega-lite/v4.8.1.json\", \"datasets\": {\"data-2ff2677f56f5257d6b69632665c92772\": [{\"Player\": \"Derrick Henry\", \"Position\": \"RB\", \"Team\": \"Ice City USA\", \"ProTeam\": \"TEN\", \"Action\": \"DRAFT\", \"Bid Amount ($)\": 84, \"Stint (wks)\": [1, 2, 3, 4, 5, 6, 7, 8], \"Total points\": 184.3, \"Player-info\": \"Derrick Henry, RB (TEN)\"}, {\"Player\": \"Christian McCaffrey\", \"Position\": \"RB\", \"Team\": \"Tasteful Dak Piks, by CMC\", \"ProTeam\": \"CAR\", \"Action\": \"DRAFT\", \"Bid Amount ($)\": 83, \"Stint (wks)\": [1, 2, 3, 4, 5, 6, 7, 8, 9, 10, 11, 12], \"Total points\": 109.0, \"Player-info\": \"Christian McCaffrey, RB (CAR)\"}, {\"Player\": \"Dalvin Cook\", \"Position\": \"RB\", \"Team\": \"Dick Cheese\", \"ProTeam\": \"MIN\", \"Action\": \"DRAFT\", \"Bid Amount ($)\": 70, \"Stint (wks)\": [1, 2, 3, 4, 5, 6, 8, 9, 10, 11, 12, 13, 14, 15, 16, 17], \"Total points\": 184.6, \"Player-info\": \"Dalvin Cook, RB (MIN)\"}, {\"Player\": \"Ezekiel Elliott\", \"Position\": \"RB\", \"Team\": \"Repeat Donger\", \"ProTeam\": \"DAL\", \"Action\": \"DRAFT\", \"Bid Amount ($)\": 70, \"Stint (wks)\": [1, 2, 3, 4, 5, 6, 8, 9, 10, 11, 12, 13, 14, 15, 16, 17], \"Total points\": 218.9, \"Player-info\": \"Ezekiel Elliott, RB (DAL)\"}, {\"Player\": \"Alvin Kamara\", \"Position\": \"RB\", \"Team\": \"More than a  Thielen\", \"ProTeam\": \"NO\", \"Action\": \"DRAFT\", \"Bid Amount ($)\": 68, \"Stint (wks)\": [1, 2, 3, 4, 5, 7, 8, 9, 10, 11, 12, 13, 14, 15, 16, 17], \"Total points\": 194.0, \"Player-info\": \"Alvin Kamara, RB (NO)\"}, {\"Player\": \"Travis Kelce\", \"Position\": \"TE\", \"Team\": \"Favre's Wranglers\", \"ProTeam\": \"KC\", \"Action\": \"DRAFT\", \"Bid Amount ($)\": 67, \"Stint (wks)\": [1, 2, 3, 4, 5, 6, 7, 8, 9, 10, 11, 13, 14, 15, 16, 17], \"Total points\": 205.4, \"Player-info\": \"Travis Kelce, TE (KC)\"}, {\"Player\": \"Davante Adams\", \"Position\": \"WR\", \"Team\": \"Tasteful Dak Piks, by CMC\", \"ProTeam\": \"GB\", \"Action\": \"DRAFT\", \"Bid Amount ($)\": 63, \"Stint (wks)\": [1, 2, 3, 4, 5, 6, 7, 8, 9, 10, 11, 12, 14, 15, 16, 17], \"Total points\": 278.3, \"Player-info\": \"Davante Adams, WR (GB)\"}, {\"Player\": \"Saquon Barkley\", \"Position\": \"RB\", \"Team\": \"Favre's Wranglers\", \"ProTeam\": \"NYG\", \"Action\": \"DRAFT\", \"Bid Amount ($)\": 63, \"Stint (wks)\": [1, 2, 3, 4, 5, 6, 7, 8, 9, 11, 12, 13, 14, 15, 16, 17], \"Total points\": 121.7, \"Player-info\": \"Saquon Barkley, RB (NYG)\"}, {\"Player\": \"Nick Chubb\", \"Position\": \"RB\", \"Team\": \"Your Antivax Cousins\", \"ProTeam\": \"CLE\", \"Action\": \"DRAFT\", \"Bid Amount ($)\": 61, \"Stint (wks)\": [1, 2, 3, 4, 5, 6, 7, 8, 9, 10, 11, 12, 14, 15, 16], \"Total points\": 193.0, \"Player-info\": \"Nick Chubb, RB (CLE)\"}, {\"Player\": \"Jonathan Taylor\", \"Position\": \"RB\", \"Team\": \"Godwin's Memorial\", \"ProTeam\": \"IND\", \"Action\": \"DRAFT\", \"Bid Amount ($)\": 58, \"Stint (wks)\": [1, 2, 3, 4, 5, 6, 7, 8, 9, 10, 11, 12, 13, 15, 16, 17], \"Total points\": 342.1, \"Player-info\": \"Jonathan Taylor, RB (IND)\"}, {\"Player\": \"Tyreek Hill\", \"Position\": \"WR\", \"Team\": \"Fumble .\", \"ProTeam\": \"KC\", \"Action\": \"DRAFT\", \"Bid Amount ($)\": 57, \"Stint (wks)\": [1, 2, 3, 4, 5, 6, 7, 8, 9, 10, 11, 13, 14, 15, 16, 17], \"Total points\": 240.3, \"Player-info\": \"Tyreek Hill, WR (KC)\"}, {\"Player\": \"Stefon Diggs\", \"Position\": \"WR\", \"Team\": \"Repeat Donger\", \"ProTeam\": \"BUF\", \"Action\": \"DRAFT\", \"Bid Amount ($)\": 57, \"Stint (wks)\": [1, 2, 3, 4, 5, 6, 8, 9, 10, 11, 12, 13, 14, 15, 16, 17], \"Total points\": 215.4, \"Player-info\": \"Stefon Diggs, WR (BUF)\"}, {\"Player\": \"Aaron Jones\", \"Position\": \"RB\", \"Team\": \"Frankel's Cankles\", \"ProTeam\": \"GB\", \"Action\": \"DRAFT\", \"Bid Amount ($)\": 56, \"Stint (wks)\": [1, 2, 3, 4, 5, 6, 7, 8, 9, 10, 11, 12, 14, 15, 16, 17], \"Total points\": 203.0, \"Player-info\": \"Aaron Jones, RB (GB)\"}, {\"Player\": \"Austin Ekeler\", \"Position\": \"RB\", \"Team\": \"Don't Ekele Me\", \"ProTeam\": \"LAC\", \"Action\": \"DRAFT\", \"Bid Amount ($)\": 54, \"Stint (wks)\": [1, 2, 3, 4, 5, 6, 8, 9, 10, 11, 12, 13, 14, 15, 16, 17], \"Total points\": 282.4, \"Player-info\": \"Austin Ekeler, RB (LAC)\"}, {\"Player\": \"Najee Harris\", \"Position\": \"RB\", \"Team\": \"Tier 2 never felt so good\", \"ProTeam\": \"PIT\", \"Action\": \"DRAFT\", \"Bid Amount ($)\": 51, \"Stint (wks)\": [1, 2, 3, 4, 5, 6, 8, 9, 10, 11, 12, 13, 14, 15, 16], \"Total points\": 228.1, \"Player-info\": \"Najee Harris, RB (PIT)\"}, {\"Player\": \"Antonio Gibson\", \"Position\": \"RB\", \"Team\": \"Your Antivax Cousins\", \"ProTeam\": \"WSH\", \"Action\": \"DRAFT\", \"Bid Amount ($)\": 49, \"Stint (wks)\": [1, 2, 3, 4, 5, 6, 7, 8, 10, 11, 12, 13, 14, 15, 16, 17], \"Total points\": 186.5, \"Player-info\": \"Antonio Gibson, RB (WSH)\"}, {\"Player\": \"DeAndre Hopkins\", \"Position\": \"WR\", \"Team\": \"Tier 2 never felt so good\", \"ProTeam\": \"ARI\", \"Action\": \"DRAFT\", \"Bid Amount ($)\": 45, \"Stint (wks)\": [1, 2, 3, 4, 5, 6, 7, 8, 9, 10, 11, 13, 14, 15, 16, 17], \"Total points\": 126.2, \"Player-info\": \"DeAndre Hopkins, WR (ARI)\"}, {\"Player\": \"Calvin Ridley\", \"Position\": \"WR\", \"Team\": \"Your Antivax Cousins\", \"ProTeam\": \"ATL\", \"Action\": \"DRAFT\", \"Bid Amount ($)\": 43, \"Stint (wks)\": [1, 2, 3, 4, 5, 7, 8, 9, 10, 11, 12, 13], \"Total points\": 55.6, \"Player-info\": \"Calvin Ridley, WR (ATL)\"}, {\"Player\": \"DK Metcalf\", \"Position\": \"WR\", \"Team\": \"Ice City USA\", \"ProTeam\": \"SEA\", \"Action\": \"DRAFT\", \"Bid Amount ($)\": 42, \"Stint (wks)\": [1, 2, 3, 4, 5, 6, 7, 8, 10, 11, 12, 13, 14, 15, 16, 17], \"Total points\": 198.5, \"Player-info\": \"DK Metcalf, WR (SEA)\"}, {\"Player\": \"Justin Jefferson\", \"Position\": \"WR\", \"Team\": \"Tasteful Dak Piks, by CMC\", \"ProTeam\": \"MIN\", \"Action\": \"DRAFT\", \"Bid Amount ($)\": 42, \"Stint (wks)\": [1, 2, 3, 4, 5, 6, 8, 9, 10, 11, 12, 13, 14, 15, 16, 17], \"Total points\": 256.6, \"Player-info\": \"Justin Jefferson, WR (MIN)\"}, {\"Player\": \"Joe Mixon\", \"Position\": \"RB\", \"Team\": \"Tier 2 never felt so good\", \"ProTeam\": \"CIN\", \"Action\": \"DRAFT\", \"Bid Amount ($)\": 40, \"Stint (wks)\": [1, 2, 3, 4, 5, 6, 7, 8, 9, 11, 12, 13, 14, 15, 16, 17], \"Total points\": 266.9, \"Player-info\": \"Joe Mixon, RB (CIN)\"}, {\"Player\": \"A.J. Brown\", \"Position\": \"WR\", \"Team\": \"Godwin's Memorial\", \"ProTeam\": \"TEN\", \"Action\": \"DRAFT\", \"Bid Amount ($)\": 38, \"Stint (wks)\": [1, 2, 3, 4, 5, 6, 7, 8, 9, 10, 11, 12, 14, 15, 16, 17], \"Total points\": 134.6, \"Player-info\": \"A.J. Brown, WR (TEN)\"}, {\"Player\": \"Keenan Allen\", \"Position\": \"WR\", \"Team\": \"Dick Cheese\", \"ProTeam\": \"LAC\", \"Action\": \"DRAFT\", \"Bid Amount ($)\": 37, \"Stint (wks)\": [1, 2, 3, 4, 5, 6, 8, 9, 10, 11, 12, 13, 14, 15, 16, 17], \"Total points\": 196.6, \"Player-info\": \"Keenan Allen, WR (LAC)\"}, {\"Player\": \"Terry McLaurin\", \"Position\": \"WR\", \"Team\": \"Fumble .\", \"ProTeam\": \"WSH\", \"Action\": \"DRAFT\", \"Bid Amount ($)\": 36, \"Stint (wks)\": [1, 2, 3, 4, 5, 6, 7, 8, 10, 11, 12, 13, 14, 15, 16, 17], \"Total points\": 163.7, \"Player-info\": \"Terry McLaurin, WR (WSH)\"}, {\"Player\": \"Clyde Edwards-Helaire\", \"Position\": \"RB\", \"Team\": \"Dick Cheese\", \"ProTeam\": \"KC\", \"Action\": \"DRAFT\", \"Bid Amount ($)\": 36, \"Stint (wks)\": [1], \"Total points\": 8.7, \"Player-info\": \"Clyde Edwards-Helaire, RB (KC)\"}, {\"Player\": \"Darren Waller\", \"Position\": \"TE\", \"Team\": \"More than a  Thielen\", \"ProTeam\": \"OAK\", \"Action\": \"DRAFT\", \"Bid Amount ($)\": 35, \"Stint (wks)\": [1, 2, 3, 4, 5, 6, 7, 9, 10, 11, 12, 13, 14, 15, 16, 17], \"Total points\": 102.8, \"Player-info\": \"Darren Waller, TE (OAK)\"}, {\"Player\": \"Robert Woods\", \"Position\": \"WR\", \"Team\": \"More than a  Thielen\", \"ProTeam\": \"LAR\", \"Action\": \"DRAFT\", \"Bid Amount ($)\": 33, \"Stint (wks)\": [1, 2, 3, 4, 5, 6, 7, 8, 9, 10], \"Total points\": 114.7, \"Player-info\": \"Robert Woods, WR (LAR)\"}, {\"Player\": \"James Robinson\", \"Position\": \"RB\", \"Team\": \"Dick Cheese\", \"ProTeam\": \"JAX\", \"Action\": \"DRAFT\", \"Bid Amount ($)\": 33, \"Stint (wks)\": [1, 2, 3, 4, 5, 6, 8, 9, 10, 11, 12, 13, 14, 15, 16, 17], \"Total points\": 158.4, \"Player-info\": \"James Robinson, RB (JAX)\"}, {\"Player\": \"CeeDee Lamb\", \"Position\": \"WR\", \"Team\": \"Frankel's Cankles\", \"ProTeam\": \"DAL\", \"Action\": \"DRAFT\", \"Bid Amount ($)\": 32, \"Stint (wks)\": [1, 2, 3, 4, 5, 6, 8, 9, 10, 11, 12, 13, 14, 15, 16, 17], \"Total points\": 187.8, \"Player-info\": \"CeeDee Lamb, WR (DAL)\"}, {\"Player\": \"George Kittle\", \"Position\": \"TE\", \"Team\": \"Don't Ekele Me\", \"ProTeam\": \"SF\", \"Action\": \"DRAFT\", \"Bid Amount ($)\": 32, \"Stint (wks)\": [1, 2, 3, 4, 5, 7, 8, 9, 10, 11, 12, 13, 14, 15, 16, 17], \"Total points\": 159.0, \"Player-info\": \"George Kittle, TE (SF)\"}, {\"Player\": \"Miles Sanders\", \"Position\": \"RB\", \"Team\": \"Don't Ekele Me\", \"ProTeam\": \"PHI\", \"Action\": \"DRAFT\", \"Bid Amount ($)\": 30, \"Stint (wks)\": [1, 2, 3, 4, 5, 6, 7], \"Total points\": 53.3, \"Player-info\": \"Miles Sanders, RB (PHI)\"}, {\"Player\": \"David Montgomery\", \"Position\": \"RB\", \"Team\": \"Ice City USA\", \"ProTeam\": \"CHI\", \"Action\": \"DRAFT\", \"Bid Amount ($)\": 30, \"Stint (wks)\": [1, 2, 3, 4, 5, 6, 7, 8, 9, 11, 12, 13, 14, 15, 16, 17], \"Total points\": 165.1, \"Player-info\": \"David Montgomery, RB (CHI)\"}, {\"Player\": \"Mike Evans\", \"Position\": \"WR\", \"Team\": \"Favre's Wranglers\", \"ProTeam\": \"TB\", \"Action\": \"DRAFT\", \"Bid Amount ($)\": 30, \"Stint (wks)\": [1, 2, 3, 4, 5, 6, 7, 8, 10, 11, 12, 13, 14, 15, 16, 17], \"Total points\": 201.6, \"Player-info\": \"Mike Evans, WR (TB)\"}, {\"Player\": \"D'Andre Swift\", \"Position\": \"RB\", \"Team\": \"Fumble .\", \"ProTeam\": \"DET\", \"Action\": \"DRAFT\", \"Bid Amount ($)\": 29, \"Stint (wks)\": [1], \"Total points\": 20.4, \"Player-info\": \"D'Andre Swift, RB (DET)\"}, {\"Player\": \"Allen Robinson II\", \"Position\": \"WR\", \"Team\": \"Frankel's Cankles\", \"ProTeam\": \"CHI\", \"Action\": \"DRAFT\", \"Bid Amount ($)\": 29, \"Stint (wks)\": [1, 2, 3, 4, 5, 6, 7, 8, 9, 11, 12, 13, 14], \"Total points\": 57.3, \"Player-info\": \"Allen Robinson II, WR (CHI)\"}, {\"Player\": \"Amari Cooper\", \"Position\": \"WR\", \"Team\": \"Don't Ekele Me\", \"ProTeam\": \"DAL\", \"Action\": \"DRAFT\", \"Bid Amount ($)\": 29, \"Stint (wks)\": [1, 2, 3, 4, 5, 6, 8, 9, 10, 11, 12, 13, 14, 15, 16, 17], \"Total points\": 158.1, \"Player-info\": \"Amari Cooper, WR (DAL)\"}, {\"Player\": \"Cooper Kupp\", \"Position\": \"WR\", \"Team\": \"Fumble .\", \"ProTeam\": \"LAR\", \"Action\": \"DRAFT\", \"Bid Amount ($)\": 29, \"Stint (wks)\": [1, 2, 3, 4, 5, 6, 7, 8, 9, 10, 12, 13, 14, 15, 16, 17], \"Total points\": 343.9, \"Player-info\": \"Cooper Kupp, WR (LAR)\"}, {\"Player\": \"Chris Carson\", \"Position\": \"RB\", \"Team\": \"Tier 2 never felt so good\", \"ProTeam\": \"SEA\", \"Action\": \"DRAFT\", \"Bid Amount ($)\": 28, \"Stint (wks)\": [1, 2, 3, 4, 5, 6, 7, 8, 10, 11], \"Total points\": 45.1, \"Player-info\": \"Chris Carson, RB (SEA)\"}, {\"Player\": \"Gus Edwards\", \"Position\": \"RB\", \"Team\": \"Frankel's Cankles\", \"ProTeam\": \"BAL\", \"Action\": \"DRAFT\", \"Bid Amount ($)\": 22, \"Stint (wks)\": [1, 2, 3], \"Total points\": 0.0, \"Player-info\": \"Gus Edwards, RB (BAL)\"}, {\"Player\": \"Tyler Lockett\", \"Position\": \"WR\", \"Team\": \"Your Antivax Cousins\", \"ProTeam\": \"SEA\", \"Action\": \"DRAFT\", \"Bid Amount ($)\": 22, \"Stint (wks)\": [1, 2, 3, 4, 5, 6, 7, 8, 10, 11, 12, 13, 14, 15, 16, 17], \"Total points\": 180.4, \"Player-info\": \"Tyler Lockett, WR (SEA)\"}, {\"Player\": \"Adam Thielen\", \"Position\": \"WR\", \"Team\": \"More than a  Thielen\", \"ProTeam\": \"MIN\", \"Action\": \"DRAFT\", \"Bid Amount ($)\": 21, \"Stint (wks)\": [1, 2, 3, 4, 5, 6, 8, 9, 10, 11, 12, 13, 14, 15, 16, 17], \"Total points\": 166.3, \"Player-info\": \"Adam Thielen, WR (MIN)\"}, {\"Player\": \"Odell Beckham Jr.\", \"Position\": \"WR\", \"Team\": \"Repeat Donger\", \"ProTeam\": \"LAR\", \"Action\": \"DRAFT\", \"Bid Amount ($)\": 20, \"Stint (wks)\": [1, 2, 3, 4, 5, 6, 7, 8, 9, 10, 12, 13, 14, 15, 16, 17], \"Total points\": 104.3, \"Player-info\": \"Odell Beckham Jr., WR (LAR)\"}, {\"Player\": \"Chris Godwin\", \"Position\": \"WR\", \"Team\": \"Godwin's Memorial\", \"ProTeam\": \"TB\", \"Action\": \"DRAFT\", \"Bid Amount ($)\": 19, \"Stint (wks)\": [1, 2, 3, 4, 5, 6, 7, 8, 10, 11, 12, 13, 14, 15, 16, 17], \"Total points\": 193.4, \"Player-info\": \"Chris Godwin, WR (TB)\"}, {\"Player\": \"Julio Jones\", \"Position\": \"WR\", \"Team\": \"Tier 2 never felt so good\", \"ProTeam\": \"TEN\", \"Action\": \"DRAFT\", \"Bid Amount ($)\": 18, \"Stint (wks)\": [1, 2, 3, 4, 5, 6, 7, 8, 9, 10, 11, 12, 14, 15], \"Total points\": 49.4, \"Player-info\": \"Julio Jones, WR (TEN)\"}, {\"Player\": \"Diontae Johnson\", \"Position\": \"WR\", \"Team\": \"Don't Ekele Me\", \"ProTeam\": \"PIT\", \"Action\": \"DRAFT\", \"Bid Amount ($)\": 17, \"Stint (wks)\": [1, 2, 3, 4, 5, 6, 8, 9, 10, 11, 12, 13, 14, 15, 16], \"Total points\": 199.2, \"Player-info\": \"Diontae Johnson, WR (PIT)\"}, {\"Player\": \"Darrell Henderson Jr.\", \"Position\": \"RB\", \"Team\": \"Godwin's Memorial\", \"ProTeam\": \"LAR\", \"Action\": \"DRAFT\", \"Bid Amount ($)\": 17, \"Stint (wks)\": [1, 2, 3, 4, 5, 6, 7, 8, 9, 10, 12, 13, 14, 15, 16, 17], \"Total points\": 148.9, \"Player-info\": \"Darrell Henderson Jr., RB (LAR)\"}, {\"Player\": \"DJ Moore\", \"Position\": \"WR\", \"Team\": \"Favre's Wranglers\", \"ProTeam\": \"CAR\", \"Action\": \"DRAFT\", \"Bid Amount ($)\": 17, \"Stint (wks)\": [1, 2, 3, 4, 5, 6, 7, 8, 9, 10, 11, 12, 14, 15, 16, 17], \"Total points\": 177.5, \"Player-info\": \"DJ Moore, WR (CAR)\"}, {\"Player\": \"Josh Jacobs\", \"Position\": \"RB\", \"Team\": \"Repeat Donger\", \"ProTeam\": \"OAK\", \"Action\": \"DRAFT\", \"Bid Amount ($)\": 16, \"Stint (wks)\": [1, 2, 3, 4, 5, 6, 7, 9, 10, 11, 12, 13, 14, 15, 16, 17], \"Total points\": 177.6, \"Player-info\": \"Josh Jacobs, RB (OAK)\"}, {\"Player\": \"Tee Higgins\", \"Position\": \"WR\", \"Team\": \"Frankel's Cankles\", \"ProTeam\": \"CIN\", \"Action\": \"DRAFT\", \"Bid Amount ($)\": 16, \"Stint (wks)\": [1, 2, 3, 4, 5, 6, 7, 8, 9, 11, 12, 13, 14, 15, 16, 17], \"Total points\": 182.1, \"Player-info\": \"Tee Higgins, WR (CIN)\"}, {\"Player\": \"Mark Andrews\", \"Position\": \"TE\", \"Team\": \"Ice City USA\", \"ProTeam\": \"BAL\", \"Action\": \"DRAFT\", \"Bid Amount ($)\": 16, \"Stint (wks)\": [1, 2, 3, 4, 5, 6, 7, 9, 10, 11, 12, 13, 14, 15, 16, 17], \"Total points\": 235.1, \"Player-info\": \"Mark Andrews, TE (BAL)\"}, {\"Player\": \"Myles Gaskin\", \"Position\": \"RB\", \"Team\": \"Fumble .\", \"ProTeam\": \"MIA\", \"Action\": \"DRAFT\", \"Bid Amount ($)\": 14, \"Stint (wks)\": [1], \"Total points\": 10.1, \"Player-info\": \"Myles Gaskin, RB (MIA)\"}, {\"Player\": \"Mike Davis\", \"Position\": \"RB\", \"Team\": \"Fumble .\", \"ProTeam\": \"ATL\", \"Action\": \"DRAFT\", \"Bid Amount ($)\": 12, \"Stint (wks)\": [1, 2, 3, 4, 5, 7, 8, 9, 10, 11, 12], \"Total points\": 71.6, \"Player-info\": \"Mike Davis, RB (ATL)\"}, {\"Player\": \"DeVonta Smith\", \"Position\": \"WR\", \"Team\": \"Ice City USA\", \"ProTeam\": \"PHI\", \"Action\": \"DRAFT\", \"Bid Amount ($)\": 12, \"Stint (wks)\": [1, 2, 3, 4, 5, 6, 7, 8, 9, 10, 11, 12, 13, 15, 16, 17], \"Total points\": 148.0, \"Player-info\": \"DeVonta Smith, WR (PHI)\"}, {\"Player\": \"Kareem Hunt\", \"Position\": \"RB\", \"Team\": \"Repeat Donger\", \"ProTeam\": \"CLE\", \"Action\": \"DRAFT\", \"Bid Amount ($)\": 10, \"Stint (wks)\": [1, 2, 3, 4, 5, 6, 7, 8, 9, 10, 11, 12, 14, 15, 16], \"Total points\": 99.0, \"Player-info\": \"Kareem Hunt, RB (CLE)\"}, {\"Player\": \"Tyler Boyd\", \"Position\": \"WR\", \"Team\": \"Repeat Donger\", \"ProTeam\": \"CIN\", \"Action\": \"DRAFT\", \"Bid Amount ($)\": 10, \"Stint (wks)\": [1, 2, 3, 4, 5, 6], \"Total points\": 49.0, \"Player-info\": \"Tyler Boyd, WR (CIN)\"}, {\"Player\": \"Kenny Golladay\", \"Position\": \"WR\", \"Team\": \"Favre's Wranglers\", \"ProTeam\": \"NYG\", \"Action\": \"DRAFT\", \"Bid Amount ($)\": 9, \"Stint (wks)\": [1, 2, 3, 4, 5, 6, 7, 8, 9, 11, 12, 13, 14, 15, 16, 17], \"Total points\": 66.9, \"Player-info\": \"Kenny Golladay, WR (NYG)\"}, {\"Player\": \"Logan Thomas\", \"Position\": \"TE\", \"Team\": \"Godwin's Memorial\", \"ProTeam\": \"WSH\", \"Action\": \"DRAFT\", \"Bid Amount ($)\": 9, \"Stint (wks)\": [1, 2, 3, 4, 5], \"Total points\": 27.7, \"Player-info\": \"Logan Thomas, TE (WSH)\"}, {\"Player\": \"Robby Anderson\", \"Position\": \"WR\", \"Team\": \"Don't Ekele Me\", \"ProTeam\": \"CAR\", \"Action\": \"DRAFT\", \"Bid Amount ($)\": 8, \"Stint (wks)\": [1, 2, 3], \"Total points\": 18.8, \"Player-info\": \"Robby Anderson, WR (CAR)\"}, {\"Player\": \"Courtland Sutton\", \"Position\": \"WR\", \"Team\": \"Dick Cheese\", \"ProTeam\": \"DEN\", \"Action\": \"DRAFT\", \"Bid Amount ($)\": 8, \"Stint (wks)\": [1, 2, 3, 4, 5, 6, 7, 8, 9, 10], \"Total points\": 97.2, \"Player-info\": \"Courtland Sutton, WR (DEN)\"}, {\"Player\": \"Brandin Cooks\", \"Position\": \"WR\", \"Team\": \"Don't Ekele Me\", \"ProTeam\": \"HOU\", \"Action\": \"DRAFT\", \"Bid Amount ($)\": 8, \"Stint (wks)\": [1, 2, 3, 4, 5, 6, 7, 8, 9, 11, 12, 13, 14, 15, 16, 17], \"Total points\": 182.7, \"Player-info\": \"Brandin Cooks, WR (HOU)\"}, {\"Player\": \"Chase Edmonds\", \"Position\": \"RB\", \"Team\": \"Frankel's Cankles\", \"ProTeam\": \"ARI\", \"Action\": \"DRAFT\", \"Bid Amount ($)\": 7, \"Stint (wks)\": [1, 2, 3, 4, 5, 6, 7, 8, 9, 10, 11, 13, 14, 15, 16, 17], \"Total points\": 121.8, \"Player-info\": \"Chase Edmonds, RB (ARI)\"}, {\"Player\": \"Sony Michel\", \"Position\": \"RB\", \"Team\": \"Godwin's Memorial\", \"ProTeam\": \"LAR\", \"Action\": \"DRAFT\", \"Bid Amount ($)\": 7, \"Stint (wks)\": [1, 2, 3, 4, 5, 6, 7, 8, 9, 10, 12, 13, 14, 15, 16, 17], \"Total points\": 130.4, \"Player-info\": \"Sony Michel, RB (LAR)\"}, {\"Player\": \"Jerry Jeudy\", \"Position\": \"WR\", \"Team\": \"Favre's Wranglers\", \"ProTeam\": \"DEN\", \"Action\": \"DRAFT\", \"Bid Amount ($)\": 7, \"Stint (wks)\": [1, 2, 3, 4, 5, 6, 7, 8, 9, 10, 12, 13, 14, 15, 16, 17], \"Total points\": 62.0, \"Player-info\": \"Jerry Jeudy, WR (DEN)\"}, {\"Player\": \"T.J. Hockenson\", \"Position\": \"TE\", \"Team\": \"Frankel's Cankles\", \"ProTeam\": \"DET\", \"Action\": \"DRAFT\", \"Bid Amount ($)\": 7, \"Stint (wks)\": [1, 2, 3, 4, 5, 6, 7, 8, 10, 11, 12, 13, 14, 15, 16, 17], \"Total points\": 114.8, \"Player-info\": \"T.J. Hockenson, TE (DET)\"}, {\"Player\": \"Raheem Mostert\", \"Position\": \"RB\", \"Team\": \"Godwin's Memorial\", \"ProTeam\": \"SF\", \"Action\": \"DRAFT\", \"Bid Amount ($)\": 6, \"Stint (wks)\": [1], \"Total points\": 2.0, \"Player-info\": \"Raheem Mostert, RB (SF)\"}, {\"Player\": \"Javonte Williams\", \"Position\": \"RB\", \"Team\": \"More than a  Thielen\", \"ProTeam\": \"DEN\", \"Action\": \"DRAFT\", \"Bid Amount ($)\": 6, \"Stint (wks)\": [1, 2, 3, 4, 5, 6, 7, 8, 9, 10, 12, 13, 14, 15, 16, 17], \"Total points\": 176.0, \"Player-info\": \"Javonte Williams, RB (DEN)\"}, {\"Player\": \"JuJu Smith-Schuster\", \"Position\": \"WR\", \"Team\": \"Frankel's Cankles\", \"ProTeam\": \"PIT\", \"Action\": \"DRAFT\", \"Bid Amount ($)\": 6, \"Stint (wks)\": [1, 2, 3, 4, 5], \"Total points\": 27.3, \"Player-info\": \"JuJu Smith-Schuster, WR (PIT)\"}, {\"Player\": \"Melvin Gordon III\", \"Position\": \"RB\", \"Team\": \"Fumble .\", \"ProTeam\": \"DEN\", \"Action\": \"DRAFT\", \"Bid Amount ($)\": 5, \"Stint (wks)\": [1, 2, 3, 4, 5, 6, 7, 8, 9, 10, 12, 13, 14, 15, 16, 17], \"Total points\": 165.0, \"Player-info\": \"Melvin Gordon III, RB (DEN)\"}, {\"Player\": \"Kyle Pitts\", \"Position\": \"TE\", \"Team\": \"Godwin's Memorial\", \"ProTeam\": \"ATL\", \"Action\": \"DRAFT\", \"Bid Amount ($)\": 5, \"Stint (wks)\": [1, 2, 3, 4, 5, 7, 8, 9, 10, 11, 12, 13, 14, 15, 16, 17], \"Total points\": 140.8, \"Player-info\": \"Kyle Pitts, TE (ATL)\"}, {\"Player\": \"Michael Thomas\", \"Position\": \"WR\", \"Team\": \"Godwin's Memorial\", \"ProTeam\": \"NO\", \"Action\": \"DRAFT\", \"Bid Amount ($)\": 5, \"Stint (wks)\": [1, 2, 3, 4, 5, 7, 8], \"Total points\": 0.0, \"Player-info\": \"Michael Thomas, WR (NO)\"}, {\"Player\": \"Laviska Shenault Jr.\", \"Position\": \"WR\", \"Team\": \"Your Antivax Cousins\", \"ProTeam\": \"JAX\", \"Action\": \"DRAFT\", \"Bid Amount ($)\": 5, \"Stint (wks)\": [1, 2, 3, 4, 5, 6], \"Total points\": 45.6, \"Player-info\": \"Laviska Shenault Jr., WR (JAX)\"}, {\"Player\": \"Noah Fant\", \"Position\": \"TE\", \"Team\": \"Repeat Donger\", \"ProTeam\": \"DEN\", \"Action\": \"DRAFT\", \"Bid Amount ($)\": 5, \"Stint (wks)\": [1, 2, 3, 4, 5, 6, 7, 8], \"Total points\": 68.5, \"Player-info\": \"Noah Fant, TE (DEN)\"}, {\"Player\": \"Chase Claypool\", \"Position\": \"WR\", \"Team\": \"More than a  Thielen\", \"ProTeam\": \"PIT\", \"Action\": \"DRAFT\", \"Bid Amount ($)\": 5, \"Stint (wks)\": [1, 2, 3, 4, 5, 6, 8, 9, 10], \"Total points\": 68.9, \"Player-info\": \"Chase Claypool, WR (PIT)\"}, {\"Player\": \"William Fuller V\", \"Position\": \"WR\", \"Team\": \"Frankel's Cankles\", \"ProTeam\": \"MIA\", \"Action\": \"DRAFT\", \"Bid Amount ($)\": 5, \"Stint (wks)\": [1, 2, 3, 4], \"Total points\": 6.6, \"Player-info\": \"William Fuller V, WR (MIA)\"}, {\"Player\": \"Damien Harris\", \"Position\": \"RB\", \"Team\": \"Tier 2 never felt so good\", \"ProTeam\": \"NE\", \"Action\": \"DRAFT\", \"Bid Amount ($)\": 5, \"Stint (wks)\": [1, 2, 3, 4, 5, 6, 7, 8, 9, 10, 11, 12, 13, 15, 16, 17], \"Total points\": 185.8, \"Player-info\": \"Damien Harris, RB (NE)\"}, {\"Player\": \"Deebo Samuel\", \"Position\": \"WR\", \"Team\": \"Dick Cheese\", \"ProTeam\": \"SF\", \"Action\": \"DRAFT\", \"Bid Amount ($)\": 4, \"Stint (wks)\": [1], \"Total points\": 27.4, \"Player-info\": \"Deebo Samuel, WR (SF)\"}, {\"Player\": \"Ja'Marr Chase\", \"Position\": \"WR\", \"Team\": \"Your Antivax Cousins\", \"ProTeam\": \"CIN\", \"Action\": \"DRAFT\", \"Bid Amount ($)\": 3, \"Stint (wks)\": [1, 2, 3, 4, 5, 6, 7, 8, 9, 11, 12, 13, 14, 15, 16, 17], \"Total points\": 268.5, \"Player-info\": \"Ja'Marr Chase, WR (CIN)\"}, {\"Player\": \"Kenyan Drake\", \"Position\": \"RB\", \"Team\": \"More than a  Thielen\", \"ProTeam\": \"OAK\", \"Action\": \"DRAFT\", \"Bid Amount ($)\": 3, \"Stint (wks)\": [1, 2, 3, 4], \"Total points\": 24.9, \"Player-info\": \"Kenyan Drake, RB (OAK)\"}, {\"Player\": \"Trey Sermon\", \"Position\": \"RB\", \"Team\": \"Your Antivax Cousins\", \"ProTeam\": \"SF\", \"Action\": \"DRAFT\", \"Bid Amount ($)\": 3, \"Stint (wks)\": [1, 2, 3, 4, 5], \"Total points\": 20.8, \"Player-info\": \"Trey Sermon, RB (SF)\"}, {\"Player\": \"Jarvis Landry\", \"Position\": \"WR\", \"Team\": \"Don't Ekele Me\", \"ProTeam\": \"CLE\", \"Action\": \"DRAFT\", \"Bid Amount ($)\": 3, \"Stint (wks)\": [], \"Total points\": 0.0, \"Player-info\": \"Jarvis Landry, WR (CLE)\"}, {\"Player\": \"Michael Carter\", \"Position\": \"RB\", \"Team\": \"Your Antivax Cousins\", \"ProTeam\": \"NYJ\", \"Action\": \"DRAFT\", \"Bid Amount ($)\": 3, \"Stint (wks)\": [1, 2, 3], \"Total points\": 16.2, \"Player-info\": \"Michael Carter, RB (NYJ)\"}, {\"Player\": \"Corey Davis\", \"Position\": \"WR\", \"Team\": \"Dick Cheese\", \"ProTeam\": \"NYJ\", \"Action\": \"DRAFT\", \"Bid Amount ($)\": 3, \"Stint (wks)\": [1, 2, 3, 4, 5, 7, 8, 9, 10, 11, 12], \"Total points\": 85.7, \"Player-info\": \"Corey Davis, WR (NYJ)\"}, {\"Player\": \"Ronald Jones II\", \"Position\": \"RB\", \"Team\": \"Repeat Donger\", \"ProTeam\": \"TB\", \"Action\": \"DRAFT\", \"Bid Amount ($)\": 2, \"Stint (wks)\": [1, 2], \"Total points\": 3.5, \"Player-info\": \"Ronald Jones II, RB (TB)\"}, {\"Player\": \"James Conner\", \"Position\": \"RB\", \"Team\": \"Repeat Donger\", \"ProTeam\": \"ARI\", \"Action\": \"DRAFT\", \"Bid Amount ($)\": 2, \"Stint (wks)\": [1, 2], \"Total points\": 7.9, \"Player-info\": \"James Conner, RB (ARI)\"}, {\"Player\": \"Michael Pittman Jr.\", \"Position\": \"WR\", \"Team\": \"Ice City USA\", \"ProTeam\": \"IND\", \"Action\": \"DRAFT\", \"Bid Amount ($)\": 2, \"Stint (wks)\": [1], \"Total points\": 4.4, \"Player-info\": \"Michael Pittman Jr., WR (IND)\"}, {\"Player\": \"DJ Chark Jr.\", \"Position\": \"WR\", \"Team\": \"Ice City USA\", \"ProTeam\": \"JAX\", \"Action\": \"DRAFT\", \"Bid Amount ($)\": 2, \"Stint (wks)\": [1, 2], \"Total points\": 18.5, \"Player-info\": \"DJ Chark Jr., WR (JAX)\"}, {\"Player\": \"Michael Gallup\", \"Position\": \"WR\", \"Team\": \"Repeat Donger\", \"ProTeam\": \"DAL\", \"Action\": \"DRAFT\", \"Bid Amount ($)\": 2, \"Stint (wks)\": [1], \"Total points\": 5.6, \"Player-info\": \"Michael Gallup, WR (DAL)\"}, {\"Player\": \"Marvin Jones Jr.\", \"Position\": \"WR\", \"Team\": \"Dick Cheese\", \"ProTeam\": \"JAX\", \"Action\": \"DRAFT\", \"Bid Amount ($)\": 2, \"Stint (wks)\": [], \"Total points\": 0.0, \"Player-info\": \"Marvin Jones Jr., WR (JAX)\"}, {\"Player\": \"Marquise Brown\", \"Position\": \"WR\", \"Team\": \"Don't Ekele Me\", \"ProTeam\": \"BAL\", \"Action\": \"DRAFT\", \"Bid Amount ($)\": 2, \"Stint (wks)\": [], \"Total points\": 0.0, \"Player-info\": \"Marquise Brown, WR (BAL)\"}, {\"Player\": \"AJ Dillon\", \"Position\": \"RB\", \"Team\": \"Tier 2 never felt so good\", \"ProTeam\": \"GB\", \"Action\": \"DRAFT\", \"Bid Amount ($)\": 2, \"Stint (wks)\": [1, 2, 3, 4, 5, 6, 7, 8, 9, 10, 11, 12, 14, 15, 16, 17], \"Total points\": 161.4, \"Player-info\": \"AJ Dillon, RB (GB)\"}, {\"Player\": \"Antonio Brown\", \"Position\": \"WR\", \"Team\": \"Dick Cheese\", \"ProTeam\": \"TB\", \"Action\": \"DRAFT\", \"Bid Amount ($)\": 2, \"Stint (wks)\": [1, 2, 3, 4, 5, 6, 7, 8, 10, 11, 12, 13, 14, 15, 16, 17], \"Total points\": 100.1, \"Player-info\": \"Antonio Brown, WR (TB)\"}, {\"Player\": \"Mike Williams\", \"Position\": \"WR\", \"Team\": \"More than a  Thielen\", \"ProTeam\": \"LAC\", \"Action\": \"DRAFT\", \"Bid Amount ($)\": 2, \"Stint (wks)\": [1, 2, 3, 4, 5, 6, 8, 9, 10, 11, 12, 13, 14, 15, 16, 17], \"Total points\": 186.2, \"Player-info\": \"Mike Williams, WR (LAC)\"}, {\"Player\": \"Jaylen Waddle\", \"Position\": \"WR\", \"Team\": \"Ice City USA\", \"ProTeam\": \"MIA\", \"Action\": \"DRAFT\", \"Bid Amount ($)\": 1, \"Stint (wks)\": [1, 2, 3, 4, 5], \"Total points\": 40.8, \"Player-info\": \"Jaylen Waddle, WR (MIA)\"}, {\"Player\": \"Nyheim Hines\", \"Position\": \"RB\", \"Team\": \"Ice City USA\", \"ProTeam\": \"IND\", \"Action\": \"DRAFT\", \"Bid Amount ($)\": 1, \"Stint (wks)\": [], \"Total points\": 0.0, \"Player-info\": \"Nyheim Hines, RB (IND)\"}, {\"Player\": \"Russell Gage\", \"Position\": \"WR\", \"Team\": \"Tasteful Dak Piks, by CMC\", \"ProTeam\": \"ATL\", \"Action\": \"DRAFT\", \"Bid Amount ($)\": 1, \"Stint (wks)\": [1, 2], \"Total points\": 5.3, \"Player-info\": \"Russell Gage, WR (ATL)\"}, {\"Player\": \"Mecole Hardman\", \"Position\": \"WR\", \"Team\": \"Your Antivax Cousins\", \"ProTeam\": \"KC\", \"Action\": \"DRAFT\", \"Bid Amount ($)\": 1, \"Stint (wks)\": [1], \"Total points\": 3.4, \"Player-info\": \"Mecole Hardman, WR (KC)\"}, {\"Player\": \"Jakobi Meyers\", \"Position\": \"WR\", \"Team\": \"Favre's Wranglers\", \"ProTeam\": \"NE\", \"Action\": \"DRAFT\", \"Bid Amount ($)\": 1, \"Stint (wks)\": [1, 2, 3, 4, 5, 6, 7, 8, 9, 10, 11, 12, 13, 15, 16, 17], \"Total points\": 137.8, \"Player-info\": \"Jakobi Meyers, WR (NE)\"}, {\"Player\": \"Chuba Hubbard\", \"Position\": \"RB\", \"Team\": \"Tasteful Dak Piks, by CMC\", \"ProTeam\": \"CAR\", \"Action\": \"DRAFT\", \"Bid Amount ($)\": 1, \"Stint (wks)\": [1], \"Total points\": 1.4, \"Player-info\": \"Chuba Hubbard, RB (CAR)\"}, {\"Player\": \"J.D. McKissic\", \"Position\": \"RB\", \"Team\": \"Tasteful Dak Piks, by CMC\", \"ProTeam\": \"WSH\", \"Action\": \"DRAFT\", \"Bid Amount ($)\": 1, \"Stint (wks)\": [1], \"Total points\": 0.8, \"Player-info\": \"J.D. McKissic, RB (WSH)\"}, {\"Player\": \"Curtis Samuel\", \"Position\": \"WR\", \"Team\": \"Favre's Wranglers\", \"ProTeam\": \"WSH\", \"Action\": \"DRAFT\", \"Bid Amount ($)\": 1, \"Stint (wks)\": [1], \"Total points\": 0.0, \"Player-info\": \"Curtis Samuel, WR (WSH)\"}, {\"Player\": \"Cole Beasley\", \"Position\": \"WR\", \"Team\": \"Favre's Wranglers\", \"ProTeam\": \"BUF\", \"Action\": \"DRAFT\", \"Bid Amount ($)\": 1, \"Stint (wks)\": [1, 2, 3, 4, 5, 6, 8, 9, 10, 11, 12, 13, 14, 15], \"Total points\": 108.0, \"Player-info\": \"Cole Beasley, WR (BUF)\"}, {\"Player\": \"Dallas Goedert\", \"Position\": \"TE\", \"Team\": \"Dick Cheese\", \"ProTeam\": \"PHI\", \"Action\": \"DRAFT\", \"Bid Amount ($)\": 1, \"Stint (wks)\": [1, 2, 3, 4, 5, 6, 7, 8, 9, 10, 11, 12, 13, 15, 16, 17], \"Total points\": 137.0, \"Player-info\": \"Dallas Goedert, TE (PHI)\"}, {\"Player\": \"Marquez Callaway\", \"Position\": \"WR\", \"Team\": \"Tier 2 never felt so good\", \"ProTeam\": \"NO\", \"Action\": \"DRAFT\", \"Bid Amount ($)\": 1, \"Stint (wks)\": [1, 2, 3, 4, 5, 7, 8, 9, 10, 11, 12, 13, 14, 15, 16], \"Total points\": 116.1, \"Player-info\": \"Marquez Callaway, WR (NO)\"}, {\"Player\": \"Mike Gesicki\", \"Position\": \"TE\", \"Team\": \"Fumble .\", \"ProTeam\": \"MIA\", \"Action\": \"DRAFT\", \"Bid Amount ($)\": 1, \"Stint (wks)\": [1], \"Total points\": 0.0, \"Player-info\": \"Mike Gesicki, TE (MIA)\"}, {\"Player\": \"Jamison Crowder\", \"Position\": \"WR\", \"Team\": \"Tasteful Dak Piks, by CMC\", \"ProTeam\": \"NYJ\", \"Action\": \"DRAFT\", \"Bid Amount ($)\": 1, \"Stint (wks)\": [1, 2, 3], \"Total points\": 0.0, \"Player-info\": \"Jamison Crowder, WR (NYJ)\"}, {\"Player\": \"Ty'Son Williams\", \"Position\": \"RB\", \"Team\": \"Fumble .\", \"ProTeam\": \"BAL\", \"Action\": \"DRAFT\", \"Bid Amount ($)\": 1, \"Stint (wks)\": [1, 2, 3], \"Total points\": 29.4, \"Player-info\": \"Ty'Son Williams, RB (BAL)\"}, {\"Player\": \"Robert Tonyan\", \"Position\": \"TE\", \"Team\": \"Tier 2 never felt so good\", \"ProTeam\": \"GB\", \"Action\": \"DRAFT\", \"Bid Amount ($)\": 1, \"Stint (wks)\": [1, 2, 3, 4, 5, 6, 7, 8, 9, 10, 11], \"Total points\": 41.4, \"Player-info\": \"Robert Tonyan, TE (GB)\"}, {\"Player\": \"Devin Singletary\", \"Position\": \"RB\", \"Team\": \"Godwin's Memorial\", \"ProTeam\": \"BUF\", \"Action\": \"DRAFT\", \"Bid Amount ($)\": 1, \"Stint (wks)\": [1, 2, 3, 4, 5, 6], \"Total points\": 47.4, \"Player-info\": \"Devin Singletary, RB (BUF)\"}, {\"Player\": \"James White\", \"Position\": \"RB\", \"Team\": \"Tasteful Dak Piks, by CMC\", \"ProTeam\": \"NE\", \"Action\": \"DRAFT\", \"Bid Amount ($)\": 1, \"Stint (wks)\": [1, 2, 3], \"Total points\": 25.2, \"Player-info\": \"James White, RB (NE)\"}, {\"Player\": \"Leonard Fournette\", \"Position\": \"RB\", \"Team\": \"Ice City USA\", \"ProTeam\": \"TB\", \"Action\": \"DRAFT\", \"Bid Amount ($)\": 1, \"Stint (wks)\": [1, 2, 3, 4, 5, 6, 7, 8, 10, 11, 12, 13, 14, 15, 16, 17], \"Total points\": 221.1, \"Player-info\": \"Leonard Fournette, RB (TB)\"}, {\"Player\": \"Jamaal Williams\", \"Position\": \"RB\", \"Team\": \"Don't Ekele Me\", \"ProTeam\": \"DET\", \"Action\": \"DRAFT\", \"Bid Amount ($)\": 1, \"Stint (wks)\": [1, 2, 3, 4, 5, 6], \"Total points\": 55.4, \"Player-info\": \"Jamaal Williams, RB (DET)\"}, {\"Player\": \"David Johnson\", \"Position\": \"RB\", \"Team\": \"More than a  Thielen\", \"ProTeam\": \"HOU\", \"Action\": \"DRAFT\", \"Bid Amount ($)\": 1, \"Stint (wks)\": [1, 2], \"Total points\": 16.0, \"Player-info\": \"David Johnson, RB (HOU)\"}, {\"Player\": \"Jalen Reagor\", \"Position\": \"WR\", \"Team\": \"More than a  Thielen\", \"ProTeam\": \"PHI\", \"Action\": \"DRAFT\", \"Bid Amount ($)\": 1, \"Stint (wks)\": [1, 2], \"Total points\": 15.4, \"Player-info\": \"Jalen Reagor, WR (PHI)\"}, {\"Player\": \"Jonnu Smith\", \"Position\": \"TE\", \"Team\": \"Tasteful Dak Piks, by CMC\", \"ProTeam\": \"NE\", \"Action\": \"DRAFT\", \"Bid Amount ($)\": 1, \"Stint (wks)\": [1, 2, 3], \"Total points\": 13.0, \"Player-info\": \"Jonnu Smith, TE (NE)\"}, {\"Player\": \"Tyler Higbee\", \"Position\": \"TE\", \"Team\": \"Your Antivax Cousins\", \"ProTeam\": \"LAR\", \"Action\": \"DRAFT\", \"Bid Amount ($)\": 1, \"Stint (wks)\": [1, 2, 3, 4, 5, 6, 7, 8, 9, 10], \"Total points\": 71.4, \"Player-info\": \"Tyler Higbee, TE (LAR)\"}, {\"Player\": \"Zack Moss\", \"Position\": \"RB\", \"Team\": \"Favre's Wranglers\", \"ProTeam\": \"BUF\", \"Action\": \"DRAFT\", \"Bid Amount ($)\": 1, \"Stint (wks)\": [1, 2, 3, 4, 5, 6, 8, 9, 10, 11, 12, 13, 14, 15], \"Total points\": 84.4, \"Player-info\": \"Zack Moss, RB (BUF)\"}]}}, {\"mode\": \"vega-lite\"});\n",
       "</script>"
      ],
      "text/plain": [
       "alt.Chart(...)"
      ]
     },
     "execution_count": 343,
     "metadata": {},
     "output_type": "execute_result"
    }
   ],
   "source": [
    "acquisition_method = 'Draft'\n",
    "\n",
    "position_subset = ['RB','WR','TE']\n",
    "\n",
    "df = df_stints_f_draft[df_stints_f_draft['Position'].isin(position_subset)]\n",
    "\n",
    "chart = generate_acquisitions_scatterplot(df , ' '.join(position_subset) , acquisition_method)\n",
    "chart"
   ]
  },
  {
   "cell_type": "markdown",
   "metadata": {},
   "source": [
    "# Quarterbacks in Draft"
   ]
  },
  {
   "cell_type": "markdown",
   "metadata": {},
   "source": [
    "The old fantasy draft advice of not spending big on QB held true this year as the return on investment on big pricetag QBs like Mahomes was marginal."
   ]
  },
  {
   "cell_type": "code",
   "execution_count": 344,
   "metadata": {},
   "outputs": [
    {
     "data": {
      "text/html": [
       "\n",
       "<div id=\"altair-viz-fa2c2ae6eb854e41a8e2ce7be7b123fb\"></div>\n",
       "<script type=\"text/javascript\">\n",
       "  (function(spec, embedOpt){\n",
       "    let outputDiv = document.currentScript.previousElementSibling;\n",
       "    if (outputDiv.id !== \"altair-viz-fa2c2ae6eb854e41a8e2ce7be7b123fb\") {\n",
       "      outputDiv = document.getElementById(\"altair-viz-fa2c2ae6eb854e41a8e2ce7be7b123fb\");\n",
       "    }\n",
       "    const paths = {\n",
       "      \"vega\": \"https://cdn.jsdelivr.net/npm//vega@5?noext\",\n",
       "      \"vega-lib\": \"https://cdn.jsdelivr.net/npm//vega-lib?noext\",\n",
       "      \"vega-lite\": \"https://cdn.jsdelivr.net/npm//vega-lite@4.8.1?noext\",\n",
       "      \"vega-embed\": \"https://cdn.jsdelivr.net/npm//vega-embed@6?noext\",\n",
       "    };\n",
       "\n",
       "    function loadScript(lib) {\n",
       "      return new Promise(function(resolve, reject) {\n",
       "        var s = document.createElement('script');\n",
       "        s.src = paths[lib];\n",
       "        s.async = true;\n",
       "        s.onload = () => resolve(paths[lib]);\n",
       "        s.onerror = () => reject(`Error loading script: ${paths[lib]}`);\n",
       "        document.getElementsByTagName(\"head\")[0].appendChild(s);\n",
       "      });\n",
       "    }\n",
       "\n",
       "    function showError(err) {\n",
       "      outputDiv.innerHTML = `<div class=\"error\" style=\"color:red;\">${err}</div>`;\n",
       "      throw err;\n",
       "    }\n",
       "\n",
       "    function displayChart(vegaEmbed) {\n",
       "      vegaEmbed(outputDiv, spec, embedOpt)\n",
       "        .catch(err => showError(`Javascript Error: ${err.message}<br>This usually means there's a typo in your chart specification. See the javascript console for the full traceback.`));\n",
       "    }\n",
       "\n",
       "    if(typeof define === \"function\" && define.amd) {\n",
       "      requirejs.config({paths});\n",
       "      require([\"vega-embed\"], displayChart, err => showError(`Error loading script: ${err.message}`));\n",
       "    } else if (typeof vegaEmbed === \"function\") {\n",
       "      displayChart(vegaEmbed);\n",
       "    } else {\n",
       "      loadScript(\"vega\")\n",
       "        .then(() => loadScript(\"vega-lite\"))\n",
       "        .then(() => loadScript(\"vega-embed\"))\n",
       "        .catch(showError)\n",
       "        .then(() => displayChart(vegaEmbed));\n",
       "    }\n",
       "  })({\"config\": {\"view\": {\"continuousWidth\": 400, \"continuousHeight\": 300}, \"axis\": {\"labelFontSize\": 18, \"titleFontSize\": 18}, \"legend\": {\"labelFontSize\": 14, \"titleFontSize\": 14}, \"title\": {\"fontSize\": 20}}, \"data\": {\"name\": \"data-9239c5141f2a5dd76609eb6567f9a493\"}, \"mark\": {\"type\": \"circle\", \"size\": 40}, \"encoding\": {\"color\": {\"condition\": {\"type\": \"nominal\", \"field\": \"Team\", \"selection\": \"selector125\"}, \"value\": \"lightgray\"}, \"opacity\": {\"condition\": {\"value\": 1, \"selection\": \"selector125\"}, \"value\": 0.1}, \"tooltip\": [{\"type\": \"nominal\", \"field\": \"Player-info\"}, {\"type\": \"nominal\", \"field\": \"Team\"}, {\"type\": \"quantitative\", \"field\": \"Bid Amount ($)\"}, {\"type\": \"quantitative\", \"field\": \"Total points\"}, {\"type\": \"nominal\", \"field\": \"Stint (wks)\"}], \"x\": {\"type\": \"quantitative\", \"axis\": {\"grid\": false}, \"field\": \"Bid Amount ($)\"}, \"y\": {\"type\": \"quantitative\", \"axis\": {\"grid\": false}, \"field\": \"Total points\"}}, \"height\": 500, \"selection\": {\"selector125\": {\"type\": \"multi\", \"fields\": [\"Team\"], \"bind\": \"legend\"}}, \"title\": \"QB Draft Spending vs. Total Fantasy Points\", \"width\": 500, \"$schema\": \"https://vega.github.io/schema/vega-lite/v4.8.1.json\", \"datasets\": {\"data-9239c5141f2a5dd76609eb6567f9a493\": [{\"Player\": \"Patrick Mahomes\", \"Position\": \"QB\", \"Team\": \"More than a  Thielen\", \"ProTeam\": \"KC\", \"Action\": \"DRAFT\", \"Bid Amount ($)\": 22, \"Stint (wks)\": [1, 2, 3, 4, 5, 6, 7, 8, 9, 10, 11, 13, 14, 15, 16, 17], \"Total points\": 338.3, \"Player-info\": \"Patrick Mahomes, QB (KC)\"}, {\"Player\": \"Josh Allen\", \"Position\": \"QB\", \"Team\": \"Don't Ekele Me\", \"ProTeam\": \"BUF\", \"Action\": \"DRAFT\", \"Bid Amount ($)\": 13, \"Stint (wks)\": [1, 2, 3, 4, 5, 6, 8, 9, 10, 11, 12, 13, 14, 15, 16, 17], \"Total points\": 377.4, \"Player-info\": \"Josh Allen, QB (BUF)\"}, {\"Player\": \"Lamar Jackson\", \"Position\": \"QB\", \"Team\": \"Ice City USA\", \"ProTeam\": \"BAL\", \"Action\": \"DRAFT\", \"Bid Amount ($)\": 6, \"Stint (wks)\": [1, 2, 3, 4, 5, 6, 7, 9, 10, 11, 12, 13, 14, 15, 16, 17], \"Total points\": 241.1, \"Player-info\": \"Lamar Jackson, QB (BAL)\"}, {\"Player\": \"Aaron Rodgers\", \"Position\": \"QB\", \"Team\": \"Godwin's Memorial\", \"ProTeam\": \"GB\", \"Action\": \"DRAFT\", \"Bid Amount ($)\": 6, \"Stint (wks)\": [1, 2, 3, 4, 5, 6, 7, 8, 9, 10, 11, 12, 14, 15, 16, 17], \"Total points\": 317.3, \"Player-info\": \"Aaron Rodgers, QB (GB)\"}, {\"Player\": \"Russell Wilson\", \"Position\": \"QB\", \"Team\": \"Repeat Donger\", \"ProTeam\": \"SEA\", \"Action\": \"DRAFT\", \"Bid Amount ($)\": 4, \"Stint (wks)\": [1, 2, 3, 4, 5, 6, 7, 8, 10, 11, 12, 13, 14, 15, 16, 17], \"Total points\": 217.8, \"Player-info\": \"Russell Wilson, QB (SEA)\"}, {\"Player\": \"Dak Prescott\", \"Position\": \"QB\", \"Team\": \"Tasteful Dak Piks, by CMC\", \"ProTeam\": \"DAL\", \"Action\": \"DRAFT\", \"Bid Amount ($)\": 3, \"Stint (wks)\": [1, 2, 3, 4, 5, 6, 8, 9, 10, 11, 12, 13, 14, 15, 16, 17], \"Total points\": 291.8, \"Player-info\": \"Dak Prescott, QB (DAL)\"}, {\"Player\": \"Justin Herbert\", \"Position\": \"QB\", \"Team\": \"Frankel's Cankles\", \"ProTeam\": \"LAC\", \"Action\": \"DRAFT\", \"Bid Amount ($)\": 3, \"Stint (wks)\": [1, 2, 3, 4, 5, 6, 8, 9, 10, 11, 12, 13, 14, 15, 16, 17], \"Total points\": 352.3, \"Player-info\": \"Justin Herbert, QB (LAC)\"}, {\"Player\": \"Kyler Murray\", \"Position\": \"QB\", \"Team\": \"Tier 2 never felt so good\", \"ProTeam\": \"ARI\", \"Action\": \"DRAFT\", \"Bid Amount ($)\": 3, \"Stint (wks)\": [1, 2, 3, 4, 5, 6, 7, 8, 9, 10, 11, 13, 14, 15, 16, 17], \"Total points\": 284.1, \"Player-info\": \"Kyler Murray, QB (ARI)\"}, {\"Player\": \"Ryan Tannehill\", \"Position\": \"QB\", \"Team\": \"Your Antivax Cousins\", \"ProTeam\": \"TEN\", \"Action\": \"DRAFT\", \"Bid Amount ($)\": 2, \"Stint (wks)\": [1, 2, 3, 4], \"Total points\": 68.7, \"Player-info\": \"Ryan Tannehill, QB (TEN)\"}, {\"Player\": \"Tom Brady\", \"Position\": \"QB\", \"Team\": \"Fumble .\", \"ProTeam\": \"TB\", \"Action\": \"DRAFT\", \"Bid Amount ($)\": 1, \"Stint (wks)\": [1, 2, 3, 4, 5, 6, 7, 8, 10, 11, 12, 13, 14, 15, 16, 17], \"Total points\": 354.5, \"Player-info\": \"Tom Brady, QB (TB)\"}, {\"Player\": \"Deshaun Watson\", \"Position\": \"QB\", \"Team\": \"Frankel's Cankles\", \"ProTeam\": \"HOU\", \"Action\": \"DRAFT\", \"Bid Amount ($)\": 1, \"Stint (wks)\": [], \"Total points\": 0.0, \"Player-info\": \"Deshaun Watson, QB (HOU)\"}, {\"Player\": \"Jalen Hurts\", \"Position\": \"QB\", \"Team\": \"Dick Cheese\", \"ProTeam\": \"PHI\", \"Action\": \"DRAFT\", \"Bid Amount ($)\": 1, \"Stint (wks)\": [1, 2, 3, 4, 5, 6, 7, 8, 9, 10, 11, 12, 13, 15, 16, 17], \"Total points\": 310.8, \"Player-info\": \"Jalen Hurts, QB (PHI)\"}, {\"Player\": \"Matthew Stafford\", \"Position\": \"QB\", \"Team\": \"Tier 2 never felt so good\", \"ProTeam\": \"LAR\", \"Action\": \"DRAFT\", \"Bid Amount ($)\": 1, \"Stint (wks)\": [1, 2, 3, 4, 5, 6, 7, 8, 9, 10, 12, 13, 14, 15, 16, 17], \"Total points\": 310.9, \"Player-info\": \"Matthew Stafford, QB (LAR)\"}, {\"Player\": \"Joe Burrow\", \"Position\": \"QB\", \"Team\": \"Favre's Wranglers\", \"ProTeam\": \"CIN\", \"Action\": \"DRAFT\", \"Bid Amount ($)\": 1, \"Stint (wks)\": [1, 2, 3, 4, 5, 6, 7, 8, 9, 11, 12, 13, 14, 15, 16, 17], \"Total points\": 319.2, \"Player-info\": \"Joe Burrow, QB (CIN)\"}]}}, {\"mode\": \"vega-lite\"});\n",
       "</script>"
      ],
      "text/plain": [
       "alt.Chart(...)"
      ]
     },
     "execution_count": 344,
     "metadata": {},
     "output_type": "execute_result"
    }
   ],
   "source": [
    "acquisition_method = 'Draft'\n",
    "\n",
    "position_subset = ['QB']\n",
    "\n",
    "df = df_stints_f_draft[df_stints_f_draft['Position'].isin(position_subset)]\n",
    "\n",
    "chart = generate_acquisitions_scatterplot(df , ' '.join(position_subset) , acquisition_method)\n",
    "chart"
   ]
  },
  {
   "cell_type": "markdown",
   "metadata": {},
   "source": [
    "# Tight Ends in Draft"
   ]
  },
  {
   "cell_type": "markdown",
   "metadata": {},
   "source": [
    "Travis Kelce was the consensus number 1 pick at tight end, but Mark Andrews turned out to be the best value and top scorer by end of season. Darren Waller was surprisingly a disappointing pick."
   ]
  },
  {
   "cell_type": "code",
   "execution_count": 345,
   "metadata": {},
   "outputs": [
    {
     "data": {
      "text/html": [
       "\n",
       "<div id=\"altair-viz-9ac284258958459890c8b584c8dbeb12\"></div>\n",
       "<script type=\"text/javascript\">\n",
       "  (function(spec, embedOpt){\n",
       "    let outputDiv = document.currentScript.previousElementSibling;\n",
       "    if (outputDiv.id !== \"altair-viz-9ac284258958459890c8b584c8dbeb12\") {\n",
       "      outputDiv = document.getElementById(\"altair-viz-9ac284258958459890c8b584c8dbeb12\");\n",
       "    }\n",
       "    const paths = {\n",
       "      \"vega\": \"https://cdn.jsdelivr.net/npm//vega@5?noext\",\n",
       "      \"vega-lib\": \"https://cdn.jsdelivr.net/npm//vega-lib?noext\",\n",
       "      \"vega-lite\": \"https://cdn.jsdelivr.net/npm//vega-lite@4.8.1?noext\",\n",
       "      \"vega-embed\": \"https://cdn.jsdelivr.net/npm//vega-embed@6?noext\",\n",
       "    };\n",
       "\n",
       "    function loadScript(lib) {\n",
       "      return new Promise(function(resolve, reject) {\n",
       "        var s = document.createElement('script');\n",
       "        s.src = paths[lib];\n",
       "        s.async = true;\n",
       "        s.onload = () => resolve(paths[lib]);\n",
       "        s.onerror = () => reject(`Error loading script: ${paths[lib]}`);\n",
       "        document.getElementsByTagName(\"head\")[0].appendChild(s);\n",
       "      });\n",
       "    }\n",
       "\n",
       "    function showError(err) {\n",
       "      outputDiv.innerHTML = `<div class=\"error\" style=\"color:red;\">${err}</div>`;\n",
       "      throw err;\n",
       "    }\n",
       "\n",
       "    function displayChart(vegaEmbed) {\n",
       "      vegaEmbed(outputDiv, spec, embedOpt)\n",
       "        .catch(err => showError(`Javascript Error: ${err.message}<br>This usually means there's a typo in your chart specification. See the javascript console for the full traceback.`));\n",
       "    }\n",
       "\n",
       "    if(typeof define === \"function\" && define.amd) {\n",
       "      requirejs.config({paths});\n",
       "      require([\"vega-embed\"], displayChart, err => showError(`Error loading script: ${err.message}`));\n",
       "    } else if (typeof vegaEmbed === \"function\") {\n",
       "      displayChart(vegaEmbed);\n",
       "    } else {\n",
       "      loadScript(\"vega\")\n",
       "        .then(() => loadScript(\"vega-lite\"))\n",
       "        .then(() => loadScript(\"vega-embed\"))\n",
       "        .catch(showError)\n",
       "        .then(() => displayChart(vegaEmbed));\n",
       "    }\n",
       "  })({\"config\": {\"view\": {\"continuousWidth\": 400, \"continuousHeight\": 300}, \"axis\": {\"labelFontSize\": 18, \"titleFontSize\": 18}, \"legend\": {\"labelFontSize\": 14, \"titleFontSize\": 14}, \"title\": {\"fontSize\": 20}}, \"data\": {\"name\": \"data-4c6e414186c16f7e45b5561cb3bcd46d\"}, \"mark\": {\"type\": \"circle\", \"size\": 40}, \"encoding\": {\"color\": {\"condition\": {\"type\": \"nominal\", \"field\": \"Team\", \"selection\": \"selector126\"}, \"value\": \"lightgray\"}, \"opacity\": {\"condition\": {\"value\": 1, \"selection\": \"selector126\"}, \"value\": 0.1}, \"tooltip\": [{\"type\": \"nominal\", \"field\": \"Player-info\"}, {\"type\": \"nominal\", \"field\": \"Team\"}, {\"type\": \"quantitative\", \"field\": \"Bid Amount ($)\"}, {\"type\": \"quantitative\", \"field\": \"Total points\"}, {\"type\": \"nominal\", \"field\": \"Stint (wks)\"}], \"x\": {\"type\": \"quantitative\", \"axis\": {\"grid\": false}, \"field\": \"Bid Amount ($)\"}, \"y\": {\"type\": \"quantitative\", \"axis\": {\"grid\": false}, \"field\": \"Total points\"}}, \"height\": 500, \"selection\": {\"selector126\": {\"type\": \"multi\", \"fields\": [\"Team\"], \"bind\": \"legend\"}}, \"title\": \"TE Draft Spending vs. Total Fantasy Points\", \"width\": 500, \"$schema\": \"https://vega.github.io/schema/vega-lite/v4.8.1.json\", \"datasets\": {\"data-4c6e414186c16f7e45b5561cb3bcd46d\": [{\"Player\": \"Travis Kelce\", \"Position\": \"TE\", \"Team\": \"Favre's Wranglers\", \"ProTeam\": \"KC\", \"Action\": \"DRAFT\", \"Bid Amount ($)\": 67, \"Stint (wks)\": [1, 2, 3, 4, 5, 6, 7, 8, 9, 10, 11, 13, 14, 15, 16, 17], \"Total points\": 205.4, \"Player-info\": \"Travis Kelce, TE (KC)\"}, {\"Player\": \"Darren Waller\", \"Position\": \"TE\", \"Team\": \"More than a  Thielen\", \"ProTeam\": \"OAK\", \"Action\": \"DRAFT\", \"Bid Amount ($)\": 35, \"Stint (wks)\": [1, 2, 3, 4, 5, 6, 7, 9, 10, 11, 12, 13, 14, 15, 16, 17], \"Total points\": 102.8, \"Player-info\": \"Darren Waller, TE (OAK)\"}, {\"Player\": \"George Kittle\", \"Position\": \"TE\", \"Team\": \"Don't Ekele Me\", \"ProTeam\": \"SF\", \"Action\": \"DRAFT\", \"Bid Amount ($)\": 32, \"Stint (wks)\": [1, 2, 3, 4, 5, 7, 8, 9, 10, 11, 12, 13, 14, 15, 16, 17], \"Total points\": 159.0, \"Player-info\": \"George Kittle, TE (SF)\"}, {\"Player\": \"Mark Andrews\", \"Position\": \"TE\", \"Team\": \"Ice City USA\", \"ProTeam\": \"BAL\", \"Action\": \"DRAFT\", \"Bid Amount ($)\": 16, \"Stint (wks)\": [1, 2, 3, 4, 5, 6, 7, 9, 10, 11, 12, 13, 14, 15, 16, 17], \"Total points\": 235.1, \"Player-info\": \"Mark Andrews, TE (BAL)\"}, {\"Player\": \"Logan Thomas\", \"Position\": \"TE\", \"Team\": \"Godwin's Memorial\", \"ProTeam\": \"WSH\", \"Action\": \"DRAFT\", \"Bid Amount ($)\": 9, \"Stint (wks)\": [1, 2, 3, 4, 5], \"Total points\": 27.7, \"Player-info\": \"Logan Thomas, TE (WSH)\"}, {\"Player\": \"T.J. Hockenson\", \"Position\": \"TE\", \"Team\": \"Frankel's Cankles\", \"ProTeam\": \"DET\", \"Action\": \"DRAFT\", \"Bid Amount ($)\": 7, \"Stint (wks)\": [1, 2, 3, 4, 5, 6, 7, 8, 10, 11, 12, 13, 14, 15, 16, 17], \"Total points\": 114.8, \"Player-info\": \"T.J. Hockenson, TE (DET)\"}, {\"Player\": \"Kyle Pitts\", \"Position\": \"TE\", \"Team\": \"Godwin's Memorial\", \"ProTeam\": \"ATL\", \"Action\": \"DRAFT\", \"Bid Amount ($)\": 5, \"Stint (wks)\": [1, 2, 3, 4, 5, 7, 8, 9, 10, 11, 12, 13, 14, 15, 16, 17], \"Total points\": 140.8, \"Player-info\": \"Kyle Pitts, TE (ATL)\"}, {\"Player\": \"Noah Fant\", \"Position\": \"TE\", \"Team\": \"Repeat Donger\", \"ProTeam\": \"DEN\", \"Action\": \"DRAFT\", \"Bid Amount ($)\": 5, \"Stint (wks)\": [1, 2, 3, 4, 5, 6, 7, 8], \"Total points\": 68.5, \"Player-info\": \"Noah Fant, TE (DEN)\"}, {\"Player\": \"Dallas Goedert\", \"Position\": \"TE\", \"Team\": \"Dick Cheese\", \"ProTeam\": \"PHI\", \"Action\": \"DRAFT\", \"Bid Amount ($)\": 1, \"Stint (wks)\": [1, 2, 3, 4, 5, 6, 7, 8, 9, 10, 11, 12, 13, 15, 16, 17], \"Total points\": 137.0, \"Player-info\": \"Dallas Goedert, TE (PHI)\"}, {\"Player\": \"Mike Gesicki\", \"Position\": \"TE\", \"Team\": \"Fumble .\", \"ProTeam\": \"MIA\", \"Action\": \"DRAFT\", \"Bid Amount ($)\": 1, \"Stint (wks)\": [1], \"Total points\": 0.0, \"Player-info\": \"Mike Gesicki, TE (MIA)\"}, {\"Player\": \"Robert Tonyan\", \"Position\": \"TE\", \"Team\": \"Tier 2 never felt so good\", \"ProTeam\": \"GB\", \"Action\": \"DRAFT\", \"Bid Amount ($)\": 1, \"Stint (wks)\": [1, 2, 3, 4, 5, 6, 7, 8, 9, 10, 11], \"Total points\": 41.4, \"Player-info\": \"Robert Tonyan, TE (GB)\"}, {\"Player\": \"Jonnu Smith\", \"Position\": \"TE\", \"Team\": \"Tasteful Dak Piks, by CMC\", \"ProTeam\": \"NE\", \"Action\": \"DRAFT\", \"Bid Amount ($)\": 1, \"Stint (wks)\": [1, 2, 3], \"Total points\": 13.0, \"Player-info\": \"Jonnu Smith, TE (NE)\"}, {\"Player\": \"Tyler Higbee\", \"Position\": \"TE\", \"Team\": \"Your Antivax Cousins\", \"ProTeam\": \"LAR\", \"Action\": \"DRAFT\", \"Bid Amount ($)\": 1, \"Stint (wks)\": [1, 2, 3, 4, 5, 6, 7, 8, 9, 10], \"Total points\": 71.4, \"Player-info\": \"Tyler Higbee, TE (LAR)\"}]}}, {\"mode\": \"vega-lite\"});\n",
       "</script>"
      ],
      "text/plain": [
       "alt.Chart(...)"
      ]
     },
     "execution_count": 345,
     "metadata": {},
     "output_type": "execute_result"
    }
   ],
   "source": [
    "acquisition_method = 'Draft'\n",
    "\n",
    "position_subset = ['TE']\n",
    "\n",
    "df = df_stints_f_draft[df_stints_f_draft['Position'].isin(position_subset)]\n",
    "\n",
    "chart = generate_acquisitions_scatterplot(df , ' '.join(position_subset) , acquisition_method)\n",
    "chart"
   ]
  },
  {
   "cell_type": "code",
   "execution_count": 275,
   "metadata": {},
   "outputs": [
    {
     "data": {
      "text/html": [
       "\n",
       "<div id=\"altair-viz-5ac4931a8cc14ce297649dbb3e14aa8b\"></div>\n",
       "<script type=\"text/javascript\">\n",
       "  (function(spec, embedOpt){\n",
       "    let outputDiv = document.currentScript.previousElementSibling;\n",
       "    if (outputDiv.id !== \"altair-viz-5ac4931a8cc14ce297649dbb3e14aa8b\") {\n",
       "      outputDiv = document.getElementById(\"altair-viz-5ac4931a8cc14ce297649dbb3e14aa8b\");\n",
       "    }\n",
       "    const paths = {\n",
       "      \"vega\": \"https://cdn.jsdelivr.net/npm//vega@5?noext\",\n",
       "      \"vega-lib\": \"https://cdn.jsdelivr.net/npm//vega-lib?noext\",\n",
       "      \"vega-lite\": \"https://cdn.jsdelivr.net/npm//vega-lite@4.8.1?noext\",\n",
       "      \"vega-embed\": \"https://cdn.jsdelivr.net/npm//vega-embed@6?noext\",\n",
       "    };\n",
       "\n",
       "    function loadScript(lib) {\n",
       "      return new Promise(function(resolve, reject) {\n",
       "        var s = document.createElement('script');\n",
       "        s.src = paths[lib];\n",
       "        s.async = true;\n",
       "        s.onload = () => resolve(paths[lib]);\n",
       "        s.onerror = () => reject(`Error loading script: ${paths[lib]}`);\n",
       "        document.getElementsByTagName(\"head\")[0].appendChild(s);\n",
       "      });\n",
       "    }\n",
       "\n",
       "    function showError(err) {\n",
       "      outputDiv.innerHTML = `<div class=\"error\" style=\"color:red;\">${err}</div>`;\n",
       "      throw err;\n",
       "    }\n",
       "\n",
       "    function displayChart(vegaEmbed) {\n",
       "      vegaEmbed(outputDiv, spec, embedOpt)\n",
       "        .catch(err => showError(`Javascript Error: ${err.message}<br>This usually means there's a typo in your chart specification. See the javascript console for the full traceback.`));\n",
       "    }\n",
       "\n",
       "    if(typeof define === \"function\" && define.amd) {\n",
       "      requirejs.config({paths});\n",
       "      require([\"vega-embed\"], displayChart, err => showError(`Error loading script: ${err.message}`));\n",
       "    } else if (typeof vegaEmbed === \"function\") {\n",
       "      displayChart(vegaEmbed);\n",
       "    } else {\n",
       "      loadScript(\"vega\")\n",
       "        .then(() => loadScript(\"vega-lite\"))\n",
       "        .then(() => loadScript(\"vega-embed\"))\n",
       "        .catch(showError)\n",
       "        .then(() => displayChart(vegaEmbed));\n",
       "    }\n",
       "  })({\"config\": {\"view\": {\"continuousWidth\": 400, \"continuousHeight\": 300}}, \"data\": {\"name\": \"data-4c6e414186c16f7e45b5561cb3bcd46d\"}, \"mark\": {\"type\": \"circle\", \"size\": 40}, \"encoding\": {\"color\": {\"condition\": {\"type\": \"nominal\", \"field\": \"Team\", \"selection\": \"selector060\"}, \"value\": \"lightgray\"}, \"opacity\": {\"condition\": {\"value\": 1, \"selection\": \"selector060\"}, \"value\": 0.2}, \"tooltip\": [{\"type\": \"nominal\", \"field\": \"Player-info\"}, {\"type\": \"quantitative\", \"field\": \"Bid Amount ($)\"}, {\"type\": \"quantitative\", \"field\": \"Total points\"}, {\"type\": \"nominal\", \"field\": \"Stint (wks)\"}], \"x\": {\"type\": \"quantitative\", \"field\": \"Bid Amount ($)\"}, \"y\": {\"type\": \"quantitative\", \"field\": \"Total points\"}}, \"selection\": {\"selector060\": {\"type\": \"multi\", \"fields\": [\"Team\"], \"bind\": \"legend\"}, \"selector061\": {\"type\": \"interval\", \"bind\": \"scales\", \"encodings\": [\"x\", \"y\"]}}, \"$schema\": \"https://vega.github.io/schema/vega-lite/v4.8.1.json\", \"datasets\": {\"data-4c6e414186c16f7e45b5561cb3bcd46d\": [{\"Player\": \"Travis Kelce\", \"Position\": \"TE\", \"Team\": \"Favre's Wranglers\", \"ProTeam\": \"KC\", \"Action\": \"DRAFT\", \"Bid Amount ($)\": 67, \"Stint (wks)\": [1, 2, 3, 4, 5, 6, 7, 8, 9, 10, 11, 13, 14, 15, 16, 17], \"Total points\": 205.4, \"Player-info\": \"Travis Kelce, TE (KC)\"}, {\"Player\": \"Darren Waller\", \"Position\": \"TE\", \"Team\": \"More than a  Thielen\", \"ProTeam\": \"OAK\", \"Action\": \"DRAFT\", \"Bid Amount ($)\": 35, \"Stint (wks)\": [1, 2, 3, 4, 5, 6, 7, 9, 10, 11, 12, 13, 14, 15, 16, 17], \"Total points\": 102.8, \"Player-info\": \"Darren Waller, TE (OAK)\"}, {\"Player\": \"George Kittle\", \"Position\": \"TE\", \"Team\": \"Don't Ekele Me\", \"ProTeam\": \"SF\", \"Action\": \"DRAFT\", \"Bid Amount ($)\": 32, \"Stint (wks)\": [1, 2, 3, 4, 5, 7, 8, 9, 10, 11, 12, 13, 14, 15, 16, 17], \"Total points\": 159.0, \"Player-info\": \"George Kittle, TE (SF)\"}, {\"Player\": \"Mark Andrews\", \"Position\": \"TE\", \"Team\": \"Ice City USA\", \"ProTeam\": \"BAL\", \"Action\": \"DRAFT\", \"Bid Amount ($)\": 16, \"Stint (wks)\": [1, 2, 3, 4, 5, 6, 7, 9, 10, 11, 12, 13, 14, 15, 16, 17], \"Total points\": 235.1, \"Player-info\": \"Mark Andrews, TE (BAL)\"}, {\"Player\": \"Logan Thomas\", \"Position\": \"TE\", \"Team\": \"Godwin's Memorial\", \"ProTeam\": \"WSH\", \"Action\": \"DRAFT\", \"Bid Amount ($)\": 9, \"Stint (wks)\": [1, 2, 3, 4, 5], \"Total points\": 27.7, \"Player-info\": \"Logan Thomas, TE (WSH)\"}, {\"Player\": \"T.J. Hockenson\", \"Position\": \"TE\", \"Team\": \"Frankel's Cankles\", \"ProTeam\": \"DET\", \"Action\": \"DRAFT\", \"Bid Amount ($)\": 7, \"Stint (wks)\": [1, 2, 3, 4, 5, 6, 7, 8, 10, 11, 12, 13, 14, 15, 16, 17], \"Total points\": 114.8, \"Player-info\": \"T.J. Hockenson, TE (DET)\"}, {\"Player\": \"Kyle Pitts\", \"Position\": \"TE\", \"Team\": \"Godwin's Memorial\", \"ProTeam\": \"ATL\", \"Action\": \"DRAFT\", \"Bid Amount ($)\": 5, \"Stint (wks)\": [1, 2, 3, 4, 5, 7, 8, 9, 10, 11, 12, 13, 14, 15, 16, 17], \"Total points\": 140.8, \"Player-info\": \"Kyle Pitts, TE (ATL)\"}, {\"Player\": \"Noah Fant\", \"Position\": \"TE\", \"Team\": \"Repeat Donger\", \"ProTeam\": \"DEN\", \"Action\": \"DRAFT\", \"Bid Amount ($)\": 5, \"Stint (wks)\": [1, 2, 3, 4, 5, 6, 7, 8], \"Total points\": 68.5, \"Player-info\": \"Noah Fant, TE (DEN)\"}, {\"Player\": \"Dallas Goedert\", \"Position\": \"TE\", \"Team\": \"Dick Cheese\", \"ProTeam\": \"PHI\", \"Action\": \"DRAFT\", \"Bid Amount ($)\": 1, \"Stint (wks)\": [1, 2, 3, 4, 5, 6, 7, 8, 9, 10, 11, 12, 13, 15, 16, 17], \"Total points\": 137.0, \"Player-info\": \"Dallas Goedert, TE (PHI)\"}, {\"Player\": \"Mike Gesicki\", \"Position\": \"TE\", \"Team\": \"Fumble .\", \"ProTeam\": \"MIA\", \"Action\": \"DRAFT\", \"Bid Amount ($)\": 1, \"Stint (wks)\": [1], \"Total points\": 0.0, \"Player-info\": \"Mike Gesicki, TE (MIA)\"}, {\"Player\": \"Robert Tonyan\", \"Position\": \"TE\", \"Team\": \"Tier 2 never felt so good\", \"ProTeam\": \"GB\", \"Action\": \"DRAFT\", \"Bid Amount ($)\": 1, \"Stint (wks)\": [1, 2, 3, 4, 5, 6, 7, 8, 9, 10, 11], \"Total points\": 41.4, \"Player-info\": \"Robert Tonyan, TE (GB)\"}, {\"Player\": \"Jonnu Smith\", \"Position\": \"TE\", \"Team\": \"Tasteful Dak Piks, by CMC\", \"ProTeam\": \"NE\", \"Action\": \"DRAFT\", \"Bid Amount ($)\": 1, \"Stint (wks)\": [1, 2, 3], \"Total points\": 13.0, \"Player-info\": \"Jonnu Smith, TE (NE)\"}, {\"Player\": \"Tyler Higbee\", \"Position\": \"TE\", \"Team\": \"Your Antivax Cousins\", \"ProTeam\": \"LAR\", \"Action\": \"DRAFT\", \"Bid Amount ($)\": 1, \"Stint (wks)\": [1, 2, 3, 4, 5, 6, 7, 8, 9, 10], \"Total points\": 71.4, \"Player-info\": \"Tyler Higbee, TE (LAR)\"}]}}, {\"mode\": \"vega-lite\"});\n",
       "</script>"
      ],
      "text/plain": [
       "alt.Chart(...)"
      ]
     },
     "execution_count": 275,
     "metadata": {},
     "output_type": "execute_result"
    }
   ],
   "source": [
    "\n",
    "plot_title = position_subset + ' ' + acquisition_method + ' Spending vs. Total Fantasy Points'\n",
    "\n",
    "selection = alt.selection_multi(fields=['Team'], bind = 'legend')\n",
    "color=alt.condition(selection, 'Team', alt.value('lightgray'))\n",
    "\n",
    "chart = alt.Chart(df).mark_circle(size=40).encode(\n",
    "    alt.X('Bid Amount ($)'),\n",
    "    alt.Y('Total points'),\n",
    "    color=color,\n",
    "    opacity=alt.condition(selection, alt.value(1), alt.value(0.2)),\n",
    "    tooltip=['Player-info','Bid Amount ($)','Total points','Stint (wks)']\n",
    "    ).add_selection(selection).interactive()\n",
    "\n",
    "chart.properties(title = plot_title)\n",
    "\n",
    "# chart"
   ]
  },
  {
   "cell_type": "code",
   "execution_count": 301,
   "metadata": {},
   "outputs": [
    {
     "data": {
      "text/html": [
       "\n",
       "<div id=\"altair-viz-d7f00ba7958d46cdb6708a7c56b5dc29\"></div>\n",
       "<script type=\"text/javascript\">\n",
       "  (function(spec, embedOpt){\n",
       "    let outputDiv = document.currentScript.previousElementSibling;\n",
       "    if (outputDiv.id !== \"altair-viz-d7f00ba7958d46cdb6708a7c56b5dc29\") {\n",
       "      outputDiv = document.getElementById(\"altair-viz-d7f00ba7958d46cdb6708a7c56b5dc29\");\n",
       "    }\n",
       "    const paths = {\n",
       "      \"vega\": \"https://cdn.jsdelivr.net/npm//vega@5?noext\",\n",
       "      \"vega-lib\": \"https://cdn.jsdelivr.net/npm//vega-lib?noext\",\n",
       "      \"vega-lite\": \"https://cdn.jsdelivr.net/npm//vega-lite@4.8.1?noext\",\n",
       "      \"vega-embed\": \"https://cdn.jsdelivr.net/npm//vega-embed@6?noext\",\n",
       "    };\n",
       "\n",
       "    function loadScript(lib) {\n",
       "      return new Promise(function(resolve, reject) {\n",
       "        var s = document.createElement('script');\n",
       "        s.src = paths[lib];\n",
       "        s.async = true;\n",
       "        s.onload = () => resolve(paths[lib]);\n",
       "        s.onerror = () => reject(`Error loading script: ${paths[lib]}`);\n",
       "        document.getElementsByTagName(\"head\")[0].appendChild(s);\n",
       "      });\n",
       "    }\n",
       "\n",
       "    function showError(err) {\n",
       "      outputDiv.innerHTML = `<div class=\"error\" style=\"color:red;\">${err}</div>`;\n",
       "      throw err;\n",
       "    }\n",
       "\n",
       "    function displayChart(vegaEmbed) {\n",
       "      vegaEmbed(outputDiv, spec, embedOpt)\n",
       "        .catch(err => showError(`Javascript Error: ${err.message}<br>This usually means there's a typo in your chart specification. See the javascript console for the full traceback.`));\n",
       "    }\n",
       "\n",
       "    if(typeof define === \"function\" && define.amd) {\n",
       "      requirejs.config({paths});\n",
       "      require([\"vega-embed\"], displayChart, err => showError(`Error loading script: ${err.message}`));\n",
       "    } else if (typeof vegaEmbed === \"function\") {\n",
       "      displayChart(vegaEmbed);\n",
       "    } else {\n",
       "      loadScript(\"vega\")\n",
       "        .then(() => loadScript(\"vega-lite\"))\n",
       "        .then(() => loadScript(\"vega-embed\"))\n",
       "        .catch(showError)\n",
       "        .then(() => displayChart(vegaEmbed));\n",
       "    }\n",
       "  })({\"config\": {\"view\": {\"continuousWidth\": 400, \"continuousHeight\": 300}, \"axis\": {\"labelFontSize\": 20, \"titleFontSize\": 20}}, \"data\": {\"name\": \"data-2ff2677f56f5257d6b69632665c92772\"}, \"mark\": {\"type\": \"circle\", \"size\": 40}, \"encoding\": {\"color\": {\"condition\": {\"type\": \"nominal\", \"field\": \"Team\", \"selection\": \"selector095\"}, \"value\": \"lightgray\"}, \"opacity\": {\"condition\": {\"value\": 1, \"selection\": \"selector095\"}, \"value\": 0.1}, \"tooltip\": [{\"type\": \"nominal\", \"field\": \"Player-info\"}, {\"type\": \"quantitative\", \"field\": \"Bid Amount ($)\"}, {\"type\": \"quantitative\", \"field\": \"Total points\"}, {\"type\": \"nominal\", \"field\": \"Stint (wks)\"}], \"x\": {\"type\": \"quantitative\", \"axis\": {\"grid\": false}, \"field\": \"Bid Amount ($)\"}, \"y\": {\"type\": \"quantitative\", \"axis\": {\"grid\": false}, \"field\": \"Total points\"}}, \"height\": 550, \"selection\": {\"selector095\": {\"type\": \"multi\", \"fields\": [\"Team\"], \"bind\": \"legend\"}, \"selector096\": {\"type\": \"interval\", \"bind\": \"scales\", \"encodings\": [\"x\", \"y\"]}}, \"width\": 550, \"$schema\": \"https://vega.github.io/schema/vega-lite/v4.8.1.json\", \"datasets\": {\"data-2ff2677f56f5257d6b69632665c92772\": [{\"Player\": \"Derrick Henry\", \"Position\": \"RB\", \"Team\": \"Ice City USA\", \"ProTeam\": \"TEN\", \"Action\": \"DRAFT\", \"Bid Amount ($)\": 84, \"Stint (wks)\": [1, 2, 3, 4, 5, 6, 7, 8], \"Total points\": 184.3, \"Player-info\": \"Derrick Henry, RB (TEN)\"}, {\"Player\": \"Christian McCaffrey\", \"Position\": \"RB\", \"Team\": \"Tasteful Dak Piks, by CMC\", \"ProTeam\": \"CAR\", \"Action\": \"DRAFT\", \"Bid Amount ($)\": 83, \"Stint (wks)\": [1, 2, 3, 4, 5, 6, 7, 8, 9, 10, 11, 12], \"Total points\": 109.0, \"Player-info\": \"Christian McCaffrey, RB (CAR)\"}, {\"Player\": \"Dalvin Cook\", \"Position\": \"RB\", \"Team\": \"Dick Cheese\", \"ProTeam\": \"MIN\", \"Action\": \"DRAFT\", \"Bid Amount ($)\": 70, \"Stint (wks)\": [1, 2, 3, 4, 5, 6, 8, 9, 10, 11, 12, 13, 14, 15, 16, 17], \"Total points\": 184.6, \"Player-info\": \"Dalvin Cook, RB (MIN)\"}, {\"Player\": \"Ezekiel Elliott\", \"Position\": \"RB\", \"Team\": \"Repeat Donger\", \"ProTeam\": \"DAL\", \"Action\": \"DRAFT\", \"Bid Amount ($)\": 70, \"Stint (wks)\": [1, 2, 3, 4, 5, 6, 8, 9, 10, 11, 12, 13, 14, 15, 16, 17], \"Total points\": 218.9, \"Player-info\": \"Ezekiel Elliott, RB (DAL)\"}, {\"Player\": \"Alvin Kamara\", \"Position\": \"RB\", \"Team\": \"More than a  Thielen\", \"ProTeam\": \"NO\", \"Action\": \"DRAFT\", \"Bid Amount ($)\": 68, \"Stint (wks)\": [1, 2, 3, 4, 5, 7, 8, 9, 10, 11, 12, 13, 14, 15, 16, 17], \"Total points\": 194.0, \"Player-info\": \"Alvin Kamara, RB (NO)\"}, {\"Player\": \"Travis Kelce\", \"Position\": \"TE\", \"Team\": \"Favre's Wranglers\", \"ProTeam\": \"KC\", \"Action\": \"DRAFT\", \"Bid Amount ($)\": 67, \"Stint (wks)\": [1, 2, 3, 4, 5, 6, 7, 8, 9, 10, 11, 13, 14, 15, 16, 17], \"Total points\": 205.4, \"Player-info\": \"Travis Kelce, TE (KC)\"}, {\"Player\": \"Davante Adams\", \"Position\": \"WR\", \"Team\": \"Tasteful Dak Piks, by CMC\", \"ProTeam\": \"GB\", \"Action\": \"DRAFT\", \"Bid Amount ($)\": 63, \"Stint (wks)\": [1, 2, 3, 4, 5, 6, 7, 8, 9, 10, 11, 12, 14, 15, 16, 17], \"Total points\": 278.3, \"Player-info\": \"Davante Adams, WR (GB)\"}, {\"Player\": \"Saquon Barkley\", \"Position\": \"RB\", \"Team\": \"Favre's Wranglers\", \"ProTeam\": \"NYG\", \"Action\": \"DRAFT\", \"Bid Amount ($)\": 63, \"Stint (wks)\": [1, 2, 3, 4, 5, 6, 7, 8, 9, 11, 12, 13, 14, 15, 16, 17], \"Total points\": 121.7, \"Player-info\": \"Saquon Barkley, RB (NYG)\"}, {\"Player\": \"Nick Chubb\", \"Position\": \"RB\", \"Team\": \"Your Antivax Cousins\", \"ProTeam\": \"CLE\", \"Action\": \"DRAFT\", \"Bid Amount ($)\": 61, \"Stint (wks)\": [1, 2, 3, 4, 5, 6, 7, 8, 9, 10, 11, 12, 14, 15, 16], \"Total points\": 193.0, \"Player-info\": \"Nick Chubb, RB (CLE)\"}, {\"Player\": \"Jonathan Taylor\", \"Position\": \"RB\", \"Team\": \"Godwin's Memorial\", \"ProTeam\": \"IND\", \"Action\": \"DRAFT\", \"Bid Amount ($)\": 58, \"Stint (wks)\": [1, 2, 3, 4, 5, 6, 7, 8, 9, 10, 11, 12, 13, 15, 16, 17], \"Total points\": 342.1, \"Player-info\": \"Jonathan Taylor, RB (IND)\"}, {\"Player\": \"Tyreek Hill\", \"Position\": \"WR\", \"Team\": \"Fumble .\", \"ProTeam\": \"KC\", \"Action\": \"DRAFT\", \"Bid Amount ($)\": 57, \"Stint (wks)\": [1, 2, 3, 4, 5, 6, 7, 8, 9, 10, 11, 13, 14, 15, 16, 17], \"Total points\": 240.3, \"Player-info\": \"Tyreek Hill, WR (KC)\"}, {\"Player\": \"Stefon Diggs\", \"Position\": \"WR\", \"Team\": \"Repeat Donger\", \"ProTeam\": \"BUF\", \"Action\": \"DRAFT\", \"Bid Amount ($)\": 57, \"Stint (wks)\": [1, 2, 3, 4, 5, 6, 8, 9, 10, 11, 12, 13, 14, 15, 16, 17], \"Total points\": 215.4, \"Player-info\": \"Stefon Diggs, WR (BUF)\"}, {\"Player\": \"Aaron Jones\", \"Position\": \"RB\", \"Team\": \"Frankel's Cankles\", \"ProTeam\": \"GB\", \"Action\": \"DRAFT\", \"Bid Amount ($)\": 56, \"Stint (wks)\": [1, 2, 3, 4, 5, 6, 7, 8, 9, 10, 11, 12, 14, 15, 16, 17], \"Total points\": 203.0, \"Player-info\": \"Aaron Jones, RB (GB)\"}, {\"Player\": \"Austin Ekeler\", \"Position\": \"RB\", \"Team\": \"Don't Ekele Me\", \"ProTeam\": \"LAC\", \"Action\": \"DRAFT\", \"Bid Amount ($)\": 54, \"Stint (wks)\": [1, 2, 3, 4, 5, 6, 8, 9, 10, 11, 12, 13, 14, 15, 16, 17], \"Total points\": 282.4, \"Player-info\": \"Austin Ekeler, RB (LAC)\"}, {\"Player\": \"Najee Harris\", \"Position\": \"RB\", \"Team\": \"Tier 2 never felt so good\", \"ProTeam\": \"PIT\", \"Action\": \"DRAFT\", \"Bid Amount ($)\": 51, \"Stint (wks)\": [1, 2, 3, 4, 5, 6, 8, 9, 10, 11, 12, 13, 14, 15, 16], \"Total points\": 228.1, \"Player-info\": \"Najee Harris, RB (PIT)\"}, {\"Player\": \"Antonio Gibson\", \"Position\": \"RB\", \"Team\": \"Your Antivax Cousins\", \"ProTeam\": \"WSH\", \"Action\": \"DRAFT\", \"Bid Amount ($)\": 49, \"Stint (wks)\": [1, 2, 3, 4, 5, 6, 7, 8, 10, 11, 12, 13, 14, 15, 16, 17], \"Total points\": 186.5, \"Player-info\": \"Antonio Gibson, RB (WSH)\"}, {\"Player\": \"DeAndre Hopkins\", \"Position\": \"WR\", \"Team\": \"Tier 2 never felt so good\", \"ProTeam\": \"ARI\", \"Action\": \"DRAFT\", \"Bid Amount ($)\": 45, \"Stint (wks)\": [1, 2, 3, 4, 5, 6, 7, 8, 9, 10, 11, 13, 14, 15, 16, 17], \"Total points\": 126.2, \"Player-info\": \"DeAndre Hopkins, WR (ARI)\"}, {\"Player\": \"Calvin Ridley\", \"Position\": \"WR\", \"Team\": \"Your Antivax Cousins\", \"ProTeam\": \"ATL\", \"Action\": \"DRAFT\", \"Bid Amount ($)\": 43, \"Stint (wks)\": [1, 2, 3, 4, 5, 7, 8, 9, 10, 11, 12, 13], \"Total points\": 55.6, \"Player-info\": \"Calvin Ridley, WR (ATL)\"}, {\"Player\": \"DK Metcalf\", \"Position\": \"WR\", \"Team\": \"Ice City USA\", \"ProTeam\": \"SEA\", \"Action\": \"DRAFT\", \"Bid Amount ($)\": 42, \"Stint (wks)\": [1, 2, 3, 4, 5, 6, 7, 8, 10, 11, 12, 13, 14, 15, 16, 17], \"Total points\": 198.5, \"Player-info\": \"DK Metcalf, WR (SEA)\"}, {\"Player\": \"Justin Jefferson\", \"Position\": \"WR\", \"Team\": \"Tasteful Dak Piks, by CMC\", \"ProTeam\": \"MIN\", \"Action\": \"DRAFT\", \"Bid Amount ($)\": 42, \"Stint (wks)\": [1, 2, 3, 4, 5, 6, 8, 9, 10, 11, 12, 13, 14, 15, 16, 17], \"Total points\": 256.6, \"Player-info\": \"Justin Jefferson, WR (MIN)\"}, {\"Player\": \"Joe Mixon\", \"Position\": \"RB\", \"Team\": \"Tier 2 never felt so good\", \"ProTeam\": \"CIN\", \"Action\": \"DRAFT\", \"Bid Amount ($)\": 40, \"Stint (wks)\": [1, 2, 3, 4, 5, 6, 7, 8, 9, 11, 12, 13, 14, 15, 16, 17], \"Total points\": 266.9, \"Player-info\": \"Joe Mixon, RB (CIN)\"}, {\"Player\": \"A.J. Brown\", \"Position\": \"WR\", \"Team\": \"Godwin's Memorial\", \"ProTeam\": \"TEN\", \"Action\": \"DRAFT\", \"Bid Amount ($)\": 38, \"Stint (wks)\": [1, 2, 3, 4, 5, 6, 7, 8, 9, 10, 11, 12, 14, 15, 16, 17], \"Total points\": 134.6, \"Player-info\": \"A.J. Brown, WR (TEN)\"}, {\"Player\": \"Keenan Allen\", \"Position\": \"WR\", \"Team\": \"Dick Cheese\", \"ProTeam\": \"LAC\", \"Action\": \"DRAFT\", \"Bid Amount ($)\": 37, \"Stint (wks)\": [1, 2, 3, 4, 5, 6, 8, 9, 10, 11, 12, 13, 14, 15, 16, 17], \"Total points\": 196.6, \"Player-info\": \"Keenan Allen, WR (LAC)\"}, {\"Player\": \"Terry McLaurin\", \"Position\": \"WR\", \"Team\": \"Fumble .\", \"ProTeam\": \"WSH\", \"Action\": \"DRAFT\", \"Bid Amount ($)\": 36, \"Stint (wks)\": [1, 2, 3, 4, 5, 6, 7, 8, 10, 11, 12, 13, 14, 15, 16, 17], \"Total points\": 163.7, \"Player-info\": \"Terry McLaurin, WR (WSH)\"}, {\"Player\": \"Clyde Edwards-Helaire\", \"Position\": \"RB\", \"Team\": \"Dick Cheese\", \"ProTeam\": \"KC\", \"Action\": \"DRAFT\", \"Bid Amount ($)\": 36, \"Stint (wks)\": [1], \"Total points\": 8.7, \"Player-info\": \"Clyde Edwards-Helaire, RB (KC)\"}, {\"Player\": \"Darren Waller\", \"Position\": \"TE\", \"Team\": \"More than a  Thielen\", \"ProTeam\": \"OAK\", \"Action\": \"DRAFT\", \"Bid Amount ($)\": 35, \"Stint (wks)\": [1, 2, 3, 4, 5, 6, 7, 9, 10, 11, 12, 13, 14, 15, 16, 17], \"Total points\": 102.8, \"Player-info\": \"Darren Waller, TE (OAK)\"}, {\"Player\": \"Robert Woods\", \"Position\": \"WR\", \"Team\": \"More than a  Thielen\", \"ProTeam\": \"LAR\", \"Action\": \"DRAFT\", \"Bid Amount ($)\": 33, \"Stint (wks)\": [1, 2, 3, 4, 5, 6, 7, 8, 9, 10], \"Total points\": 114.7, \"Player-info\": \"Robert Woods, WR (LAR)\"}, {\"Player\": \"James Robinson\", \"Position\": \"RB\", \"Team\": \"Dick Cheese\", \"ProTeam\": \"JAX\", \"Action\": \"DRAFT\", \"Bid Amount ($)\": 33, \"Stint (wks)\": [1, 2, 3, 4, 5, 6, 8, 9, 10, 11, 12, 13, 14, 15, 16, 17], \"Total points\": 158.4, \"Player-info\": \"James Robinson, RB (JAX)\"}, {\"Player\": \"CeeDee Lamb\", \"Position\": \"WR\", \"Team\": \"Frankel's Cankles\", \"ProTeam\": \"DAL\", \"Action\": \"DRAFT\", \"Bid Amount ($)\": 32, \"Stint (wks)\": [1, 2, 3, 4, 5, 6, 8, 9, 10, 11, 12, 13, 14, 15, 16, 17], \"Total points\": 187.8, \"Player-info\": \"CeeDee Lamb, WR (DAL)\"}, {\"Player\": \"George Kittle\", \"Position\": \"TE\", \"Team\": \"Don't Ekele Me\", \"ProTeam\": \"SF\", \"Action\": \"DRAFT\", \"Bid Amount ($)\": 32, \"Stint (wks)\": [1, 2, 3, 4, 5, 7, 8, 9, 10, 11, 12, 13, 14, 15, 16, 17], \"Total points\": 159.0, \"Player-info\": \"George Kittle, TE (SF)\"}, {\"Player\": \"Miles Sanders\", \"Position\": \"RB\", \"Team\": \"Don't Ekele Me\", \"ProTeam\": \"PHI\", \"Action\": \"DRAFT\", \"Bid Amount ($)\": 30, \"Stint (wks)\": [1, 2, 3, 4, 5, 6, 7], \"Total points\": 53.3, \"Player-info\": \"Miles Sanders, RB (PHI)\"}, {\"Player\": \"David Montgomery\", \"Position\": \"RB\", \"Team\": \"Ice City USA\", \"ProTeam\": \"CHI\", \"Action\": \"DRAFT\", \"Bid Amount ($)\": 30, \"Stint (wks)\": [1, 2, 3, 4, 5, 6, 7, 8, 9, 11, 12, 13, 14, 15, 16, 17], \"Total points\": 165.1, \"Player-info\": \"David Montgomery, RB (CHI)\"}, {\"Player\": \"Mike Evans\", \"Position\": \"WR\", \"Team\": \"Favre's Wranglers\", \"ProTeam\": \"TB\", \"Action\": \"DRAFT\", \"Bid Amount ($)\": 30, \"Stint (wks)\": [1, 2, 3, 4, 5, 6, 7, 8, 10, 11, 12, 13, 14, 15, 16, 17], \"Total points\": 201.6, \"Player-info\": \"Mike Evans, WR (TB)\"}, {\"Player\": \"D'Andre Swift\", \"Position\": \"RB\", \"Team\": \"Fumble .\", \"ProTeam\": \"DET\", \"Action\": \"DRAFT\", \"Bid Amount ($)\": 29, \"Stint (wks)\": [1], \"Total points\": 20.4, \"Player-info\": \"D'Andre Swift, RB (DET)\"}, {\"Player\": \"Allen Robinson II\", \"Position\": \"WR\", \"Team\": \"Frankel's Cankles\", \"ProTeam\": \"CHI\", \"Action\": \"DRAFT\", \"Bid Amount ($)\": 29, \"Stint (wks)\": [1, 2, 3, 4, 5, 6, 7, 8, 9, 11, 12, 13, 14], \"Total points\": 57.3, \"Player-info\": \"Allen Robinson II, WR (CHI)\"}, {\"Player\": \"Amari Cooper\", \"Position\": \"WR\", \"Team\": \"Don't Ekele Me\", \"ProTeam\": \"DAL\", \"Action\": \"DRAFT\", \"Bid Amount ($)\": 29, \"Stint (wks)\": [1, 2, 3, 4, 5, 6, 8, 9, 10, 11, 12, 13, 14, 15, 16, 17], \"Total points\": 158.1, \"Player-info\": \"Amari Cooper, WR (DAL)\"}, {\"Player\": \"Cooper Kupp\", \"Position\": \"WR\", \"Team\": \"Fumble .\", \"ProTeam\": \"LAR\", \"Action\": \"DRAFT\", \"Bid Amount ($)\": 29, \"Stint (wks)\": [1, 2, 3, 4, 5, 6, 7, 8, 9, 10, 12, 13, 14, 15, 16, 17], \"Total points\": 343.9, \"Player-info\": \"Cooper Kupp, WR (LAR)\"}, {\"Player\": \"Chris Carson\", \"Position\": \"RB\", \"Team\": \"Tier 2 never felt so good\", \"ProTeam\": \"SEA\", \"Action\": \"DRAFT\", \"Bid Amount ($)\": 28, \"Stint (wks)\": [1, 2, 3, 4, 5, 6, 7, 8, 10, 11], \"Total points\": 45.1, \"Player-info\": \"Chris Carson, RB (SEA)\"}, {\"Player\": \"Gus Edwards\", \"Position\": \"RB\", \"Team\": \"Frankel's Cankles\", \"ProTeam\": \"BAL\", \"Action\": \"DRAFT\", \"Bid Amount ($)\": 22, \"Stint (wks)\": [1, 2, 3], \"Total points\": 0.0, \"Player-info\": \"Gus Edwards, RB (BAL)\"}, {\"Player\": \"Tyler Lockett\", \"Position\": \"WR\", \"Team\": \"Your Antivax Cousins\", \"ProTeam\": \"SEA\", \"Action\": \"DRAFT\", \"Bid Amount ($)\": 22, \"Stint (wks)\": [1, 2, 3, 4, 5, 6, 7, 8, 10, 11, 12, 13, 14, 15, 16, 17], \"Total points\": 180.4, \"Player-info\": \"Tyler Lockett, WR (SEA)\"}, {\"Player\": \"Adam Thielen\", \"Position\": \"WR\", \"Team\": \"More than a  Thielen\", \"ProTeam\": \"MIN\", \"Action\": \"DRAFT\", \"Bid Amount ($)\": 21, \"Stint (wks)\": [1, 2, 3, 4, 5, 6, 8, 9, 10, 11, 12, 13, 14, 15, 16, 17], \"Total points\": 166.3, \"Player-info\": \"Adam Thielen, WR (MIN)\"}, {\"Player\": \"Odell Beckham Jr.\", \"Position\": \"WR\", \"Team\": \"Repeat Donger\", \"ProTeam\": \"LAR\", \"Action\": \"DRAFT\", \"Bid Amount ($)\": 20, \"Stint (wks)\": [1, 2, 3, 4, 5, 6, 7, 8, 9, 10, 12, 13, 14, 15, 16, 17], \"Total points\": 104.3, \"Player-info\": \"Odell Beckham Jr., WR (LAR)\"}, {\"Player\": \"Chris Godwin\", \"Position\": \"WR\", \"Team\": \"Godwin's Memorial\", \"ProTeam\": \"TB\", \"Action\": \"DRAFT\", \"Bid Amount ($)\": 19, \"Stint (wks)\": [1, 2, 3, 4, 5, 6, 7, 8, 10, 11, 12, 13, 14, 15, 16, 17], \"Total points\": 193.4, \"Player-info\": \"Chris Godwin, WR (TB)\"}, {\"Player\": \"Julio Jones\", \"Position\": \"WR\", \"Team\": \"Tier 2 never felt so good\", \"ProTeam\": \"TEN\", \"Action\": \"DRAFT\", \"Bid Amount ($)\": 18, \"Stint (wks)\": [1, 2, 3, 4, 5, 6, 7, 8, 9, 10, 11, 12, 14, 15], \"Total points\": 49.4, \"Player-info\": \"Julio Jones, WR (TEN)\"}, {\"Player\": \"Diontae Johnson\", \"Position\": \"WR\", \"Team\": \"Don't Ekele Me\", \"ProTeam\": \"PIT\", \"Action\": \"DRAFT\", \"Bid Amount ($)\": 17, \"Stint (wks)\": [1, 2, 3, 4, 5, 6, 8, 9, 10, 11, 12, 13, 14, 15, 16], \"Total points\": 199.2, \"Player-info\": \"Diontae Johnson, WR (PIT)\"}, {\"Player\": \"Darrell Henderson Jr.\", \"Position\": \"RB\", \"Team\": \"Godwin's Memorial\", \"ProTeam\": \"LAR\", \"Action\": \"DRAFT\", \"Bid Amount ($)\": 17, \"Stint (wks)\": [1, 2, 3, 4, 5, 6, 7, 8, 9, 10, 12, 13, 14, 15, 16, 17], \"Total points\": 148.9, \"Player-info\": \"Darrell Henderson Jr., RB (LAR)\"}, {\"Player\": \"DJ Moore\", \"Position\": \"WR\", \"Team\": \"Favre's Wranglers\", \"ProTeam\": \"CAR\", \"Action\": \"DRAFT\", \"Bid Amount ($)\": 17, \"Stint (wks)\": [1, 2, 3, 4, 5, 6, 7, 8, 9, 10, 11, 12, 14, 15, 16, 17], \"Total points\": 177.5, \"Player-info\": \"DJ Moore, WR (CAR)\"}, {\"Player\": \"Josh Jacobs\", \"Position\": \"RB\", \"Team\": \"Repeat Donger\", \"ProTeam\": \"OAK\", \"Action\": \"DRAFT\", \"Bid Amount ($)\": 16, \"Stint (wks)\": [1, 2, 3, 4, 5, 6, 7, 9, 10, 11, 12, 13, 14, 15, 16, 17], \"Total points\": 177.6, \"Player-info\": \"Josh Jacobs, RB (OAK)\"}, {\"Player\": \"Tee Higgins\", \"Position\": \"WR\", \"Team\": \"Frankel's Cankles\", \"ProTeam\": \"CIN\", \"Action\": \"DRAFT\", \"Bid Amount ($)\": 16, \"Stint (wks)\": [1, 2, 3, 4, 5, 6, 7, 8, 9, 11, 12, 13, 14, 15, 16, 17], \"Total points\": 182.1, \"Player-info\": \"Tee Higgins, WR (CIN)\"}, {\"Player\": \"Mark Andrews\", \"Position\": \"TE\", \"Team\": \"Ice City USA\", \"ProTeam\": \"BAL\", \"Action\": \"DRAFT\", \"Bid Amount ($)\": 16, \"Stint (wks)\": [1, 2, 3, 4, 5, 6, 7, 9, 10, 11, 12, 13, 14, 15, 16, 17], \"Total points\": 235.1, \"Player-info\": \"Mark Andrews, TE (BAL)\"}, {\"Player\": \"Myles Gaskin\", \"Position\": \"RB\", \"Team\": \"Fumble .\", \"ProTeam\": \"MIA\", \"Action\": \"DRAFT\", \"Bid Amount ($)\": 14, \"Stint (wks)\": [1], \"Total points\": 10.1, \"Player-info\": \"Myles Gaskin, RB (MIA)\"}, {\"Player\": \"Mike Davis\", \"Position\": \"RB\", \"Team\": \"Fumble .\", \"ProTeam\": \"ATL\", \"Action\": \"DRAFT\", \"Bid Amount ($)\": 12, \"Stint (wks)\": [1, 2, 3, 4, 5, 7, 8, 9, 10, 11, 12], \"Total points\": 71.6, \"Player-info\": \"Mike Davis, RB (ATL)\"}, {\"Player\": \"DeVonta Smith\", \"Position\": \"WR\", \"Team\": \"Ice City USA\", \"ProTeam\": \"PHI\", \"Action\": \"DRAFT\", \"Bid Amount ($)\": 12, \"Stint (wks)\": [1, 2, 3, 4, 5, 6, 7, 8, 9, 10, 11, 12, 13, 15, 16, 17], \"Total points\": 148.0, \"Player-info\": \"DeVonta Smith, WR (PHI)\"}, {\"Player\": \"Kareem Hunt\", \"Position\": \"RB\", \"Team\": \"Repeat Donger\", \"ProTeam\": \"CLE\", \"Action\": \"DRAFT\", \"Bid Amount ($)\": 10, \"Stint (wks)\": [1, 2, 3, 4, 5, 6, 7, 8, 9, 10, 11, 12, 14, 15, 16], \"Total points\": 99.0, \"Player-info\": \"Kareem Hunt, RB (CLE)\"}, {\"Player\": \"Tyler Boyd\", \"Position\": \"WR\", \"Team\": \"Repeat Donger\", \"ProTeam\": \"CIN\", \"Action\": \"DRAFT\", \"Bid Amount ($)\": 10, \"Stint (wks)\": [1, 2, 3, 4, 5, 6], \"Total points\": 49.0, \"Player-info\": \"Tyler Boyd, WR (CIN)\"}, {\"Player\": \"Kenny Golladay\", \"Position\": \"WR\", \"Team\": \"Favre's Wranglers\", \"ProTeam\": \"NYG\", \"Action\": \"DRAFT\", \"Bid Amount ($)\": 9, \"Stint (wks)\": [1, 2, 3, 4, 5, 6, 7, 8, 9, 11, 12, 13, 14, 15, 16, 17], \"Total points\": 66.9, \"Player-info\": \"Kenny Golladay, WR (NYG)\"}, {\"Player\": \"Logan Thomas\", \"Position\": \"TE\", \"Team\": \"Godwin's Memorial\", \"ProTeam\": \"WSH\", \"Action\": \"DRAFT\", \"Bid Amount ($)\": 9, \"Stint (wks)\": [1, 2, 3, 4, 5], \"Total points\": 27.7, \"Player-info\": \"Logan Thomas, TE (WSH)\"}, {\"Player\": \"Robby Anderson\", \"Position\": \"WR\", \"Team\": \"Don't Ekele Me\", \"ProTeam\": \"CAR\", \"Action\": \"DRAFT\", \"Bid Amount ($)\": 8, \"Stint (wks)\": [1, 2, 3], \"Total points\": 18.8, \"Player-info\": \"Robby Anderson, WR (CAR)\"}, {\"Player\": \"Courtland Sutton\", \"Position\": \"WR\", \"Team\": \"Dick Cheese\", \"ProTeam\": \"DEN\", \"Action\": \"DRAFT\", \"Bid Amount ($)\": 8, \"Stint (wks)\": [1, 2, 3, 4, 5, 6, 7, 8, 9, 10], \"Total points\": 97.2, \"Player-info\": \"Courtland Sutton, WR (DEN)\"}, {\"Player\": \"Brandin Cooks\", \"Position\": \"WR\", \"Team\": \"Don't Ekele Me\", \"ProTeam\": \"HOU\", \"Action\": \"DRAFT\", \"Bid Amount ($)\": 8, \"Stint (wks)\": [1, 2, 3, 4, 5, 6, 7, 8, 9, 11, 12, 13, 14, 15, 16, 17], \"Total points\": 182.7, \"Player-info\": \"Brandin Cooks, WR (HOU)\"}, {\"Player\": \"Chase Edmonds\", \"Position\": \"RB\", \"Team\": \"Frankel's Cankles\", \"ProTeam\": \"ARI\", \"Action\": \"DRAFT\", \"Bid Amount ($)\": 7, \"Stint (wks)\": [1, 2, 3, 4, 5, 6, 7, 8, 9, 10, 11, 13, 14, 15, 16, 17], \"Total points\": 121.8, \"Player-info\": \"Chase Edmonds, RB (ARI)\"}, {\"Player\": \"Sony Michel\", \"Position\": \"RB\", \"Team\": \"Godwin's Memorial\", \"ProTeam\": \"LAR\", \"Action\": \"DRAFT\", \"Bid Amount ($)\": 7, \"Stint (wks)\": [1, 2, 3, 4, 5, 6, 7, 8, 9, 10, 12, 13, 14, 15, 16, 17], \"Total points\": 130.4, \"Player-info\": \"Sony Michel, RB (LAR)\"}, {\"Player\": \"Jerry Jeudy\", \"Position\": \"WR\", \"Team\": \"Favre's Wranglers\", \"ProTeam\": \"DEN\", \"Action\": \"DRAFT\", \"Bid Amount ($)\": 7, \"Stint (wks)\": [1, 2, 3, 4, 5, 6, 7, 8, 9, 10, 12, 13, 14, 15, 16, 17], \"Total points\": 62.0, \"Player-info\": \"Jerry Jeudy, WR (DEN)\"}, {\"Player\": \"T.J. Hockenson\", \"Position\": \"TE\", \"Team\": \"Frankel's Cankles\", \"ProTeam\": \"DET\", \"Action\": \"DRAFT\", \"Bid Amount ($)\": 7, \"Stint (wks)\": [1, 2, 3, 4, 5, 6, 7, 8, 10, 11, 12, 13, 14, 15, 16, 17], \"Total points\": 114.8, \"Player-info\": \"T.J. Hockenson, TE (DET)\"}, {\"Player\": \"Raheem Mostert\", \"Position\": \"RB\", \"Team\": \"Godwin's Memorial\", \"ProTeam\": \"SF\", \"Action\": \"DRAFT\", \"Bid Amount ($)\": 6, \"Stint (wks)\": [1], \"Total points\": 2.0, \"Player-info\": \"Raheem Mostert, RB (SF)\"}, {\"Player\": \"Javonte Williams\", \"Position\": \"RB\", \"Team\": \"More than a  Thielen\", \"ProTeam\": \"DEN\", \"Action\": \"DRAFT\", \"Bid Amount ($)\": 6, \"Stint (wks)\": [1, 2, 3, 4, 5, 6, 7, 8, 9, 10, 12, 13, 14, 15, 16, 17], \"Total points\": 176.0, \"Player-info\": \"Javonte Williams, RB (DEN)\"}, {\"Player\": \"JuJu Smith-Schuster\", \"Position\": \"WR\", \"Team\": \"Frankel's Cankles\", \"ProTeam\": \"PIT\", \"Action\": \"DRAFT\", \"Bid Amount ($)\": 6, \"Stint (wks)\": [1, 2, 3, 4, 5], \"Total points\": 27.3, \"Player-info\": \"JuJu Smith-Schuster, WR (PIT)\"}, {\"Player\": \"Melvin Gordon III\", \"Position\": \"RB\", \"Team\": \"Fumble .\", \"ProTeam\": \"DEN\", \"Action\": \"DRAFT\", \"Bid Amount ($)\": 5, \"Stint (wks)\": [1, 2, 3, 4, 5, 6, 7, 8, 9, 10, 12, 13, 14, 15, 16, 17], \"Total points\": 165.0, \"Player-info\": \"Melvin Gordon III, RB (DEN)\"}, {\"Player\": \"Kyle Pitts\", \"Position\": \"TE\", \"Team\": \"Godwin's Memorial\", \"ProTeam\": \"ATL\", \"Action\": \"DRAFT\", \"Bid Amount ($)\": 5, \"Stint (wks)\": [1, 2, 3, 4, 5, 7, 8, 9, 10, 11, 12, 13, 14, 15, 16, 17], \"Total points\": 140.8, \"Player-info\": \"Kyle Pitts, TE (ATL)\"}, {\"Player\": \"Michael Thomas\", \"Position\": \"WR\", \"Team\": \"Godwin's Memorial\", \"ProTeam\": \"NO\", \"Action\": \"DRAFT\", \"Bid Amount ($)\": 5, \"Stint (wks)\": [1, 2, 3, 4, 5, 7, 8], \"Total points\": 0.0, \"Player-info\": \"Michael Thomas, WR (NO)\"}, {\"Player\": \"Laviska Shenault Jr.\", \"Position\": \"WR\", \"Team\": \"Your Antivax Cousins\", \"ProTeam\": \"JAX\", \"Action\": \"DRAFT\", \"Bid Amount ($)\": 5, \"Stint (wks)\": [1, 2, 3, 4, 5, 6], \"Total points\": 45.6, \"Player-info\": \"Laviska Shenault Jr., WR (JAX)\"}, {\"Player\": \"Noah Fant\", \"Position\": \"TE\", \"Team\": \"Repeat Donger\", \"ProTeam\": \"DEN\", \"Action\": \"DRAFT\", \"Bid Amount ($)\": 5, \"Stint (wks)\": [1, 2, 3, 4, 5, 6, 7, 8], \"Total points\": 68.5, \"Player-info\": \"Noah Fant, TE (DEN)\"}, {\"Player\": \"Chase Claypool\", \"Position\": \"WR\", \"Team\": \"More than a  Thielen\", \"ProTeam\": \"PIT\", \"Action\": \"DRAFT\", \"Bid Amount ($)\": 5, \"Stint (wks)\": [1, 2, 3, 4, 5, 6, 8, 9, 10], \"Total points\": 68.9, \"Player-info\": \"Chase Claypool, WR (PIT)\"}, {\"Player\": \"William Fuller V\", \"Position\": \"WR\", \"Team\": \"Frankel's Cankles\", \"ProTeam\": \"MIA\", \"Action\": \"DRAFT\", \"Bid Amount ($)\": 5, \"Stint (wks)\": [1, 2, 3, 4], \"Total points\": 6.6, \"Player-info\": \"William Fuller V, WR (MIA)\"}, {\"Player\": \"Damien Harris\", \"Position\": \"RB\", \"Team\": \"Tier 2 never felt so good\", \"ProTeam\": \"NE\", \"Action\": \"DRAFT\", \"Bid Amount ($)\": 5, \"Stint (wks)\": [1, 2, 3, 4, 5, 6, 7, 8, 9, 10, 11, 12, 13, 15, 16, 17], \"Total points\": 185.8, \"Player-info\": \"Damien Harris, RB (NE)\"}, {\"Player\": \"Deebo Samuel\", \"Position\": \"WR\", \"Team\": \"Dick Cheese\", \"ProTeam\": \"SF\", \"Action\": \"DRAFT\", \"Bid Amount ($)\": 4, \"Stint (wks)\": [1], \"Total points\": 27.4, \"Player-info\": \"Deebo Samuel, WR (SF)\"}, {\"Player\": \"Ja'Marr Chase\", \"Position\": \"WR\", \"Team\": \"Your Antivax Cousins\", \"ProTeam\": \"CIN\", \"Action\": \"DRAFT\", \"Bid Amount ($)\": 3, \"Stint (wks)\": [1, 2, 3, 4, 5, 6, 7, 8, 9, 11, 12, 13, 14, 15, 16, 17], \"Total points\": 268.5, \"Player-info\": \"Ja'Marr Chase, WR (CIN)\"}, {\"Player\": \"Kenyan Drake\", \"Position\": \"RB\", \"Team\": \"More than a  Thielen\", \"ProTeam\": \"OAK\", \"Action\": \"DRAFT\", \"Bid Amount ($)\": 3, \"Stint (wks)\": [1, 2, 3, 4], \"Total points\": 24.9, \"Player-info\": \"Kenyan Drake, RB (OAK)\"}, {\"Player\": \"Trey Sermon\", \"Position\": \"RB\", \"Team\": \"Your Antivax Cousins\", \"ProTeam\": \"SF\", \"Action\": \"DRAFT\", \"Bid Amount ($)\": 3, \"Stint (wks)\": [1, 2, 3, 4, 5], \"Total points\": 20.8, \"Player-info\": \"Trey Sermon, RB (SF)\"}, {\"Player\": \"Jarvis Landry\", \"Position\": \"WR\", \"Team\": \"Don't Ekele Me\", \"ProTeam\": \"CLE\", \"Action\": \"DRAFT\", \"Bid Amount ($)\": 3, \"Stint (wks)\": [], \"Total points\": 0.0, \"Player-info\": \"Jarvis Landry, WR (CLE)\"}, {\"Player\": \"Michael Carter\", \"Position\": \"RB\", \"Team\": \"Your Antivax Cousins\", \"ProTeam\": \"NYJ\", \"Action\": \"DRAFT\", \"Bid Amount ($)\": 3, \"Stint (wks)\": [1, 2, 3], \"Total points\": 16.2, \"Player-info\": \"Michael Carter, RB (NYJ)\"}, {\"Player\": \"Corey Davis\", \"Position\": \"WR\", \"Team\": \"Dick Cheese\", \"ProTeam\": \"NYJ\", \"Action\": \"DRAFT\", \"Bid Amount ($)\": 3, \"Stint (wks)\": [1, 2, 3, 4, 5, 7, 8, 9, 10, 11, 12], \"Total points\": 85.7, \"Player-info\": \"Corey Davis, WR (NYJ)\"}, {\"Player\": \"Ronald Jones II\", \"Position\": \"RB\", \"Team\": \"Repeat Donger\", \"ProTeam\": \"TB\", \"Action\": \"DRAFT\", \"Bid Amount ($)\": 2, \"Stint (wks)\": [1, 2], \"Total points\": 3.5, \"Player-info\": \"Ronald Jones II, RB (TB)\"}, {\"Player\": \"James Conner\", \"Position\": \"RB\", \"Team\": \"Repeat Donger\", \"ProTeam\": \"ARI\", \"Action\": \"DRAFT\", \"Bid Amount ($)\": 2, \"Stint (wks)\": [1, 2], \"Total points\": 7.9, \"Player-info\": \"James Conner, RB (ARI)\"}, {\"Player\": \"Michael Pittman Jr.\", \"Position\": \"WR\", \"Team\": \"Ice City USA\", \"ProTeam\": \"IND\", \"Action\": \"DRAFT\", \"Bid Amount ($)\": 2, \"Stint (wks)\": [1], \"Total points\": 4.4, \"Player-info\": \"Michael Pittman Jr., WR (IND)\"}, {\"Player\": \"DJ Chark Jr.\", \"Position\": \"WR\", \"Team\": \"Ice City USA\", \"ProTeam\": \"JAX\", \"Action\": \"DRAFT\", \"Bid Amount ($)\": 2, \"Stint (wks)\": [1, 2], \"Total points\": 18.5, \"Player-info\": \"DJ Chark Jr., WR (JAX)\"}, {\"Player\": \"Michael Gallup\", \"Position\": \"WR\", \"Team\": \"Repeat Donger\", \"ProTeam\": \"DAL\", \"Action\": \"DRAFT\", \"Bid Amount ($)\": 2, \"Stint (wks)\": [1], \"Total points\": 5.6, \"Player-info\": \"Michael Gallup, WR (DAL)\"}, {\"Player\": \"Marvin Jones Jr.\", \"Position\": \"WR\", \"Team\": \"Dick Cheese\", \"ProTeam\": \"JAX\", \"Action\": \"DRAFT\", \"Bid Amount ($)\": 2, \"Stint (wks)\": [], \"Total points\": 0.0, \"Player-info\": \"Marvin Jones Jr., WR (JAX)\"}, {\"Player\": \"Marquise Brown\", \"Position\": \"WR\", \"Team\": \"Don't Ekele Me\", \"ProTeam\": \"BAL\", \"Action\": \"DRAFT\", \"Bid Amount ($)\": 2, \"Stint (wks)\": [], \"Total points\": 0.0, \"Player-info\": \"Marquise Brown, WR (BAL)\"}, {\"Player\": \"AJ Dillon\", \"Position\": \"RB\", \"Team\": \"Tier 2 never felt so good\", \"ProTeam\": \"GB\", \"Action\": \"DRAFT\", \"Bid Amount ($)\": 2, \"Stint (wks)\": [1, 2, 3, 4, 5, 6, 7, 8, 9, 10, 11, 12, 14, 15, 16, 17], \"Total points\": 161.4, \"Player-info\": \"AJ Dillon, RB (GB)\"}, {\"Player\": \"Antonio Brown\", \"Position\": \"WR\", \"Team\": \"Dick Cheese\", \"ProTeam\": \"TB\", \"Action\": \"DRAFT\", \"Bid Amount ($)\": 2, \"Stint (wks)\": [1, 2, 3, 4, 5, 6, 7, 8, 10, 11, 12, 13, 14, 15, 16, 17], \"Total points\": 100.1, \"Player-info\": \"Antonio Brown, WR (TB)\"}, {\"Player\": \"Mike Williams\", \"Position\": \"WR\", \"Team\": \"More than a  Thielen\", \"ProTeam\": \"LAC\", \"Action\": \"DRAFT\", \"Bid Amount ($)\": 2, \"Stint (wks)\": [1, 2, 3, 4, 5, 6, 8, 9, 10, 11, 12, 13, 14, 15, 16, 17], \"Total points\": 186.2, \"Player-info\": \"Mike Williams, WR (LAC)\"}, {\"Player\": \"Jaylen Waddle\", \"Position\": \"WR\", \"Team\": \"Ice City USA\", \"ProTeam\": \"MIA\", \"Action\": \"DRAFT\", \"Bid Amount ($)\": 1, \"Stint (wks)\": [1, 2, 3, 4, 5], \"Total points\": 40.8, \"Player-info\": \"Jaylen Waddle, WR (MIA)\"}, {\"Player\": \"Nyheim Hines\", \"Position\": \"RB\", \"Team\": \"Ice City USA\", \"ProTeam\": \"IND\", \"Action\": \"DRAFT\", \"Bid Amount ($)\": 1, \"Stint (wks)\": [], \"Total points\": 0.0, \"Player-info\": \"Nyheim Hines, RB (IND)\"}, {\"Player\": \"Russell Gage\", \"Position\": \"WR\", \"Team\": \"Tasteful Dak Piks, by CMC\", \"ProTeam\": \"ATL\", \"Action\": \"DRAFT\", \"Bid Amount ($)\": 1, \"Stint (wks)\": [1, 2], \"Total points\": 5.3, \"Player-info\": \"Russell Gage, WR (ATL)\"}, {\"Player\": \"Mecole Hardman\", \"Position\": \"WR\", \"Team\": \"Your Antivax Cousins\", \"ProTeam\": \"KC\", \"Action\": \"DRAFT\", \"Bid Amount ($)\": 1, \"Stint (wks)\": [1], \"Total points\": 3.4, \"Player-info\": \"Mecole Hardman, WR (KC)\"}, {\"Player\": \"Jakobi Meyers\", \"Position\": \"WR\", \"Team\": \"Favre's Wranglers\", \"ProTeam\": \"NE\", \"Action\": \"DRAFT\", \"Bid Amount ($)\": 1, \"Stint (wks)\": [1, 2, 3, 4, 5, 6, 7, 8, 9, 10, 11, 12, 13, 15, 16, 17], \"Total points\": 137.8, \"Player-info\": \"Jakobi Meyers, WR (NE)\"}, {\"Player\": \"Chuba Hubbard\", \"Position\": \"RB\", \"Team\": \"Tasteful Dak Piks, by CMC\", \"ProTeam\": \"CAR\", \"Action\": \"DRAFT\", \"Bid Amount ($)\": 1, \"Stint (wks)\": [1], \"Total points\": 1.4, \"Player-info\": \"Chuba Hubbard, RB (CAR)\"}, {\"Player\": \"J.D. McKissic\", \"Position\": \"RB\", \"Team\": \"Tasteful Dak Piks, by CMC\", \"ProTeam\": \"WSH\", \"Action\": \"DRAFT\", \"Bid Amount ($)\": 1, \"Stint (wks)\": [1], \"Total points\": 0.8, \"Player-info\": \"J.D. McKissic, RB (WSH)\"}, {\"Player\": \"Curtis Samuel\", \"Position\": \"WR\", \"Team\": \"Favre's Wranglers\", \"ProTeam\": \"WSH\", \"Action\": \"DRAFT\", \"Bid Amount ($)\": 1, \"Stint (wks)\": [1], \"Total points\": 0.0, \"Player-info\": \"Curtis Samuel, WR (WSH)\"}, {\"Player\": \"Cole Beasley\", \"Position\": \"WR\", \"Team\": \"Favre's Wranglers\", \"ProTeam\": \"BUF\", \"Action\": \"DRAFT\", \"Bid Amount ($)\": 1, \"Stint (wks)\": [1, 2, 3, 4, 5, 6, 8, 9, 10, 11, 12, 13, 14, 15], \"Total points\": 108.0, \"Player-info\": \"Cole Beasley, WR (BUF)\"}, {\"Player\": \"Dallas Goedert\", \"Position\": \"TE\", \"Team\": \"Dick Cheese\", \"ProTeam\": \"PHI\", \"Action\": \"DRAFT\", \"Bid Amount ($)\": 1, \"Stint (wks)\": [1, 2, 3, 4, 5, 6, 7, 8, 9, 10, 11, 12, 13, 15, 16, 17], \"Total points\": 137.0, \"Player-info\": \"Dallas Goedert, TE (PHI)\"}, {\"Player\": \"Marquez Callaway\", \"Position\": \"WR\", \"Team\": \"Tier 2 never felt so good\", \"ProTeam\": \"NO\", \"Action\": \"DRAFT\", \"Bid Amount ($)\": 1, \"Stint (wks)\": [1, 2, 3, 4, 5, 7, 8, 9, 10, 11, 12, 13, 14, 15, 16], \"Total points\": 116.1, \"Player-info\": \"Marquez Callaway, WR (NO)\"}, {\"Player\": \"Mike Gesicki\", \"Position\": \"TE\", \"Team\": \"Fumble .\", \"ProTeam\": \"MIA\", \"Action\": \"DRAFT\", \"Bid Amount ($)\": 1, \"Stint (wks)\": [1], \"Total points\": 0.0, \"Player-info\": \"Mike Gesicki, TE (MIA)\"}, {\"Player\": \"Jamison Crowder\", \"Position\": \"WR\", \"Team\": \"Tasteful Dak Piks, by CMC\", \"ProTeam\": \"NYJ\", \"Action\": \"DRAFT\", \"Bid Amount ($)\": 1, \"Stint (wks)\": [1, 2, 3], \"Total points\": 0.0, \"Player-info\": \"Jamison Crowder, WR (NYJ)\"}, {\"Player\": \"Ty'Son Williams\", \"Position\": \"RB\", \"Team\": \"Fumble .\", \"ProTeam\": \"BAL\", \"Action\": \"DRAFT\", \"Bid Amount ($)\": 1, \"Stint (wks)\": [1, 2, 3], \"Total points\": 29.4, \"Player-info\": \"Ty'Son Williams, RB (BAL)\"}, {\"Player\": \"Robert Tonyan\", \"Position\": \"TE\", \"Team\": \"Tier 2 never felt so good\", \"ProTeam\": \"GB\", \"Action\": \"DRAFT\", \"Bid Amount ($)\": 1, \"Stint (wks)\": [1, 2, 3, 4, 5, 6, 7, 8, 9, 10, 11], \"Total points\": 41.4, \"Player-info\": \"Robert Tonyan, TE (GB)\"}, {\"Player\": \"Devin Singletary\", \"Position\": \"RB\", \"Team\": \"Godwin's Memorial\", \"ProTeam\": \"BUF\", \"Action\": \"DRAFT\", \"Bid Amount ($)\": 1, \"Stint (wks)\": [1, 2, 3, 4, 5, 6], \"Total points\": 47.4, \"Player-info\": \"Devin Singletary, RB (BUF)\"}, {\"Player\": \"James White\", \"Position\": \"RB\", \"Team\": \"Tasteful Dak Piks, by CMC\", \"ProTeam\": \"NE\", \"Action\": \"DRAFT\", \"Bid Amount ($)\": 1, \"Stint (wks)\": [1, 2, 3], \"Total points\": 25.2, \"Player-info\": \"James White, RB (NE)\"}, {\"Player\": \"Leonard Fournette\", \"Position\": \"RB\", \"Team\": \"Ice City USA\", \"ProTeam\": \"TB\", \"Action\": \"DRAFT\", \"Bid Amount ($)\": 1, \"Stint (wks)\": [1, 2, 3, 4, 5, 6, 7, 8, 10, 11, 12, 13, 14, 15, 16, 17], \"Total points\": 221.1, \"Player-info\": \"Leonard Fournette, RB (TB)\"}, {\"Player\": \"Jamaal Williams\", \"Position\": \"RB\", \"Team\": \"Don't Ekele Me\", \"ProTeam\": \"DET\", \"Action\": \"DRAFT\", \"Bid Amount ($)\": 1, \"Stint (wks)\": [1, 2, 3, 4, 5, 6], \"Total points\": 55.4, \"Player-info\": \"Jamaal Williams, RB (DET)\"}, {\"Player\": \"David Johnson\", \"Position\": \"RB\", \"Team\": \"More than a  Thielen\", \"ProTeam\": \"HOU\", \"Action\": \"DRAFT\", \"Bid Amount ($)\": 1, \"Stint (wks)\": [1, 2], \"Total points\": 16.0, \"Player-info\": \"David Johnson, RB (HOU)\"}, {\"Player\": \"Jalen Reagor\", \"Position\": \"WR\", \"Team\": \"More than a  Thielen\", \"ProTeam\": \"PHI\", \"Action\": \"DRAFT\", \"Bid Amount ($)\": 1, \"Stint (wks)\": [1, 2], \"Total points\": 15.4, \"Player-info\": \"Jalen Reagor, WR (PHI)\"}, {\"Player\": \"Jonnu Smith\", \"Position\": \"TE\", \"Team\": \"Tasteful Dak Piks, by CMC\", \"ProTeam\": \"NE\", \"Action\": \"DRAFT\", \"Bid Amount ($)\": 1, \"Stint (wks)\": [1, 2, 3], \"Total points\": 13.0, \"Player-info\": \"Jonnu Smith, TE (NE)\"}, {\"Player\": \"Tyler Higbee\", \"Position\": \"TE\", \"Team\": \"Your Antivax Cousins\", \"ProTeam\": \"LAR\", \"Action\": \"DRAFT\", \"Bid Amount ($)\": 1, \"Stint (wks)\": [1, 2, 3, 4, 5, 6, 7, 8, 9, 10], \"Total points\": 71.4, \"Player-info\": \"Tyler Higbee, TE (LAR)\"}, {\"Player\": \"Zack Moss\", \"Position\": \"RB\", \"Team\": \"Favre's Wranglers\", \"ProTeam\": \"BUF\", \"Action\": \"DRAFT\", \"Bid Amount ($)\": 1, \"Stint (wks)\": [1, 2, 3, 4, 5, 6, 8, 9, 10, 11, 12, 13, 14, 15], \"Total points\": 84.4, \"Player-info\": \"Zack Moss, RB (BUF)\"}]}}, {\"mode\": \"vega-lite\"});\n",
       "</script>"
      ],
      "text/plain": [
       "alt.Chart(...)"
      ]
     },
     "execution_count": 301,
     "metadata": {},
     "output_type": "execute_result"
    }
   ],
   "source": [
    "acquisition_method = 'Draft'\n",
    "\n",
    "position_subset = ['RB','WR','TE']\n",
    "position_subset1 = ' '.join(position_subset)\n",
    "\n",
    "df = df_stints_f_draft[df_stints_f_draft['Position'].isin(position_subset)]\n",
    "\n",
    "plot_title = position_subset1 + ' ' + acquisition_method + ' Spending vs. Total Fantasy Points'\n",
    "\n",
    "selection = alt.selection_multi(fields=['Team'], bind = 'legend')\n",
    "color=alt.condition(selection, 'Team', alt.value('lightgray'))\n",
    "\n",
    "chart = alt.Chart(df).mark_circle(size=40).encode(\n",
    "    alt.X('Bid Amount ($)', axis=alt.Axis(grid=False)),\n",
    "    alt.Y('Total points' , axis=alt.Axis(grid=False)),\n",
    "    color=color,\n",
    "    opacity=alt.condition(selection, alt.value(1), alt.value(0.1)),\n",
    "    tooltip=['Player-info','Bid Amount ($)','Total points','Stint (wks)']\n",
    "    ).add_selection(selection).properties(\n",
    "    width=550,\n",
    "    height=550\n",
    "    ).configure_axis(\n",
    "    labelFontSize=20,\n",
    "    titleFontSize=20).interactive()\n",
    "\n",
    "chart.configure_legend(labelFontSize = 14)\n",
    "\n",
    "chart"
   ]
  },
  {
   "cell_type": "code",
   "execution_count": 284,
   "metadata": {},
   "outputs": [
    {
     "data": {
      "text/plain": [
       "['RB', 'WR', 'TE']"
      ]
     },
     "execution_count": 284,
     "metadata": {},
     "output_type": "execute_result"
    }
   ],
   "source": [
    "position_subset"
   ]
  },
  {
   "cell_type": "code",
   "execution_count": 226,
   "metadata": {},
   "outputs": [
    {
     "data": {
      "text/plain": [
       "RendererRegistry.enable('html')"
      ]
     },
     "execution_count": 226,
     "metadata": {},
     "output_type": "execute_result"
    }
   ],
   "source": [
    "alt.renderers.enable('html')"
   ]
  },
  {
   "cell_type": "markdown",
   "metadata": {},
   "source": [
    "## Draft Breakdown by Position"
   ]
  },
  {
   "cell_type": "code",
   "execution_count": 218,
   "metadata": {},
   "outputs": [
    {
     "data": {
      "application/vnd.plotly.v1+json": {
       "config": {
        "plotlyServerURL": "https://plot.ly"
       },
       "data": [
        {
         "alignmentgroup": "True",
         "hovertemplate": "Position=RB<br>Player-info=%{x}<br>Bid Amount ($)=%{y}<extra></extra>",
         "legendgroup": "RB",
         "marker": {
          "color": "#636efa"
         },
         "name": "RB",
         "offsetgroup": "RB",
         "orientation": "v",
         "showlegend": true,
         "textposition": "auto",
         "type": "bar",
         "x": [
          "Derrick Henry, RB (TEN)",
          "Christian McCaffrey, RB (CAR)",
          "Dalvin Cook, RB (MIN)",
          "Ezekiel Elliott, RB (DAL)",
          "Alvin Kamara, RB (NO)",
          "Saquon Barkley, RB (NYG)",
          "Nick Chubb, RB (CLE)",
          "Jonathan Taylor, RB (IND)",
          "Aaron Jones, RB (GB)",
          "Austin Ekeler, RB (LAC)",
          "Najee Harris, RB (PIT)",
          "Antonio Gibson, RB (WSH)",
          "Joe Mixon, RB (CIN)",
          "Clyde Edwards-Helaire, RB (KC)",
          "James Robinson, RB (JAX)",
          "Miles Sanders, RB (PHI)",
          "David Montgomery, RB (CHI)",
          "D'Andre Swift, RB (DET)",
          "Chris Carson, RB (SEA)",
          "Gus Edwards, RB (BAL)",
          "Darrell Henderson Jr., RB (LAR)",
          "Josh Jacobs, RB (OAK)",
          "Myles Gaskin, RB (MIA)",
          "Mike Davis, RB (ATL)",
          "Kareem Hunt, RB (CLE)",
          "Chase Edmonds, RB (ARI)",
          "Sony Michel, RB (LAR)",
          "Raheem Mostert, RB (SF)",
          "Javonte Williams, RB (DEN)",
          "Melvin Gordon III, RB (DEN)",
          "Damien Harris, RB (NE)",
          "Kenyan Drake, RB (OAK)",
          "Trey Sermon, RB (SF)",
          "Michael Carter, RB (NYJ)",
          "Ronald Jones II, RB (TB)",
          "James Conner, RB (ARI)",
          "AJ Dillon, RB (GB)",
          "Nyheim Hines, RB (IND)",
          "Chuba Hubbard, RB (CAR)",
          "J.D. McKissic, RB (WSH)",
          "Ty'Son Williams, RB (BAL)",
          "Devin Singletary, RB (BUF)",
          "James White, RB (NE)",
          "Leonard Fournette, RB (TB)",
          "Jamaal Williams, RB (DET)",
          "David Johnson, RB (HOU)",
          "Zack Moss, RB (BUF)"
         ],
         "xaxis": "x",
         "y": [
          84,
          83,
          70,
          70,
          68,
          63,
          61,
          58,
          56,
          54,
          51,
          49,
          40,
          36,
          33,
          30,
          30,
          29,
          28,
          22,
          17,
          16,
          14,
          12,
          10,
          7,
          7,
          6,
          6,
          5,
          5,
          3,
          3,
          3,
          2,
          2,
          2,
          1,
          1,
          1,
          1,
          1,
          1,
          1,
          1,
          1,
          1
         ],
         "yaxis": "y"
        },
        {
         "alignmentgroup": "True",
         "hovertemplate": "Position=TE<br>Player-info=%{x}<br>Bid Amount ($)=%{y}<extra></extra>",
         "legendgroup": "TE",
         "marker": {
          "color": "#EF553B"
         },
         "name": "TE",
         "offsetgroup": "TE",
         "orientation": "v",
         "showlegend": true,
         "textposition": "auto",
         "type": "bar",
         "x": [
          "Travis Kelce, TE (KC)",
          "Darren Waller, TE (OAK)",
          "George Kittle, TE (SF)",
          "Mark Andrews, TE (BAL)",
          "Logan Thomas, TE (WSH)",
          "T.J. Hockenson, TE (DET)",
          "Kyle Pitts, TE (ATL)",
          "Noah Fant, TE (DEN)",
          "Dallas Goedert, TE (PHI)",
          "Mike Gesicki, TE (MIA)",
          "Robert Tonyan, TE (GB)",
          "Jonnu Smith, TE (NE)",
          "Tyler Higbee, TE (LAR)"
         ],
         "xaxis": "x",
         "y": [
          67,
          35,
          32,
          16,
          9,
          7,
          5,
          5,
          1,
          1,
          1,
          1,
          1
         ],
         "yaxis": "y"
        },
        {
         "alignmentgroup": "True",
         "hovertemplate": "Position=WR<br>Player-info=%{x}<br>Bid Amount ($)=%{y}<extra></extra>",
         "legendgroup": "WR",
         "marker": {
          "color": "#00cc96"
         },
         "name": "WR",
         "offsetgroup": "WR",
         "orientation": "v",
         "showlegend": true,
         "textposition": "auto",
         "type": "bar",
         "x": [
          "Davante Adams, WR (GB)",
          "Tyreek Hill, WR (KC)",
          "Stefon Diggs, WR (BUF)",
          "DeAndre Hopkins, WR (ARI)",
          "Calvin Ridley, WR (ATL)",
          "DK Metcalf, WR (SEA)",
          "Justin Jefferson, WR (MIN)",
          "A.J. Brown, WR (TEN)",
          "Keenan Allen, WR (LAC)",
          "Terry McLaurin, WR (WSH)",
          "Robert Woods, WR (LAR)",
          "CeeDee Lamb, WR (DAL)",
          "Mike Evans, WR (TB)",
          "Allen Robinson II, WR (CHI)",
          "Amari Cooper, WR (DAL)",
          "Cooper Kupp, WR (LAR)",
          "Tyler Lockett, WR (SEA)",
          "Adam Thielen, WR (MIN)",
          "Odell Beckham Jr., WR (LAR)",
          "Chris Godwin, WR (TB)",
          "Julio Jones, WR (TEN)",
          "Diontae Johnson, WR (PIT)",
          "DJ Moore, WR (CAR)",
          "Tee Higgins, WR (CIN)",
          "DeVonta Smith, WR (PHI)",
          "Tyler Boyd, WR (CIN)",
          "Kenny Golladay, WR (NYG)",
          "Robby Anderson, WR (CAR)",
          "Courtland Sutton, WR (DEN)",
          "Brandin Cooks, WR (HOU)",
          "Jerry Jeudy, WR (DEN)",
          "JuJu Smith-Schuster, WR (PIT)",
          "Michael Thomas, WR (NO)",
          "Laviska Shenault Jr., WR (JAX)",
          "Chase Claypool, WR (PIT)",
          "William Fuller V, WR (MIA)",
          "Deebo Samuel, WR (SF)",
          "Ja'Marr Chase, WR (CIN)",
          "Jarvis Landry, WR (CLE)",
          "Corey Davis, WR (NYJ)",
          "Michael Pittman Jr., WR (IND)",
          "DJ Chark Jr., WR (JAX)",
          "Michael Gallup, WR (DAL)",
          "Marvin Jones Jr., WR (JAX)",
          "Marquise Brown, WR (BAL)",
          "Antonio Brown, WR (TB)",
          "Mike Williams, WR (LAC)",
          "Jaylen Waddle, WR (MIA)",
          "Russell Gage, WR (ATL)",
          "Mecole Hardman, WR (KC)",
          "Jakobi Meyers, WR (NE)",
          "Curtis Samuel, WR (WSH)",
          "Cole Beasley, WR (BUF)",
          "Marquez Callaway, WR (NO)",
          "Jamison Crowder, WR (NYJ)",
          "Jalen Reagor, WR (PHI)"
         ],
         "xaxis": "x",
         "y": [
          63,
          57,
          57,
          45,
          43,
          42,
          42,
          38,
          37,
          36,
          33,
          32,
          30,
          29,
          29,
          29,
          22,
          21,
          20,
          19,
          18,
          17,
          17,
          16,
          12,
          10,
          9,
          8,
          8,
          8,
          7,
          6,
          5,
          5,
          5,
          5,
          4,
          3,
          3,
          3,
          2,
          2,
          2,
          2,
          2,
          2,
          2,
          1,
          1,
          1,
          1,
          1,
          1,
          1,
          1,
          1
         ],
         "yaxis": "y"
        },
        {
         "alignmentgroup": "True",
         "hovertemplate": "Position=QB<br>Player-info=%{x}<br>Bid Amount ($)=%{y}<extra></extra>",
         "legendgroup": "QB",
         "marker": {
          "color": "#ab63fa"
         },
         "name": "QB",
         "offsetgroup": "QB",
         "orientation": "v",
         "showlegend": true,
         "textposition": "auto",
         "type": "bar",
         "x": [
          "Patrick Mahomes, QB (KC)",
          "Josh Allen, QB (BUF)",
          "Lamar Jackson, QB (BAL)",
          "Aaron Rodgers, QB (GB)",
          "Russell Wilson, QB (SEA)",
          "Dak Prescott, QB (DAL)",
          "Justin Herbert, QB (LAC)",
          "Kyler Murray, QB (ARI)",
          "Ryan Tannehill, QB (TEN)",
          "Tom Brady, QB (TB)",
          "Deshaun Watson, QB (HOU)",
          "Jalen Hurts, QB (PHI)",
          "Matthew Stafford, QB (LAR)",
          "Joe Burrow, QB (CIN)"
         ],
         "xaxis": "x",
         "y": [
          22,
          13,
          6,
          6,
          4,
          3,
          3,
          3,
          2,
          1,
          1,
          1,
          1,
          1
         ],
         "yaxis": "y"
        },
        {
         "alignmentgroup": "True",
         "hovertemplate": "Position=K<br>Player-info=%{x}<br>Bid Amount ($)=%{y}<extra></extra>",
         "legendgroup": "K",
         "marker": {
          "color": "#FFA15A"
         },
         "name": "K",
         "offsetgroup": "K",
         "orientation": "v",
         "showlegend": true,
         "textposition": "auto",
         "type": "bar",
         "x": [
          "Younghoe Koo, K (ATL)",
          "Jason Myers, K (SEA)",
          "Mason Crosby, K (GB)",
          "Harrison Butker, K (KC)",
          "Jason Sanders, K (MIA)",
          "Rodrigo Blankenship, K (IND)",
          "Matt Gay, K (LAR)",
          "Justin Tucker, K (BAL)",
          "Greg Zuerlein, K (DAL)",
          "Brandon McManus, K (DEN)",
          "Graham Gano, K (NYG)",
          "Tyler Bass, K (BUF)"
         ],
         "xaxis": "x",
         "y": [
          8,
          2,
          2,
          2,
          1,
          1,
          1,
          1,
          1,
          1,
          1,
          1
         ],
         "yaxis": "y"
        },
        {
         "alignmentgroup": "True",
         "hovertemplate": "Position=D/ST<br>Player-info=%{x}<br>Bid Amount ($)=%{y}<extra></extra>",
         "legendgroup": "D/ST",
         "marker": {
          "color": "#19d3f3"
         },
         "name": "D/ST",
         "offsetgroup": "D/ST",
         "orientation": "v",
         "showlegend": true,
         "textposition": "auto",
         "type": "bar",
         "x": [
          "Rams D/ST, D/ST (LAR)",
          "Washington D/ST, D/ST (WSH)",
          "Ravens D/ST, D/ST (BAL)",
          "Bills D/ST, D/ST (BUF)",
          "Buccaneers D/ST, D/ST (TB)",
          "Giants D/ST, D/ST (NYG)",
          "Dolphins D/ST, D/ST (MIA)",
          "49ers D/ST, D/ST (SF)",
          "Browns D/ST, D/ST (CLE)",
          "Broncos D/ST, D/ST (DEN)",
          "Colts D/ST, D/ST (IND)",
          "Steelers D/ST, D/ST (PIT)"
         ],
         "xaxis": "x",
         "y": [
          8,
          2,
          2,
          2,
          2,
          1,
          1,
          1,
          1,
          1,
          1,
          1
         ],
         "yaxis": "y"
        }
       ],
       "layout": {
        "barmode": "relative",
        "font": {
         "size": 6
        },
        "height": 500,
        "legend": {
         "title": {
          "text": "Position"
         },
         "tracegroupgap": 0
        },
        "margin": {
         "t": 60
        },
        "template": {
         "data": {
          "bar": [
           {
            "error_x": {
             "color": "#2a3f5f"
            },
            "error_y": {
             "color": "#2a3f5f"
            },
            "marker": {
             "line": {
              "color": "#E5ECF6",
              "width": 0.5
             }
            },
            "type": "bar"
           }
          ],
          "barpolar": [
           {
            "marker": {
             "line": {
              "color": "#E5ECF6",
              "width": 0.5
             }
            },
            "type": "barpolar"
           }
          ],
          "carpet": [
           {
            "aaxis": {
             "endlinecolor": "#2a3f5f",
             "gridcolor": "white",
             "linecolor": "white",
             "minorgridcolor": "white",
             "startlinecolor": "#2a3f5f"
            },
            "baxis": {
             "endlinecolor": "#2a3f5f",
             "gridcolor": "white",
             "linecolor": "white",
             "minorgridcolor": "white",
             "startlinecolor": "#2a3f5f"
            },
            "type": "carpet"
           }
          ],
          "choropleth": [
           {
            "colorbar": {
             "outlinewidth": 0,
             "ticks": ""
            },
            "type": "choropleth"
           }
          ],
          "contour": [
           {
            "colorbar": {
             "outlinewidth": 0,
             "ticks": ""
            },
            "colorscale": [
             [
              0,
              "#0d0887"
             ],
             [
              0.1111111111111111,
              "#46039f"
             ],
             [
              0.2222222222222222,
              "#7201a8"
             ],
             [
              0.3333333333333333,
              "#9c179e"
             ],
             [
              0.4444444444444444,
              "#bd3786"
             ],
             [
              0.5555555555555556,
              "#d8576b"
             ],
             [
              0.6666666666666666,
              "#ed7953"
             ],
             [
              0.7777777777777778,
              "#fb9f3a"
             ],
             [
              0.8888888888888888,
              "#fdca26"
             ],
             [
              1,
              "#f0f921"
             ]
            ],
            "type": "contour"
           }
          ],
          "contourcarpet": [
           {
            "colorbar": {
             "outlinewidth": 0,
             "ticks": ""
            },
            "type": "contourcarpet"
           }
          ],
          "heatmap": [
           {
            "colorbar": {
             "outlinewidth": 0,
             "ticks": ""
            },
            "colorscale": [
             [
              0,
              "#0d0887"
             ],
             [
              0.1111111111111111,
              "#46039f"
             ],
             [
              0.2222222222222222,
              "#7201a8"
             ],
             [
              0.3333333333333333,
              "#9c179e"
             ],
             [
              0.4444444444444444,
              "#bd3786"
             ],
             [
              0.5555555555555556,
              "#d8576b"
             ],
             [
              0.6666666666666666,
              "#ed7953"
             ],
             [
              0.7777777777777778,
              "#fb9f3a"
             ],
             [
              0.8888888888888888,
              "#fdca26"
             ],
             [
              1,
              "#f0f921"
             ]
            ],
            "type": "heatmap"
           }
          ],
          "heatmapgl": [
           {
            "colorbar": {
             "outlinewidth": 0,
             "ticks": ""
            },
            "colorscale": [
             [
              0,
              "#0d0887"
             ],
             [
              0.1111111111111111,
              "#46039f"
             ],
             [
              0.2222222222222222,
              "#7201a8"
             ],
             [
              0.3333333333333333,
              "#9c179e"
             ],
             [
              0.4444444444444444,
              "#bd3786"
             ],
             [
              0.5555555555555556,
              "#d8576b"
             ],
             [
              0.6666666666666666,
              "#ed7953"
             ],
             [
              0.7777777777777778,
              "#fb9f3a"
             ],
             [
              0.8888888888888888,
              "#fdca26"
             ],
             [
              1,
              "#f0f921"
             ]
            ],
            "type": "heatmapgl"
           }
          ],
          "histogram": [
           {
            "marker": {
             "colorbar": {
              "outlinewidth": 0,
              "ticks": ""
             }
            },
            "type": "histogram"
           }
          ],
          "histogram2d": [
           {
            "colorbar": {
             "outlinewidth": 0,
             "ticks": ""
            },
            "colorscale": [
             [
              0,
              "#0d0887"
             ],
             [
              0.1111111111111111,
              "#46039f"
             ],
             [
              0.2222222222222222,
              "#7201a8"
             ],
             [
              0.3333333333333333,
              "#9c179e"
             ],
             [
              0.4444444444444444,
              "#bd3786"
             ],
             [
              0.5555555555555556,
              "#d8576b"
             ],
             [
              0.6666666666666666,
              "#ed7953"
             ],
             [
              0.7777777777777778,
              "#fb9f3a"
             ],
             [
              0.8888888888888888,
              "#fdca26"
             ],
             [
              1,
              "#f0f921"
             ]
            ],
            "type": "histogram2d"
           }
          ],
          "histogram2dcontour": [
           {
            "colorbar": {
             "outlinewidth": 0,
             "ticks": ""
            },
            "colorscale": [
             [
              0,
              "#0d0887"
             ],
             [
              0.1111111111111111,
              "#46039f"
             ],
             [
              0.2222222222222222,
              "#7201a8"
             ],
             [
              0.3333333333333333,
              "#9c179e"
             ],
             [
              0.4444444444444444,
              "#bd3786"
             ],
             [
              0.5555555555555556,
              "#d8576b"
             ],
             [
              0.6666666666666666,
              "#ed7953"
             ],
             [
              0.7777777777777778,
              "#fb9f3a"
             ],
             [
              0.8888888888888888,
              "#fdca26"
             ],
             [
              1,
              "#f0f921"
             ]
            ],
            "type": "histogram2dcontour"
           }
          ],
          "mesh3d": [
           {
            "colorbar": {
             "outlinewidth": 0,
             "ticks": ""
            },
            "type": "mesh3d"
           }
          ],
          "parcoords": [
           {
            "line": {
             "colorbar": {
              "outlinewidth": 0,
              "ticks": ""
             }
            },
            "type": "parcoords"
           }
          ],
          "pie": [
           {
            "automargin": true,
            "type": "pie"
           }
          ],
          "scatter": [
           {
            "marker": {
             "colorbar": {
              "outlinewidth": 0,
              "ticks": ""
             }
            },
            "type": "scatter"
           }
          ],
          "scatter3d": [
           {
            "line": {
             "colorbar": {
              "outlinewidth": 0,
              "ticks": ""
             }
            },
            "marker": {
             "colorbar": {
              "outlinewidth": 0,
              "ticks": ""
             }
            },
            "type": "scatter3d"
           }
          ],
          "scattercarpet": [
           {
            "marker": {
             "colorbar": {
              "outlinewidth": 0,
              "ticks": ""
             }
            },
            "type": "scattercarpet"
           }
          ],
          "scattergeo": [
           {
            "marker": {
             "colorbar": {
              "outlinewidth": 0,
              "ticks": ""
             }
            },
            "type": "scattergeo"
           }
          ],
          "scattergl": [
           {
            "marker": {
             "colorbar": {
              "outlinewidth": 0,
              "ticks": ""
             }
            },
            "type": "scattergl"
           }
          ],
          "scattermapbox": [
           {
            "marker": {
             "colorbar": {
              "outlinewidth": 0,
              "ticks": ""
             }
            },
            "type": "scattermapbox"
           }
          ],
          "scatterpolar": [
           {
            "marker": {
             "colorbar": {
              "outlinewidth": 0,
              "ticks": ""
             }
            },
            "type": "scatterpolar"
           }
          ],
          "scatterpolargl": [
           {
            "marker": {
             "colorbar": {
              "outlinewidth": 0,
              "ticks": ""
             }
            },
            "type": "scatterpolargl"
           }
          ],
          "scatterternary": [
           {
            "marker": {
             "colorbar": {
              "outlinewidth": 0,
              "ticks": ""
             }
            },
            "type": "scatterternary"
           }
          ],
          "surface": [
           {
            "colorbar": {
             "outlinewidth": 0,
             "ticks": ""
            },
            "colorscale": [
             [
              0,
              "#0d0887"
             ],
             [
              0.1111111111111111,
              "#46039f"
             ],
             [
              0.2222222222222222,
              "#7201a8"
             ],
             [
              0.3333333333333333,
              "#9c179e"
             ],
             [
              0.4444444444444444,
              "#bd3786"
             ],
             [
              0.5555555555555556,
              "#d8576b"
             ],
             [
              0.6666666666666666,
              "#ed7953"
             ],
             [
              0.7777777777777778,
              "#fb9f3a"
             ],
             [
              0.8888888888888888,
              "#fdca26"
             ],
             [
              1,
              "#f0f921"
             ]
            ],
            "type": "surface"
           }
          ],
          "table": [
           {
            "cells": {
             "fill": {
              "color": "#EBF0F8"
             },
             "line": {
              "color": "white"
             }
            },
            "header": {
             "fill": {
              "color": "#C8D4E3"
             },
             "line": {
              "color": "white"
             }
            },
            "type": "table"
           }
          ]
         },
         "layout": {
          "annotationdefaults": {
           "arrowcolor": "#2a3f5f",
           "arrowhead": 0,
           "arrowwidth": 1
          },
          "coloraxis": {
           "colorbar": {
            "outlinewidth": 0,
            "ticks": ""
           }
          },
          "colorscale": {
           "diverging": [
            [
             0,
             "#8e0152"
            ],
            [
             0.1,
             "#c51b7d"
            ],
            [
             0.2,
             "#de77ae"
            ],
            [
             0.3,
             "#f1b6da"
            ],
            [
             0.4,
             "#fde0ef"
            ],
            [
             0.5,
             "#f7f7f7"
            ],
            [
             0.6,
             "#e6f5d0"
            ],
            [
             0.7,
             "#b8e186"
            ],
            [
             0.8,
             "#7fbc41"
            ],
            [
             0.9,
             "#4d9221"
            ],
            [
             1,
             "#276419"
            ]
           ],
           "sequential": [
            [
             0,
             "#0d0887"
            ],
            [
             0.1111111111111111,
             "#46039f"
            ],
            [
             0.2222222222222222,
             "#7201a8"
            ],
            [
             0.3333333333333333,
             "#9c179e"
            ],
            [
             0.4444444444444444,
             "#bd3786"
            ],
            [
             0.5555555555555556,
             "#d8576b"
            ],
            [
             0.6666666666666666,
             "#ed7953"
            ],
            [
             0.7777777777777778,
             "#fb9f3a"
            ],
            [
             0.8888888888888888,
             "#fdca26"
            ],
            [
             1,
             "#f0f921"
            ]
           ],
           "sequentialminus": [
            [
             0,
             "#0d0887"
            ],
            [
             0.1111111111111111,
             "#46039f"
            ],
            [
             0.2222222222222222,
             "#7201a8"
            ],
            [
             0.3333333333333333,
             "#9c179e"
            ],
            [
             0.4444444444444444,
             "#bd3786"
            ],
            [
             0.5555555555555556,
             "#d8576b"
            ],
            [
             0.6666666666666666,
             "#ed7953"
            ],
            [
             0.7777777777777778,
             "#fb9f3a"
            ],
            [
             0.8888888888888888,
             "#fdca26"
            ],
            [
             1,
             "#f0f921"
            ]
           ]
          },
          "colorway": [
           "#636efa",
           "#EF553B",
           "#00cc96",
           "#ab63fa",
           "#FFA15A",
           "#19d3f3",
           "#FF6692",
           "#B6E880",
           "#FF97FF",
           "#FECB52"
          ],
          "font": {
           "color": "#2a3f5f"
          },
          "geo": {
           "bgcolor": "white",
           "lakecolor": "white",
           "landcolor": "#E5ECF6",
           "showlakes": true,
           "showland": true,
           "subunitcolor": "white"
          },
          "hoverlabel": {
           "align": "left"
          },
          "hovermode": "closest",
          "mapbox": {
           "style": "light"
          },
          "paper_bgcolor": "white",
          "plot_bgcolor": "#E5ECF6",
          "polar": {
           "angularaxis": {
            "gridcolor": "white",
            "linecolor": "white",
            "ticks": ""
           },
           "bgcolor": "#E5ECF6",
           "radialaxis": {
            "gridcolor": "white",
            "linecolor": "white",
            "ticks": ""
           }
          },
          "scene": {
           "xaxis": {
            "backgroundcolor": "#E5ECF6",
            "gridcolor": "white",
            "gridwidth": 2,
            "linecolor": "white",
            "showbackground": true,
            "ticks": "",
            "zerolinecolor": "white"
           },
           "yaxis": {
            "backgroundcolor": "#E5ECF6",
            "gridcolor": "white",
            "gridwidth": 2,
            "linecolor": "white",
            "showbackground": true,
            "ticks": "",
            "zerolinecolor": "white"
           },
           "zaxis": {
            "backgroundcolor": "#E5ECF6",
            "gridcolor": "white",
            "gridwidth": 2,
            "linecolor": "white",
            "showbackground": true,
            "ticks": "",
            "zerolinecolor": "white"
           }
          },
          "shapedefaults": {
           "line": {
            "color": "#2a3f5f"
           }
          },
          "ternary": {
           "aaxis": {
            "gridcolor": "white",
            "linecolor": "white",
            "ticks": ""
           },
           "baxis": {
            "gridcolor": "white",
            "linecolor": "white",
            "ticks": ""
           },
           "bgcolor": "#E5ECF6",
           "caxis": {
            "gridcolor": "white",
            "linecolor": "white",
            "ticks": ""
           }
          },
          "title": {
           "x": 0.05
          },
          "xaxis": {
           "automargin": true,
           "gridcolor": "white",
           "linecolor": "white",
           "ticks": "",
           "title": {
            "standoff": 15
           },
           "zerolinecolor": "white",
           "zerolinewidth": 2
          },
          "yaxis": {
           "automargin": true,
           "gridcolor": "white",
           "linecolor": "white",
           "ticks": "",
           "title": {
            "standoff": 15
           },
           "zerolinecolor": "white",
           "zerolinewidth": 2
          }
         }
        },
        "xaxis": {
         "anchor": "y",
         "domain": [
          0,
          1
         ],
         "dtick": 0.75,
         "tick0": 0.5,
         "tickmode": "linear",
         "title": {
          "text": "Player-info"
         },
         "type": "category"
        },
        "yaxis": {
         "anchor": "x",
         "domain": [
          0,
          1
         ],
         "title": {
          "text": "Bid Amount ($)"
         }
        }
       }
      },
      "text/html": [
       "<div>\n",
       "        \n",
       "        \n",
       "            <div id=\"d9605bca-c044-4c8c-958b-94c30d038900\" class=\"plotly-graph-div\" style=\"height:500px; width:100%;\"></div>\n",
       "            <script type=\"text/javascript\">\n",
       "                require([\"plotly\"], function(Plotly) {\n",
       "                    window.PLOTLYENV=window.PLOTLYENV || {};\n",
       "                    \n",
       "                if (document.getElementById(\"d9605bca-c044-4c8c-958b-94c30d038900\")) {\n",
       "                    Plotly.newPlot(\n",
       "                        'd9605bca-c044-4c8c-958b-94c30d038900',\n",
       "                        [{\"alignmentgroup\": \"True\", \"hovertemplate\": \"Position=RB<br>Player-info=%{x}<br>Bid Amount ($)=%{y}<extra></extra>\", \"legendgroup\": \"RB\", \"marker\": {\"color\": \"#636efa\"}, \"name\": \"RB\", \"offsetgroup\": \"RB\", \"orientation\": \"v\", \"showlegend\": true, \"textposition\": \"auto\", \"type\": \"bar\", \"x\": [\"Derrick Henry, RB (TEN)\", \"Christian McCaffrey, RB (CAR)\", \"Dalvin Cook, RB (MIN)\", \"Ezekiel Elliott, RB (DAL)\", \"Alvin Kamara, RB (NO)\", \"Saquon Barkley, RB (NYG)\", \"Nick Chubb, RB (CLE)\", \"Jonathan Taylor, RB (IND)\", \"Aaron Jones, RB (GB)\", \"Austin Ekeler, RB (LAC)\", \"Najee Harris, RB (PIT)\", \"Antonio Gibson, RB (WSH)\", \"Joe Mixon, RB (CIN)\", \"Clyde Edwards-Helaire, RB (KC)\", \"James Robinson, RB (JAX)\", \"Miles Sanders, RB (PHI)\", \"David Montgomery, RB (CHI)\", \"D'Andre Swift, RB (DET)\", \"Chris Carson, RB (SEA)\", \"Gus Edwards, RB (BAL)\", \"Darrell Henderson Jr., RB (LAR)\", \"Josh Jacobs, RB (OAK)\", \"Myles Gaskin, RB (MIA)\", \"Mike Davis, RB (ATL)\", \"Kareem Hunt, RB (CLE)\", \"Chase Edmonds, RB (ARI)\", \"Sony Michel, RB (LAR)\", \"Raheem Mostert, RB (SF)\", \"Javonte Williams, RB (DEN)\", \"Melvin Gordon III, RB (DEN)\", \"Damien Harris, RB (NE)\", \"Kenyan Drake, RB (OAK)\", \"Trey Sermon, RB (SF)\", \"Michael Carter, RB (NYJ)\", \"Ronald Jones II, RB (TB)\", \"James Conner, RB (ARI)\", \"AJ Dillon, RB (GB)\", \"Nyheim Hines, RB (IND)\", \"Chuba Hubbard, RB (CAR)\", \"J.D. McKissic, RB (WSH)\", \"Ty'Son Williams, RB (BAL)\", \"Devin Singletary, RB (BUF)\", \"James White, RB (NE)\", \"Leonard Fournette, RB (TB)\", \"Jamaal Williams, RB (DET)\", \"David Johnson, RB (HOU)\", \"Zack Moss, RB (BUF)\"], \"xaxis\": \"x\", \"y\": [84, 83, 70, 70, 68, 63, 61, 58, 56, 54, 51, 49, 40, 36, 33, 30, 30, 29, 28, 22, 17, 16, 14, 12, 10, 7, 7, 6, 6, 5, 5, 3, 3, 3, 2, 2, 2, 1, 1, 1, 1, 1, 1, 1, 1, 1, 1], \"yaxis\": \"y\"}, {\"alignmentgroup\": \"True\", \"hovertemplate\": \"Position=TE<br>Player-info=%{x}<br>Bid Amount ($)=%{y}<extra></extra>\", \"legendgroup\": \"TE\", \"marker\": {\"color\": \"#EF553B\"}, \"name\": \"TE\", \"offsetgroup\": \"TE\", \"orientation\": \"v\", \"showlegend\": true, \"textposition\": \"auto\", \"type\": \"bar\", \"x\": [\"Travis Kelce, TE (KC)\", \"Darren Waller, TE (OAK)\", \"George Kittle, TE (SF)\", \"Mark Andrews, TE (BAL)\", \"Logan Thomas, TE (WSH)\", \"T.J. Hockenson, TE (DET)\", \"Kyle Pitts, TE (ATL)\", \"Noah Fant, TE (DEN)\", \"Dallas Goedert, TE (PHI)\", \"Mike Gesicki, TE (MIA)\", \"Robert Tonyan, TE (GB)\", \"Jonnu Smith, TE (NE)\", \"Tyler Higbee, TE (LAR)\"], \"xaxis\": \"x\", \"y\": [67, 35, 32, 16, 9, 7, 5, 5, 1, 1, 1, 1, 1], \"yaxis\": \"y\"}, {\"alignmentgroup\": \"True\", \"hovertemplate\": \"Position=WR<br>Player-info=%{x}<br>Bid Amount ($)=%{y}<extra></extra>\", \"legendgroup\": \"WR\", \"marker\": {\"color\": \"#00cc96\"}, \"name\": \"WR\", \"offsetgroup\": \"WR\", \"orientation\": \"v\", \"showlegend\": true, \"textposition\": \"auto\", \"type\": \"bar\", \"x\": [\"Davante Adams, WR (GB)\", \"Tyreek Hill, WR (KC)\", \"Stefon Diggs, WR (BUF)\", \"DeAndre Hopkins, WR (ARI)\", \"Calvin Ridley, WR (ATL)\", \"DK Metcalf, WR (SEA)\", \"Justin Jefferson, WR (MIN)\", \"A.J. Brown, WR (TEN)\", \"Keenan Allen, WR (LAC)\", \"Terry McLaurin, WR (WSH)\", \"Robert Woods, WR (LAR)\", \"CeeDee Lamb, WR (DAL)\", \"Mike Evans, WR (TB)\", \"Allen Robinson II, WR (CHI)\", \"Amari Cooper, WR (DAL)\", \"Cooper Kupp, WR (LAR)\", \"Tyler Lockett, WR (SEA)\", \"Adam Thielen, WR (MIN)\", \"Odell Beckham Jr., WR (LAR)\", \"Chris Godwin, WR (TB)\", \"Julio Jones, WR (TEN)\", \"Diontae Johnson, WR (PIT)\", \"DJ Moore, WR (CAR)\", \"Tee Higgins, WR (CIN)\", \"DeVonta Smith, WR (PHI)\", \"Tyler Boyd, WR (CIN)\", \"Kenny Golladay, WR (NYG)\", \"Robby Anderson, WR (CAR)\", \"Courtland Sutton, WR (DEN)\", \"Brandin Cooks, WR (HOU)\", \"Jerry Jeudy, WR (DEN)\", \"JuJu Smith-Schuster, WR (PIT)\", \"Michael Thomas, WR (NO)\", \"Laviska Shenault Jr., WR (JAX)\", \"Chase Claypool, WR (PIT)\", \"William Fuller V, WR (MIA)\", \"Deebo Samuel, WR (SF)\", \"Ja'Marr Chase, WR (CIN)\", \"Jarvis Landry, WR (CLE)\", \"Corey Davis, WR (NYJ)\", \"Michael Pittman Jr., WR (IND)\", \"DJ Chark Jr., WR (JAX)\", \"Michael Gallup, WR (DAL)\", \"Marvin Jones Jr., WR (JAX)\", \"Marquise Brown, WR (BAL)\", \"Antonio Brown, WR (TB)\", \"Mike Williams, WR (LAC)\", \"Jaylen Waddle, WR (MIA)\", \"Russell Gage, WR (ATL)\", \"Mecole Hardman, WR (KC)\", \"Jakobi Meyers, WR (NE)\", \"Curtis Samuel, WR (WSH)\", \"Cole Beasley, WR (BUF)\", \"Marquez Callaway, WR (NO)\", \"Jamison Crowder, WR (NYJ)\", \"Jalen Reagor, WR (PHI)\"], \"xaxis\": \"x\", \"y\": [63, 57, 57, 45, 43, 42, 42, 38, 37, 36, 33, 32, 30, 29, 29, 29, 22, 21, 20, 19, 18, 17, 17, 16, 12, 10, 9, 8, 8, 8, 7, 6, 5, 5, 5, 5, 4, 3, 3, 3, 2, 2, 2, 2, 2, 2, 2, 1, 1, 1, 1, 1, 1, 1, 1, 1], \"yaxis\": \"y\"}, {\"alignmentgroup\": \"True\", \"hovertemplate\": \"Position=QB<br>Player-info=%{x}<br>Bid Amount ($)=%{y}<extra></extra>\", \"legendgroup\": \"QB\", \"marker\": {\"color\": \"#ab63fa\"}, \"name\": \"QB\", \"offsetgroup\": \"QB\", \"orientation\": \"v\", \"showlegend\": true, \"textposition\": \"auto\", \"type\": \"bar\", \"x\": [\"Patrick Mahomes, QB (KC)\", \"Josh Allen, QB (BUF)\", \"Lamar Jackson, QB (BAL)\", \"Aaron Rodgers, QB (GB)\", \"Russell Wilson, QB (SEA)\", \"Dak Prescott, QB (DAL)\", \"Justin Herbert, QB (LAC)\", \"Kyler Murray, QB (ARI)\", \"Ryan Tannehill, QB (TEN)\", \"Tom Brady, QB (TB)\", \"Deshaun Watson, QB (HOU)\", \"Jalen Hurts, QB (PHI)\", \"Matthew Stafford, QB (LAR)\", \"Joe Burrow, QB (CIN)\"], \"xaxis\": \"x\", \"y\": [22, 13, 6, 6, 4, 3, 3, 3, 2, 1, 1, 1, 1, 1], \"yaxis\": \"y\"}, {\"alignmentgroup\": \"True\", \"hovertemplate\": \"Position=K<br>Player-info=%{x}<br>Bid Amount ($)=%{y}<extra></extra>\", \"legendgroup\": \"K\", \"marker\": {\"color\": \"#FFA15A\"}, \"name\": \"K\", \"offsetgroup\": \"K\", \"orientation\": \"v\", \"showlegend\": true, \"textposition\": \"auto\", \"type\": \"bar\", \"x\": [\"Younghoe Koo, K (ATL)\", \"Jason Myers, K (SEA)\", \"Mason Crosby, K (GB)\", \"Harrison Butker, K (KC)\", \"Jason Sanders, K (MIA)\", \"Rodrigo Blankenship, K (IND)\", \"Matt Gay, K (LAR)\", \"Justin Tucker, K (BAL)\", \"Greg Zuerlein, K (DAL)\", \"Brandon McManus, K (DEN)\", \"Graham Gano, K (NYG)\", \"Tyler Bass, K (BUF)\"], \"xaxis\": \"x\", \"y\": [8, 2, 2, 2, 1, 1, 1, 1, 1, 1, 1, 1], \"yaxis\": \"y\"}, {\"alignmentgroup\": \"True\", \"hovertemplate\": \"Position=D/ST<br>Player-info=%{x}<br>Bid Amount ($)=%{y}<extra></extra>\", \"legendgroup\": \"D/ST\", \"marker\": {\"color\": \"#19d3f3\"}, \"name\": \"D/ST\", \"offsetgroup\": \"D/ST\", \"orientation\": \"v\", \"showlegend\": true, \"textposition\": \"auto\", \"type\": \"bar\", \"x\": [\"Rams D/ST, D/ST (LAR)\", \"Washington D/ST, D/ST (WSH)\", \"Ravens D/ST, D/ST (BAL)\", \"Bills D/ST, D/ST (BUF)\", \"Buccaneers D/ST, D/ST (TB)\", \"Giants D/ST, D/ST (NYG)\", \"Dolphins D/ST, D/ST (MIA)\", \"49ers D/ST, D/ST (SF)\", \"Browns D/ST, D/ST (CLE)\", \"Broncos D/ST, D/ST (DEN)\", \"Colts D/ST, D/ST (IND)\", \"Steelers D/ST, D/ST (PIT)\"], \"xaxis\": \"x\", \"y\": [8, 2, 2, 2, 2, 1, 1, 1, 1, 1, 1, 1], \"yaxis\": \"y\"}],\n",
       "                        {\"barmode\": \"relative\", \"font\": {\"size\": 6}, \"height\": 500, \"legend\": {\"title\": {\"text\": \"Position\"}, \"tracegroupgap\": 0}, \"margin\": {\"t\": 60}, \"template\": {\"data\": {\"bar\": [{\"error_x\": {\"color\": \"#2a3f5f\"}, \"error_y\": {\"color\": \"#2a3f5f\"}, \"marker\": {\"line\": {\"color\": \"#E5ECF6\", \"width\": 0.5}}, \"type\": \"bar\"}], \"barpolar\": [{\"marker\": {\"line\": {\"color\": \"#E5ECF6\", \"width\": 0.5}}, \"type\": \"barpolar\"}], \"carpet\": [{\"aaxis\": {\"endlinecolor\": \"#2a3f5f\", \"gridcolor\": \"white\", \"linecolor\": \"white\", \"minorgridcolor\": \"white\", \"startlinecolor\": \"#2a3f5f\"}, \"baxis\": {\"endlinecolor\": \"#2a3f5f\", \"gridcolor\": \"white\", \"linecolor\": \"white\", \"minorgridcolor\": \"white\", \"startlinecolor\": \"#2a3f5f\"}, \"type\": \"carpet\"}], \"choropleth\": [{\"colorbar\": {\"outlinewidth\": 0, \"ticks\": \"\"}, \"type\": \"choropleth\"}], \"contour\": [{\"colorbar\": {\"outlinewidth\": 0, \"ticks\": \"\"}, \"colorscale\": [[0.0, \"#0d0887\"], [0.1111111111111111, \"#46039f\"], [0.2222222222222222, \"#7201a8\"], [0.3333333333333333, \"#9c179e\"], [0.4444444444444444, \"#bd3786\"], [0.5555555555555556, \"#d8576b\"], [0.6666666666666666, \"#ed7953\"], [0.7777777777777778, \"#fb9f3a\"], [0.8888888888888888, \"#fdca26\"], [1.0, \"#f0f921\"]], \"type\": \"contour\"}], \"contourcarpet\": [{\"colorbar\": {\"outlinewidth\": 0, \"ticks\": \"\"}, \"type\": \"contourcarpet\"}], \"heatmap\": [{\"colorbar\": {\"outlinewidth\": 0, \"ticks\": \"\"}, \"colorscale\": [[0.0, \"#0d0887\"], [0.1111111111111111, \"#46039f\"], [0.2222222222222222, \"#7201a8\"], [0.3333333333333333, \"#9c179e\"], [0.4444444444444444, \"#bd3786\"], [0.5555555555555556, \"#d8576b\"], [0.6666666666666666, \"#ed7953\"], [0.7777777777777778, \"#fb9f3a\"], [0.8888888888888888, \"#fdca26\"], [1.0, \"#f0f921\"]], \"type\": \"heatmap\"}], \"heatmapgl\": [{\"colorbar\": {\"outlinewidth\": 0, \"ticks\": \"\"}, \"colorscale\": [[0.0, \"#0d0887\"], [0.1111111111111111, \"#46039f\"], [0.2222222222222222, \"#7201a8\"], [0.3333333333333333, \"#9c179e\"], [0.4444444444444444, \"#bd3786\"], [0.5555555555555556, \"#d8576b\"], [0.6666666666666666, \"#ed7953\"], [0.7777777777777778, \"#fb9f3a\"], [0.8888888888888888, \"#fdca26\"], [1.0, \"#f0f921\"]], \"type\": \"heatmapgl\"}], \"histogram\": [{\"marker\": {\"colorbar\": {\"outlinewidth\": 0, \"ticks\": \"\"}}, \"type\": \"histogram\"}], \"histogram2d\": [{\"colorbar\": {\"outlinewidth\": 0, \"ticks\": \"\"}, \"colorscale\": [[0.0, \"#0d0887\"], [0.1111111111111111, \"#46039f\"], [0.2222222222222222, \"#7201a8\"], [0.3333333333333333, \"#9c179e\"], [0.4444444444444444, \"#bd3786\"], [0.5555555555555556, \"#d8576b\"], [0.6666666666666666, \"#ed7953\"], [0.7777777777777778, \"#fb9f3a\"], [0.8888888888888888, \"#fdca26\"], [1.0, \"#f0f921\"]], \"type\": \"histogram2d\"}], \"histogram2dcontour\": [{\"colorbar\": {\"outlinewidth\": 0, \"ticks\": \"\"}, \"colorscale\": [[0.0, \"#0d0887\"], [0.1111111111111111, \"#46039f\"], [0.2222222222222222, \"#7201a8\"], [0.3333333333333333, \"#9c179e\"], [0.4444444444444444, \"#bd3786\"], [0.5555555555555556, \"#d8576b\"], [0.6666666666666666, \"#ed7953\"], [0.7777777777777778, \"#fb9f3a\"], [0.8888888888888888, \"#fdca26\"], [1.0, \"#f0f921\"]], \"type\": \"histogram2dcontour\"}], \"mesh3d\": [{\"colorbar\": {\"outlinewidth\": 0, \"ticks\": \"\"}, \"type\": \"mesh3d\"}], \"parcoords\": [{\"line\": {\"colorbar\": {\"outlinewidth\": 0, \"ticks\": \"\"}}, \"type\": \"parcoords\"}], \"pie\": [{\"automargin\": true, \"type\": \"pie\"}], \"scatter\": [{\"marker\": {\"colorbar\": {\"outlinewidth\": 0, \"ticks\": \"\"}}, \"type\": \"scatter\"}], \"scatter3d\": [{\"line\": {\"colorbar\": {\"outlinewidth\": 0, \"ticks\": \"\"}}, \"marker\": {\"colorbar\": {\"outlinewidth\": 0, \"ticks\": \"\"}}, \"type\": \"scatter3d\"}], \"scattercarpet\": [{\"marker\": {\"colorbar\": {\"outlinewidth\": 0, \"ticks\": \"\"}}, \"type\": \"scattercarpet\"}], \"scattergeo\": [{\"marker\": {\"colorbar\": {\"outlinewidth\": 0, \"ticks\": \"\"}}, \"type\": \"scattergeo\"}], \"scattergl\": [{\"marker\": {\"colorbar\": {\"outlinewidth\": 0, \"ticks\": \"\"}}, \"type\": \"scattergl\"}], \"scattermapbox\": [{\"marker\": {\"colorbar\": {\"outlinewidth\": 0, \"ticks\": \"\"}}, \"type\": \"scattermapbox\"}], \"scatterpolar\": [{\"marker\": {\"colorbar\": {\"outlinewidth\": 0, \"ticks\": \"\"}}, \"type\": \"scatterpolar\"}], \"scatterpolargl\": [{\"marker\": {\"colorbar\": {\"outlinewidth\": 0, \"ticks\": \"\"}}, \"type\": \"scatterpolargl\"}], \"scatterternary\": [{\"marker\": {\"colorbar\": {\"outlinewidth\": 0, \"ticks\": \"\"}}, \"type\": \"scatterternary\"}], \"surface\": [{\"colorbar\": {\"outlinewidth\": 0, \"ticks\": \"\"}, \"colorscale\": [[0.0, \"#0d0887\"], [0.1111111111111111, \"#46039f\"], [0.2222222222222222, \"#7201a8\"], [0.3333333333333333, \"#9c179e\"], [0.4444444444444444, \"#bd3786\"], [0.5555555555555556, \"#d8576b\"], [0.6666666666666666, \"#ed7953\"], [0.7777777777777778, \"#fb9f3a\"], [0.8888888888888888, \"#fdca26\"], [1.0, \"#f0f921\"]], \"type\": \"surface\"}], \"table\": [{\"cells\": {\"fill\": {\"color\": \"#EBF0F8\"}, \"line\": {\"color\": \"white\"}}, \"header\": {\"fill\": {\"color\": \"#C8D4E3\"}, \"line\": {\"color\": \"white\"}}, \"type\": \"table\"}]}, \"layout\": {\"annotationdefaults\": {\"arrowcolor\": \"#2a3f5f\", \"arrowhead\": 0, \"arrowwidth\": 1}, \"coloraxis\": {\"colorbar\": {\"outlinewidth\": 0, \"ticks\": \"\"}}, \"colorscale\": {\"diverging\": [[0, \"#8e0152\"], [0.1, \"#c51b7d\"], [0.2, \"#de77ae\"], [0.3, \"#f1b6da\"], [0.4, \"#fde0ef\"], [0.5, \"#f7f7f7\"], [0.6, \"#e6f5d0\"], [0.7, \"#b8e186\"], [0.8, \"#7fbc41\"], [0.9, \"#4d9221\"], [1, \"#276419\"]], \"sequential\": [[0.0, \"#0d0887\"], [0.1111111111111111, \"#46039f\"], [0.2222222222222222, \"#7201a8\"], [0.3333333333333333, \"#9c179e\"], [0.4444444444444444, \"#bd3786\"], [0.5555555555555556, \"#d8576b\"], [0.6666666666666666, \"#ed7953\"], [0.7777777777777778, \"#fb9f3a\"], [0.8888888888888888, \"#fdca26\"], [1.0, \"#f0f921\"]], \"sequentialminus\": [[0.0, \"#0d0887\"], [0.1111111111111111, \"#46039f\"], [0.2222222222222222, \"#7201a8\"], [0.3333333333333333, \"#9c179e\"], [0.4444444444444444, \"#bd3786\"], [0.5555555555555556, \"#d8576b\"], [0.6666666666666666, \"#ed7953\"], [0.7777777777777778, \"#fb9f3a\"], [0.8888888888888888, \"#fdca26\"], [1.0, \"#f0f921\"]]}, \"colorway\": [\"#636efa\", \"#EF553B\", \"#00cc96\", \"#ab63fa\", \"#FFA15A\", \"#19d3f3\", \"#FF6692\", \"#B6E880\", \"#FF97FF\", \"#FECB52\"], \"font\": {\"color\": \"#2a3f5f\"}, \"geo\": {\"bgcolor\": \"white\", \"lakecolor\": \"white\", \"landcolor\": \"#E5ECF6\", \"showlakes\": true, \"showland\": true, \"subunitcolor\": \"white\"}, \"hoverlabel\": {\"align\": \"left\"}, \"hovermode\": \"closest\", \"mapbox\": {\"style\": \"light\"}, \"paper_bgcolor\": \"white\", \"plot_bgcolor\": \"#E5ECF6\", \"polar\": {\"angularaxis\": {\"gridcolor\": \"white\", \"linecolor\": \"white\", \"ticks\": \"\"}, \"bgcolor\": \"#E5ECF6\", \"radialaxis\": {\"gridcolor\": \"white\", \"linecolor\": \"white\", \"ticks\": \"\"}}, \"scene\": {\"xaxis\": {\"backgroundcolor\": \"#E5ECF6\", \"gridcolor\": \"white\", \"gridwidth\": 2, \"linecolor\": \"white\", \"showbackground\": true, \"ticks\": \"\", \"zerolinecolor\": \"white\"}, \"yaxis\": {\"backgroundcolor\": \"#E5ECF6\", \"gridcolor\": \"white\", \"gridwidth\": 2, \"linecolor\": \"white\", \"showbackground\": true, \"ticks\": \"\", \"zerolinecolor\": \"white\"}, \"zaxis\": {\"backgroundcolor\": \"#E5ECF6\", \"gridcolor\": \"white\", \"gridwidth\": 2, \"linecolor\": \"white\", \"showbackground\": true, \"ticks\": \"\", \"zerolinecolor\": \"white\"}}, \"shapedefaults\": {\"line\": {\"color\": \"#2a3f5f\"}}, \"ternary\": {\"aaxis\": {\"gridcolor\": \"white\", \"linecolor\": \"white\", \"ticks\": \"\"}, \"baxis\": {\"gridcolor\": \"white\", \"linecolor\": \"white\", \"ticks\": \"\"}, \"bgcolor\": \"#E5ECF6\", \"caxis\": {\"gridcolor\": \"white\", \"linecolor\": \"white\", \"ticks\": \"\"}}, \"title\": {\"x\": 0.05}, \"xaxis\": {\"automargin\": true, \"gridcolor\": \"white\", \"linecolor\": \"white\", \"ticks\": \"\", \"title\": {\"standoff\": 15}, \"zerolinecolor\": \"white\", \"zerolinewidth\": 2}, \"yaxis\": {\"automargin\": true, \"gridcolor\": \"white\", \"linecolor\": \"white\", \"ticks\": \"\", \"title\": {\"standoff\": 15}, \"zerolinecolor\": \"white\", \"zerolinewidth\": 2}}}, \"xaxis\": {\"anchor\": \"y\", \"domain\": [0.0, 1.0], \"dtick\": 0.75, \"tick0\": 0.5, \"tickmode\": \"linear\", \"title\": {\"text\": \"Player-info\"}, \"type\": \"category\"}, \"yaxis\": {\"anchor\": \"x\", \"domain\": [0.0, 1.0], \"title\": {\"text\": \"Bid Amount ($)\"}}},\n",
       "                        {\"responsive\": true}\n",
       "                    ).then(function(){\n",
       "                            \n",
       "var gd = document.getElementById('d9605bca-c044-4c8c-958b-94c30d038900');\n",
       "var x = new MutationObserver(function (mutations, observer) {{\n",
       "        var display = window.getComputedStyle(gd).display;\n",
       "        if (!display || display === 'none') {{\n",
       "            console.log([gd, 'removed!']);\n",
       "            Plotly.purge(gd);\n",
       "            observer.disconnect();\n",
       "        }}\n",
       "}});\n",
       "\n",
       "// Listen for the removal of the full notebook cells\n",
       "var notebookContainer = gd.closest('#notebook-container');\n",
       "if (notebookContainer) {{\n",
       "    x.observe(notebookContainer, {childList: true});\n",
       "}}\n",
       "\n",
       "// Listen for the clearing of the current output cell\n",
       "var outputEl = gd.closest('.output');\n",
       "if (outputEl) {{\n",
       "    x.observe(outputEl, {childList: true});\n",
       "}}\n",
       "\n",
       "                        })\n",
       "                };\n",
       "                });\n",
       "            </script>\n",
       "        </div>"
      ]
     },
     "metadata": {},
     "output_type": "display_data"
    }
   ],
   "source": [
    "import plotly \n",
    "from chart_studio import plotly\n",
    "import plotly.graph_objs as go\n",
    "\n",
    "\n",
    "fig = px.bar(df_stints_f_draft, x=\"Player-info\", y='Bid Amount ($)', color='Position',\n",
    "             height=500)\n",
    "\n",
    "fig.update_layout(xaxis=dict(type='category'))\n",
    "\n",
    "fig.update_layout(\n",
    "    xaxis = dict(\n",
    "        tickmode = 'linear',\n",
    "        tick0 = 0.5,\n",
    "        dtick = 0.75\n",
    "    ),\n",
    "    font=dict(\n",
    "        size=6))\n",
    "\n",
    "fig.show()"
   ]
  },
  {
   "cell_type": "markdown",
   "metadata": {},
   "source": [
    "## Waiver Wire Scatterplot"
   ]
  },
  {
   "cell_type": "code",
   "execution_count": 177,
   "metadata": {},
   "outputs": [],
   "source": [
    "df_stints_f_waiver = df_stints_f[df_stints_f['Action'] == 'WAIVER']\n",
    "\n",
    "df_stints_f_waiver = df_stints_f_waiver[df_stints_f_waiver['Position'].isin(['RB','WR','TE'])]"
   ]
  },
  {
   "cell_type": "code",
   "execution_count": 178,
   "metadata": {},
   "outputs": [
    {
     "data": {
      "text/html": [
       "<div>\n",
       "<style scoped>\n",
       "    .dataframe tbody tr th:only-of-type {\n",
       "        vertical-align: middle;\n",
       "    }\n",
       "\n",
       "    .dataframe tbody tr th {\n",
       "        vertical-align: top;\n",
       "    }\n",
       "\n",
       "    .dataframe thead th {\n",
       "        text-align: right;\n",
       "    }\n",
       "</style>\n",
       "<table border=\"1\" class=\"dataframe\">\n",
       "  <thead>\n",
       "    <tr style=\"text-align: right;\">\n",
       "      <th></th>\n",
       "      <th>Player</th>\n",
       "      <th>Position</th>\n",
       "      <th>Team</th>\n",
       "      <th>ProTeam</th>\n",
       "      <th>Action</th>\n",
       "      <th>Bid Amount ($)</th>\n",
       "      <th>Stint (wks)</th>\n",
       "      <th>Total points</th>\n",
       "      <th>Player-info</th>\n",
       "    </tr>\n",
       "    <tr>\n",
       "      <th>Stint</th>\n",
       "      <th></th>\n",
       "      <th></th>\n",
       "      <th></th>\n",
       "      <th></th>\n",
       "      <th></th>\n",
       "      <th></th>\n",
       "      <th></th>\n",
       "      <th></th>\n",
       "      <th></th>\n",
       "    </tr>\n",
       "  </thead>\n",
       "  <tbody>\n",
       "    <tr>\n",
       "      <th>45</th>\n",
       "      <td>Cordarrelle Patterson</td>\n",
       "      <td>RB</td>\n",
       "      <td>More than a  Thielen</td>\n",
       "      <td>ATL</td>\n",
       "      <td>WAIVER</td>\n",
       "      <td>12</td>\n",
       "      <td>[3, 4, 5, 7, 8, 9, 10, 11, 12, 13, 14, 15, 16,...</td>\n",
       "      <td>177.8</td>\n",
       "      <td>Cordarrelle Patterson, RB (ATL)</td>\n",
       "    </tr>\n",
       "    <tr>\n",
       "      <th>49</th>\n",
       "      <td>James Conner</td>\n",
       "      <td>RB</td>\n",
       "      <td>Don't Ekele Me</td>\n",
       "      <td>ARI</td>\n",
       "      <td>WAIVER</td>\n",
       "      <td>21</td>\n",
       "      <td>[5, 6, 7, 8, 9, 10, 11, 13, 14, 15, 16, 17]</td>\n",
       "      <td>169.6</td>\n",
       "      <td>James Conner, RB (ARI)</td>\n",
       "    </tr>\n",
       "    <tr>\n",
       "      <th>55</th>\n",
       "      <td>Marquise Brown</td>\n",
       "      <td>WR</td>\n",
       "      <td>Tasteful Dak Piks, by CMC</td>\n",
       "      <td>BAL</td>\n",
       "      <td>WAIVER</td>\n",
       "      <td>5</td>\n",
       "      <td>[2, 3, 4, 5, 6, 7, 9, 10, 11, 12, 13, 14, 15, ...</td>\n",
       "      <td>160.2</td>\n",
       "      <td>Marquise Brown, WR (BAL)</td>\n",
       "    </tr>\n",
       "    <tr>\n",
       "      <th>58</th>\n",
       "      <td>Hunter Renfrow</td>\n",
       "      <td>WR</td>\n",
       "      <td>Godwin's Memorial</td>\n",
       "      <td>OAK</td>\n",
       "      <td>WAIVER</td>\n",
       "      <td>2</td>\n",
       "      <td>[4, 5, 6, 7, 9, 10, 11, 12, 13, 14, 15, 16, 17]</td>\n",
       "      <td>158.3</td>\n",
       "      <td>Hunter Renfrow, WR (OAK)</td>\n",
       "    </tr>\n",
       "    <tr>\n",
       "      <th>68</th>\n",
       "      <td>Elijah Mitchell</td>\n",
       "      <td>RB</td>\n",
       "      <td>Fumble .</td>\n",
       "      <td>SF</td>\n",
       "      <td>WAIVER</td>\n",
       "      <td>30</td>\n",
       "      <td>[2, 3, 4, 5, 7, 8, 9, 10, 11, 12, 13, 14, 15, ...</td>\n",
       "      <td>130.6</td>\n",
       "      <td>Elijah Mitchell, RB (SF)</td>\n",
       "    </tr>\n",
       "    <tr>\n",
       "      <th>...</th>\n",
       "      <td>...</td>\n",
       "      <td>...</td>\n",
       "      <td>...</td>\n",
       "      <td>...</td>\n",
       "      <td>...</td>\n",
       "      <td>...</td>\n",
       "      <td>...</td>\n",
       "      <td>...</td>\n",
       "      <td>...</td>\n",
       "    </tr>\n",
       "    <tr>\n",
       "      <th>444</th>\n",
       "      <td>Derrick Henry</td>\n",
       "      <td>RB</td>\n",
       "      <td>Tasteful Dak Piks, by CMC</td>\n",
       "      <td>TEN</td>\n",
       "      <td>WAIVER</td>\n",
       "      <td>1</td>\n",
       "      <td>[9, 10, 11, 12, 14, 15, 16, 17]</td>\n",
       "      <td>0.0</td>\n",
       "      <td>Derrick Henry, RB (TEN)</td>\n",
       "    </tr>\n",
       "    <tr>\n",
       "      <th>445</th>\n",
       "      <td>Rob Gronkowski</td>\n",
       "      <td>TE</td>\n",
       "      <td>Dick Cheese</td>\n",
       "      <td>TB</td>\n",
       "      <td>WAIVER</td>\n",
       "      <td>6</td>\n",
       "      <td>[]</td>\n",
       "      <td>0.0</td>\n",
       "      <td>Rob Gronkowski, TE (TB)</td>\n",
       "    </tr>\n",
       "    <tr>\n",
       "      <th>447</th>\n",
       "      <td>Tyler Conklin</td>\n",
       "      <td>TE</td>\n",
       "      <td>Don't Ekele Me</td>\n",
       "      <td>MIN</td>\n",
       "      <td>WAIVER</td>\n",
       "      <td>1</td>\n",
       "      <td>[]</td>\n",
       "      <td>0.0</td>\n",
       "      <td>Tyler Conklin, TE (MIN)</td>\n",
       "    </tr>\n",
       "    <tr>\n",
       "      <th>448</th>\n",
       "      <td>J.D. McKissic</td>\n",
       "      <td>RB</td>\n",
       "      <td>Tasteful Dak Piks, by CMC</td>\n",
       "      <td>WSH</td>\n",
       "      <td>WAIVER</td>\n",
       "      <td>2</td>\n",
       "      <td>[13, 14, 15]</td>\n",
       "      <td>0.0</td>\n",
       "      <td>J.D. McKissic, RB (WSH)</td>\n",
       "    </tr>\n",
       "    <tr>\n",
       "      <th>449</th>\n",
       "      <td>T.Y. Hilton</td>\n",
       "      <td>WR</td>\n",
       "      <td>Dick Cheese</td>\n",
       "      <td>IND</td>\n",
       "      <td>WAIVER</td>\n",
       "      <td>1</td>\n",
       "      <td>[]</td>\n",
       "      <td>0.0</td>\n",
       "      <td>T.Y. Hilton, WR (IND)</td>\n",
       "    </tr>\n",
       "  </tbody>\n",
       "</table>\n",
       "<p>168 rows × 9 columns</p>\n",
       "</div>"
      ],
      "text/plain": [
       "                      Player Position                       Team ProTeam  \\\n",
       "Stint                                                                      \n",
       "45     Cordarrelle Patterson       RB       More than a  Thielen     ATL   \n",
       "49              James Conner       RB             Don't Ekele Me     ARI   \n",
       "55            Marquise Brown       WR  Tasteful Dak Piks, by CMC     BAL   \n",
       "58            Hunter Renfrow       WR          Godwin's Memorial     OAK   \n",
       "68           Elijah Mitchell       RB                   Fumble .      SF   \n",
       "...                      ...      ...                        ...     ...   \n",
       "444            Derrick Henry       RB  Tasteful Dak Piks, by CMC     TEN   \n",
       "445           Rob Gronkowski       TE                Dick Cheese      TB   \n",
       "447            Tyler Conklin       TE             Don't Ekele Me     MIN   \n",
       "448            J.D. McKissic       RB  Tasteful Dak Piks, by CMC     WSH   \n",
       "449              T.Y. Hilton       WR                Dick Cheese     IND   \n",
       "\n",
       "       Action Bid Amount ($)  \\\n",
       "Stint                          \n",
       "45     WAIVER             12   \n",
       "49     WAIVER             21   \n",
       "55     WAIVER              5   \n",
       "58     WAIVER              2   \n",
       "68     WAIVER             30   \n",
       "...       ...            ...   \n",
       "444    WAIVER              1   \n",
       "445    WAIVER              6   \n",
       "447    WAIVER              1   \n",
       "448    WAIVER              2   \n",
       "449    WAIVER              1   \n",
       "\n",
       "                                             Stint (wks)  Total points  \\\n",
       "Stint                                                                    \n",
       "45     [3, 4, 5, 7, 8, 9, 10, 11, 12, 13, 14, 15, 16,...         177.8   \n",
       "49           [5, 6, 7, 8, 9, 10, 11, 13, 14, 15, 16, 17]         169.6   \n",
       "55     [2, 3, 4, 5, 6, 7, 9, 10, 11, 12, 13, 14, 15, ...         160.2   \n",
       "58       [4, 5, 6, 7, 9, 10, 11, 12, 13, 14, 15, 16, 17]         158.3   \n",
       "68     [2, 3, 4, 5, 7, 8, 9, 10, 11, 12, 13, 14, 15, ...         130.6   \n",
       "...                                                  ...           ...   \n",
       "444                      [9, 10, 11, 12, 14, 15, 16, 17]           0.0   \n",
       "445                                                   []           0.0   \n",
       "447                                                   []           0.0   \n",
       "448                                         [13, 14, 15]           0.0   \n",
       "449                                                   []           0.0   \n",
       "\n",
       "                           Player-info  \n",
       "Stint                                   \n",
       "45     Cordarrelle Patterson, RB (ATL)  \n",
       "49              James Conner, RB (ARI)  \n",
       "55            Marquise Brown, WR (BAL)  \n",
       "58            Hunter Renfrow, WR (OAK)  \n",
       "68            Elijah Mitchell, RB (SF)  \n",
       "...                                ...  \n",
       "444            Derrick Henry, RB (TEN)  \n",
       "445            Rob Gronkowski, TE (TB)  \n",
       "447            Tyler Conklin, TE (MIN)  \n",
       "448            J.D. McKissic, RB (WSH)  \n",
       "449              T.Y. Hilton, WR (IND)  \n",
       "\n",
       "[168 rows x 9 columns]"
      ]
     },
     "execution_count": 178,
     "metadata": {},
     "output_type": "execute_result"
    }
   ],
   "source": [
    "df_stints_f_waiver"
   ]
  },
  {
   "cell_type": "code",
   "execution_count": 179,
   "metadata": {},
   "outputs": [],
   "source": [
    "df_stints_f_waiver = df_stints_f_waiver[df_stints_f_waiver['Position'].isin(['RB','WR','TE'])]"
   ]
  },
  {
   "cell_type": "code",
   "execution_count": 180,
   "metadata": {},
   "outputs": [
    {
     "data": {
      "text/html": [
       "<div>\n",
       "<style scoped>\n",
       "    .dataframe tbody tr th:only-of-type {\n",
       "        vertical-align: middle;\n",
       "    }\n",
       "\n",
       "    .dataframe tbody tr th {\n",
       "        vertical-align: top;\n",
       "    }\n",
       "\n",
       "    .dataframe thead th {\n",
       "        text-align: right;\n",
       "    }\n",
       "</style>\n",
       "<table border=\"1\" class=\"dataframe\">\n",
       "  <thead>\n",
       "    <tr style=\"text-align: right;\">\n",
       "      <th></th>\n",
       "      <th>Player</th>\n",
       "      <th>Position</th>\n",
       "      <th>Team</th>\n",
       "      <th>ProTeam</th>\n",
       "      <th>Action</th>\n",
       "      <th>Bid Amount ($)</th>\n",
       "      <th>Stint (wks)</th>\n",
       "      <th>Total points</th>\n",
       "      <th>Player-info</th>\n",
       "    </tr>\n",
       "    <tr>\n",
       "      <th>Stint</th>\n",
       "      <th></th>\n",
       "      <th></th>\n",
       "      <th></th>\n",
       "      <th></th>\n",
       "      <th></th>\n",
       "      <th></th>\n",
       "      <th></th>\n",
       "      <th></th>\n",
       "      <th></th>\n",
       "    </tr>\n",
       "  </thead>\n",
       "  <tbody>\n",
       "    <tr>\n",
       "      <th>184</th>\n",
       "      <td>Jeff Wilson Jr.</td>\n",
       "      <td>RB</td>\n",
       "      <td>Your Antivax Cousins</td>\n",
       "      <td>SF</td>\n",
       "      <td>WAIVER</td>\n",
       "      <td>1</td>\n",
       "      <td>[15, 16, 17]</td>\n",
       "      <td>32.1</td>\n",
       "      <td>Jeff Wilson Jr., RB (SF)</td>\n",
       "    </tr>\n",
       "    <tr>\n",
       "      <th>321</th>\n",
       "      <td>Jeff Wilson Jr.</td>\n",
       "      <td>RB</td>\n",
       "      <td>More than a  Thielen</td>\n",
       "      <td>SF</td>\n",
       "      <td>WAIVER</td>\n",
       "      <td>5</td>\n",
       "      <td>[11, 12]</td>\n",
       "      <td>7.5</td>\n",
       "      <td>Jeff Wilson Jr., RB (SF)</td>\n",
       "    </tr>\n",
       "    <tr>\n",
       "      <th>340</th>\n",
       "      <td>Jeff Wilson Jr.</td>\n",
       "      <td>RB</td>\n",
       "      <td>Dick Cheese</td>\n",
       "      <td>SF</td>\n",
       "      <td>WAIVER</td>\n",
       "      <td>1</td>\n",
       "      <td>[14]</td>\n",
       "      <td>5.6</td>\n",
       "      <td>Jeff Wilson Jr., RB (SF)</td>\n",
       "    </tr>\n",
       "    <tr>\n",
       "      <th>431</th>\n",
       "      <td>Jeff Wilson Jr.</td>\n",
       "      <td>RB</td>\n",
       "      <td>Dick Cheese</td>\n",
       "      <td>SF</td>\n",
       "      <td>WAIVER</td>\n",
       "      <td>0</td>\n",
       "      <td>[2, 3, 4, 5]</td>\n",
       "      <td>0.0</td>\n",
       "      <td>Jeff Wilson Jr., RB (SF)</td>\n",
       "    </tr>\n",
       "    <tr>\n",
       "      <th>438</th>\n",
       "      <td>Jeff Wilson Jr.</td>\n",
       "      <td>RB</td>\n",
       "      <td>Dick Cheese</td>\n",
       "      <td>SF</td>\n",
       "      <td>WAIVER</td>\n",
       "      <td>4</td>\n",
       "      <td>[9]</td>\n",
       "      <td>0.0</td>\n",
       "      <td>Jeff Wilson Jr., RB (SF)</td>\n",
       "    </tr>\n",
       "  </tbody>\n",
       "</table>\n",
       "</div>"
      ],
      "text/plain": [
       "                Player Position                  Team ProTeam  Action  \\\n",
       "Stint                                                                   \n",
       "184    Jeff Wilson Jr.       RB  Your Antivax Cousins      SF  WAIVER   \n",
       "321    Jeff Wilson Jr.       RB  More than a  Thielen      SF  WAIVER   \n",
       "340    Jeff Wilson Jr.       RB           Dick Cheese      SF  WAIVER   \n",
       "431    Jeff Wilson Jr.       RB           Dick Cheese      SF  WAIVER   \n",
       "438    Jeff Wilson Jr.       RB           Dick Cheese      SF  WAIVER   \n",
       "\n",
       "      Bid Amount ($)   Stint (wks)  Total points               Player-info  \n",
       "Stint                                                                       \n",
       "184                1  [15, 16, 17]          32.1  Jeff Wilson Jr., RB (SF)  \n",
       "321                5      [11, 12]           7.5  Jeff Wilson Jr., RB (SF)  \n",
       "340                1          [14]           5.6  Jeff Wilson Jr., RB (SF)  \n",
       "431                0  [2, 3, 4, 5]           0.0  Jeff Wilson Jr., RB (SF)  \n",
       "438                4           [9]           0.0  Jeff Wilson Jr., RB (SF)  "
      ]
     },
     "execution_count": 180,
     "metadata": {},
     "output_type": "execute_result"
    }
   ],
   "source": [
    "df_stints_f_waiver[df_stints_f_waiver['Player'].str.contains('Jeff Wilson')]\n",
    "# df_stints_f_waiver = df_stints_f_waiver[~(df_stints_f_waiver['Stint (wks)'].apply(lambda c: c==[]))]"
   ]
  },
  {
   "cell_type": "code",
   "execution_count": 181,
   "metadata": {},
   "outputs": [],
   "source": [
    "\n",
    "\n",
    "df_stints_f_waiver = df_stints_f_waiver[df_stints_f_waiver['Stint (wks)'].apply(lambda x: get_bool_len(x))]"
   ]
  },
  {
   "cell_type": "code",
   "execution_count": 182,
   "metadata": {},
   "outputs": [
    {
     "data": {
      "text/html": [
       "<div>\n",
       "<style scoped>\n",
       "    .dataframe tbody tr th:only-of-type {\n",
       "        vertical-align: middle;\n",
       "    }\n",
       "\n",
       "    .dataframe tbody tr th {\n",
       "        vertical-align: top;\n",
       "    }\n",
       "\n",
       "    .dataframe thead th {\n",
       "        text-align: right;\n",
       "    }\n",
       "</style>\n",
       "<table border=\"1\" class=\"dataframe\">\n",
       "  <thead>\n",
       "    <tr style=\"text-align: right;\">\n",
       "      <th></th>\n",
       "      <th>Player</th>\n",
       "      <th>Position</th>\n",
       "      <th>Team</th>\n",
       "      <th>ProTeam</th>\n",
       "      <th>Action</th>\n",
       "      <th>Bid Amount ($)</th>\n",
       "      <th>Stint (wks)</th>\n",
       "      <th>Total points</th>\n",
       "      <th>Player-info</th>\n",
       "    </tr>\n",
       "    <tr>\n",
       "      <th>Stint</th>\n",
       "      <th></th>\n",
       "      <th></th>\n",
       "      <th></th>\n",
       "      <th></th>\n",
       "      <th></th>\n",
       "      <th></th>\n",
       "      <th></th>\n",
       "      <th></th>\n",
       "      <th></th>\n",
       "    </tr>\n",
       "  </thead>\n",
       "  <tbody>\n",
       "    <tr>\n",
       "      <th>184</th>\n",
       "      <td>Jeff Wilson Jr.</td>\n",
       "      <td>RB</td>\n",
       "      <td>Your Antivax Cousins</td>\n",
       "      <td>SF</td>\n",
       "      <td>WAIVER</td>\n",
       "      <td>1</td>\n",
       "      <td>[15, 16, 17]</td>\n",
       "      <td>32.1</td>\n",
       "      <td>Jeff Wilson Jr., RB (SF)</td>\n",
       "    </tr>\n",
       "    <tr>\n",
       "      <th>321</th>\n",
       "      <td>Jeff Wilson Jr.</td>\n",
       "      <td>RB</td>\n",
       "      <td>More than a  Thielen</td>\n",
       "      <td>SF</td>\n",
       "      <td>WAIVER</td>\n",
       "      <td>5</td>\n",
       "      <td>[11, 12]</td>\n",
       "      <td>7.5</td>\n",
       "      <td>Jeff Wilson Jr., RB (SF)</td>\n",
       "    </tr>\n",
       "    <tr>\n",
       "      <th>431</th>\n",
       "      <td>Jeff Wilson Jr.</td>\n",
       "      <td>RB</td>\n",
       "      <td>Dick Cheese</td>\n",
       "      <td>SF</td>\n",
       "      <td>WAIVER</td>\n",
       "      <td>0</td>\n",
       "      <td>[2, 3, 4, 5]</td>\n",
       "      <td>0.0</td>\n",
       "      <td>Jeff Wilson Jr., RB (SF)</td>\n",
       "    </tr>\n",
       "  </tbody>\n",
       "</table>\n",
       "</div>"
      ],
      "text/plain": [
       "                Player Position                  Team ProTeam  Action  \\\n",
       "Stint                                                                   \n",
       "184    Jeff Wilson Jr.       RB  Your Antivax Cousins      SF  WAIVER   \n",
       "321    Jeff Wilson Jr.       RB  More than a  Thielen      SF  WAIVER   \n",
       "431    Jeff Wilson Jr.       RB           Dick Cheese      SF  WAIVER   \n",
       "\n",
       "      Bid Amount ($)   Stint (wks)  Total points               Player-info  \n",
       "Stint                                                                       \n",
       "184                1  [15, 16, 17]          32.1  Jeff Wilson Jr., RB (SF)  \n",
       "321                5      [11, 12]           7.5  Jeff Wilson Jr., RB (SF)  \n",
       "431                0  [2, 3, 4, 5]           0.0  Jeff Wilson Jr., RB (SF)  "
      ]
     },
     "execution_count": 182,
     "metadata": {},
     "output_type": "execute_result"
    }
   ],
   "source": [
    "df_stints_f_waiver[df_stints_f_waiver\n",
    "                   ['Player'] == 'Jeff Wilson Jr.']"
   ]
  },
  {
   "cell_type": "code",
   "execution_count": 183,
   "metadata": {},
   "outputs": [
    {
     "data": {
      "text/html": [
       "<div>\n",
       "<style scoped>\n",
       "    .dataframe tbody tr th:only-of-type {\n",
       "        vertical-align: middle;\n",
       "    }\n",
       "\n",
       "    .dataframe tbody tr th {\n",
       "        vertical-align: top;\n",
       "    }\n",
       "\n",
       "    .dataframe thead th {\n",
       "        text-align: right;\n",
       "    }\n",
       "</style>\n",
       "<table border=\"1\" class=\"dataframe\">\n",
       "  <thead>\n",
       "    <tr style=\"text-align: right;\">\n",
       "      <th></th>\n",
       "      <th>Player</th>\n",
       "      <th>Position</th>\n",
       "      <th>Team</th>\n",
       "      <th>ProTeam</th>\n",
       "      <th>Action</th>\n",
       "      <th>Bid Amount ($)</th>\n",
       "      <th>Stint (wks)</th>\n",
       "      <th>Total points</th>\n",
       "      <th>Player-info</th>\n",
       "    </tr>\n",
       "    <tr>\n",
       "      <th>Stint</th>\n",
       "      <th></th>\n",
       "      <th></th>\n",
       "      <th></th>\n",
       "      <th></th>\n",
       "      <th></th>\n",
       "      <th></th>\n",
       "      <th></th>\n",
       "      <th></th>\n",
       "      <th></th>\n",
       "    </tr>\n",
       "  </thead>\n",
       "  <tbody>\n",
       "    <tr>\n",
       "      <th>184</th>\n",
       "      <td>Jeff Wilson Jr.</td>\n",
       "      <td>RB</td>\n",
       "      <td>Your Antivax Cousins</td>\n",
       "      <td>SF</td>\n",
       "      <td>WAIVER</td>\n",
       "      <td>1</td>\n",
       "      <td>[15, 16, 17]</td>\n",
       "      <td>32.1</td>\n",
       "      <td>Jeff Wilson Jr., RB (SF)</td>\n",
       "    </tr>\n",
       "    <tr>\n",
       "      <th>321</th>\n",
       "      <td>Jeff Wilson Jr.</td>\n",
       "      <td>RB</td>\n",
       "      <td>More than a  Thielen</td>\n",
       "      <td>SF</td>\n",
       "      <td>WAIVER</td>\n",
       "      <td>5</td>\n",
       "      <td>[11, 12]</td>\n",
       "      <td>7.5</td>\n",
       "      <td>Jeff Wilson Jr., RB (SF)</td>\n",
       "    </tr>\n",
       "    <tr>\n",
       "      <th>431</th>\n",
       "      <td>Jeff Wilson Jr.</td>\n",
       "      <td>RB</td>\n",
       "      <td>Dick Cheese</td>\n",
       "      <td>SF</td>\n",
       "      <td>WAIVER</td>\n",
       "      <td>0</td>\n",
       "      <td>[2, 3, 4, 5]</td>\n",
       "      <td>0.0</td>\n",
       "      <td>Jeff Wilson Jr., RB (SF)</td>\n",
       "    </tr>\n",
       "  </tbody>\n",
       "</table>\n",
       "</div>"
      ],
      "text/plain": [
       "                Player Position                  Team ProTeam  Action  \\\n",
       "Stint                                                                   \n",
       "184    Jeff Wilson Jr.       RB  Your Antivax Cousins      SF  WAIVER   \n",
       "321    Jeff Wilson Jr.       RB  More than a  Thielen      SF  WAIVER   \n",
       "431    Jeff Wilson Jr.       RB           Dick Cheese      SF  WAIVER   \n",
       "\n",
       "      Bid Amount ($)   Stint (wks)  Total points               Player-info  \n",
       "Stint                                                                       \n",
       "184                1  [15, 16, 17]          32.1  Jeff Wilson Jr., RB (SF)  \n",
       "321                5      [11, 12]           7.5  Jeff Wilson Jr., RB (SF)  \n",
       "431                0  [2, 3, 4, 5]           0.0  Jeff Wilson Jr., RB (SF)  "
      ]
     },
     "execution_count": 183,
     "metadata": {},
     "output_type": "execute_result"
    }
   ],
   "source": [
    "df_stints_f_waiver1[df_stints_f_waiver1['Player'] == 'Jeff Wilson Jr.']"
   ]
  },
  {
   "cell_type": "code",
   "execution_count": 194,
   "metadata": {},
   "outputs": [
    {
     "data": {
      "application/vnd.plotly.v1+json": {
       "config": {
        "plotlyServerURL": "https://plot.ly"
       },
       "data": [
        {
         "customdata": [
          [
           "More than a  Thielen",
           12,
           177.8,
           [
            3,
            4,
            5,
            7,
            8,
            9,
            10,
            11,
            12,
            13,
            14,
            15,
            16,
            17
           ]
          ],
          [
           "More than a  Thielen",
           4,
           71.5,
           [
            11,
            12,
            13,
            14,
            15,
            16,
            17
           ]
          ],
          [
           "More than a  Thielen",
           11,
           64.3,
           [
            10,
            12,
            13,
            14,
            15,
            16,
            17
           ]
          ],
          [
           "More than a  Thielen",
           2,
           34.8,
           [
            8,
            9,
            10,
            11
           ]
          ],
          [
           "More than a  Thielen",
           1,
           26.8,
           [
            13,
            14,
            15,
            16,
            17
           ]
          ],
          [
           "More than a  Thielen",
           2,
           26.3,
           [
            14,
            15,
            16,
            17
           ]
          ],
          [
           "More than a  Thielen",
           28,
           22.9,
           [
            3,
            4,
            5,
            6
           ]
          ],
          [
           "More than a  Thielen",
           3,
           19.1,
           [
            7,
            8,
            9,
            10
           ]
          ],
          [
           "More than a  Thielen",
           3,
           16.3,
           [
            5,
            6
           ]
          ],
          [
           "More than a  Thielen",
           5,
           7.5,
           [
            11,
            12
           ]
          ]
         ],
         "hovertemplate": "<b>%{hovertext}</b><br><br>Team=%{customdata[0]}<br>Bid Amount ($)=%{customdata[1]}<br>Total points=%{customdata[2]}<br>Stint (wks)=%{customdata[3]}<extra></extra>",
         "hovertext": [
          "Cordarrelle Patterson, RB (ATL)",
          "Devonta Freeman, RB (BAL)",
          "Van Jefferson, WR (LAR)",
          "Tyler Conklin, TE (MIN)",
          "Foster Moreau, TE (OAK)",
          "Jalen Guyton, WR (LAC)",
          "Rondale Moore, WR (ARI)",
          "Mecole Hardman, WR (KC)",
          "Samaje Perine, RB (CIN)",
          "Jeff Wilson Jr., RB (SF)"
         ],
         "legendgroup": "More than a  Thielen",
         "marker": {
          "color": "#636efa",
          "symbol": "circle"
         },
         "mode": "markers",
         "name": "More than a  Thielen",
         "showlegend": true,
         "type": "scatter",
         "x": [
          12,
          4,
          11,
          2,
          1,
          2,
          28,
          3,
          3,
          5
         ],
         "xaxis": "x",
         "y": [
          177.8,
          71.5,
          64.3,
          34.8,
          26.8,
          26.3,
          22.9,
          19.1,
          16.3,
          7.5
         ],
         "yaxis": "y"
        },
        {
         "customdata": [
          [
           "Don't Ekele Me",
           21,
           169.6,
           [
            5,
            6,
            7,
            8,
            9,
            10,
            11,
            13,
            14,
            15,
            16,
            17
           ]
          ],
          [
           "Don't Ekele Me",
           1,
           105.1,
           [
            4,
            5,
            6,
            8,
            9,
            10,
            11,
            12,
            13,
            14,
            15,
            16,
            17
           ]
          ],
          [
           "Don't Ekele Me",
           1,
           95.1,
           [
            7,
            8,
            9,
            10,
            11,
            12,
            13,
            14,
            15,
            16,
            17
           ]
          ],
          [
           "Don't Ekele Me",
           0,
           87.6,
           [
            1,
            2,
            3,
            4,
            5,
            6,
            8,
            9,
            10,
            11
           ]
          ],
          [
           "Don't Ekele Me",
           3,
           17.2,
           [
            12,
            13,
            14
           ]
          ],
          [
           "Don't Ekele Me",
           1,
           15.1,
           [
            12,
            13,
            14,
            15
           ]
          ],
          [
           "Don't Ekele Me",
           1,
           14.3,
           [
            6,
            7
           ]
          ],
          [
           "Don't Ekele Me",
           1,
           10.3,
           [
            7,
            8
           ]
          ],
          [
           "Don't Ekele Me",
           1,
           5.7,
           [
            9,
            10,
            11,
            12
           ]
          ]
         ],
         "hovertemplate": "<b>%{hovertext}</b><br><br>Team=%{customdata[0]}<br>Bid Amount ($)=%{customdata[1]}<br>Total points=%{customdata[2]}<br>Stint (wks)=%{customdata[3]}<extra></extra>",
         "hovertext": [
          "James Conner, RB (ARI)",
          "Dawson Knox, TE (BUF)",
          "Michael Carter, RB (NYJ)",
          "Marvin Jones Jr., WR (JAX)",
          "Tevin Coleman, RB (NYJ)",
          "Tre'Quan Smith, WR (NO)",
          "Tim Patrick, WR (DEN)",
          "Ricky Seals-Jones, TE (WSH)",
          "Latavius Murray, RB (BAL)"
         ],
         "legendgroup": "Don't Ekele Me",
         "marker": {
          "color": "#EF553B",
          "symbol": "circle"
         },
         "mode": "markers",
         "name": "Don't Ekele Me",
         "showlegend": true,
         "type": "scatter",
         "x": [
          21,
          1,
          1,
          0,
          3,
          1,
          1,
          1,
          1
         ],
         "xaxis": "x",
         "y": [
          169.6,
          105.1,
          95.1,
          87.6,
          17.2,
          15.1,
          14.3,
          10.3,
          5.7
         ],
         "yaxis": "y"
        },
        {
         "customdata": [
          [
           "Tasteful Dak Piks, by CMC",
           5,
           160.2,
           [
            2,
            3,
            4,
            5,
            6,
            7,
            9,
            10,
            11,
            12,
            13,
            14,
            15,
            16,
            17
           ]
          ],
          [
           "Tasteful Dak Piks, by CMC",
           33,
           100.7,
           [
            4,
            5,
            6,
            7,
            8,
            9,
            10,
            11,
            12,
            14,
            15,
            16,
            17
           ]
          ],
          [
           "Tasteful Dak Piks, by CMC",
           3,
           91.9,
           [
            7,
            8,
            9,
            10,
            11,
            13,
            14,
            15,
            16,
            17
           ]
          ],
          [
           "Tasteful Dak Piks, by CMC",
           0,
           61.6,
           [
            1,
            2,
            3,
            4,
            5,
            6
           ]
          ],
          [
           "Tasteful Dak Piks, by CMC",
           1,
           57.6,
           [
            13,
            14,
            15,
            16,
            17
           ]
          ],
          [
           "Tasteful Dak Piks, by CMC",
           2,
           56.6,
           [
            7,
            8,
            9,
            10,
            11
           ]
          ],
          [
           "Tasteful Dak Piks, by CMC",
           5,
           56.4,
           [
            15,
            16,
            17
           ]
          ],
          [
           "Tasteful Dak Piks, by CMC",
           13,
           38.9,
           [
            2,
            3,
            4,
            5,
            6,
            7,
            8,
            9,
            11,
            12,
            13,
            14,
            15
           ]
          ],
          [
           "Tasteful Dak Piks, by CMC",
           1,
           18.3,
           [
            16,
            17
           ]
          ],
          [
           "Tasteful Dak Piks, by CMC",
           3,
           15.9,
           [
            4,
            5,
            6
           ]
          ],
          [
           "Tasteful Dak Piks, by CMC",
           1,
           9,
           [
            8,
            9
           ]
          ],
          [
           "Tasteful Dak Piks, by CMC",
           1,
           7,
           [
            11,
            12,
            13,
            14
           ]
          ],
          [
           "Tasteful Dak Piks, by CMC",
           8,
           4.6,
           [
            4,
            5,
            6
           ]
          ],
          [
           "Tasteful Dak Piks, by CMC",
           1,
           3.5,
           [
            5,
            6
           ]
          ],
          [
           "Tasteful Dak Piks, by CMC",
           1,
           1.4,
           [
            11,
            12
           ]
          ],
          [
           "Tasteful Dak Piks, by CMC",
           1,
           0,
           [
            9,
            10,
            11,
            12,
            14,
            15,
            16,
            17
           ]
          ],
          [
           "Tasteful Dak Piks, by CMC",
           2,
           0,
           [
            13,
            14,
            15
           ]
          ]
         ],
         "hovertemplate": "<b>%{hovertext}</b><br><br>Team=%{customdata[0]}<br>Bid Amount ($)=%{customdata[1]}<br>Total points=%{customdata[2]}<br>Stint (wks)=%{customdata[3]}<extra></extra>",
         "hovertext": [
          "Marquise Brown, WR (BAL)",
          "Chuba Hubbard, RB (CAR)",
          "Zach Ertz, TE (ARI)",
          "Tony Pollard, RB (DAL)",
          "Rex Burkhead, RB (HOU)",
          "D'Ernest Johnson, RB (CLE)",
          "Rashaad Penny, RB (SEA)",
          "Sterling Shepard, WR (NYG)",
          "Ronald Jones II, RB (TB)",
          "Tyler Conklin, TE (MIN)",
          "Kenneth Gainwell, RB (PHI)",
          "Alex Collins, RB (SEA)",
          "Nyheim Hines, RB (IND)",
          "Kenneth Gainwell, RB (PHI)",
          "Dan Arnold, TE (JAX)",
          "Derrick Henry, RB (TEN)",
          "J.D. McKissic, RB (WSH)"
         ],
         "legendgroup": "Tasteful Dak Piks, by CMC",
         "marker": {
          "color": "#00cc96",
          "symbol": "circle"
         },
         "mode": "markers",
         "name": "Tasteful Dak Piks, by CMC",
         "showlegend": true,
         "type": "scatter",
         "x": [
          5,
          33,
          3,
          0,
          1,
          2,
          5,
          13,
          1,
          3,
          1,
          1,
          8,
          1,
          1,
          1,
          2
         ],
         "xaxis": "x",
         "y": [
          160.2,
          100.7,
          91.9,
          61.6,
          57.6,
          56.6,
          56.4,
          38.9,
          18.3,
          15.9,
          9,
          7,
          4.6,
          3.5,
          1.4,
          0,
          0
         ],
         "yaxis": "y"
        },
        {
         "customdata": [
          [
           "Godwin's Memorial",
           2,
           158.3,
           [
            4,
            5,
            6,
            7,
            9,
            10,
            11,
            12,
            13,
            14,
            15,
            16,
            17
           ]
          ],
          [
           "Godwin's Memorial",
           4,
           46.7,
           [
            10,
            11,
            12,
            13,
            14,
            15,
            16
           ]
          ],
          [
           "Godwin's Memorial",
           5,
           25.8,
           [
            9,
            10,
            11,
            12,
            13,
            14,
            15,
            16,
            17
           ]
          ],
          [
           "Godwin's Memorial",
           3,
           22.6,
           [
            6,
            7,
            8
           ]
          ],
          [
           "Godwin's Memorial",
           3,
           16.3,
           [
            6,
            7,
            8,
            9
           ]
          ],
          [
           "Godwin's Memorial",
           1,
           8.8,
           [
            12,
            13,
            14,
            15
           ]
          ],
          [
           "Godwin's Memorial",
           32,
           7.9,
           [
            10,
            11
           ]
          ]
         ],
         "hovertemplate": "<b>%{hovertext}</b><br><br>Team=%{customdata[0]}<br>Bid Amount ($)=%{customdata[1]}<br>Total points=%{customdata[2]}<br>Stint (wks)=%{customdata[3]}<extra></extra>",
         "hovertext": [
          "Hunter Renfrow, WR (OAK)",
          "Pat Freiermuth, TE (PIT)",
          "Kenyan Drake, RB (OAK)",
          "Hunter Henry, TE (NE)",
          "Jarvis Landry, WR (CLE)",
          "Courtland Sutton, WR (DEN)",
          "Adrian Peterson, RB (SEA)"
         ],
         "legendgroup": "Godwin's Memorial",
         "marker": {
          "color": "#ab63fa",
          "symbol": "circle"
         },
         "mode": "markers",
         "name": "Godwin's Memorial",
         "showlegend": true,
         "type": "scatter",
         "x": [
          2,
          4,
          5,
          3,
          3,
          1,
          32
         ],
         "xaxis": "x",
         "y": [
          158.3,
          46.7,
          25.8,
          22.6,
          16.3,
          8.8,
          7.9
         ],
         "yaxis": "y"
        },
        {
         "customdata": [
          [
           "Fumble .",
           30,
           130.6,
           [
            2,
            3,
            4,
            5,
            7,
            8,
            9,
            10,
            11,
            12,
            13,
            14,
            15,
            16,
            17
           ]
          ],
          [
           "Fumble .",
           1,
           106.1,
           [
            4,
            5,
            6,
            7,
            8,
            9,
            10,
            11,
            12,
            13,
            15,
            16,
            17
           ]
          ],
          [
           "Fumble .",
           4,
           68.8,
           [
            11,
            12,
            14,
            15,
            16,
            17
           ]
          ],
          [
           "Fumble .",
           9,
           51.2,
           [
            6,
            7,
            8,
            9
           ]
          ],
          [
           "Fumble .",
           1,
           0,
           [
            1,
            2,
            3,
            4,
            5
           ]
          ]
         ],
         "hovertemplate": "<b>%{hovertext}</b><br><br>Team=%{customdata[0]}<br>Bid Amount ($)=%{customdata[1]}<br>Total points=%{customdata[2]}<br>Stint (wks)=%{customdata[3]}<extra></extra>",
         "hovertext": [
          "Elijah Mitchell, RB (SF)",
          "Mike Gesicki, TE (MIA)",
          "D'Onta Foreman, RB (TEN)",
          "Devontae Booker, RB (NYG)",
          "T.Y. Hilton, WR (IND)"
         ],
         "legendgroup": "Fumble .",
         "marker": {
          "color": "#FFA15A",
          "symbol": "circle"
         },
         "mode": "markers",
         "name": "Fumble .",
         "showlegend": true,
         "type": "scatter",
         "x": [
          30,
          1,
          4,
          9,
          1
         ],
         "xaxis": "x",
         "y": [
          130.6,
          106.1,
          68.8,
          51.2,
          0
         ],
         "yaxis": "y"
        },
        {
         "customdata": [
          [
           "Ice City USA",
           11,
           117.8,
           [
            7,
            8,
            9,
            10,
            11,
            12,
            13,
            15,
            16,
            17
           ]
          ],
          [
           "Ice City USA",
           1,
           77.1,
           [
            11,
            12,
            13,
            14,
            15,
            16,
            17
           ]
          ],
          [
           "Ice City USA",
           1,
           45.1,
           [
            5,
            6,
            8,
            9,
            10
           ]
          ],
          [
           "Ice City USA",
           6,
           41.9,
           [
            3,
            4,
            5,
            6
           ]
          ],
          [
           "Ice City USA",
           1,
           26.9,
           [
            14,
            15,
            16,
            17
           ]
          ],
          [
           "Ice City USA",
           27,
           23.8,
           [
            6,
            7,
            8,
            9,
            11,
            12,
            13,
            14,
            15,
            16,
            17
           ]
          ],
          [
           "Ice City USA",
           1,
           22.9,
           [
            5,
            6,
            7
           ]
          ],
          [
           "Ice City USA",
           13,
           16.7,
           [
            5,
            6,
            7
           ]
          ],
          [
           "Ice City USA",
           1,
           9.5,
           [
            11,
            12
           ]
          ],
          [
           "Ice City USA",
           2,
           9.2,
           [
            3,
            4
           ]
          ],
          [
           "Ice City USA",
           1,
           6.7,
           [
            12,
            13
           ]
          ],
          [
           "Ice City USA",
           2,
           6.3,
           [
            9,
            10
           ]
          ]
         ],
         "hovertemplate": "<b>%{hovertext}</b><br><br>Team=%{customdata[0]}<br>Bid Amount ($)=%{customdata[1]}<br>Total points=%{customdata[2]}<br>Stint (wks)=%{customdata[3]}<extra></extra>",
         "hovertext": [
          "Jaylen Waddle, WR (MIA)",
          "Darnell Mooney, WR (CHI)",
          "Emmanuel Sanders, WR (BUF)",
          "Michael Pittman Jr., WR (IND)",
          "Dontrell Hilliard, RB (TEN)",
          "Kadarius Toney, WR (NYG)",
          "Darnell Mooney, WR (CHI)",
          "Damien Williams, RB (CHI)",
          "Rashod Bateman, WR (BAL)",
          "Myles Gaskin, RB (MIA)",
          "Ty Johnson, RB (NYJ)",
          "Jeremy McNichols, RB (TEN)"
         ],
         "legendgroup": "Ice City USA",
         "marker": {
          "color": "#19d3f3",
          "symbol": "circle"
         },
         "mode": "markers",
         "name": "Ice City USA",
         "showlegend": true,
         "type": "scatter",
         "x": [
          11,
          1,
          1,
          6,
          1,
          27,
          1,
          13,
          1,
          2,
          1,
          2
         ],
         "xaxis": "x",
         "y": [
          117.8,
          77.1,
          45.1,
          41.9,
          26.9,
          23.8,
          22.9,
          16.7,
          9.5,
          9.2,
          6.7,
          6.3
         ],
         "yaxis": "y"
        },
        {
         "customdata": [
          [
           "Frankel's Cankles",
           3,
           114.6,
           [
            7,
            8,
            9,
            10,
            11,
            12,
            13,
            15,
            16,
            17
           ]
          ],
          [
           "Frankel's Cankles",
           25,
           93.8,
           [
            6,
            7,
            8,
            9,
            10,
            11,
            12,
            13,
            15,
            16,
            17
           ]
          ],
          [
           "Frankel's Cankles",
           1,
           82,
           [
            11,
            12,
            13,
            14,
            15,
            16,
            17
           ]
          ],
          [
           "Frankel's Cankles",
           1,
           50.9,
           [
            8,
            9,
            10,
            11,
            12,
            13,
            15,
            16,
            17
           ]
          ],
          [
           "Frankel's Cankles",
           1,
           19.2,
           [
            9,
            10
           ]
          ],
          [
           "Frankel's Cankles",
           5,
           12.6,
           [
            5,
            6
           ]
          ],
          [
           "Frankel's Cankles",
           1,
           7.5,
           [
            15,
            16
           ]
          ],
          [
           "Frankel's Cankles",
           1,
           4.4,
           [
            15,
            16
           ]
          ],
          [
           "Frankel's Cankles",
           1,
           4.4,
           [
            11,
            13
           ]
          ]
         ],
         "hovertemplate": "<b>%{hovertext}</b><br><br>Team=%{customdata[0]}<br>Bid Amount ($)=%{customdata[1]}<br>Total points=%{customdata[2]}<br>Stint (wks)=%{customdata[3]}<extra></extra>",
         "hovertext": [
          "Michael Pittman Jr., WR (IND)",
          "Myles Gaskin, RB (MIA)",
          "Devin Singletary, RB (BUF)",
          "Miles Sanders, RB (PHI)",
          "Dan Arnold, TE (JAX)",
          "Robby Anderson, WR (CAR)",
          "Jarvis Landry, WR (CLE)",
          "David Njoku, TE (CLE)",
          "Christian Kirk, WR (ARI)"
         ],
         "legendgroup": "Frankel's Cankles",
         "marker": {
          "color": "#FF6692",
          "symbol": "circle"
         },
         "mode": "markers",
         "name": "Frankel's Cankles",
         "showlegend": true,
         "type": "scatter",
         "x": [
          3,
          25,
          1,
          1,
          1,
          5,
          1,
          1,
          1
         ],
         "xaxis": "x",
         "y": [
          114.6,
          93.8,
          82,
          50.9,
          19.2,
          12.6,
          7.5,
          4.4,
          4.4
         ],
         "yaxis": "y"
        },
        {
         "customdata": [
          [
           "Repeat Donger",
           10,
           95.2,
           [
            6,
            8,
            9,
            10,
            11,
            12,
            13,
            14,
            15,
            16,
            17
           ]
          ],
          [
           "Repeat Donger",
           1,
           83.2,
           [
            10,
            11,
            12,
            13,
            14,
            15,
            16,
            17
           ]
          ],
          [
           "Repeat Donger",
           16,
           81.2,
           [
            5,
            6,
            7,
            8,
            9,
            10,
            11,
            13,
            14,
            15,
            16,
            17
           ]
          ],
          [
           "Repeat Donger",
           23,
           80.1,
           [
            6,
            7,
            8,
            9,
            10,
            11
           ]
          ],
          [
           "Repeat Donger",
           1,
           76.1,
           [
            10,
            11,
            12,
            13,
            14,
            15,
            16,
            17
           ]
          ],
          [
           "Repeat Donger",
           3,
           32.9,
           [
            7,
            8,
            9
           ]
          ],
          [
           "Repeat Donger",
           3,
           23.1,
           [
            3,
            4,
            5
           ]
          ],
          [
           "Repeat Donger",
           9,
           19.2,
           [
            3,
            4
           ]
          ],
          [
           "Repeat Donger",
           11,
           18.7,
           [
            3,
            4,
            5
           ]
          ]
         ],
         "hovertemplate": "<b>%{hovertext}</b><br><br>Team=%{customdata[0]}<br>Bid Amount ($)=%{customdata[1]}<br>Total points=%{customdata[2]}<br>Stint (wks)=%{customdata[3]}<extra></extra>",
         "hovertext": [
          "Dalton Schultz, TE (DAL)",
          "Brandon Aiyuk, WR (SF)",
          "A.J. Green, WR (ARI)",
          "Darrel Williams, RB (KC)",
          "Rob Gronkowski, TE (TB)",
          "Christian Kirk, WR (ARI)",
          "Jared Cook, TE (LAC)",
          "J.D. McKissic, RB (WSH)",
          "Latavius Murray, RB (BAL)"
         ],
         "legendgroup": "Repeat Donger",
         "marker": {
          "color": "#B6E880",
          "symbol": "circle"
         },
         "mode": "markers",
         "name": "Repeat Donger",
         "showlegend": true,
         "type": "scatter",
         "x": [
          10,
          1,
          16,
          23,
          1,
          3,
          3,
          9,
          11
         ],
         "xaxis": "x",
         "y": [
          95.2,
          83.2,
          81.2,
          80.1,
          76.1,
          32.9,
          23.1,
          19.2,
          18.7
         ],
         "yaxis": "y"
        },
        {
         "customdata": [
          [
           "Your Antivax Cousins",
           3,
           81.5,
           [
            8,
            9,
            10,
            11,
            12,
            13,
            14,
            15,
            16,
            17
           ]
          ],
          [
           "Your Antivax Cousins",
           2,
           62.4,
           [
            10,
            11,
            12,
            13,
            14,
            15,
            16
           ]
          ],
          [
           "Your Antivax Cousins",
           1,
           46,
           [
            12,
            13,
            14,
            15,
            16,
            17
           ]
          ],
          [
           "Your Antivax Cousins",
           22,
           44,
           [
            6,
            7,
            8,
            9,
            11,
            12
           ]
          ],
          [
           "Your Antivax Cousins",
           1,
           32.1,
           [
            15,
            16,
            17
           ]
          ],
          [
           "Your Antivax Cousins",
           2,
           28.9,
           [
            2,
            3,
            4
           ]
          ],
          [
           "Your Antivax Cousins",
           13,
           25.6,
           [
            6,
            7,
            8
           ]
          ],
          [
           "Your Antivax Cousins",
           6,
           24.9,
           [
            11,
            12,
            13,
            15,
            16
           ]
          ],
          [
           "Your Antivax Cousins",
           1,
           21.4,
           [
            15,
            16,
            17
           ]
          ],
          [
           "Your Antivax Cousins",
           6,
           8.7,
           [
            9,
            10,
            11,
            12,
            13
           ]
          ]
         ],
         "hovertemplate": "<b>%{hovertext}</b><br><br>Team=%{customdata[0]}<br>Bid Amount ($)=%{customdata[1]}<br>Total points=%{customdata[2]}<br>Stint (wks)=%{customdata[3]}<extra></extra>",
         "hovertext": [
          "Tony Pollard, RB (DAL)",
          "Elijah Moore, WR (NYJ)",
          "Noah Fant, TE (DEN)",
          "Khalil Herbert, RB (CHI)",
          "Jeff Wilson Jr., RB (SF)",
          "Tim Patrick, WR (DEN)",
          "Alex Collins, RB (SEA)",
          "Rhamondre Stevenson, RB (NE)",
          "DeVante Parker, WR (MIA)",
          "DeVante Parker, WR (MIA)"
         ],
         "legendgroup": "Your Antivax Cousins",
         "marker": {
          "color": "#FF97FF",
          "symbol": "circle"
         },
         "mode": "markers",
         "name": "Your Antivax Cousins",
         "showlegend": true,
         "type": "scatter",
         "x": [
          3,
          2,
          1,
          22,
          1,
          2,
          13,
          6,
          1,
          6
         ],
         "xaxis": "x",
         "y": [
          81.5,
          62.4,
          46,
          44,
          32.1,
          28.9,
          25.6,
          24.9,
          21.4,
          8.7
         ],
         "yaxis": "y"
        },
        {
         "customdata": [
          [
           "Tier 2 never felt so good",
           8,
           55.8,
           [
            12,
            13,
            14,
            15,
            16,
            17
           ]
          ],
          [
           "Tier 2 never felt so good",
           22,
           52.9,
           [
            16,
            17
           ]
          ],
          [
           "Tier 2 never felt so good",
           3,
           48.9,
           [
            9,
            10,
            11,
            12,
            13,
            14,
            15,
            16
           ]
          ],
          [
           "Tier 2 never felt so good",
           7,
           19.2,
           [
            16,
            17
           ]
          ]
         ],
         "hovertemplate": "<b>%{hovertext}</b><br><br>Team=%{customdata[0]}<br>Bid Amount ($)=%{customdata[1]}<br>Total points=%{customdata[2]}<br>Stint (wks)=%{customdata[3]}<extra></extra>",
         "hovertext": [
          "Michael Gallup, WR (DAL)",
          "Amon-Ra St. Brown, WR (DET)",
          "Jared Cook, TE (LAC)",
          "Christian Kirk, WR (ARI)"
         ],
         "legendgroup": "Tier 2 never felt so good",
         "marker": {
          "color": "#FECB52",
          "symbol": "circle"
         },
         "mode": "markers",
         "name": "Tier 2 never felt so good",
         "showlegend": true,
         "type": "scatter",
         "x": [
          8,
          22,
          3,
          7
         ],
         "xaxis": "x",
         "y": [
          55.8,
          52.9,
          48.9,
          19.2
         ],
         "yaxis": "y"
        },
        {
         "customdata": [
          [
           "Dick Cheese",
           1,
           50.7,
           [
            11,
            12,
            13,
            14,
            15,
            16,
            17
           ]
          ],
          [
           "Dick Cheese",
           0,
           50.2,
           [
            2,
            3,
            4,
            5,
            6,
            8
           ]
          ],
          [
           "Dick Cheese",
           2,
           37.8,
           [
            16,
            17
           ]
          ],
          [
           "Dick Cheese",
           1,
           37.6,
           [
            12,
            13,
            14,
            15,
            16
           ]
          ],
          [
           "Dick Cheese",
           2,
           34.2,
           [
            10,
            11,
            12,
            13
           ]
          ],
          [
           "Dick Cheese",
           21,
           32.3,
           [
            7,
            8,
            10,
            11
           ]
          ],
          [
           "Dick Cheese",
           1,
           6.1,
           [
            11,
            12
           ]
          ],
          [
           "Dick Cheese",
           0,
           0,
           [
            2,
            3,
            4,
            5
           ]
          ]
         ],
         "hovertemplate": "<b>%{hovertext}</b><br><br>Team=%{customdata[0]}<br>Bid Amount ($)=%{customdata[1]}<br>Total points=%{customdata[2]}<br>Stint (wks)=%{customdata[3]}<extra></extra>",
         "hovertext": [
          "Alexander Mattison, RB (MIN)",
          "Alexander Mattison, RB (MIN)",
          "Justin Jackson, RB (LAC)",
          "Chase Claypool, WR (PIT)",
          "Mark Ingram II, RB (NO)",
          "J.D. McKissic, RB (WSH)",
          "Hunter Henry, TE (NE)",
          "Jeff Wilson Jr., RB (SF)"
         ],
         "legendgroup": "Dick Cheese",
         "marker": {
          "color": "#636efa",
          "symbol": "circle"
         },
         "mode": "markers",
         "name": "Dick Cheese",
         "showlegend": true,
         "type": "scatter",
         "x": [
          1,
          0,
          2,
          1,
          2,
          21,
          1,
          0
         ],
         "xaxis": "x",
         "y": [
          50.7,
          50.2,
          37.8,
          37.6,
          34.2,
          32.3,
          6.1,
          0
         ],
         "yaxis": "y"
        },
        {
         "customdata": [
          [
           "Favre's Wranglers",
           0,
           21.7,
           [
            2,
            3,
            4,
            5,
            6,
            7,
            8,
            9,
            10,
            11
           ]
          ],
          [
           "Favre's Wranglers",
           1,
           10.9,
           [
            16,
            17
           ]
          ],
          [
           "Favre's Wranglers",
           1,
           8.1,
           [
            12,
            13,
            14
           ]
          ],
          [
           "Favre's Wranglers",
           1,
           6.7,
           [
            15,
            16,
            17
           ]
          ]
         ],
         "hovertemplate": "<b>%{hovertext}</b><br><br>Team=%{customdata[0]}<br>Bid Amount ($)=%{customdata[1]}<br>Total points=%{customdata[2]}<br>Stint (wks)=%{customdata[3]}<extra></extra>",
         "hovertext": [
          "Phillip Lindsay, RB (MIA)",
          "Cole Kmet, TE (CHI)",
          "Tyler Higbee, TE (LAR)",
          "Royce Freeman, RB (HOU)"
         ],
         "legendgroup": "Favre's Wranglers",
         "marker": {
          "color": "#EF553B",
          "symbol": "circle"
         },
         "mode": "markers",
         "name": "Favre's Wranglers",
         "showlegend": true,
         "type": "scatter",
         "x": [
          0,
          1,
          1,
          1
         ],
         "xaxis": "x",
         "y": [
          21.7,
          10.9,
          8.1,
          6.7
         ],
         "yaxis": "y"
        }
       ],
       "layout": {
        "height": 700,
        "legend": {
         "title": {
          "text": "Team"
         },
         "tracegroupgap": 0
        },
        "template": {
         "data": {
          "bar": [
           {
            "error_x": {
             "color": "#2a3f5f"
            },
            "error_y": {
             "color": "#2a3f5f"
            },
            "marker": {
             "line": {
              "color": "#E5ECF6",
              "width": 0.5
             }
            },
            "type": "bar"
           }
          ],
          "barpolar": [
           {
            "marker": {
             "line": {
              "color": "#E5ECF6",
              "width": 0.5
             }
            },
            "type": "barpolar"
           }
          ],
          "carpet": [
           {
            "aaxis": {
             "endlinecolor": "#2a3f5f",
             "gridcolor": "white",
             "linecolor": "white",
             "minorgridcolor": "white",
             "startlinecolor": "#2a3f5f"
            },
            "baxis": {
             "endlinecolor": "#2a3f5f",
             "gridcolor": "white",
             "linecolor": "white",
             "minorgridcolor": "white",
             "startlinecolor": "#2a3f5f"
            },
            "type": "carpet"
           }
          ],
          "choropleth": [
           {
            "colorbar": {
             "outlinewidth": 0,
             "ticks": ""
            },
            "type": "choropleth"
           }
          ],
          "contour": [
           {
            "colorbar": {
             "outlinewidth": 0,
             "ticks": ""
            },
            "colorscale": [
             [
              0,
              "#0d0887"
             ],
             [
              0.1111111111111111,
              "#46039f"
             ],
             [
              0.2222222222222222,
              "#7201a8"
             ],
             [
              0.3333333333333333,
              "#9c179e"
             ],
             [
              0.4444444444444444,
              "#bd3786"
             ],
             [
              0.5555555555555556,
              "#d8576b"
             ],
             [
              0.6666666666666666,
              "#ed7953"
             ],
             [
              0.7777777777777778,
              "#fb9f3a"
             ],
             [
              0.8888888888888888,
              "#fdca26"
             ],
             [
              1,
              "#f0f921"
             ]
            ],
            "type": "contour"
           }
          ],
          "contourcarpet": [
           {
            "colorbar": {
             "outlinewidth": 0,
             "ticks": ""
            },
            "type": "contourcarpet"
           }
          ],
          "heatmap": [
           {
            "colorbar": {
             "outlinewidth": 0,
             "ticks": ""
            },
            "colorscale": [
             [
              0,
              "#0d0887"
             ],
             [
              0.1111111111111111,
              "#46039f"
             ],
             [
              0.2222222222222222,
              "#7201a8"
             ],
             [
              0.3333333333333333,
              "#9c179e"
             ],
             [
              0.4444444444444444,
              "#bd3786"
             ],
             [
              0.5555555555555556,
              "#d8576b"
             ],
             [
              0.6666666666666666,
              "#ed7953"
             ],
             [
              0.7777777777777778,
              "#fb9f3a"
             ],
             [
              0.8888888888888888,
              "#fdca26"
             ],
             [
              1,
              "#f0f921"
             ]
            ],
            "type": "heatmap"
           }
          ],
          "heatmapgl": [
           {
            "colorbar": {
             "outlinewidth": 0,
             "ticks": ""
            },
            "colorscale": [
             [
              0,
              "#0d0887"
             ],
             [
              0.1111111111111111,
              "#46039f"
             ],
             [
              0.2222222222222222,
              "#7201a8"
             ],
             [
              0.3333333333333333,
              "#9c179e"
             ],
             [
              0.4444444444444444,
              "#bd3786"
             ],
             [
              0.5555555555555556,
              "#d8576b"
             ],
             [
              0.6666666666666666,
              "#ed7953"
             ],
             [
              0.7777777777777778,
              "#fb9f3a"
             ],
             [
              0.8888888888888888,
              "#fdca26"
             ],
             [
              1,
              "#f0f921"
             ]
            ],
            "type": "heatmapgl"
           }
          ],
          "histogram": [
           {
            "marker": {
             "colorbar": {
              "outlinewidth": 0,
              "ticks": ""
             }
            },
            "type": "histogram"
           }
          ],
          "histogram2d": [
           {
            "colorbar": {
             "outlinewidth": 0,
             "ticks": ""
            },
            "colorscale": [
             [
              0,
              "#0d0887"
             ],
             [
              0.1111111111111111,
              "#46039f"
             ],
             [
              0.2222222222222222,
              "#7201a8"
             ],
             [
              0.3333333333333333,
              "#9c179e"
             ],
             [
              0.4444444444444444,
              "#bd3786"
             ],
             [
              0.5555555555555556,
              "#d8576b"
             ],
             [
              0.6666666666666666,
              "#ed7953"
             ],
             [
              0.7777777777777778,
              "#fb9f3a"
             ],
             [
              0.8888888888888888,
              "#fdca26"
             ],
             [
              1,
              "#f0f921"
             ]
            ],
            "type": "histogram2d"
           }
          ],
          "histogram2dcontour": [
           {
            "colorbar": {
             "outlinewidth": 0,
             "ticks": ""
            },
            "colorscale": [
             [
              0,
              "#0d0887"
             ],
             [
              0.1111111111111111,
              "#46039f"
             ],
             [
              0.2222222222222222,
              "#7201a8"
             ],
             [
              0.3333333333333333,
              "#9c179e"
             ],
             [
              0.4444444444444444,
              "#bd3786"
             ],
             [
              0.5555555555555556,
              "#d8576b"
             ],
             [
              0.6666666666666666,
              "#ed7953"
             ],
             [
              0.7777777777777778,
              "#fb9f3a"
             ],
             [
              0.8888888888888888,
              "#fdca26"
             ],
             [
              1,
              "#f0f921"
             ]
            ],
            "type": "histogram2dcontour"
           }
          ],
          "mesh3d": [
           {
            "colorbar": {
             "outlinewidth": 0,
             "ticks": ""
            },
            "type": "mesh3d"
           }
          ],
          "parcoords": [
           {
            "line": {
             "colorbar": {
              "outlinewidth": 0,
              "ticks": ""
             }
            },
            "type": "parcoords"
           }
          ],
          "pie": [
           {
            "automargin": true,
            "type": "pie"
           }
          ],
          "scatter": [
           {
            "marker": {
             "colorbar": {
              "outlinewidth": 0,
              "ticks": ""
             }
            },
            "type": "scatter"
           }
          ],
          "scatter3d": [
           {
            "line": {
             "colorbar": {
              "outlinewidth": 0,
              "ticks": ""
             }
            },
            "marker": {
             "colorbar": {
              "outlinewidth": 0,
              "ticks": ""
             }
            },
            "type": "scatter3d"
           }
          ],
          "scattercarpet": [
           {
            "marker": {
             "colorbar": {
              "outlinewidth": 0,
              "ticks": ""
             }
            },
            "type": "scattercarpet"
           }
          ],
          "scattergeo": [
           {
            "marker": {
             "colorbar": {
              "outlinewidth": 0,
              "ticks": ""
             }
            },
            "type": "scattergeo"
           }
          ],
          "scattergl": [
           {
            "marker": {
             "colorbar": {
              "outlinewidth": 0,
              "ticks": ""
             }
            },
            "type": "scattergl"
           }
          ],
          "scattermapbox": [
           {
            "marker": {
             "colorbar": {
              "outlinewidth": 0,
              "ticks": ""
             }
            },
            "type": "scattermapbox"
           }
          ],
          "scatterpolar": [
           {
            "marker": {
             "colorbar": {
              "outlinewidth": 0,
              "ticks": ""
             }
            },
            "type": "scatterpolar"
           }
          ],
          "scatterpolargl": [
           {
            "marker": {
             "colorbar": {
              "outlinewidth": 0,
              "ticks": ""
             }
            },
            "type": "scatterpolargl"
           }
          ],
          "scatterternary": [
           {
            "marker": {
             "colorbar": {
              "outlinewidth": 0,
              "ticks": ""
             }
            },
            "type": "scatterternary"
           }
          ],
          "surface": [
           {
            "colorbar": {
             "outlinewidth": 0,
             "ticks": ""
            },
            "colorscale": [
             [
              0,
              "#0d0887"
             ],
             [
              0.1111111111111111,
              "#46039f"
             ],
             [
              0.2222222222222222,
              "#7201a8"
             ],
             [
              0.3333333333333333,
              "#9c179e"
             ],
             [
              0.4444444444444444,
              "#bd3786"
             ],
             [
              0.5555555555555556,
              "#d8576b"
             ],
             [
              0.6666666666666666,
              "#ed7953"
             ],
             [
              0.7777777777777778,
              "#fb9f3a"
             ],
             [
              0.8888888888888888,
              "#fdca26"
             ],
             [
              1,
              "#f0f921"
             ]
            ],
            "type": "surface"
           }
          ],
          "table": [
           {
            "cells": {
             "fill": {
              "color": "#EBF0F8"
             },
             "line": {
              "color": "white"
             }
            },
            "header": {
             "fill": {
              "color": "#C8D4E3"
             },
             "line": {
              "color": "white"
             }
            },
            "type": "table"
           }
          ]
         },
         "layout": {
          "annotationdefaults": {
           "arrowcolor": "#2a3f5f",
           "arrowhead": 0,
           "arrowwidth": 1
          },
          "coloraxis": {
           "colorbar": {
            "outlinewidth": 0,
            "ticks": ""
           }
          },
          "colorscale": {
           "diverging": [
            [
             0,
             "#8e0152"
            ],
            [
             0.1,
             "#c51b7d"
            ],
            [
             0.2,
             "#de77ae"
            ],
            [
             0.3,
             "#f1b6da"
            ],
            [
             0.4,
             "#fde0ef"
            ],
            [
             0.5,
             "#f7f7f7"
            ],
            [
             0.6,
             "#e6f5d0"
            ],
            [
             0.7,
             "#b8e186"
            ],
            [
             0.8,
             "#7fbc41"
            ],
            [
             0.9,
             "#4d9221"
            ],
            [
             1,
             "#276419"
            ]
           ],
           "sequential": [
            [
             0,
             "#0d0887"
            ],
            [
             0.1111111111111111,
             "#46039f"
            ],
            [
             0.2222222222222222,
             "#7201a8"
            ],
            [
             0.3333333333333333,
             "#9c179e"
            ],
            [
             0.4444444444444444,
             "#bd3786"
            ],
            [
             0.5555555555555556,
             "#d8576b"
            ],
            [
             0.6666666666666666,
             "#ed7953"
            ],
            [
             0.7777777777777778,
             "#fb9f3a"
            ],
            [
             0.8888888888888888,
             "#fdca26"
            ],
            [
             1,
             "#f0f921"
            ]
           ],
           "sequentialminus": [
            [
             0,
             "#0d0887"
            ],
            [
             0.1111111111111111,
             "#46039f"
            ],
            [
             0.2222222222222222,
             "#7201a8"
            ],
            [
             0.3333333333333333,
             "#9c179e"
            ],
            [
             0.4444444444444444,
             "#bd3786"
            ],
            [
             0.5555555555555556,
             "#d8576b"
            ],
            [
             0.6666666666666666,
             "#ed7953"
            ],
            [
             0.7777777777777778,
             "#fb9f3a"
            ],
            [
             0.8888888888888888,
             "#fdca26"
            ],
            [
             1,
             "#f0f921"
            ]
           ]
          },
          "colorway": [
           "#636efa",
           "#EF553B",
           "#00cc96",
           "#ab63fa",
           "#FFA15A",
           "#19d3f3",
           "#FF6692",
           "#B6E880",
           "#FF97FF",
           "#FECB52"
          ],
          "font": {
           "color": "#2a3f5f"
          },
          "geo": {
           "bgcolor": "white",
           "lakecolor": "white",
           "landcolor": "#E5ECF6",
           "showlakes": true,
           "showland": true,
           "subunitcolor": "white"
          },
          "hoverlabel": {
           "align": "left"
          },
          "hovermode": "closest",
          "mapbox": {
           "style": "light"
          },
          "paper_bgcolor": "white",
          "plot_bgcolor": "#E5ECF6",
          "polar": {
           "angularaxis": {
            "gridcolor": "white",
            "linecolor": "white",
            "ticks": ""
           },
           "bgcolor": "#E5ECF6",
           "radialaxis": {
            "gridcolor": "white",
            "linecolor": "white",
            "ticks": ""
           }
          },
          "scene": {
           "xaxis": {
            "backgroundcolor": "#E5ECF6",
            "gridcolor": "white",
            "gridwidth": 2,
            "linecolor": "white",
            "showbackground": true,
            "ticks": "",
            "zerolinecolor": "white"
           },
           "yaxis": {
            "backgroundcolor": "#E5ECF6",
            "gridcolor": "white",
            "gridwidth": 2,
            "linecolor": "white",
            "showbackground": true,
            "ticks": "",
            "zerolinecolor": "white"
           },
           "zaxis": {
            "backgroundcolor": "#E5ECF6",
            "gridcolor": "white",
            "gridwidth": 2,
            "linecolor": "white",
            "showbackground": true,
            "ticks": "",
            "zerolinecolor": "white"
           }
          },
          "shapedefaults": {
           "line": {
            "color": "#2a3f5f"
           }
          },
          "ternary": {
           "aaxis": {
            "gridcolor": "white",
            "linecolor": "white",
            "ticks": ""
           },
           "baxis": {
            "gridcolor": "white",
            "linecolor": "white",
            "ticks": ""
           },
           "bgcolor": "#E5ECF6",
           "caxis": {
            "gridcolor": "white",
            "linecolor": "white",
            "ticks": ""
           }
          },
          "title": {
           "x": 0.05
          },
          "xaxis": {
           "automargin": true,
           "gridcolor": "white",
           "linecolor": "white",
           "ticks": "",
           "title": {
            "standoff": 15
           },
           "zerolinecolor": "white",
           "zerolinewidth": 2
          },
          "yaxis": {
           "automargin": true,
           "gridcolor": "white",
           "linecolor": "white",
           "ticks": "",
           "title": {
            "standoff": 15
           },
           "zerolinecolor": "white",
           "zerolinewidth": 2
          }
         }
        },
        "title": {
         "text": "RB WR TE Waiver Spending vs. Total Fantasy Points"
        },
        "width": 900,
        "xaxis": {
         "anchor": "y",
         "domain": [
          0,
          1
         ],
         "range": [
          -1,
          39
         ],
         "title": {
          "text": "Bid Amount ($)"
         }
        },
        "yaxis": {
         "anchor": "x",
         "domain": [
          0,
          1
         ],
         "range": [
          -5,
          213
         ],
         "title": {
          "text": "Total points"
         }
        }
       }
      },
      "text/html": [
       "<div>\n",
       "        \n",
       "        \n",
       "            <div id=\"3553414c-bf1a-41fa-ad99-84c381842e85\" class=\"plotly-graph-div\" style=\"height:700px; width:900px;\"></div>\n",
       "            <script type=\"text/javascript\">\n",
       "                require([\"plotly\"], function(Plotly) {\n",
       "                    window.PLOTLYENV=window.PLOTLYENV || {};\n",
       "                    \n",
       "                if (document.getElementById(\"3553414c-bf1a-41fa-ad99-84c381842e85\")) {\n",
       "                    Plotly.newPlot(\n",
       "                        '3553414c-bf1a-41fa-ad99-84c381842e85',\n",
       "                        [{\"customdata\": [[\"More than a  Thielen\", 12, 177.8, [3, 4, 5, 7, 8, 9, 10, 11, 12, 13, 14, 15, 16, 17]], [\"More than a  Thielen\", 4, 71.5, [11, 12, 13, 14, 15, 16, 17]], [\"More than a  Thielen\", 11, 64.3, [10, 12, 13, 14, 15, 16, 17]], [\"More than a  Thielen\", 2, 34.8, [8, 9, 10, 11]], [\"More than a  Thielen\", 1, 26.8, [13, 14, 15, 16, 17]], [\"More than a  Thielen\", 2, 26.3, [14, 15, 16, 17]], [\"More than a  Thielen\", 28, 22.9, [3, 4, 5, 6]], [\"More than a  Thielen\", 3, 19.1, [7, 8, 9, 10]], [\"More than a  Thielen\", 3, 16.3, [5, 6]], [\"More than a  Thielen\", 5, 7.5, [11, 12]]], \"hovertemplate\": \"<b>%{hovertext}</b><br><br>Team=%{customdata[0]}<br>Bid Amount ($)=%{customdata[1]}<br>Total points=%{customdata[2]}<br>Stint (wks)=%{customdata[3]}<extra></extra>\", \"hovertext\": [\"Cordarrelle Patterson, RB (ATL)\", \"Devonta Freeman, RB (BAL)\", \"Van Jefferson, WR (LAR)\", \"Tyler Conklin, TE (MIN)\", \"Foster Moreau, TE (OAK)\", \"Jalen Guyton, WR (LAC)\", \"Rondale Moore, WR (ARI)\", \"Mecole Hardman, WR (KC)\", \"Samaje Perine, RB (CIN)\", \"Jeff Wilson Jr., RB (SF)\"], \"legendgroup\": \"More than a  Thielen\", \"marker\": {\"color\": \"#636efa\", \"symbol\": \"circle\"}, \"mode\": \"markers\", \"name\": \"More than a  Thielen\", \"showlegend\": true, \"type\": \"scatter\", \"x\": [12, 4, 11, 2, 1, 2, 28, 3, 3, 5], \"xaxis\": \"x\", \"y\": [177.8, 71.5, 64.3, 34.8, 26.8, 26.3, 22.9, 19.1, 16.3, 7.5], \"yaxis\": \"y\"}, {\"customdata\": [[\"Don't Ekele Me\", 21, 169.6, [5, 6, 7, 8, 9, 10, 11, 13, 14, 15, 16, 17]], [\"Don't Ekele Me\", 1, 105.1, [4, 5, 6, 8, 9, 10, 11, 12, 13, 14, 15, 16, 17]], [\"Don't Ekele Me\", 1, 95.1, [7, 8, 9, 10, 11, 12, 13, 14, 15, 16, 17]], [\"Don't Ekele Me\", 0, 87.6, [1, 2, 3, 4, 5, 6, 8, 9, 10, 11]], [\"Don't Ekele Me\", 3, 17.2, [12, 13, 14]], [\"Don't Ekele Me\", 1, 15.1, [12, 13, 14, 15]], [\"Don't Ekele Me\", 1, 14.3, [6, 7]], [\"Don't Ekele Me\", 1, 10.3, [7, 8]], [\"Don't Ekele Me\", 1, 5.7, [9, 10, 11, 12]]], \"hovertemplate\": \"<b>%{hovertext}</b><br><br>Team=%{customdata[0]}<br>Bid Amount ($)=%{customdata[1]}<br>Total points=%{customdata[2]}<br>Stint (wks)=%{customdata[3]}<extra></extra>\", \"hovertext\": [\"James Conner, RB (ARI)\", \"Dawson Knox, TE (BUF)\", \"Michael Carter, RB (NYJ)\", \"Marvin Jones Jr., WR (JAX)\", \"Tevin Coleman, RB (NYJ)\", \"Tre'Quan Smith, WR (NO)\", \"Tim Patrick, WR (DEN)\", \"Ricky Seals-Jones, TE (WSH)\", \"Latavius Murray, RB (BAL)\"], \"legendgroup\": \"Don't Ekele Me\", \"marker\": {\"color\": \"#EF553B\", \"symbol\": \"circle\"}, \"mode\": \"markers\", \"name\": \"Don't Ekele Me\", \"showlegend\": true, \"type\": \"scatter\", \"x\": [21, 1, 1, 0, 3, 1, 1, 1, 1], \"xaxis\": \"x\", \"y\": [169.6, 105.1, 95.1, 87.6, 17.2, 15.1, 14.3, 10.3, 5.7], \"yaxis\": \"y\"}, {\"customdata\": [[\"Tasteful Dak Piks, by CMC\", 5, 160.2, [2, 3, 4, 5, 6, 7, 9, 10, 11, 12, 13, 14, 15, 16, 17]], [\"Tasteful Dak Piks, by CMC\", 33, 100.7, [4, 5, 6, 7, 8, 9, 10, 11, 12, 14, 15, 16, 17]], [\"Tasteful Dak Piks, by CMC\", 3, 91.9, [7, 8, 9, 10, 11, 13, 14, 15, 16, 17]], [\"Tasteful Dak Piks, by CMC\", 0, 61.6, [1, 2, 3, 4, 5, 6]], [\"Tasteful Dak Piks, by CMC\", 1, 57.6, [13, 14, 15, 16, 17]], [\"Tasteful Dak Piks, by CMC\", 2, 56.6, [7, 8, 9, 10, 11]], [\"Tasteful Dak Piks, by CMC\", 5, 56.4, [15, 16, 17]], [\"Tasteful Dak Piks, by CMC\", 13, 38.9, [2, 3, 4, 5, 6, 7, 8, 9, 11, 12, 13, 14, 15]], [\"Tasteful Dak Piks, by CMC\", 1, 18.3, [16, 17]], [\"Tasteful Dak Piks, by CMC\", 3, 15.9, [4, 5, 6]], [\"Tasteful Dak Piks, by CMC\", 1, 9.0, [8, 9]], [\"Tasteful Dak Piks, by CMC\", 1, 7.0, [11, 12, 13, 14]], [\"Tasteful Dak Piks, by CMC\", 8, 4.6, [4, 5, 6]], [\"Tasteful Dak Piks, by CMC\", 1, 3.5, [5, 6]], [\"Tasteful Dak Piks, by CMC\", 1, 1.4, [11, 12]], [\"Tasteful Dak Piks, by CMC\", 1, 0.0, [9, 10, 11, 12, 14, 15, 16, 17]], [\"Tasteful Dak Piks, by CMC\", 2, 0.0, [13, 14, 15]]], \"hovertemplate\": \"<b>%{hovertext}</b><br><br>Team=%{customdata[0]}<br>Bid Amount ($)=%{customdata[1]}<br>Total points=%{customdata[2]}<br>Stint (wks)=%{customdata[3]}<extra></extra>\", \"hovertext\": [\"Marquise Brown, WR (BAL)\", \"Chuba Hubbard, RB (CAR)\", \"Zach Ertz, TE (ARI)\", \"Tony Pollard, RB (DAL)\", \"Rex Burkhead, RB (HOU)\", \"D'Ernest Johnson, RB (CLE)\", \"Rashaad Penny, RB (SEA)\", \"Sterling Shepard, WR (NYG)\", \"Ronald Jones II, RB (TB)\", \"Tyler Conklin, TE (MIN)\", \"Kenneth Gainwell, RB (PHI)\", \"Alex Collins, RB (SEA)\", \"Nyheim Hines, RB (IND)\", \"Kenneth Gainwell, RB (PHI)\", \"Dan Arnold, TE (JAX)\", \"Derrick Henry, RB (TEN)\", \"J.D. McKissic, RB (WSH)\"], \"legendgroup\": \"Tasteful Dak Piks, by CMC\", \"marker\": {\"color\": \"#00cc96\", \"symbol\": \"circle\"}, \"mode\": \"markers\", \"name\": \"Tasteful Dak Piks, by CMC\", \"showlegend\": true, \"type\": \"scatter\", \"x\": [5, 33, 3, 0, 1, 2, 5, 13, 1, 3, 1, 1, 8, 1, 1, 1, 2], \"xaxis\": \"x\", \"y\": [160.2, 100.7, 91.9, 61.6, 57.6, 56.6, 56.4, 38.9, 18.3, 15.9, 9.0, 7.0, 4.6, 3.5, 1.4, 0.0, 0.0], \"yaxis\": \"y\"}, {\"customdata\": [[\"Godwin's Memorial\", 2, 158.3, [4, 5, 6, 7, 9, 10, 11, 12, 13, 14, 15, 16, 17]], [\"Godwin's Memorial\", 4, 46.7, [10, 11, 12, 13, 14, 15, 16]], [\"Godwin's Memorial\", 5, 25.8, [9, 10, 11, 12, 13, 14, 15, 16, 17]], [\"Godwin's Memorial\", 3, 22.6, [6, 7, 8]], [\"Godwin's Memorial\", 3, 16.3, [6, 7, 8, 9]], [\"Godwin's Memorial\", 1, 8.8, [12, 13, 14, 15]], [\"Godwin's Memorial\", 32, 7.9, [10, 11]]], \"hovertemplate\": \"<b>%{hovertext}</b><br><br>Team=%{customdata[0]}<br>Bid Amount ($)=%{customdata[1]}<br>Total points=%{customdata[2]}<br>Stint (wks)=%{customdata[3]}<extra></extra>\", \"hovertext\": [\"Hunter Renfrow, WR (OAK)\", \"Pat Freiermuth, TE (PIT)\", \"Kenyan Drake, RB (OAK)\", \"Hunter Henry, TE (NE)\", \"Jarvis Landry, WR (CLE)\", \"Courtland Sutton, WR (DEN)\", \"Adrian Peterson, RB (SEA)\"], \"legendgroup\": \"Godwin's Memorial\", \"marker\": {\"color\": \"#ab63fa\", \"symbol\": \"circle\"}, \"mode\": \"markers\", \"name\": \"Godwin's Memorial\", \"showlegend\": true, \"type\": \"scatter\", \"x\": [2, 4, 5, 3, 3, 1, 32], \"xaxis\": \"x\", \"y\": [158.3, 46.7, 25.8, 22.6, 16.3, 8.8, 7.9], \"yaxis\": \"y\"}, {\"customdata\": [[\"Fumble .\", 30, 130.6, [2, 3, 4, 5, 7, 8, 9, 10, 11, 12, 13, 14, 15, 16, 17]], [\"Fumble .\", 1, 106.1, [4, 5, 6, 7, 8, 9, 10, 11, 12, 13, 15, 16, 17]], [\"Fumble .\", 4, 68.8, [11, 12, 14, 15, 16, 17]], [\"Fumble .\", 9, 51.2, [6, 7, 8, 9]], [\"Fumble .\", 1, 0.0, [1, 2, 3, 4, 5]]], \"hovertemplate\": \"<b>%{hovertext}</b><br><br>Team=%{customdata[0]}<br>Bid Amount ($)=%{customdata[1]}<br>Total points=%{customdata[2]}<br>Stint (wks)=%{customdata[3]}<extra></extra>\", \"hovertext\": [\"Elijah Mitchell, RB (SF)\", \"Mike Gesicki, TE (MIA)\", \"D'Onta Foreman, RB (TEN)\", \"Devontae Booker, RB (NYG)\", \"T.Y. Hilton, WR (IND)\"], \"legendgroup\": \"Fumble .\", \"marker\": {\"color\": \"#FFA15A\", \"symbol\": \"circle\"}, \"mode\": \"markers\", \"name\": \"Fumble .\", \"showlegend\": true, \"type\": \"scatter\", \"x\": [30, 1, 4, 9, 1], \"xaxis\": \"x\", \"y\": [130.6, 106.1, 68.8, 51.2, 0.0], \"yaxis\": \"y\"}, {\"customdata\": [[\"Ice City USA\", 11, 117.8, [7, 8, 9, 10, 11, 12, 13, 15, 16, 17]], [\"Ice City USA\", 1, 77.1, [11, 12, 13, 14, 15, 16, 17]], [\"Ice City USA\", 1, 45.1, [5, 6, 8, 9, 10]], [\"Ice City USA\", 6, 41.9, [3, 4, 5, 6]], [\"Ice City USA\", 1, 26.9, [14, 15, 16, 17]], [\"Ice City USA\", 27, 23.8, [6, 7, 8, 9, 11, 12, 13, 14, 15, 16, 17]], [\"Ice City USA\", 1, 22.9, [5, 6, 7]], [\"Ice City USA\", 13, 16.7, [5, 6, 7]], [\"Ice City USA\", 1, 9.5, [11, 12]], [\"Ice City USA\", 2, 9.2, [3, 4]], [\"Ice City USA\", 1, 6.7, [12, 13]], [\"Ice City USA\", 2, 6.3, [9, 10]]], \"hovertemplate\": \"<b>%{hovertext}</b><br><br>Team=%{customdata[0]}<br>Bid Amount ($)=%{customdata[1]}<br>Total points=%{customdata[2]}<br>Stint (wks)=%{customdata[3]}<extra></extra>\", \"hovertext\": [\"Jaylen Waddle, WR (MIA)\", \"Darnell Mooney, WR (CHI)\", \"Emmanuel Sanders, WR (BUF)\", \"Michael Pittman Jr., WR (IND)\", \"Dontrell Hilliard, RB (TEN)\", \"Kadarius Toney, WR (NYG)\", \"Darnell Mooney, WR (CHI)\", \"Damien Williams, RB (CHI)\", \"Rashod Bateman, WR (BAL)\", \"Myles Gaskin, RB (MIA)\", \"Ty Johnson, RB (NYJ)\", \"Jeremy McNichols, RB (TEN)\"], \"legendgroup\": \"Ice City USA\", \"marker\": {\"color\": \"#19d3f3\", \"symbol\": \"circle\"}, \"mode\": \"markers\", \"name\": \"Ice City USA\", \"showlegend\": true, \"type\": \"scatter\", \"x\": [11, 1, 1, 6, 1, 27, 1, 13, 1, 2, 1, 2], \"xaxis\": \"x\", \"y\": [117.8, 77.1, 45.1, 41.9, 26.9, 23.8, 22.9, 16.7, 9.5, 9.2, 6.7, 6.3], \"yaxis\": \"y\"}, {\"customdata\": [[\"Frankel's Cankles\", 3, 114.6, [7, 8, 9, 10, 11, 12, 13, 15, 16, 17]], [\"Frankel's Cankles\", 25, 93.8, [6, 7, 8, 9, 10, 11, 12, 13, 15, 16, 17]], [\"Frankel's Cankles\", 1, 82.0, [11, 12, 13, 14, 15, 16, 17]], [\"Frankel's Cankles\", 1, 50.9, [8, 9, 10, 11, 12, 13, 15, 16, 17]], [\"Frankel's Cankles\", 1, 19.2, [9, 10]], [\"Frankel's Cankles\", 5, 12.6, [5, 6]], [\"Frankel's Cankles\", 1, 7.5, [15, 16]], [\"Frankel's Cankles\", 1, 4.4, [15, 16]], [\"Frankel's Cankles\", 1, 4.4, [11, 13]]], \"hovertemplate\": \"<b>%{hovertext}</b><br><br>Team=%{customdata[0]}<br>Bid Amount ($)=%{customdata[1]}<br>Total points=%{customdata[2]}<br>Stint (wks)=%{customdata[3]}<extra></extra>\", \"hovertext\": [\"Michael Pittman Jr., WR (IND)\", \"Myles Gaskin, RB (MIA)\", \"Devin Singletary, RB (BUF)\", \"Miles Sanders, RB (PHI)\", \"Dan Arnold, TE (JAX)\", \"Robby Anderson, WR (CAR)\", \"Jarvis Landry, WR (CLE)\", \"David Njoku, TE (CLE)\", \"Christian Kirk, WR (ARI)\"], \"legendgroup\": \"Frankel's Cankles\", \"marker\": {\"color\": \"#FF6692\", \"symbol\": \"circle\"}, \"mode\": \"markers\", \"name\": \"Frankel's Cankles\", \"showlegend\": true, \"type\": \"scatter\", \"x\": [3, 25, 1, 1, 1, 5, 1, 1, 1], \"xaxis\": \"x\", \"y\": [114.6, 93.8, 82.0, 50.9, 19.2, 12.6, 7.5, 4.4, 4.4], \"yaxis\": \"y\"}, {\"customdata\": [[\"Repeat Donger\", 10, 95.2, [6, 8, 9, 10, 11, 12, 13, 14, 15, 16, 17]], [\"Repeat Donger\", 1, 83.2, [10, 11, 12, 13, 14, 15, 16, 17]], [\"Repeat Donger\", 16, 81.2, [5, 6, 7, 8, 9, 10, 11, 13, 14, 15, 16, 17]], [\"Repeat Donger\", 23, 80.1, [6, 7, 8, 9, 10, 11]], [\"Repeat Donger\", 1, 76.1, [10, 11, 12, 13, 14, 15, 16, 17]], [\"Repeat Donger\", 3, 32.9, [7, 8, 9]], [\"Repeat Donger\", 3, 23.1, [3, 4, 5]], [\"Repeat Donger\", 9, 19.2, [3, 4]], [\"Repeat Donger\", 11, 18.7, [3, 4, 5]]], \"hovertemplate\": \"<b>%{hovertext}</b><br><br>Team=%{customdata[0]}<br>Bid Amount ($)=%{customdata[1]}<br>Total points=%{customdata[2]}<br>Stint (wks)=%{customdata[3]}<extra></extra>\", \"hovertext\": [\"Dalton Schultz, TE (DAL)\", \"Brandon Aiyuk, WR (SF)\", \"A.J. Green, WR (ARI)\", \"Darrel Williams, RB (KC)\", \"Rob Gronkowski, TE (TB)\", \"Christian Kirk, WR (ARI)\", \"Jared Cook, TE (LAC)\", \"J.D. McKissic, RB (WSH)\", \"Latavius Murray, RB (BAL)\"], \"legendgroup\": \"Repeat Donger\", \"marker\": {\"color\": \"#B6E880\", \"symbol\": \"circle\"}, \"mode\": \"markers\", \"name\": \"Repeat Donger\", \"showlegend\": true, \"type\": \"scatter\", \"x\": [10, 1, 16, 23, 1, 3, 3, 9, 11], \"xaxis\": \"x\", \"y\": [95.2, 83.2, 81.2, 80.1, 76.1, 32.9, 23.1, 19.2, 18.7], \"yaxis\": \"y\"}, {\"customdata\": [[\"Your Antivax Cousins\", 3, 81.5, [8, 9, 10, 11, 12, 13, 14, 15, 16, 17]], [\"Your Antivax Cousins\", 2, 62.4, [10, 11, 12, 13, 14, 15, 16]], [\"Your Antivax Cousins\", 1, 46.0, [12, 13, 14, 15, 16, 17]], [\"Your Antivax Cousins\", 22, 44.0, [6, 7, 8, 9, 11, 12]], [\"Your Antivax Cousins\", 1, 32.1, [15, 16, 17]], [\"Your Antivax Cousins\", 2, 28.9, [2, 3, 4]], [\"Your Antivax Cousins\", 13, 25.6, [6, 7, 8]], [\"Your Antivax Cousins\", 6, 24.9, [11, 12, 13, 15, 16]], [\"Your Antivax Cousins\", 1, 21.4, [15, 16, 17]], [\"Your Antivax Cousins\", 6, 8.7, [9, 10, 11, 12, 13]]], \"hovertemplate\": \"<b>%{hovertext}</b><br><br>Team=%{customdata[0]}<br>Bid Amount ($)=%{customdata[1]}<br>Total points=%{customdata[2]}<br>Stint (wks)=%{customdata[3]}<extra></extra>\", \"hovertext\": [\"Tony Pollard, RB (DAL)\", \"Elijah Moore, WR (NYJ)\", \"Noah Fant, TE (DEN)\", \"Khalil Herbert, RB (CHI)\", \"Jeff Wilson Jr., RB (SF)\", \"Tim Patrick, WR (DEN)\", \"Alex Collins, RB (SEA)\", \"Rhamondre Stevenson, RB (NE)\", \"DeVante Parker, WR (MIA)\", \"DeVante Parker, WR (MIA)\"], \"legendgroup\": \"Your Antivax Cousins\", \"marker\": {\"color\": \"#FF97FF\", \"symbol\": \"circle\"}, \"mode\": \"markers\", \"name\": \"Your Antivax Cousins\", \"showlegend\": true, \"type\": \"scatter\", \"x\": [3, 2, 1, 22, 1, 2, 13, 6, 1, 6], \"xaxis\": \"x\", \"y\": [81.5, 62.4, 46.0, 44.0, 32.1, 28.9, 25.6, 24.9, 21.4, 8.7], \"yaxis\": \"y\"}, {\"customdata\": [[\"Tier 2 never felt so good\", 8, 55.8, [12, 13, 14, 15, 16, 17]], [\"Tier 2 never felt so good\", 22, 52.9, [16, 17]], [\"Tier 2 never felt so good\", 3, 48.9, [9, 10, 11, 12, 13, 14, 15, 16]], [\"Tier 2 never felt so good\", 7, 19.2, [16, 17]]], \"hovertemplate\": \"<b>%{hovertext}</b><br><br>Team=%{customdata[0]}<br>Bid Amount ($)=%{customdata[1]}<br>Total points=%{customdata[2]}<br>Stint (wks)=%{customdata[3]}<extra></extra>\", \"hovertext\": [\"Michael Gallup, WR (DAL)\", \"Amon-Ra St. Brown, WR (DET)\", \"Jared Cook, TE (LAC)\", \"Christian Kirk, WR (ARI)\"], \"legendgroup\": \"Tier 2 never felt so good\", \"marker\": {\"color\": \"#FECB52\", \"symbol\": \"circle\"}, \"mode\": \"markers\", \"name\": \"Tier 2 never felt so good\", \"showlegend\": true, \"type\": \"scatter\", \"x\": [8, 22, 3, 7], \"xaxis\": \"x\", \"y\": [55.8, 52.9, 48.9, 19.2], \"yaxis\": \"y\"}, {\"customdata\": [[\"Dick Cheese\", 1, 50.7, [11, 12, 13, 14, 15, 16, 17]], [\"Dick Cheese\", 0, 50.2, [2, 3, 4, 5, 6, 8]], [\"Dick Cheese\", 2, 37.8, [16, 17]], [\"Dick Cheese\", 1, 37.6, [12, 13, 14, 15, 16]], [\"Dick Cheese\", 2, 34.2, [10, 11, 12, 13]], [\"Dick Cheese\", 21, 32.3, [7, 8, 10, 11]], [\"Dick Cheese\", 1, 6.1, [11, 12]], [\"Dick Cheese\", 0, 0.0, [2, 3, 4, 5]]], \"hovertemplate\": \"<b>%{hovertext}</b><br><br>Team=%{customdata[0]}<br>Bid Amount ($)=%{customdata[1]}<br>Total points=%{customdata[2]}<br>Stint (wks)=%{customdata[3]}<extra></extra>\", \"hovertext\": [\"Alexander Mattison, RB (MIN)\", \"Alexander Mattison, RB (MIN)\", \"Justin Jackson, RB (LAC)\", \"Chase Claypool, WR (PIT)\", \"Mark Ingram II, RB (NO)\", \"J.D. McKissic, RB (WSH)\", \"Hunter Henry, TE (NE)\", \"Jeff Wilson Jr., RB (SF)\"], \"legendgroup\": \"Dick Cheese\", \"marker\": {\"color\": \"#636efa\", \"symbol\": \"circle\"}, \"mode\": \"markers\", \"name\": \"Dick Cheese\", \"showlegend\": true, \"type\": \"scatter\", \"x\": [1, 0, 2, 1, 2, 21, 1, 0], \"xaxis\": \"x\", \"y\": [50.7, 50.2, 37.8, 37.6, 34.2, 32.3, 6.1, 0.0], \"yaxis\": \"y\"}, {\"customdata\": [[\"Favre's Wranglers\", 0, 21.7, [2, 3, 4, 5, 6, 7, 8, 9, 10, 11]], [\"Favre's Wranglers\", 1, 10.9, [16, 17]], [\"Favre's Wranglers\", 1, 8.1, [12, 13, 14]], [\"Favre's Wranglers\", 1, 6.7, [15, 16, 17]]], \"hovertemplate\": \"<b>%{hovertext}</b><br><br>Team=%{customdata[0]}<br>Bid Amount ($)=%{customdata[1]}<br>Total points=%{customdata[2]}<br>Stint (wks)=%{customdata[3]}<extra></extra>\", \"hovertext\": [\"Phillip Lindsay, RB (MIA)\", \"Cole Kmet, TE (CHI)\", \"Tyler Higbee, TE (LAR)\", \"Royce Freeman, RB (HOU)\"], \"legendgroup\": \"Favre's Wranglers\", \"marker\": {\"color\": \"#EF553B\", \"symbol\": \"circle\"}, \"mode\": \"markers\", \"name\": \"Favre's Wranglers\", \"showlegend\": true, \"type\": \"scatter\", \"x\": [0, 1, 1, 1], \"xaxis\": \"x\", \"y\": [21.7, 10.9, 8.1, 6.7], \"yaxis\": \"y\"}],\n",
       "                        {\"height\": 700, \"legend\": {\"title\": {\"text\": \"Team\"}, \"tracegroupgap\": 0}, \"template\": {\"data\": {\"bar\": [{\"error_x\": {\"color\": \"#2a3f5f\"}, \"error_y\": {\"color\": \"#2a3f5f\"}, \"marker\": {\"line\": {\"color\": \"#E5ECF6\", \"width\": 0.5}}, \"type\": \"bar\"}], \"barpolar\": [{\"marker\": {\"line\": {\"color\": \"#E5ECF6\", \"width\": 0.5}}, \"type\": \"barpolar\"}], \"carpet\": [{\"aaxis\": {\"endlinecolor\": \"#2a3f5f\", \"gridcolor\": \"white\", \"linecolor\": \"white\", \"minorgridcolor\": \"white\", \"startlinecolor\": \"#2a3f5f\"}, \"baxis\": {\"endlinecolor\": \"#2a3f5f\", \"gridcolor\": \"white\", \"linecolor\": \"white\", \"minorgridcolor\": \"white\", \"startlinecolor\": \"#2a3f5f\"}, \"type\": \"carpet\"}], \"choropleth\": [{\"colorbar\": {\"outlinewidth\": 0, \"ticks\": \"\"}, \"type\": \"choropleth\"}], \"contour\": [{\"colorbar\": {\"outlinewidth\": 0, \"ticks\": \"\"}, \"colorscale\": [[0.0, \"#0d0887\"], [0.1111111111111111, \"#46039f\"], [0.2222222222222222, \"#7201a8\"], [0.3333333333333333, \"#9c179e\"], [0.4444444444444444, \"#bd3786\"], [0.5555555555555556, \"#d8576b\"], [0.6666666666666666, \"#ed7953\"], [0.7777777777777778, \"#fb9f3a\"], [0.8888888888888888, \"#fdca26\"], [1.0, \"#f0f921\"]], \"type\": \"contour\"}], \"contourcarpet\": [{\"colorbar\": {\"outlinewidth\": 0, \"ticks\": \"\"}, \"type\": \"contourcarpet\"}], \"heatmap\": [{\"colorbar\": {\"outlinewidth\": 0, \"ticks\": \"\"}, \"colorscale\": [[0.0, \"#0d0887\"], [0.1111111111111111, \"#46039f\"], [0.2222222222222222, \"#7201a8\"], [0.3333333333333333, \"#9c179e\"], [0.4444444444444444, \"#bd3786\"], [0.5555555555555556, \"#d8576b\"], [0.6666666666666666, \"#ed7953\"], [0.7777777777777778, \"#fb9f3a\"], [0.8888888888888888, \"#fdca26\"], [1.0, \"#f0f921\"]], \"type\": \"heatmap\"}], \"heatmapgl\": [{\"colorbar\": {\"outlinewidth\": 0, \"ticks\": \"\"}, \"colorscale\": [[0.0, \"#0d0887\"], [0.1111111111111111, \"#46039f\"], [0.2222222222222222, \"#7201a8\"], [0.3333333333333333, \"#9c179e\"], [0.4444444444444444, \"#bd3786\"], [0.5555555555555556, \"#d8576b\"], [0.6666666666666666, \"#ed7953\"], [0.7777777777777778, \"#fb9f3a\"], [0.8888888888888888, \"#fdca26\"], [1.0, \"#f0f921\"]], \"type\": \"heatmapgl\"}], \"histogram\": [{\"marker\": {\"colorbar\": {\"outlinewidth\": 0, \"ticks\": \"\"}}, \"type\": \"histogram\"}], \"histogram2d\": [{\"colorbar\": {\"outlinewidth\": 0, \"ticks\": \"\"}, \"colorscale\": [[0.0, \"#0d0887\"], [0.1111111111111111, \"#46039f\"], [0.2222222222222222, \"#7201a8\"], [0.3333333333333333, \"#9c179e\"], [0.4444444444444444, \"#bd3786\"], [0.5555555555555556, \"#d8576b\"], [0.6666666666666666, \"#ed7953\"], [0.7777777777777778, \"#fb9f3a\"], [0.8888888888888888, \"#fdca26\"], [1.0, \"#f0f921\"]], \"type\": \"histogram2d\"}], \"histogram2dcontour\": [{\"colorbar\": {\"outlinewidth\": 0, \"ticks\": \"\"}, \"colorscale\": [[0.0, \"#0d0887\"], [0.1111111111111111, \"#46039f\"], [0.2222222222222222, \"#7201a8\"], [0.3333333333333333, \"#9c179e\"], [0.4444444444444444, \"#bd3786\"], [0.5555555555555556, \"#d8576b\"], [0.6666666666666666, \"#ed7953\"], [0.7777777777777778, \"#fb9f3a\"], [0.8888888888888888, \"#fdca26\"], [1.0, \"#f0f921\"]], \"type\": \"histogram2dcontour\"}], \"mesh3d\": [{\"colorbar\": {\"outlinewidth\": 0, \"ticks\": \"\"}, \"type\": \"mesh3d\"}], \"parcoords\": [{\"line\": {\"colorbar\": {\"outlinewidth\": 0, \"ticks\": \"\"}}, \"type\": \"parcoords\"}], \"pie\": [{\"automargin\": true, \"type\": \"pie\"}], \"scatter\": [{\"marker\": {\"colorbar\": {\"outlinewidth\": 0, \"ticks\": \"\"}}, \"type\": \"scatter\"}], \"scatter3d\": [{\"line\": {\"colorbar\": {\"outlinewidth\": 0, \"ticks\": \"\"}}, \"marker\": {\"colorbar\": {\"outlinewidth\": 0, \"ticks\": \"\"}}, \"type\": \"scatter3d\"}], \"scattercarpet\": [{\"marker\": {\"colorbar\": {\"outlinewidth\": 0, \"ticks\": \"\"}}, \"type\": \"scattercarpet\"}], \"scattergeo\": [{\"marker\": {\"colorbar\": {\"outlinewidth\": 0, \"ticks\": \"\"}}, \"type\": \"scattergeo\"}], \"scattergl\": [{\"marker\": {\"colorbar\": {\"outlinewidth\": 0, \"ticks\": \"\"}}, \"type\": \"scattergl\"}], \"scattermapbox\": [{\"marker\": {\"colorbar\": {\"outlinewidth\": 0, \"ticks\": \"\"}}, \"type\": \"scattermapbox\"}], \"scatterpolar\": [{\"marker\": {\"colorbar\": {\"outlinewidth\": 0, \"ticks\": \"\"}}, \"type\": \"scatterpolar\"}], \"scatterpolargl\": [{\"marker\": {\"colorbar\": {\"outlinewidth\": 0, \"ticks\": \"\"}}, \"type\": \"scatterpolargl\"}], \"scatterternary\": [{\"marker\": {\"colorbar\": {\"outlinewidth\": 0, \"ticks\": \"\"}}, \"type\": \"scatterternary\"}], \"surface\": [{\"colorbar\": {\"outlinewidth\": 0, \"ticks\": \"\"}, \"colorscale\": [[0.0, \"#0d0887\"], [0.1111111111111111, \"#46039f\"], [0.2222222222222222, \"#7201a8\"], [0.3333333333333333, \"#9c179e\"], [0.4444444444444444, \"#bd3786\"], [0.5555555555555556, \"#d8576b\"], [0.6666666666666666, \"#ed7953\"], [0.7777777777777778, \"#fb9f3a\"], [0.8888888888888888, \"#fdca26\"], [1.0, \"#f0f921\"]], \"type\": \"surface\"}], \"table\": [{\"cells\": {\"fill\": {\"color\": \"#EBF0F8\"}, \"line\": {\"color\": \"white\"}}, \"header\": {\"fill\": {\"color\": \"#C8D4E3\"}, \"line\": {\"color\": \"white\"}}, \"type\": \"table\"}]}, \"layout\": {\"annotationdefaults\": {\"arrowcolor\": \"#2a3f5f\", \"arrowhead\": 0, \"arrowwidth\": 1}, \"coloraxis\": {\"colorbar\": {\"outlinewidth\": 0, \"ticks\": \"\"}}, \"colorscale\": {\"diverging\": [[0, \"#8e0152\"], [0.1, \"#c51b7d\"], [0.2, \"#de77ae\"], [0.3, \"#f1b6da\"], [0.4, \"#fde0ef\"], [0.5, \"#f7f7f7\"], [0.6, \"#e6f5d0\"], [0.7, \"#b8e186\"], [0.8, \"#7fbc41\"], [0.9, \"#4d9221\"], [1, \"#276419\"]], \"sequential\": [[0.0, \"#0d0887\"], [0.1111111111111111, \"#46039f\"], [0.2222222222222222, \"#7201a8\"], [0.3333333333333333, \"#9c179e\"], [0.4444444444444444, \"#bd3786\"], [0.5555555555555556, \"#d8576b\"], [0.6666666666666666, \"#ed7953\"], [0.7777777777777778, \"#fb9f3a\"], [0.8888888888888888, \"#fdca26\"], [1.0, \"#f0f921\"]], \"sequentialminus\": [[0.0, \"#0d0887\"], [0.1111111111111111, \"#46039f\"], [0.2222222222222222, \"#7201a8\"], [0.3333333333333333, \"#9c179e\"], [0.4444444444444444, \"#bd3786\"], [0.5555555555555556, \"#d8576b\"], [0.6666666666666666, \"#ed7953\"], [0.7777777777777778, \"#fb9f3a\"], [0.8888888888888888, \"#fdca26\"], [1.0, \"#f0f921\"]]}, \"colorway\": [\"#636efa\", \"#EF553B\", \"#00cc96\", \"#ab63fa\", \"#FFA15A\", \"#19d3f3\", \"#FF6692\", \"#B6E880\", \"#FF97FF\", \"#FECB52\"], \"font\": {\"color\": \"#2a3f5f\"}, \"geo\": {\"bgcolor\": \"white\", \"lakecolor\": \"white\", \"landcolor\": \"#E5ECF6\", \"showlakes\": true, \"showland\": true, \"subunitcolor\": \"white\"}, \"hoverlabel\": {\"align\": \"left\"}, \"hovermode\": \"closest\", \"mapbox\": {\"style\": \"light\"}, \"paper_bgcolor\": \"white\", \"plot_bgcolor\": \"#E5ECF6\", \"polar\": {\"angularaxis\": {\"gridcolor\": \"white\", \"linecolor\": \"white\", \"ticks\": \"\"}, \"bgcolor\": \"#E5ECF6\", \"radialaxis\": {\"gridcolor\": \"white\", \"linecolor\": \"white\", \"ticks\": \"\"}}, \"scene\": {\"xaxis\": {\"backgroundcolor\": \"#E5ECF6\", \"gridcolor\": \"white\", \"gridwidth\": 2, \"linecolor\": \"white\", \"showbackground\": true, \"ticks\": \"\", \"zerolinecolor\": \"white\"}, \"yaxis\": {\"backgroundcolor\": \"#E5ECF6\", \"gridcolor\": \"white\", \"gridwidth\": 2, \"linecolor\": \"white\", \"showbackground\": true, \"ticks\": \"\", \"zerolinecolor\": \"white\"}, \"zaxis\": {\"backgroundcolor\": \"#E5ECF6\", \"gridcolor\": \"white\", \"gridwidth\": 2, \"linecolor\": \"white\", \"showbackground\": true, \"ticks\": \"\", \"zerolinecolor\": \"white\"}}, \"shapedefaults\": {\"line\": {\"color\": \"#2a3f5f\"}}, \"ternary\": {\"aaxis\": {\"gridcolor\": \"white\", \"linecolor\": \"white\", \"ticks\": \"\"}, \"baxis\": {\"gridcolor\": \"white\", \"linecolor\": \"white\", \"ticks\": \"\"}, \"bgcolor\": \"#E5ECF6\", \"caxis\": {\"gridcolor\": \"white\", \"linecolor\": \"white\", \"ticks\": \"\"}}, \"title\": {\"x\": 0.05}, \"xaxis\": {\"automargin\": true, \"gridcolor\": \"white\", \"linecolor\": \"white\", \"ticks\": \"\", \"title\": {\"standoff\": 15}, \"zerolinecolor\": \"white\", \"zerolinewidth\": 2}, \"yaxis\": {\"automargin\": true, \"gridcolor\": \"white\", \"linecolor\": \"white\", \"ticks\": \"\", \"title\": {\"standoff\": 15}, \"zerolinecolor\": \"white\", \"zerolinewidth\": 2}}}, \"title\": {\"text\": \"RB WR TE Waiver Spending vs. Total Fantasy Points\"}, \"width\": 900, \"xaxis\": {\"anchor\": \"y\", \"domain\": [0.0, 1.0], \"range\": [-1, 39], \"title\": {\"text\": \"Bid Amount ($)\"}}, \"yaxis\": {\"anchor\": \"x\", \"domain\": [0.0, 1.0], \"range\": [-5, 213], \"title\": {\"text\": \"Total points\"}}},\n",
       "                        {\"responsive\": true}\n",
       "                    ).then(function(){\n",
       "                            \n",
       "var gd = document.getElementById('3553414c-bf1a-41fa-ad99-84c381842e85');\n",
       "var x = new MutationObserver(function (mutations, observer) {{\n",
       "        var display = window.getComputedStyle(gd).display;\n",
       "        if (!display || display === 'none') {{\n",
       "            console.log([gd, 'removed!']);\n",
       "            Plotly.purge(gd);\n",
       "            observer.disconnect();\n",
       "        }}\n",
       "}});\n",
       "\n",
       "// Listen for the removal of the full notebook cells\n",
       "var notebookContainer = gd.closest('#notebook-container');\n",
       "if (notebookContainer) {{\n",
       "    x.observe(notebookContainer, {childList: true});\n",
       "}}\n",
       "\n",
       "// Listen for the clearing of the current output cell\n",
       "var outputEl = gd.closest('.output');\n",
       "if (outputEl) {{\n",
       "    x.observe(outputEl, {childList: true});\n",
       "}}\n",
       "\n",
       "                        })\n",
       "                };\n",
       "                });\n",
       "            </script>\n",
       "        </div>"
      ]
     },
     "metadata": {},
     "output_type": "display_data"
    }
   ],
   "source": [
    "acquisition_method = 'Waiver'\n",
    "position_subset = ['RB','WR','TE']\n",
    "\n",
    "df = df_stints_f_waiver[df_stints_f_waiver['Position'].isin(position_subset)]\n",
    "\n",
    "get_acquisitions_scatterplot(df , ' '.join(position_subset), acquisition_method)"
   ]
  }
 ],
 "metadata": {
  "kernelspec": {
   "display_name": "Python 3",
   "language": "python",
   "name": "python3"
  },
  "language_info": {
   "codemirror_mode": {
    "name": "ipython",
    "version": 3
   },
   "file_extension": ".py",
   "mimetype": "text/x-python",
   "name": "python",
   "nbconvert_exporter": "python",
   "pygments_lexer": "ipython3",
   "version": "3.7.4"
  }
 },
 "nbformat": 4,
 "nbformat_minor": 2
}
