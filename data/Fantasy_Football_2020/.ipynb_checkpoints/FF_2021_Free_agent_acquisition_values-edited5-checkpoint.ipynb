{
 "cells": [
  {
   "cell_type": "markdown",
   "metadata": {},
   "source": [
    "This is a retrospective data analysis of our ESPN Fantasy Football league data at the end of Week 17 for the 2021 season. The code can be re-used for any past season using the same ESPN API.\n",
    "\n",
    "I used the [sportsipy API](https://sportsreference.readthedocs.io/en/stable/nfl.html) for NFL schedules and [Christian Wendt's ESPN Fantasy Football API](https://github.com/cwendt94/espn-api) to extract ESPN league-specific data.\n",
    "\n",
    "For data visualization, I used the [Altair Data Visualization Library](https://altair-viz.github.io/). Altair was chosen for its interactivity, especially for its ability to display hover data and the compatibility of interactive plots with GitHub Pages."
   ]
  },
  {
   "cell_type": "code",
   "execution_count": 98,
   "metadata": {},
   "outputs": [],
   "source": [
    "import json\n",
    "import numpy as np\n",
    "import pandas as pd\n",
    "import matplotlib.pyplot as plt\n",
    "import seaborn as sns\n",
    "import plotly.express as px\n",
    "import plotly.io as pio\n",
    "import plotly.graph_objects as go\n",
    "import altair as alt\n",
    "\n",
    "# import datetime\n",
    "from datetime import date\n",
    "# from datetime import datetime\n",
    "from datetime import datetime, timedelta\n",
    "\n",
    "import requests\n",
    "import espn_api\n",
    "from espn_api.football import League\n",
    "from espn_api.football import activity\n",
    "\n",
    "import sportsipy.nfl\n",
    "from sportsipy.nfl.boxscore import Boxscore\n",
    "from sportsipy.nfl.schedule import Schedule\n",
    "from sportsipy.nfl.teams import Teams\n",
    "import nfl_data_py as nfl\n",
    "\n",
    "from sportsipy.nfl.teams import Teams"
   ]
  },
  {
   "cell_type": "markdown",
   "metadata": {},
   "source": [
    "## Establish year and length of regular season (number of weeks)"
   ]
  },
  {
   "cell_type": "code",
   "execution_count": 99,
   "metadata": {},
   "outputs": [],
   "source": [
    "year_of_interest = 2021\n",
    "games_all_season = 18"
   ]
  },
  {
   "cell_type": "markdown",
   "metadata": {},
   "source": [
    "## Perform conversion between sportsipy and ESPN API team abbreviation conventions"
   ]
  },
  {
   "cell_type": "code",
   "execution_count": 100,
   "metadata": {},
   "outputs": [],
   "source": [
    "df_games = nfl.import_schedules([year_of_interest])\n",
    "\n",
    "teams = Teams()\n",
    "\n",
    "df_team_names = pd.DataFrame(columns = ['Pro Team Name' , 'Abbrev'])\n",
    "abbrev_ls = []\n",
    "team_name_ls = []\n",
    "\n",
    "for team in teams:\n",
    "    abbrev_ls.append(team.abbreviation)\n",
    "    team_name_ls.append(team.name)\n",
    "    \n",
    "df_team_names['Pro Team Name'] = team_name_ls\n",
    "df_team_names['Abbrev'] = abbrev_ls\n",
    "\n",
    "df_team_names.sort_values('Pro Team Name',ascending=True,inplace=True)\n",
    "\n",
    "df_team_names.to_csv('abbrev_names.csv')\n",
    "\n",
    "df_team_name_convert = pd.read_csv('team_abbrev_conversion.csv').set_index('Abbrev_sportsipy')\n",
    "\n",
    "conv_dict = df_team_name_convert['Abbrev'].to_dict()\n",
    "\n",
    "df_proteam_schedule = pd.read_csv('team_abbrev.csv' , index_col=False).drop(['Unnamed: 0'],axis=1).set_index('Abbrev_sportsipy')\n",
    "\n",
    "pro_team_ls = df_proteam_schedule.index.tolist()\n"
   ]
  },
  {
   "cell_type": "markdown",
   "metadata": {},
   "source": [
    "## Build NFL team schedules with dates"
   ]
  },
  {
   "cell_type": "code",
   "execution_count": 101,
   "metadata": {},
   "outputs": [],
   "source": [
    "# series for each NFL team:\n",
    "\n",
    "wk_ls = [i+1 for i in list(range(games_all_season))]\n",
    "\n",
    "df_proteam_schedules = pd.DataFrame(data=[], index=wk_ls , columns = pro_team_ls)"
   ]
  },
  {
   "cell_type": "code",
   "execution_count": 102,
   "metadata": {},
   "outputs": [],
   "source": [
    "for i in pro_team_ls:\n",
    "    proteam_schedule = Schedule(i)\n",
    "    \n",
    "    for game in proteam_schedule:\n",
    "        game_time = game.datetime.date()\n",
    "        wk = game.week\n",
    "        \n",
    "        df_proteam_schedules.loc[wk,i] = game_time\n",
    "        \n",
    "df_proteam_schedules.fillna('BYE',inplace=True)\n",
    "\n",
    "df_proteam_schedules.rename(columns = conv_dict , inplace=True)"
   ]
  },
  {
   "cell_type": "markdown",
   "metadata": {},
   "source": [
    "NFL team schedules with rows representing NFL Week and columns representing NFL Team"
   ]
  },
  {
   "cell_type": "code",
   "execution_count": 103,
   "metadata": {},
   "outputs": [
    {
     "data": {
      "text/html": [
       "<div>\n",
       "<style scoped>\n",
       "    .dataframe tbody tr th:only-of-type {\n",
       "        vertical-align: middle;\n",
       "    }\n",
       "\n",
       "    .dataframe tbody tr th {\n",
       "        vertical-align: top;\n",
       "    }\n",
       "\n",
       "    .dataframe thead th {\n",
       "        text-align: right;\n",
       "    }\n",
       "</style>\n",
       "<table border=\"1\" class=\"dataframe\">\n",
       "  <thead>\n",
       "    <tr style=\"text-align: right;\">\n",
       "      <th></th>\n",
       "      <th>ARI</th>\n",
       "      <th>ATL</th>\n",
       "      <th>BAL</th>\n",
       "      <th>BUF</th>\n",
       "      <th>CAR</th>\n",
       "      <th>CHI</th>\n",
       "      <th>CIN</th>\n",
       "      <th>CLE</th>\n",
       "      <th>DAL</th>\n",
       "      <th>DEN</th>\n",
       "      <th>...</th>\n",
       "      <th>NO</th>\n",
       "      <th>NYG</th>\n",
       "      <th>NYJ</th>\n",
       "      <th>PHI</th>\n",
       "      <th>PIT</th>\n",
       "      <th>SF</th>\n",
       "      <th>SEA</th>\n",
       "      <th>TB</th>\n",
       "      <th>TEN</th>\n",
       "      <th>WSH</th>\n",
       "    </tr>\n",
       "  </thead>\n",
       "  <tbody>\n",
       "    <tr>\n",
       "      <th>1</th>\n",
       "      <td>2021-09-12</td>\n",
       "      <td>2021-09-12</td>\n",
       "      <td>2021-09-13</td>\n",
       "      <td>2021-09-12</td>\n",
       "      <td>2021-09-12</td>\n",
       "      <td>2021-09-12</td>\n",
       "      <td>2021-09-12</td>\n",
       "      <td>2021-09-12</td>\n",
       "      <td>2021-09-09</td>\n",
       "      <td>2021-09-12</td>\n",
       "      <td>...</td>\n",
       "      <td>2021-09-12</td>\n",
       "      <td>2021-09-12</td>\n",
       "      <td>2021-09-12</td>\n",
       "      <td>2021-09-12</td>\n",
       "      <td>2021-09-12</td>\n",
       "      <td>2021-09-12</td>\n",
       "      <td>2021-09-12</td>\n",
       "      <td>2021-09-09</td>\n",
       "      <td>2021-09-12</td>\n",
       "      <td>2021-09-12</td>\n",
       "    </tr>\n",
       "    <tr>\n",
       "      <th>2</th>\n",
       "      <td>2021-09-19</td>\n",
       "      <td>2021-09-19</td>\n",
       "      <td>2021-09-19</td>\n",
       "      <td>2021-09-19</td>\n",
       "      <td>2021-09-19</td>\n",
       "      <td>2021-09-19</td>\n",
       "      <td>2021-09-19</td>\n",
       "      <td>2021-09-19</td>\n",
       "      <td>2021-09-19</td>\n",
       "      <td>2021-09-19</td>\n",
       "      <td>...</td>\n",
       "      <td>2021-09-19</td>\n",
       "      <td>2021-09-16</td>\n",
       "      <td>2021-09-19</td>\n",
       "      <td>2021-09-19</td>\n",
       "      <td>2021-09-19</td>\n",
       "      <td>2021-09-19</td>\n",
       "      <td>2021-09-19</td>\n",
       "      <td>2021-09-19</td>\n",
       "      <td>2021-09-19</td>\n",
       "      <td>2021-09-16</td>\n",
       "    </tr>\n",
       "    <tr>\n",
       "      <th>3</th>\n",
       "      <td>2021-09-26</td>\n",
       "      <td>2021-09-26</td>\n",
       "      <td>2021-09-26</td>\n",
       "      <td>2021-09-26</td>\n",
       "      <td>2021-09-23</td>\n",
       "      <td>2021-09-26</td>\n",
       "      <td>2021-09-26</td>\n",
       "      <td>2021-09-26</td>\n",
       "      <td>2021-09-27</td>\n",
       "      <td>2021-09-26</td>\n",
       "      <td>...</td>\n",
       "      <td>2021-09-26</td>\n",
       "      <td>2021-09-26</td>\n",
       "      <td>2021-09-26</td>\n",
       "      <td>2021-09-27</td>\n",
       "      <td>2021-09-26</td>\n",
       "      <td>2021-09-26</td>\n",
       "      <td>2021-09-26</td>\n",
       "      <td>2021-09-26</td>\n",
       "      <td>2021-09-26</td>\n",
       "      <td>2021-09-26</td>\n",
       "    </tr>\n",
       "    <tr>\n",
       "      <th>4</th>\n",
       "      <td>2021-10-03</td>\n",
       "      <td>2021-10-03</td>\n",
       "      <td>2021-10-03</td>\n",
       "      <td>2021-10-03</td>\n",
       "      <td>2021-10-03</td>\n",
       "      <td>2021-10-03</td>\n",
       "      <td>2021-09-30</td>\n",
       "      <td>2021-10-03</td>\n",
       "      <td>2021-10-03</td>\n",
       "      <td>2021-10-03</td>\n",
       "      <td>...</td>\n",
       "      <td>2021-10-03</td>\n",
       "      <td>2021-10-03</td>\n",
       "      <td>2021-10-03</td>\n",
       "      <td>2021-10-03</td>\n",
       "      <td>2021-10-03</td>\n",
       "      <td>2021-10-03</td>\n",
       "      <td>2021-10-03</td>\n",
       "      <td>2021-10-03</td>\n",
       "      <td>2021-10-03</td>\n",
       "      <td>2021-10-03</td>\n",
       "    </tr>\n",
       "    <tr>\n",
       "      <th>5</th>\n",
       "      <td>2021-10-10</td>\n",
       "      <td>2021-10-10</td>\n",
       "      <td>2021-10-11</td>\n",
       "      <td>2021-10-10</td>\n",
       "      <td>2021-10-10</td>\n",
       "      <td>2021-10-10</td>\n",
       "      <td>2021-10-10</td>\n",
       "      <td>2021-10-10</td>\n",
       "      <td>2021-10-10</td>\n",
       "      <td>2021-10-10</td>\n",
       "      <td>...</td>\n",
       "      <td>2021-10-10</td>\n",
       "      <td>2021-10-10</td>\n",
       "      <td>2021-10-10</td>\n",
       "      <td>2021-10-10</td>\n",
       "      <td>2021-10-10</td>\n",
       "      <td>2021-10-10</td>\n",
       "      <td>2021-10-07</td>\n",
       "      <td>2021-10-10</td>\n",
       "      <td>2021-10-10</td>\n",
       "      <td>2021-10-10</td>\n",
       "    </tr>\n",
       "  </tbody>\n",
       "</table>\n",
       "<p>5 rows × 32 columns</p>\n",
       "</div>"
      ],
      "text/plain": [
       "          ARI         ATL         BAL         BUF         CAR         CHI  \\\n",
       "1  2021-09-12  2021-09-12  2021-09-13  2021-09-12  2021-09-12  2021-09-12   \n",
       "2  2021-09-19  2021-09-19  2021-09-19  2021-09-19  2021-09-19  2021-09-19   \n",
       "3  2021-09-26  2021-09-26  2021-09-26  2021-09-26  2021-09-23  2021-09-26   \n",
       "4  2021-10-03  2021-10-03  2021-10-03  2021-10-03  2021-10-03  2021-10-03   \n",
       "5  2021-10-10  2021-10-10  2021-10-11  2021-10-10  2021-10-10  2021-10-10   \n",
       "\n",
       "          CIN         CLE         DAL         DEN  ...          NO  \\\n",
       "1  2021-09-12  2021-09-12  2021-09-09  2021-09-12  ...  2021-09-12   \n",
       "2  2021-09-19  2021-09-19  2021-09-19  2021-09-19  ...  2021-09-19   \n",
       "3  2021-09-26  2021-09-26  2021-09-27  2021-09-26  ...  2021-09-26   \n",
       "4  2021-09-30  2021-10-03  2021-10-03  2021-10-03  ...  2021-10-03   \n",
       "5  2021-10-10  2021-10-10  2021-10-10  2021-10-10  ...  2021-10-10   \n",
       "\n",
       "          NYG         NYJ         PHI         PIT          SF         SEA  \\\n",
       "1  2021-09-12  2021-09-12  2021-09-12  2021-09-12  2021-09-12  2021-09-12   \n",
       "2  2021-09-16  2021-09-19  2021-09-19  2021-09-19  2021-09-19  2021-09-19   \n",
       "3  2021-09-26  2021-09-26  2021-09-27  2021-09-26  2021-09-26  2021-09-26   \n",
       "4  2021-10-03  2021-10-03  2021-10-03  2021-10-03  2021-10-03  2021-10-03   \n",
       "5  2021-10-10  2021-10-10  2021-10-10  2021-10-10  2021-10-10  2021-10-07   \n",
       "\n",
       "           TB         TEN         WSH  \n",
       "1  2021-09-09  2021-09-12  2021-09-12  \n",
       "2  2021-09-19  2021-09-19  2021-09-16  \n",
       "3  2021-09-26  2021-09-26  2021-09-26  \n",
       "4  2021-10-03  2021-10-03  2021-10-03  \n",
       "5  2021-10-10  2021-10-10  2021-10-10  \n",
       "\n",
       "[5 rows x 32 columns]"
      ]
     },
     "execution_count": 103,
     "metadata": {},
     "output_type": "execute_result"
    }
   ],
   "source": [
    "df_proteam_schedules.head()"
   ]
  },
  {
   "cell_type": "code",
   "execution_count": 104,
   "metadata": {},
   "outputs": [],
   "source": [
    "season_start_date = pd.melt(df_proteam_schedules)[~pd.melt(df_proteam_schedules)['value'].isin(['BYE'])]['value'].min()"
   ]
  },
  {
   "cell_type": "markdown",
   "metadata": {},
   "source": [
    "## Import data from ESPN Fantasy Football"
   ]
  },
  {
   "cell_type": "code",
   "execution_count": 105,
   "metadata": {},
   "outputs": [
    {
     "ename": "SSLError",
     "evalue": "HTTPSConnectionPool(host='fantasy.espn.com', port=443): Max retries exceeded with url: /apis/v3/games/ffl/seasons/2021/segments/0/leagues/1094090?view=kona_playercard (Caused by SSLError(SSLError(\"bad handshake: SysCallError(60, 'ETIMEDOUT')\")))",
     "output_type": "error",
     "traceback": [
      "\u001b[0;31m---------------------------------------------------------------------------\u001b[0m",
      "\u001b[0;31mSysCallError\u001b[0m                              Traceback (most recent call last)",
      "\u001b[0;32m/opt/anaconda3/lib/python3.7/site-packages/urllib3/contrib/pyopenssl.py\u001b[0m in \u001b[0;36mwrap_socket\u001b[0;34m(self, sock, server_side, do_handshake_on_connect, suppress_ragged_eofs, server_hostname)\u001b[0m\n\u001b[1;32m    455\u001b[0m             \u001b[0;32mtry\u001b[0m\u001b[0;34m:\u001b[0m\u001b[0;34m\u001b[0m\u001b[0;34m\u001b[0m\u001b[0m\n\u001b[0;32m--> 456\u001b[0;31m                 \u001b[0mcnx\u001b[0m\u001b[0;34m.\u001b[0m\u001b[0mdo_handshake\u001b[0m\u001b[0;34m(\u001b[0m\u001b[0;34m)\u001b[0m\u001b[0;34m\u001b[0m\u001b[0;34m\u001b[0m\u001b[0m\n\u001b[0m\u001b[1;32m    457\u001b[0m             \u001b[0;32mexcept\u001b[0m \u001b[0mOpenSSL\u001b[0m\u001b[0;34m.\u001b[0m\u001b[0mSSL\u001b[0m\u001b[0;34m.\u001b[0m\u001b[0mWantReadError\u001b[0m\u001b[0;34m:\u001b[0m\u001b[0;34m\u001b[0m\u001b[0;34m\u001b[0m\u001b[0m\n",
      "\u001b[0;32m/opt/anaconda3/lib/python3.7/site-packages/OpenSSL/SSL.py\u001b[0m in \u001b[0;36mdo_handshake\u001b[0;34m(self)\u001b[0m\n\u001b[1;32m   1914\u001b[0m         \u001b[0mresult\u001b[0m \u001b[0;34m=\u001b[0m \u001b[0m_lib\u001b[0m\u001b[0;34m.\u001b[0m\u001b[0mSSL_do_handshake\u001b[0m\u001b[0;34m(\u001b[0m\u001b[0mself\u001b[0m\u001b[0;34m.\u001b[0m\u001b[0m_ssl\u001b[0m\u001b[0;34m)\u001b[0m\u001b[0;34m\u001b[0m\u001b[0;34m\u001b[0m\u001b[0m\n\u001b[0;32m-> 1915\u001b[0;31m         \u001b[0mself\u001b[0m\u001b[0;34m.\u001b[0m\u001b[0m_raise_ssl_error\u001b[0m\u001b[0;34m(\u001b[0m\u001b[0mself\u001b[0m\u001b[0;34m.\u001b[0m\u001b[0m_ssl\u001b[0m\u001b[0;34m,\u001b[0m \u001b[0mresult\u001b[0m\u001b[0;34m)\u001b[0m\u001b[0;34m\u001b[0m\u001b[0;34m\u001b[0m\u001b[0m\n\u001b[0m\u001b[1;32m   1916\u001b[0m \u001b[0;34m\u001b[0m\u001b[0m\n",
      "\u001b[0;32m/opt/anaconda3/lib/python3.7/site-packages/OpenSSL/SSL.py\u001b[0m in \u001b[0;36m_raise_ssl_error\u001b[0;34m(self, ssl, result)\u001b[0m\n\u001b[1;32m   1638\u001b[0m                     \u001b[0;32mif\u001b[0m \u001b[0merrno\u001b[0m \u001b[0;34m!=\u001b[0m \u001b[0;36m0\u001b[0m\u001b[0;34m:\u001b[0m\u001b[0;34m\u001b[0m\u001b[0;34m\u001b[0m\u001b[0m\n\u001b[0;32m-> 1639\u001b[0;31m                         \u001b[0;32mraise\u001b[0m \u001b[0mSysCallError\u001b[0m\u001b[0;34m(\u001b[0m\u001b[0merrno\u001b[0m\u001b[0;34m,\u001b[0m \u001b[0merrorcode\u001b[0m\u001b[0;34m.\u001b[0m\u001b[0mget\u001b[0m\u001b[0;34m(\u001b[0m\u001b[0merrno\u001b[0m\u001b[0;34m)\u001b[0m\u001b[0;34m)\u001b[0m\u001b[0;34m\u001b[0m\u001b[0;34m\u001b[0m\u001b[0m\n\u001b[0m\u001b[1;32m   1640\u001b[0m                 \u001b[0;32mraise\u001b[0m \u001b[0mSysCallError\u001b[0m\u001b[0;34m(\u001b[0m\u001b[0;34m-\u001b[0m\u001b[0;36m1\u001b[0m\u001b[0;34m,\u001b[0m \u001b[0;34m\"Unexpected EOF\"\u001b[0m\u001b[0;34m)\u001b[0m\u001b[0;34m\u001b[0m\u001b[0;34m\u001b[0m\u001b[0m\n",
      "\u001b[0;31mSysCallError\u001b[0m: (60, 'ETIMEDOUT')",
      "\nDuring handling of the above exception, another exception occurred:\n",
      "\u001b[0;31mSSLError\u001b[0m                                  Traceback (most recent call last)",
      "\u001b[0;32m/opt/anaconda3/lib/python3.7/site-packages/urllib3/connectionpool.py\u001b[0m in \u001b[0;36murlopen\u001b[0;34m(self, method, url, body, headers, retries, redirect, assert_same_host, timeout, pool_timeout, release_conn, chunked, body_pos, **response_kw)\u001b[0m\n\u001b[1;32m    599\u001b[0m                                                   \u001b[0mbody\u001b[0m\u001b[0;34m=\u001b[0m\u001b[0mbody\u001b[0m\u001b[0;34m,\u001b[0m \u001b[0mheaders\u001b[0m\u001b[0;34m=\u001b[0m\u001b[0mheaders\u001b[0m\u001b[0;34m,\u001b[0m\u001b[0;34m\u001b[0m\u001b[0;34m\u001b[0m\u001b[0m\n\u001b[0;32m--> 600\u001b[0;31m                                                   chunked=chunked)\n\u001b[0m\u001b[1;32m    601\u001b[0m \u001b[0;34m\u001b[0m\u001b[0m\n",
      "\u001b[0;32m/opt/anaconda3/lib/python3.7/site-packages/urllib3/connectionpool.py\u001b[0m in \u001b[0;36m_make_request\u001b[0;34m(self, conn, method, url, timeout, chunked, **httplib_request_kw)\u001b[0m\n\u001b[1;32m    342\u001b[0m         \u001b[0;32mtry\u001b[0m\u001b[0;34m:\u001b[0m\u001b[0;34m\u001b[0m\u001b[0;34m\u001b[0m\u001b[0m\n\u001b[0;32m--> 343\u001b[0;31m             \u001b[0mself\u001b[0m\u001b[0;34m.\u001b[0m\u001b[0m_validate_conn\u001b[0m\u001b[0;34m(\u001b[0m\u001b[0mconn\u001b[0m\u001b[0;34m)\u001b[0m\u001b[0;34m\u001b[0m\u001b[0;34m\u001b[0m\u001b[0m\n\u001b[0m\u001b[1;32m    344\u001b[0m         \u001b[0;32mexcept\u001b[0m \u001b[0;34m(\u001b[0m\u001b[0mSocketTimeout\u001b[0m\u001b[0;34m,\u001b[0m \u001b[0mBaseSSLError\u001b[0m\u001b[0;34m)\u001b[0m \u001b[0;32mas\u001b[0m \u001b[0me\u001b[0m\u001b[0;34m:\u001b[0m\u001b[0;34m\u001b[0m\u001b[0;34m\u001b[0m\u001b[0m\n",
      "\u001b[0;32m/opt/anaconda3/lib/python3.7/site-packages/urllib3/connectionpool.py\u001b[0m in \u001b[0;36m_validate_conn\u001b[0;34m(self, conn)\u001b[0m\n\u001b[1;32m    838\u001b[0m         \u001b[0;32mif\u001b[0m \u001b[0;32mnot\u001b[0m \u001b[0mgetattr\u001b[0m\u001b[0;34m(\u001b[0m\u001b[0mconn\u001b[0m\u001b[0;34m,\u001b[0m \u001b[0;34m'sock'\u001b[0m\u001b[0;34m,\u001b[0m \u001b[0;32mNone\u001b[0m\u001b[0;34m)\u001b[0m\u001b[0;34m:\u001b[0m  \u001b[0;31m# AppEngine might not have  `.sock`\u001b[0m\u001b[0;34m\u001b[0m\u001b[0;34m\u001b[0m\u001b[0m\n\u001b[0;32m--> 839\u001b[0;31m             \u001b[0mconn\u001b[0m\u001b[0;34m.\u001b[0m\u001b[0mconnect\u001b[0m\u001b[0;34m(\u001b[0m\u001b[0;34m)\u001b[0m\u001b[0;34m\u001b[0m\u001b[0;34m\u001b[0m\u001b[0m\n\u001b[0m\u001b[1;32m    840\u001b[0m \u001b[0;34m\u001b[0m\u001b[0m\n",
      "\u001b[0;32m/opt/anaconda3/lib/python3.7/site-packages/urllib3/connection.py\u001b[0m in \u001b[0;36mconnect\u001b[0;34m(self)\u001b[0m\n\u001b[1;32m    343\u001b[0m             \u001b[0mserver_hostname\u001b[0m\u001b[0;34m=\u001b[0m\u001b[0mserver_hostname\u001b[0m\u001b[0;34m,\u001b[0m\u001b[0;34m\u001b[0m\u001b[0;34m\u001b[0m\u001b[0m\n\u001b[0;32m--> 344\u001b[0;31m             ssl_context=context)\n\u001b[0m\u001b[1;32m    345\u001b[0m \u001b[0;34m\u001b[0m\u001b[0m\n",
      "\u001b[0;32m/opt/anaconda3/lib/python3.7/site-packages/urllib3/util/ssl_.py\u001b[0m in \u001b[0;36mssl_wrap_socket\u001b[0;34m(sock, keyfile, certfile, cert_reqs, ca_certs, server_hostname, ssl_version, ciphers, ssl_context, ca_cert_dir)\u001b[0m\n\u001b[1;32m    346\u001b[0m         \u001b[0;32mif\u001b[0m \u001b[0mHAS_SNI\u001b[0m \u001b[0;32mand\u001b[0m \u001b[0mserver_hostname\u001b[0m \u001b[0;32mis\u001b[0m \u001b[0;32mnot\u001b[0m \u001b[0;32mNone\u001b[0m\u001b[0;34m:\u001b[0m\u001b[0;34m\u001b[0m\u001b[0;34m\u001b[0m\u001b[0m\n\u001b[0;32m--> 347\u001b[0;31m             \u001b[0;32mreturn\u001b[0m \u001b[0mcontext\u001b[0m\u001b[0;34m.\u001b[0m\u001b[0mwrap_socket\u001b[0m\u001b[0;34m(\u001b[0m\u001b[0msock\u001b[0m\u001b[0;34m,\u001b[0m \u001b[0mserver_hostname\u001b[0m\u001b[0;34m=\u001b[0m\u001b[0mserver_hostname\u001b[0m\u001b[0;34m)\u001b[0m\u001b[0;34m\u001b[0m\u001b[0;34m\u001b[0m\u001b[0m\n\u001b[0m\u001b[1;32m    348\u001b[0m \u001b[0;34m\u001b[0m\u001b[0m\n",
      "\u001b[0;32m/opt/anaconda3/lib/python3.7/site-packages/urllib3/contrib/pyopenssl.py\u001b[0m in \u001b[0;36mwrap_socket\u001b[0;34m(self, sock, server_side, do_handshake_on_connect, suppress_ragged_eofs, server_hostname)\u001b[0m\n\u001b[1;32m    461\u001b[0m             \u001b[0;32mexcept\u001b[0m \u001b[0mOpenSSL\u001b[0m\u001b[0;34m.\u001b[0m\u001b[0mSSL\u001b[0m\u001b[0;34m.\u001b[0m\u001b[0mError\u001b[0m \u001b[0;32mas\u001b[0m \u001b[0me\u001b[0m\u001b[0;34m:\u001b[0m\u001b[0;34m\u001b[0m\u001b[0;34m\u001b[0m\u001b[0m\n\u001b[0;32m--> 462\u001b[0;31m                 \u001b[0;32mraise\u001b[0m \u001b[0mssl\u001b[0m\u001b[0;34m.\u001b[0m\u001b[0mSSLError\u001b[0m\u001b[0;34m(\u001b[0m\u001b[0;34m'bad handshake: %r'\u001b[0m \u001b[0;34m%\u001b[0m \u001b[0me\u001b[0m\u001b[0;34m)\u001b[0m\u001b[0;34m\u001b[0m\u001b[0;34m\u001b[0m\u001b[0m\n\u001b[0m\u001b[1;32m    463\u001b[0m             \u001b[0;32mbreak\u001b[0m\u001b[0;34m\u001b[0m\u001b[0;34m\u001b[0m\u001b[0m\n",
      "\u001b[0;31mSSLError\u001b[0m: (\"bad handshake: SysCallError(60, 'ETIMEDOUT')\",)",
      "\nDuring handling of the above exception, another exception occurred:\n",
      "\u001b[0;31mMaxRetryError\u001b[0m                             Traceback (most recent call last)",
      "\u001b[0;32m/opt/anaconda3/lib/python3.7/site-packages/requests/adapters.py\u001b[0m in \u001b[0;36msend\u001b[0;34m(self, request, stream, timeout, verify, cert, proxies)\u001b[0m\n\u001b[1;32m    448\u001b[0m                     \u001b[0mretries\u001b[0m\u001b[0;34m=\u001b[0m\u001b[0mself\u001b[0m\u001b[0;34m.\u001b[0m\u001b[0mmax_retries\u001b[0m\u001b[0;34m,\u001b[0m\u001b[0;34m\u001b[0m\u001b[0;34m\u001b[0m\u001b[0m\n\u001b[0;32m--> 449\u001b[0;31m                     \u001b[0mtimeout\u001b[0m\u001b[0;34m=\u001b[0m\u001b[0mtimeout\u001b[0m\u001b[0;34m\u001b[0m\u001b[0;34m\u001b[0m\u001b[0m\n\u001b[0m\u001b[1;32m    450\u001b[0m                 )\n",
      "\u001b[0;32m/opt/anaconda3/lib/python3.7/site-packages/urllib3/connectionpool.py\u001b[0m in \u001b[0;36murlopen\u001b[0;34m(self, method, url, body, headers, retries, redirect, assert_same_host, timeout, pool_timeout, release_conn, chunked, body_pos, **response_kw)\u001b[0m\n\u001b[1;32m    637\u001b[0m             retries = retries.increment(method, url, error=e, _pool=self,\n\u001b[0;32m--> 638\u001b[0;31m                                         _stacktrace=sys.exc_info()[2])\n\u001b[0m\u001b[1;32m    639\u001b[0m             \u001b[0mretries\u001b[0m\u001b[0;34m.\u001b[0m\u001b[0msleep\u001b[0m\u001b[0;34m(\u001b[0m\u001b[0;34m)\u001b[0m\u001b[0;34m\u001b[0m\u001b[0;34m\u001b[0m\u001b[0m\n",
      "\u001b[0;32m/opt/anaconda3/lib/python3.7/site-packages/urllib3/util/retry.py\u001b[0m in \u001b[0;36mincrement\u001b[0;34m(self, method, url, response, error, _pool, _stacktrace)\u001b[0m\n\u001b[1;32m    398\u001b[0m         \u001b[0;32mif\u001b[0m \u001b[0mnew_retry\u001b[0m\u001b[0;34m.\u001b[0m\u001b[0mis_exhausted\u001b[0m\u001b[0;34m(\u001b[0m\u001b[0;34m)\u001b[0m\u001b[0;34m:\u001b[0m\u001b[0;34m\u001b[0m\u001b[0;34m\u001b[0m\u001b[0m\n\u001b[0;32m--> 399\u001b[0;31m             \u001b[0;32mraise\u001b[0m \u001b[0mMaxRetryError\u001b[0m\u001b[0;34m(\u001b[0m\u001b[0m_pool\u001b[0m\u001b[0;34m,\u001b[0m \u001b[0murl\u001b[0m\u001b[0;34m,\u001b[0m \u001b[0merror\u001b[0m \u001b[0;32mor\u001b[0m \u001b[0mResponseError\u001b[0m\u001b[0;34m(\u001b[0m\u001b[0mcause\u001b[0m\u001b[0;34m)\u001b[0m\u001b[0;34m)\u001b[0m\u001b[0;34m\u001b[0m\u001b[0;34m\u001b[0m\u001b[0m\n\u001b[0m\u001b[1;32m    400\u001b[0m \u001b[0;34m\u001b[0m\u001b[0m\n",
      "\u001b[0;31mMaxRetryError\u001b[0m: HTTPSConnectionPool(host='fantasy.espn.com', port=443): Max retries exceeded with url: /apis/v3/games/ffl/seasons/2021/segments/0/leagues/1094090?view=kona_playercard (Caused by SSLError(SSLError(\"bad handshake: SysCallError(60, 'ETIMEDOUT')\")))",
      "\nDuring handling of the above exception, another exception occurred:\n",
      "\u001b[0;31mSSLError\u001b[0m                                  Traceback (most recent call last)",
      "\u001b[0;32m<ipython-input-105-9dd0ca249e23>\u001b[0m in \u001b[0;36m<module>\u001b[0;34m\u001b[0m\n\u001b[1;32m      8\u001b[0m \u001b[0;34m\u001b[0m\u001b[0m\n\u001b[1;32m      9\u001b[0m \u001b[0;31m# arbitarily pass in a large number to get all recent activity\u001b[0m\u001b[0;34m\u001b[0m\u001b[0;34m\u001b[0m\u001b[0;34m\u001b[0m\u001b[0m\n\u001b[0;32m---> 10\u001b[0;31m \u001b[0mactivity_ls\u001b[0m \u001b[0;34m=\u001b[0m \u001b[0mleague\u001b[0m\u001b[0;34m.\u001b[0m\u001b[0mrecent_activity\u001b[0m\u001b[0;34m(\u001b[0m\u001b[0;36m1000\u001b[0m\u001b[0;34m)\u001b[0m\u001b[0;34m\u001b[0m\u001b[0;34m\u001b[0m\u001b[0m\n\u001b[0m",
      "\u001b[0;32m/opt/anaconda3/lib/python3.7/site-packages/espn_api/football/league.py\u001b[0m in \u001b[0;36mrecent_activity\u001b[0;34m(self, size, msg_type)\u001b[0m\n\u001b[1;32m    161\u001b[0m         \u001b[0mdata\u001b[0m \u001b[0;34m=\u001b[0m \u001b[0mself\u001b[0m\u001b[0;34m.\u001b[0m\u001b[0mespn_request\u001b[0m\u001b[0;34m.\u001b[0m\u001b[0mleague_get\u001b[0m\u001b[0;34m(\u001b[0m\u001b[0mextend\u001b[0m\u001b[0;34m=\u001b[0m\u001b[0;34m'/communication/'\u001b[0m\u001b[0;34m,\u001b[0m \u001b[0mparams\u001b[0m\u001b[0;34m=\u001b[0m\u001b[0mparams\u001b[0m\u001b[0;34m,\u001b[0m \u001b[0mheaders\u001b[0m\u001b[0;34m=\u001b[0m\u001b[0mheaders\u001b[0m\u001b[0;34m)\u001b[0m\u001b[0;34m\u001b[0m\u001b[0;34m\u001b[0m\u001b[0m\n\u001b[1;32m    162\u001b[0m         \u001b[0mdata\u001b[0m \u001b[0;34m=\u001b[0m \u001b[0mdata\u001b[0m\u001b[0;34m[\u001b[0m\u001b[0;34m'topics'\u001b[0m\u001b[0;34m]\u001b[0m\u001b[0;34m\u001b[0m\u001b[0;34m\u001b[0m\u001b[0m\n\u001b[0;32m--> 163\u001b[0;31m         \u001b[0mactivity\u001b[0m \u001b[0;34m=\u001b[0m \u001b[0;34m[\u001b[0m\u001b[0mActivity\u001b[0m\u001b[0;34m(\u001b[0m\u001b[0mtopic\u001b[0m\u001b[0;34m,\u001b[0m \u001b[0mself\u001b[0m\u001b[0;34m.\u001b[0m\u001b[0mplayer_map\u001b[0m\u001b[0;34m,\u001b[0m \u001b[0mself\u001b[0m\u001b[0;34m.\u001b[0m\u001b[0mget_team_data\u001b[0m\u001b[0;34m,\u001b[0m \u001b[0mself\u001b[0m\u001b[0;34m.\u001b[0m\u001b[0mplayer_info\u001b[0m\u001b[0;34m)\u001b[0m \u001b[0;32mfor\u001b[0m \u001b[0mtopic\u001b[0m \u001b[0;32min\u001b[0m \u001b[0mdata\u001b[0m\u001b[0;34m]\u001b[0m\u001b[0;34m\u001b[0m\u001b[0;34m\u001b[0m\u001b[0m\n\u001b[0m\u001b[1;32m    164\u001b[0m \u001b[0;34m\u001b[0m\u001b[0m\n\u001b[1;32m    165\u001b[0m         \u001b[0;32mreturn\u001b[0m \u001b[0mactivity\u001b[0m\u001b[0;34m\u001b[0m\u001b[0;34m\u001b[0m\u001b[0m\n",
      "\u001b[0;32m/opt/anaconda3/lib/python3.7/site-packages/espn_api/football/league.py\u001b[0m in \u001b[0;36m<listcomp>\u001b[0;34m(.0)\u001b[0m\n\u001b[1;32m    161\u001b[0m         \u001b[0mdata\u001b[0m \u001b[0;34m=\u001b[0m \u001b[0mself\u001b[0m\u001b[0;34m.\u001b[0m\u001b[0mespn_request\u001b[0m\u001b[0;34m.\u001b[0m\u001b[0mleague_get\u001b[0m\u001b[0;34m(\u001b[0m\u001b[0mextend\u001b[0m\u001b[0;34m=\u001b[0m\u001b[0;34m'/communication/'\u001b[0m\u001b[0;34m,\u001b[0m \u001b[0mparams\u001b[0m\u001b[0;34m=\u001b[0m\u001b[0mparams\u001b[0m\u001b[0;34m,\u001b[0m \u001b[0mheaders\u001b[0m\u001b[0;34m=\u001b[0m\u001b[0mheaders\u001b[0m\u001b[0;34m)\u001b[0m\u001b[0;34m\u001b[0m\u001b[0;34m\u001b[0m\u001b[0m\n\u001b[1;32m    162\u001b[0m         \u001b[0mdata\u001b[0m \u001b[0;34m=\u001b[0m \u001b[0mdata\u001b[0m\u001b[0;34m[\u001b[0m\u001b[0;34m'topics'\u001b[0m\u001b[0;34m]\u001b[0m\u001b[0;34m\u001b[0m\u001b[0;34m\u001b[0m\u001b[0m\n\u001b[0;32m--> 163\u001b[0;31m         \u001b[0mactivity\u001b[0m \u001b[0;34m=\u001b[0m \u001b[0;34m[\u001b[0m\u001b[0mActivity\u001b[0m\u001b[0;34m(\u001b[0m\u001b[0mtopic\u001b[0m\u001b[0;34m,\u001b[0m \u001b[0mself\u001b[0m\u001b[0;34m.\u001b[0m\u001b[0mplayer_map\u001b[0m\u001b[0;34m,\u001b[0m \u001b[0mself\u001b[0m\u001b[0;34m.\u001b[0m\u001b[0mget_team_data\u001b[0m\u001b[0;34m,\u001b[0m \u001b[0mself\u001b[0m\u001b[0;34m.\u001b[0m\u001b[0mplayer_info\u001b[0m\u001b[0;34m)\u001b[0m \u001b[0;32mfor\u001b[0m \u001b[0mtopic\u001b[0m \u001b[0;32min\u001b[0m \u001b[0mdata\u001b[0m\u001b[0;34m]\u001b[0m\u001b[0;34m\u001b[0m\u001b[0;34m\u001b[0m\u001b[0m\n\u001b[0m\u001b[1;32m    164\u001b[0m \u001b[0;34m\u001b[0m\u001b[0m\n\u001b[1;32m    165\u001b[0m         \u001b[0;32mreturn\u001b[0m \u001b[0mactivity\u001b[0m\u001b[0;34m\u001b[0m\u001b[0;34m\u001b[0m\u001b[0m\n",
      "\u001b[0;32m/opt/anaconda3/lib/python3.7/site-packages/espn_api/football/activity.py\u001b[0m in \u001b[0;36m__init__\u001b[0;34m(self, data, player_map, get_team_data, player_info)\u001b[0m\n\u001b[1;32m     27\u001b[0m                         \u001b[0;32mbreak\u001b[0m\u001b[0;34m\u001b[0m\u001b[0;34m\u001b[0m\u001b[0m\n\u001b[1;32m     28\u001b[0m             \u001b[0;32mif\u001b[0m \u001b[0;32mnot\u001b[0m \u001b[0mplayer\u001b[0m\u001b[0;34m:\u001b[0m\u001b[0;34m\u001b[0m\u001b[0;34m\u001b[0m\u001b[0m\n\u001b[0;32m---> 29\u001b[0;31m                 \u001b[0mplayer\u001b[0m \u001b[0;34m=\u001b[0m \u001b[0mplayer_info\u001b[0m\u001b[0;34m(\u001b[0m\u001b[0mplayerId\u001b[0m\u001b[0;34m=\u001b[0m\u001b[0mmsg\u001b[0m\u001b[0;34m[\u001b[0m\u001b[0;34m'targetId'\u001b[0m\u001b[0;34m]\u001b[0m\u001b[0;34m)\u001b[0m\u001b[0;34m\u001b[0m\u001b[0;34m\u001b[0m\u001b[0m\n\u001b[0m\u001b[1;32m     30\u001b[0m             \u001b[0mself\u001b[0m\u001b[0;34m.\u001b[0m\u001b[0mactions\u001b[0m\u001b[0;34m.\u001b[0m\u001b[0mappend\u001b[0m\u001b[0;34m(\u001b[0m\u001b[0;34m(\u001b[0m\u001b[0mteam\u001b[0m\u001b[0;34m,\u001b[0m \u001b[0maction\u001b[0m\u001b[0;34m,\u001b[0m \u001b[0mplayer\u001b[0m\u001b[0;34m,\u001b[0m \u001b[0mbid_amount\u001b[0m\u001b[0;34m)\u001b[0m\u001b[0;34m)\u001b[0m\u001b[0;34m\u001b[0m\u001b[0;34m\u001b[0m\u001b[0m\n\u001b[1;32m     31\u001b[0m \u001b[0;34m\u001b[0m\u001b[0m\n",
      "\u001b[0;32m/opt/anaconda3/lib/python3.7/site-packages/espn_api/football/league.py\u001b[0m in \u001b[0;36mplayer_info\u001b[0;34m(self, name, playerId)\u001b[0m\n\u001b[1;32m    286\u001b[0m         \u001b[0mheaders\u001b[0m \u001b[0;34m=\u001b[0m \u001b[0;34m{\u001b[0m\u001b[0;34m'x-fantasy-filter'\u001b[0m\u001b[0;34m:\u001b[0m \u001b[0mjson\u001b[0m\u001b[0;34m.\u001b[0m\u001b[0mdumps\u001b[0m\u001b[0;34m(\u001b[0m\u001b[0mfilters\u001b[0m\u001b[0;34m)\u001b[0m\u001b[0;34m}\u001b[0m\u001b[0;34m\u001b[0m\u001b[0;34m\u001b[0m\u001b[0m\n\u001b[1;32m    287\u001b[0m \u001b[0;34m\u001b[0m\u001b[0m\n\u001b[0;32m--> 288\u001b[0;31m         \u001b[0mdata\u001b[0m \u001b[0;34m=\u001b[0m \u001b[0mself\u001b[0m\u001b[0;34m.\u001b[0m\u001b[0mespn_request\u001b[0m\u001b[0;34m.\u001b[0m\u001b[0mleague_get\u001b[0m\u001b[0;34m(\u001b[0m\u001b[0mparams\u001b[0m\u001b[0;34m=\u001b[0m\u001b[0mparams\u001b[0m\u001b[0;34m,\u001b[0m \u001b[0mheaders\u001b[0m\u001b[0;34m=\u001b[0m\u001b[0mheaders\u001b[0m\u001b[0;34m)\u001b[0m\u001b[0;34m\u001b[0m\u001b[0;34m\u001b[0m\u001b[0m\n\u001b[0m\u001b[1;32m    289\u001b[0m \u001b[0;34m\u001b[0m\u001b[0m\n\u001b[1;32m    290\u001b[0m         \u001b[0;32mif\u001b[0m \u001b[0mlen\u001b[0m\u001b[0;34m(\u001b[0m\u001b[0mdata\u001b[0m\u001b[0;34m[\u001b[0m\u001b[0;34m'players'\u001b[0m\u001b[0;34m]\u001b[0m\u001b[0;34m)\u001b[0m \u001b[0;34m>\u001b[0m \u001b[0;36m0\u001b[0m\u001b[0;34m:\u001b[0m\u001b[0;34m\u001b[0m\u001b[0;34m\u001b[0m\u001b[0m\n",
      "\u001b[0;32m/opt/anaconda3/lib/python3.7/site-packages/espn_api/requests/espn_requests.py\u001b[0m in \u001b[0;36mleague_get\u001b[0;34m(self, params, headers, extend)\u001b[0m\n\u001b[1;32m     51\u001b[0m     \u001b[0;32mdef\u001b[0m \u001b[0mleague_get\u001b[0m\u001b[0;34m(\u001b[0m\u001b[0mself\u001b[0m\u001b[0;34m,\u001b[0m \u001b[0mparams\u001b[0m\u001b[0;34m:\u001b[0m \u001b[0mdict\u001b[0m \u001b[0;34m=\u001b[0m \u001b[0;32mNone\u001b[0m\u001b[0;34m,\u001b[0m \u001b[0mheaders\u001b[0m\u001b[0;34m:\u001b[0m \u001b[0mdict\u001b[0m \u001b[0;34m=\u001b[0m \u001b[0;32mNone\u001b[0m\u001b[0;34m,\u001b[0m \u001b[0mextend\u001b[0m\u001b[0;34m:\u001b[0m \u001b[0mstr\u001b[0m \u001b[0;34m=\u001b[0m \u001b[0;34m''\u001b[0m\u001b[0;34m)\u001b[0m\u001b[0;34m:\u001b[0m\u001b[0;34m\u001b[0m\u001b[0;34m\u001b[0m\u001b[0m\n\u001b[1;32m     52\u001b[0m         \u001b[0mendpoint\u001b[0m \u001b[0;34m=\u001b[0m \u001b[0mself\u001b[0m\u001b[0;34m.\u001b[0m\u001b[0mLEAGUE_ENDPOINT\u001b[0m \u001b[0;34m+\u001b[0m \u001b[0mextend\u001b[0m\u001b[0;34m\u001b[0m\u001b[0;34m\u001b[0m\u001b[0m\n\u001b[0;32m---> 53\u001b[0;31m         \u001b[0mr\u001b[0m \u001b[0;34m=\u001b[0m \u001b[0mrequests\u001b[0m\u001b[0;34m.\u001b[0m\u001b[0mget\u001b[0m\u001b[0;34m(\u001b[0m\u001b[0mendpoint\u001b[0m\u001b[0;34m,\u001b[0m \u001b[0mparams\u001b[0m\u001b[0;34m=\u001b[0m\u001b[0mparams\u001b[0m\u001b[0;34m,\u001b[0m \u001b[0mheaders\u001b[0m\u001b[0;34m=\u001b[0m\u001b[0mheaders\u001b[0m\u001b[0;34m,\u001b[0m \u001b[0mcookies\u001b[0m\u001b[0;34m=\u001b[0m\u001b[0mself\u001b[0m\u001b[0;34m.\u001b[0m\u001b[0mcookies\u001b[0m\u001b[0;34m)\u001b[0m\u001b[0;34m\u001b[0m\u001b[0;34m\u001b[0m\u001b[0m\n\u001b[0m\u001b[1;32m     54\u001b[0m         \u001b[0mcheckRequestStatus\u001b[0m\u001b[0;34m(\u001b[0m\u001b[0mr\u001b[0m\u001b[0;34m.\u001b[0m\u001b[0mstatus_code\u001b[0m\u001b[0;34m,\u001b[0m \u001b[0mcookies\u001b[0m\u001b[0;34m=\u001b[0m\u001b[0mself\u001b[0m\u001b[0;34m.\u001b[0m\u001b[0mcookies\u001b[0m\u001b[0;34m,\u001b[0m \u001b[0mleague_id\u001b[0m\u001b[0;34m=\u001b[0m\u001b[0mself\u001b[0m\u001b[0;34m.\u001b[0m\u001b[0mleague_id\u001b[0m\u001b[0;34m)\u001b[0m\u001b[0;34m\u001b[0m\u001b[0;34m\u001b[0m\u001b[0m\n\u001b[1;32m     55\u001b[0m \u001b[0;34m\u001b[0m\u001b[0m\n",
      "\u001b[0;32m/opt/anaconda3/lib/python3.7/site-packages/requests/api.py\u001b[0m in \u001b[0;36mget\u001b[0;34m(url, params, **kwargs)\u001b[0m\n\u001b[1;32m     73\u001b[0m \u001b[0;34m\u001b[0m\u001b[0m\n\u001b[1;32m     74\u001b[0m     \u001b[0mkwargs\u001b[0m\u001b[0;34m.\u001b[0m\u001b[0msetdefault\u001b[0m\u001b[0;34m(\u001b[0m\u001b[0;34m'allow_redirects'\u001b[0m\u001b[0;34m,\u001b[0m \u001b[0;32mTrue\u001b[0m\u001b[0;34m)\u001b[0m\u001b[0;34m\u001b[0m\u001b[0;34m\u001b[0m\u001b[0m\n\u001b[0;32m---> 75\u001b[0;31m     \u001b[0;32mreturn\u001b[0m \u001b[0mrequest\u001b[0m\u001b[0;34m(\u001b[0m\u001b[0;34m'get'\u001b[0m\u001b[0;34m,\u001b[0m \u001b[0murl\u001b[0m\u001b[0;34m,\u001b[0m \u001b[0mparams\u001b[0m\u001b[0;34m=\u001b[0m\u001b[0mparams\u001b[0m\u001b[0;34m,\u001b[0m \u001b[0;34m**\u001b[0m\u001b[0mkwargs\u001b[0m\u001b[0;34m)\u001b[0m\u001b[0;34m\u001b[0m\u001b[0;34m\u001b[0m\u001b[0m\n\u001b[0m\u001b[1;32m     76\u001b[0m \u001b[0;34m\u001b[0m\u001b[0m\n\u001b[1;32m     77\u001b[0m \u001b[0;34m\u001b[0m\u001b[0m\n",
      "\u001b[0;32m/opt/anaconda3/lib/python3.7/site-packages/requests/api.py\u001b[0m in \u001b[0;36mrequest\u001b[0;34m(method, url, **kwargs)\u001b[0m\n\u001b[1;32m     58\u001b[0m     \u001b[0;31m# cases, and look like a memory leak in others.\u001b[0m\u001b[0;34m\u001b[0m\u001b[0;34m\u001b[0m\u001b[0;34m\u001b[0m\u001b[0m\n\u001b[1;32m     59\u001b[0m     \u001b[0;32mwith\u001b[0m \u001b[0msessions\u001b[0m\u001b[0;34m.\u001b[0m\u001b[0mSession\u001b[0m\u001b[0;34m(\u001b[0m\u001b[0;34m)\u001b[0m \u001b[0;32mas\u001b[0m \u001b[0msession\u001b[0m\u001b[0;34m:\u001b[0m\u001b[0;34m\u001b[0m\u001b[0;34m\u001b[0m\u001b[0m\n\u001b[0;32m---> 60\u001b[0;31m         \u001b[0;32mreturn\u001b[0m \u001b[0msession\u001b[0m\u001b[0;34m.\u001b[0m\u001b[0mrequest\u001b[0m\u001b[0;34m(\u001b[0m\u001b[0mmethod\u001b[0m\u001b[0;34m=\u001b[0m\u001b[0mmethod\u001b[0m\u001b[0;34m,\u001b[0m \u001b[0murl\u001b[0m\u001b[0;34m=\u001b[0m\u001b[0murl\u001b[0m\u001b[0;34m,\u001b[0m \u001b[0;34m**\u001b[0m\u001b[0mkwargs\u001b[0m\u001b[0;34m)\u001b[0m\u001b[0;34m\u001b[0m\u001b[0;34m\u001b[0m\u001b[0m\n\u001b[0m\u001b[1;32m     61\u001b[0m \u001b[0;34m\u001b[0m\u001b[0m\n\u001b[1;32m     62\u001b[0m \u001b[0;34m\u001b[0m\u001b[0m\n",
      "\u001b[0;32m/opt/anaconda3/lib/python3.7/site-packages/requests/sessions.py\u001b[0m in \u001b[0;36mrequest\u001b[0;34m(self, method, url, params, data, headers, cookies, files, auth, timeout, allow_redirects, proxies, hooks, stream, verify, cert, json)\u001b[0m\n\u001b[1;32m    531\u001b[0m         }\n\u001b[1;32m    532\u001b[0m         \u001b[0msend_kwargs\u001b[0m\u001b[0;34m.\u001b[0m\u001b[0mupdate\u001b[0m\u001b[0;34m(\u001b[0m\u001b[0msettings\u001b[0m\u001b[0;34m)\u001b[0m\u001b[0;34m\u001b[0m\u001b[0;34m\u001b[0m\u001b[0m\n\u001b[0;32m--> 533\u001b[0;31m         \u001b[0mresp\u001b[0m \u001b[0;34m=\u001b[0m \u001b[0mself\u001b[0m\u001b[0;34m.\u001b[0m\u001b[0msend\u001b[0m\u001b[0;34m(\u001b[0m\u001b[0mprep\u001b[0m\u001b[0;34m,\u001b[0m \u001b[0;34m**\u001b[0m\u001b[0msend_kwargs\u001b[0m\u001b[0;34m)\u001b[0m\u001b[0;34m\u001b[0m\u001b[0;34m\u001b[0m\u001b[0m\n\u001b[0m\u001b[1;32m    534\u001b[0m \u001b[0;34m\u001b[0m\u001b[0m\n\u001b[1;32m    535\u001b[0m         \u001b[0;32mreturn\u001b[0m \u001b[0mresp\u001b[0m\u001b[0;34m\u001b[0m\u001b[0;34m\u001b[0m\u001b[0m\n",
      "\u001b[0;32m/opt/anaconda3/lib/python3.7/site-packages/requests/sessions.py\u001b[0m in \u001b[0;36msend\u001b[0;34m(self, request, **kwargs)\u001b[0m\n\u001b[1;32m    644\u001b[0m \u001b[0;34m\u001b[0m\u001b[0m\n\u001b[1;32m    645\u001b[0m         \u001b[0;31m# Send the request\u001b[0m\u001b[0;34m\u001b[0m\u001b[0;34m\u001b[0m\u001b[0;34m\u001b[0m\u001b[0m\n\u001b[0;32m--> 646\u001b[0;31m         \u001b[0mr\u001b[0m \u001b[0;34m=\u001b[0m \u001b[0madapter\u001b[0m\u001b[0;34m.\u001b[0m\u001b[0msend\u001b[0m\u001b[0;34m(\u001b[0m\u001b[0mrequest\u001b[0m\u001b[0;34m,\u001b[0m \u001b[0;34m**\u001b[0m\u001b[0mkwargs\u001b[0m\u001b[0;34m)\u001b[0m\u001b[0;34m\u001b[0m\u001b[0;34m\u001b[0m\u001b[0m\n\u001b[0m\u001b[1;32m    647\u001b[0m \u001b[0;34m\u001b[0m\u001b[0m\n\u001b[1;32m    648\u001b[0m         \u001b[0;31m# Total elapsed time of the request (approximately)\u001b[0m\u001b[0;34m\u001b[0m\u001b[0;34m\u001b[0m\u001b[0;34m\u001b[0m\u001b[0m\n",
      "\u001b[0;32m/opt/anaconda3/lib/python3.7/site-packages/requests/adapters.py\u001b[0m in \u001b[0;36msend\u001b[0;34m(self, request, stream, timeout, verify, cert, proxies)\u001b[0m\n\u001b[1;32m    512\u001b[0m             \u001b[0;32mif\u001b[0m \u001b[0misinstance\u001b[0m\u001b[0;34m(\u001b[0m\u001b[0me\u001b[0m\u001b[0;34m.\u001b[0m\u001b[0mreason\u001b[0m\u001b[0;34m,\u001b[0m \u001b[0m_SSLError\u001b[0m\u001b[0;34m)\u001b[0m\u001b[0;34m:\u001b[0m\u001b[0;34m\u001b[0m\u001b[0;34m\u001b[0m\u001b[0m\n\u001b[1;32m    513\u001b[0m                 \u001b[0;31m# This branch is for urllib3 v1.22 and later.\u001b[0m\u001b[0;34m\u001b[0m\u001b[0;34m\u001b[0m\u001b[0;34m\u001b[0m\u001b[0m\n\u001b[0;32m--> 514\u001b[0;31m                 \u001b[0;32mraise\u001b[0m \u001b[0mSSLError\u001b[0m\u001b[0;34m(\u001b[0m\u001b[0me\u001b[0m\u001b[0;34m,\u001b[0m \u001b[0mrequest\u001b[0m\u001b[0;34m=\u001b[0m\u001b[0mrequest\u001b[0m\u001b[0;34m)\u001b[0m\u001b[0;34m\u001b[0m\u001b[0;34m\u001b[0m\u001b[0m\n\u001b[0m\u001b[1;32m    515\u001b[0m \u001b[0;34m\u001b[0m\u001b[0m\n\u001b[1;32m    516\u001b[0m             \u001b[0;32mraise\u001b[0m \u001b[0mConnectionError\u001b[0m\u001b[0;34m(\u001b[0m\u001b[0me\u001b[0m\u001b[0;34m,\u001b[0m \u001b[0mrequest\u001b[0m\u001b[0;34m=\u001b[0m\u001b[0mrequest\u001b[0m\u001b[0;34m)\u001b[0m\u001b[0;34m\u001b[0m\u001b[0;34m\u001b[0m\u001b[0m\n",
      "\u001b[0;31mSSLError\u001b[0m: HTTPSConnectionPool(host='fantasy.espn.com', port=443): Max retries exceeded with url: /apis/v3/games/ffl/seasons/2021/segments/0/leagues/1094090?view=kona_playercard (Caused by SSLError(SSLError(\"bad handshake: SysCallError(60, 'ETIMEDOUT')\")))"
     ]
    }
   ],
   "source": [
    "league_id = 1094090\n",
    "year = year_of_interest # e.g. 2021\n",
    "SWID=\"{F191FB8C-DB2D-4D24-91FB-8CDB2DED249D}\"\n",
    "\n",
    "s2='AECJMQHsUHB0FTXdZkw93uY7GRbX8BPnm93Ye6AwvwrMsrZFGg1Lbmi07SWVov2ioN8zGMFDzZiiDSeQCa7WQHaGivGnMfGWLjmfGwkOeLXb5baD1sltp%2B%2BIfHAtl98TpmHgB16ZpGn6g3Bm5vLEA7yDC6HkbD3LSp0E2rGB7hKziLMvZ7mT6ONJFRe8Xp3ApYWSvxPr9cz0pJiI%2FF0blsZ8hyATDJMEyaQ2O%2FypcsViORr6hqYTmXHPuPKnMBfvYC8LQqi1exGw3vnyg6ptsB2Y'\n",
    "\n",
    "league = League(league_id=league_id, year=year, espn_s2=s2, swid=SWID)\n",
    "\n",
    "# arbitarily pass in a large number to get all recent activity\n",
    "activity_ls = league.recent_activity(1000)"
   ]
  },
  {
   "cell_type": "markdown",
   "metadata": {},
   "source": [
    "## Build Acquisitions Dataframe"
   ]
  },
  {
   "cell_type": "code",
   "execution_count": null,
   "metadata": {},
   "outputs": [],
   "source": [
    "import datetime\n",
    "\n",
    "# Function handling trade data\n",
    "\n",
    "def get_trade_data(j):\n",
    "    \"Function for parsing Recent Activities trade data into ADD and DROP events\"\n",
    "    \n",
    "    acq_data_ls = []\n",
    "\n",
    "    date1 = j.date\n",
    "\n",
    "    team_transaction_ls = []\n",
    "    \n",
    "    for k in j.actions:\n",
    "        (team1, action1, _ , _ ) = k\n",
    "        team_id = team1.team_name\n",
    "        team_transaction_ls.append(team_id)\n",
    "\n",
    "        # determine if trade or waiver acquisition type\n",
    "\n",
    "    # establish other team involved in trade\n",
    "    teams_in_trade = list(set(team_transaction_ls))\n",
    "\n",
    "    for k in j.actions:\n",
    "        (team1, action1, player_name, bid_amount) = k\n",
    "        team_id = team1.team_name\n",
    "\n",
    "        if teams_in_trade.index(team_id) == 1:\n",
    "            team_id_received = teams_in_trade[0]\n",
    "        else:\n",
    "            team_id_received = teams_in_trade[1]\n",
    "\n",
    "        # Build new tuple for TRADE ADDED\n",
    "        player_id = player_name.name\n",
    "        ProTeam = player_name.proTeam\n",
    "        action1 = 'TRADE ADDED'\n",
    "\n",
    "        # Build a second tuple for TRADE DROPPED\n",
    "        action2 = 'TRADE DROPPED'\n",
    "\n",
    "        acq_data1 = (date1 , player_id , ProTeam , team_id_received , action1, bid_amount)\n",
    "        drop_data1 = (date1 , player_id , ProTeam , team_id , action2, bid_amount)\n",
    "\n",
    "        acq_data_ls.append(acq_data1)\n",
    "        acq_data_ls.append(drop_data1)\n",
    "        \n",
    "    return acq_data_ls"
   ]
  },
  {
   "cell_type": "code",
   "execution_count": null,
   "metadata": {},
   "outputs": [],
   "source": [
    "# Function handling waiver data\n",
    "def get_waiver_data(j):\n",
    "    \n",
    "    waiver_data_ls = []\n",
    "\n",
    "    for k in j.actions:\n",
    "        (team1, action1, player_name, bid_amount) = k\n",
    "        team_id = team1.team_name\n",
    "        player_id = player_name.name\n",
    "        ProTeam = player_name.proTeam\n",
    "        \n",
    "        waiver_data1 = (date1 , player_id , ProTeam , team_id , action1 , bid_amount)\n",
    "        waiver_data_ls.append(waiver_data1)\n",
    "        \n",
    "    return waiver_data_ls"
   ]
  },
  {
   "cell_type": "code",
   "execution_count": null,
   "metadata": {},
   "outputs": [],
   "source": [
    "def flatten_list(_2d_list):\n",
    "    flat_list = []\n",
    "    # Iterate through the outer list\n",
    "    for element in _2d_list:\n",
    "        if type(element) is list:\n",
    "            # If the element is of type list, iterate through the sublist\n",
    "            for item in element:\n",
    "                flat_list.append(item)\n",
    "        else:\n",
    "            flat_list.append(element)\n",
    "    return flat_list"
   ]
  },
  {
   "cell_type": "code",
   "execution_count": null,
   "metadata": {},
   "outputs": [],
   "source": [
    "# Loop thru Recent Activities data, creating a DataFrame for all acquisitions\n",
    "# Conditional for trade or waiver acquisitions\n",
    "\n",
    "acq_data_ls = []\n",
    "\n",
    "# loop through each activity item\n",
    "for idx, j in enumerate(activity_ls):\n",
    "    date1 = j.date\n",
    "    team_transaction_ls = []\n",
    "    for k in j.actions:\n",
    "        (team1, action1, _ , _ ) = k\n",
    "        team_id = team1.team_name\n",
    "        team_transaction_ls.append(team_id)\n",
    "        \n",
    "        # determine if trade or waiver acquisition type        \n",
    "        ls = []\n",
    "        \n",
    "        if action1 == 'TRADED':\n",
    "            ls = get_trade_data(j)\n",
    "\n",
    "        else:\n",
    "            ls = get_waiver_data(j)\n",
    "\n",
    "    acq_data_ls.append(ls)\n",
    "      \n",
    "\n",
    "acq_data_flat_ls = flatten_list(acq_data_ls)\n",
    "\n",
    "df_acq = pd.DataFrame(acq_data_flat_ls)\n",
    "\n",
    "df_acq.columns = ['Timestamp','Player','ProTeam','Team','Action','Bid Amount ($)']\n",
    "\n",
    "# converts from milliseconds to date\n",
    "def convert_to_date(date1):\n",
    "    d2=datetime.date.fromtimestamp(date1 / 1000.0)\n",
    "    return d2\n",
    "\n",
    "df_acq['Action Timestamp'] = df_acq['Timestamp'].apply(lambda x : convert_to_date(x))\n",
    "\n",
    "df_acq = df_acq.sort_values(by=['Timestamp'],ascending=True)"
   ]
  },
  {
   "cell_type": "code",
   "execution_count": null,
   "metadata": {},
   "outputs": [],
   "source": [
    "df_acq.head()"
   ]
  },
  {
   "cell_type": "markdown",
   "metadata": {},
   "source": [
    "## Get Draft Data"
   ]
  },
  {
   "cell_type": "code",
   "execution_count": null,
   "metadata": {},
   "outputs": [],
   "source": [
    "draft_ls = []\n",
    "\n",
    "for i in league.draft:    \n",
    "    team_id = i.team.team_name\n",
    "    player_id = i.playerName\n",
    "    bid_amount = i.bid_amount\n",
    "    action = 'DRAFT ADDED'\n",
    "    draft_ls.append((player_id, team_id,action,bid_amount))\n",
    "\n",
    "df_draft = pd.DataFrame(draft_ls)\n",
    "  \n",
    "df_draft.columns = ['Player', 'Acquired by' , 'Action' , 'Bid Amount ($)']\n",
    "\n",
    "df_draft.set_index('Player',inplace=True)"
   ]
  },
  {
   "cell_type": "markdown",
   "metadata": {},
   "source": [
    "## Get total points of rostered players Dataframe"
   ]
  },
  {
   "cell_type": "code",
   "execution_count": null,
   "metadata": {},
   "outputs": [],
   "source": [
    "# Get data of all currently fantasy league rostered players"
   ]
  },
  {
   "cell_type": "code",
   "execution_count": null,
   "metadata": {},
   "outputs": [],
   "source": [
    "rostered_players_ls = []\n",
    "for i in league.teams:\n",
    "    team_name = i.team_name\n",
    "    for player in i.roster:\n",
    "        player_name = player.name\n",
    "        player_pos = player.position\n",
    "        player_pro_team = player.proTeam\n",
    "        player_total_pts = player.total_points\n",
    "        player_tup = (player_name , player_pos, player_pro_team, player_total_pts , team_name)\n",
    "        rostered_players_ls.append(player_tup)\n",
    "\n",
    "df_rostered = pd.DataFrame(rostered_players_ls)\n",
    "col_ls = ['Player' , 'Position' , 'Pro Team', 'Total points', 'Current Team']\n",
    "df_rostered.columns = col_ls\n",
    "\n",
    "df_rostered.set_index('Player',inplace=True)"
   ]
  },
  {
   "cell_type": "markdown",
   "metadata": {},
   "source": [
    "## Get total points of free agent players Dataframe"
   ]
  },
  {
   "cell_type": "code",
   "execution_count": null,
   "metadata": {},
   "outputs": [],
   "source": [
    "from datetime import datetime\n",
    "\n",
    "free_agent_ls = league.free_agents(size=1000)\n",
    "\n",
    "FA_players_ls = []\n",
    "name_ls = []\n",
    "for i in free_agent_ls:\n",
    "    team_name = 'Free agent'\n",
    "    player_name = i.name\n",
    "    player_pos = i.position\n",
    "    player_pro_team = i.proTeam\n",
    "    player_total_pts = i.total_points\n",
    "\n",
    "    player_tup = (player_name , player_pos, player_pro_team, player_total_pts , team_name)\n",
    "    FA_players_ls.append(player_tup)\n",
    "    \n",
    "    name_ls.append(player_name)\n",
    "\n",
    "\n",
    "df_FA = pd.DataFrame(FA_players_ls)\n",
    "col_ls = ['Player' , 'Position' , 'Pro Team', 'Total points', 'Current Team']\n",
    "df_FA.columns=col_ls\n",
    "df_FA.set_index('Player',inplace=True)\n",
    "\n",
    "# Generate all player stats dataframe, including all Free Agents\n",
    "df_player_stats = pd.concat([df_rostered,df_FA],axis=0)\n",
    "\n",
    "df_draft_acq = df_draft.join(df_player_stats)\n",
    "\n",
    "df_draft_acq['Player'] = df_draft_acq.index\n",
    "\n",
    "col_new = ['Player' , 'Pro Team' , 'Acquired by' , 'Action' , 'Bid Amount ($)']\n",
    "\n",
    "df_draft_acq = df_draft_acq[col_new]\n",
    "\n",
    "df_draft_acq.rename(columns = {'Pro Team' : 'ProTeam' , 'Acquired by' : 'Team'} , inplace = True)\n",
    "\n",
    "\n",
    "# Establish Draft Date\n",
    "# Draft Date just needs to be before the first game of the season, \n",
    "# By default, we set this arbitrarily as one day before the first game of the NFL season\n",
    "\n",
    "draft_date1 = season_start_date - timedelta(days=1)\n",
    "\n",
    "draft_date_str = draft_date1.strftime('%d %b %Y')\n",
    "\n",
    "draft_date = datetime.strptime(draft_date_str, '%d %b %Y').date()\n",
    "\n",
    "draft_date_ms = int(datetime.strptime(draft_date_str, '%d %b %Y').timestamp() * 1000)\n",
    "\n",
    "df_draft_acq['Action Timestamp'] = draft_date\n",
    "\n",
    "df_draft_acq['Timestamp'] = draft_date_ms\n",
    "\n",
    "df_acq_final = pd.concat([df_draft_acq , df_acq] , axis=0)\n",
    "\n",
    "df_acq_final.reset_index(inplace=True)\n",
    "\n",
    "df_acq_final.drop('index' , inplace=True ,axis=1)"
   ]
  },
  {
   "cell_type": "code",
   "execution_count": null,
   "metadata": {},
   "outputs": [],
   "source": [
    "df_player_stats.head()"
   ]
  },
  {
   "cell_type": "code",
   "execution_count": null,
   "metadata": {},
   "outputs": [],
   "source": [
    "# For now, drop players who were rostered, but are not on a ProTeam currently, example: 'Henry Ruggs'\n",
    "# There can be a next feature to handle these exceptions\n",
    "\n",
    "df_acq_final1 = df_acq_final[~(df_acq_final['ProTeam'] == 'None')]"
   ]
  },
  {
   "cell_type": "markdown",
   "metadata": {},
   "source": [
    "## Get player points from every week's matchup"
   ]
  },
  {
   "cell_type": "code",
   "execution_count": null,
   "metadata": {},
   "outputs": [],
   "source": [
    "# league object has attribue current week, this will always update from the ESPN API\n",
    "\n",
    "current_week = league.current_week\n",
    "\n",
    "# construct a reverse dictionary to map to box_score index\n",
    "wk_ls = [i+1 for i in range(current_week)]"
   ]
  },
  {
   "cell_type": "code",
   "execution_count": null,
   "metadata": {},
   "outputs": [],
   "source": [
    "# Retrieve data on all players on all weeks played from box_scores class\n",
    "\n",
    "df_player_box_scores = pd.DataFrame(data=[], columns = ['Player' , 'Position' , 'Week' , 'Team' , 'Total points'])\n",
    "\n",
    "# initiate counter\n",
    "n = 0\n",
    "\n",
    "for wk in wk_ls:\n",
    "    for matchup in league.box_scores(wk):\n",
    "        if matchup.away_team == 0:\n",
    "            team_name_q = matchup.home_team.team_name\n",
    "            for q in matchup.home_lineup:\n",
    "                n += 1\n",
    "                df_player_box_scores.loc[n,'Player'] = q.name\n",
    "                df_player_box_scores.loc[n,'Position'] = q.position\n",
    "                df_player_box_scores.loc[n,'Week'] = wk\n",
    "                df_player_box_scores.loc[n,'Team'] = team_name_q\n",
    "                df_player_box_scores.loc[n,'Total points'] = q.points\n",
    "                \n",
    "        else:       \n",
    "            team_name_p = matchup.away_team.team_name\n",
    "            team_name_q = matchup.home_team.team_name\n",
    "\n",
    "            for p in matchup.away_lineup:\n",
    "                n += 1\n",
    "                df_player_box_scores.loc[n,'Player'] = p.name\n",
    "                df_player_box_scores.loc[n,'Position'] = p.position\n",
    "                df_player_box_scores.loc[n,'Week'] = wk\n",
    "                df_player_box_scores.loc[n,'Team'] = team_name_p\n",
    "                df_player_box_scores.loc[n,'Total points'] = p.points\n",
    "\n",
    "            for q in matchup.home_lineup:\n",
    "                n += 1\n",
    "                df_player_box_scores.loc[n,'Player'] = q.name\n",
    "                df_player_box_scores.loc[n,'Position'] = q.position\n",
    "                df_player_box_scores.loc[n,'Week'] = wk\n",
    "                df_player_box_scores.loc[n,'Team'] = team_name_q\n",
    "                df_player_box_scores.loc[n,'Total points'] = q.points\n",
    "            "
   ]
  },
  {
   "cell_type": "code",
   "execution_count": null,
   "metadata": {},
   "outputs": [],
   "source": [
    "# df_player_box_scores is a Dataframe of each player's score from each Week  "
   ]
  },
  {
   "cell_type": "code",
   "execution_count": null,
   "metadata": {},
   "outputs": [],
   "source": [
    "df_player_box_scores.head()"
   ]
  },
  {
   "cell_type": "markdown",
   "metadata": {},
   "source": [
    "## Map acquisition data to NFL schedule info, create Stints Dataframe"
   ]
  },
  {
   "cell_type": "code",
   "execution_count": null,
   "metadata": {},
   "outputs": [],
   "source": [
    "def get_stint_info(proteam, df_test_acq , df_proteam_schedules_one_team , n , idx , is_current):\n",
    "    \n",
    "    # get start and end dates d1 and d2          \n",
    "    d1 = df_test_acq.loc[idx , 'Action Timestamp']\n",
    "    action1 = df_test_acq.loc[idx ,'Action']\n",
    "    \n",
    "    # If player is currently on a fantasy team\n",
    "    if is_current:\n",
    "#         d2 = date.today().date()\n",
    "        d2 = date.today()\n",
    "    else:\n",
    "        d2 = df_test_acq.loc[idx+1 , 'Action Timestamp']\n",
    "        \n",
    "    bid_amount = df_test_acq.loc[idx , 'Bid Amount ($)']\n",
    "\n",
    "    weeks_bool = (df_proteam_schedules_one_team['Game Date'] >= d1) & (df_proteam_schedules_one_team['Game Date'] < d2)\n",
    "    stint_wks_ls = df_proteam_schedules_one_team[weeks_bool]['Week'].tolist()  \n",
    "\n",
    "\n",
    "    df_stints.loc[n ,'Stint (wks)' ] = stint_wks_ls\n",
    "\n",
    "    df_stints.loc[n , 'Player'] = player_test\n",
    "\n",
    "    df_stints.loc[n , 'ProTeam'] = proteam\n",
    "    df_stints.loc[n , 'Team'] = df_test_acq.loc[idx , 'Team']\n",
    "    df_stints.loc[n, 'Action'] = action1.split(' ')[0]\n",
    "    df_stints.loc[n , 'Bid Amount ($)'] = bid_amount\n",
    "    \n",
    "    return df_stints\n",
    "    "
   ]
  },
  {
   "cell_type": "code",
   "execution_count": null,
   "metadata": {},
   "outputs": [],
   "source": [
    "# define get_df_stints\n",
    "\n",
    "def get_df_stints(player_test , df_acq_final):\n",
    "    df_test_acq = df_acq_final[df_acq_final['Player'] == player_test]\n",
    "\n",
    "    df_test_acq.reset_index(inplace=True)\n",
    "\n",
    "    df_test_acq.index.name = 'ordered_index'\n",
    "    \n",
    "    proteam = df_test_acq.loc[0,'ProTeam']\n",
    "\n",
    "    # import datetime\n",
    "    # Convert microseconds to date\n",
    "\n",
    "    df_proteam_schedules_one_team = pd.DataFrame(data=df_proteam_schedules.loc[:,proteam])\n",
    "\n",
    "    df_proteam_schedules_one_team['Week'] = df_proteam_schedules_one_team.index\n",
    "\n",
    "    df_proteam_schedules_one_team.rename(columns = {proteam:'Game Date'} , inplace=True)\n",
    "\n",
    "    df_proteam_schedules_one_team = df_proteam_schedules_one_team[df_proteam_schedules_one_team['Game Date'] != 'BYE']\n",
    "\n",
    "    cols = ['Player' , 'ProTeam' , 'Team' , 'Action' , 'Bid Amount ($)' , 'Stint (wks)']\n",
    "\n",
    "    df_stints = pd.DataFrame(data=[] , columns = cols)\n",
    "\n",
    "    max_idx = df_test_acq.index[-1]\n",
    "\n",
    "    n = 0\n",
    "\n",
    "    for idx , row in df_test_acq.iterrows():\n",
    "\n",
    "        if idx < max_idx:\n",
    "            cond_1 = 'ADDED' in df_test_acq.loc[idx , 'Action']\n",
    "            cond_2 = 'DROPPED' in df_test_acq.loc[idx+1 , 'Action']\n",
    "\n",
    "            if cond_1 and cond_2:\n",
    "\n",
    "                n += 1            \n",
    "                df_stints = get_stint_info(proteam, df_test_acq , df_proteam_schedules_one_team , n , idx, \n",
    "                                          is_current = False)\n",
    "\n",
    "    # in case if the player is still on a team, get current stint:\n",
    "    if 'ADDED' in df_test_acq.loc[max_idx , 'Action']:\n",
    "        n = n+1\n",
    "        df_stints = get_stint_info(proteam, df_test_acq , df_proteam_schedules_one_team , n , max_idx, \n",
    "                                          is_current = True)\n",
    "        \n",
    "    return df_stints"
   ]
  },
  {
   "cell_type": "code",
   "execution_count": null,
   "metadata": {},
   "outputs": [],
   "source": [
    "df_acq_final1.columns"
   ]
  },
  {
   "cell_type": "code",
   "execution_count": null,
   "metadata": {},
   "outputs": [],
   "source": [
    "df_acq_final1['Timestamp'].dtypes"
   ]
  },
  {
   "cell_type": "code",
   "execution_count": null,
   "metadata": {},
   "outputs": [],
   "source": [
    "# get all players who have been involved in the fantasy league\n",
    "import datetime\n",
    "# from datetime import date\n",
    "\n",
    "\n",
    "df_ls = []\n",
    "all_player_ls = list(set(df_acq_final1['Player'].tolist()))\n",
    "\n",
    "cols = ['Player' , 'ProTeam' , 'Team' , 'Action' , 'Bid Amount ($)' , 'Stint (wks)']\n",
    "\n",
    "for player_test in all_player_ls:\n",
    "    df_stints = pd.DataFrame(data=[] , columns = cols)\n",
    "    df_stints = get_df_stints(player_test , df_acq_final1)\n",
    "    df_ls.append(df_stints)\n",
    "    \n",
    "df_stints_f = pd.concat(df_ls,axis=0)\n",
    "\n",
    "df_stints_f.reset_index(inplace=True)"
   ]
  },
  {
   "cell_type": "code",
   "execution_count": null,
   "metadata": {},
   "outputs": [],
   "source": [
    "df_stints_f.head()"
   ]
  },
  {
   "cell_type": "markdown",
   "metadata": {},
   "source": [
    "## Get total fantasy points scored into Stints Dataframe "
   ]
  },
  {
   "cell_type": "code",
   "execution_count": null,
   "metadata": {},
   "outputs": [],
   "source": [
    "# Build position dict:\n",
    "# Dictionary of all players' positions\n",
    "ls1 = df_player_stats.index.tolist()\n",
    "ls2 = df_player_stats['Position'].tolist()\n",
    "\n",
    "position_dict = dict(zip(ls1,ls2))"
   ]
  },
  {
   "cell_type": "code",
   "execution_count": null,
   "metadata": {},
   "outputs": [],
   "source": [
    "df_stints_f['Position'] = df_stints_f['Player'].map(position_dict)\n",
    "\n",
    "for idx, row in df_stints_f.iterrows():\n",
    "    player_test = row['Player']\n",
    "    stint_wk_ls = row['Stint (wks)']\n",
    "    \n",
    "    cond_a = df_player_box_scores['Player'] == player_test\n",
    "#     df_stints_f.loc[idx,'Position'] = df_player_box_scores[cond_a]['Position'].tolist()[0]\n",
    "\n",
    "    # if not an empty list\n",
    "    if stint_wk_ls:\n",
    "        cond_b = df_player_box_scores['Week'].isin(stint_wk_ls)\n",
    "\n",
    "        df_player_box_scores[cond_a & cond_b]['Total points'].sum()\n",
    "        df_stints_f.loc[idx,'Total points'] = df_player_box_scores[cond_a & cond_b]['Total points'].sum()\n",
    "        \n",
    "    else:\n",
    "        df_stints_f.loc[idx,'Total points'] = 0\n",
    "\n",
    "df_stints_f = df_stints_f.sort_values(by=['Total points'],ascending=False)\n",
    "\n",
    "df_stints_f.reset_index(inplace=True)\n",
    "\n",
    "df_stints_f= df_stints_f[['Player','Position','Team','ProTeam','Action','Bid Amount ($)', 'Stint (wks)', 'Total points']]\n",
    "\n",
    "df_stints_f.index.name = 'Stint'\n",
    "\n",
    "df_stints_f['Total points'] = df_stints_f['Total points'].round(1)\n",
    "\n",
    "df_stints_f['Player-info'] = df_stints_f['Player'] + ', ' + df_stints_f['Position'] + ' (' + df_stints_f['ProTeam'] + ')'"
   ]
  },
  {
   "cell_type": "code",
   "execution_count": null,
   "metadata": {},
   "outputs": [],
   "source": [
    "df_stints_f.head()"
   ]
  },
  {
   "cell_type": "code",
   "execution_count": null,
   "metadata": {},
   "outputs": [],
   "source": [
    "# Apply team alias:\n",
    "\n",
    "# Create alias team name\n",
    "team_name_ls = [i[1].team_name for i in league.power_rankings()]\n",
    "team_name_ls.sort()\n",
    "team_name_alias_ls = [('Team'+str(i+1)) for i in range(len(team_name_ls))]\n",
    "team_name_alias_dict = dict(zip(team_name_ls,team_name_alias_ls))\n",
    "\n",
    "df_stints_f['Team'] = df_stints_f['Team'].map(team_name_alias_dict)"
   ]
  },
  {
   "cell_type": "code",
   "execution_count": null,
   "metadata": {},
   "outputs": [],
   "source": [
    "team_name_ls"
   ]
  },
  {
   "cell_type": "code",
   "execution_count": null,
   "metadata": {},
   "outputs": [],
   "source": [
    "team_name_alias_ls"
   ]
  },
  {
   "cell_type": "code",
   "execution_count": null,
   "metadata": {},
   "outputs": [],
   "source": [
    "team_name_alias_dict"
   ]
  },
  {
   "cell_type": "code",
   "execution_count": null,
   "metadata": {},
   "outputs": [],
   "source": [
    "team_name_alias_dict"
   ]
  },
  {
   "cell_type": "markdown",
   "metadata": {},
   "source": [
    "# Scatterplots"
   ]
  },
  {
   "cell_type": "code",
   "execution_count": null,
   "metadata": {},
   "outputs": [],
   "source": [
    "# Filter for stints >= 3\n",
    "def get_bool_len(x):\n",
    "    z = len(x) >= 2\n",
    "    return z"
   ]
  },
  {
   "cell_type": "code",
   "execution_count": null,
   "metadata": {},
   "outputs": [],
   "source": [
    "df_stints_f_draft = df_stints_f[df_stints_f['Action'] == 'DRAFT']\n",
    "df_stints_f_draft = df_stints_f_draft.sort_values(by = ['Bid Amount ($)'],ascending=False)"
   ]
  },
  {
   "cell_type": "code",
   "execution_count": null,
   "metadata": {},
   "outputs": [],
   "source": [
    "def generate_acquisitions_scatterplot(df , position_subset , acquisition_method):\n",
    "    \n",
    "    position_subset1 = ''.join(position_subset)\n",
    "    plot_title = position_subset1 + ' ' + acquisition_method + ' Spending vs. Total Fantasy Points'\n",
    "\n",
    "    selection = alt.selection_multi(fields=['Team'], bind = 'legend')\n",
    "    \n",
    "    color = alt.condition(selection, \n",
    "                        alt.Color('Team:N', \n",
    "                        scale=alt.Scale(scheme='tableau20'), sort=team_name_alias_ls), alt.value('lightgray'))\n",
    "\n",
    "    chart = alt.Chart(df).mark_circle(size=40).encode(\n",
    "        alt.X('Bid Amount ($)', axis=alt.Axis(grid=False)),\n",
    "        alt.Y('Total points' , axis=alt.Axis(grid=False)),\n",
    "        color=color,\n",
    "        opacity=alt.condition(selection, alt.value(1), alt.value(0.1)),\n",
    "        tooltip=['Player-info','Team','Bid Amount ($)','Total points','Stint (wks)']\n",
    "        ).add_selection(selection).properties(\n",
    "        width=450,\n",
    "        height=450,\n",
    "        title = plot_title\n",
    "        ).configure_axis(\n",
    "        labelFontSize=18,\n",
    "        titleFontSize=18\n",
    "        ).configure_title(fontSize=20).configure_legend(labelFontSize=14, titleFontSize=14)\n",
    "    \n",
    "    return chart"
   ]
  },
  {
   "cell_type": "markdown",
   "metadata": {},
   "source": [
    "## Draft Scatterplots"
   ]
  },
  {
   "cell_type": "code",
   "execution_count": null,
   "metadata": {},
   "outputs": [],
   "source": [
    "acquisition_method = 'Draft'\n",
    "\n",
    "position_subset = ['RB','WR','TE']\n",
    "\n",
    "df = df_stints_f_draft[df_stints_f_draft['Position'].isin(position_subset)]\n",
    "\n",
    "chart = generate_acquisitions_scatterplot(df , ' '.join(position_subset) , acquisition_method)"
   ]
  },
  {
   "cell_type": "markdown",
   "metadata": {},
   "source": [
    "This is a scatterplot of Draft Auction Spending (x-axis) versus Total (Fantasy) Points (y-axis) on the whole 17 week season. Players in the upper left of the plot represent low cost, high value \"draft steals\", and players in the lower right of the plot represent high cost, low value \"busts\".\n",
    "\n",
    "Hover your cursor over the datapoint to learn more about the player, who drafted them, at what price, and their stint on the respective team that drafted them. The stint is the specific weeks in which the player was rostered on the fantasy team, but not necessarily started.\n",
    "\n",
    "Looking at the upper left part of the scatterplot, we see that Cooper Kupp, Ja'Marr Chase, and Leonard Fournette were huge steals in the draft. The biggest busts were Christian McCaffrey and Saquon Barkley."
   ]
  },
  {
   "cell_type": "code",
   "execution_count": null,
   "metadata": {},
   "outputs": [],
   "source": [
    "chart"
   ]
  },
  {
   "cell_type": "markdown",
   "metadata": {},
   "source": [
    "# Quarterbacks in Draft"
   ]
  },
  {
   "cell_type": "code",
   "execution_count": null,
   "metadata": {},
   "outputs": [],
   "source": [
    "acquisition_method = 'Draft'\n",
    "\n",
    "position_subset = ['QB']\n",
    "\n",
    "df = df_stints_f_draft[df_stints_f_draft['Position'].isin(position_subset)]\n",
    "\n",
    "chart = generate_acquisitions_scatterplot(df , ' '.join(position_subset) , acquisition_method)"
   ]
  },
  {
   "cell_type": "markdown",
   "metadata": {},
   "source": [
    "The old fantasy draft advice of not spending big on QB held true this year as the return on investment on big pricetag QBs like Mahomes was marginal."
   ]
  },
  {
   "cell_type": "code",
   "execution_count": null,
   "metadata": {},
   "outputs": [],
   "source": [
    "chart"
   ]
  },
  {
   "cell_type": "markdown",
   "metadata": {},
   "source": [
    "# Tight Ends in Draft"
   ]
  },
  {
   "cell_type": "code",
   "execution_count": null,
   "metadata": {},
   "outputs": [],
   "source": [
    "acquisition_method = 'Draft'\n",
    "\n",
    "position_subset = ['TE']\n",
    "\n",
    "df = df_stints_f_draft[df_stints_f_draft['Position'].isin(position_subset)]\n",
    "\n",
    "chart = generate_acquisitions_scatterplot(df , ' '.join(position_subset) , acquisition_method)"
   ]
  },
  {
   "cell_type": "markdown",
   "metadata": {},
   "source": [
    "Travis Kelce was the consensus number 1 pick at tight end, but Mark Andrews turned out to be the best value and top scorer by end of season. Darren Waller was surprisingly a disappointing pick."
   ]
  },
  {
   "cell_type": "code",
   "execution_count": null,
   "metadata": {},
   "outputs": [],
   "source": [
    "chart"
   ]
  },
  {
   "cell_type": "code",
   "execution_count": null,
   "metadata": {},
   "outputs": [],
   "source": [
    "alt.renderers.enable('html')"
   ]
  },
  {
   "cell_type": "markdown",
   "metadata": {},
   "source": [
    "## Waiver Wire "
   ]
  },
  {
   "cell_type": "code",
   "execution_count": null,
   "metadata": {},
   "outputs": [],
   "source": [
    "df_stints_f_waiver = df_stints_f[df_stints_f['Action'] == 'WAIVER']\n",
    "\n",
    "# Filter for minimum stints of at least 2 weeks\n",
    "df_stints_f_waiver = df_stints_f_waiver[df_stints_f_waiver['Stint (wks)'].apply(lambda x: get_bool_len(x))]"
   ]
  },
  {
   "cell_type": "code",
   "execution_count": null,
   "metadata": {},
   "outputs": [],
   "source": [
    "df_stints_f_waiver.head()"
   ]
  },
  {
   "cell_type": "markdown",
   "metadata": {},
   "source": [
    "## Waiver Spending"
   ]
  },
  {
   "cell_type": "code",
   "execution_count": null,
   "metadata": {},
   "outputs": [],
   "source": [
    "acquisition_method = 'Waiver'\n",
    "\n",
    "position_subset = ['RB','WR','TE']\n",
    "\n",
    "df = df_stints_f_waiver[df_stints_f_waiver['Position'].isin(position_subset)]\n",
    "\n",
    "chart = generate_acquisitions_scatterplot(df , ' '.join(position_subset) , acquisition_method)"
   ]
  },
  {
   "cell_type": "markdown",
   "metadata": {},
   "source": [
    "The biggest steals on the waiver wire were Cordarrelle Patterson, Hollywood Brown, and Hunter Renfrow. The biggest runaway hype trains were Adrian Peterson, Rondale Moore, and Kadarius Toney. "
   ]
  },
  {
   "cell_type": "code",
   "execution_count": null,
   "metadata": {},
   "outputs": [],
   "source": [
    "chart"
   ]
  },
  {
   "cell_type": "markdown",
   "metadata": {},
   "source": [
    "## The Journeymen"
   ]
  },
  {
   "cell_type": "markdown",
   "metadata": {},
   "source": [
    "Who are the players that are borderline fantasy football relevant that get added frequently? Let's exclude kickers and D/STs. By \"added\", we include added by draft, waiver, or trade."
   ]
  },
  {
   "cell_type": "code",
   "execution_count": null,
   "metadata": {},
   "outputs": [],
   "source": [
    "pd.options.mode.chained_assignment = None  # default='warn'"
   ]
  },
  {
   "cell_type": "code",
   "execution_count": null,
   "metadata": {},
   "outputs": [],
   "source": [
    "df_acq_final1['Position'] = df_acq_final1['Player'].map(position_dict)\n",
    "\n",
    "df_acq_final2 = df_acq_final1[df_acq_final1['Position'].isin(['QB','RB','WR','TE'])]\n",
    "\n",
    "all_player_ls = list(set(df_acq_final2['Player'].tolist()))\n",
    "\n",
    "df_player_adds = pd.DataFrame(data=[], index = all_player_ls, columns = ['Times added'])\n",
    "for i in all_player_ls:\n",
    "    df_temp = df_acq_final2[df_acq_final2['Player'] == i]\n",
    "    # count number of adds of particular player\n",
    "    n_adds = df_temp['Action'].str.contains('ADDED').sum()\n",
    "    df_player_adds.loc[i, 'Times added'] = n_adds\n",
    "\n",
    "df_player_adds = df_player_adds.sort_values(by = 'Times added', ascending=False)"
   ]
  },
  {
   "cell_type": "code",
   "execution_count": null,
   "metadata": {},
   "outputs": [],
   "source": [
    "# Dataframe of total player adds on the season\n",
    "\n",
    "df_player_adds"
   ]
  },
  {
   "cell_type": "markdown",
   "metadata": {},
   "source": [
    "Jarvis Landry, J.D. McKissic, and Jeff Wilson Jr. are much loved (and transiently so) in our league as they've each been added 5 times this season!"
   ]
  },
  {
   "cell_type": "code",
   "execution_count": null,
   "metadata": {},
   "outputs": [],
   "source": [
    "df_player_adds.head(25)"
   ]
  },
  {
   "cell_type": "markdown",
   "metadata": {},
   "source": [
    "## Breakdown of Team Scoring by Draft vs Waiver"
   ]
  },
  {
   "cell_type": "code",
   "execution_count": null,
   "metadata": {},
   "outputs": [],
   "source": [
    "# df_stints_f_oneteam = df_stints_f[df_stints_f['Team'] == 'Ice City USA']\n",
    "\n",
    "# df_stints_f_oneteam[df_stints_f_oneteam['Player'] == 'Jaylen Waddle']\n",
    "\n",
    "# df_stints_f_oneteam.groupby(['Action']).agg('sum')\n",
    "\n",
    "# team_ls = list(set(df_stints_f['Team'].tolist()))\n",
    "\n",
    "# df_ls = []\n",
    "# for team in team_ls:\n",
    "#     df_stints_f_oneteam = pd.DataFrame(data=[])\n",
    "#     df_stints_f_oneteam = df_stints_f[df_stints_f['Team'] == team]\n",
    "#     df = df_stints_f_oneteam.groupby(['Action']).agg('sum')\n",
    "#     df.columns = [team]\n",
    "#     df_ls.append(df)\n",
    "\n",
    "# df_scoring_by_acq = pd.concat(df_ls,axis=1)\n",
    "\n",
    "# df_scoring_by_acq = df_scoring_by_acq.fillna(0)\n",
    "\n",
    "# df_scoring_by_acq\n",
    "\n",
    "# s = df_scoring_by_acq.sum(axis=0).sort_values(ascending=False)\n",
    "# col_ordered = s.keys().tolist()\n",
    "\n",
    "# df_scoring_by_acq = df_scoring_by_acq[col_ordered]\n",
    "\n",
    "# df_scoring_by_acq = df_scoring_by_acq.transpose()\n",
    "\n",
    "# s\n",
    "\n",
    "# pd.melt(df_scoring_by_acq , id_vars=df_scoring_by_acq.index)\n",
    "\n",
    "# df_scoring_by_acq.plot(kind='bar',stacked=True)\n",
    "\n",
    "# s\n",
    "\n",
    "\n",
    "# df_stints_f\n",
    "\n",
    "\n",
    "\n",
    "\n",
    "# df_stints_f1 = df_stints_f[df_stints_f['Position'].isin(['WR'])]\n",
    "\n",
    "# df_stints_f1 = df_stints_f1.sort_values(by='Total points',ascending=False)\n",
    "\n",
    "# ls = df_stints_f1.iloc[0:11]['Player'].tolist()\n",
    "\n",
    "# df_player_box_scores\n",
    "\n",
    "# df_temp = df_player_box_scores[['Player','Total points']].groupby('Player').agg(['count','mean','std'])\n",
    "\n",
    "# # df_temp = df_temp[df_temp['count'] >= 11]\n",
    "# # df_temp = df_temp.sort_values(by='mean',ascending=False)\n",
    "\n",
    "# df_temp = df_temp[df_temp['Total points']['count'] >= 11]\n",
    "# df_temp = df_temp.sort_values(by=['Total points','count'],ascending=False)\n",
    "\n",
    "# df_player_box_scores['Player'].tolist()\n",
    "\n",
    "# df = df_player_box_scores[df_player_box_scores['Player'].isin(ls)]\n",
    "\n",
    "# fig,ax=plt.subplots()\n",
    "# sns.boxplot(data=df,x='Player',y='Total points',ax=ax)\n",
    "# ax.set_xticklabels(ax.get_xticklabels(), Rotation= 90) \n",
    "\n",
    "# df_player_box_scores.groupby('Player').agg('mean','std')['Total points']\n",
    "\n"
   ]
  },
  {
   "cell_type": "code",
   "execution_count": null,
   "metadata": {},
   "outputs": [],
   "source": []
  }
 ],
 "metadata": {
  "kernelspec": {
   "display_name": "Python 3",
   "language": "python",
   "name": "python3"
  },
  "language_info": {
   "codemirror_mode": {
    "name": "ipython",
    "version": 3
   },
   "file_extension": ".py",
   "mimetype": "text/x-python",
   "name": "python",
   "nbconvert_exporter": "python",
   "pygments_lexer": "ipython3",
   "version": "3.7.4"
  }
 },
 "nbformat": 4,
 "nbformat_minor": 2
}
