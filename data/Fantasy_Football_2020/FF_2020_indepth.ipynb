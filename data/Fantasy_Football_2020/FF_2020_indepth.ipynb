{
 "cells": [
  {
   "cell_type": "code",
   "execution_count": 8,
   "metadata": {},
   "outputs": [],
   "source": [
    "import json\n",
    "import numpy as np\n",
    "import pandas as pd\n",
    "import requests\n",
    "import espn_api"
   ]
  },
  {
   "cell_type": "code",
   "execution_count": 15,
   "metadata": {},
   "outputs": [],
   "source": [
    "# Football Import\n",
    "from espn_api.football import League\n",
    "\n",
    "league_id = 1094090\n",
    "year = 2021\n",
    "SWID=\"{F191FB8C-DB2D-4D24-91FB-8CDB2DED249D}\"\n",
    "\n",
    "s2='AECJMQHsUHB0FTXdZkw93uY7GRbX8BPnm93Ye6AwvwrMsrZFGg1Lbmi07SWVov2ioN8zGMFDzZiiDSeQCa7WQHaGivGnMfGWLjmfGwkOeLXb5baD1sltp%2B%2BIfHAtl98TpmHgB16ZpGn6g3Bm5vLEA7yDC6HkbD3LSp0E2rGB7hKziLMvZ7mT6ONJFRe8Xp3ApYWSvxPr9cz0pJiI%2FF0blsZ8hyATDJMEyaQ2O%2FypcsViORr6hqYTmXHPuPKnMBfvYC8LQqi1exGw3vnyg6ptsB2Y'"
   ]
  },
  {
   "cell_type": "code",
   "execution_count": 17,
   "metadata": {},
   "outputs": [],
   "source": [
    "league = League(league_id=league_id, year=2021, espn_s2=s2, swid=SWID)\n",
    "\n",
    "# league = League(league_id=league_id, year=2020, espn_s2=s2, swid=SWID)\n",
    "\n",
    "# league = League(league_id=league_id, year=2020, espn_s2=s2, swid=SWID)"
   ]
  },
  {
   "cell_type": "code",
   "execution_count": 18,
   "metadata": {},
   "outputs": [
    {
     "data": {
      "text/plain": [
       "[Activity((Team(Don't Ekele Me),WAIVER ADDED,Player(Dolphins D/ST)) (Team(Don't Ekele Me),DROPPED,Player(Latavius Murray))),\n",
       " Activity((Team(Dick Cheese),WAIVER ADDED,Player(Tyrod Taylor))),\n",
       " Activity((Team(Dick Cheese),DROPPED,Player(Corey Davis))),\n",
       " Activity((Team(Sweetless in Seattle),DROPPED,Player(Texans D/ST)) (Team(Sweetless in Seattle),WAIVER ADDED,Player(Logan Thomas))),\n",
       " Activity((Team(Ice City USA),WAIVER ADDED,Player(Dontrell Hilliard)) (Team(Ice City USA),DROPPED,Player(Rashod Bateman))),\n",
       " Activity((Team(More than a  Thielen),DROPPED,Player(Jeff Wilson Jr.)) (Team(More than a  Thielen),WAIVER ADDED,Player(Foster Moreau))),\n",
       " Activity((Team(Frankel's Cankles),WAIVER ADDED,Player(Rams D/ST)) (Team(Frankel's Cankles),DROPPED,Player(Dolphins D/ST))),\n",
       " Activity((Team(Fumble .),WAIVER ADDED,Player(Graham Gano)) (Team(Fumble .),DROPPED,Player(Mike Davis))),\n",
       " Activity((Team(Ridley me This),WAIVER ADDED,Player(Colts D/ST)) (Team(Ridley me This),DROPPED,Player(Khalil Herbert))),\n",
       " Activity((Team(Sweetless in Seattle),WAIVER ADDED,Player(J.D. McKissic)) (Team(Sweetless in Seattle),DROPPED,Player(Dan Arnold))),\n",
       " Activity((Team(Dick Cheese),WAIVER ADDED,Player(Michael Badgley)) (Team(Dick Cheese),DROPPED,Player(Zane Gonzalez))),\n",
       " Activity((Team(Sweetless in Seattle),DROPPED,Player(Christian McCaffrey)) (Team(Sweetless in Seattle),WAIVER ADDED,Player(Rex Burkhead))),\n",
       " Activity((Team(Dick Cheese),DROPPED,Player(Hunter Henry)) (Team(Dick Cheese),WAIVER ADDED,Player(Jamaal Williams))),\n",
       " Activity((Team(Mostert's Monsters),WAIVER ADDED,Player(Derek Carr))),\n",
       " Activity((Team(Dick Cheese),WAIVER ADDED,Player(Vikings D/ST)) (Team(Dick Cheese),DROPPED,Player(Bears D/ST))),\n",
       " Activity((Team(Fumble .),WAIVER ADDED,Player(Kendrick Bourne)) (Team(Fumble .),DROPPED,Player(Joey Slye))),\n",
       " Activity((Team(Ridley me This),WAIVER ADDED,Player(Noah Fant)) (Team(Ridley me This),DROPPED,Player(Logan Thomas))),\n",
       " Activity((Team(Ridley me This),DROPPED,Player(C.J. Uzomah)) (Team(Ridley me This),WAIVER ADDED,Player(Logan Thomas))),\n",
       " Activity((Team(Ice City USA),DROPPED,Player(Randy Bullock)) (Team(Ice City USA),WAIVER ADDED,Player(Evan McPherson))),\n",
       " Activity((Team(Mostert's Monsters),DROPPED,Player(Adrian Peterson)) (Team(Mostert's Monsters),WAIVER ADDED,Player(Courtland Sutton))),\n",
       " Activity((Team(Repeat Donger),DROPPED,Player(Darrel Williams))),\n",
       " Activity((Team(Tier 2 never felt so good),WAIVER ADDED,Player(Michael Gallup))),\n",
       " Activity((Team(Dick Cheese),WAIVER ADDED,Player(Zane Gonzalez)) (Team(Dick Cheese),DROPPED,Player(Ryan Succop))),\n",
       " Activity((Team(Don't Ekele Me),DROPPED,Player(Marvin Jones Jr.)) (Team(Don't Ekele Me),WAIVER ADDED,Player(Tre'Quan Smith))),\n",
       " Activity((Team(Favre's Wranglers),WAIVER ADDED,Player(Tyler Higbee)) (Team(Favre's Wranglers),DROPPED,Player(Phillip Lindsay)))]"
      ]
     },
     "execution_count": 18,
     "metadata": {},
     "output_type": "execute_result"
    }
   ],
   "source": [
    "league.recent_activity()"
   ]
  },
  {
   "cell_type": "code",
   "execution_count": 13,
   "metadata": {},
   "outputs": [
    {
     "data": {
      "text/plain": [
       "Player(Washington D/ST)"
      ]
     },
     "execution_count": 13,
     "metadata": {},
     "output_type": "execute_result"
    }
   ],
   "source": [
    "a.actions[0][2]"
   ]
  },
  {
   "cell_type": "code",
   "execution_count": 79,
   "metadata": {},
   "outputs": [
    {
     "data": {
      "text/plain": [
       "Player(Kenyan Drake, points:12, projected:13)"
      ]
     },
     "execution_count": 79,
     "metadata": {},
     "output_type": "execute_result"
    }
   ],
   "source": [
    "league.box_scores()[1].home_lineup[1]"
   ]
  },
  {
   "cell_type": "code",
   "execution_count": 68,
   "metadata": {},
   "outputs": [
    {
     "data": {
      "text/plain": [
       "Team(Danica gave me a Higbee)"
      ]
     },
     "execution_count": 68,
     "metadata": {},
     "output_type": "execute_result"
    }
   ],
   "source": [
    "league.teams[0]\n",
    "# league.teams[4].roster[1].acquisitionType\n",
    "\n",
    "# league.free_agents(size=5,position='QB')[0]\n",
    "\n",
    "# league.power_rankings(week=14)"
   ]
  },
  {
   "cell_type": "code",
   "execution_count": 43,
   "metadata": {},
   "outputs": [
    {
     "data": {
      "text/plain": [
       "<bound method League.get_team_data of League(1094090, 2020)>"
      ]
     },
     "execution_count": 43,
     "metadata": {},
     "output_type": "execute_result"
    }
   ],
   "source": [
    "league.get_team_data"
   ]
  },
  {
   "cell_type": "code",
   "execution_count": 3,
   "metadata": {},
   "outputs": [],
   "source": [
    "activity = league.recent_activity() # returns List[Activity]\n"
   ]
  },
  {
   "cell_type": "code",
   "execution_count": 13,
   "metadata": {},
   "outputs": [
    {
     "data": {
      "text/plain": [
       "Player(DeSean Jackson)"
      ]
     },
     "execution_count": 13,
     "metadata": {},
     "output_type": "execute_result"
    }
   ],
   "source": [
    "activity[0].actions[1][2]"
   ]
  },
  {
   "cell_type": "code",
   "execution_count": 40,
   "metadata": {},
   "outputs": [
    {
     "data": {
      "text/plain": [
       "{0: {'points': 212.4,\n",
       "  'breakdown': {'receivingReceptions': 39.5,\n",
       "   'rushingYards': 0.2,\n",
       "   'receivingYards': 126.7,\n",
       "   'receivingTouchdowns': 42.0,\n",
       "   'receiving2PtConversions': 4.0},\n",
       "  'projected_points': 114.34,\n",
       "  'projected_breakdown': {'receivingReceptions': 26.38028694,\n",
       "   'lostFumbles': -0.618687168,\n",
       "   '57': 0.110975736,\n",
       "   'receivingYards': 64.68017382000001,\n",
       "   'receivingTouchdowns': 23.317270836,\n",
       "   'receiving2PtConversions': 0.451362202,\n",
       "   '63': 0.01458}},\n",
       " 16: {'points': 11.5,\n",
       "  'breakdown': {'receivingReceptions': 3.0, 'receivingYards': 8.5},\n",
       "  'projected_points': 12.94,\n",
       "  'projected_breakdown': {'receivingReceptions': 2.750250585,\n",
       "   '38': 8.44e-06,\n",
       "   'lostFumbles': -0.055404332,\n",
       "   'rushingYards': 0.12752269030000002,\n",
       "   'rushingTouchdowns': 0.041569416,\n",
       "   '57': 0.03456,\n",
       "   'rushing2PtConversions': 0.000868,\n",
       "   'receivingYards': 7.716840813000001,\n",
       "   'receivingTouchdowns': 2.241668322,\n",
       "   'receiving2PtConversions': 0.078871118,\n",
       "   '63': 0.001314}},\n",
       " 17: {'projected_points': 14.78,\n",
       "  'projected_breakdown': {'receivingReceptions': 2.6315384665,\n",
       "   '38': 1.224e-05,\n",
       "   'lostFumbles': -0.053357792,\n",
       "   'rushingYards': 0.1515740122,\n",
       "   'rushingTouchdowns': 0.079295034,\n",
       "   '57': 0.03788,\n",
       "   'rushing2PtConversions': 0.001822,\n",
       "   'receivingYards': 8.077964983,\n",
       "   'receivingTouchdowns': 3.7296826020000005,\n",
       "   'receiving2PtConversions': 0.121994596,\n",
       "   '63': 0.0012720000000000001}}}"
      ]
     },
     "execution_count": 40,
     "metadata": {},
     "output_type": "execute_result"
    }
   ],
   "source": [
    "league.teams[4].roster[6].stats"
   ]
  },
  {
   "cell_type": "code",
   "execution_count": 12,
   "metadata": {},
   "outputs": [
    {
     "data": {
      "text/plain": [
       "[('73.80', Team(Build That Waller)),\n",
       " ('63.00', Team(Jonesin' for a big Mack)),\n",
       " ('62.80', Team(Fumble .)),\n",
       " ('55.55', Team(Metlife Kitty)),\n",
       " ('53.30', Team(We Going Tyreeking!!)),\n",
       " ('52.75', Team(William Clawallace)),\n",
       " ('50.90', Team(Let me be frankel)),\n",
       " ('50.75', Team(Travis Seltzce Zekeberry Blast)),\n",
       " ('48.25', Team(Santa Rosa Guy Fieris)),\n",
       " ('45.25', Team(A lil Thielen  in my Chubb)),\n",
       " ('37.65', Team(Favre's Wranglers)),\n",
       " ('34.95', Team(Drake never learned to Reed))]"
      ]
     },
     "execution_count": 12,
     "metadata": {},
     "output_type": "execute_result"
    }
   ],
   "source": [
    "league2 = League(league_id=league_id, year=2019, espn_s2=s2, swid=SWID)\n",
    "league2.power_rankings(week=13)"
   ]
  },
  {
   "cell_type": "code",
   "execution_count": 9,
   "metadata": {},
   "outputs": [
    {
     "data": {
      "text/plain": [
       "[('76.35', Team(The Great Corn Julio)),\n",
       " ('58.45', Team(Team Kirk)),\n",
       " ('55.50', Team(Favre's Wranglers)),\n",
       " ('52.60', Team(Team Carson)),\n",
       " ('52.25', Team(Big German Wiener)),\n",
       " ('49.70', Team(Whatchu talkin bout, Wallace?)),\n",
       " ('44.10', Team(Team Swenson)),\n",
       " ('41.50', Team(No Percy)),\n",
       " ('40.60', Team(Josheph Gordon Levitt)),\n",
       " ('38.35', Team(Cruzin' with a  Half a Graham)),\n",
       " ('32.05', Team(The Real McCoy)),\n",
       " ('21.80', Team(So Bad))]"
      ]
     },
     "execution_count": 9,
     "metadata": {},
     "output_type": "execute_result"
    }
   ],
   "source": [
    "league2.power_rankings(week=12)"
   ]
  },
  {
   "cell_type": "code",
   "execution_count": 80,
   "metadata": {},
   "outputs": [
    {
     "data": {
      "text/plain": [
       "Pick(Le'Veon Bell, Team(For Whom The DeAngelo TDs))"
      ]
     },
     "execution_count": 80,
     "metadata": {},
     "output_type": "execute_result"
    }
   ],
   "source": [
    "league.box_scores(13)[-1].home_lineup[0].projected_points\n",
    "\n",
    "activity = league.recent_activity() # returns List[Activity]\n",
    "\n",
    "activity[21].actions[0]\n",
    "\n",
    "league.teams[4].wins\n",
    "\n",
    "league2 = League(league_id=league_id, year=2015, espn_s2=s2, swid=SWID)\n",
    "\n",
    "league2.teams[4].roster\n",
    "\n",
    "league.draft[0].bid_amount\n",
    "\n",
    "league2.draft[0]\n",
    "\n",
    "# activity"
   ]
  },
  {
   "cell_type": "code",
   "execution_count": 114,
   "metadata": {},
   "outputs": [
    {
     "name": "stdout",
     "output_type": "stream",
     "text": [
      "Le'Veon Bell\n"
     ]
    }
   ],
   "source": [
    "a=league2.draft[0].playerName\n",
    "print(a)"
   ]
  },
  {
   "cell_type": "code",
   "execution_count": 119,
   "metadata": {},
   "outputs": [
    {
     "data": {
      "text/plain": [
       "'Renuka Ramanathan'"
      ]
     },
     "execution_count": 119,
     "metadata": {},
     "output_type": "execute_result"
    }
   ],
   "source": [
    "league2.draft[0].team."
   ]
  },
  {
   "cell_type": "code",
   "execution_count": null,
   "metadata": {},
   "outputs": [],
   "source": []
  },
  {
   "cell_type": "code",
   "execution_count": 106,
   "metadata": {},
   "outputs": [
    {
     "ename": "SyntaxError",
     "evalue": "invalid syntax (<ipython-input-106-d8bae4bf3dd7>, line 1)",
     "output_type": "error",
     "traceback": [
      "\u001b[0;36m  File \u001b[0;32m\"<ipython-input-106-d8bae4bf3dd7>\"\u001b[0;36m, line \u001b[0;32m1\u001b[0m\n\u001b[0;31m    dir draft\u001b[0m\n\u001b[0m            ^\u001b[0m\n\u001b[0;31mSyntaxError\u001b[0m\u001b[0;31m:\u001b[0m invalid syntax\n"
     ]
    }
   ],
   "source": [
    "dir draft"
   ]
  },
  {
   "cell_type": "code",
   "execution_count": 108,
   "metadata": {},
   "outputs": [
    {
     "ename": "TypeError",
     "evalue": "'Team' object is not subscriptable",
     "output_type": "error",
     "traceback": [
      "\u001b[0;31m--------------------------------------------------------------------------\u001b[0m",
      "\u001b[0;31mTypeError\u001b[0m                                Traceback (most recent call last)",
      "\u001b[0;32m<ipython-input-108-307523b1a87b>\u001b[0m in \u001b[0;36m<module>\u001b[0;34m\u001b[0m\n\u001b[0;32m----> 1\u001b[0;31m \u001b[0mb\u001b[0m\u001b[0;34m[\u001b[0m\u001b[0;34m-\u001b[0m\u001b[0;36m1\u001b[0m\u001b[0;34m]\u001b[0m\u001b[0;34m\u001b[0m\u001b[0;34m\u001b[0m\u001b[0m\n\u001b[0m",
      "\u001b[0;31mTypeError\u001b[0m: 'Team' object is not subscriptable"
     ]
    }
   ],
   "source": [
    "b"
   ]
  },
  {
   "cell_type": "code",
   "execution_count": 94,
   "metadata": {},
   "outputs": [
    {
     "data": {
      "text/plain": [
       "\"Le'Veon Bell\""
      ]
     },
     "execution_count": 94,
     "metadata": {},
     "output_type": "execute_result"
    }
   ],
   "source": [
    "a"
   ]
  },
  {
   "cell_type": "code",
   "execution_count": 87,
   "metadata": {},
   "outputs": [
    {
     "data": {
      "text/plain": [
       "espn_api.football.pick.Pick"
      ]
     },
     "execution_count": 87,
     "metadata": {},
     "output_type": "execute_result"
    }
   ],
   "source": [
    "type(a)"
   ]
  },
  {
   "cell_type": "code",
   "execution_count": 47,
   "metadata": {},
   "outputs": [
    {
     "data": {
      "text/plain": [
       "7"
      ]
     },
     "execution_count": 47,
     "metadata": {},
     "output_type": "execute_result"
    }
   ],
   "source": [
    "league2.teams[4].standing"
   ]
  },
  {
   "cell_type": "code",
   "execution_count": 71,
   "metadata": {},
   "outputs": [
    {
     "data": {
      "text/plain": [
       "[Team(Whatchu talkin bout, Wallace?),\n",
       " Team(The Real McCoy),\n",
       " Team(The Great Corn Julio),\n",
       " Team(Cruzin' with a  Half a Graham),\n",
       " Team(Josheph Gordon Levitt),\n",
       " Team(Big German Wiener),\n",
       " Team(No Percy),\n",
       " Team(Team Swenson),\n",
       " Team(So Bad),\n",
       " Team(Favre's Wranglers),\n",
       " Team(Team Carson),\n",
       " Team(Team Kirk)]"
      ]
     },
     "execution_count": 71,
     "metadata": {},
     "output_type": "execute_result"
    }
   ],
   "source": [
    "league2.teams"
   ]
  },
  {
   "cell_type": "code",
   "execution_count": null,
   "metadata": {},
   "outputs": [],
   "source": []
  },
  {
   "cell_type": "code",
   "execution_count": 48,
   "metadata": {},
   "outputs": [
    {
     "data": {
      "text/plain": [
       "range(2013, 2020)"
      ]
     },
     "execution_count": 48,
     "metadata": {},
     "output_type": "execute_result"
    }
   ],
   "source": [
    "range(2013,2020)"
   ]
  },
  {
   "cell_type": "code",
   "execution_count": 72,
   "metadata": {},
   "outputs": [],
   "source": [
    "league2 = League(league_id=league_id, year=2020, espn_s2=s2, swid=SWID)"
   ]
  },
  {
   "cell_type": "code",
   "execution_count": 76,
   "metadata": {},
   "outputs": [
    {
     "data": {
      "text/plain": [
       "[Team(Danica gave me a Higbee),\n",
       " Team(Let me be frankel),\n",
       " Team(Just Joshin'),\n",
       " Team(Dak's Butt Kickers ),\n",
       " Team(Ice City USA),\n",
       " Team(Wolf Pussy),\n",
       " Team(Cookin Russells),\n",
       " Team(Tier 2 never felt so good),\n",
       " Team(Sweetless in Seattle),\n",
       " Team(Favre's Wranglers),\n",
       " Team(2 Many Cooks 2 Many),\n",
       " Team(Fumble .)]"
      ]
     },
     "execution_count": 76,
     "metadata": {},
     "output_type": "execute_result"
    }
   ],
   "source": [
    "league2.teams\n"
   ]
  },
  {
   "cell_type": "code",
   "execution_count": 79,
   "metadata": {},
   "outputs": [
    {
     "name": "stdout",
     "output_type": "stream",
     "text": [
      "Team(Danica gave me a Higbee)\n",
      "6\n",
      "Team(Let me be frankel)\n",
      "12\n",
      "Team(Just Joshin')\n",
      "3\n",
      "Team(Dak's Butt Kickers )\n",
      "8\n",
      "Team(Ice City USA)\n",
      "1\n",
      "Team(Wolf Pussy)\n",
      "4\n",
      "Team(Cookin Russells)\n",
      "5\n",
      "Team(Tier 2 never felt so good)\n",
      "7\n",
      "Team(Sweetless in Seattle)\n",
      "2\n",
      "Team(Favre's Wranglers)\n",
      "11\n",
      "Team(2 Many Cooks 2 Many)\n",
      "10\n",
      "Team(Fumble .)\n",
      "9\n"
     ]
    }
   ],
   "source": [
    "for i in league2.teams:\n",
    "    print(i)\n",
    "    print(i.standing)"
   ]
  },
  {
   "cell_type": "code",
   "execution_count": 64,
   "metadata": {},
   "outputs": [
    {
     "data": {
      "text/plain": [
       "1"
      ]
     },
     "execution_count": 64,
     "metadata": {},
     "output_type": "execute_result"
    }
   ],
   "source": [
    "league2.teams[4].standing"
   ]
  },
  {
   "cell_type": "code",
   "execution_count": 67,
   "metadata": {},
   "outputs": [
    {
     "data": {
      "text/plain": [
       "8"
      ]
     },
     "execution_count": 67,
     "metadata": {},
     "output_type": "execute_result"
    }
   ],
   "source": [
    "league2.teams[0].standing"
   ]
  },
  {
   "cell_type": "code",
   "execution_count": 57,
   "metadata": {},
   "outputs": [
    {
     "name": "stdout",
     "output_type": "stream",
     "text": [
      "Team(Josheph Gordon Levitt)\n",
      "6\n",
      "Team(Odell's Last Stand)\n",
      "7\n",
      "Team(Ball So Hard University)\n",
      "8\n",
      "Team(Santa Rosa Guy Fieris)\n",
      "8\n",
      "Team(Santa Rosa Guy Fieris)\n",
      "5\n",
      "Team(Santa Rosa Guy Fieris)\n",
      "10\n",
      "Team(Ice City USA)\n",
      "1\n"
     ]
    }
   ],
   "source": [
    "years_ls = [int(i) for i in list(np.linspace(2014,2020,num=7))]\n",
    "\n",
    "for i in years_ls:\n",
    "    league2 = League(league_id=league_id, year=i, espn_s2=s2, swid=SWID)\n",
    "    wins = league2.teams[4].standing\n",
    "    print(league2.teams[4])\n",
    "    print(wins)\n",
    "    \n",
    "    "
   ]
  },
  {
   "cell_type": "code",
   "execution_count": 106,
   "metadata": {},
   "outputs": [
    {
     "name": "stdout",
     "output_type": "stream",
     "text": [
      "Team(No Percy)\n",
      "Team(Dr. Gronkenstein)\n",
      "Team(A-Aron is all you Snead)\n",
      "Team(Fumble .)\n",
      "Team(Mahomes Alone 2 Lost in Ru York)\n",
      "Team(Santa Rosa Guy Fieris)\n",
      "Team(2 Many Cooks 2 Many)\n"
     ]
    }
   ],
   "source": [
    "years_ls = [int(i) for i in list(np.linspace(2014,2020,num=7))]\n",
    "\n",
    "for i in years_ls:\n",
    "    league2 = League(league_id=league_id, year=i, espn_s2=s2, swid=SWID)\n",
    "    pts_against = league2.most_points_against()\n",
    "    print(pts_against)\n",
    "\n",
    "    \n",
    "    "
   ]
  },
  {
   "cell_type": "code",
   "execution_count": 113,
   "metadata": {},
   "outputs": [
    {
     "name": "stdout",
     "output_type": "stream",
     "text": [
      "Team(So Bad)\n",
      "Team(Olsen Twins  Love Dez Nuts)\n",
      "Team(I never learned to Reed!)\n",
      "Team(Born again Mcaffery)\n",
      "Team(Fumble .)\n",
      "Team(Favre's Wranglers)\n",
      "Team(Let me be frankel)\n"
     ]
    }
   ],
   "source": [
    "years_ls = [int(i) for i in list(np.linspace(2014,2020,num=7))]\n",
    "\n",
    "for i in years_ls:\n",
    "    league2 = League(league_id=league_id, year=i, espn_s2=s2, swid=SWID)\n",
    "    pts_against = league2.least_scorer()\n",
    "    print(pts_against)\n",
    "\n",
    "    \n",
    "    "
   ]
  },
  {
   "cell_type": "code",
   "execution_count": 117,
   "metadata": {},
   "outputs": [
    {
     "name": "stdout",
     "output_type": "stream",
     "text": [
      "Team(So Bad)\n",
      "Team(Olsen Twins  Love Dez Nuts)\n",
      "Team(I never learned to Reed!)\n",
      "Team(Born again Mcaffery)\n",
      "Team(Fumble .)\n",
      "Team(Favre's Wranglers)\n",
      "Team(Let me be frankel)\n"
     ]
    }
   ],
   "source": [
    "# Lowest scoring teams\n",
    "years_ls = [int(i) for i in list(np.linspace(2014,2020,num=7))]\n",
    "\n",
    "for i in years_ls:\n",
    "    league2 = League(league_id=league_id, year=i, espn_s2=s2, swid=SWID)\n",
    "    pts_against = league2.least_scorer()\n",
    "    print(pts_against)"
   ]
  },
  {
   "cell_type": "code",
   "execution_count": 119,
   "metadata": {},
   "outputs": [
    {
     "name": "stdout",
     "output_type": "stream",
     "text": [
      "Team(Team Swenson)\n",
      "Team(Rawls to the Wall)\n",
      "Team(A-Aron is all you Snead)\n",
      "Team(Hangin with Mr. Hernandez)\n",
      "Team(Let me be frankel)\n",
      "Team(Favre's Wranglers)\n",
      "Team(Fumble .)\n"
     ]
    }
   ],
   "source": [
    "# Last place finisher\n",
    "\n",
    "years_ls = [int(i) for i in list(np.linspace(2014,2020,num=7))]\n",
    "\n",
    "for i in years_ls:\n",
    "    league2 = League(league_id=league_id, year=i, espn_s2=s2, swid=SWID)\n",
    "    pts_against = league2.standings()[-1]\n",
    "    print(pts_against)"
   ]
  },
  {
   "cell_type": "code",
   "execution_count": 125,
   "metadata": {},
   "outputs": [
    {
     "data": {
      "text/plain": [
       "16"
      ]
     },
     "execution_count": 125,
     "metadata": {},
     "output_type": "execute_result"
    }
   ],
   "source": [
    "league2."
   ]
  },
  {
   "cell_type": "code",
   "execution_count": null,
   "metadata": {},
   "outputs": [],
   "source": []
  }
 ],
 "metadata": {
  "kernelspec": {
   "display_name": "Python 3",
   "language": "python",
   "name": "python3"
  },
  "language_info": {
   "codemirror_mode": {
    "name": "ipython",
    "version": 3
   },
   "file_extension": ".py",
   "mimetype": "text/x-python",
   "name": "python",
   "nbconvert_exporter": "python",
   "pygments_lexer": "ipython3",
   "version": "3.7.4"
  }
 },
 "nbformat": 4,
 "nbformat_minor": 2
}
